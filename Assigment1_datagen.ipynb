{
 "cells": [
  {
   "cell_type": "markdown",
   "id": "5a927680-0c59-4d9e-a9d0-4941e4aaec09",
   "metadata": {},
   "source": [
    "# Data Preperation for Top Streamers on Twitch\n",
    "\n",
    "In this notebook we focus on the data loading, basic exploring, and prepatation.\n",
    "\n",
    "This notebook follows closely the previous data cleaning toturial from last week. We will be using the same dataset and producing the same output (not the output from the modified version you would have completed in your exercise)."
   ]
  },
  {
   "cell_type": "code",
   "execution_count": 63,
   "id": "e7241844-636e-47d4-8fa3-7a6a2c7215a4",
   "metadata": {},
   "outputs": [],
   "source": [
    "import numpy as np\n",
    "import pandas as pd\n",
    "from sklearn.preprocessing import LabelEncoder\n",
    "from sklearn.model_selection import train_test_split\n",
    "from sklearn import preprocessing\n",
    "from sklearn.impute import SimpleImputer\n",
    "from sklearn.impute import SimpleImputer\n",
    "# set random seed to ensure that results are repeatable\n",
    "np.random.seed(1)"
   ]
  },
  {
   "cell_type": "code",
   "execution_count": 64,
   "id": "64f5c940-a342-4148-a759-482e9fa9c9ac",
   "metadata": {},
   "outputs": [
    {
     "data": {
      "text/html": [
       "<div>\n",
       "<style scoped>\n",
       "    .dataframe tbody tr th:only-of-type {\n",
       "        vertical-align: middle;\n",
       "    }\n",
       "\n",
       "    .dataframe tbody tr th {\n",
       "        vertical-align: top;\n",
       "    }\n",
       "\n",
       "    .dataframe thead th {\n",
       "        text-align: right;\n",
       "    }\n",
       "</style>\n",
       "<table border=\"1\" class=\"dataframe\">\n",
       "  <thead>\n",
       "    <tr style=\"text-align: right;\">\n",
       "      <th></th>\n",
       "      <th>Channel</th>\n",
       "      <th>Watch time(Minutes)</th>\n",
       "      <th>Stream time(minutes)</th>\n",
       "      <th>Peak viewers</th>\n",
       "      <th>Average viewers</th>\n",
       "      <th>Followers</th>\n",
       "      <th>Follower Count</th>\n",
       "      <th>Followers gained</th>\n",
       "      <th>Views gained</th>\n",
       "      <th>Partnered</th>\n",
       "      <th>Mature</th>\n",
       "      <th>Language</th>\n",
       "    </tr>\n",
       "  </thead>\n",
       "  <tbody>\n",
       "    <tr>\n",
       "      <th>0</th>\n",
       "      <td>Tfue</td>\n",
       "      <td>3671000070</td>\n",
       "      <td>123660</td>\n",
       "      <td>285644</td>\n",
       "      <td>29602</td>\n",
       "      <td>8938903</td>\n",
       "      <td>1</td>\n",
       "      <td>2068424</td>\n",
       "      <td>78998587</td>\n",
       "      <td>True</td>\n",
       "      <td>False</td>\n",
       "      <td>English</td>\n",
       "    </tr>\n",
       "    <tr>\n",
       "      <th>1</th>\n",
       "      <td>shroud</td>\n",
       "      <td>888505170</td>\n",
       "      <td>30240</td>\n",
       "      <td>471281</td>\n",
       "      <td>29612</td>\n",
       "      <td>7744066</td>\n",
       "      <td>1</td>\n",
       "      <td>833587</td>\n",
       "      <td>30621257</td>\n",
       "      <td>True</td>\n",
       "      <td>False</td>\n",
       "      <td>English</td>\n",
       "    </tr>\n",
       "    <tr>\n",
       "      <th>2</th>\n",
       "      <td>Myth</td>\n",
       "      <td>1479214575</td>\n",
       "      <td>134760</td>\n",
       "      <td>122552</td>\n",
       "      <td>9396</td>\n",
       "      <td>6726893</td>\n",
       "      <td>1</td>\n",
       "      <td>1421811</td>\n",
       "      <td>37384058</td>\n",
       "      <td>True</td>\n",
       "      <td>False</td>\n",
       "      <td>English</td>\n",
       "    </tr>\n",
       "  </tbody>\n",
       "</table>\n",
       "</div>"
      ],
      "text/plain": [
       "  Channel  Watch time(Minutes)  Stream time(minutes)  Peak viewers  \\\n",
       "0    Tfue           3671000070                123660        285644   \n",
       "1  shroud            888505170                 30240        471281   \n",
       "2    Myth           1479214575                134760        122552   \n",
       "\n",
       "   Average viewers  Followers  Follower Count  Followers gained  Views gained  \\\n",
       "0            29602    8938903               1           2068424      78998587   \n",
       "1            29612    7744066               1            833587      30621257   \n",
       "2             9396    6726893               1           1421811      37384058   \n",
       "\n",
       "   Partnered  Mature Language  \n",
       "0       True   False  English  \n",
       "1       True   False  English  \n",
       "2       True   False  English  "
      ]
     },
     "execution_count": 64,
     "metadata": {},
     "output_type": "execute_result"
    }
   ],
   "source": [
    "# load data\n",
    "streamers = pd.read_csv(\"twitchdata.csv\")\n",
    "\n",
    "streamers.head(3)"
   ]
  },
  {
   "cell_type": "code",
   "execution_count": 65,
   "id": "eff6d7d8-b990-43c5-9917-2c0444a9a6d0",
   "metadata": {},
   "outputs": [
    {
     "data": {
      "text/html": [
       "<div>\n",
       "<style scoped>\n",
       "    .dataframe tbody tr th:only-of-type {\n",
       "        vertical-align: middle;\n",
       "    }\n",
       "\n",
       "    .dataframe tbody tr th {\n",
       "        vertical-align: top;\n",
       "    }\n",
       "\n",
       "    .dataframe thead th {\n",
       "        text-align: right;\n",
       "    }\n",
       "</style>\n",
       "<table border=\"1\" class=\"dataframe\">\n",
       "  <thead>\n",
       "    <tr style=\"text-align: right;\">\n",
       "      <th></th>\n",
       "      <th>Channel</th>\n",
       "      <th>Watch time(Minutes)</th>\n",
       "      <th>Stream time(minutes)</th>\n",
       "      <th>Peak viewers</th>\n",
       "      <th>Average viewers</th>\n",
       "      <th>Followers</th>\n",
       "      <th>Follower Count</th>\n",
       "      <th>Followers gained</th>\n",
       "      <th>Views gained</th>\n",
       "      <th>Partnered</th>\n",
       "      <th>Mature</th>\n",
       "      <th>Language</th>\n",
       "    </tr>\n",
       "  </thead>\n",
       "  <tbody>\n",
       "    <tr>\n",
       "      <th>0</th>\n",
       "      <td>Tfue</td>\n",
       "      <td>3671000070</td>\n",
       "      <td>123660</td>\n",
       "      <td>285644</td>\n",
       "      <td>29602</td>\n",
       "      <td>8938903</td>\n",
       "      <td>1</td>\n",
       "      <td>2068424</td>\n",
       "      <td>78998587</td>\n",
       "      <td>True</td>\n",
       "      <td>False</td>\n",
       "      <td>English</td>\n",
       "    </tr>\n",
       "    <tr>\n",
       "      <th>1</th>\n",
       "      <td>shroud</td>\n",
       "      <td>888505170</td>\n",
       "      <td>30240</td>\n",
       "      <td>471281</td>\n",
       "      <td>29612</td>\n",
       "      <td>7744066</td>\n",
       "      <td>1</td>\n",
       "      <td>833587</td>\n",
       "      <td>30621257</td>\n",
       "      <td>True</td>\n",
       "      <td>False</td>\n",
       "      <td>English</td>\n",
       "    </tr>\n",
       "    <tr>\n",
       "      <th>2</th>\n",
       "      <td>Myth</td>\n",
       "      <td>1479214575</td>\n",
       "      <td>134760</td>\n",
       "      <td>122552</td>\n",
       "      <td>9396</td>\n",
       "      <td>6726893</td>\n",
       "      <td>1</td>\n",
       "      <td>1421811</td>\n",
       "      <td>37384058</td>\n",
       "      <td>True</td>\n",
       "      <td>False</td>\n",
       "      <td>English</td>\n",
       "    </tr>\n",
       "    <tr>\n",
       "      <th>3</th>\n",
       "      <td>Rubius</td>\n",
       "      <td>2588632635</td>\n",
       "      <td>58275</td>\n",
       "      <td>240096</td>\n",
       "      <td>42948</td>\n",
       "      <td>5751354</td>\n",
       "      <td>1</td>\n",
       "      <td>3820532</td>\n",
       "      <td>58599449</td>\n",
       "      <td>True</td>\n",
       "      <td>False</td>\n",
       "      <td>Spanish</td>\n",
       "    </tr>\n",
       "    <tr>\n",
       "      <th>4</th>\n",
       "      <td>pokimane</td>\n",
       "      <td>964334055</td>\n",
       "      <td>56505</td>\n",
       "      <td>112160</td>\n",
       "      <td>16026</td>\n",
       "      <td>5367605</td>\n",
       "      <td>1</td>\n",
       "      <td>2085831</td>\n",
       "      <td>45579002</td>\n",
       "      <td>True</td>\n",
       "      <td>False</td>\n",
       "      <td>English</td>\n",
       "    </tr>\n",
       "  </tbody>\n",
       "</table>\n",
       "</div>"
      ],
      "text/plain": [
       "    Channel  Watch time(Minutes)  Stream time(minutes)  Peak viewers  \\\n",
       "0      Tfue           3671000070                123660        285644   \n",
       "1    shroud            888505170                 30240        471281   \n",
       "2      Myth           1479214575                134760        122552   \n",
       "3    Rubius           2588632635                 58275        240096   \n",
       "4  pokimane            964334055                 56505        112160   \n",
       "\n",
       "   Average viewers  Followers  Follower Count  Followers gained  Views gained  \\\n",
       "0            29602    8938903               1           2068424      78998587   \n",
       "1            29612    7744066               1            833587      30621257   \n",
       "2             9396    6726893               1           1421811      37384058   \n",
       "3            42948    5751354               1           3820532      58599449   \n",
       "4            16026    5367605               1           2085831      45579002   \n",
       "\n",
       "   Partnered  Mature Language  \n",
       "0       True   False  English  \n",
       "1       True   False  English  \n",
       "2       True   False  English  \n",
       "3       True   False  Spanish  \n",
       "4       True   False  English  "
      ]
     },
     "execution_count": 65,
     "metadata": {},
     "output_type": "execute_result"
    }
   ],
   "source": [
    "streamers.head()"
   ]
  },
  {
   "cell_type": "code",
   "execution_count": 66,
   "id": "9a6e3e3f-a639-49ea-84c0-0cb2dcb0618c",
   "metadata": {},
   "outputs": [
    {
     "name": "stdout",
     "output_type": "stream",
     "text": [
      "<class 'pandas.core.frame.DataFrame'>\n",
      "RangeIndex: 1000 entries, 0 to 999\n",
      "Data columns (total 12 columns):\n",
      " #   Column                Non-Null Count  Dtype \n",
      "---  ------                --------------  ----- \n",
      " 0   Channel               1000 non-null   object\n",
      " 1   Watch time(Minutes)   1000 non-null   int64 \n",
      " 2   Stream time(minutes)  1000 non-null   int64 \n",
      " 3   Peak viewers          1000 non-null   int64 \n",
      " 4   Average viewers       1000 non-null   int64 \n",
      " 5   Followers             1000 non-null   int64 \n",
      " 6   Follower Count        1000 non-null   int64 \n",
      " 7   Followers gained      1000 non-null   int64 \n",
      " 8   Views gained          1000 non-null   int64 \n",
      " 9   Partnered             1000 non-null   bool  \n",
      " 10  Mature                1000 non-null   bool  \n",
      " 11  Language              1000 non-null   object\n",
      "dtypes: bool(2), int64(8), object(2)\n",
      "memory usage: 80.2+ KB\n"
     ]
    }
   ],
   "source": [
    "streamers.info()"
   ]
  },
  {
   "cell_type": "markdown",
   "id": "1a549394-ea7d-4629-bc6a-83ebd73de679",
   "metadata": {},
   "source": [
    "With Streamers.info we can see that data comprises a total of 1000 entries with 12 columns out of which \n",
    "two coloumns are object type and 7 are int type and two are bool.\n"
   ]
  },
  {
   "cell_type": "code",
   "execution_count": 67,
   "id": "bb8fd3b6-55d5-432e-bd18-1732497ecbef",
   "metadata": {},
   "outputs": [
    {
     "data": {
      "text/plain": [
       "318063.0"
      ]
     },
     "execution_count": 67,
     "metadata": {},
     "output_type": "execute_result"
    }
   ],
   "source": [
    "#streamers.describe()\n",
    "streamers.Followers.median()"
   ]
  },
  {
   "cell_type": "code",
   "execution_count": 68,
   "id": "6b920f2b-9111-432a-ab18-6144774ef2a6",
   "metadata": {},
   "outputs": [
    {
     "data": {
      "text/plain": [
       "Channel                 0\n",
       "Watch time(Minutes)     0\n",
       "Stream time(minutes)    0\n",
       "Peak viewers            0\n",
       "Average viewers         0\n",
       "Followers               0\n",
       "Follower Count          0\n",
       "Followers gained        0\n",
       "Views gained            0\n",
       "Partnered               0\n",
       "Mature                  0\n",
       "Language                0\n",
       "dtype: int64"
      ]
     },
     "execution_count": 68,
     "metadata": {},
     "output_type": "execute_result"
    }
   ],
   "source": [
    "streamers.isna().sum()"
   ]
  },
  {
   "cell_type": "code",
   "execution_count": 69,
   "id": "d4bf93bf-1313-4a53-8843-a88093fb325e",
   "metadata": {},
   "outputs": [
    {
     "data": {
      "text/plain": [
       "['Channel', 'Language']"
      ]
     },
     "execution_count": 69,
     "metadata": {},
     "output_type": "execute_result"
    }
   ],
   "source": [
    "# create a list of these catagorical variables\n",
    "category_var_list = list(streamers.select_dtypes(include='object').columns)\n",
    "category_var_list"
   ]
  },
  {
   "cell_type": "code",
   "execution_count": 70,
   "id": "8b58372a-a616-4f13-aa82-8c56427f8485",
   "metadata": {},
   "outputs": [],
   "source": [
    "from sklearn.preprocessing import LabelEncoder"
   ]
  },
  {
   "cell_type": "code",
   "execution_count": 71,
   "id": "082f7ac7-8857-447a-a9e7-a824067a7720",
   "metadata": {},
   "outputs": [],
   "source": [
    "labelencoder = LabelEncoder()\n",
    "streamers['Channel'] = labelencoder.fit_transform(streamers['Channel'])\n",
    "streamers['Language'] = labelencoder.fit_transform(streamers['Language'])"
   ]
  },
  {
   "cell_type": "code",
   "execution_count": 72,
   "id": "0f3ca485-f157-46f3-98a9-9cf1316d536a",
   "metadata": {},
   "outputs": [
    {
     "name": "stdout",
     "output_type": "stream",
     "text": [
      "<class 'pandas.core.frame.DataFrame'>\n",
      "RangeIndex: 1000 entries, 0 to 999\n",
      "Data columns (total 12 columns):\n",
      " #   Column                Non-Null Count  Dtype\n",
      "---  ------                --------------  -----\n",
      " 0   Channel               1000 non-null   int32\n",
      " 1   Watch time(Minutes)   1000 non-null   int64\n",
      " 2   Stream time(minutes)  1000 non-null   int64\n",
      " 3   Peak viewers          1000 non-null   int64\n",
      " 4   Average viewers       1000 non-null   int64\n",
      " 5   Followers             1000 non-null   int64\n",
      " 6   Follower Count        1000 non-null   int64\n",
      " 7   Followers gained      1000 non-null   int64\n",
      " 8   Views gained          1000 non-null   int64\n",
      " 9   Partnered             1000 non-null   bool \n",
      " 10  Mature                1000 non-null   bool \n",
      " 11  Language              1000 non-null   int32\n",
      "dtypes: bool(2), int32(2), int64(8)\n",
      "memory usage: 72.4 KB\n"
     ]
    }
   ],
   "source": [
    "streamers.info()"
   ]
  },
  {
   "cell_type": "code",
   "execution_count": 86,
   "id": "95a9f3ad-5091-4c5e-9da9-eb07c5eaf838",
   "metadata": {},
   "outputs": [],
   "source": [
    "# split the data into validation and training set\n",
    "train_df, test_df = train_test_split(streamers, test_size=0.3)\n",
    "\n",
    "# to reduce repetition in later code, create variables to represent the columns\n",
    "# that are our predictors and target\n",
    "target = 'Follower Count'\n",
    "predictors = list(streamers.columns)\n",
    "predictors.remove(target)"
   ]
  },
  {
   "cell_type": "code",
   "execution_count": 87,
   "id": "21307a6e-fa1c-432c-b93a-611e2e1afa79",
   "metadata": {},
   "outputs": [],
   "source": [
    "# create a standard scaler and fit it to the training set of predictors\n",
    "scaler = preprocessing.StandardScaler()\n",
    "cols_to_stdize = predictors               \n",
    "               \n"
   ]
  },
  {
   "cell_type": "code",
   "execution_count": 88,
   "id": "0704f1ee-6b34-4608-b577-86a27c2ced45",
   "metadata": {},
   "outputs": [],
   "source": [
    "# Transform the predictors of training and validation sets\n",
    "train_df[cols_to_stdize] = scaler.fit_transform(train_df[cols_to_stdize]) # train_predictors is not a numpy array\n",
    "test_df[cols_to_stdize] = scaler.transform(test_df[cols_to_stdize]) # validation_target is now a series object\n"
   ]
  },
  {
   "cell_type": "code",
   "execution_count": 89,
   "id": "daf9daa7-e0e2-4e1a-ac27-cec9567034e5",
   "metadata": {},
   "outputs": [],
   "source": [
    "train_X = train_df[predictors]\n",
    "train_y = train_df[target] # train_target is now a series objecttrain_df.to_csv('airbnb_train_df.csv', index=False)\n",
    "test_X = test_df[predictors]\n",
    "test_y = test_df[target] # validation_target is now a series object\n"
   ]
  },
  {
   "cell_type": "code",
   "execution_count": 90,
   "id": "da9f0c85-e45e-41ac-b36b-0af19632a014",
   "metadata": {},
   "outputs": [],
   "source": [
    "\n",
    "train_df.to_csv('streamers_train_df.csv', index=False)\n",
    "train_X.to_csv('streamers_train_X.csv', index=False)\n",
    "train_y.to_csv('streamers_train_y.csv', index=False)\n",
    "test_df.to_csv('streamers_test_df.csv', index=False)\n",
    "test_X.to_csv('streamers_test_X.csv', index=False)\n",
    "test_y.to_csv('streamers_test_y.csv', index=False)"
   ]
  },
  {
   "cell_type": "code",
   "execution_count": null,
   "id": "ce6209b7-1a46-4e6e-93be-829d4f630f71",
   "metadata": {},
   "outputs": [],
   "source": []
  }
 ],
 "metadata": {
  "kernelspec": {
   "display_name": "Python 3 (ipykernel)",
   "language": "python",
   "name": "python3"
  },
  "language_info": {
   "codemirror_mode": {
    "name": "ipython",
    "version": 3
   },
   "file_extension": ".py",
   "mimetype": "text/x-python",
   "name": "python",
   "nbconvert_exporter": "python",
   "pygments_lexer": "ipython3",
   "version": "3.9.13"
  }
 },
 "nbformat": 4,
 "nbformat_minor": 5
}
