{
 "cells": [
  {
   "cell_type": "markdown",
   "id": "83a0ca39-11ce-4551-8413-a4c3323af983",
   "metadata": {},
   "source": [
    "The file comprises of data belonging to online bloggers in 'Twitch' regarding gaming and Twitch has been home to gaming streamers since its launch. The data contains top 1000 streamers from recent years. Data consists of number of columns like number of viewers, Number of active users, followers gained and other relevant coloumns "
   ]
  },
  {
   "cell_type": "code",
   "execution_count": 1,
   "id": "bbd2a786-8f9c-4118-ae3d-5bd34485a39c",
   "metadata": {},
   "outputs": [],
   "source": [
    "# import packages\n",
    "import pandas as pd\n",
    "import numpy as np\n",
    "from sklearn.model_selection import train_test_split\n",
    "from sklearn.linear_model import LogisticRegression\n",
    "from matplotlib import pyplot as plt\n",
    "from sklearn.tree import DecisionTreeClassifier\n",
    "from sklearn.svm import SVC\n",
    "from sklearn.ensemble import RandomForestClassifier, GradientBoostingClassifier, AdaBoostClassifier\n",
    "from sklearn.metrics import confusion_matrix, accuracy_score, precision_score, recall_score, f1_score\n",
    "from sklearn.model_selection import GridSearchCV, RandomizedSearchCV\n",
    "from xgboost import XGBClassifier\n",
    "from sklearn.neural_network import MLPClassifier\n",
    "import tensorflow as tf\n",
    "from tensorflow import keras\n",
    "\n",
    "\n",
    "np.random.seed(1)\n",
    "tf.random.set_seed(1)"
   ]
  },
  {
   "cell_type": "code",
   "execution_count": 2,
   "id": "9775ec72-9e22-4376-b0fb-b8962b255112",
   "metadata": {},
   "outputs": [
    {
     "data": {
      "text/html": [
       "<div>\n",
       "<style scoped>\n",
       "    .dataframe tbody tr th:only-of-type {\n",
       "        vertical-align: middle;\n",
       "    }\n",
       "\n",
       "    .dataframe tbody tr th {\n",
       "        vertical-align: top;\n",
       "    }\n",
       "\n",
       "    .dataframe thead th {\n",
       "        text-align: right;\n",
       "    }\n",
       "</style>\n",
       "<table border=\"1\" class=\"dataframe\">\n",
       "  <thead>\n",
       "    <tr style=\"text-align: right;\">\n",
       "      <th></th>\n",
       "      <th>Channel</th>\n",
       "      <th>Watch time(Minutes)</th>\n",
       "      <th>Stream time(minutes)</th>\n",
       "      <th>Peak viewers</th>\n",
       "      <th>Average viewers</th>\n",
       "      <th>Followers</th>\n",
       "      <th>Follower Count</th>\n",
       "      <th>Followers gained</th>\n",
       "      <th>Views gained</th>\n",
       "      <th>Partnered</th>\n",
       "      <th>Mature</th>\n",
       "      <th>Language</th>\n",
       "    </tr>\n",
       "  </thead>\n",
       "  <tbody>\n",
       "    <tr>\n",
       "      <th>0</th>\n",
       "      <td>Tfue</td>\n",
       "      <td>3671000070</td>\n",
       "      <td>123660</td>\n",
       "      <td>285644</td>\n",
       "      <td>29602</td>\n",
       "      <td>8938903</td>\n",
       "      <td>1</td>\n",
       "      <td>2068424</td>\n",
       "      <td>78998587</td>\n",
       "      <td>True</td>\n",
       "      <td>False</td>\n",
       "      <td>English</td>\n",
       "    </tr>\n",
       "    <tr>\n",
       "      <th>1</th>\n",
       "      <td>shroud</td>\n",
       "      <td>888505170</td>\n",
       "      <td>30240</td>\n",
       "      <td>471281</td>\n",
       "      <td>29612</td>\n",
       "      <td>7744066</td>\n",
       "      <td>1</td>\n",
       "      <td>833587</td>\n",
       "      <td>30621257</td>\n",
       "      <td>True</td>\n",
       "      <td>False</td>\n",
       "      <td>English</td>\n",
       "    </tr>\n",
       "    <tr>\n",
       "      <th>2</th>\n",
       "      <td>Myth</td>\n",
       "      <td>1479214575</td>\n",
       "      <td>134760</td>\n",
       "      <td>122552</td>\n",
       "      <td>9396</td>\n",
       "      <td>6726893</td>\n",
       "      <td>1</td>\n",
       "      <td>1421811</td>\n",
       "      <td>37384058</td>\n",
       "      <td>True</td>\n",
       "      <td>False</td>\n",
       "      <td>English</td>\n",
       "    </tr>\n",
       "    <tr>\n",
       "      <th>3</th>\n",
       "      <td>Rubius</td>\n",
       "      <td>2588632635</td>\n",
       "      <td>58275</td>\n",
       "      <td>240096</td>\n",
       "      <td>42948</td>\n",
       "      <td>5751354</td>\n",
       "      <td>1</td>\n",
       "      <td>3820532</td>\n",
       "      <td>58599449</td>\n",
       "      <td>True</td>\n",
       "      <td>False</td>\n",
       "      <td>Spanish</td>\n",
       "    </tr>\n",
       "    <tr>\n",
       "      <th>4</th>\n",
       "      <td>pokimane</td>\n",
       "      <td>964334055</td>\n",
       "      <td>56505</td>\n",
       "      <td>112160</td>\n",
       "      <td>16026</td>\n",
       "      <td>5367605</td>\n",
       "      <td>1</td>\n",
       "      <td>2085831</td>\n",
       "      <td>45579002</td>\n",
       "      <td>True</td>\n",
       "      <td>False</td>\n",
       "      <td>English</td>\n",
       "    </tr>\n",
       "  </tbody>\n",
       "</table>\n",
       "</div>"
      ],
      "text/plain": [
       "    Channel  Watch time(Minutes)  Stream time(minutes)  Peak viewers  \\\n",
       "0      Tfue           3671000070                123660        285644   \n",
       "1    shroud            888505170                 30240        471281   \n",
       "2      Myth           1479214575                134760        122552   \n",
       "3    Rubius           2588632635                 58275        240096   \n",
       "4  pokimane            964334055                 56505        112160   \n",
       "\n",
       "   Average viewers  Followers  Follower Count  Followers gained  Views gained  \\\n",
       "0            29602    8938903               1           2068424      78998587   \n",
       "1            29612    7744066               1            833587      30621257   \n",
       "2             9396    6726893               1           1421811      37384058   \n",
       "3            42948    5751354               1           3820532      58599449   \n",
       "4            16026    5367605               1           2085831      45579002   \n",
       "\n",
       "   Partnered  Mature Language  \n",
       "0       True   False  English  \n",
       "1       True   False  English  \n",
       "2       True   False  English  \n",
       "3       True   False  Spanish  \n",
       "4       True   False  English  "
      ]
     },
     "execution_count": 2,
     "metadata": {},
     "output_type": "execute_result"
    }
   ],
   "source": [
    "df = pd.read_csv('./twitchdata.csv')\n",
    "df.head(5)"
   ]
  },
  {
   "cell_type": "code",
   "execution_count": 3,
   "id": "5703bbbf-7109-48ff-950a-c6f98e66010b",
   "metadata": {},
   "outputs": [],
   "source": [
    "from sklearn import preprocessing"
   ]
  },
  {
   "cell_type": "code",
   "execution_count": 4,
   "id": "434b164c-609c-47dd-9039-e8478754f918",
   "metadata": {},
   "outputs": [],
   "source": [
    "X_train = pd.read_csv(\"streamers_train_X.csv\")\n",
    "X_test = pd.read_csv(\"streamers_test_X.csv\")\n",
    "y_train = pd.read_csv(\"streamers_train_y.csv\")\n",
    "y_test = pd.read_csv(\"streamers_test_y.csv\")"
   ]
  },
  {
   "cell_type": "code",
   "execution_count": 5,
   "id": "571cc380-73c2-451b-aadc-c56af05ef57a",
   "metadata": {},
   "outputs": [],
   "source": [
    "performance = pd.DataFrame({\"model\": [], \"Accuracy\": [], \"Precision\": [], \"Recall\": [], \"F1\": []})"
   ]
  },
  {
   "cell_type": "markdown",
   "id": "3c0b7c24-e6ed-4f42-91c3-59b7af5855e9",
   "metadata": {},
   "source": [
    "Default Logistic Model"
   ]
  },
  {
   "cell_type": "code",
   "execution_count": 6,
   "id": "68d767e0-8bed-4dab-9c02-2830d5196a59",
   "metadata": {},
   "outputs": [],
   "source": [
    "log_reg_model = LogisticRegression(penalty='none', max_iter=900)\n",
    "_ = log_reg_model.fit(X_train, np.ravel(y_train))"
   ]
  },
  {
   "cell_type": "code",
   "execution_count": 7,
   "id": "3bc5945d-c7be-4a04-9b5e-38df3c0c0747",
   "metadata": {},
   "outputs": [
    {
     "data": {
      "text/html": [
       "<div>\n",
       "<style scoped>\n",
       "    .dataframe tbody tr th:only-of-type {\n",
       "        vertical-align: middle;\n",
       "    }\n",
       "\n",
       "    .dataframe tbody tr th {\n",
       "        vertical-align: top;\n",
       "    }\n",
       "\n",
       "    .dataframe thead th {\n",
       "        text-align: right;\n",
       "    }\n",
       "</style>\n",
       "<table border=\"1\" class=\"dataframe\">\n",
       "  <thead>\n",
       "    <tr style=\"text-align: right;\">\n",
       "      <th></th>\n",
       "      <th>model</th>\n",
       "      <th>Accuracy</th>\n",
       "      <th>Precision</th>\n",
       "      <th>Recall</th>\n",
       "      <th>F1</th>\n",
       "    </tr>\n",
       "  </thead>\n",
       "  <tbody>\n",
       "    <tr>\n",
       "      <th>0</th>\n",
       "      <td>default logistic</td>\n",
       "      <td>0.993333</td>\n",
       "      <td>0.993548</td>\n",
       "      <td>0.993548</td>\n",
       "      <td>0.993548</td>\n",
       "    </tr>\n",
       "  </tbody>\n",
       "</table>\n",
       "</div>"
      ],
      "text/plain": [
       "              model  Accuracy  Precision    Recall        F1\n",
       "0  default logistic  0.993333   0.993548  0.993548  0.993548"
      ]
     },
     "execution_count": 7,
     "metadata": {},
     "output_type": "execute_result"
    }
   ],
   "source": [
    "model_preds = log_reg_model.predict(X_test)\n",
    "c_matrix = confusion_matrix(y_test, model_preds)\n",
    "TP = c_matrix[1][1]\n",
    "TN = c_matrix[0][0]\n",
    "FP = c_matrix[0][1]\n",
    "FN = c_matrix[1][0]\n",
    "performance = pd.concat([performance, pd.DataFrame({'model':\"default logistic\", \n",
    "                                                    'Accuracy': [(TP+TN)/(TP+TN+FP+FN)], \n",
    "                                                    'Precision': [TP/(TP+FP)], \n",
    "                                                    'Recall': [TP/(TP+FN)], \n",
    "                                                    'F1': [2*TP/(2*TP+FP+FN)]\n",
    "                                                     }, index=[0])])\n",
    "performance"
   ]
  },
  {
   "cell_type": "code",
   "execution_count": 8,
   "id": "97b6a60b-2277-40bf-9ac0-b20365183fd5",
   "metadata": {},
   "outputs": [
    {
     "name": "stderr",
     "output_type": "stream",
     "text": [
      "C:\\Users\\davul\\anaconda3\\lib\\site-packages\\sklearn\\model_selection\\_search.py:292: UserWarning: The total space of parameters 4 is smaller than n_iter=500. Running 4 iterations. For exhaustive searches, use GridSearchCV.\n",
      "  warnings.warn(\n"
     ]
    },
    {
     "name": "stdout",
     "output_type": "stream",
     "text": [
      "Fitting 5 folds for each of 4 candidates, totalling 20 fits\n",
      "The best accuracy score is 0.9842857142857142\n",
      "... with parameters: {'solver': 'liblinear', 'penalty': 'l2', 'C': 100}\n"
     ]
    },
    {
     "name": "stderr",
     "output_type": "stream",
     "text": [
      "C:\\Users\\davul\\anaconda3\\lib\\site-packages\\sklearn\\utils\\validation.py:993: DataConversionWarning: A column-vector y was passed when a 1d array was expected. Please change the shape of y to (n_samples, ), for example using ravel().\n",
      "  y = column_or_1d(y, warn=True)\n"
     ]
    }
   ],
   "source": [
    "#random search in log\n",
    "score_measure = \"accuracy\"\n",
    "kfolds = 5\n",
    "\n",
    "param_grid = {\n",
    "    'C':[0.1,1,10,100],\n",
    "    'penalty': ['l2'],\n",
    "    'solver': ['liblinear']\n",
    "    \n",
    "}\n",
    "\n",
    "logreg = LogisticRegression()\n",
    "\n",
    "rand_search_log = RandomizedSearchCV(estimator = logreg, param_distributions=param_grid, cv=kfolds, n_iter=500,\n",
    "                           scoring=score_measure, verbose=1, n_jobs=-1,  # n_jobs=-1 will utilize all available CPUs \n",
    "                           return_train_score=True)\n",
    "\n",
    "_ = rand_search_log.fit(X_train, y_train)\n",
    "\n",
    "print(f\"The best {score_measure} score is {rand_search_log.best_score_}\")\n",
    "print(f\"... with parameters: {rand_search_log.best_params_}\")\n",
    "\n",
    "bestRecallTree = rand_search_log.best_estimator_"
   ]
  },
  {
   "cell_type": "code",
   "execution_count": 9,
   "id": "e53d2578-5dd1-4548-ade9-b4b0916ec549",
   "metadata": {},
   "outputs": [],
   "source": [
    "#svm with linear kernel\n",
    "svm_lin_model = SVC(kernel=\"linear\",probability=True)\n",
    "_ = svm_lin_model.fit(X_train, np.ravel(y_train))"
   ]
  },
  {
   "cell_type": "code",
   "execution_count": 10,
   "id": "357bc47b-7f60-4b64-b937-de5fec623a1e",
   "metadata": {},
   "outputs": [
    {
     "data": {
      "text/html": [
       "<div>\n",
       "<style scoped>\n",
       "    .dataframe tbody tr th:only-of-type {\n",
       "        vertical-align: middle;\n",
       "    }\n",
       "\n",
       "    .dataframe tbody tr th {\n",
       "        vertical-align: top;\n",
       "    }\n",
       "\n",
       "    .dataframe thead th {\n",
       "        text-align: right;\n",
       "    }\n",
       "</style>\n",
       "<table border=\"1\" class=\"dataframe\">\n",
       "  <thead>\n",
       "    <tr style=\"text-align: right;\">\n",
       "      <th></th>\n",
       "      <th>model</th>\n",
       "      <th>Accuracy</th>\n",
       "      <th>Precision</th>\n",
       "      <th>Recall</th>\n",
       "      <th>F1</th>\n",
       "    </tr>\n",
       "  </thead>\n",
       "  <tbody>\n",
       "    <tr>\n",
       "      <th>0</th>\n",
       "      <td>default logistic</td>\n",
       "      <td>0.993333</td>\n",
       "      <td>0.993548</td>\n",
       "      <td>0.993548</td>\n",
       "      <td>0.993548</td>\n",
       "    </tr>\n",
       "    <tr>\n",
       "      <th>0</th>\n",
       "      <td>lin svm</td>\n",
       "      <td>0.953333</td>\n",
       "      <td>1.000000</td>\n",
       "      <td>0.909677</td>\n",
       "      <td>0.952703</td>\n",
       "    </tr>\n",
       "  </tbody>\n",
       "</table>\n",
       "</div>"
      ],
      "text/plain": [
       "              model  Accuracy  Precision    Recall        F1\n",
       "0  default logistic  0.993333   0.993548  0.993548  0.993548\n",
       "0           lin svm  0.953333   1.000000  0.909677  0.952703"
      ]
     },
     "execution_count": 10,
     "metadata": {},
     "output_type": "execute_result"
    }
   ],
   "source": [
    "model_preds = svm_lin_model.predict(X_test)\n",
    "c_matrix = confusion_matrix(y_test, model_preds)\n",
    "TP = c_matrix[1][1]\n",
    "TN = c_matrix[0][0]\n",
    "FP = c_matrix[0][1]\n",
    "FN = c_matrix[1][0]\n",
    "performance = pd.concat([performance, pd.DataFrame({'model':\"lin svm\", \n",
    "                                                    'Accuracy': [(TP+TN)/(TP+TN+FP+FN)], \n",
    "                                                    'Precision': [TP/(TP+FP)], \n",
    "                                                    'Recall': [TP/(TP+FN)], \n",
    "                                                    'F1': [2*TP/(2*TP+FP+FN)]\n",
    "                                                     }, index=[0])])\n",
    "performance"
   ]
  },
  {
   "cell_type": "code",
   "execution_count": 11,
   "id": "71ffb85f-bd22-4efa-86ed-ca2a9e7174bc",
   "metadata": {},
   "outputs": [],
   "source": [
    "#svm with rbf kernel\n",
    "svm_rbf_model = SVC(kernel=\"rbf\", C=10, gamma='scale',probability=True)\n",
    "_ = svm_rbf_model.fit(X_train, np.ravel(y_train))"
   ]
  },
  {
   "cell_type": "code",
   "execution_count": 12,
   "id": "98dcfa32-e7a1-4c09-be55-5b223ea18e61",
   "metadata": {},
   "outputs": [
    {
     "data": {
      "text/html": [
       "<div>\n",
       "<style scoped>\n",
       "    .dataframe tbody tr th:only-of-type {\n",
       "        vertical-align: middle;\n",
       "    }\n",
       "\n",
       "    .dataframe tbody tr th {\n",
       "        vertical-align: top;\n",
       "    }\n",
       "\n",
       "    .dataframe thead th {\n",
       "        text-align: right;\n",
       "    }\n",
       "</style>\n",
       "<table border=\"1\" class=\"dataframe\">\n",
       "  <thead>\n",
       "    <tr style=\"text-align: right;\">\n",
       "      <th></th>\n",
       "      <th>model</th>\n",
       "      <th>Accuracy</th>\n",
       "      <th>Precision</th>\n",
       "      <th>Recall</th>\n",
       "      <th>F1</th>\n",
       "    </tr>\n",
       "  </thead>\n",
       "  <tbody>\n",
       "    <tr>\n",
       "      <th>0</th>\n",
       "      <td>default logistic</td>\n",
       "      <td>0.993333</td>\n",
       "      <td>0.993548</td>\n",
       "      <td>0.993548</td>\n",
       "      <td>0.993548</td>\n",
       "    </tr>\n",
       "    <tr>\n",
       "      <th>0</th>\n",
       "      <td>lin svm</td>\n",
       "      <td>0.953333</td>\n",
       "      <td>1.000000</td>\n",
       "      <td>0.909677</td>\n",
       "      <td>0.952703</td>\n",
       "    </tr>\n",
       "    <tr>\n",
       "      <th>0</th>\n",
       "      <td>rbf svm</td>\n",
       "      <td>0.940000</td>\n",
       "      <td>0.992806</td>\n",
       "      <td>0.890323</td>\n",
       "      <td>0.938776</td>\n",
       "    </tr>\n",
       "  </tbody>\n",
       "</table>\n",
       "</div>"
      ],
      "text/plain": [
       "              model  Accuracy  Precision    Recall        F1\n",
       "0  default logistic  0.993333   0.993548  0.993548  0.993548\n",
       "0           lin svm  0.953333   1.000000  0.909677  0.952703\n",
       "0           rbf svm  0.940000   0.992806  0.890323  0.938776"
      ]
     },
     "execution_count": 12,
     "metadata": {},
     "output_type": "execute_result"
    }
   ],
   "source": [
    "model_preds = svm_rbf_model.predict(X_test)\n",
    "c_matrix = confusion_matrix(y_test, model_preds)\n",
    "TP = c_matrix[1][1]\n",
    "TN = c_matrix[0][0]\n",
    "FP = c_matrix[0][1]\n",
    "FN = c_matrix[1][0]\n",
    "performance = pd.concat([performance, pd.DataFrame({'model':\"rbf svm\", \n",
    "                                                    'Accuracy': [(TP+TN)/(TP+TN+FP+FN)], \n",
    "                                                    'Precision': [TP/(TP+FP)], \n",
    "                                                    'Recall': [TP/(TP+FN)], \n",
    "                                                    'F1': [2*TP/(2*TP+FP+FN)]\n",
    "                                                     }, index=[0])])\n",
    "performance"
   ]
  },
  {
   "cell_type": "code",
   "execution_count": 13,
   "id": "9ccc47b8-20f8-48e9-be82-60dfcbb6b044",
   "metadata": {},
   "outputs": [],
   "source": [
    "svm_poly_model = SVC(kernel=\"poly\",probability=True, degree=3, coef0=1, C=10)\n",
    "_ = svm_poly_model.fit(X_train, np.ravel(y_train))"
   ]
  },
  {
   "cell_type": "code",
   "execution_count": 14,
   "id": "edc7a361-ba5a-481d-87c4-fa4050e91cd1",
   "metadata": {},
   "outputs": [
    {
     "data": {
      "text/html": [
       "<div>\n",
       "<style scoped>\n",
       "    .dataframe tbody tr th:only-of-type {\n",
       "        vertical-align: middle;\n",
       "    }\n",
       "\n",
       "    .dataframe tbody tr th {\n",
       "        vertical-align: top;\n",
       "    }\n",
       "\n",
       "    .dataframe thead th {\n",
       "        text-align: right;\n",
       "    }\n",
       "</style>\n",
       "<table border=\"1\" class=\"dataframe\">\n",
       "  <thead>\n",
       "    <tr style=\"text-align: right;\">\n",
       "      <th></th>\n",
       "      <th>model</th>\n",
       "      <th>Accuracy</th>\n",
       "      <th>Precision</th>\n",
       "      <th>Recall</th>\n",
       "      <th>F1</th>\n",
       "    </tr>\n",
       "  </thead>\n",
       "  <tbody>\n",
       "    <tr>\n",
       "      <th>0</th>\n",
       "      <td>default logistic</td>\n",
       "      <td>0.993333</td>\n",
       "      <td>0.993548</td>\n",
       "      <td>0.993548</td>\n",
       "      <td>0.993548</td>\n",
       "    </tr>\n",
       "    <tr>\n",
       "      <th>0</th>\n",
       "      <td>lin svm</td>\n",
       "      <td>0.953333</td>\n",
       "      <td>1.000000</td>\n",
       "      <td>0.909677</td>\n",
       "      <td>0.952703</td>\n",
       "    </tr>\n",
       "    <tr>\n",
       "      <th>0</th>\n",
       "      <td>rbf svm</td>\n",
       "      <td>0.940000</td>\n",
       "      <td>0.992806</td>\n",
       "      <td>0.890323</td>\n",
       "      <td>0.938776</td>\n",
       "    </tr>\n",
       "    <tr>\n",
       "      <th>0</th>\n",
       "      <td>poly svm</td>\n",
       "      <td>0.943333</td>\n",
       "      <td>0.985915</td>\n",
       "      <td>0.903226</td>\n",
       "      <td>0.942761</td>\n",
       "    </tr>\n",
       "  </tbody>\n",
       "</table>\n",
       "</div>"
      ],
      "text/plain": [
       "              model  Accuracy  Precision    Recall        F1\n",
       "0  default logistic  0.993333   0.993548  0.993548  0.993548\n",
       "0           lin svm  0.953333   1.000000  0.909677  0.952703\n",
       "0           rbf svm  0.940000   0.992806  0.890323  0.938776\n",
       "0          poly svm  0.943333   0.985915  0.903226  0.942761"
      ]
     },
     "execution_count": 14,
     "metadata": {},
     "output_type": "execute_result"
    }
   ],
   "source": [
    "model_preds = svm_poly_model.predict(X_test)\n",
    "c_matrix = confusion_matrix(y_test, model_preds)\n",
    "TP = c_matrix[1][1]\n",
    "TN = c_matrix[0][0]\n",
    "FP = c_matrix[0][1]\n",
    "FN = c_matrix[1][0]\n",
    "performance = pd.concat([performance, pd.DataFrame({'model':\"poly svm\", \n",
    "                                                    'Accuracy': [(TP+TN)/(TP+TN+FP+FN)], \n",
    "                                                    'Precision': [TP/(TP+FP)], \n",
    "                                                    'Recall': [TP/(TP+FN)], \n",
    "                                                    'F1': [2*TP/(2*TP+FP+FN)]\n",
    "                                                     }, index=[0])])\n",
    "performance\n"
   ]
  },
  {
   "cell_type": "code",
   "execution_count": 15,
   "id": "17bdb274-c2b2-45fc-8e12-dc1f03a9ed80",
   "metadata": {},
   "outputs": [
    {
     "name": "stderr",
     "output_type": "stream",
     "text": [
      "C:\\Users\\davul\\anaconda3\\lib\\site-packages\\sklearn\\model_selection\\_search.py:292: UserWarning: The total space of parameters 16 is smaller than n_iter=500. Running 16 iterations. For exhaustive searches, use GridSearchCV.\n",
      "  warnings.warn(\n"
     ]
    },
    {
     "name": "stdout",
     "output_type": "stream",
     "text": [
      "Fitting 5 folds for each of 16 candidates, totalling 80 fits\n",
      "The best accuracy score is 0.93\n",
      "... with parameters: {'kernel': 'poly', 'gamma': 1, 'C': 1}\n"
     ]
    },
    {
     "name": "stderr",
     "output_type": "stream",
     "text": [
      "C:\\Users\\davul\\anaconda3\\lib\\site-packages\\sklearn\\utils\\validation.py:993: DataConversionWarning: A column-vector y was passed when a 1d array was expected. Please change the shape of y to (n_samples, ), for example using ravel().\n",
      "  y = column_or_1d(y, warn=True)\n"
     ]
    }
   ],
   "source": [
    "#random search in SVM\n",
    "score_measure = \"accuracy\"\n",
    "kfolds = 5\n",
    "\n",
    "param_grid = {\n",
    "    'C':[0.1,1,10,100],\n",
    "    'gamma':[1,0.1,0.01,0.001],\n",
    "    'kernel':['poly']\n",
    "    \n",
    "}\n",
    "\n",
    "SVM_R_out = SVC()\n",
    "rand_search = RandomizedSearchCV(estimator = SVM_R_out, param_distributions=param_grid, cv=kfolds, n_iter=500,\n",
    "                           scoring=score_measure, verbose=1, n_jobs=-1,  # n_jobs=-1 will utilize all available CPUs \n",
    "                           return_train_score=True)\n",
    "\n",
    "_ = rand_search.fit(X_train,y_train)\n",
    "\n",
    "print(f\"The best {score_measure} score is {rand_search.best_score_}\")\n",
    "print(f\"... with parameters: {rand_search.best_params_}\")\n",
    "\n",
    "bestRecallTree = rand_search.best_estimator_"
   ]
  },
  {
   "cell_type": "code",
   "execution_count": 16,
   "id": "9109b685-a902-474a-98f2-fdf842c9f54a",
   "metadata": {},
   "outputs": [
    {
     "data": {
      "text/html": [
       "<div>\n",
       "<style scoped>\n",
       "    .dataframe tbody tr th:only-of-type {\n",
       "        vertical-align: middle;\n",
       "    }\n",
       "\n",
       "    .dataframe tbody tr th {\n",
       "        vertical-align: top;\n",
       "    }\n",
       "\n",
       "    .dataframe thead th {\n",
       "        text-align: right;\n",
       "    }\n",
       "</style>\n",
       "<table border=\"1\" class=\"dataframe\">\n",
       "  <thead>\n",
       "    <tr style=\"text-align: right;\">\n",
       "      <th></th>\n",
       "      <th>model</th>\n",
       "      <th>Accuracy</th>\n",
       "      <th>Precision</th>\n",
       "      <th>Recall</th>\n",
       "      <th>F1</th>\n",
       "    </tr>\n",
       "  </thead>\n",
       "  <tbody>\n",
       "    <tr>\n",
       "      <th>0</th>\n",
       "      <td>default logistic</td>\n",
       "      <td>0.993333</td>\n",
       "      <td>0.993548</td>\n",
       "      <td>0.993548</td>\n",
       "      <td>0.993548</td>\n",
       "    </tr>\n",
       "    <tr>\n",
       "      <th>0</th>\n",
       "      <td>lin svm</td>\n",
       "      <td>0.953333</td>\n",
       "      <td>1.000000</td>\n",
       "      <td>0.909677</td>\n",
       "      <td>0.952703</td>\n",
       "    </tr>\n",
       "    <tr>\n",
       "      <th>0</th>\n",
       "      <td>rbf svm</td>\n",
       "      <td>0.940000</td>\n",
       "      <td>0.992806</td>\n",
       "      <td>0.890323</td>\n",
       "      <td>0.938776</td>\n",
       "    </tr>\n",
       "    <tr>\n",
       "      <th>0</th>\n",
       "      <td>poly svm</td>\n",
       "      <td>0.943333</td>\n",
       "      <td>0.985915</td>\n",
       "      <td>0.903226</td>\n",
       "      <td>0.942761</td>\n",
       "    </tr>\n",
       "    <tr>\n",
       "      <th>0</th>\n",
       "      <td>rand_poly_svm</td>\n",
       "      <td>0.926667</td>\n",
       "      <td>0.978417</td>\n",
       "      <td>0.877419</td>\n",
       "      <td>0.925170</td>\n",
       "    </tr>\n",
       "  </tbody>\n",
       "</table>\n",
       "</div>"
      ],
      "text/plain": [
       "              model  Accuracy  Precision    Recall        F1\n",
       "0  default logistic  0.993333   0.993548  0.993548  0.993548\n",
       "0           lin svm  0.953333   1.000000  0.909677  0.952703\n",
       "0           rbf svm  0.940000   0.992806  0.890323  0.938776\n",
       "0          poly svm  0.943333   0.985915  0.903226  0.942761\n",
       "0     rand_poly_svm  0.926667   0.978417  0.877419  0.925170"
      ]
     },
     "execution_count": 16,
     "metadata": {},
     "output_type": "execute_result"
    }
   ],
   "source": [
    "model_preds = rand_search.predict(X_test)\n",
    "c_matrix = confusion_matrix(y_test, model_preds)\n",
    "TP = c_matrix[1][1]\n",
    "TN = c_matrix[0][0]\n",
    "FP = c_matrix[0][1]\n",
    "FN = c_matrix[1][0]\n",
    "performance = pd.concat([performance, pd.DataFrame({'model':\"rand_poly_svm\", \n",
    "                                                    'Accuracy': [(TP+TN)/(TP+TN+FP+FN)], \n",
    "                                                    'Precision': [TP/(TP+FP)], \n",
    "                                                    'Recall': [TP/(TP+FN)], \n",
    "                                                    'F1': [2*TP/(2*TP+FP+FN)]\n",
    "                                                     }, index=[0])])\n",
    "performance"
   ]
  },
  {
   "cell_type": "code",
   "execution_count": 17,
   "id": "1e9bcf9c-09fa-4430-a45b-f28caf740b69",
   "metadata": {},
   "outputs": [
    {
     "name": "stdout",
     "output_type": "stream",
     "text": [
      "Fitting 5 folds for each of 16 candidates, totalling 80 fits\n",
      "The best accuracy score is 0.93\n",
      "... with parameters: {'C': 1, 'gamma': 1, 'kernel': 'poly'}\n"
     ]
    },
    {
     "name": "stderr",
     "output_type": "stream",
     "text": [
      "C:\\Users\\davul\\anaconda3\\lib\\site-packages\\sklearn\\utils\\validation.py:993: DataConversionWarning: A column-vector y was passed when a 1d array was expected. Please change the shape of y to (n_samples, ), for example using ravel().\n",
      "  y = column_or_1d(y, warn=True)\n"
     ]
    }
   ],
   "source": [
    "#grid search in SVM\n",
    "score_measure = \"accuracy\"\n",
    "kfolds = 5\n",
    "\n",
    "param_grid = {\n",
    "    'C':[0.1,1,10,100],\n",
    "    'gamma':[1,0.1,0.01,0.001],\n",
    "    'kernel':['poly']\n",
    "    \n",
    "}\n",
    "\n",
    "SVM_G_out = SVC()\n",
    "grid_search = GridSearchCV(estimator = SVM_G_out, param_grid=param_grid, cv=kfolds, \n",
    "                           scoring=score_measure, verbose=1, n_jobs=-1,  # n_jobs=-1 will utilize all available CPUs \n",
    "                           return_train_score=True)\n",
    "\n",
    "_ = grid_search.fit(X_train, y_train)\n",
    "\n",
    "print(f\"The best {score_measure} score is {grid_search.best_score_}\")\n",
    "print(f\"... with parameters: {grid_search.best_params_}\")\n",
    "\n",
    "bestRecallTree = grid_search.best_estimator_"
   ]
  },
  {
   "cell_type": "code",
   "execution_count": 18,
   "id": "1fa41fc6-34a9-4204-b569-0b49cf54ea67",
   "metadata": {},
   "outputs": [
    {
     "data": {
      "text/html": [
       "<div>\n",
       "<style scoped>\n",
       "    .dataframe tbody tr th:only-of-type {\n",
       "        vertical-align: middle;\n",
       "    }\n",
       "\n",
       "    .dataframe tbody tr th {\n",
       "        vertical-align: top;\n",
       "    }\n",
       "\n",
       "    .dataframe thead th {\n",
       "        text-align: right;\n",
       "    }\n",
       "</style>\n",
       "<table border=\"1\" class=\"dataframe\">\n",
       "  <thead>\n",
       "    <tr style=\"text-align: right;\">\n",
       "      <th></th>\n",
       "      <th>model</th>\n",
       "      <th>Accuracy</th>\n",
       "      <th>Precision</th>\n",
       "      <th>Recall</th>\n",
       "      <th>F1</th>\n",
       "    </tr>\n",
       "  </thead>\n",
       "  <tbody>\n",
       "    <tr>\n",
       "      <th>0</th>\n",
       "      <td>default logistic</td>\n",
       "      <td>0.993333</td>\n",
       "      <td>0.993548</td>\n",
       "      <td>0.993548</td>\n",
       "      <td>0.993548</td>\n",
       "    </tr>\n",
       "    <tr>\n",
       "      <th>0</th>\n",
       "      <td>lin svm</td>\n",
       "      <td>0.953333</td>\n",
       "      <td>1.000000</td>\n",
       "      <td>0.909677</td>\n",
       "      <td>0.952703</td>\n",
       "    </tr>\n",
       "    <tr>\n",
       "      <th>0</th>\n",
       "      <td>rbf svm</td>\n",
       "      <td>0.940000</td>\n",
       "      <td>0.992806</td>\n",
       "      <td>0.890323</td>\n",
       "      <td>0.938776</td>\n",
       "    </tr>\n",
       "    <tr>\n",
       "      <th>0</th>\n",
       "      <td>poly svm</td>\n",
       "      <td>0.943333</td>\n",
       "      <td>0.985915</td>\n",
       "      <td>0.903226</td>\n",
       "      <td>0.942761</td>\n",
       "    </tr>\n",
       "    <tr>\n",
       "      <th>0</th>\n",
       "      <td>rand_poly_svm</td>\n",
       "      <td>0.926667</td>\n",
       "      <td>0.978417</td>\n",
       "      <td>0.877419</td>\n",
       "      <td>0.925170</td>\n",
       "    </tr>\n",
       "    <tr>\n",
       "      <th>0</th>\n",
       "      <td>grid_poly_svm</td>\n",
       "      <td>0.926667</td>\n",
       "      <td>0.978417</td>\n",
       "      <td>0.877419</td>\n",
       "      <td>0.925170</td>\n",
       "    </tr>\n",
       "  </tbody>\n",
       "</table>\n",
       "</div>"
      ],
      "text/plain": [
       "              model  Accuracy  Precision    Recall        F1\n",
       "0  default logistic  0.993333   0.993548  0.993548  0.993548\n",
       "0           lin svm  0.953333   1.000000  0.909677  0.952703\n",
       "0           rbf svm  0.940000   0.992806  0.890323  0.938776\n",
       "0          poly svm  0.943333   0.985915  0.903226  0.942761\n",
       "0     rand_poly_svm  0.926667   0.978417  0.877419  0.925170\n",
       "0     grid_poly_svm  0.926667   0.978417  0.877419  0.925170"
      ]
     },
     "execution_count": 18,
     "metadata": {},
     "output_type": "execute_result"
    }
   ],
   "source": [
    "model_preds = grid_search.predict(X_test)\n",
    "c_matrix = confusion_matrix(y_test, model_preds)\n",
    "TP = c_matrix[1][1]\n",
    "TN = c_matrix[0][0]\n",
    "FP = c_matrix[0][1]\n",
    "FN = c_matrix[1][0]\n",
    "performance = pd.concat([performance, pd.DataFrame({'model':\"grid_poly_svm\", \n",
    "                                                    'Accuracy': [(TP+TN)/(TP+TN+FP+FN)], \n",
    "                                                    'Precision': [TP/(TP+FP)], \n",
    "                                                    'Recall': [TP/(TP+FN)], \n",
    "                                                    'F1': [2*TP/(2*TP+FP+FN)]\n",
    "                                                     }, index=[0])])\n",
    "performance"
   ]
  },
  {
   "cell_type": "code",
   "execution_count": 19,
   "id": "6e56b45f-61a1-4dcb-88da-f72d5e18ce5e",
   "metadata": {},
   "outputs": [
    {
     "name": "stdout",
     "output_type": "stream",
     "text": [
      "Fitting 5 folds for each of 500 candidates, totalling 2500 fits\n",
      "The best accuracy score is 0.9971428571428571\n",
      "... with parameters: {'min_samples_split': 30, 'min_samples_leaf': 5, 'min_impurity_decrease': 0.0031, 'max_leaf_nodes': 34, 'max_depth': 32, 'criterion': 'gini'}\n"
     ]
    },
    {
     "name": "stderr",
     "output_type": "stream",
     "text": [
      "C:\\Users\\davul\\anaconda3\\lib\\site-packages\\sklearn\\model_selection\\_validation.py:372: FitFailedWarning: \n",
      "60 fits failed out of a total of 2500.\n",
      "The score on these train-test partitions for these parameters will be set to nan.\n",
      "If these failures are not expected, you can try to debug them by setting error_score='raise'.\n",
      "\n",
      "Below are more details about the failures:\n",
      "--------------------------------------------------------------------------------\n",
      "60 fits failed with the following error:\n",
      "Traceback (most recent call last):\n",
      "  File \"C:\\Users\\davul\\anaconda3\\lib\\site-packages\\sklearn\\model_selection\\_validation.py\", line 680, in _fit_and_score\n",
      "    estimator.fit(X_train, y_train, **fit_params)\n",
      "  File \"C:\\Users\\davul\\anaconda3\\lib\\site-packages\\sklearn\\tree\\_classes.py\", line 937, in fit\n",
      "    super().fit(\n",
      "  File \"C:\\Users\\davul\\anaconda3\\lib\\site-packages\\sklearn\\tree\\_classes.py\", line 250, in fit\n",
      "    raise ValueError(\n",
      "ValueError: min_samples_split must be an integer greater than 1 or a float in (0.0, 1.0]; got the integer 1\n",
      "\n",
      "  warnings.warn(some_fits_failed_message, FitFailedWarning)\n",
      "C:\\Users\\davul\\anaconda3\\lib\\site-packages\\sklearn\\model_selection\\_search.py:969: UserWarning: One or more of the test scores are non-finite: [0.99714286 0.99714286 0.99714286 0.99714286 0.99714286 0.99714286\n",
      " 0.99714286 0.99714286 0.99714286 0.99714286 0.99714286 0.99714286\n",
      " 0.99714286 0.99714286 0.99714286 0.99714286 0.99714286 0.99714286\n",
      " 0.99714286 0.99714286 0.99714286 0.99714286 0.99714286 0.99714286\n",
      " 0.99714286 0.99714286 0.99714286 0.99714286 0.99714286 0.99714286\n",
      " 0.99714286 0.99714286 0.99714286 0.99714286 0.99714286 0.99714286\n",
      " 0.99714286 0.99714286 0.99714286 0.99714286 0.99714286 0.99714286\n",
      " 0.99714286 0.99714286 0.99714286 0.99714286 0.99714286 0.99714286\n",
      " 0.99714286 0.99714286 0.99714286 0.99714286 0.99714286 0.99714286\n",
      " 0.99714286 0.99714286 0.99714286        nan 0.99714286 0.99714286\n",
      " 0.99714286 0.99714286 0.99714286 0.99714286 0.99714286 0.99714286\n",
      " 0.99714286 0.99714286 0.99714286 0.99714286 0.99714286 0.99714286\n",
      " 0.99714286 0.99714286 0.99714286 0.99714286 0.99714286 0.99714286\n",
      " 0.99714286        nan 0.99714286 0.99714286 0.99714286 0.99714286\n",
      " 0.99714286 0.99714286 0.99714286 0.99714286 0.99714286 0.99714286\n",
      " 0.99714286 0.99714286 0.99714286 0.99714286 0.99714286 0.99714286\n",
      " 0.99714286 0.99714286 0.99714286 0.99714286 0.99714286 0.99714286\n",
      " 0.99714286 0.99714286 0.99714286 0.99714286 0.99714286 0.99714286\n",
      " 0.99714286 0.99714286 0.99714286 0.99714286 0.99714286 0.99714286\n",
      " 0.99714286 0.99714286 0.99714286 0.99714286 0.99714286 0.99714286\n",
      " 0.99714286 0.99714286 0.99714286 0.99714286 0.99714286 0.99714286\n",
      " 0.99714286 0.99714286 0.99714286 0.99714286 0.99714286 0.99714286\n",
      " 0.99714286 0.99714286 0.99714286 0.99714286 0.99714286 0.99714286\n",
      " 0.99714286        nan 0.99714286 0.99714286 0.99714286 0.99714286\n",
      " 0.99714286 0.99714286 0.99714286 0.99714286 0.99714286 0.99714286\n",
      " 0.99714286 0.99714286 0.99714286 0.99714286 0.99714286 0.99714286\n",
      " 0.99714286 0.99714286 0.99714286 0.99714286 0.99714286 0.99714286\n",
      " 0.99714286 0.99714286 0.99714286 0.99714286 0.99714286 0.99714286\n",
      " 0.99714286 0.99714286 0.99714286 0.99714286 0.99714286 0.99714286\n",
      " 0.99714286 0.99714286 0.99714286 0.99714286 0.99714286 0.99714286\n",
      " 0.99714286 0.99714286 0.99714286 0.99714286 0.99714286 0.99714286\n",
      " 0.99714286 0.99714286 0.99714286 0.99714286 0.99714286 0.99714286\n",
      " 0.99714286 0.99714286 0.99714286 0.99714286 0.99714286 0.99714286\n",
      " 0.99714286 0.99714286 0.99714286 0.99714286 0.99714286 0.99714286\n",
      " 0.99714286 0.99714286 0.99714286 0.99714286 0.99714286 0.99714286\n",
      " 0.99714286 0.99714286 0.99714286 0.99714286 0.99714286 0.99714286\n",
      " 0.99714286 0.99714286 0.99714286 0.99714286 0.99714286 0.99714286\n",
      " 0.99714286 0.99714286 0.99714286 0.99714286 0.99714286 0.99714286\n",
      " 0.99714286 0.99714286 0.99714286 0.99714286 0.99714286 0.99714286\n",
      " 0.99714286 0.99714286 0.99714286 0.99714286 0.99714286 0.99714286\n",
      " 0.99714286 0.99714286 0.99714286 0.99714286 0.99714286 0.99714286\n",
      " 0.99714286 0.99714286 0.99714286 0.99714286 0.99714286 0.99714286\n",
      " 0.99714286 0.99714286 0.99714286 0.99714286 0.99714286 0.99714286\n",
      " 0.99714286 0.99714286 0.99714286 0.99714286 0.99714286 0.99714286\n",
      " 0.99714286 0.99714286 0.99714286 0.99714286 0.99714286 0.99714286\n",
      " 0.99714286 0.99714286 0.99714286 0.99714286 0.99714286 0.99714286\n",
      " 0.99714286 0.99714286 0.99714286 0.99714286 0.99714286 0.99714286\n",
      " 0.99714286 0.99714286 0.99714286 0.99714286 0.99714286        nan\n",
      " 0.99714286 0.99714286 0.99714286 0.99714286 0.99714286 0.99714286\n",
      " 0.99714286 0.99714286 0.99714286 0.99714286 0.99714286 0.99714286\n",
      " 0.99714286 0.99714286 0.99714286 0.99714286 0.99714286 0.99714286\n",
      " 0.99714286 0.99714286 0.99714286 0.99714286 0.99714286 0.99714286\n",
      " 0.99714286 0.99714286 0.99714286        nan 0.99714286 0.99714286\n",
      " 0.99714286 0.99714286 0.99714286 0.99714286 0.99714286 0.99714286\n",
      " 0.99714286 0.99714286 0.99714286 0.99714286 0.99714286 0.99714286\n",
      " 0.99714286 0.99714286 0.99714286 0.99714286 0.99714286 0.99714286\n",
      "        nan 0.99714286 0.99714286 0.99714286 0.99714286        nan\n",
      " 0.99714286 0.99714286 0.99714286 0.99714286 0.99714286 0.99714286\n",
      " 0.99714286 0.99714286 0.99714286 0.99714286 0.99714286 0.99714286\n",
      " 0.99714286 0.99714286 0.99714286 0.99714286 0.99714286 0.99714286\n",
      " 0.99714286 0.99714286 0.99714286 0.99714286 0.99714286 0.99714286\n",
      " 0.99714286 0.99714286 0.99714286 0.99714286 0.99714286 0.99714286\n",
      " 0.99714286        nan 0.99714286 0.99714286 0.99714286 0.99714286\n",
      " 0.99714286 0.99714286 0.99714286 0.99714286 0.99714286 0.99714286\n",
      " 0.99714286 0.99714286 0.99714286 0.99714286 0.99714286 0.99714286\n",
      " 0.99714286 0.99714286 0.99714286 0.99714286 0.99714286 0.99714286\n",
      " 0.99714286 0.99714286 0.99714286 0.99714286 0.99714286 0.99714286\n",
      " 0.99714286 0.99714286 0.99714286 0.99714286 0.99714286 0.99714286\n",
      " 0.99714286 0.99714286 0.99714286 0.99714286 0.99714286 0.99714286\n",
      " 0.99714286        nan 0.99714286 0.99714286 0.99714286 0.99714286\n",
      " 0.99714286 0.99714286 0.99714286 0.99714286 0.99714286 0.99714286\n",
      " 0.99714286 0.99714286 0.99714286 0.99714286 0.99714286 0.99714286\n",
      " 0.99714286 0.99714286 0.99714286 0.99714286 0.99714286 0.99714286\n",
      " 0.99714286 0.99714286 0.99714286 0.99714286 0.99714286 0.99714286\n",
      " 0.99714286 0.99714286 0.99714286 0.99714286 0.99714286 0.99714286\n",
      " 0.99714286 0.99714286 0.99714286 0.99714286 0.99714286 0.99714286\n",
      " 0.99714286 0.99714286 0.99714286 0.99714286 0.99714286 0.99714286\n",
      " 0.99714286 0.99714286        nan 0.99714286 0.99714286        nan\n",
      " 0.99714286 0.99714286        nan 0.99714286 0.99714286 0.99714286\n",
      " 0.99714286 0.99714286 0.99714286 0.99714286 0.99714286 0.99714286\n",
      " 0.99714286 0.99714286 0.99714286 0.99714286 0.99714286 0.99714286\n",
      " 0.99714286 0.99714286 0.99714286 0.99714286 0.99714286 0.99714286\n",
      " 0.99714286 0.99714286 0.99714286 0.99714286 0.99714286 0.99714286\n",
      " 0.99714286 0.99714286]\n",
      "  warnings.warn(\n",
      "C:\\Users\\davul\\anaconda3\\lib\\site-packages\\sklearn\\model_selection\\_search.py:969: UserWarning: One or more of the train scores are non-finite: [ 1.  1.  1.  1.  1.  1.  1.  1.  1.  1.  1.  1.  1.  1.  1.  1.  1.  1.\n",
      "  1.  1.  1.  1.  1.  1.  1.  1.  1.  1.  1.  1.  1.  1.  1.  1.  1.  1.\n",
      "  1.  1.  1.  1.  1.  1.  1.  1.  1.  1.  1.  1.  1.  1.  1.  1.  1.  1.\n",
      "  1.  1.  1. nan  1.  1.  1.  1.  1.  1.  1.  1.  1.  1.  1.  1.  1.  1.\n",
      "  1.  1.  1.  1.  1.  1.  1. nan  1.  1.  1.  1.  1.  1.  1.  1.  1.  1.\n",
      "  1.  1.  1.  1.  1.  1.  1.  1.  1.  1.  1.  1.  1.  1.  1.  1.  1.  1.\n",
      "  1.  1.  1.  1.  1.  1.  1.  1.  1.  1.  1.  1.  1.  1.  1.  1.  1.  1.\n",
      "  1.  1.  1.  1.  1.  1.  1.  1.  1.  1.  1.  1.  1. nan  1.  1.  1.  1.\n",
      "  1.  1.  1.  1.  1.  1.  1.  1.  1.  1.  1.  1.  1.  1.  1.  1.  1.  1.\n",
      "  1.  1.  1.  1.  1.  1.  1.  1.  1.  1.  1.  1.  1.  1.  1.  1.  1.  1.\n",
      "  1.  1.  1.  1.  1.  1.  1.  1.  1.  1.  1.  1.  1.  1.  1.  1.  1.  1.\n",
      "  1.  1.  1.  1.  1.  1.  1.  1.  1.  1.  1.  1.  1.  1.  1.  1.  1.  1.\n",
      "  1.  1.  1.  1.  1.  1.  1.  1.  1.  1.  1.  1.  1.  1.  1.  1.  1.  1.\n",
      "  1.  1.  1.  1.  1.  1.  1.  1.  1.  1.  1.  1.  1.  1.  1.  1.  1.  1.\n",
      "  1.  1.  1.  1.  1.  1.  1.  1.  1.  1.  1.  1.  1.  1.  1.  1.  1.  1.\n",
      "  1.  1.  1.  1.  1.  1.  1.  1.  1.  1.  1.  1.  1.  1.  1.  1.  1. nan\n",
      "  1.  1.  1.  1.  1.  1.  1.  1.  1.  1.  1.  1.  1.  1.  1.  1.  1.  1.\n",
      "  1.  1.  1.  1.  1.  1.  1.  1.  1. nan  1.  1.  1.  1.  1.  1.  1.  1.\n",
      "  1.  1.  1.  1.  1.  1.  1.  1.  1.  1.  1.  1. nan  1.  1.  1.  1. nan\n",
      "  1.  1.  1.  1.  1.  1.  1.  1.  1.  1.  1.  1.  1.  1.  1.  1.  1.  1.\n",
      "  1.  1.  1.  1.  1.  1.  1.  1.  1.  1.  1.  1.  1. nan  1.  1.  1.  1.\n",
      "  1.  1.  1.  1.  1.  1.  1.  1.  1.  1.  1.  1.  1.  1.  1.  1.  1.  1.\n",
      "  1.  1.  1.  1.  1.  1.  1.  1.  1.  1.  1.  1.  1.  1.  1.  1.  1.  1.\n",
      "  1. nan  1.  1.  1.  1.  1.  1.  1.  1.  1.  1.  1.  1.  1.  1.  1.  1.\n",
      "  1.  1.  1.  1.  1.  1.  1.  1.  1.  1.  1.  1.  1.  1.  1.  1.  1.  1.\n",
      "  1.  1.  1.  1.  1.  1.  1.  1.  1.  1.  1.  1.  1.  1. nan  1.  1. nan\n",
      "  1.  1. nan  1.  1.  1.  1.  1.  1.  1.  1.  1.  1.  1.  1.  1.  1.  1.\n",
      "  1.  1.  1.  1.  1.  1.  1.  1.  1.  1.  1.  1.  1.  1.]\n",
      "  warnings.warn(\n"
     ]
    }
   ],
   "source": [
    "#random with tree\n",
    "score_measure = \"accuracy\"\n",
    "kfolds = 5\n",
    "\n",
    "param_grid = {\n",
    "    'min_samples_split': np.arange(1,42),  \n",
    "    'min_samples_leaf': np.arange(1,42),\n",
    "    'min_impurity_decrease': np.arange(0.0001, 0.01, 0.0005),\n",
    "    'max_leaf_nodes': np.arange(5, 42), \n",
    "    'max_depth': np.arange(1,42), \n",
    "    'criterion': ['entropy', 'gini'],\n",
    "}\n",
    "\n",
    "dtree = DecisionTreeClassifier()\n",
    "rand_search_tree = RandomizedSearchCV(estimator = dtree, param_distributions=param_grid, cv=kfolds, n_iter=500,\n",
    "                           scoring=score_measure, verbose=1, n_jobs=-1,  # n_jobs=-1 will utilize all available CPUs \n",
    "                           return_train_score=True)\n",
    "\n",
    "_ = rand_search_tree.fit(X_train, y_train)\n",
    "\n",
    "print(f\"The best {score_measure} score is {rand_search_tree.best_score_}\")\n",
    "print(f\"... with parameters: {rand_search_tree.best_params_}\")\n",
    "\n",
    "bestRecallTree = rand_search_tree.best_estimator_"
   ]
  },
  {
   "cell_type": "code",
   "execution_count": 20,
   "id": "6fed0cc9-3412-45c9-af8f-a5170c1a6e4e",
   "metadata": {},
   "outputs": [
    {
     "data": {
      "text/html": [
       "<div>\n",
       "<style scoped>\n",
       "    .dataframe tbody tr th:only-of-type {\n",
       "        vertical-align: middle;\n",
       "    }\n",
       "\n",
       "    .dataframe tbody tr th {\n",
       "        vertical-align: top;\n",
       "    }\n",
       "\n",
       "    .dataframe thead th {\n",
       "        text-align: right;\n",
       "    }\n",
       "</style>\n",
       "<table border=\"1\" class=\"dataframe\">\n",
       "  <thead>\n",
       "    <tr style=\"text-align: right;\">\n",
       "      <th></th>\n",
       "      <th>model</th>\n",
       "      <th>Accuracy</th>\n",
       "      <th>Precision</th>\n",
       "      <th>Recall</th>\n",
       "      <th>F1</th>\n",
       "    </tr>\n",
       "  </thead>\n",
       "  <tbody>\n",
       "    <tr>\n",
       "      <th>0</th>\n",
       "      <td>default logistic</td>\n",
       "      <td>0.993333</td>\n",
       "      <td>0.993548</td>\n",
       "      <td>0.993548</td>\n",
       "      <td>0.993548</td>\n",
       "    </tr>\n",
       "    <tr>\n",
       "      <th>0</th>\n",
       "      <td>lin svm</td>\n",
       "      <td>0.953333</td>\n",
       "      <td>1.000000</td>\n",
       "      <td>0.909677</td>\n",
       "      <td>0.952703</td>\n",
       "    </tr>\n",
       "    <tr>\n",
       "      <th>0</th>\n",
       "      <td>rbf svm</td>\n",
       "      <td>0.940000</td>\n",
       "      <td>0.992806</td>\n",
       "      <td>0.890323</td>\n",
       "      <td>0.938776</td>\n",
       "    </tr>\n",
       "    <tr>\n",
       "      <th>0</th>\n",
       "      <td>poly svm</td>\n",
       "      <td>0.943333</td>\n",
       "      <td>0.985915</td>\n",
       "      <td>0.903226</td>\n",
       "      <td>0.942761</td>\n",
       "    </tr>\n",
       "    <tr>\n",
       "      <th>0</th>\n",
       "      <td>rand_poly_svm</td>\n",
       "      <td>0.926667</td>\n",
       "      <td>0.978417</td>\n",
       "      <td>0.877419</td>\n",
       "      <td>0.925170</td>\n",
       "    </tr>\n",
       "    <tr>\n",
       "      <th>0</th>\n",
       "      <td>grid_poly_svm</td>\n",
       "      <td>0.926667</td>\n",
       "      <td>0.978417</td>\n",
       "      <td>0.877419</td>\n",
       "      <td>0.925170</td>\n",
       "    </tr>\n",
       "    <tr>\n",
       "      <th>0</th>\n",
       "      <td>rand_poly_tree</td>\n",
       "      <td>1.000000</td>\n",
       "      <td>1.000000</td>\n",
       "      <td>1.000000</td>\n",
       "      <td>1.000000</td>\n",
       "    </tr>\n",
       "  </tbody>\n",
       "</table>\n",
       "</div>"
      ],
      "text/plain": [
       "              model  Accuracy  Precision    Recall        F1\n",
       "0  default logistic  0.993333   0.993548  0.993548  0.993548\n",
       "0           lin svm  0.953333   1.000000  0.909677  0.952703\n",
       "0           rbf svm  0.940000   0.992806  0.890323  0.938776\n",
       "0          poly svm  0.943333   0.985915  0.903226  0.942761\n",
       "0     rand_poly_svm  0.926667   0.978417  0.877419  0.925170\n",
       "0     grid_poly_svm  0.926667   0.978417  0.877419  0.925170\n",
       "0    rand_poly_tree  1.000000   1.000000  1.000000  1.000000"
      ]
     },
     "execution_count": 20,
     "metadata": {},
     "output_type": "execute_result"
    }
   ],
   "source": [
    "model_preds = rand_search_tree.predict(X_test)\n",
    "c_matrix = confusion_matrix(y_test, model_preds)\n",
    "TP = c_matrix[1][1]\n",
    "TN = c_matrix[0][0]\n",
    "FP = c_matrix[0][1]\n",
    "FN = c_matrix[1][0]\n",
    "performance = pd.concat([performance, pd.DataFrame({'model':\"rand_poly_tree\", \n",
    "                                                    'Accuracy': [(TP+TN)/(TP+TN+FP+FN)], \n",
    "                                                    'Precision': [TP/(TP+FP)], \n",
    "                                                    'Recall': [TP/(TP+FN)], \n",
    "                                                    'F1': [2*TP/(2*TP+FP+FN)]\n",
    "                                                     }, index=[0])])\n",
    "performance"
   ]
  },
  {
   "cell_type": "code",
   "execution_count": 21,
   "id": "c8d69b28-7eca-438d-ae82-4c1aacbe56a5",
   "metadata": {},
   "outputs": [
    {
     "name": "stdout",
     "output_type": "stream",
     "text": [
      "Fitting 5 folds for each of 324 candidates, totalling 1620 fits\n",
      "The best accuracy score is 0.9971428571428571\n",
      "... with parameters: {'criterion': 'entropy', 'max_depth': 39, 'max_leaf_nodes': 36, 'min_impurity_decrease': 0.0009, 'min_samples_leaf': 3, 'min_samples_split': 3}\n"
     ]
    }
   ],
   "source": [
    "#grid with tree\n",
    "score_measure = \"accuracy\"\n",
    "kfolds = 5\n",
    "\n",
    "param_grid = {\n",
    "    'min_samples_split': np.arange(3,6),  \n",
    "    'min_samples_leaf': np.arange(3,6),\n",
    "    'min_impurity_decrease': np.arange(0.0009, 0.0012,0.0001),\n",
    "    'max_leaf_nodes': np.arange(36,40), \n",
    "    'max_depth': np.arange(39,42), \n",
    "    'criterion': ['entropy'],\n",
    "}\n",
    "\n",
    "dtree = DecisionTreeClassifier()\n",
    "grid_search_tree = GridSearchCV(estimator = dtree, param_grid=param_grid, cv=kfolds, \n",
    "                           scoring=score_measure, verbose=1, n_jobs=-1,  # n_jobs=-1 will utilize all available CPUs \n",
    "                           return_train_score=True)\n",
    "\n",
    "_ = grid_search_tree.fit(X_train, y_train)\n",
    "\n",
    "print(f\"The best {score_measure} score is {grid_search_tree.best_score_}\")\n",
    "print(f\"... with parameters: {grid_search_tree.best_params_}\")\n",
    "\n",
    "bestRecallTree = grid_search_tree.best_estimator_"
   ]
  },
  {
   "cell_type": "code",
   "execution_count": 22,
   "id": "f5ef2f9c-b2c8-4bec-8245-8761ca91a414",
   "metadata": {},
   "outputs": [
    {
     "data": {
      "text/html": [
       "<div>\n",
       "<style scoped>\n",
       "    .dataframe tbody tr th:only-of-type {\n",
       "        vertical-align: middle;\n",
       "    }\n",
       "\n",
       "    .dataframe tbody tr th {\n",
       "        vertical-align: top;\n",
       "    }\n",
       "\n",
       "    .dataframe thead th {\n",
       "        text-align: right;\n",
       "    }\n",
       "</style>\n",
       "<table border=\"1\" class=\"dataframe\">\n",
       "  <thead>\n",
       "    <tr style=\"text-align: right;\">\n",
       "      <th></th>\n",
       "      <th>model</th>\n",
       "      <th>Accuracy</th>\n",
       "      <th>Precision</th>\n",
       "      <th>Recall</th>\n",
       "      <th>F1</th>\n",
       "    </tr>\n",
       "  </thead>\n",
       "  <tbody>\n",
       "    <tr>\n",
       "      <th>0</th>\n",
       "      <td>default logistic</td>\n",
       "      <td>0.993333</td>\n",
       "      <td>0.993548</td>\n",
       "      <td>0.993548</td>\n",
       "      <td>0.993548</td>\n",
       "    </tr>\n",
       "    <tr>\n",
       "      <th>0</th>\n",
       "      <td>lin svm</td>\n",
       "      <td>0.953333</td>\n",
       "      <td>1.000000</td>\n",
       "      <td>0.909677</td>\n",
       "      <td>0.952703</td>\n",
       "    </tr>\n",
       "    <tr>\n",
       "      <th>0</th>\n",
       "      <td>rbf svm</td>\n",
       "      <td>0.940000</td>\n",
       "      <td>0.992806</td>\n",
       "      <td>0.890323</td>\n",
       "      <td>0.938776</td>\n",
       "    </tr>\n",
       "    <tr>\n",
       "      <th>0</th>\n",
       "      <td>poly svm</td>\n",
       "      <td>0.943333</td>\n",
       "      <td>0.985915</td>\n",
       "      <td>0.903226</td>\n",
       "      <td>0.942761</td>\n",
       "    </tr>\n",
       "    <tr>\n",
       "      <th>0</th>\n",
       "      <td>rand_poly_svm</td>\n",
       "      <td>0.926667</td>\n",
       "      <td>0.978417</td>\n",
       "      <td>0.877419</td>\n",
       "      <td>0.925170</td>\n",
       "    </tr>\n",
       "    <tr>\n",
       "      <th>0</th>\n",
       "      <td>grid_poly_svm</td>\n",
       "      <td>0.926667</td>\n",
       "      <td>0.978417</td>\n",
       "      <td>0.877419</td>\n",
       "      <td>0.925170</td>\n",
       "    </tr>\n",
       "    <tr>\n",
       "      <th>0</th>\n",
       "      <td>rand_poly_tree</td>\n",
       "      <td>1.000000</td>\n",
       "      <td>1.000000</td>\n",
       "      <td>1.000000</td>\n",
       "      <td>1.000000</td>\n",
       "    </tr>\n",
       "    <tr>\n",
       "      <th>0</th>\n",
       "      <td>grid_poly_tree</td>\n",
       "      <td>1.000000</td>\n",
       "      <td>1.000000</td>\n",
       "      <td>1.000000</td>\n",
       "      <td>1.000000</td>\n",
       "    </tr>\n",
       "  </tbody>\n",
       "</table>\n",
       "</div>"
      ],
      "text/plain": [
       "              model  Accuracy  Precision    Recall        F1\n",
       "0  default logistic  0.993333   0.993548  0.993548  0.993548\n",
       "0           lin svm  0.953333   1.000000  0.909677  0.952703\n",
       "0           rbf svm  0.940000   0.992806  0.890323  0.938776\n",
       "0          poly svm  0.943333   0.985915  0.903226  0.942761\n",
       "0     rand_poly_svm  0.926667   0.978417  0.877419  0.925170\n",
       "0     grid_poly_svm  0.926667   0.978417  0.877419  0.925170\n",
       "0    rand_poly_tree  1.000000   1.000000  1.000000  1.000000\n",
       "0    grid_poly_tree  1.000000   1.000000  1.000000  1.000000"
      ]
     },
     "execution_count": 22,
     "metadata": {},
     "output_type": "execute_result"
    }
   ],
   "source": [
    "model_preds = grid_search_tree.predict(X_test)\n",
    "c_matrix = confusion_matrix(y_test, model_preds)\n",
    "TP = c_matrix[1][1]\n",
    "TN = c_matrix[0][0]\n",
    "FP = c_matrix[0][1]\n",
    "FN = c_matrix[1][0]\n",
    "performance = pd.concat([performance, pd.DataFrame({'model':\"grid_poly_tree\", \n",
    "                                                    'Accuracy': [(TP+TN)/(TP+TN+FP+FN)], \n",
    "                                                    'Precision': [TP/(TP+FP)], \n",
    "                                                    'Recall': [TP/(TP+FN)], \n",
    "                                                    'F1': [2*TP/(2*TP+FP+FN)]\n",
    "                                                     }, index=[0])])\n",
    "performance"
   ]
  },
  {
   "cell_type": "markdown",
   "id": "0e16c145-8ef8-4a6a-9eae-fd82578e627e",
   "metadata": {},
   "source": [
    "Neural Network"
   ]
  },
  {
   "cell_type": "code",
   "execution_count": 23,
   "id": "2fa47db8-65a8-418c-808f-f50cee419905",
   "metadata": {},
   "outputs": [
    {
     "name": "stderr",
     "output_type": "stream",
     "text": [
      "C:\\Users\\davul\\anaconda3\\lib\\site-packages\\sklearn\\neural_network\\_multilayer_perceptron.py:1109: DataConversionWarning: A column-vector y was passed when a 1d array was expected. Please change the shape of y to (n_samples, ), for example using ravel().\n",
      "  y = column_or_1d(y, warn=True)\n"
     ]
    },
    {
     "name": "stdout",
     "output_type": "stream",
     "text": [
      "Wall time: 2.33 s\n"
     ]
    }
   ],
   "source": [
    "%%time\n",
    "\n",
    "ann = MLPClassifier(hidden_layer_sizes=(100,), solver='adam', max_iter=800)\n",
    "_ = ann.fit(X_train, y_train)"
   ]
  },
  {
   "cell_type": "code",
   "execution_count": 24,
   "id": "cb7b25a1-7851-465a-bdbd-0de8a42c0b69",
   "metadata": {},
   "outputs": [
    {
     "data": {
      "text/html": [
       "<div>\n",
       "<style scoped>\n",
       "    .dataframe tbody tr th:only-of-type {\n",
       "        vertical-align: middle;\n",
       "    }\n",
       "\n",
       "    .dataframe tbody tr th {\n",
       "        vertical-align: top;\n",
       "    }\n",
       "\n",
       "    .dataframe thead th {\n",
       "        text-align: right;\n",
       "    }\n",
       "</style>\n",
       "<table border=\"1\" class=\"dataframe\">\n",
       "  <thead>\n",
       "    <tr style=\"text-align: right;\">\n",
       "      <th></th>\n",
       "      <th>model</th>\n",
       "      <th>Accuracy</th>\n",
       "      <th>Precision</th>\n",
       "      <th>Recall</th>\n",
       "      <th>F1</th>\n",
       "    </tr>\n",
       "  </thead>\n",
       "  <tbody>\n",
       "    <tr>\n",
       "      <th>0</th>\n",
       "      <td>default logistic</td>\n",
       "      <td>0.993333</td>\n",
       "      <td>0.993548</td>\n",
       "      <td>0.993548</td>\n",
       "      <td>0.993548</td>\n",
       "    </tr>\n",
       "    <tr>\n",
       "      <th>0</th>\n",
       "      <td>lin svm</td>\n",
       "      <td>0.953333</td>\n",
       "      <td>1.000000</td>\n",
       "      <td>0.909677</td>\n",
       "      <td>0.952703</td>\n",
       "    </tr>\n",
       "    <tr>\n",
       "      <th>0</th>\n",
       "      <td>rbf svm</td>\n",
       "      <td>0.940000</td>\n",
       "      <td>0.992806</td>\n",
       "      <td>0.890323</td>\n",
       "      <td>0.938776</td>\n",
       "    </tr>\n",
       "    <tr>\n",
       "      <th>0</th>\n",
       "      <td>poly svm</td>\n",
       "      <td>0.943333</td>\n",
       "      <td>0.985915</td>\n",
       "      <td>0.903226</td>\n",
       "      <td>0.942761</td>\n",
       "    </tr>\n",
       "    <tr>\n",
       "      <th>0</th>\n",
       "      <td>rand_poly_svm</td>\n",
       "      <td>0.926667</td>\n",
       "      <td>0.978417</td>\n",
       "      <td>0.877419</td>\n",
       "      <td>0.925170</td>\n",
       "    </tr>\n",
       "    <tr>\n",
       "      <th>0</th>\n",
       "      <td>grid_poly_svm</td>\n",
       "      <td>0.926667</td>\n",
       "      <td>0.978417</td>\n",
       "      <td>0.877419</td>\n",
       "      <td>0.925170</td>\n",
       "    </tr>\n",
       "    <tr>\n",
       "      <th>0</th>\n",
       "      <td>rand_poly_tree</td>\n",
       "      <td>1.000000</td>\n",
       "      <td>1.000000</td>\n",
       "      <td>1.000000</td>\n",
       "      <td>1.000000</td>\n",
       "    </tr>\n",
       "    <tr>\n",
       "      <th>0</th>\n",
       "      <td>grid_poly_tree</td>\n",
       "      <td>1.000000</td>\n",
       "      <td>1.000000</td>\n",
       "      <td>1.000000</td>\n",
       "      <td>1.000000</td>\n",
       "    </tr>\n",
       "    <tr>\n",
       "      <th>0</th>\n",
       "      <td>Neural Networks-100</td>\n",
       "      <td>0.990000</td>\n",
       "      <td>1.000000</td>\n",
       "      <td>0.980645</td>\n",
       "      <td>0.990228</td>\n",
       "    </tr>\n",
       "  </tbody>\n",
       "</table>\n",
       "</div>"
      ],
      "text/plain": [
       "                 model  Accuracy  Precision    Recall        F1\n",
       "0     default logistic  0.993333   0.993548  0.993548  0.993548\n",
       "0              lin svm  0.953333   1.000000  0.909677  0.952703\n",
       "0              rbf svm  0.940000   0.992806  0.890323  0.938776\n",
       "0             poly svm  0.943333   0.985915  0.903226  0.942761\n",
       "0        rand_poly_svm  0.926667   0.978417  0.877419  0.925170\n",
       "0        grid_poly_svm  0.926667   0.978417  0.877419  0.925170\n",
       "0       rand_poly_tree  1.000000   1.000000  1.000000  1.000000\n",
       "0       grid_poly_tree  1.000000   1.000000  1.000000  1.000000\n",
       "0  Neural Networks-100  0.990000   1.000000  0.980645  0.990228"
      ]
     },
     "execution_count": 24,
     "metadata": {},
     "output_type": "execute_result"
    }
   ],
   "source": [
    "model_preds = ann.predict(X_test)\n",
    "c_matrix = confusion_matrix(y_test, model_preds)\n",
    "TP = c_matrix[1][1]\n",
    "TN = c_matrix[0][0]\n",
    "FP = c_matrix[0][1]\n",
    "FN = c_matrix[1][0]\n",
    "performance = pd.concat([performance, pd.DataFrame({'model':\"Neural Networks-100\", \n",
    "                                                    'Accuracy': [(TP+TN)/(TP+TN+FP+FN)], \n",
    "                                                    'Precision': [TP/(TP+FP)], \n",
    "                                                    'Recall': [TP/(TP+FN)], \n",
    "                                                    'F1': [2*TP/(2*TP+FP+FN)]\n",
    "                                                     }, index=[0])])\n",
    "performance"
   ]
  },
  {
   "cell_type": "markdown",
   "id": "8a576dc4-ef22-4b1b-a401-5d674736498c",
   "metadata": {},
   "source": [
    "Deep  Networks"
   ]
  },
  {
   "cell_type": "code",
   "execution_count": 44,
   "id": "9cc2e63c-7b6a-428d-b378-4cca65f9e05d",
   "metadata": {},
   "outputs": [],
   "source": [
    "import tensorflow as tf\n",
    "from tensorflow import keras\n",
    "\n",
    "# fix random seed for reproducibility\n",
    "np.random.seed(1)\n",
    "tf.random.set_seed(1)"
   ]
  },
  {
   "cell_type": "code",
   "execution_count": 51,
   "id": "f36163ff-a5e7-49b7-8d32-f9d37615de0a",
   "metadata": {},
   "outputs": [
    {
     "name": "stdout",
     "output_type": "stream",
     "text": [
      "Wall time: 72.9 ms\n"
     ]
    }
   ],
   "source": [
    "%%time\n",
    "\n",
    "# create model stucture\n",
    "model = keras.models.Sequential()\n",
    "model.add(keras.layers.Input(11))\n",
    "model.add(keras.layers.Dense(100, activation='relu'))\n",
    "model.add(keras.layers.Dense(100, activation='relu'))\n",
    "model.add(keras.layers.Dense(400, activation='relu'))\n",
    "model.add(keras.layers.Dense(10, activation='softmax')) # final layer, 10 categories\n",
    "\n",
    "\n",
    "# compile\n",
    "model.compile(loss='sparse_categorical_crossentropy', optimizer='adam', metrics=['accuracy'])\n",
    "\n",
    "# if you want to overide the defaults for the optimizer....\n",
    "#adam = keras.optimizers.Adam(learning_rate=0.01)\n",
    "#model.compile(loss='sparse_categorical_crossentropy', optimizer=adam, metrics=['accuracy'])\n"
   ]
  },
  {
   "cell_type": "code",
   "execution_count": 54,
   "id": "0114ab46-1950-495d-90ef-f653cf2e40e0",
   "metadata": {},
   "outputs": [
    {
     "name": "stdout",
     "output_type": "stream",
     "text": [
      "Model: \"sequential_7\"\n",
      "_________________________________________________________________\n",
      " Layer (type)                Output Shape              Param #   \n",
      "=================================================================\n",
      " dense_28 (Dense)            (None, 100)               1200      \n",
      "                                                                 \n",
      " dense_29 (Dense)            (None, 100)               10100     \n",
      "                                                                 \n",
      " dense_30 (Dense)            (None, 400)               40400     \n",
      "                                                                 \n",
      " dense_31 (Dense)            (None, 10)                4010      \n",
      "                                                                 \n",
      "=================================================================\n",
      "Total params: 55,710\n",
      "Trainable params: 55,710\n",
      "Non-trainable params: 0\n",
      "_________________________________________________________________\n"
     ]
    }
   ],
   "source": [
    "model.summary()"
   ]
  },
  {
   "cell_type": "code",
   "execution_count": 53,
   "id": "7a156131-4993-4775-a8ae-91649d796634",
   "metadata": {},
   "outputs": [
    {
     "name": "stdout",
     "output_type": "stream",
     "text": [
      "Epoch 1/20\n",
      "7/7 [==============================] - 1s 76ms/step - loss: 1.9000 - accuracy: 0.4700 - val_loss: 1.4125 - val_accuracy: 0.7200\n",
      "Epoch 2/20\n",
      "7/7 [==============================] - 0s 10ms/step - loss: 1.0696 - accuracy: 0.7643 - val_loss: 0.7168 - val_accuracy: 0.7467\n",
      "Epoch 3/20\n",
      "7/7 [==============================] - 0s 10ms/step - loss: 0.5835 - accuracy: 0.7571 - val_loss: 0.4980 - val_accuracy: 0.7900\n",
      "Epoch 4/20\n",
      "7/7 [==============================] - 0s 9ms/step - loss: 0.4396 - accuracy: 0.8000 - val_loss: 0.4457 - val_accuracy: 0.7800\n",
      "Epoch 5/20\n",
      "7/7 [==============================] - 0s 9ms/step - loss: 0.3696 - accuracy: 0.8271 - val_loss: 0.3842 - val_accuracy: 0.8167\n",
      "Epoch 6/20\n",
      "7/7 [==============================] - 0s 10ms/step - loss: 0.3140 - accuracy: 0.8629 - val_loss: 0.3302 - val_accuracy: 0.8300\n",
      "Epoch 7/20\n",
      "7/7 [==============================] - 0s 9ms/step - loss: 0.2641 - accuracy: 0.8857 - val_loss: 0.2735 - val_accuracy: 0.8467\n",
      "Epoch 8/20\n",
      "7/7 [==============================] - 0s 10ms/step - loss: 0.2277 - accuracy: 0.9057 - val_loss: 0.2422 - val_accuracy: 0.8833\n",
      "Epoch 9/20\n",
      "7/7 [==============================] - 0s 10ms/step - loss: 0.2134 - accuracy: 0.9100 - val_loss: 0.2206 - val_accuracy: 0.9033\n",
      "Epoch 10/20\n",
      "7/7 [==============================] - 0s 9ms/step - loss: 0.1742 - accuracy: 0.9300 - val_loss: 0.2061 - val_accuracy: 0.9000\n",
      "Epoch 11/20\n",
      "7/7 [==============================] - 0s 9ms/step - loss: 0.1656 - accuracy: 0.9371 - val_loss: 0.1778 - val_accuracy: 0.9033\n",
      "Epoch 12/20\n",
      "7/7 [==============================] - 0s 9ms/step - loss: 0.1466 - accuracy: 0.9471 - val_loss: 0.1705 - val_accuracy: 0.9033\n",
      "Epoch 13/20\n",
      "7/7 [==============================] - 0s 9ms/step - loss: 0.1411 - accuracy: 0.9457 - val_loss: 0.1676 - val_accuracy: 0.9100\n",
      "Epoch 14/20\n",
      "7/7 [==============================] - 0s 8ms/step - loss: 0.1292 - accuracy: 0.9471 - val_loss: 0.1624 - val_accuracy: 0.9133\n",
      "Epoch 15/20\n",
      "7/7 [==============================] - 0s 8ms/step - loss: 0.1155 - accuracy: 0.9571 - val_loss: 0.1336 - val_accuracy: 0.9533\n",
      "Epoch 16/20\n",
      "7/7 [==============================] - 0s 10ms/step - loss: 0.1058 - accuracy: 0.9629 - val_loss: 0.1410 - val_accuracy: 0.9367\n",
      "Epoch 17/20\n",
      "7/7 [==============================] - 0s 9ms/step - loss: 0.0947 - accuracy: 0.9829 - val_loss: 0.1305 - val_accuracy: 0.9367\n",
      "Epoch 18/20\n",
      "7/7 [==============================] - 0s 9ms/step - loss: 0.0860 - accuracy: 0.9714 - val_loss: 0.1113 - val_accuracy: 0.9667\n",
      "Epoch 19/20\n",
      "7/7 [==============================] - 0s 10ms/step - loss: 0.0809 - accuracy: 0.9800 - val_loss: 0.1195 - val_accuracy: 0.9367\n",
      "Epoch 20/20\n",
      "7/7 [==============================] - 0s 10ms/step - loss: 0.0713 - accuracy: 0.9771 - val_loss: 0.1051 - val_accuracy: 0.9667\n",
      "Wall time: 2.71 s\n"
     ]
    }
   ],
   "source": [
    "%%time\n",
    "\n",
    "# fit the model\n",
    "history = model.fit(X_train, y_train, \n",
    "                    validation_data=(X_test, y_test), \n",
    "                    epochs=20, batch_size=100)\n"
   ]
  },
  {
   "cell_type": "code",
   "execution_count": 55,
   "id": "5200463b-2bab-46b9-a408-3bd3be071c6e",
   "metadata": {},
   "outputs": [
    {
     "data": {
      "text/plain": [
       "[0.10509748011827469, 0.9666666388511658]"
      ]
     },
     "execution_count": 55,
     "metadata": {},
     "output_type": "execute_result"
    }
   ],
   "source": [
    "# evaluate the model\n",
    "\n",
    "scores = model.evaluate(X_test, y_test, verbose=0)\n",
    "scores\n",
    "# In results, first is loss, second is accuracy"
   ]
  },
  {
   "cell_type": "code",
   "execution_count": 56,
   "id": "cd9cc426-8f9f-41f9-b221-b8666b61b21e",
   "metadata": {},
   "outputs": [
    {
     "name": "stdout",
     "output_type": "stream",
     "text": [
      "loss: 0.11\n",
      "accuracy: 96.67%\n"
     ]
    }
   ],
   "source": [
    "# let's format this into a better output...\n",
    "\n",
    "print(\"%s: %.2f\" % (model.metrics_names[0], scores[0]))\n",
    "print(\"%s: %.2f%%\" % (model.metrics_names[1], scores[1]*100))"
   ]
  },
  {
   "cell_type": "markdown",
   "id": "94d591d0-684e-4ee6-b3cc-5e9f0512f5a7",
   "metadata": {},
   "source": [
    "Wide and Deep Network"
   ]
  },
  {
   "cell_type": "code",
   "execution_count": 57,
   "id": "35e5b935-472f-4b1f-8009-8acd2d103a13",
   "metadata": {},
   "outputs": [],
   "source": [
    "#Define the model: for multi-class\n",
    "\n",
    "model = keras.models.Sequential()\n",
    "\n",
    "model.add(keras.layers.Input(shape=11))\n",
    "model.add(keras.layers.Dense(100, activation='relu'))\n",
    "model.add(keras.layers.Dense(100, activation='relu'))\n",
    "model.add(keras.layers.Dense(400, activation='relu'))\n",
    "model.add(keras.layers.Dense(10, activation='softmax'))"
   ]
  },
  {
   "cell_type": "code",
   "execution_count": 58,
   "id": "1574b120-6ef8-4ab6-b872-c3fdbfe164d2",
   "metadata": {},
   "outputs": [],
   "source": [
    "# Compile model\n",
    "\n",
    "#Optimizer:\n",
    "adam = keras.optimizers.Adam(learning_rate=0.01)\n",
    "model.compile(loss='sparse_categorical_crossentropy', optimizer=adam, metrics=['accuracy'])"
   ]
  },
  {
   "cell_type": "code",
   "execution_count": 59,
   "id": "d8d02a1a-01db-4165-b24f-ea62154d9b8d",
   "metadata": {},
   "outputs": [
    {
     "name": "stdout",
     "output_type": "stream",
     "text": [
      "Epoch 1/20\n",
      "7/7 [==============================] - 1s 33ms/step - loss: 0.8931 - accuracy: 0.6486 - val_loss: 0.5095 - val_accuracy: 0.7800\n",
      "Epoch 2/20\n",
      "7/7 [==============================] - 0s 8ms/step - loss: 0.4144 - accuracy: 0.8286 - val_loss: 0.3239 - val_accuracy: 0.8733\n",
      "Epoch 3/20\n",
      "7/7 [==============================] - 0s 8ms/step - loss: 0.2852 - accuracy: 0.8700 - val_loss: 0.2197 - val_accuracy: 0.9033\n",
      "Epoch 4/20\n",
      "7/7 [==============================] - 0s 9ms/step - loss: 0.1974 - accuracy: 0.9257 - val_loss: 0.2167 - val_accuracy: 0.9067\n",
      "Epoch 5/20\n",
      "7/7 [==============================] - 0s 8ms/step - loss: 0.1553 - accuracy: 0.9343 - val_loss: 0.1611 - val_accuracy: 0.9333\n",
      "Epoch 6/20\n",
      "7/7 [==============================] - 0s 9ms/step - loss: 0.1162 - accuracy: 0.9543 - val_loss: 0.1553 - val_accuracy: 0.9167\n",
      "Epoch 7/20\n",
      "7/7 [==============================] - 0s 8ms/step - loss: 0.0872 - accuracy: 0.9629 - val_loss: 0.0940 - val_accuracy: 0.9600\n",
      "Epoch 8/20\n",
      "7/7 [==============================] - 0s 9ms/step - loss: 0.0559 - accuracy: 0.9814 - val_loss: 0.0874 - val_accuracy: 0.9533\n",
      "Epoch 9/20\n",
      "7/7 [==============================] - 0s 9ms/step - loss: 0.0450 - accuracy: 0.9843 - val_loss: 0.0629 - val_accuracy: 0.9700\n",
      "Epoch 10/20\n",
      "7/7 [==============================] - 0s 8ms/step - loss: 0.0402 - accuracy: 0.9829 - val_loss: 0.2121 - val_accuracy: 0.9267\n",
      "Epoch 11/20\n",
      "7/7 [==============================] - 0s 9ms/step - loss: 0.0821 - accuracy: 0.9714 - val_loss: 0.2701 - val_accuracy: 0.9167\n",
      "Epoch 12/20\n",
      "7/7 [==============================] - 0s 8ms/step - loss: 0.0889 - accuracy: 0.9700 - val_loss: 0.0645 - val_accuracy: 0.9733\n",
      "Epoch 13/20\n",
      "7/7 [==============================] - 0s 8ms/step - loss: 0.0642 - accuracy: 0.9686 - val_loss: 0.0629 - val_accuracy: 0.9833\n",
      "Epoch 14/20\n",
      "7/7 [==============================] - 0s 8ms/step - loss: 0.0786 - accuracy: 0.9686 - val_loss: 0.2653 - val_accuracy: 0.9100\n",
      "Epoch 15/20\n",
      "7/7 [==============================] - 0s 9ms/step - loss: 0.0775 - accuracy: 0.9700 - val_loss: 0.0826 - val_accuracy: 0.9667\n",
      "Epoch 16/20\n",
      "7/7 [==============================] - 0s 12ms/step - loss: 0.0500 - accuracy: 0.9814 - val_loss: 0.0591 - val_accuracy: 0.9733\n",
      "Epoch 17/20\n",
      "7/7 [==============================] - 0s 9ms/step - loss: 0.0431 - accuracy: 0.9886 - val_loss: 0.1009 - val_accuracy: 0.9600\n",
      "Epoch 18/20\n",
      "7/7 [==============================] - 0s 9ms/step - loss: 0.0316 - accuracy: 0.9886 - val_loss: 0.0732 - val_accuracy: 0.9700\n",
      "Epoch 19/20\n",
      "7/7 [==============================] - 0s 9ms/step - loss: 0.0468 - accuracy: 0.9843 - val_loss: 0.0726 - val_accuracy: 0.9833\n",
      "Epoch 20/20\n",
      "7/7 [==============================] - 0s 9ms/step - loss: 0.0224 - accuracy: 0.9914 - val_loss: 0.0763 - val_accuracy: 0.9867\n"
     ]
    }
   ],
   "source": [
    "# Fit the model\n",
    "\n",
    "history = model.fit(X_train, y_train, \n",
    "                    validation_data=(X_test, y_test), \n",
    "                    epochs=20, batch_size=100)"
   ]
  },
  {
   "cell_type": "code",
   "execution_count": 60,
   "id": "4f7c2c04-16b8-41f8-867a-68fb6b2de1ea",
   "metadata": {},
   "outputs": [
    {
     "data": {
      "text/plain": [
       "[0.07626188546419144, 0.9866666793823242]"
      ]
     },
     "execution_count": 60,
     "metadata": {},
     "output_type": "execute_result"
    }
   ],
   "source": [
    "# evaluate the model\n",
    "\n",
    "scores = model.evaluate(X_test, y_test, verbose=0)\n",
    "scores\n",
    "\n",
    "# In results, first is loss, second is accuracy"
   ]
  },
  {
   "cell_type": "code",
   "execution_count": 61,
   "id": "79b0f5eb-e8d4-42f7-8da4-3b44a2609029",
   "metadata": {},
   "outputs": [
    {
     "name": "stdout",
     "output_type": "stream",
     "text": [
      "loss: 0.08\n",
      "accuracy: 98.67%\n"
     ]
    }
   ],
   "source": [
    "# extract the accuracy from model.evaluate\n",
    "\n",
    "print(\"%s: %.2f\" % (model.metrics_names[0], scores[0]))\n",
    "print(\"%s: %.2f%%\" % (model.metrics_names[1], scores[1]*100))"
   ]
  },
  {
   "cell_type": "markdown",
   "id": "199a91cd-186e-42d5-8041-0ed4ce413635",
   "metadata": {},
   "source": [
    "Glot Uniform"
   ]
  },
  {
   "cell_type": "code",
   "execution_count": 66,
   "id": "cbcccdd4-5dc1-47c0-87c0-ed955c15352b",
   "metadata": {},
   "outputs": [
    {
     "name": "stdout",
     "output_type": "stream",
     "text": [
      "Wall time: 0 ns\n"
     ]
    }
   ],
   "source": [
    "%%time\n",
    "\n",
    "# If you don't have the following installed, from command line '!pip install scikeras'\n",
    "from scikeras.wrappers import KerasClassifier\n",
    "from keras.initializers import GlorotNormal\n",
    "\n",
    "score_measure = \"accuracy\"\n",
    "kfolds = 5\n",
    "\n",
    "def build_clf(hidden_layer_sizes, dropout):\n",
    "    ann = tf.keras.models.Sequential()\n",
    "    ann.add(keras.layers.Input(shape=11)),\n",
    "    for hidden_layer_size in hidden_layer_sizes:\n",
    "        model.add(keras.layers.Dense(hidden_layer_size, kernel_initializer= tf.keras.initializers.GlorotUniform(), \n",
    "                                     bias_initializer=keras.initializers.RandomNormal(mean=0.0, stddev=0.05, seed=None), activation=\"relu\"))\n",
    "        model.add(keras.layers.Dropout(dropout))\n",
    "    ann.add(tf.keras.layers.Dense(10, activation='softmax'))\n",
    "    ann.compile(loss = 'sparse_categorical_crossentropy', metrics = ['accuracy'])\n",
    "    return ann\n"
   ]
  },
  {
   "cell_type": "code",
   "execution_count": 67,
   "id": "b625417e-5c38-4210-bc8e-ffaf15327044",
   "metadata": {},
   "outputs": [],
   "source": [
    "from scikeras.wrappers import KerasClassifier\n",
    "\n",
    "keras_clf = KerasClassifier(\n",
    "    model=build_clf,\n",
    "    hidden_layer_sizes=64,\n",
    "    dropout = 0.0\n",
    ")\n"
   ]
  },
  {
   "cell_type": "code",
   "execution_count": 68,
   "id": "e7e6e2a5-8c34-4c37-9aa7-e1e2aa112641",
   "metadata": {},
   "outputs": [
    {
     "data": {
      "text/plain": [
       "dict_keys(['model', 'build_fn', 'warm_start', 'random_state', 'optimizer', 'loss', 'metrics', 'batch_size', 'validation_batch_size', 'verbose', 'callbacks', 'validation_split', 'shuffle', 'run_eagerly', 'epochs', 'hidden_layer_sizes', 'dropout', 'class_weight'])"
      ]
     },
     "execution_count": 68,
     "metadata": {},
     "output_type": "execute_result"
    }
   ],
   "source": [
    "from tensorflow.keras.callbacks import EarlyStopping\n",
    "from sklearn.model_selection import RandomizedSearchCV\n",
    "\n",
    "params = {\n",
    "    'optimizer__learning_rate': [0.0005, 0.001, 0.005],\n",
    "    'model__hidden_layer_sizes': [(70,),(90, ), (100,), (100, 90)],\n",
    "    'model__dropout': [0, 0.1],\n",
    "    'batch_size':[20, 60, 100],\n",
    "    'epochs':[10, 50, 100],\n",
    "    'optimizer':['adam','sgd'],\n",
    "   \n",
    "    \n",
    "}\n",
    "keras_clf.get_params().keys()\n",
    "\n"
   ]
  },
  {
   "cell_type": "code",
   "execution_count": 69,
   "id": "6cb5ee81-04ed-46bb-8df0-4c6759f34cad",
   "metadata": {},
   "outputs": [
    {
     "name": "stdout",
     "output_type": "stream",
     "text": [
      "3/3 [==============================] - 0s 2ms/step\n",
      "3/3 [==============================] - 0s 2ms/step\n"
     ]
    },
    {
     "name": "stderr",
     "output_type": "stream",
     "text": [
      "C:\\Users\\davul\\anaconda3\\lib\\site-packages\\sklearn\\model_selection\\_validation.py:770: UserWarning: Scoring failed. The score on this train-test partition for these parameters will be set to nan. Details: \n",
      "Traceback (most recent call last):\n",
      "  File \"C:\\Users\\davul\\anaconda3\\lib\\site-packages\\sklearn\\model_selection\\_validation.py\", line 761, in _score\n",
      "    scores = scorer(estimator, X_test, y_test)\n",
      "  File \"C:\\Users\\davul\\anaconda3\\lib\\site-packages\\sklearn\\metrics\\_scorer.py\", line 216, in __call__\n",
      "    return self._score(\n",
      "  File \"C:\\Users\\davul\\anaconda3\\lib\\site-packages\\sklearn\\metrics\\_scorer.py\", line 258, in _score\n",
      "    y_pred = method_caller(estimator, \"predict\", X)\n",
      "  File \"C:\\Users\\davul\\anaconda3\\lib\\site-packages\\sklearn\\metrics\\_scorer.py\", line 68, in _cached_call\n",
      "    return getattr(estimator, method)(*args, **kwargs)\n",
      "  File \"C:\\Users\\davul\\anaconda3\\lib\\site-packages\\scikeras\\wrappers.py\", line 1054, in predict\n",
      "    y_pred = self.target_encoder_.inverse_transform(y_pred)\n",
      "  File \"C:\\Users\\davul\\anaconda3\\lib\\site-packages\\scikeras\\utils\\transformers.py\", line 256, in inverse_transform\n",
      "    class_predictions = self._final_encoder.inverse_transform(class_predictions)\n",
      "  File \"C:\\Users\\davul\\anaconda3\\lib\\site-packages\\sklearn\\utils\\metaestimators.py\", line 113, in <lambda>\n",
      "    out = lambda *args, **kwargs: self.fn(obj, *args, **kwargs)  # noqa\n",
      "  File \"C:\\Users\\davul\\anaconda3\\lib\\site-packages\\sklearn\\pipeline.py\", line 675, in inverse_transform\n",
      "    Xt = transform.inverse_transform(Xt)\n",
      "  File \"C:\\Users\\davul\\anaconda3\\lib\\site-packages\\sklearn\\preprocessing\\_encoders.py\", line 990, in inverse_transform\n",
      "    X_tr[:, i] = self.categories_[i][labels]\n",
      "IndexError: index 9 is out of bounds for axis 0 with size 2\n",
      "\n",
      "  warnings.warn(\n"
     ]
    },
    {
     "name": "stdout",
     "output_type": "stream",
     "text": [
      "3/3 [==============================] - 0s 1ms/step\n"
     ]
    },
    {
     "name": "stderr",
     "output_type": "stream",
     "text": [
      "C:\\Users\\davul\\anaconda3\\lib\\site-packages\\sklearn\\model_selection\\_validation.py:770: UserWarning: Scoring failed. The score on this train-test partition for these parameters will be set to nan. Details: \n",
      "Traceback (most recent call last):\n",
      "  File \"C:\\Users\\davul\\anaconda3\\lib\\site-packages\\sklearn\\model_selection\\_validation.py\", line 761, in _score\n",
      "    scores = scorer(estimator, X_test, y_test)\n",
      "  File \"C:\\Users\\davul\\anaconda3\\lib\\site-packages\\sklearn\\metrics\\_scorer.py\", line 216, in __call__\n",
      "    return self._score(\n",
      "  File \"C:\\Users\\davul\\anaconda3\\lib\\site-packages\\sklearn\\metrics\\_scorer.py\", line 258, in _score\n",
      "    y_pred = method_caller(estimator, \"predict\", X)\n",
      "  File \"C:\\Users\\davul\\anaconda3\\lib\\site-packages\\sklearn\\metrics\\_scorer.py\", line 68, in _cached_call\n",
      "    return getattr(estimator, method)(*args, **kwargs)\n",
      "  File \"C:\\Users\\davul\\anaconda3\\lib\\site-packages\\scikeras\\wrappers.py\", line 1054, in predict\n",
      "    y_pred = self.target_encoder_.inverse_transform(y_pred)\n",
      "  File \"C:\\Users\\davul\\anaconda3\\lib\\site-packages\\scikeras\\utils\\transformers.py\", line 256, in inverse_transform\n",
      "    class_predictions = self._final_encoder.inverse_transform(class_predictions)\n",
      "  File \"C:\\Users\\davul\\anaconda3\\lib\\site-packages\\sklearn\\utils\\metaestimators.py\", line 113, in <lambda>\n",
      "    out = lambda *args, **kwargs: self.fn(obj, *args, **kwargs)  # noqa\n",
      "  File \"C:\\Users\\davul\\anaconda3\\lib\\site-packages\\sklearn\\pipeline.py\", line 675, in inverse_transform\n",
      "    Xt = transform.inverse_transform(Xt)\n",
      "  File \"C:\\Users\\davul\\anaconda3\\lib\\site-packages\\sklearn\\preprocessing\\_encoders.py\", line 990, in inverse_transform\n",
      "    X_tr[:, i] = self.categories_[i][labels]\n",
      "IndexError: index 6 is out of bounds for axis 0 with size 2\n",
      "\n",
      "  warnings.warn(\n"
     ]
    },
    {
     "name": "stdout",
     "output_type": "stream",
     "text": [
      "3/3 [==============================] - 0s 2ms/step\n"
     ]
    },
    {
     "name": "stderr",
     "output_type": "stream",
     "text": [
      "C:\\Users\\davul\\anaconda3\\lib\\site-packages\\sklearn\\model_selection\\_validation.py:770: UserWarning: Scoring failed. The score on this train-test partition for these parameters will be set to nan. Details: \n",
      "Traceback (most recent call last):\n",
      "  File \"C:\\Users\\davul\\anaconda3\\lib\\site-packages\\sklearn\\model_selection\\_validation.py\", line 761, in _score\n",
      "    scores = scorer(estimator, X_test, y_test)\n",
      "  File \"C:\\Users\\davul\\anaconda3\\lib\\site-packages\\sklearn\\metrics\\_scorer.py\", line 216, in __call__\n",
      "    return self._score(\n",
      "  File \"C:\\Users\\davul\\anaconda3\\lib\\site-packages\\sklearn\\metrics\\_scorer.py\", line 258, in _score\n",
      "    y_pred = method_caller(estimator, \"predict\", X)\n",
      "  File \"C:\\Users\\davul\\anaconda3\\lib\\site-packages\\sklearn\\metrics\\_scorer.py\", line 68, in _cached_call\n",
      "    return getattr(estimator, method)(*args, **kwargs)\n",
      "  File \"C:\\Users\\davul\\anaconda3\\lib\\site-packages\\scikeras\\wrappers.py\", line 1054, in predict\n",
      "    y_pred = self.target_encoder_.inverse_transform(y_pred)\n",
      "  File \"C:\\Users\\davul\\anaconda3\\lib\\site-packages\\scikeras\\utils\\transformers.py\", line 256, in inverse_transform\n",
      "    class_predictions = self._final_encoder.inverse_transform(class_predictions)\n",
      "  File \"C:\\Users\\davul\\anaconda3\\lib\\site-packages\\sklearn\\utils\\metaestimators.py\", line 113, in <lambda>\n",
      "    out = lambda *args, **kwargs: self.fn(obj, *args, **kwargs)  # noqa\n",
      "  File \"C:\\Users\\davul\\anaconda3\\lib\\site-packages\\sklearn\\pipeline.py\", line 675, in inverse_transform\n",
      "    Xt = transform.inverse_transform(Xt)\n",
      "  File \"C:\\Users\\davul\\anaconda3\\lib\\site-packages\\sklearn\\preprocessing\\_encoders.py\", line 990, in inverse_transform\n",
      "    X_tr[:, i] = self.categories_[i][labels]\n",
      "IndexError: index 7 is out of bounds for axis 0 with size 2\n",
      "\n",
      "  warnings.warn(\n"
     ]
    },
    {
     "name": "stdout",
     "output_type": "stream",
     "text": [
      "WARNING:tensorflow:5 out of the last 13 calls to <function Model.make_predict_function.<locals>.predict_function at 0x0000022A9721CEE0> triggered tf.function retracing. Tracing is expensive and the excessive number of tracings could be due to (1) creating @tf.function repeatedly in a loop, (2) passing tensors with different shapes, (3) passing Python objects instead of tensors. For (1), please define your @tf.function outside of the loop. For (2), @tf.function has reduce_retracing=True option that can avoid unnecessary retracing. For (3), please refer to https://www.tensorflow.org/guide/function#controlling_retracing and https://www.tensorflow.org/api_docs/python/tf/function for  more details.\n",
      "3/3 [==============================] - 0s 2ms/step\n"
     ]
    },
    {
     "name": "stderr",
     "output_type": "stream",
     "text": [
      "C:\\Users\\davul\\anaconda3\\lib\\site-packages\\sklearn\\model_selection\\_validation.py:770: UserWarning: Scoring failed. The score on this train-test partition for these parameters will be set to nan. Details: \n",
      "Traceback (most recent call last):\n",
      "  File \"C:\\Users\\davul\\anaconda3\\lib\\site-packages\\sklearn\\model_selection\\_validation.py\", line 761, in _score\n",
      "    scores = scorer(estimator, X_test, y_test)\n",
      "  File \"C:\\Users\\davul\\anaconda3\\lib\\site-packages\\sklearn\\metrics\\_scorer.py\", line 216, in __call__\n",
      "    return self._score(\n",
      "  File \"C:\\Users\\davul\\anaconda3\\lib\\site-packages\\sklearn\\metrics\\_scorer.py\", line 258, in _score\n",
      "    y_pred = method_caller(estimator, \"predict\", X)\n",
      "  File \"C:\\Users\\davul\\anaconda3\\lib\\site-packages\\sklearn\\metrics\\_scorer.py\", line 68, in _cached_call\n",
      "    return getattr(estimator, method)(*args, **kwargs)\n",
      "  File \"C:\\Users\\davul\\anaconda3\\lib\\site-packages\\scikeras\\wrappers.py\", line 1054, in predict\n",
      "    y_pred = self.target_encoder_.inverse_transform(y_pred)\n",
      "  File \"C:\\Users\\davul\\anaconda3\\lib\\site-packages\\scikeras\\utils\\transformers.py\", line 256, in inverse_transform\n",
      "    class_predictions = self._final_encoder.inverse_transform(class_predictions)\n",
      "  File \"C:\\Users\\davul\\anaconda3\\lib\\site-packages\\sklearn\\utils\\metaestimators.py\", line 113, in <lambda>\n",
      "    out = lambda *args, **kwargs: self.fn(obj, *args, **kwargs)  # noqa\n",
      "  File \"C:\\Users\\davul\\anaconda3\\lib\\site-packages\\sklearn\\pipeline.py\", line 675, in inverse_transform\n",
      "    Xt = transform.inverse_transform(Xt)\n",
      "  File \"C:\\Users\\davul\\anaconda3\\lib\\site-packages\\sklearn\\preprocessing\\_encoders.py\", line 990, in inverse_transform\n",
      "    X_tr[:, i] = self.categories_[i][labels]\n",
      "IndexError: index 2 is out of bounds for axis 0 with size 2\n",
      "\n",
      "  warnings.warn(\n"
     ]
    },
    {
     "name": "stdout",
     "output_type": "stream",
     "text": [
      "WARNING:tensorflow:5 out of the last 13 calls to <function Model.make_predict_function.<locals>.predict_function at 0x0000022A982AFAF0> triggered tf.function retracing. Tracing is expensive and the excessive number of tracings could be due to (1) creating @tf.function repeatedly in a loop, (2) passing tensors with different shapes, (3) passing Python objects instead of tensors. For (1), please define your @tf.function outside of the loop. For (2), @tf.function has reduce_retracing=True option that can avoid unnecessary retracing. For (3), please refer to https://www.tensorflow.org/guide/function#controlling_retracing and https://www.tensorflow.org/api_docs/python/tf/function for  more details.\n",
      "2/2 [==============================] - 0s 3ms/step\n"
     ]
    },
    {
     "name": "stderr",
     "output_type": "stream",
     "text": [
      "C:\\Users\\davul\\anaconda3\\lib\\site-packages\\sklearn\\model_selection\\_validation.py:770: UserWarning: Scoring failed. The score on this train-test partition for these parameters will be set to nan. Details: \n",
      "Traceback (most recent call last):\n",
      "  File \"C:\\Users\\davul\\anaconda3\\lib\\site-packages\\sklearn\\model_selection\\_validation.py\", line 761, in _score\n",
      "    scores = scorer(estimator, X_test, y_test)\n",
      "  File \"C:\\Users\\davul\\anaconda3\\lib\\site-packages\\sklearn\\metrics\\_scorer.py\", line 216, in __call__\n",
      "    return self._score(\n",
      "  File \"C:\\Users\\davul\\anaconda3\\lib\\site-packages\\sklearn\\metrics\\_scorer.py\", line 258, in _score\n",
      "    y_pred = method_caller(estimator, \"predict\", X)\n",
      "  File \"C:\\Users\\davul\\anaconda3\\lib\\site-packages\\sklearn\\metrics\\_scorer.py\", line 68, in _cached_call\n",
      "    return getattr(estimator, method)(*args, **kwargs)\n",
      "  File \"C:\\Users\\davul\\anaconda3\\lib\\site-packages\\scikeras\\wrappers.py\", line 1054, in predict\n",
      "    y_pred = self.target_encoder_.inverse_transform(y_pred)\n",
      "  File \"C:\\Users\\davul\\anaconda3\\lib\\site-packages\\scikeras\\utils\\transformers.py\", line 256, in inverse_transform\n",
      "    class_predictions = self._final_encoder.inverse_transform(class_predictions)\n",
      "  File \"C:\\Users\\davul\\anaconda3\\lib\\site-packages\\sklearn\\utils\\metaestimators.py\", line 113, in <lambda>\n",
      "    out = lambda *args, **kwargs: self.fn(obj, *args, **kwargs)  # noqa\n",
      "  File \"C:\\Users\\davul\\anaconda3\\lib\\site-packages\\sklearn\\pipeline.py\", line 675, in inverse_transform\n",
      "    Xt = transform.inverse_transform(Xt)\n",
      "  File \"C:\\Users\\davul\\anaconda3\\lib\\site-packages\\sklearn\\preprocessing\\_encoders.py\", line 990, in inverse_transform\n",
      "    X_tr[:, i] = self.categories_[i][labels]\n",
      "IndexError: index 4 is out of bounds for axis 0 with size 2\n",
      "\n",
      "  warnings.warn(\n"
     ]
    },
    {
     "name": "stdout",
     "output_type": "stream",
     "text": [
      "2/2 [==============================] - 0s 2ms/step\n"
     ]
    },
    {
     "name": "stderr",
     "output_type": "stream",
     "text": [
      "C:\\Users\\davul\\anaconda3\\lib\\site-packages\\sklearn\\model_selection\\_validation.py:770: UserWarning: Scoring failed. The score on this train-test partition for these parameters will be set to nan. Details: \n",
      "Traceback (most recent call last):\n",
      "  File \"C:\\Users\\davul\\anaconda3\\lib\\site-packages\\sklearn\\model_selection\\_validation.py\", line 761, in _score\n",
      "    scores = scorer(estimator, X_test, y_test)\n",
      "  File \"C:\\Users\\davul\\anaconda3\\lib\\site-packages\\sklearn\\metrics\\_scorer.py\", line 216, in __call__\n",
      "    return self._score(\n",
      "  File \"C:\\Users\\davul\\anaconda3\\lib\\site-packages\\sklearn\\metrics\\_scorer.py\", line 258, in _score\n",
      "    y_pred = method_caller(estimator, \"predict\", X)\n",
      "  File \"C:\\Users\\davul\\anaconda3\\lib\\site-packages\\sklearn\\metrics\\_scorer.py\", line 68, in _cached_call\n",
      "    return getattr(estimator, method)(*args, **kwargs)\n",
      "  File \"C:\\Users\\davul\\anaconda3\\lib\\site-packages\\scikeras\\wrappers.py\", line 1054, in predict\n",
      "    y_pred = self.target_encoder_.inverse_transform(y_pred)\n",
      "  File \"C:\\Users\\davul\\anaconda3\\lib\\site-packages\\scikeras\\utils\\transformers.py\", line 256, in inverse_transform\n",
      "    class_predictions = self._final_encoder.inverse_transform(class_predictions)\n",
      "  File \"C:\\Users\\davul\\anaconda3\\lib\\site-packages\\sklearn\\utils\\metaestimators.py\", line 113, in <lambda>\n",
      "    out = lambda *args, **kwargs: self.fn(obj, *args, **kwargs)  # noqa\n",
      "  File \"C:\\Users\\davul\\anaconda3\\lib\\site-packages\\sklearn\\pipeline.py\", line 675, in inverse_transform\n",
      "    Xt = transform.inverse_transform(Xt)\n",
      "  File \"C:\\Users\\davul\\anaconda3\\lib\\site-packages\\sklearn\\preprocessing\\_encoders.py\", line 990, in inverse_transform\n",
      "    X_tr[:, i] = self.categories_[i][labels]\n",
      "IndexError: index 7 is out of bounds for axis 0 with size 2\n",
      "\n",
      "  warnings.warn(\n"
     ]
    },
    {
     "name": "stdout",
     "output_type": "stream",
     "text": [
      "2/2 [==============================] - 0s 3ms/step\n"
     ]
    },
    {
     "name": "stderr",
     "output_type": "stream",
     "text": [
      "C:\\Users\\davul\\anaconda3\\lib\\site-packages\\sklearn\\model_selection\\_validation.py:770: UserWarning: Scoring failed. The score on this train-test partition for these parameters will be set to nan. Details: \n",
      "Traceback (most recent call last):\n",
      "  File \"C:\\Users\\davul\\anaconda3\\lib\\site-packages\\sklearn\\model_selection\\_validation.py\", line 761, in _score\n",
      "    scores = scorer(estimator, X_test, y_test)\n",
      "  File \"C:\\Users\\davul\\anaconda3\\lib\\site-packages\\sklearn\\metrics\\_scorer.py\", line 216, in __call__\n",
      "    return self._score(\n",
      "  File \"C:\\Users\\davul\\anaconda3\\lib\\site-packages\\sklearn\\metrics\\_scorer.py\", line 258, in _score\n",
      "    y_pred = method_caller(estimator, \"predict\", X)\n",
      "  File \"C:\\Users\\davul\\anaconda3\\lib\\site-packages\\sklearn\\metrics\\_scorer.py\", line 68, in _cached_call\n",
      "    return getattr(estimator, method)(*args, **kwargs)\n",
      "  File \"C:\\Users\\davul\\anaconda3\\lib\\site-packages\\scikeras\\wrappers.py\", line 1054, in predict\n",
      "    y_pred = self.target_encoder_.inverse_transform(y_pred)\n",
      "  File \"C:\\Users\\davul\\anaconda3\\lib\\site-packages\\scikeras\\utils\\transformers.py\", line 256, in inverse_transform\n",
      "    class_predictions = self._final_encoder.inverse_transform(class_predictions)\n",
      "  File \"C:\\Users\\davul\\anaconda3\\lib\\site-packages\\sklearn\\utils\\metaestimators.py\", line 113, in <lambda>\n",
      "    out = lambda *args, **kwargs: self.fn(obj, *args, **kwargs)  # noqa\n",
      "  File \"C:\\Users\\davul\\anaconda3\\lib\\site-packages\\sklearn\\pipeline.py\", line 675, in inverse_transform\n",
      "    Xt = transform.inverse_transform(Xt)\n",
      "  File \"C:\\Users\\davul\\anaconda3\\lib\\site-packages\\sklearn\\preprocessing\\_encoders.py\", line 990, in inverse_transform\n",
      "    X_tr[:, i] = self.categories_[i][labels]\n",
      "IndexError: index 8 is out of bounds for axis 0 with size 2\n",
      "\n",
      "  warnings.warn(\n"
     ]
    },
    {
     "name": "stdout",
     "output_type": "stream",
     "text": [
      "2/2 [==============================] - 0s 2ms/step\n"
     ]
    },
    {
     "name": "stderr",
     "output_type": "stream",
     "text": [
      "C:\\Users\\davul\\anaconda3\\lib\\site-packages\\sklearn\\model_selection\\_validation.py:770: UserWarning: Scoring failed. The score on this train-test partition for these parameters will be set to nan. Details: \n",
      "Traceback (most recent call last):\n",
      "  File \"C:\\Users\\davul\\anaconda3\\lib\\site-packages\\sklearn\\model_selection\\_validation.py\", line 761, in _score\n",
      "    scores = scorer(estimator, X_test, y_test)\n",
      "  File \"C:\\Users\\davul\\anaconda3\\lib\\site-packages\\sklearn\\metrics\\_scorer.py\", line 216, in __call__\n",
      "    return self._score(\n",
      "  File \"C:\\Users\\davul\\anaconda3\\lib\\site-packages\\sklearn\\metrics\\_scorer.py\", line 258, in _score\n",
      "    y_pred = method_caller(estimator, \"predict\", X)\n",
      "  File \"C:\\Users\\davul\\anaconda3\\lib\\site-packages\\sklearn\\metrics\\_scorer.py\", line 68, in _cached_call\n",
      "    return getattr(estimator, method)(*args, **kwargs)\n",
      "  File \"C:\\Users\\davul\\anaconda3\\lib\\site-packages\\scikeras\\wrappers.py\", line 1054, in predict\n",
      "    y_pred = self.target_encoder_.inverse_transform(y_pred)\n",
      "  File \"C:\\Users\\davul\\anaconda3\\lib\\site-packages\\scikeras\\utils\\transformers.py\", line 256, in inverse_transform\n",
      "    class_predictions = self._final_encoder.inverse_transform(class_predictions)\n",
      "  File \"C:\\Users\\davul\\anaconda3\\lib\\site-packages\\sklearn\\utils\\metaestimators.py\", line 113, in <lambda>\n",
      "    out = lambda *args, **kwargs: self.fn(obj, *args, **kwargs)  # noqa\n",
      "  File \"C:\\Users\\davul\\anaconda3\\lib\\site-packages\\sklearn\\pipeline.py\", line 675, in inverse_transform\n",
      "    Xt = transform.inverse_transform(Xt)\n",
      "  File \"C:\\Users\\davul\\anaconda3\\lib\\site-packages\\sklearn\\preprocessing\\_encoders.py\", line 990, in inverse_transform\n",
      "    X_tr[:, i] = self.categories_[i][labels]\n",
      "IndexError: index 7 is out of bounds for axis 0 with size 2\n",
      "\n",
      "  warnings.warn(\n"
     ]
    },
    {
     "name": "stdout",
     "output_type": "stream",
     "text": [
      "2/2 [==============================] - 0s 2ms/step\n"
     ]
    },
    {
     "name": "stderr",
     "output_type": "stream",
     "text": [
      "C:\\Users\\davul\\anaconda3\\lib\\site-packages\\sklearn\\model_selection\\_validation.py:770: UserWarning: Scoring failed. The score on this train-test partition for these parameters will be set to nan. Details: \n",
      "Traceback (most recent call last):\n",
      "  File \"C:\\Users\\davul\\anaconda3\\lib\\site-packages\\sklearn\\model_selection\\_validation.py\", line 761, in _score\n",
      "    scores = scorer(estimator, X_test, y_test)\n",
      "  File \"C:\\Users\\davul\\anaconda3\\lib\\site-packages\\sklearn\\metrics\\_scorer.py\", line 216, in __call__\n",
      "    return self._score(\n",
      "  File \"C:\\Users\\davul\\anaconda3\\lib\\site-packages\\sklearn\\metrics\\_scorer.py\", line 258, in _score\n",
      "    y_pred = method_caller(estimator, \"predict\", X)\n",
      "  File \"C:\\Users\\davul\\anaconda3\\lib\\site-packages\\sklearn\\metrics\\_scorer.py\", line 68, in _cached_call\n",
      "    return getattr(estimator, method)(*args, **kwargs)\n",
      "  File \"C:\\Users\\davul\\anaconda3\\lib\\site-packages\\scikeras\\wrappers.py\", line 1054, in predict\n",
      "    y_pred = self.target_encoder_.inverse_transform(y_pred)\n",
      "  File \"C:\\Users\\davul\\anaconda3\\lib\\site-packages\\scikeras\\utils\\transformers.py\", line 256, in inverse_transform\n",
      "    class_predictions = self._final_encoder.inverse_transform(class_predictions)\n",
      "  File \"C:\\Users\\davul\\anaconda3\\lib\\site-packages\\sklearn\\utils\\metaestimators.py\", line 113, in <lambda>\n",
      "    out = lambda *args, **kwargs: self.fn(obj, *args, **kwargs)  # noqa\n",
      "  File \"C:\\Users\\davul\\anaconda3\\lib\\site-packages\\sklearn\\pipeline.py\", line 675, in inverse_transform\n",
      "    Xt = transform.inverse_transform(Xt)\n",
      "  File \"C:\\Users\\davul\\anaconda3\\lib\\site-packages\\sklearn\\preprocessing\\_encoders.py\", line 990, in inverse_transform\n",
      "    X_tr[:, i] = self.categories_[i][labels]\n",
      "IndexError: index 3 is out of bounds for axis 0 with size 2\n",
      "\n",
      "  warnings.warn(\n"
     ]
    },
    {
     "name": "stdout",
     "output_type": "stream",
     "text": [
      "7/7 [==============================] - 0s 997us/step\n",
      "7/7 [==============================] - 0s 912us/step\n"
     ]
    },
    {
     "name": "stderr",
     "output_type": "stream",
     "text": [
      "C:\\Users\\davul\\anaconda3\\lib\\site-packages\\sklearn\\model_selection\\_validation.py:770: UserWarning: Scoring failed. The score on this train-test partition for these parameters will be set to nan. Details: \n",
      "Traceback (most recent call last):\n",
      "  File \"C:\\Users\\davul\\anaconda3\\lib\\site-packages\\sklearn\\model_selection\\_validation.py\", line 761, in _score\n",
      "    scores = scorer(estimator, X_test, y_test)\n",
      "  File \"C:\\Users\\davul\\anaconda3\\lib\\site-packages\\sklearn\\metrics\\_scorer.py\", line 216, in __call__\n",
      "    return self._score(\n",
      "  File \"C:\\Users\\davul\\anaconda3\\lib\\site-packages\\sklearn\\metrics\\_scorer.py\", line 258, in _score\n",
      "    y_pred = method_caller(estimator, \"predict\", X)\n",
      "  File \"C:\\Users\\davul\\anaconda3\\lib\\site-packages\\sklearn\\metrics\\_scorer.py\", line 68, in _cached_call\n",
      "    return getattr(estimator, method)(*args, **kwargs)\n",
      "  File \"C:\\Users\\davul\\anaconda3\\lib\\site-packages\\scikeras\\wrappers.py\", line 1054, in predict\n",
      "    y_pred = self.target_encoder_.inverse_transform(y_pred)\n",
      "  File \"C:\\Users\\davul\\anaconda3\\lib\\site-packages\\scikeras\\utils\\transformers.py\", line 256, in inverse_transform\n",
      "    class_predictions = self._final_encoder.inverse_transform(class_predictions)\n",
      "  File \"C:\\Users\\davul\\anaconda3\\lib\\site-packages\\sklearn\\utils\\metaestimators.py\", line 113, in <lambda>\n",
      "    out = lambda *args, **kwargs: self.fn(obj, *args, **kwargs)  # noqa\n",
      "  File \"C:\\Users\\davul\\anaconda3\\lib\\site-packages\\sklearn\\pipeline.py\", line 675, in inverse_transform\n",
      "    Xt = transform.inverse_transform(Xt)\n",
      "  File \"C:\\Users\\davul\\anaconda3\\lib\\site-packages\\sklearn\\preprocessing\\_encoders.py\", line 990, in inverse_transform\n",
      "    X_tr[:, i] = self.categories_[i][labels]\n",
      "IndexError: index 9 is out of bounds for axis 0 with size 2\n",
      "\n",
      "  warnings.warn(\n"
     ]
    },
    {
     "name": "stdout",
     "output_type": "stream",
     "text": [
      "7/7 [==============================] - 0s 842us/step\n"
     ]
    },
    {
     "name": "stderr",
     "output_type": "stream",
     "text": [
      "C:\\Users\\davul\\anaconda3\\lib\\site-packages\\sklearn\\model_selection\\_validation.py:770: UserWarning: Scoring failed. The score on this train-test partition for these parameters will be set to nan. Details: \n",
      "Traceback (most recent call last):\n",
      "  File \"C:\\Users\\davul\\anaconda3\\lib\\site-packages\\sklearn\\model_selection\\_validation.py\", line 761, in _score\n",
      "    scores = scorer(estimator, X_test, y_test)\n",
      "  File \"C:\\Users\\davul\\anaconda3\\lib\\site-packages\\sklearn\\metrics\\_scorer.py\", line 216, in __call__\n",
      "    return self._score(\n",
      "  File \"C:\\Users\\davul\\anaconda3\\lib\\site-packages\\sklearn\\metrics\\_scorer.py\", line 258, in _score\n",
      "    y_pred = method_caller(estimator, \"predict\", X)\n",
      "  File \"C:\\Users\\davul\\anaconda3\\lib\\site-packages\\sklearn\\metrics\\_scorer.py\", line 68, in _cached_call\n",
      "    return getattr(estimator, method)(*args, **kwargs)\n",
      "  File \"C:\\Users\\davul\\anaconda3\\lib\\site-packages\\scikeras\\wrappers.py\", line 1054, in predict\n",
      "    y_pred = self.target_encoder_.inverse_transform(y_pred)\n",
      "  File \"C:\\Users\\davul\\anaconda3\\lib\\site-packages\\scikeras\\utils\\transformers.py\", line 256, in inverse_transform\n",
      "    class_predictions = self._final_encoder.inverse_transform(class_predictions)\n",
      "  File \"C:\\Users\\davul\\anaconda3\\lib\\site-packages\\sklearn\\utils\\metaestimators.py\", line 113, in <lambda>\n",
      "    out = lambda *args, **kwargs: self.fn(obj, *args, **kwargs)  # noqa\n",
      "  File \"C:\\Users\\davul\\anaconda3\\lib\\site-packages\\sklearn\\pipeline.py\", line 675, in inverse_transform\n",
      "    Xt = transform.inverse_transform(Xt)\n",
      "  File \"C:\\Users\\davul\\anaconda3\\lib\\site-packages\\sklearn\\preprocessing\\_encoders.py\", line 990, in inverse_transform\n",
      "    X_tr[:, i] = self.categories_[i][labels]\n",
      "IndexError: index 7 is out of bounds for axis 0 with size 2\n",
      "\n",
      "  warnings.warn(\n"
     ]
    },
    {
     "name": "stdout",
     "output_type": "stream",
     "text": [
      "7/7 [==============================] - 0s 833us/step\n",
      "7/7 [==============================] - 0s 1ms/step\n",
      "2/2 [==============================] - 0s 2ms/step\n"
     ]
    },
    {
     "name": "stderr",
     "output_type": "stream",
     "text": [
      "C:\\Users\\davul\\anaconda3\\lib\\site-packages\\sklearn\\model_selection\\_validation.py:770: UserWarning: Scoring failed. The score on this train-test partition for these parameters will be set to nan. Details: \n",
      "Traceback (most recent call last):\n",
      "  File \"C:\\Users\\davul\\anaconda3\\lib\\site-packages\\sklearn\\model_selection\\_validation.py\", line 761, in _score\n",
      "    scores = scorer(estimator, X_test, y_test)\n",
      "  File \"C:\\Users\\davul\\anaconda3\\lib\\site-packages\\sklearn\\metrics\\_scorer.py\", line 216, in __call__\n",
      "    return self._score(\n",
      "  File \"C:\\Users\\davul\\anaconda3\\lib\\site-packages\\sklearn\\metrics\\_scorer.py\", line 258, in _score\n",
      "    y_pred = method_caller(estimator, \"predict\", X)\n",
      "  File \"C:\\Users\\davul\\anaconda3\\lib\\site-packages\\sklearn\\metrics\\_scorer.py\", line 68, in _cached_call\n",
      "    return getattr(estimator, method)(*args, **kwargs)\n",
      "  File \"C:\\Users\\davul\\anaconda3\\lib\\site-packages\\scikeras\\wrappers.py\", line 1054, in predict\n",
      "    y_pred = self.target_encoder_.inverse_transform(y_pred)\n",
      "  File \"C:\\Users\\davul\\anaconda3\\lib\\site-packages\\scikeras\\utils\\transformers.py\", line 256, in inverse_transform\n",
      "    class_predictions = self._final_encoder.inverse_transform(class_predictions)\n",
      "  File \"C:\\Users\\davul\\anaconda3\\lib\\site-packages\\sklearn\\utils\\metaestimators.py\", line 113, in <lambda>\n",
      "    out = lambda *args, **kwargs: self.fn(obj, *args, **kwargs)  # noqa\n",
      "  File \"C:\\Users\\davul\\anaconda3\\lib\\site-packages\\sklearn\\pipeline.py\", line 675, in inverse_transform\n",
      "    Xt = transform.inverse_transform(Xt)\n",
      "  File \"C:\\Users\\davul\\anaconda3\\lib\\site-packages\\sklearn\\preprocessing\\_encoders.py\", line 990, in inverse_transform\n",
      "    X_tr[:, i] = self.categories_[i][labels]\n",
      "IndexError: index 2 is out of bounds for axis 0 with size 2\n",
      "\n",
      "  warnings.warn(\n"
     ]
    },
    {
     "name": "stdout",
     "output_type": "stream",
     "text": [
      "2/2 [==============================] - 0s 2ms/step\n"
     ]
    },
    {
     "name": "stderr",
     "output_type": "stream",
     "text": [
      "C:\\Users\\davul\\anaconda3\\lib\\site-packages\\sklearn\\model_selection\\_validation.py:770: UserWarning: Scoring failed. The score on this train-test partition for these parameters will be set to nan. Details: \n",
      "Traceback (most recent call last):\n",
      "  File \"C:\\Users\\davul\\anaconda3\\lib\\site-packages\\sklearn\\model_selection\\_validation.py\", line 761, in _score\n",
      "    scores = scorer(estimator, X_test, y_test)\n",
      "  File \"C:\\Users\\davul\\anaconda3\\lib\\site-packages\\sklearn\\metrics\\_scorer.py\", line 216, in __call__\n",
      "    return self._score(\n",
      "  File \"C:\\Users\\davul\\anaconda3\\lib\\site-packages\\sklearn\\metrics\\_scorer.py\", line 258, in _score\n",
      "    y_pred = method_caller(estimator, \"predict\", X)\n",
      "  File \"C:\\Users\\davul\\anaconda3\\lib\\site-packages\\sklearn\\metrics\\_scorer.py\", line 68, in _cached_call\n",
      "    return getattr(estimator, method)(*args, **kwargs)\n",
      "  File \"C:\\Users\\davul\\anaconda3\\lib\\site-packages\\scikeras\\wrappers.py\", line 1054, in predict\n",
      "    y_pred = self.target_encoder_.inverse_transform(y_pred)\n",
      "  File \"C:\\Users\\davul\\anaconda3\\lib\\site-packages\\scikeras\\utils\\transformers.py\", line 256, in inverse_transform\n",
      "    class_predictions = self._final_encoder.inverse_transform(class_predictions)\n",
      "  File \"C:\\Users\\davul\\anaconda3\\lib\\site-packages\\sklearn\\utils\\metaestimators.py\", line 113, in <lambda>\n",
      "    out = lambda *args, **kwargs: self.fn(obj, *args, **kwargs)  # noqa\n",
      "  File \"C:\\Users\\davul\\anaconda3\\lib\\site-packages\\sklearn\\pipeline.py\", line 675, in inverse_transform\n",
      "    Xt = transform.inverse_transform(Xt)\n",
      "  File \"C:\\Users\\davul\\anaconda3\\lib\\site-packages\\sklearn\\preprocessing\\_encoders.py\", line 990, in inverse_transform\n",
      "    X_tr[:, i] = self.categories_[i][labels]\n",
      "IndexError: index 3 is out of bounds for axis 0 with size 2\n",
      "\n",
      "  warnings.warn(\n"
     ]
    },
    {
     "name": "stdout",
     "output_type": "stream",
     "text": [
      "2/2 [==============================] - 0s 3ms/step\n"
     ]
    },
    {
     "name": "stderr",
     "output_type": "stream",
     "text": [
      "C:\\Users\\davul\\anaconda3\\lib\\site-packages\\sklearn\\model_selection\\_validation.py:770: UserWarning: Scoring failed. The score on this train-test partition for these parameters will be set to nan. Details: \n",
      "Traceback (most recent call last):\n",
      "  File \"C:\\Users\\davul\\anaconda3\\lib\\site-packages\\sklearn\\model_selection\\_validation.py\", line 761, in _score\n",
      "    scores = scorer(estimator, X_test, y_test)\n",
      "  File \"C:\\Users\\davul\\anaconda3\\lib\\site-packages\\sklearn\\metrics\\_scorer.py\", line 216, in __call__\n",
      "    return self._score(\n",
      "  File \"C:\\Users\\davul\\anaconda3\\lib\\site-packages\\sklearn\\metrics\\_scorer.py\", line 258, in _score\n",
      "    y_pred = method_caller(estimator, \"predict\", X)\n",
      "  File \"C:\\Users\\davul\\anaconda3\\lib\\site-packages\\sklearn\\metrics\\_scorer.py\", line 68, in _cached_call\n",
      "    return getattr(estimator, method)(*args, **kwargs)\n",
      "  File \"C:\\Users\\davul\\anaconda3\\lib\\site-packages\\scikeras\\wrappers.py\", line 1054, in predict\n",
      "    y_pred = self.target_encoder_.inverse_transform(y_pred)\n",
      "  File \"C:\\Users\\davul\\anaconda3\\lib\\site-packages\\scikeras\\utils\\transformers.py\", line 256, in inverse_transform\n",
      "    class_predictions = self._final_encoder.inverse_transform(class_predictions)\n",
      "  File \"C:\\Users\\davul\\anaconda3\\lib\\site-packages\\sklearn\\utils\\metaestimators.py\", line 113, in <lambda>\n",
      "    out = lambda *args, **kwargs: self.fn(obj, *args, **kwargs)  # noqa\n",
      "  File \"C:\\Users\\davul\\anaconda3\\lib\\site-packages\\sklearn\\pipeline.py\", line 675, in inverse_transform\n",
      "    Xt = transform.inverse_transform(Xt)\n",
      "  File \"C:\\Users\\davul\\anaconda3\\lib\\site-packages\\sklearn\\preprocessing\\_encoders.py\", line 990, in inverse_transform\n",
      "    X_tr[:, i] = self.categories_[i][labels]\n",
      "IndexError: index 9 is out of bounds for axis 0 with size 2\n",
      "\n",
      "  warnings.warn(\n"
     ]
    },
    {
     "name": "stdout",
     "output_type": "stream",
     "text": [
      "2/2 [==============================] - 0s 2ms/step\n"
     ]
    },
    {
     "name": "stderr",
     "output_type": "stream",
     "text": [
      "C:\\Users\\davul\\anaconda3\\lib\\site-packages\\sklearn\\model_selection\\_validation.py:770: UserWarning: Scoring failed. The score on this train-test partition for these parameters will be set to nan. Details: \n",
      "Traceback (most recent call last):\n",
      "  File \"C:\\Users\\davul\\anaconda3\\lib\\site-packages\\sklearn\\model_selection\\_validation.py\", line 761, in _score\n",
      "    scores = scorer(estimator, X_test, y_test)\n",
      "  File \"C:\\Users\\davul\\anaconda3\\lib\\site-packages\\sklearn\\metrics\\_scorer.py\", line 216, in __call__\n",
      "    return self._score(\n",
      "  File \"C:\\Users\\davul\\anaconda3\\lib\\site-packages\\sklearn\\metrics\\_scorer.py\", line 258, in _score\n",
      "    y_pred = method_caller(estimator, \"predict\", X)\n",
      "  File \"C:\\Users\\davul\\anaconda3\\lib\\site-packages\\sklearn\\metrics\\_scorer.py\", line 68, in _cached_call\n",
      "    return getattr(estimator, method)(*args, **kwargs)\n",
      "  File \"C:\\Users\\davul\\anaconda3\\lib\\site-packages\\scikeras\\wrappers.py\", line 1054, in predict\n",
      "    y_pred = self.target_encoder_.inverse_transform(y_pred)\n",
      "  File \"C:\\Users\\davul\\anaconda3\\lib\\site-packages\\scikeras\\utils\\transformers.py\", line 256, in inverse_transform\n",
      "    class_predictions = self._final_encoder.inverse_transform(class_predictions)\n",
      "  File \"C:\\Users\\davul\\anaconda3\\lib\\site-packages\\sklearn\\utils\\metaestimators.py\", line 113, in <lambda>\n",
      "    out = lambda *args, **kwargs: self.fn(obj, *args, **kwargs)  # noqa\n",
      "  File \"C:\\Users\\davul\\anaconda3\\lib\\site-packages\\sklearn\\pipeline.py\", line 675, in inverse_transform\n",
      "    Xt = transform.inverse_transform(Xt)\n",
      "  File \"C:\\Users\\davul\\anaconda3\\lib\\site-packages\\sklearn\\preprocessing\\_encoders.py\", line 990, in inverse_transform\n",
      "    X_tr[:, i] = self.categories_[i][labels]\n",
      "IndexError: index 8 is out of bounds for axis 0 with size 2\n",
      "\n",
      "  warnings.warn(\n"
     ]
    },
    {
     "name": "stdout",
     "output_type": "stream",
     "text": [
      "2/2 [==============================] - 0s 3ms/step\n"
     ]
    },
    {
     "name": "stderr",
     "output_type": "stream",
     "text": [
      "C:\\Users\\davul\\anaconda3\\lib\\site-packages\\sklearn\\model_selection\\_validation.py:770: UserWarning: Scoring failed. The score on this train-test partition for these parameters will be set to nan. Details: \n",
      "Traceback (most recent call last):\n",
      "  File \"C:\\Users\\davul\\anaconda3\\lib\\site-packages\\sklearn\\model_selection\\_validation.py\", line 761, in _score\n",
      "    scores = scorer(estimator, X_test, y_test)\n",
      "  File \"C:\\Users\\davul\\anaconda3\\lib\\site-packages\\sklearn\\metrics\\_scorer.py\", line 216, in __call__\n",
      "    return self._score(\n",
      "  File \"C:\\Users\\davul\\anaconda3\\lib\\site-packages\\sklearn\\metrics\\_scorer.py\", line 258, in _score\n",
      "    y_pred = method_caller(estimator, \"predict\", X)\n",
      "  File \"C:\\Users\\davul\\anaconda3\\lib\\site-packages\\sklearn\\metrics\\_scorer.py\", line 68, in _cached_call\n",
      "    return getattr(estimator, method)(*args, **kwargs)\n",
      "  File \"C:\\Users\\davul\\anaconda3\\lib\\site-packages\\scikeras\\wrappers.py\", line 1054, in predict\n",
      "    y_pred = self.target_encoder_.inverse_transform(y_pred)\n",
      "  File \"C:\\Users\\davul\\anaconda3\\lib\\site-packages\\scikeras\\utils\\transformers.py\", line 256, in inverse_transform\n",
      "    class_predictions = self._final_encoder.inverse_transform(class_predictions)\n",
      "  File \"C:\\Users\\davul\\anaconda3\\lib\\site-packages\\sklearn\\utils\\metaestimators.py\", line 113, in <lambda>\n",
      "    out = lambda *args, **kwargs: self.fn(obj, *args, **kwargs)  # noqa\n",
      "  File \"C:\\Users\\davul\\anaconda3\\lib\\site-packages\\sklearn\\pipeline.py\", line 675, in inverse_transform\n",
      "    Xt = transform.inverse_transform(Xt)\n",
      "  File \"C:\\Users\\davul\\anaconda3\\lib\\site-packages\\sklearn\\preprocessing\\_encoders.py\", line 990, in inverse_transform\n",
      "    X_tr[:, i] = self.categories_[i][labels]\n",
      "IndexError: index 2 is out of bounds for axis 0 with size 2\n",
      "\n",
      "  warnings.warn(\n"
     ]
    },
    {
     "name": "stdout",
     "output_type": "stream",
     "text": [
      "7/7 [==============================] - 0s 1ms/step\n",
      "7/7 [==============================] - 0s 1ms/step\n"
     ]
    },
    {
     "name": "stderr",
     "output_type": "stream",
     "text": [
      "C:\\Users\\davul\\anaconda3\\lib\\site-packages\\sklearn\\model_selection\\_validation.py:770: UserWarning: Scoring failed. The score on this train-test partition for these parameters will be set to nan. Details: \n",
      "Traceback (most recent call last):\n",
      "  File \"C:\\Users\\davul\\anaconda3\\lib\\site-packages\\sklearn\\model_selection\\_validation.py\", line 761, in _score\n",
      "    scores = scorer(estimator, X_test, y_test)\n",
      "  File \"C:\\Users\\davul\\anaconda3\\lib\\site-packages\\sklearn\\metrics\\_scorer.py\", line 216, in __call__\n",
      "    return self._score(\n",
      "  File \"C:\\Users\\davul\\anaconda3\\lib\\site-packages\\sklearn\\metrics\\_scorer.py\", line 258, in _score\n",
      "    y_pred = method_caller(estimator, \"predict\", X)\n",
      "  File \"C:\\Users\\davul\\anaconda3\\lib\\site-packages\\sklearn\\metrics\\_scorer.py\", line 68, in _cached_call\n",
      "    return getattr(estimator, method)(*args, **kwargs)\n",
      "  File \"C:\\Users\\davul\\anaconda3\\lib\\site-packages\\scikeras\\wrappers.py\", line 1054, in predict\n",
      "    y_pred = self.target_encoder_.inverse_transform(y_pred)\n",
      "  File \"C:\\Users\\davul\\anaconda3\\lib\\site-packages\\scikeras\\utils\\transformers.py\", line 256, in inverse_transform\n",
      "    class_predictions = self._final_encoder.inverse_transform(class_predictions)\n",
      "  File \"C:\\Users\\davul\\anaconda3\\lib\\site-packages\\sklearn\\utils\\metaestimators.py\", line 113, in <lambda>\n",
      "    out = lambda *args, **kwargs: self.fn(obj, *args, **kwargs)  # noqa\n",
      "  File \"C:\\Users\\davul\\anaconda3\\lib\\site-packages\\sklearn\\pipeline.py\", line 675, in inverse_transform\n",
      "    Xt = transform.inverse_transform(Xt)\n",
      "  File \"C:\\Users\\davul\\anaconda3\\lib\\site-packages\\sklearn\\preprocessing\\_encoders.py\", line 990, in inverse_transform\n",
      "    X_tr[:, i] = self.categories_[i][labels]\n",
      "IndexError: index 7 is out of bounds for axis 0 with size 2\n",
      "\n",
      "  warnings.warn(\n"
     ]
    },
    {
     "name": "stdout",
     "output_type": "stream",
     "text": [
      "7/7 [==============================] - 0s 1ms/step\n"
     ]
    },
    {
     "name": "stderr",
     "output_type": "stream",
     "text": [
      "C:\\Users\\davul\\anaconda3\\lib\\site-packages\\sklearn\\model_selection\\_validation.py:770: UserWarning: Scoring failed. The score on this train-test partition for these parameters will be set to nan. Details: \n",
      "Traceback (most recent call last):\n",
      "  File \"C:\\Users\\davul\\anaconda3\\lib\\site-packages\\sklearn\\model_selection\\_validation.py\", line 761, in _score\n",
      "    scores = scorer(estimator, X_test, y_test)\n",
      "  File \"C:\\Users\\davul\\anaconda3\\lib\\site-packages\\sklearn\\metrics\\_scorer.py\", line 216, in __call__\n",
      "    return self._score(\n",
      "  File \"C:\\Users\\davul\\anaconda3\\lib\\site-packages\\sklearn\\metrics\\_scorer.py\", line 258, in _score\n",
      "    y_pred = method_caller(estimator, \"predict\", X)\n",
      "  File \"C:\\Users\\davul\\anaconda3\\lib\\site-packages\\sklearn\\metrics\\_scorer.py\", line 68, in _cached_call\n",
      "    return getattr(estimator, method)(*args, **kwargs)\n",
      "  File \"C:\\Users\\davul\\anaconda3\\lib\\site-packages\\scikeras\\wrappers.py\", line 1054, in predict\n",
      "    y_pred = self.target_encoder_.inverse_transform(y_pred)\n",
      "  File \"C:\\Users\\davul\\anaconda3\\lib\\site-packages\\scikeras\\utils\\transformers.py\", line 256, in inverse_transform\n",
      "    class_predictions = self._final_encoder.inverse_transform(class_predictions)\n",
      "  File \"C:\\Users\\davul\\anaconda3\\lib\\site-packages\\sklearn\\utils\\metaestimators.py\", line 113, in <lambda>\n",
      "    out = lambda *args, **kwargs: self.fn(obj, *args, **kwargs)  # noqa\n",
      "  File \"C:\\Users\\davul\\anaconda3\\lib\\site-packages\\sklearn\\pipeline.py\", line 675, in inverse_transform\n",
      "    Xt = transform.inverse_transform(Xt)\n",
      "  File \"C:\\Users\\davul\\anaconda3\\lib\\site-packages\\sklearn\\preprocessing\\_encoders.py\", line 990, in inverse_transform\n",
      "    X_tr[:, i] = self.categories_[i][labels]\n",
      "IndexError: index 4 is out of bounds for axis 0 with size 2\n",
      "\n",
      "  warnings.warn(\n"
     ]
    },
    {
     "name": "stdout",
     "output_type": "stream",
     "text": [
      "7/7 [==============================] - 0s 901us/step\n",
      "7/7 [==============================] - 0s 1ms/step\n",
      "7/7 [==============================] - 0s 1ms/step\n"
     ]
    },
    {
     "name": "stderr",
     "output_type": "stream",
     "text": [
      "C:\\Users\\davul\\anaconda3\\lib\\site-packages\\sklearn\\model_selection\\_validation.py:770: UserWarning: Scoring failed. The score on this train-test partition for these parameters will be set to nan. Details: \n",
      "Traceback (most recent call last):\n",
      "  File \"C:\\Users\\davul\\anaconda3\\lib\\site-packages\\sklearn\\model_selection\\_validation.py\", line 761, in _score\n",
      "    scores = scorer(estimator, X_test, y_test)\n",
      "  File \"C:\\Users\\davul\\anaconda3\\lib\\site-packages\\sklearn\\metrics\\_scorer.py\", line 216, in __call__\n",
      "    return self._score(\n",
      "  File \"C:\\Users\\davul\\anaconda3\\lib\\site-packages\\sklearn\\metrics\\_scorer.py\", line 258, in _score\n",
      "    y_pred = method_caller(estimator, \"predict\", X)\n",
      "  File \"C:\\Users\\davul\\anaconda3\\lib\\site-packages\\sklearn\\metrics\\_scorer.py\", line 68, in _cached_call\n",
      "    return getattr(estimator, method)(*args, **kwargs)\n",
      "  File \"C:\\Users\\davul\\anaconda3\\lib\\site-packages\\scikeras\\wrappers.py\", line 1054, in predict\n",
      "    y_pred = self.target_encoder_.inverse_transform(y_pred)\n",
      "  File \"C:\\Users\\davul\\anaconda3\\lib\\site-packages\\scikeras\\utils\\transformers.py\", line 256, in inverse_transform\n",
      "    class_predictions = self._final_encoder.inverse_transform(class_predictions)\n",
      "  File \"C:\\Users\\davul\\anaconda3\\lib\\site-packages\\sklearn\\utils\\metaestimators.py\", line 113, in <lambda>\n",
      "    out = lambda *args, **kwargs: self.fn(obj, *args, **kwargs)  # noqa\n",
      "  File \"C:\\Users\\davul\\anaconda3\\lib\\site-packages\\sklearn\\pipeline.py\", line 675, in inverse_transform\n",
      "    Xt = transform.inverse_transform(Xt)\n",
      "  File \"C:\\Users\\davul\\anaconda3\\lib\\site-packages\\sklearn\\preprocessing\\_encoders.py\", line 990, in inverse_transform\n",
      "    X_tr[:, i] = self.categories_[i][labels]\n",
      "IndexError: index 3 is out of bounds for axis 0 with size 2\n",
      "\n",
      "  warnings.warn(\n"
     ]
    },
    {
     "name": "stdout",
     "output_type": "stream",
     "text": [
      "7/7 [==============================] - 0s 1ms/step\n"
     ]
    },
    {
     "name": "stderr",
     "output_type": "stream",
     "text": [
      "C:\\Users\\davul\\anaconda3\\lib\\site-packages\\sklearn\\model_selection\\_validation.py:770: UserWarning: Scoring failed. The score on this train-test partition for these parameters will be set to nan. Details: \n",
      "Traceback (most recent call last):\n",
      "  File \"C:\\Users\\davul\\anaconda3\\lib\\site-packages\\sklearn\\model_selection\\_validation.py\", line 761, in _score\n",
      "    scores = scorer(estimator, X_test, y_test)\n",
      "  File \"C:\\Users\\davul\\anaconda3\\lib\\site-packages\\sklearn\\metrics\\_scorer.py\", line 216, in __call__\n",
      "    return self._score(\n",
      "  File \"C:\\Users\\davul\\anaconda3\\lib\\site-packages\\sklearn\\metrics\\_scorer.py\", line 258, in _score\n",
      "    y_pred = method_caller(estimator, \"predict\", X)\n",
      "  File \"C:\\Users\\davul\\anaconda3\\lib\\site-packages\\sklearn\\metrics\\_scorer.py\", line 68, in _cached_call\n",
      "    return getattr(estimator, method)(*args, **kwargs)\n",
      "  File \"C:\\Users\\davul\\anaconda3\\lib\\site-packages\\scikeras\\wrappers.py\", line 1054, in predict\n",
      "    y_pred = self.target_encoder_.inverse_transform(y_pred)\n",
      "  File \"C:\\Users\\davul\\anaconda3\\lib\\site-packages\\scikeras\\utils\\transformers.py\", line 256, in inverse_transform\n",
      "    class_predictions = self._final_encoder.inverse_transform(class_predictions)\n",
      "  File \"C:\\Users\\davul\\anaconda3\\lib\\site-packages\\sklearn\\utils\\metaestimators.py\", line 113, in <lambda>\n",
      "    out = lambda *args, **kwargs: self.fn(obj, *args, **kwargs)  # noqa\n",
      "  File \"C:\\Users\\davul\\anaconda3\\lib\\site-packages\\sklearn\\pipeline.py\", line 675, in inverse_transform\n",
      "    Xt = transform.inverse_transform(Xt)\n",
      "  File \"C:\\Users\\davul\\anaconda3\\lib\\site-packages\\sklearn\\preprocessing\\_encoders.py\", line 990, in inverse_transform\n",
      "    X_tr[:, i] = self.categories_[i][labels]\n",
      "IndexError: index 4 is out of bounds for axis 0 with size 2\n",
      "\n",
      "  warnings.warn(\n"
     ]
    },
    {
     "name": "stdout",
     "output_type": "stream",
     "text": [
      "7/7 [==============================] - 0s 1ms/step\n"
     ]
    },
    {
     "name": "stderr",
     "output_type": "stream",
     "text": [
      "C:\\Users\\davul\\anaconda3\\lib\\site-packages\\sklearn\\model_selection\\_validation.py:770: UserWarning: Scoring failed. The score on this train-test partition for these parameters will be set to nan. Details: \n",
      "Traceback (most recent call last):\n",
      "  File \"C:\\Users\\davul\\anaconda3\\lib\\site-packages\\sklearn\\model_selection\\_validation.py\", line 761, in _score\n",
      "    scores = scorer(estimator, X_test, y_test)\n",
      "  File \"C:\\Users\\davul\\anaconda3\\lib\\site-packages\\sklearn\\metrics\\_scorer.py\", line 216, in __call__\n",
      "    return self._score(\n",
      "  File \"C:\\Users\\davul\\anaconda3\\lib\\site-packages\\sklearn\\metrics\\_scorer.py\", line 258, in _score\n",
      "    y_pred = method_caller(estimator, \"predict\", X)\n",
      "  File \"C:\\Users\\davul\\anaconda3\\lib\\site-packages\\sklearn\\metrics\\_scorer.py\", line 68, in _cached_call\n",
      "    return getattr(estimator, method)(*args, **kwargs)\n",
      "  File \"C:\\Users\\davul\\anaconda3\\lib\\site-packages\\scikeras\\wrappers.py\", line 1054, in predict\n",
      "    y_pred = self.target_encoder_.inverse_transform(y_pred)\n",
      "  File \"C:\\Users\\davul\\anaconda3\\lib\\site-packages\\scikeras\\utils\\transformers.py\", line 256, in inverse_transform\n",
      "    class_predictions = self._final_encoder.inverse_transform(class_predictions)\n",
      "  File \"C:\\Users\\davul\\anaconda3\\lib\\site-packages\\sklearn\\utils\\metaestimators.py\", line 113, in <lambda>\n",
      "    out = lambda *args, **kwargs: self.fn(obj, *args, **kwargs)  # noqa\n",
      "  File \"C:\\Users\\davul\\anaconda3\\lib\\site-packages\\sklearn\\pipeline.py\", line 675, in inverse_transform\n",
      "    Xt = transform.inverse_transform(Xt)\n",
      "  File \"C:\\Users\\davul\\anaconda3\\lib\\site-packages\\sklearn\\preprocessing\\_encoders.py\", line 990, in inverse_transform\n",
      "    X_tr[:, i] = self.categories_[i][labels]\n",
      "IndexError: index 3 is out of bounds for axis 0 with size 2\n",
      "\n",
      "  warnings.warn(\n"
     ]
    },
    {
     "name": "stdout",
     "output_type": "stream",
     "text": [
      "7/7 [==============================] - 0s 1ms/step\n"
     ]
    },
    {
     "name": "stderr",
     "output_type": "stream",
     "text": [
      "C:\\Users\\davul\\anaconda3\\lib\\site-packages\\sklearn\\model_selection\\_validation.py:770: UserWarning: Scoring failed. The score on this train-test partition for these parameters will be set to nan. Details: \n",
      "Traceback (most recent call last):\n",
      "  File \"C:\\Users\\davul\\anaconda3\\lib\\site-packages\\sklearn\\model_selection\\_validation.py\", line 761, in _score\n",
      "    scores = scorer(estimator, X_test, y_test)\n",
      "  File \"C:\\Users\\davul\\anaconda3\\lib\\site-packages\\sklearn\\metrics\\_scorer.py\", line 216, in __call__\n",
      "    return self._score(\n",
      "  File \"C:\\Users\\davul\\anaconda3\\lib\\site-packages\\sklearn\\metrics\\_scorer.py\", line 258, in _score\n",
      "    y_pred = method_caller(estimator, \"predict\", X)\n",
      "  File \"C:\\Users\\davul\\anaconda3\\lib\\site-packages\\sklearn\\metrics\\_scorer.py\", line 68, in _cached_call\n",
      "    return getattr(estimator, method)(*args, **kwargs)\n",
      "  File \"C:\\Users\\davul\\anaconda3\\lib\\site-packages\\scikeras\\wrappers.py\", line 1054, in predict\n",
      "    y_pred = self.target_encoder_.inverse_transform(y_pred)\n",
      "  File \"C:\\Users\\davul\\anaconda3\\lib\\site-packages\\scikeras\\utils\\transformers.py\", line 256, in inverse_transform\n",
      "    class_predictions = self._final_encoder.inverse_transform(class_predictions)\n",
      "  File \"C:\\Users\\davul\\anaconda3\\lib\\site-packages\\sklearn\\utils\\metaestimators.py\", line 113, in <lambda>\n",
      "    out = lambda *args, **kwargs: self.fn(obj, *args, **kwargs)  # noqa\n",
      "  File \"C:\\Users\\davul\\anaconda3\\lib\\site-packages\\sklearn\\pipeline.py\", line 675, in inverse_transform\n",
      "    Xt = transform.inverse_transform(Xt)\n",
      "  File \"C:\\Users\\davul\\anaconda3\\lib\\site-packages\\sklearn\\preprocessing\\_encoders.py\", line 990, in inverse_transform\n",
      "    X_tr[:, i] = self.categories_[i][labels]\n",
      "IndexError: index 7 is out of bounds for axis 0 with size 2\n",
      "\n",
      "  warnings.warn(\n"
     ]
    },
    {
     "name": "stdout",
     "output_type": "stream",
     "text": [
      "7/7 [==============================] - 0s 1ms/step\n"
     ]
    },
    {
     "name": "stderr",
     "output_type": "stream",
     "text": [
      "C:\\Users\\davul\\anaconda3\\lib\\site-packages\\sklearn\\model_selection\\_validation.py:770: UserWarning: Scoring failed. The score on this train-test partition for these parameters will be set to nan. Details: \n",
      "Traceback (most recent call last):\n",
      "  File \"C:\\Users\\davul\\anaconda3\\lib\\site-packages\\sklearn\\model_selection\\_validation.py\", line 761, in _score\n",
      "    scores = scorer(estimator, X_test, y_test)\n",
      "  File \"C:\\Users\\davul\\anaconda3\\lib\\site-packages\\sklearn\\metrics\\_scorer.py\", line 216, in __call__\n",
      "    return self._score(\n",
      "  File \"C:\\Users\\davul\\anaconda3\\lib\\site-packages\\sklearn\\metrics\\_scorer.py\", line 258, in _score\n",
      "    y_pred = method_caller(estimator, \"predict\", X)\n",
      "  File \"C:\\Users\\davul\\anaconda3\\lib\\site-packages\\sklearn\\metrics\\_scorer.py\", line 68, in _cached_call\n",
      "    return getattr(estimator, method)(*args, **kwargs)\n",
      "  File \"C:\\Users\\davul\\anaconda3\\lib\\site-packages\\scikeras\\wrappers.py\", line 1054, in predict\n",
      "    y_pred = self.target_encoder_.inverse_transform(y_pred)\n",
      "  File \"C:\\Users\\davul\\anaconda3\\lib\\site-packages\\scikeras\\utils\\transformers.py\", line 256, in inverse_transform\n",
      "    class_predictions = self._final_encoder.inverse_transform(class_predictions)\n",
      "  File \"C:\\Users\\davul\\anaconda3\\lib\\site-packages\\sklearn\\utils\\metaestimators.py\", line 113, in <lambda>\n",
      "    out = lambda *args, **kwargs: self.fn(obj, *args, **kwargs)  # noqa\n",
      "  File \"C:\\Users\\davul\\anaconda3\\lib\\site-packages\\sklearn\\pipeline.py\", line 675, in inverse_transform\n",
      "    Xt = transform.inverse_transform(Xt)\n",
      "  File \"C:\\Users\\davul\\anaconda3\\lib\\site-packages\\sklearn\\preprocessing\\_encoders.py\", line 990, in inverse_transform\n",
      "    X_tr[:, i] = self.categories_[i][labels]\n",
      "IndexError: index 9 is out of bounds for axis 0 with size 2\n",
      "\n",
      "  warnings.warn(\n"
     ]
    },
    {
     "name": "stdout",
     "output_type": "stream",
     "text": [
      "2/2 [==============================] - 0s 2ms/step\n"
     ]
    },
    {
     "name": "stderr",
     "output_type": "stream",
     "text": [
      "C:\\Users\\davul\\anaconda3\\lib\\site-packages\\sklearn\\model_selection\\_validation.py:770: UserWarning: Scoring failed. The score on this train-test partition for these parameters will be set to nan. Details: \n",
      "Traceback (most recent call last):\n",
      "  File \"C:\\Users\\davul\\anaconda3\\lib\\site-packages\\sklearn\\model_selection\\_validation.py\", line 761, in _score\n",
      "    scores = scorer(estimator, X_test, y_test)\n",
      "  File \"C:\\Users\\davul\\anaconda3\\lib\\site-packages\\sklearn\\metrics\\_scorer.py\", line 216, in __call__\n",
      "    return self._score(\n",
      "  File \"C:\\Users\\davul\\anaconda3\\lib\\site-packages\\sklearn\\metrics\\_scorer.py\", line 258, in _score\n",
      "    y_pred = method_caller(estimator, \"predict\", X)\n",
      "  File \"C:\\Users\\davul\\anaconda3\\lib\\site-packages\\sklearn\\metrics\\_scorer.py\", line 68, in _cached_call\n",
      "    return getattr(estimator, method)(*args, **kwargs)\n",
      "  File \"C:\\Users\\davul\\anaconda3\\lib\\site-packages\\scikeras\\wrappers.py\", line 1054, in predict\n",
      "    y_pred = self.target_encoder_.inverse_transform(y_pred)\n",
      "  File \"C:\\Users\\davul\\anaconda3\\lib\\site-packages\\scikeras\\utils\\transformers.py\", line 256, in inverse_transform\n",
      "    class_predictions = self._final_encoder.inverse_transform(class_predictions)\n",
      "  File \"C:\\Users\\davul\\anaconda3\\lib\\site-packages\\sklearn\\utils\\metaestimators.py\", line 113, in <lambda>\n",
      "    out = lambda *args, **kwargs: self.fn(obj, *args, **kwargs)  # noqa\n",
      "  File \"C:\\Users\\davul\\anaconda3\\lib\\site-packages\\sklearn\\pipeline.py\", line 675, in inverse_transform\n",
      "    Xt = transform.inverse_transform(Xt)\n",
      "  File \"C:\\Users\\davul\\anaconda3\\lib\\site-packages\\sklearn\\preprocessing\\_encoders.py\", line 990, in inverse_transform\n",
      "    X_tr[:, i] = self.categories_[i][labels]\n",
      "IndexError: index 8 is out of bounds for axis 0 with size 2\n",
      "\n",
      "  warnings.warn(\n"
     ]
    },
    {
     "name": "stdout",
     "output_type": "stream",
     "text": [
      "2/2 [==============================] - 0s 2ms/step\n"
     ]
    },
    {
     "name": "stderr",
     "output_type": "stream",
     "text": [
      "C:\\Users\\davul\\anaconda3\\lib\\site-packages\\sklearn\\model_selection\\_validation.py:770: UserWarning: Scoring failed. The score on this train-test partition for these parameters will be set to nan. Details: \n",
      "Traceback (most recent call last):\n",
      "  File \"C:\\Users\\davul\\anaconda3\\lib\\site-packages\\sklearn\\model_selection\\_validation.py\", line 761, in _score\n",
      "    scores = scorer(estimator, X_test, y_test)\n",
      "  File \"C:\\Users\\davul\\anaconda3\\lib\\site-packages\\sklearn\\metrics\\_scorer.py\", line 216, in __call__\n",
      "    return self._score(\n",
      "  File \"C:\\Users\\davul\\anaconda3\\lib\\site-packages\\sklearn\\metrics\\_scorer.py\", line 258, in _score\n",
      "    y_pred = method_caller(estimator, \"predict\", X)\n",
      "  File \"C:\\Users\\davul\\anaconda3\\lib\\site-packages\\sklearn\\metrics\\_scorer.py\", line 68, in _cached_call\n",
      "    return getattr(estimator, method)(*args, **kwargs)\n",
      "  File \"C:\\Users\\davul\\anaconda3\\lib\\site-packages\\scikeras\\wrappers.py\", line 1054, in predict\n",
      "    y_pred = self.target_encoder_.inverse_transform(y_pred)\n",
      "  File \"C:\\Users\\davul\\anaconda3\\lib\\site-packages\\scikeras\\utils\\transformers.py\", line 256, in inverse_transform\n",
      "    class_predictions = self._final_encoder.inverse_transform(class_predictions)\n",
      "  File \"C:\\Users\\davul\\anaconda3\\lib\\site-packages\\sklearn\\utils\\metaestimators.py\", line 113, in <lambda>\n",
      "    out = lambda *args, **kwargs: self.fn(obj, *args, **kwargs)  # noqa\n",
      "  File \"C:\\Users\\davul\\anaconda3\\lib\\site-packages\\sklearn\\pipeline.py\", line 675, in inverse_transform\n",
      "    Xt = transform.inverse_transform(Xt)\n",
      "  File \"C:\\Users\\davul\\anaconda3\\lib\\site-packages\\sklearn\\preprocessing\\_encoders.py\", line 990, in inverse_transform\n",
      "    X_tr[:, i] = self.categories_[i][labels]\n",
      "IndexError: index 3 is out of bounds for axis 0 with size 2\n",
      "\n",
      "  warnings.warn(\n"
     ]
    },
    {
     "name": "stdout",
     "output_type": "stream",
     "text": [
      "2/2 [==============================] - 0s 3ms/step\n"
     ]
    },
    {
     "name": "stderr",
     "output_type": "stream",
     "text": [
      "C:\\Users\\davul\\anaconda3\\lib\\site-packages\\sklearn\\model_selection\\_validation.py:770: UserWarning: Scoring failed. The score on this train-test partition for these parameters will be set to nan. Details: \n",
      "Traceback (most recent call last):\n",
      "  File \"C:\\Users\\davul\\anaconda3\\lib\\site-packages\\sklearn\\model_selection\\_validation.py\", line 761, in _score\n",
      "    scores = scorer(estimator, X_test, y_test)\n",
      "  File \"C:\\Users\\davul\\anaconda3\\lib\\site-packages\\sklearn\\metrics\\_scorer.py\", line 216, in __call__\n",
      "    return self._score(\n",
      "  File \"C:\\Users\\davul\\anaconda3\\lib\\site-packages\\sklearn\\metrics\\_scorer.py\", line 258, in _score\n",
      "    y_pred = method_caller(estimator, \"predict\", X)\n",
      "  File \"C:\\Users\\davul\\anaconda3\\lib\\site-packages\\sklearn\\metrics\\_scorer.py\", line 68, in _cached_call\n",
      "    return getattr(estimator, method)(*args, **kwargs)\n",
      "  File \"C:\\Users\\davul\\anaconda3\\lib\\site-packages\\scikeras\\wrappers.py\", line 1054, in predict\n",
      "    y_pred = self.target_encoder_.inverse_transform(y_pred)\n",
      "  File \"C:\\Users\\davul\\anaconda3\\lib\\site-packages\\scikeras\\utils\\transformers.py\", line 256, in inverse_transform\n",
      "    class_predictions = self._final_encoder.inverse_transform(class_predictions)\n",
      "  File \"C:\\Users\\davul\\anaconda3\\lib\\site-packages\\sklearn\\utils\\metaestimators.py\", line 113, in <lambda>\n",
      "    out = lambda *args, **kwargs: self.fn(obj, *args, **kwargs)  # noqa\n",
      "  File \"C:\\Users\\davul\\anaconda3\\lib\\site-packages\\sklearn\\pipeline.py\", line 675, in inverse_transform\n",
      "    Xt = transform.inverse_transform(Xt)\n",
      "  File \"C:\\Users\\davul\\anaconda3\\lib\\site-packages\\sklearn\\preprocessing\\_encoders.py\", line 990, in inverse_transform\n",
      "    X_tr[:, i] = self.categories_[i][labels]\n",
      "IndexError: index 5 is out of bounds for axis 0 with size 2\n",
      "\n",
      "  warnings.warn(\n"
     ]
    },
    {
     "name": "stdout",
     "output_type": "stream",
     "text": [
      "2/2 [==============================] - 0s 2ms/step\n"
     ]
    },
    {
     "name": "stderr",
     "output_type": "stream",
     "text": [
      "C:\\Users\\davul\\anaconda3\\lib\\site-packages\\sklearn\\model_selection\\_validation.py:770: UserWarning: Scoring failed. The score on this train-test partition for these parameters will be set to nan. Details: \n",
      "Traceback (most recent call last):\n",
      "  File \"C:\\Users\\davul\\anaconda3\\lib\\site-packages\\sklearn\\model_selection\\_validation.py\", line 761, in _score\n",
      "    scores = scorer(estimator, X_test, y_test)\n",
      "  File \"C:\\Users\\davul\\anaconda3\\lib\\site-packages\\sklearn\\metrics\\_scorer.py\", line 216, in __call__\n",
      "    return self._score(\n",
      "  File \"C:\\Users\\davul\\anaconda3\\lib\\site-packages\\sklearn\\metrics\\_scorer.py\", line 258, in _score\n",
      "    y_pred = method_caller(estimator, \"predict\", X)\n",
      "  File \"C:\\Users\\davul\\anaconda3\\lib\\site-packages\\sklearn\\metrics\\_scorer.py\", line 68, in _cached_call\n",
      "    return getattr(estimator, method)(*args, **kwargs)\n",
      "  File \"C:\\Users\\davul\\anaconda3\\lib\\site-packages\\scikeras\\wrappers.py\", line 1054, in predict\n",
      "    y_pred = self.target_encoder_.inverse_transform(y_pred)\n",
      "  File \"C:\\Users\\davul\\anaconda3\\lib\\site-packages\\scikeras\\utils\\transformers.py\", line 256, in inverse_transform\n",
      "    class_predictions = self._final_encoder.inverse_transform(class_predictions)\n",
      "  File \"C:\\Users\\davul\\anaconda3\\lib\\site-packages\\sklearn\\utils\\metaestimators.py\", line 113, in <lambda>\n",
      "    out = lambda *args, **kwargs: self.fn(obj, *args, **kwargs)  # noqa\n",
      "  File \"C:\\Users\\davul\\anaconda3\\lib\\site-packages\\sklearn\\pipeline.py\", line 675, in inverse_transform\n",
      "    Xt = transform.inverse_transform(Xt)\n",
      "  File \"C:\\Users\\davul\\anaconda3\\lib\\site-packages\\sklearn\\preprocessing\\_encoders.py\", line 990, in inverse_transform\n",
      "    X_tr[:, i] = self.categories_[i][labels]\n",
      "IndexError: index 4 is out of bounds for axis 0 with size 2\n",
      "\n",
      "  warnings.warn(\n"
     ]
    },
    {
     "name": "stdout",
     "output_type": "stream",
     "text": [
      "2/2 [==============================] - 0s 3ms/step\n"
     ]
    },
    {
     "name": "stderr",
     "output_type": "stream",
     "text": [
      "C:\\Users\\davul\\anaconda3\\lib\\site-packages\\sklearn\\model_selection\\_validation.py:770: UserWarning: Scoring failed. The score on this train-test partition for these parameters will be set to nan. Details: \n",
      "Traceback (most recent call last):\n",
      "  File \"C:\\Users\\davul\\anaconda3\\lib\\site-packages\\sklearn\\model_selection\\_validation.py\", line 761, in _score\n",
      "    scores = scorer(estimator, X_test, y_test)\n",
      "  File \"C:\\Users\\davul\\anaconda3\\lib\\site-packages\\sklearn\\metrics\\_scorer.py\", line 216, in __call__\n",
      "    return self._score(\n",
      "  File \"C:\\Users\\davul\\anaconda3\\lib\\site-packages\\sklearn\\metrics\\_scorer.py\", line 258, in _score\n",
      "    y_pred = method_caller(estimator, \"predict\", X)\n",
      "  File \"C:\\Users\\davul\\anaconda3\\lib\\site-packages\\sklearn\\metrics\\_scorer.py\", line 68, in _cached_call\n",
      "    return getattr(estimator, method)(*args, **kwargs)\n",
      "  File \"C:\\Users\\davul\\anaconda3\\lib\\site-packages\\scikeras\\wrappers.py\", line 1054, in predict\n",
      "    y_pred = self.target_encoder_.inverse_transform(y_pred)\n",
      "  File \"C:\\Users\\davul\\anaconda3\\lib\\site-packages\\scikeras\\utils\\transformers.py\", line 256, in inverse_transform\n",
      "    class_predictions = self._final_encoder.inverse_transform(class_predictions)\n",
      "  File \"C:\\Users\\davul\\anaconda3\\lib\\site-packages\\sklearn\\utils\\metaestimators.py\", line 113, in <lambda>\n",
      "    out = lambda *args, **kwargs: self.fn(obj, *args, **kwargs)  # noqa\n",
      "  File \"C:\\Users\\davul\\anaconda3\\lib\\site-packages\\sklearn\\pipeline.py\", line 675, in inverse_transform\n",
      "    Xt = transform.inverse_transform(Xt)\n",
      "  File \"C:\\Users\\davul\\anaconda3\\lib\\site-packages\\sklearn\\preprocessing\\_encoders.py\", line 990, in inverse_transform\n",
      "    X_tr[:, i] = self.categories_[i][labels]\n",
      "IndexError: index 4 is out of bounds for axis 0 with size 2\n",
      "\n",
      "  warnings.warn(\n"
     ]
    },
    {
     "name": "stdout",
     "output_type": "stream",
     "text": [
      "3/3 [==============================] - 0s 1ms/step\n",
      "3/3 [==============================] - 0s 1ms/step\n"
     ]
    },
    {
     "name": "stderr",
     "output_type": "stream",
     "text": [
      "C:\\Users\\davul\\anaconda3\\lib\\site-packages\\sklearn\\model_selection\\_validation.py:770: UserWarning: Scoring failed. The score on this train-test partition for these parameters will be set to nan. Details: \n",
      "Traceback (most recent call last):\n",
      "  File \"C:\\Users\\davul\\anaconda3\\lib\\site-packages\\sklearn\\model_selection\\_validation.py\", line 761, in _score\n",
      "    scores = scorer(estimator, X_test, y_test)\n",
      "  File \"C:\\Users\\davul\\anaconda3\\lib\\site-packages\\sklearn\\metrics\\_scorer.py\", line 216, in __call__\n",
      "    return self._score(\n",
      "  File \"C:\\Users\\davul\\anaconda3\\lib\\site-packages\\sklearn\\metrics\\_scorer.py\", line 258, in _score\n",
      "    y_pred = method_caller(estimator, \"predict\", X)\n",
      "  File \"C:\\Users\\davul\\anaconda3\\lib\\site-packages\\sklearn\\metrics\\_scorer.py\", line 68, in _cached_call\n",
      "    return getattr(estimator, method)(*args, **kwargs)\n",
      "  File \"C:\\Users\\davul\\anaconda3\\lib\\site-packages\\scikeras\\wrappers.py\", line 1054, in predict\n",
      "    y_pred = self.target_encoder_.inverse_transform(y_pred)\n",
      "  File \"C:\\Users\\davul\\anaconda3\\lib\\site-packages\\scikeras\\utils\\transformers.py\", line 256, in inverse_transform\n",
      "    class_predictions = self._final_encoder.inverse_transform(class_predictions)\n",
      "  File \"C:\\Users\\davul\\anaconda3\\lib\\site-packages\\sklearn\\utils\\metaestimators.py\", line 113, in <lambda>\n",
      "    out = lambda *args, **kwargs: self.fn(obj, *args, **kwargs)  # noqa\n",
      "  File \"C:\\Users\\davul\\anaconda3\\lib\\site-packages\\sklearn\\pipeline.py\", line 675, in inverse_transform\n",
      "    Xt = transform.inverse_transform(Xt)\n",
      "  File \"C:\\Users\\davul\\anaconda3\\lib\\site-packages\\sklearn\\preprocessing\\_encoders.py\", line 990, in inverse_transform\n",
      "    X_tr[:, i] = self.categories_[i][labels]\n",
      "IndexError: index 5 is out of bounds for axis 0 with size 2\n",
      "\n",
      "  warnings.warn(\n"
     ]
    },
    {
     "name": "stdout",
     "output_type": "stream",
     "text": [
      "3/3 [==============================] - 0s 2ms/step\n"
     ]
    },
    {
     "name": "stderr",
     "output_type": "stream",
     "text": [
      "C:\\Users\\davul\\anaconda3\\lib\\site-packages\\sklearn\\model_selection\\_validation.py:770: UserWarning: Scoring failed. The score on this train-test partition for these parameters will be set to nan. Details: \n",
      "Traceback (most recent call last):\n",
      "  File \"C:\\Users\\davul\\anaconda3\\lib\\site-packages\\sklearn\\model_selection\\_validation.py\", line 761, in _score\n",
      "    scores = scorer(estimator, X_test, y_test)\n",
      "  File \"C:\\Users\\davul\\anaconda3\\lib\\site-packages\\sklearn\\metrics\\_scorer.py\", line 216, in __call__\n",
      "    return self._score(\n",
      "  File \"C:\\Users\\davul\\anaconda3\\lib\\site-packages\\sklearn\\metrics\\_scorer.py\", line 258, in _score\n",
      "    y_pred = method_caller(estimator, \"predict\", X)\n",
      "  File \"C:\\Users\\davul\\anaconda3\\lib\\site-packages\\sklearn\\metrics\\_scorer.py\", line 68, in _cached_call\n",
      "    return getattr(estimator, method)(*args, **kwargs)\n",
      "  File \"C:\\Users\\davul\\anaconda3\\lib\\site-packages\\scikeras\\wrappers.py\", line 1054, in predict\n",
      "    y_pred = self.target_encoder_.inverse_transform(y_pred)\n",
      "  File \"C:\\Users\\davul\\anaconda3\\lib\\site-packages\\scikeras\\utils\\transformers.py\", line 256, in inverse_transform\n",
      "    class_predictions = self._final_encoder.inverse_transform(class_predictions)\n",
      "  File \"C:\\Users\\davul\\anaconda3\\lib\\site-packages\\sklearn\\utils\\metaestimators.py\", line 113, in <lambda>\n",
      "    out = lambda *args, **kwargs: self.fn(obj, *args, **kwargs)  # noqa\n",
      "  File \"C:\\Users\\davul\\anaconda3\\lib\\site-packages\\sklearn\\pipeline.py\", line 675, in inverse_transform\n",
      "    Xt = transform.inverse_transform(Xt)\n",
      "  File \"C:\\Users\\davul\\anaconda3\\lib\\site-packages\\sklearn\\preprocessing\\_encoders.py\", line 990, in inverse_transform\n",
      "    X_tr[:, i] = self.categories_[i][labels]\n",
      "IndexError: index 2 is out of bounds for axis 0 with size 2\n",
      "\n",
      "  warnings.warn(\n"
     ]
    },
    {
     "name": "stdout",
     "output_type": "stream",
     "text": [
      "3/3 [==============================] - 0s 2ms/step\n",
      "3/3 [==============================] - 0s 1ms/step\n"
     ]
    },
    {
     "name": "stderr",
     "output_type": "stream",
     "text": [
      "C:\\Users\\davul\\anaconda3\\lib\\site-packages\\sklearn\\model_selection\\_validation.py:770: UserWarning: Scoring failed. The score on this train-test partition for these parameters will be set to nan. Details: \n",
      "Traceback (most recent call last):\n",
      "  File \"C:\\Users\\davul\\anaconda3\\lib\\site-packages\\sklearn\\model_selection\\_validation.py\", line 761, in _score\n",
      "    scores = scorer(estimator, X_test, y_test)\n",
      "  File \"C:\\Users\\davul\\anaconda3\\lib\\site-packages\\sklearn\\metrics\\_scorer.py\", line 216, in __call__\n",
      "    return self._score(\n",
      "  File \"C:\\Users\\davul\\anaconda3\\lib\\site-packages\\sklearn\\metrics\\_scorer.py\", line 258, in _score\n",
      "    y_pred = method_caller(estimator, \"predict\", X)\n",
      "  File \"C:\\Users\\davul\\anaconda3\\lib\\site-packages\\sklearn\\metrics\\_scorer.py\", line 68, in _cached_call\n",
      "    return getattr(estimator, method)(*args, **kwargs)\n",
      "  File \"C:\\Users\\davul\\anaconda3\\lib\\site-packages\\scikeras\\wrappers.py\", line 1054, in predict\n",
      "    y_pred = self.target_encoder_.inverse_transform(y_pred)\n",
      "  File \"C:\\Users\\davul\\anaconda3\\lib\\site-packages\\scikeras\\utils\\transformers.py\", line 256, in inverse_transform\n",
      "    class_predictions = self._final_encoder.inverse_transform(class_predictions)\n",
      "  File \"C:\\Users\\davul\\anaconda3\\lib\\site-packages\\sklearn\\utils\\metaestimators.py\", line 113, in <lambda>\n",
      "    out = lambda *args, **kwargs: self.fn(obj, *args, **kwargs)  # noqa\n",
      "  File \"C:\\Users\\davul\\anaconda3\\lib\\site-packages\\sklearn\\pipeline.py\", line 675, in inverse_transform\n",
      "    Xt = transform.inverse_transform(Xt)\n",
      "  File \"C:\\Users\\davul\\anaconda3\\lib\\site-packages\\sklearn\\preprocessing\\_encoders.py\", line 990, in inverse_transform\n",
      "    X_tr[:, i] = self.categories_[i][labels]\n",
      "IndexError: index 5 is out of bounds for axis 0 with size 2\n",
      "\n",
      "  warnings.warn(\n"
     ]
    },
    {
     "name": "stdout",
     "output_type": "stream",
     "text": [
      "2/2 [==============================] - 0s 2ms/step\n"
     ]
    },
    {
     "name": "stderr",
     "output_type": "stream",
     "text": [
      "C:\\Users\\davul\\anaconda3\\lib\\site-packages\\sklearn\\model_selection\\_validation.py:770: UserWarning: Scoring failed. The score on this train-test partition for these parameters will be set to nan. Details: \n",
      "Traceback (most recent call last):\n",
      "  File \"C:\\Users\\davul\\anaconda3\\lib\\site-packages\\sklearn\\model_selection\\_validation.py\", line 761, in _score\n",
      "    scores = scorer(estimator, X_test, y_test)\n",
      "  File \"C:\\Users\\davul\\anaconda3\\lib\\site-packages\\sklearn\\metrics\\_scorer.py\", line 216, in __call__\n",
      "    return self._score(\n",
      "  File \"C:\\Users\\davul\\anaconda3\\lib\\site-packages\\sklearn\\metrics\\_scorer.py\", line 258, in _score\n",
      "    y_pred = method_caller(estimator, \"predict\", X)\n",
      "  File \"C:\\Users\\davul\\anaconda3\\lib\\site-packages\\sklearn\\metrics\\_scorer.py\", line 68, in _cached_call\n",
      "    return getattr(estimator, method)(*args, **kwargs)\n",
      "  File \"C:\\Users\\davul\\anaconda3\\lib\\site-packages\\scikeras\\wrappers.py\", line 1054, in predict\n",
      "    y_pred = self.target_encoder_.inverse_transform(y_pred)\n",
      "  File \"C:\\Users\\davul\\anaconda3\\lib\\site-packages\\scikeras\\utils\\transformers.py\", line 256, in inverse_transform\n",
      "    class_predictions = self._final_encoder.inverse_transform(class_predictions)\n",
      "  File \"C:\\Users\\davul\\anaconda3\\lib\\site-packages\\sklearn\\utils\\metaestimators.py\", line 113, in <lambda>\n",
      "    out = lambda *args, **kwargs: self.fn(obj, *args, **kwargs)  # noqa\n",
      "  File \"C:\\Users\\davul\\anaconda3\\lib\\site-packages\\sklearn\\pipeline.py\", line 675, in inverse_transform\n",
      "    Xt = transform.inverse_transform(Xt)\n",
      "  File \"C:\\Users\\davul\\anaconda3\\lib\\site-packages\\sklearn\\preprocessing\\_encoders.py\", line 990, in inverse_transform\n",
      "    X_tr[:, i] = self.categories_[i][labels]\n",
      "IndexError: index 2 is out of bounds for axis 0 with size 2\n",
      "\n",
      "  warnings.warn(\n"
     ]
    },
    {
     "name": "stdout",
     "output_type": "stream",
     "text": [
      "2/2 [==============================] - 0s 2ms/step\n"
     ]
    },
    {
     "name": "stderr",
     "output_type": "stream",
     "text": [
      "C:\\Users\\davul\\anaconda3\\lib\\site-packages\\sklearn\\model_selection\\_validation.py:770: UserWarning: Scoring failed. The score on this train-test partition for these parameters will be set to nan. Details: \n",
      "Traceback (most recent call last):\n",
      "  File \"C:\\Users\\davul\\anaconda3\\lib\\site-packages\\sklearn\\model_selection\\_validation.py\", line 761, in _score\n",
      "    scores = scorer(estimator, X_test, y_test)\n",
      "  File \"C:\\Users\\davul\\anaconda3\\lib\\site-packages\\sklearn\\metrics\\_scorer.py\", line 216, in __call__\n",
      "    return self._score(\n",
      "  File \"C:\\Users\\davul\\anaconda3\\lib\\site-packages\\sklearn\\metrics\\_scorer.py\", line 258, in _score\n",
      "    y_pred = method_caller(estimator, \"predict\", X)\n",
      "  File \"C:\\Users\\davul\\anaconda3\\lib\\site-packages\\sklearn\\metrics\\_scorer.py\", line 68, in _cached_call\n",
      "    return getattr(estimator, method)(*args, **kwargs)\n",
      "  File \"C:\\Users\\davul\\anaconda3\\lib\\site-packages\\scikeras\\wrappers.py\", line 1054, in predict\n",
      "    y_pred = self.target_encoder_.inverse_transform(y_pred)\n",
      "  File \"C:\\Users\\davul\\anaconda3\\lib\\site-packages\\scikeras\\utils\\transformers.py\", line 256, in inverse_transform\n",
      "    class_predictions = self._final_encoder.inverse_transform(class_predictions)\n",
      "  File \"C:\\Users\\davul\\anaconda3\\lib\\site-packages\\sklearn\\utils\\metaestimators.py\", line 113, in <lambda>\n",
      "    out = lambda *args, **kwargs: self.fn(obj, *args, **kwargs)  # noqa\n",
      "  File \"C:\\Users\\davul\\anaconda3\\lib\\site-packages\\sklearn\\pipeline.py\", line 675, in inverse_transform\n",
      "    Xt = transform.inverse_transform(Xt)\n",
      "  File \"C:\\Users\\davul\\anaconda3\\lib\\site-packages\\sklearn\\preprocessing\\_encoders.py\", line 990, in inverse_transform\n",
      "    X_tr[:, i] = self.categories_[i][labels]\n",
      "IndexError: index 4 is out of bounds for axis 0 with size 2\n",
      "\n",
      "  warnings.warn(\n"
     ]
    },
    {
     "name": "stdout",
     "output_type": "stream",
     "text": [
      "2/2 [==============================] - 0s 2ms/step\n"
     ]
    },
    {
     "name": "stderr",
     "output_type": "stream",
     "text": [
      "C:\\Users\\davul\\anaconda3\\lib\\site-packages\\sklearn\\model_selection\\_validation.py:770: UserWarning: Scoring failed. The score on this train-test partition for these parameters will be set to nan. Details: \n",
      "Traceback (most recent call last):\n",
      "  File \"C:\\Users\\davul\\anaconda3\\lib\\site-packages\\sklearn\\model_selection\\_validation.py\", line 761, in _score\n",
      "    scores = scorer(estimator, X_test, y_test)\n",
      "  File \"C:\\Users\\davul\\anaconda3\\lib\\site-packages\\sklearn\\metrics\\_scorer.py\", line 216, in __call__\n",
      "    return self._score(\n",
      "  File \"C:\\Users\\davul\\anaconda3\\lib\\site-packages\\sklearn\\metrics\\_scorer.py\", line 258, in _score\n",
      "    y_pred = method_caller(estimator, \"predict\", X)\n",
      "  File \"C:\\Users\\davul\\anaconda3\\lib\\site-packages\\sklearn\\metrics\\_scorer.py\", line 68, in _cached_call\n",
      "    return getattr(estimator, method)(*args, **kwargs)\n",
      "  File \"C:\\Users\\davul\\anaconda3\\lib\\site-packages\\scikeras\\wrappers.py\", line 1054, in predict\n",
      "    y_pred = self.target_encoder_.inverse_transform(y_pred)\n",
      "  File \"C:\\Users\\davul\\anaconda3\\lib\\site-packages\\scikeras\\utils\\transformers.py\", line 256, in inverse_transform\n",
      "    class_predictions = self._final_encoder.inverse_transform(class_predictions)\n",
      "  File \"C:\\Users\\davul\\anaconda3\\lib\\site-packages\\sklearn\\utils\\metaestimators.py\", line 113, in <lambda>\n",
      "    out = lambda *args, **kwargs: self.fn(obj, *args, **kwargs)  # noqa\n",
      "  File \"C:\\Users\\davul\\anaconda3\\lib\\site-packages\\sklearn\\pipeline.py\", line 675, in inverse_transform\n",
      "    Xt = transform.inverse_transform(Xt)\n",
      "  File \"C:\\Users\\davul\\anaconda3\\lib\\site-packages\\sklearn\\preprocessing\\_encoders.py\", line 990, in inverse_transform\n",
      "    X_tr[:, i] = self.categories_[i][labels]\n",
      "IndexError: index 5 is out of bounds for axis 0 with size 2\n",
      "\n",
      "  warnings.warn(\n"
     ]
    },
    {
     "name": "stdout",
     "output_type": "stream",
     "text": [
      "2/2 [==============================] - 0s 2ms/step\n"
     ]
    },
    {
     "name": "stderr",
     "output_type": "stream",
     "text": [
      "C:\\Users\\davul\\anaconda3\\lib\\site-packages\\sklearn\\model_selection\\_validation.py:770: UserWarning: Scoring failed. The score on this train-test partition for these parameters will be set to nan. Details: \n",
      "Traceback (most recent call last):\n",
      "  File \"C:\\Users\\davul\\anaconda3\\lib\\site-packages\\sklearn\\model_selection\\_validation.py\", line 761, in _score\n",
      "    scores = scorer(estimator, X_test, y_test)\n",
      "  File \"C:\\Users\\davul\\anaconda3\\lib\\site-packages\\sklearn\\metrics\\_scorer.py\", line 216, in __call__\n",
      "    return self._score(\n",
      "  File \"C:\\Users\\davul\\anaconda3\\lib\\site-packages\\sklearn\\metrics\\_scorer.py\", line 258, in _score\n",
      "    y_pred = method_caller(estimator, \"predict\", X)\n",
      "  File \"C:\\Users\\davul\\anaconda3\\lib\\site-packages\\sklearn\\metrics\\_scorer.py\", line 68, in _cached_call\n",
      "    return getattr(estimator, method)(*args, **kwargs)\n",
      "  File \"C:\\Users\\davul\\anaconda3\\lib\\site-packages\\scikeras\\wrappers.py\", line 1054, in predict\n",
      "    y_pred = self.target_encoder_.inverse_transform(y_pred)\n",
      "  File \"C:\\Users\\davul\\anaconda3\\lib\\site-packages\\scikeras\\utils\\transformers.py\", line 256, in inverse_transform\n",
      "    class_predictions = self._final_encoder.inverse_transform(class_predictions)\n",
      "  File \"C:\\Users\\davul\\anaconda3\\lib\\site-packages\\sklearn\\utils\\metaestimators.py\", line 113, in <lambda>\n",
      "    out = lambda *args, **kwargs: self.fn(obj, *args, **kwargs)  # noqa\n",
      "  File \"C:\\Users\\davul\\anaconda3\\lib\\site-packages\\sklearn\\pipeline.py\", line 675, in inverse_transform\n",
      "    Xt = transform.inverse_transform(Xt)\n",
      "  File \"C:\\Users\\davul\\anaconda3\\lib\\site-packages\\sklearn\\preprocessing\\_encoders.py\", line 990, in inverse_transform\n",
      "    X_tr[:, i] = self.categories_[i][labels]\n",
      "IndexError: index 8 is out of bounds for axis 0 with size 2\n",
      "\n",
      "  warnings.warn(\n"
     ]
    },
    {
     "name": "stdout",
     "output_type": "stream",
     "text": [
      "2/2 [==============================] - 0s 1ms/step\n"
     ]
    },
    {
     "name": "stderr",
     "output_type": "stream",
     "text": [
      "C:\\Users\\davul\\anaconda3\\lib\\site-packages\\sklearn\\model_selection\\_validation.py:770: UserWarning: Scoring failed. The score on this train-test partition for these parameters will be set to nan. Details: \n",
      "Traceback (most recent call last):\n",
      "  File \"C:\\Users\\davul\\anaconda3\\lib\\site-packages\\sklearn\\model_selection\\_validation.py\", line 761, in _score\n",
      "    scores = scorer(estimator, X_test, y_test)\n",
      "  File \"C:\\Users\\davul\\anaconda3\\lib\\site-packages\\sklearn\\metrics\\_scorer.py\", line 216, in __call__\n",
      "    return self._score(\n",
      "  File \"C:\\Users\\davul\\anaconda3\\lib\\site-packages\\sklearn\\metrics\\_scorer.py\", line 258, in _score\n",
      "    y_pred = method_caller(estimator, \"predict\", X)\n",
      "  File \"C:\\Users\\davul\\anaconda3\\lib\\site-packages\\sklearn\\metrics\\_scorer.py\", line 68, in _cached_call\n",
      "    return getattr(estimator, method)(*args, **kwargs)\n",
      "  File \"C:\\Users\\davul\\anaconda3\\lib\\site-packages\\scikeras\\wrappers.py\", line 1054, in predict\n",
      "    y_pred = self.target_encoder_.inverse_transform(y_pred)\n",
      "  File \"C:\\Users\\davul\\anaconda3\\lib\\site-packages\\scikeras\\utils\\transformers.py\", line 256, in inverse_transform\n",
      "    class_predictions = self._final_encoder.inverse_transform(class_predictions)\n",
      "  File \"C:\\Users\\davul\\anaconda3\\lib\\site-packages\\sklearn\\utils\\metaestimators.py\", line 113, in <lambda>\n",
      "    out = lambda *args, **kwargs: self.fn(obj, *args, **kwargs)  # noqa\n",
      "  File \"C:\\Users\\davul\\anaconda3\\lib\\site-packages\\sklearn\\pipeline.py\", line 675, in inverse_transform\n",
      "    Xt = transform.inverse_transform(Xt)\n",
      "  File \"C:\\Users\\davul\\anaconda3\\lib\\site-packages\\sklearn\\preprocessing\\_encoders.py\", line 990, in inverse_transform\n",
      "    X_tr[:, i] = self.categories_[i][labels]\n",
      "IndexError: index 9 is out of bounds for axis 0 with size 2\n",
      "\n",
      "  warnings.warn(\n"
     ]
    },
    {
     "name": "stdout",
     "output_type": "stream",
     "text": [
      "7/7 [==============================] - 0s 1ms/step\n"
     ]
    },
    {
     "name": "stderr",
     "output_type": "stream",
     "text": [
      "C:\\Users\\davul\\anaconda3\\lib\\site-packages\\sklearn\\model_selection\\_validation.py:770: UserWarning: Scoring failed. The score on this train-test partition for these parameters will be set to nan. Details: \n",
      "Traceback (most recent call last):\n",
      "  File \"C:\\Users\\davul\\anaconda3\\lib\\site-packages\\sklearn\\model_selection\\_validation.py\", line 761, in _score\n",
      "    scores = scorer(estimator, X_test, y_test)\n",
      "  File \"C:\\Users\\davul\\anaconda3\\lib\\site-packages\\sklearn\\metrics\\_scorer.py\", line 216, in __call__\n",
      "    return self._score(\n",
      "  File \"C:\\Users\\davul\\anaconda3\\lib\\site-packages\\sklearn\\metrics\\_scorer.py\", line 258, in _score\n",
      "    y_pred = method_caller(estimator, \"predict\", X)\n",
      "  File \"C:\\Users\\davul\\anaconda3\\lib\\site-packages\\sklearn\\metrics\\_scorer.py\", line 68, in _cached_call\n",
      "    return getattr(estimator, method)(*args, **kwargs)\n",
      "  File \"C:\\Users\\davul\\anaconda3\\lib\\site-packages\\scikeras\\wrappers.py\", line 1054, in predict\n",
      "    y_pred = self.target_encoder_.inverse_transform(y_pred)\n",
      "  File \"C:\\Users\\davul\\anaconda3\\lib\\site-packages\\scikeras\\utils\\transformers.py\", line 256, in inverse_transform\n",
      "    class_predictions = self._final_encoder.inverse_transform(class_predictions)\n",
      "  File \"C:\\Users\\davul\\anaconda3\\lib\\site-packages\\sklearn\\utils\\metaestimators.py\", line 113, in <lambda>\n",
      "    out = lambda *args, **kwargs: self.fn(obj, *args, **kwargs)  # noqa\n",
      "  File \"C:\\Users\\davul\\anaconda3\\lib\\site-packages\\sklearn\\pipeline.py\", line 675, in inverse_transform\n",
      "    Xt = transform.inverse_transform(Xt)\n",
      "  File \"C:\\Users\\davul\\anaconda3\\lib\\site-packages\\sklearn\\preprocessing\\_encoders.py\", line 990, in inverse_transform\n",
      "    X_tr[:, i] = self.categories_[i][labels]\n",
      "IndexError: index 7 is out of bounds for axis 0 with size 2\n",
      "\n",
      "  warnings.warn(\n"
     ]
    },
    {
     "name": "stdout",
     "output_type": "stream",
     "text": [
      "7/7 [==============================] - 0s 784us/step\n"
     ]
    },
    {
     "name": "stderr",
     "output_type": "stream",
     "text": [
      "C:\\Users\\davul\\anaconda3\\lib\\site-packages\\sklearn\\model_selection\\_validation.py:770: UserWarning: Scoring failed. The score on this train-test partition for these parameters will be set to nan. Details: \n",
      "Traceback (most recent call last):\n",
      "  File \"C:\\Users\\davul\\anaconda3\\lib\\site-packages\\sklearn\\model_selection\\_validation.py\", line 761, in _score\n",
      "    scores = scorer(estimator, X_test, y_test)\n",
      "  File \"C:\\Users\\davul\\anaconda3\\lib\\site-packages\\sklearn\\metrics\\_scorer.py\", line 216, in __call__\n",
      "    return self._score(\n",
      "  File \"C:\\Users\\davul\\anaconda3\\lib\\site-packages\\sklearn\\metrics\\_scorer.py\", line 258, in _score\n",
      "    y_pred = method_caller(estimator, \"predict\", X)\n",
      "  File \"C:\\Users\\davul\\anaconda3\\lib\\site-packages\\sklearn\\metrics\\_scorer.py\", line 68, in _cached_call\n",
      "    return getattr(estimator, method)(*args, **kwargs)\n",
      "  File \"C:\\Users\\davul\\anaconda3\\lib\\site-packages\\scikeras\\wrappers.py\", line 1054, in predict\n",
      "    y_pred = self.target_encoder_.inverse_transform(y_pred)\n",
      "  File \"C:\\Users\\davul\\anaconda3\\lib\\site-packages\\scikeras\\utils\\transformers.py\", line 256, in inverse_transform\n",
      "    class_predictions = self._final_encoder.inverse_transform(class_predictions)\n",
      "  File \"C:\\Users\\davul\\anaconda3\\lib\\site-packages\\sklearn\\utils\\metaestimators.py\", line 113, in <lambda>\n",
      "    out = lambda *args, **kwargs: self.fn(obj, *args, **kwargs)  # noqa\n",
      "  File \"C:\\Users\\davul\\anaconda3\\lib\\site-packages\\sklearn\\pipeline.py\", line 675, in inverse_transform\n",
      "    Xt = transform.inverse_transform(Xt)\n",
      "  File \"C:\\Users\\davul\\anaconda3\\lib\\site-packages\\sklearn\\preprocessing\\_encoders.py\", line 990, in inverse_transform\n",
      "    X_tr[:, i] = self.categories_[i][labels]\n",
      "IndexError: index 7 is out of bounds for axis 0 with size 2\n",
      "\n",
      "  warnings.warn(\n"
     ]
    },
    {
     "name": "stdout",
     "output_type": "stream",
     "text": [
      "7/7 [==============================] - 0s 997us/step\n"
     ]
    },
    {
     "name": "stderr",
     "output_type": "stream",
     "text": [
      "C:\\Users\\davul\\anaconda3\\lib\\site-packages\\sklearn\\model_selection\\_validation.py:770: UserWarning: Scoring failed. The score on this train-test partition for these parameters will be set to nan. Details: \n",
      "Traceback (most recent call last):\n",
      "  File \"C:\\Users\\davul\\anaconda3\\lib\\site-packages\\sklearn\\model_selection\\_validation.py\", line 761, in _score\n",
      "    scores = scorer(estimator, X_test, y_test)\n",
      "  File \"C:\\Users\\davul\\anaconda3\\lib\\site-packages\\sklearn\\metrics\\_scorer.py\", line 216, in __call__\n",
      "    return self._score(\n",
      "  File \"C:\\Users\\davul\\anaconda3\\lib\\site-packages\\sklearn\\metrics\\_scorer.py\", line 258, in _score\n",
      "    y_pred = method_caller(estimator, \"predict\", X)\n",
      "  File \"C:\\Users\\davul\\anaconda3\\lib\\site-packages\\sklearn\\metrics\\_scorer.py\", line 68, in _cached_call\n",
      "    return getattr(estimator, method)(*args, **kwargs)\n",
      "  File \"C:\\Users\\davul\\anaconda3\\lib\\site-packages\\scikeras\\wrappers.py\", line 1054, in predict\n",
      "    y_pred = self.target_encoder_.inverse_transform(y_pred)\n",
      "  File \"C:\\Users\\davul\\anaconda3\\lib\\site-packages\\scikeras\\utils\\transformers.py\", line 256, in inverse_transform\n",
      "    class_predictions = self._final_encoder.inverse_transform(class_predictions)\n",
      "  File \"C:\\Users\\davul\\anaconda3\\lib\\site-packages\\sklearn\\utils\\metaestimators.py\", line 113, in <lambda>\n",
      "    out = lambda *args, **kwargs: self.fn(obj, *args, **kwargs)  # noqa\n",
      "  File \"C:\\Users\\davul\\anaconda3\\lib\\site-packages\\sklearn\\pipeline.py\", line 675, in inverse_transform\n",
      "    Xt = transform.inverse_transform(Xt)\n",
      "  File \"C:\\Users\\davul\\anaconda3\\lib\\site-packages\\sklearn\\preprocessing\\_encoders.py\", line 990, in inverse_transform\n",
      "    X_tr[:, i] = self.categories_[i][labels]\n",
      "IndexError: index 8 is out of bounds for axis 0 with size 2\n",
      "\n",
      "  warnings.warn(\n"
     ]
    },
    {
     "name": "stdout",
     "output_type": "stream",
     "text": [
      "7/7 [==============================] - 0s 958us/step\n"
     ]
    },
    {
     "name": "stderr",
     "output_type": "stream",
     "text": [
      "C:\\Users\\davul\\anaconda3\\lib\\site-packages\\sklearn\\model_selection\\_validation.py:770: UserWarning: Scoring failed. The score on this train-test partition for these parameters will be set to nan. Details: \n",
      "Traceback (most recent call last):\n",
      "  File \"C:\\Users\\davul\\anaconda3\\lib\\site-packages\\sklearn\\model_selection\\_validation.py\", line 761, in _score\n",
      "    scores = scorer(estimator, X_test, y_test)\n",
      "  File \"C:\\Users\\davul\\anaconda3\\lib\\site-packages\\sklearn\\metrics\\_scorer.py\", line 216, in __call__\n",
      "    return self._score(\n",
      "  File \"C:\\Users\\davul\\anaconda3\\lib\\site-packages\\sklearn\\metrics\\_scorer.py\", line 258, in _score\n",
      "    y_pred = method_caller(estimator, \"predict\", X)\n",
      "  File \"C:\\Users\\davul\\anaconda3\\lib\\site-packages\\sklearn\\metrics\\_scorer.py\", line 68, in _cached_call\n",
      "    return getattr(estimator, method)(*args, **kwargs)\n",
      "  File \"C:\\Users\\davul\\anaconda3\\lib\\site-packages\\scikeras\\wrappers.py\", line 1054, in predict\n",
      "    y_pred = self.target_encoder_.inverse_transform(y_pred)\n",
      "  File \"C:\\Users\\davul\\anaconda3\\lib\\site-packages\\scikeras\\utils\\transformers.py\", line 256, in inverse_transform\n",
      "    class_predictions = self._final_encoder.inverse_transform(class_predictions)\n",
      "  File \"C:\\Users\\davul\\anaconda3\\lib\\site-packages\\sklearn\\utils\\metaestimators.py\", line 113, in <lambda>\n",
      "    out = lambda *args, **kwargs: self.fn(obj, *args, **kwargs)  # noqa\n",
      "  File \"C:\\Users\\davul\\anaconda3\\lib\\site-packages\\sklearn\\pipeline.py\", line 675, in inverse_transform\n",
      "    Xt = transform.inverse_transform(Xt)\n",
      "  File \"C:\\Users\\davul\\anaconda3\\lib\\site-packages\\sklearn\\preprocessing\\_encoders.py\", line 990, in inverse_transform\n",
      "    X_tr[:, i] = self.categories_[i][labels]\n",
      "IndexError: index 4 is out of bounds for axis 0 with size 2\n",
      "\n",
      "  warnings.warn(\n"
     ]
    },
    {
     "name": "stdout",
     "output_type": "stream",
     "text": [
      "7/7 [==============================] - 0s 888us/step\n"
     ]
    },
    {
     "name": "stderr",
     "output_type": "stream",
     "text": [
      "C:\\Users\\davul\\anaconda3\\lib\\site-packages\\sklearn\\model_selection\\_validation.py:770: UserWarning: Scoring failed. The score on this train-test partition for these parameters will be set to nan. Details: \n",
      "Traceback (most recent call last):\n",
      "  File \"C:\\Users\\davul\\anaconda3\\lib\\site-packages\\sklearn\\model_selection\\_validation.py\", line 761, in _score\n",
      "    scores = scorer(estimator, X_test, y_test)\n",
      "  File \"C:\\Users\\davul\\anaconda3\\lib\\site-packages\\sklearn\\metrics\\_scorer.py\", line 216, in __call__\n",
      "    return self._score(\n",
      "  File \"C:\\Users\\davul\\anaconda3\\lib\\site-packages\\sklearn\\metrics\\_scorer.py\", line 258, in _score\n",
      "    y_pred = method_caller(estimator, \"predict\", X)\n",
      "  File \"C:\\Users\\davul\\anaconda3\\lib\\site-packages\\sklearn\\metrics\\_scorer.py\", line 68, in _cached_call\n",
      "    return getattr(estimator, method)(*args, **kwargs)\n",
      "  File \"C:\\Users\\davul\\anaconda3\\lib\\site-packages\\scikeras\\wrappers.py\", line 1054, in predict\n",
      "    y_pred = self.target_encoder_.inverse_transform(y_pred)\n",
      "  File \"C:\\Users\\davul\\anaconda3\\lib\\site-packages\\scikeras\\utils\\transformers.py\", line 256, in inverse_transform\n",
      "    class_predictions = self._final_encoder.inverse_transform(class_predictions)\n",
      "  File \"C:\\Users\\davul\\anaconda3\\lib\\site-packages\\sklearn\\utils\\metaestimators.py\", line 113, in <lambda>\n",
      "    out = lambda *args, **kwargs: self.fn(obj, *args, **kwargs)  # noqa\n",
      "  File \"C:\\Users\\davul\\anaconda3\\lib\\site-packages\\sklearn\\pipeline.py\", line 675, in inverse_transform\n",
      "    Xt = transform.inverse_transform(Xt)\n",
      "  File \"C:\\Users\\davul\\anaconda3\\lib\\site-packages\\sklearn\\preprocessing\\_encoders.py\", line 990, in inverse_transform\n",
      "    X_tr[:, i] = self.categories_[i][labels]\n",
      "IndexError: index 3 is out of bounds for axis 0 with size 2\n",
      "\n",
      "  warnings.warn(\n"
     ]
    },
    {
     "name": "stdout",
     "output_type": "stream",
     "text": [
      "7/7 [==============================] - 0s 866us/step\n"
     ]
    },
    {
     "name": "stderr",
     "output_type": "stream",
     "text": [
      "C:\\Users\\davul\\anaconda3\\lib\\site-packages\\sklearn\\model_selection\\_validation.py:770: UserWarning: Scoring failed. The score on this train-test partition for these parameters will be set to nan. Details: \n",
      "Traceback (most recent call last):\n",
      "  File \"C:\\Users\\davul\\anaconda3\\lib\\site-packages\\sklearn\\model_selection\\_validation.py\", line 761, in _score\n",
      "    scores = scorer(estimator, X_test, y_test)\n",
      "  File \"C:\\Users\\davul\\anaconda3\\lib\\site-packages\\sklearn\\metrics\\_scorer.py\", line 216, in __call__\n",
      "    return self._score(\n",
      "  File \"C:\\Users\\davul\\anaconda3\\lib\\site-packages\\sklearn\\metrics\\_scorer.py\", line 258, in _score\n",
      "    y_pred = method_caller(estimator, \"predict\", X)\n",
      "  File \"C:\\Users\\davul\\anaconda3\\lib\\site-packages\\sklearn\\metrics\\_scorer.py\", line 68, in _cached_call\n",
      "    return getattr(estimator, method)(*args, **kwargs)\n",
      "  File \"C:\\Users\\davul\\anaconda3\\lib\\site-packages\\scikeras\\wrappers.py\", line 1054, in predict\n",
      "    y_pred = self.target_encoder_.inverse_transform(y_pred)\n",
      "  File \"C:\\Users\\davul\\anaconda3\\lib\\site-packages\\scikeras\\utils\\transformers.py\", line 256, in inverse_transform\n",
      "    class_predictions = self._final_encoder.inverse_transform(class_predictions)\n",
      "  File \"C:\\Users\\davul\\anaconda3\\lib\\site-packages\\sklearn\\utils\\metaestimators.py\", line 113, in <lambda>\n",
      "    out = lambda *args, **kwargs: self.fn(obj, *args, **kwargs)  # noqa\n",
      "  File \"C:\\Users\\davul\\anaconda3\\lib\\site-packages\\sklearn\\pipeline.py\", line 675, in inverse_transform\n",
      "    Xt = transform.inverse_transform(Xt)\n",
      "  File \"C:\\Users\\davul\\anaconda3\\lib\\site-packages\\sklearn\\preprocessing\\_encoders.py\", line 990, in inverse_transform\n",
      "    X_tr[:, i] = self.categories_[i][labels]\n",
      "IndexError: index 2 is out of bounds for axis 0 with size 2\n",
      "\n",
      "  warnings.warn(\n"
     ]
    },
    {
     "name": "stdout",
     "output_type": "stream",
     "text": [
      "7/7 [==============================] - 0s 816us/step\n"
     ]
    },
    {
     "name": "stderr",
     "output_type": "stream",
     "text": [
      "C:\\Users\\davul\\anaconda3\\lib\\site-packages\\sklearn\\model_selection\\_validation.py:770: UserWarning: Scoring failed. The score on this train-test partition for these parameters will be set to nan. Details: \n",
      "Traceback (most recent call last):\n",
      "  File \"C:\\Users\\davul\\anaconda3\\lib\\site-packages\\sklearn\\model_selection\\_validation.py\", line 761, in _score\n",
      "    scores = scorer(estimator, X_test, y_test)\n",
      "  File \"C:\\Users\\davul\\anaconda3\\lib\\site-packages\\sklearn\\metrics\\_scorer.py\", line 216, in __call__\n",
      "    return self._score(\n",
      "  File \"C:\\Users\\davul\\anaconda3\\lib\\site-packages\\sklearn\\metrics\\_scorer.py\", line 258, in _score\n",
      "    y_pred = method_caller(estimator, \"predict\", X)\n",
      "  File \"C:\\Users\\davul\\anaconda3\\lib\\site-packages\\sklearn\\metrics\\_scorer.py\", line 68, in _cached_call\n",
      "    return getattr(estimator, method)(*args, **kwargs)\n",
      "  File \"C:\\Users\\davul\\anaconda3\\lib\\site-packages\\scikeras\\wrappers.py\", line 1054, in predict\n",
      "    y_pred = self.target_encoder_.inverse_transform(y_pred)\n",
      "  File \"C:\\Users\\davul\\anaconda3\\lib\\site-packages\\scikeras\\utils\\transformers.py\", line 256, in inverse_transform\n",
      "    class_predictions = self._final_encoder.inverse_transform(class_predictions)\n",
      "  File \"C:\\Users\\davul\\anaconda3\\lib\\site-packages\\sklearn\\utils\\metaestimators.py\", line 113, in <lambda>\n",
      "    out = lambda *args, **kwargs: self.fn(obj, *args, **kwargs)  # noqa\n",
      "  File \"C:\\Users\\davul\\anaconda3\\lib\\site-packages\\sklearn\\pipeline.py\", line 675, in inverse_transform\n",
      "    Xt = transform.inverse_transform(Xt)\n",
      "  File \"C:\\Users\\davul\\anaconda3\\lib\\site-packages\\sklearn\\preprocessing\\_encoders.py\", line 990, in inverse_transform\n",
      "    X_tr[:, i] = self.categories_[i][labels]\n",
      "IndexError: index 6 is out of bounds for axis 0 with size 2\n",
      "\n",
      "  warnings.warn(\n"
     ]
    },
    {
     "name": "stdout",
     "output_type": "stream",
     "text": [
      "7/7 [==============================] - 0s 1ms/step\n"
     ]
    },
    {
     "name": "stderr",
     "output_type": "stream",
     "text": [
      "C:\\Users\\davul\\anaconda3\\lib\\site-packages\\sklearn\\model_selection\\_validation.py:770: UserWarning: Scoring failed. The score on this train-test partition for these parameters will be set to nan. Details: \n",
      "Traceback (most recent call last):\n",
      "  File \"C:\\Users\\davul\\anaconda3\\lib\\site-packages\\sklearn\\model_selection\\_validation.py\", line 761, in _score\n",
      "    scores = scorer(estimator, X_test, y_test)\n",
      "  File \"C:\\Users\\davul\\anaconda3\\lib\\site-packages\\sklearn\\metrics\\_scorer.py\", line 216, in __call__\n",
      "    return self._score(\n",
      "  File \"C:\\Users\\davul\\anaconda3\\lib\\site-packages\\sklearn\\metrics\\_scorer.py\", line 258, in _score\n",
      "    y_pred = method_caller(estimator, \"predict\", X)\n",
      "  File \"C:\\Users\\davul\\anaconda3\\lib\\site-packages\\sklearn\\metrics\\_scorer.py\", line 68, in _cached_call\n",
      "    return getattr(estimator, method)(*args, **kwargs)\n",
      "  File \"C:\\Users\\davul\\anaconda3\\lib\\site-packages\\scikeras\\wrappers.py\", line 1054, in predict\n",
      "    y_pred = self.target_encoder_.inverse_transform(y_pred)\n",
      "  File \"C:\\Users\\davul\\anaconda3\\lib\\site-packages\\scikeras\\utils\\transformers.py\", line 256, in inverse_transform\n",
      "    class_predictions = self._final_encoder.inverse_transform(class_predictions)\n",
      "  File \"C:\\Users\\davul\\anaconda3\\lib\\site-packages\\sklearn\\utils\\metaestimators.py\", line 113, in <lambda>\n",
      "    out = lambda *args, **kwargs: self.fn(obj, *args, **kwargs)  # noqa\n",
      "  File \"C:\\Users\\davul\\anaconda3\\lib\\site-packages\\sklearn\\pipeline.py\", line 675, in inverse_transform\n",
      "    Xt = transform.inverse_transform(Xt)\n",
      "  File \"C:\\Users\\davul\\anaconda3\\lib\\site-packages\\sklearn\\preprocessing\\_encoders.py\", line 990, in inverse_transform\n",
      "    X_tr[:, i] = self.categories_[i][labels]\n",
      "IndexError: index 7 is out of bounds for axis 0 with size 2\n",
      "\n",
      "  warnings.warn(\n"
     ]
    },
    {
     "name": "stdout",
     "output_type": "stream",
     "text": [
      "7/7 [==============================] - 0s 932us/step\n"
     ]
    },
    {
     "name": "stderr",
     "output_type": "stream",
     "text": [
      "C:\\Users\\davul\\anaconda3\\lib\\site-packages\\sklearn\\model_selection\\_validation.py:770: UserWarning: Scoring failed. The score on this train-test partition for these parameters will be set to nan. Details: \n",
      "Traceback (most recent call last):\n",
      "  File \"C:\\Users\\davul\\anaconda3\\lib\\site-packages\\sklearn\\model_selection\\_validation.py\", line 761, in _score\n",
      "    scores = scorer(estimator, X_test, y_test)\n",
      "  File \"C:\\Users\\davul\\anaconda3\\lib\\site-packages\\sklearn\\metrics\\_scorer.py\", line 216, in __call__\n",
      "    return self._score(\n",
      "  File \"C:\\Users\\davul\\anaconda3\\lib\\site-packages\\sklearn\\metrics\\_scorer.py\", line 258, in _score\n",
      "    y_pred = method_caller(estimator, \"predict\", X)\n",
      "  File \"C:\\Users\\davul\\anaconda3\\lib\\site-packages\\sklearn\\metrics\\_scorer.py\", line 68, in _cached_call\n",
      "    return getattr(estimator, method)(*args, **kwargs)\n",
      "  File \"C:\\Users\\davul\\anaconda3\\lib\\site-packages\\scikeras\\wrappers.py\", line 1054, in predict\n",
      "    y_pred = self.target_encoder_.inverse_transform(y_pred)\n",
      "  File \"C:\\Users\\davul\\anaconda3\\lib\\site-packages\\scikeras\\utils\\transformers.py\", line 256, in inverse_transform\n",
      "    class_predictions = self._final_encoder.inverse_transform(class_predictions)\n",
      "  File \"C:\\Users\\davul\\anaconda3\\lib\\site-packages\\sklearn\\utils\\metaestimators.py\", line 113, in <lambda>\n",
      "    out = lambda *args, **kwargs: self.fn(obj, *args, **kwargs)  # noqa\n",
      "  File \"C:\\Users\\davul\\anaconda3\\lib\\site-packages\\sklearn\\pipeline.py\", line 675, in inverse_transform\n",
      "    Xt = transform.inverse_transform(Xt)\n",
      "  File \"C:\\Users\\davul\\anaconda3\\lib\\site-packages\\sklearn\\preprocessing\\_encoders.py\", line 990, in inverse_transform\n",
      "    X_tr[:, i] = self.categories_[i][labels]\n",
      "IndexError: index 7 is out of bounds for axis 0 with size 2\n",
      "\n",
      "  warnings.warn(\n"
     ]
    },
    {
     "name": "stdout",
     "output_type": "stream",
     "text": [
      "7/7 [==============================] - 0s 1ms/step\n"
     ]
    },
    {
     "name": "stderr",
     "output_type": "stream",
     "text": [
      "C:\\Users\\davul\\anaconda3\\lib\\site-packages\\sklearn\\model_selection\\_validation.py:770: UserWarning: Scoring failed. The score on this train-test partition for these parameters will be set to nan. Details: \n",
      "Traceback (most recent call last):\n",
      "  File \"C:\\Users\\davul\\anaconda3\\lib\\site-packages\\sklearn\\model_selection\\_validation.py\", line 761, in _score\n",
      "    scores = scorer(estimator, X_test, y_test)\n",
      "  File \"C:\\Users\\davul\\anaconda3\\lib\\site-packages\\sklearn\\metrics\\_scorer.py\", line 216, in __call__\n",
      "    return self._score(\n",
      "  File \"C:\\Users\\davul\\anaconda3\\lib\\site-packages\\sklearn\\metrics\\_scorer.py\", line 258, in _score\n",
      "    y_pred = method_caller(estimator, \"predict\", X)\n",
      "  File \"C:\\Users\\davul\\anaconda3\\lib\\site-packages\\sklearn\\metrics\\_scorer.py\", line 68, in _cached_call\n",
      "    return getattr(estimator, method)(*args, **kwargs)\n",
      "  File \"C:\\Users\\davul\\anaconda3\\lib\\site-packages\\scikeras\\wrappers.py\", line 1054, in predict\n",
      "    y_pred = self.target_encoder_.inverse_transform(y_pred)\n",
      "  File \"C:\\Users\\davul\\anaconda3\\lib\\site-packages\\scikeras\\utils\\transformers.py\", line 256, in inverse_transform\n",
      "    class_predictions = self._final_encoder.inverse_transform(class_predictions)\n",
      "  File \"C:\\Users\\davul\\anaconda3\\lib\\site-packages\\sklearn\\utils\\metaestimators.py\", line 113, in <lambda>\n",
      "    out = lambda *args, **kwargs: self.fn(obj, *args, **kwargs)  # noqa\n",
      "  File \"C:\\Users\\davul\\anaconda3\\lib\\site-packages\\sklearn\\pipeline.py\", line 675, in inverse_transform\n",
      "    Xt = transform.inverse_transform(Xt)\n",
      "  File \"C:\\Users\\davul\\anaconda3\\lib\\site-packages\\sklearn\\preprocessing\\_encoders.py\", line 990, in inverse_transform\n",
      "    X_tr[:, i] = self.categories_[i][labels]\n",
      "IndexError: index 8 is out of bounds for axis 0 with size 2\n",
      "\n",
      "  warnings.warn(\n"
     ]
    },
    {
     "name": "stdout",
     "output_type": "stream",
     "text": [
      "3/3 [==============================] - 0s 1ms/step\n"
     ]
    },
    {
     "name": "stderr",
     "output_type": "stream",
     "text": [
      "C:\\Users\\davul\\anaconda3\\lib\\site-packages\\sklearn\\model_selection\\_validation.py:770: UserWarning: Scoring failed. The score on this train-test partition for these parameters will be set to nan. Details: \n",
      "Traceback (most recent call last):\n",
      "  File \"C:\\Users\\davul\\anaconda3\\lib\\site-packages\\sklearn\\model_selection\\_validation.py\", line 761, in _score\n",
      "    scores = scorer(estimator, X_test, y_test)\n",
      "  File \"C:\\Users\\davul\\anaconda3\\lib\\site-packages\\sklearn\\metrics\\_scorer.py\", line 216, in __call__\n",
      "    return self._score(\n",
      "  File \"C:\\Users\\davul\\anaconda3\\lib\\site-packages\\sklearn\\metrics\\_scorer.py\", line 258, in _score\n",
      "    y_pred = method_caller(estimator, \"predict\", X)\n",
      "  File \"C:\\Users\\davul\\anaconda3\\lib\\site-packages\\sklearn\\metrics\\_scorer.py\", line 68, in _cached_call\n",
      "    return getattr(estimator, method)(*args, **kwargs)\n",
      "  File \"C:\\Users\\davul\\anaconda3\\lib\\site-packages\\scikeras\\wrappers.py\", line 1054, in predict\n",
      "    y_pred = self.target_encoder_.inverse_transform(y_pred)\n",
      "  File \"C:\\Users\\davul\\anaconda3\\lib\\site-packages\\scikeras\\utils\\transformers.py\", line 256, in inverse_transform\n",
      "    class_predictions = self._final_encoder.inverse_transform(class_predictions)\n",
      "  File \"C:\\Users\\davul\\anaconda3\\lib\\site-packages\\sklearn\\utils\\metaestimators.py\", line 113, in <lambda>\n",
      "    out = lambda *args, **kwargs: self.fn(obj, *args, **kwargs)  # noqa\n",
      "  File \"C:\\Users\\davul\\anaconda3\\lib\\site-packages\\sklearn\\pipeline.py\", line 675, in inverse_transform\n",
      "    Xt = transform.inverse_transform(Xt)\n",
      "  File \"C:\\Users\\davul\\anaconda3\\lib\\site-packages\\sklearn\\preprocessing\\_encoders.py\", line 990, in inverse_transform\n",
      "    X_tr[:, i] = self.categories_[i][labels]\n",
      "IndexError: index 8 is out of bounds for axis 0 with size 2\n",
      "\n",
      "  warnings.warn(\n"
     ]
    },
    {
     "name": "stdout",
     "output_type": "stream",
     "text": [
      "3/3 [==============================] - 0s 1ms/step\n"
     ]
    },
    {
     "name": "stderr",
     "output_type": "stream",
     "text": [
      "C:\\Users\\davul\\anaconda3\\lib\\site-packages\\sklearn\\model_selection\\_validation.py:770: UserWarning: Scoring failed. The score on this train-test partition for these parameters will be set to nan. Details: \n",
      "Traceback (most recent call last):\n",
      "  File \"C:\\Users\\davul\\anaconda3\\lib\\site-packages\\sklearn\\model_selection\\_validation.py\", line 761, in _score\n",
      "    scores = scorer(estimator, X_test, y_test)\n",
      "  File \"C:\\Users\\davul\\anaconda3\\lib\\site-packages\\sklearn\\metrics\\_scorer.py\", line 216, in __call__\n",
      "    return self._score(\n",
      "  File \"C:\\Users\\davul\\anaconda3\\lib\\site-packages\\sklearn\\metrics\\_scorer.py\", line 258, in _score\n",
      "    y_pred = method_caller(estimator, \"predict\", X)\n",
      "  File \"C:\\Users\\davul\\anaconda3\\lib\\site-packages\\sklearn\\metrics\\_scorer.py\", line 68, in _cached_call\n",
      "    return getattr(estimator, method)(*args, **kwargs)\n",
      "  File \"C:\\Users\\davul\\anaconda3\\lib\\site-packages\\scikeras\\wrappers.py\", line 1054, in predict\n",
      "    y_pred = self.target_encoder_.inverse_transform(y_pred)\n",
      "  File \"C:\\Users\\davul\\anaconda3\\lib\\site-packages\\scikeras\\utils\\transformers.py\", line 256, in inverse_transform\n",
      "    class_predictions = self._final_encoder.inverse_transform(class_predictions)\n",
      "  File \"C:\\Users\\davul\\anaconda3\\lib\\site-packages\\sklearn\\utils\\metaestimators.py\", line 113, in <lambda>\n",
      "    out = lambda *args, **kwargs: self.fn(obj, *args, **kwargs)  # noqa\n",
      "  File \"C:\\Users\\davul\\anaconda3\\lib\\site-packages\\sklearn\\pipeline.py\", line 675, in inverse_transform\n",
      "    Xt = transform.inverse_transform(Xt)\n",
      "  File \"C:\\Users\\davul\\anaconda3\\lib\\site-packages\\sklearn\\preprocessing\\_encoders.py\", line 990, in inverse_transform\n",
      "    X_tr[:, i] = self.categories_[i][labels]\n",
      "IndexError: index 5 is out of bounds for axis 0 with size 2\n",
      "\n",
      "  warnings.warn(\n"
     ]
    },
    {
     "name": "stdout",
     "output_type": "stream",
     "text": [
      "3/3 [==============================] - 0s 2ms/step\n"
     ]
    },
    {
     "name": "stderr",
     "output_type": "stream",
     "text": [
      "C:\\Users\\davul\\anaconda3\\lib\\site-packages\\sklearn\\model_selection\\_validation.py:770: UserWarning: Scoring failed. The score on this train-test partition for these parameters will be set to nan. Details: \n",
      "Traceback (most recent call last):\n",
      "  File \"C:\\Users\\davul\\anaconda3\\lib\\site-packages\\sklearn\\model_selection\\_validation.py\", line 761, in _score\n",
      "    scores = scorer(estimator, X_test, y_test)\n",
      "  File \"C:\\Users\\davul\\anaconda3\\lib\\site-packages\\sklearn\\metrics\\_scorer.py\", line 216, in __call__\n",
      "    return self._score(\n",
      "  File \"C:\\Users\\davul\\anaconda3\\lib\\site-packages\\sklearn\\metrics\\_scorer.py\", line 258, in _score\n",
      "    y_pred = method_caller(estimator, \"predict\", X)\n",
      "  File \"C:\\Users\\davul\\anaconda3\\lib\\site-packages\\sklearn\\metrics\\_scorer.py\", line 68, in _cached_call\n",
      "    return getattr(estimator, method)(*args, **kwargs)\n",
      "  File \"C:\\Users\\davul\\anaconda3\\lib\\site-packages\\scikeras\\wrappers.py\", line 1054, in predict\n",
      "    y_pred = self.target_encoder_.inverse_transform(y_pred)\n",
      "  File \"C:\\Users\\davul\\anaconda3\\lib\\site-packages\\scikeras\\utils\\transformers.py\", line 256, in inverse_transform\n",
      "    class_predictions = self._final_encoder.inverse_transform(class_predictions)\n",
      "  File \"C:\\Users\\davul\\anaconda3\\lib\\site-packages\\sklearn\\utils\\metaestimators.py\", line 113, in <lambda>\n",
      "    out = lambda *args, **kwargs: self.fn(obj, *args, **kwargs)  # noqa\n",
      "  File \"C:\\Users\\davul\\anaconda3\\lib\\site-packages\\sklearn\\pipeline.py\", line 675, in inverse_transform\n",
      "    Xt = transform.inverse_transform(Xt)\n",
      "  File \"C:\\Users\\davul\\anaconda3\\lib\\site-packages\\sklearn\\preprocessing\\_encoders.py\", line 990, in inverse_transform\n",
      "    X_tr[:, i] = self.categories_[i][labels]\n",
      "IndexError: index 3 is out of bounds for axis 0 with size 2\n",
      "\n",
      "  warnings.warn(\n"
     ]
    },
    {
     "name": "stdout",
     "output_type": "stream",
     "text": [
      "3/3 [==============================] - 0s 2ms/step\n"
     ]
    },
    {
     "name": "stderr",
     "output_type": "stream",
     "text": [
      "C:\\Users\\davul\\anaconda3\\lib\\site-packages\\sklearn\\model_selection\\_validation.py:770: UserWarning: Scoring failed. The score on this train-test partition for these parameters will be set to nan. Details: \n",
      "Traceback (most recent call last):\n",
      "  File \"C:\\Users\\davul\\anaconda3\\lib\\site-packages\\sklearn\\model_selection\\_validation.py\", line 761, in _score\n",
      "    scores = scorer(estimator, X_test, y_test)\n",
      "  File \"C:\\Users\\davul\\anaconda3\\lib\\site-packages\\sklearn\\metrics\\_scorer.py\", line 216, in __call__\n",
      "    return self._score(\n",
      "  File \"C:\\Users\\davul\\anaconda3\\lib\\site-packages\\sklearn\\metrics\\_scorer.py\", line 258, in _score\n",
      "    y_pred = method_caller(estimator, \"predict\", X)\n",
      "  File \"C:\\Users\\davul\\anaconda3\\lib\\site-packages\\sklearn\\metrics\\_scorer.py\", line 68, in _cached_call\n",
      "    return getattr(estimator, method)(*args, **kwargs)\n",
      "  File \"C:\\Users\\davul\\anaconda3\\lib\\site-packages\\scikeras\\wrappers.py\", line 1054, in predict\n",
      "    y_pred = self.target_encoder_.inverse_transform(y_pred)\n",
      "  File \"C:\\Users\\davul\\anaconda3\\lib\\site-packages\\scikeras\\utils\\transformers.py\", line 256, in inverse_transform\n",
      "    class_predictions = self._final_encoder.inverse_transform(class_predictions)\n",
      "  File \"C:\\Users\\davul\\anaconda3\\lib\\site-packages\\sklearn\\utils\\metaestimators.py\", line 113, in <lambda>\n",
      "    out = lambda *args, **kwargs: self.fn(obj, *args, **kwargs)  # noqa\n",
      "  File \"C:\\Users\\davul\\anaconda3\\lib\\site-packages\\sklearn\\pipeline.py\", line 675, in inverse_transform\n",
      "    Xt = transform.inverse_transform(Xt)\n",
      "  File \"C:\\Users\\davul\\anaconda3\\lib\\site-packages\\sklearn\\preprocessing\\_encoders.py\", line 990, in inverse_transform\n",
      "    X_tr[:, i] = self.categories_[i][labels]\n",
      "IndexError: index 6 is out of bounds for axis 0 with size 2\n",
      "\n",
      "  warnings.warn(\n"
     ]
    },
    {
     "name": "stdout",
     "output_type": "stream",
     "text": [
      "3/3 [==============================] - 0s 2ms/step\n"
     ]
    },
    {
     "name": "stderr",
     "output_type": "stream",
     "text": [
      "C:\\Users\\davul\\anaconda3\\lib\\site-packages\\sklearn\\model_selection\\_validation.py:770: UserWarning: Scoring failed. The score on this train-test partition for these parameters will be set to nan. Details: \n",
      "Traceback (most recent call last):\n",
      "  File \"C:\\Users\\davul\\anaconda3\\lib\\site-packages\\sklearn\\model_selection\\_validation.py\", line 761, in _score\n",
      "    scores = scorer(estimator, X_test, y_test)\n",
      "  File \"C:\\Users\\davul\\anaconda3\\lib\\site-packages\\sklearn\\metrics\\_scorer.py\", line 216, in __call__\n",
      "    return self._score(\n",
      "  File \"C:\\Users\\davul\\anaconda3\\lib\\site-packages\\sklearn\\metrics\\_scorer.py\", line 258, in _score\n",
      "    y_pred = method_caller(estimator, \"predict\", X)\n",
      "  File \"C:\\Users\\davul\\anaconda3\\lib\\site-packages\\sklearn\\metrics\\_scorer.py\", line 68, in _cached_call\n",
      "    return getattr(estimator, method)(*args, **kwargs)\n",
      "  File \"C:\\Users\\davul\\anaconda3\\lib\\site-packages\\scikeras\\wrappers.py\", line 1054, in predict\n",
      "    y_pred = self.target_encoder_.inverse_transform(y_pred)\n",
      "  File \"C:\\Users\\davul\\anaconda3\\lib\\site-packages\\scikeras\\utils\\transformers.py\", line 256, in inverse_transform\n",
      "    class_predictions = self._final_encoder.inverse_transform(class_predictions)\n",
      "  File \"C:\\Users\\davul\\anaconda3\\lib\\site-packages\\sklearn\\utils\\metaestimators.py\", line 113, in <lambda>\n",
      "    out = lambda *args, **kwargs: self.fn(obj, *args, **kwargs)  # noqa\n",
      "  File \"C:\\Users\\davul\\anaconda3\\lib\\site-packages\\sklearn\\pipeline.py\", line 675, in inverse_transform\n",
      "    Xt = transform.inverse_transform(Xt)\n",
      "  File \"C:\\Users\\davul\\anaconda3\\lib\\site-packages\\sklearn\\preprocessing\\_encoders.py\", line 990, in inverse_transform\n",
      "    X_tr[:, i] = self.categories_[i][labels]\n",
      "IndexError: index 4 is out of bounds for axis 0 with size 2\n",
      "\n",
      "  warnings.warn(\n"
     ]
    },
    {
     "name": "stdout",
     "output_type": "stream",
     "text": [
      "7/7 [==============================] - 0s 1ms/step\n"
     ]
    },
    {
     "name": "stderr",
     "output_type": "stream",
     "text": [
      "C:\\Users\\davul\\anaconda3\\lib\\site-packages\\sklearn\\model_selection\\_validation.py:770: UserWarning: Scoring failed. The score on this train-test partition for these parameters will be set to nan. Details: \n",
      "Traceback (most recent call last):\n",
      "  File \"C:\\Users\\davul\\anaconda3\\lib\\site-packages\\sklearn\\model_selection\\_validation.py\", line 761, in _score\n",
      "    scores = scorer(estimator, X_test, y_test)\n",
      "  File \"C:\\Users\\davul\\anaconda3\\lib\\site-packages\\sklearn\\metrics\\_scorer.py\", line 216, in __call__\n",
      "    return self._score(\n",
      "  File \"C:\\Users\\davul\\anaconda3\\lib\\site-packages\\sklearn\\metrics\\_scorer.py\", line 258, in _score\n",
      "    y_pred = method_caller(estimator, \"predict\", X)\n",
      "  File \"C:\\Users\\davul\\anaconda3\\lib\\site-packages\\sklearn\\metrics\\_scorer.py\", line 68, in _cached_call\n",
      "    return getattr(estimator, method)(*args, **kwargs)\n",
      "  File \"C:\\Users\\davul\\anaconda3\\lib\\site-packages\\scikeras\\wrappers.py\", line 1054, in predict\n",
      "    y_pred = self.target_encoder_.inverse_transform(y_pred)\n",
      "  File \"C:\\Users\\davul\\anaconda3\\lib\\site-packages\\scikeras\\utils\\transformers.py\", line 256, in inverse_transform\n",
      "    class_predictions = self._final_encoder.inverse_transform(class_predictions)\n",
      "  File \"C:\\Users\\davul\\anaconda3\\lib\\site-packages\\sklearn\\utils\\metaestimators.py\", line 113, in <lambda>\n",
      "    out = lambda *args, **kwargs: self.fn(obj, *args, **kwargs)  # noqa\n",
      "  File \"C:\\Users\\davul\\anaconda3\\lib\\site-packages\\sklearn\\pipeline.py\", line 675, in inverse_transform\n",
      "    Xt = transform.inverse_transform(Xt)\n",
      "  File \"C:\\Users\\davul\\anaconda3\\lib\\site-packages\\sklearn\\preprocessing\\_encoders.py\", line 990, in inverse_transform\n",
      "    X_tr[:, i] = self.categories_[i][labels]\n",
      "IndexError: index 9 is out of bounds for axis 0 with size 2\n",
      "\n",
      "  warnings.warn(\n"
     ]
    },
    {
     "name": "stdout",
     "output_type": "stream",
     "text": [
      "7/7 [==============================] - 0s 1ms/step\n"
     ]
    },
    {
     "name": "stderr",
     "output_type": "stream",
     "text": [
      "C:\\Users\\davul\\anaconda3\\lib\\site-packages\\sklearn\\model_selection\\_validation.py:770: UserWarning: Scoring failed. The score on this train-test partition for these parameters will be set to nan. Details: \n",
      "Traceback (most recent call last):\n",
      "  File \"C:\\Users\\davul\\anaconda3\\lib\\site-packages\\sklearn\\model_selection\\_validation.py\", line 761, in _score\n",
      "    scores = scorer(estimator, X_test, y_test)\n",
      "  File \"C:\\Users\\davul\\anaconda3\\lib\\site-packages\\sklearn\\metrics\\_scorer.py\", line 216, in __call__\n",
      "    return self._score(\n",
      "  File \"C:\\Users\\davul\\anaconda3\\lib\\site-packages\\sklearn\\metrics\\_scorer.py\", line 258, in _score\n",
      "    y_pred = method_caller(estimator, \"predict\", X)\n",
      "  File \"C:\\Users\\davul\\anaconda3\\lib\\site-packages\\sklearn\\metrics\\_scorer.py\", line 68, in _cached_call\n",
      "    return getattr(estimator, method)(*args, **kwargs)\n",
      "  File \"C:\\Users\\davul\\anaconda3\\lib\\site-packages\\scikeras\\wrappers.py\", line 1054, in predict\n",
      "    y_pred = self.target_encoder_.inverse_transform(y_pred)\n",
      "  File \"C:\\Users\\davul\\anaconda3\\lib\\site-packages\\scikeras\\utils\\transformers.py\", line 256, in inverse_transform\n",
      "    class_predictions = self._final_encoder.inverse_transform(class_predictions)\n",
      "  File \"C:\\Users\\davul\\anaconda3\\lib\\site-packages\\sklearn\\utils\\metaestimators.py\", line 113, in <lambda>\n",
      "    out = lambda *args, **kwargs: self.fn(obj, *args, **kwargs)  # noqa\n",
      "  File \"C:\\Users\\davul\\anaconda3\\lib\\site-packages\\sklearn\\pipeline.py\", line 675, in inverse_transform\n",
      "    Xt = transform.inverse_transform(Xt)\n",
      "  File \"C:\\Users\\davul\\anaconda3\\lib\\site-packages\\sklearn\\preprocessing\\_encoders.py\", line 990, in inverse_transform\n",
      "    X_tr[:, i] = self.categories_[i][labels]\n",
      "IndexError: index 4 is out of bounds for axis 0 with size 2\n",
      "\n",
      "  warnings.warn(\n"
     ]
    },
    {
     "name": "stdout",
     "output_type": "stream",
     "text": [
      "7/7 [==============================] - 0s 1ms/step\n"
     ]
    },
    {
     "name": "stderr",
     "output_type": "stream",
     "text": [
      "C:\\Users\\davul\\anaconda3\\lib\\site-packages\\sklearn\\model_selection\\_validation.py:770: UserWarning: Scoring failed. The score on this train-test partition for these parameters will be set to nan. Details: \n",
      "Traceback (most recent call last):\n",
      "  File \"C:\\Users\\davul\\anaconda3\\lib\\site-packages\\sklearn\\model_selection\\_validation.py\", line 761, in _score\n",
      "    scores = scorer(estimator, X_test, y_test)\n",
      "  File \"C:\\Users\\davul\\anaconda3\\lib\\site-packages\\sklearn\\metrics\\_scorer.py\", line 216, in __call__\n",
      "    return self._score(\n",
      "  File \"C:\\Users\\davul\\anaconda3\\lib\\site-packages\\sklearn\\metrics\\_scorer.py\", line 258, in _score\n",
      "    y_pred = method_caller(estimator, \"predict\", X)\n",
      "  File \"C:\\Users\\davul\\anaconda3\\lib\\site-packages\\sklearn\\metrics\\_scorer.py\", line 68, in _cached_call\n",
      "    return getattr(estimator, method)(*args, **kwargs)\n",
      "  File \"C:\\Users\\davul\\anaconda3\\lib\\site-packages\\scikeras\\wrappers.py\", line 1054, in predict\n",
      "    y_pred = self.target_encoder_.inverse_transform(y_pred)\n",
      "  File \"C:\\Users\\davul\\anaconda3\\lib\\site-packages\\scikeras\\utils\\transformers.py\", line 256, in inverse_transform\n",
      "    class_predictions = self._final_encoder.inverse_transform(class_predictions)\n",
      "  File \"C:\\Users\\davul\\anaconda3\\lib\\site-packages\\sklearn\\utils\\metaestimators.py\", line 113, in <lambda>\n",
      "    out = lambda *args, **kwargs: self.fn(obj, *args, **kwargs)  # noqa\n",
      "  File \"C:\\Users\\davul\\anaconda3\\lib\\site-packages\\sklearn\\pipeline.py\", line 675, in inverse_transform\n",
      "    Xt = transform.inverse_transform(Xt)\n",
      "  File \"C:\\Users\\davul\\anaconda3\\lib\\site-packages\\sklearn\\preprocessing\\_encoders.py\", line 990, in inverse_transform\n",
      "    X_tr[:, i] = self.categories_[i][labels]\n",
      "IndexError: index 2 is out of bounds for axis 0 with size 2\n",
      "\n",
      "  warnings.warn(\n"
     ]
    },
    {
     "name": "stdout",
     "output_type": "stream",
     "text": [
      "7/7 [==============================] - 0s 975us/step\n"
     ]
    },
    {
     "name": "stderr",
     "output_type": "stream",
     "text": [
      "C:\\Users\\davul\\anaconda3\\lib\\site-packages\\sklearn\\model_selection\\_validation.py:770: UserWarning: Scoring failed. The score on this train-test partition for these parameters will be set to nan. Details: \n",
      "Traceback (most recent call last):\n",
      "  File \"C:\\Users\\davul\\anaconda3\\lib\\site-packages\\sklearn\\model_selection\\_validation.py\", line 761, in _score\n",
      "    scores = scorer(estimator, X_test, y_test)\n",
      "  File \"C:\\Users\\davul\\anaconda3\\lib\\site-packages\\sklearn\\metrics\\_scorer.py\", line 216, in __call__\n",
      "    return self._score(\n",
      "  File \"C:\\Users\\davul\\anaconda3\\lib\\site-packages\\sklearn\\metrics\\_scorer.py\", line 258, in _score\n",
      "    y_pred = method_caller(estimator, \"predict\", X)\n",
      "  File \"C:\\Users\\davul\\anaconda3\\lib\\site-packages\\sklearn\\metrics\\_scorer.py\", line 68, in _cached_call\n",
      "    return getattr(estimator, method)(*args, **kwargs)\n",
      "  File \"C:\\Users\\davul\\anaconda3\\lib\\site-packages\\scikeras\\wrappers.py\", line 1054, in predict\n",
      "    y_pred = self.target_encoder_.inverse_transform(y_pred)\n",
      "  File \"C:\\Users\\davul\\anaconda3\\lib\\site-packages\\scikeras\\utils\\transformers.py\", line 256, in inverse_transform\n",
      "    class_predictions = self._final_encoder.inverse_transform(class_predictions)\n",
      "  File \"C:\\Users\\davul\\anaconda3\\lib\\site-packages\\sklearn\\utils\\metaestimators.py\", line 113, in <lambda>\n",
      "    out = lambda *args, **kwargs: self.fn(obj, *args, **kwargs)  # noqa\n",
      "  File \"C:\\Users\\davul\\anaconda3\\lib\\site-packages\\sklearn\\pipeline.py\", line 675, in inverse_transform\n",
      "    Xt = transform.inverse_transform(Xt)\n",
      "  File \"C:\\Users\\davul\\anaconda3\\lib\\site-packages\\sklearn\\preprocessing\\_encoders.py\", line 990, in inverse_transform\n",
      "    X_tr[:, i] = self.categories_[i][labels]\n",
      "IndexError: index 7 is out of bounds for axis 0 with size 2\n",
      "\n",
      "  warnings.warn(\n"
     ]
    },
    {
     "name": "stdout",
     "output_type": "stream",
     "text": [
      "7/7 [==============================] - 0s 836us/step\n"
     ]
    },
    {
     "name": "stderr",
     "output_type": "stream",
     "text": [
      "C:\\Users\\davul\\anaconda3\\lib\\site-packages\\sklearn\\model_selection\\_validation.py:770: UserWarning: Scoring failed. The score on this train-test partition for these parameters will be set to nan. Details: \n",
      "Traceback (most recent call last):\n",
      "  File \"C:\\Users\\davul\\anaconda3\\lib\\site-packages\\sklearn\\model_selection\\_validation.py\", line 761, in _score\n",
      "    scores = scorer(estimator, X_test, y_test)\n",
      "  File \"C:\\Users\\davul\\anaconda3\\lib\\site-packages\\sklearn\\metrics\\_scorer.py\", line 216, in __call__\n",
      "    return self._score(\n",
      "  File \"C:\\Users\\davul\\anaconda3\\lib\\site-packages\\sklearn\\metrics\\_scorer.py\", line 258, in _score\n",
      "    y_pred = method_caller(estimator, \"predict\", X)\n",
      "  File \"C:\\Users\\davul\\anaconda3\\lib\\site-packages\\sklearn\\metrics\\_scorer.py\", line 68, in _cached_call\n",
      "    return getattr(estimator, method)(*args, **kwargs)\n",
      "  File \"C:\\Users\\davul\\anaconda3\\lib\\site-packages\\scikeras\\wrappers.py\", line 1054, in predict\n",
      "    y_pred = self.target_encoder_.inverse_transform(y_pred)\n",
      "  File \"C:\\Users\\davul\\anaconda3\\lib\\site-packages\\scikeras\\utils\\transformers.py\", line 256, in inverse_transform\n",
      "    class_predictions = self._final_encoder.inverse_transform(class_predictions)\n",
      "  File \"C:\\Users\\davul\\anaconda3\\lib\\site-packages\\sklearn\\utils\\metaestimators.py\", line 113, in <lambda>\n",
      "    out = lambda *args, **kwargs: self.fn(obj, *args, **kwargs)  # noqa\n",
      "  File \"C:\\Users\\davul\\anaconda3\\lib\\site-packages\\sklearn\\pipeline.py\", line 675, in inverse_transform\n",
      "    Xt = transform.inverse_transform(Xt)\n",
      "  File \"C:\\Users\\davul\\anaconda3\\lib\\site-packages\\sklearn\\preprocessing\\_encoders.py\", line 990, in inverse_transform\n",
      "    X_tr[:, i] = self.categories_[i][labels]\n",
      "IndexError: index 2 is out of bounds for axis 0 with size 2\n",
      "\n",
      "  warnings.warn(\n"
     ]
    },
    {
     "name": "stdout",
     "output_type": "stream",
     "text": [
      "7/7 [==============================] - 0s 1ms/step\n",
      "7/7 [==============================] - 0s 1ms/step\n"
     ]
    },
    {
     "name": "stderr",
     "output_type": "stream",
     "text": [
      "C:\\Users\\davul\\anaconda3\\lib\\site-packages\\sklearn\\model_selection\\_validation.py:770: UserWarning: Scoring failed. The score on this train-test partition for these parameters will be set to nan. Details: \n",
      "Traceback (most recent call last):\n",
      "  File \"C:\\Users\\davul\\anaconda3\\lib\\site-packages\\sklearn\\model_selection\\_validation.py\", line 761, in _score\n",
      "    scores = scorer(estimator, X_test, y_test)\n",
      "  File \"C:\\Users\\davul\\anaconda3\\lib\\site-packages\\sklearn\\metrics\\_scorer.py\", line 216, in __call__\n",
      "    return self._score(\n",
      "  File \"C:\\Users\\davul\\anaconda3\\lib\\site-packages\\sklearn\\metrics\\_scorer.py\", line 258, in _score\n",
      "    y_pred = method_caller(estimator, \"predict\", X)\n",
      "  File \"C:\\Users\\davul\\anaconda3\\lib\\site-packages\\sklearn\\metrics\\_scorer.py\", line 68, in _cached_call\n",
      "    return getattr(estimator, method)(*args, **kwargs)\n",
      "  File \"C:\\Users\\davul\\anaconda3\\lib\\site-packages\\scikeras\\wrappers.py\", line 1054, in predict\n",
      "    y_pred = self.target_encoder_.inverse_transform(y_pred)\n",
      "  File \"C:\\Users\\davul\\anaconda3\\lib\\site-packages\\scikeras\\utils\\transformers.py\", line 256, in inverse_transform\n",
      "    class_predictions = self._final_encoder.inverse_transform(class_predictions)\n",
      "  File \"C:\\Users\\davul\\anaconda3\\lib\\site-packages\\sklearn\\utils\\metaestimators.py\", line 113, in <lambda>\n",
      "    out = lambda *args, **kwargs: self.fn(obj, *args, **kwargs)  # noqa\n",
      "  File \"C:\\Users\\davul\\anaconda3\\lib\\site-packages\\sklearn\\pipeline.py\", line 675, in inverse_transform\n",
      "    Xt = transform.inverse_transform(Xt)\n",
      "  File \"C:\\Users\\davul\\anaconda3\\lib\\site-packages\\sklearn\\preprocessing\\_encoders.py\", line 990, in inverse_transform\n",
      "    X_tr[:, i] = self.categories_[i][labels]\n",
      "IndexError: index 3 is out of bounds for axis 0 with size 2\n",
      "\n",
      "  warnings.warn(\n"
     ]
    },
    {
     "name": "stdout",
     "output_type": "stream",
     "text": [
      "7/7 [==============================] - 0s 1ms/step\n"
     ]
    },
    {
     "name": "stderr",
     "output_type": "stream",
     "text": [
      "C:\\Users\\davul\\anaconda3\\lib\\site-packages\\sklearn\\model_selection\\_validation.py:770: UserWarning: Scoring failed. The score on this train-test partition for these parameters will be set to nan. Details: \n",
      "Traceback (most recent call last):\n",
      "  File \"C:\\Users\\davul\\anaconda3\\lib\\site-packages\\sklearn\\model_selection\\_validation.py\", line 761, in _score\n",
      "    scores = scorer(estimator, X_test, y_test)\n",
      "  File \"C:\\Users\\davul\\anaconda3\\lib\\site-packages\\sklearn\\metrics\\_scorer.py\", line 216, in __call__\n",
      "    return self._score(\n",
      "  File \"C:\\Users\\davul\\anaconda3\\lib\\site-packages\\sklearn\\metrics\\_scorer.py\", line 258, in _score\n",
      "    y_pred = method_caller(estimator, \"predict\", X)\n",
      "  File \"C:\\Users\\davul\\anaconda3\\lib\\site-packages\\sklearn\\metrics\\_scorer.py\", line 68, in _cached_call\n",
      "    return getattr(estimator, method)(*args, **kwargs)\n",
      "  File \"C:\\Users\\davul\\anaconda3\\lib\\site-packages\\scikeras\\wrappers.py\", line 1054, in predict\n",
      "    y_pred = self.target_encoder_.inverse_transform(y_pred)\n",
      "  File \"C:\\Users\\davul\\anaconda3\\lib\\site-packages\\scikeras\\utils\\transformers.py\", line 256, in inverse_transform\n",
      "    class_predictions = self._final_encoder.inverse_transform(class_predictions)\n",
      "  File \"C:\\Users\\davul\\anaconda3\\lib\\site-packages\\sklearn\\utils\\metaestimators.py\", line 113, in <lambda>\n",
      "    out = lambda *args, **kwargs: self.fn(obj, *args, **kwargs)  # noqa\n",
      "  File \"C:\\Users\\davul\\anaconda3\\lib\\site-packages\\sklearn\\pipeline.py\", line 675, in inverse_transform\n",
      "    Xt = transform.inverse_transform(Xt)\n",
      "  File \"C:\\Users\\davul\\anaconda3\\lib\\site-packages\\sklearn\\preprocessing\\_encoders.py\", line 990, in inverse_transform\n",
      "    X_tr[:, i] = self.categories_[i][labels]\n",
      "IndexError: index 7 is out of bounds for axis 0 with size 2\n",
      "\n",
      "  warnings.warn(\n"
     ]
    },
    {
     "name": "stdout",
     "output_type": "stream",
     "text": [
      "7/7 [==============================] - 0s 1ms/step\n",
      "7/7 [==============================] - 0s 2ms/step\n",
      "2/2 [==============================] - 0s 2ms/step\n"
     ]
    },
    {
     "name": "stderr",
     "output_type": "stream",
     "text": [
      "C:\\Users\\davul\\anaconda3\\lib\\site-packages\\sklearn\\model_selection\\_validation.py:770: UserWarning: Scoring failed. The score on this train-test partition for these parameters will be set to nan. Details: \n",
      "Traceback (most recent call last):\n",
      "  File \"C:\\Users\\davul\\anaconda3\\lib\\site-packages\\sklearn\\model_selection\\_validation.py\", line 761, in _score\n",
      "    scores = scorer(estimator, X_test, y_test)\n",
      "  File \"C:\\Users\\davul\\anaconda3\\lib\\site-packages\\sklearn\\metrics\\_scorer.py\", line 216, in __call__\n",
      "    return self._score(\n",
      "  File \"C:\\Users\\davul\\anaconda3\\lib\\site-packages\\sklearn\\metrics\\_scorer.py\", line 258, in _score\n",
      "    y_pred = method_caller(estimator, \"predict\", X)\n",
      "  File \"C:\\Users\\davul\\anaconda3\\lib\\site-packages\\sklearn\\metrics\\_scorer.py\", line 68, in _cached_call\n",
      "    return getattr(estimator, method)(*args, **kwargs)\n",
      "  File \"C:\\Users\\davul\\anaconda3\\lib\\site-packages\\scikeras\\wrappers.py\", line 1054, in predict\n",
      "    y_pred = self.target_encoder_.inverse_transform(y_pred)\n",
      "  File \"C:\\Users\\davul\\anaconda3\\lib\\site-packages\\scikeras\\utils\\transformers.py\", line 256, in inverse_transform\n",
      "    class_predictions = self._final_encoder.inverse_transform(class_predictions)\n",
      "  File \"C:\\Users\\davul\\anaconda3\\lib\\site-packages\\sklearn\\utils\\metaestimators.py\", line 113, in <lambda>\n",
      "    out = lambda *args, **kwargs: self.fn(obj, *args, **kwargs)  # noqa\n",
      "  File \"C:\\Users\\davul\\anaconda3\\lib\\site-packages\\sklearn\\pipeline.py\", line 675, in inverse_transform\n",
      "    Xt = transform.inverse_transform(Xt)\n",
      "  File \"C:\\Users\\davul\\anaconda3\\lib\\site-packages\\sklearn\\preprocessing\\_encoders.py\", line 990, in inverse_transform\n",
      "    X_tr[:, i] = self.categories_[i][labels]\n",
      "IndexError: index 6 is out of bounds for axis 0 with size 2\n",
      "\n",
      "  warnings.warn(\n"
     ]
    },
    {
     "name": "stdout",
     "output_type": "stream",
     "text": [
      "2/2 [==============================] - 0s 2ms/step\n"
     ]
    },
    {
     "name": "stderr",
     "output_type": "stream",
     "text": [
      "C:\\Users\\davul\\anaconda3\\lib\\site-packages\\sklearn\\model_selection\\_validation.py:770: UserWarning: Scoring failed. The score on this train-test partition for these parameters will be set to nan. Details: \n",
      "Traceback (most recent call last):\n",
      "  File \"C:\\Users\\davul\\anaconda3\\lib\\site-packages\\sklearn\\model_selection\\_validation.py\", line 761, in _score\n",
      "    scores = scorer(estimator, X_test, y_test)\n",
      "  File \"C:\\Users\\davul\\anaconda3\\lib\\site-packages\\sklearn\\metrics\\_scorer.py\", line 216, in __call__\n",
      "    return self._score(\n",
      "  File \"C:\\Users\\davul\\anaconda3\\lib\\site-packages\\sklearn\\metrics\\_scorer.py\", line 258, in _score\n",
      "    y_pred = method_caller(estimator, \"predict\", X)\n",
      "  File \"C:\\Users\\davul\\anaconda3\\lib\\site-packages\\sklearn\\metrics\\_scorer.py\", line 68, in _cached_call\n",
      "    return getattr(estimator, method)(*args, **kwargs)\n",
      "  File \"C:\\Users\\davul\\anaconda3\\lib\\site-packages\\scikeras\\wrappers.py\", line 1054, in predict\n",
      "    y_pred = self.target_encoder_.inverse_transform(y_pred)\n",
      "  File \"C:\\Users\\davul\\anaconda3\\lib\\site-packages\\scikeras\\utils\\transformers.py\", line 256, in inverse_transform\n",
      "    class_predictions = self._final_encoder.inverse_transform(class_predictions)\n",
      "  File \"C:\\Users\\davul\\anaconda3\\lib\\site-packages\\sklearn\\utils\\metaestimators.py\", line 113, in <lambda>\n",
      "    out = lambda *args, **kwargs: self.fn(obj, *args, **kwargs)  # noqa\n",
      "  File \"C:\\Users\\davul\\anaconda3\\lib\\site-packages\\sklearn\\pipeline.py\", line 675, in inverse_transform\n",
      "    Xt = transform.inverse_transform(Xt)\n",
      "  File \"C:\\Users\\davul\\anaconda3\\lib\\site-packages\\sklearn\\preprocessing\\_encoders.py\", line 990, in inverse_transform\n",
      "    X_tr[:, i] = self.categories_[i][labels]\n",
      "IndexError: index 6 is out of bounds for axis 0 with size 2\n",
      "\n",
      "  warnings.warn(\n"
     ]
    },
    {
     "name": "stdout",
     "output_type": "stream",
     "text": [
      "2/2 [==============================] - 0s 2ms/step\n"
     ]
    },
    {
     "name": "stderr",
     "output_type": "stream",
     "text": [
      "C:\\Users\\davul\\anaconda3\\lib\\site-packages\\sklearn\\model_selection\\_validation.py:770: UserWarning: Scoring failed. The score on this train-test partition for these parameters will be set to nan. Details: \n",
      "Traceback (most recent call last):\n",
      "  File \"C:\\Users\\davul\\anaconda3\\lib\\site-packages\\sklearn\\model_selection\\_validation.py\", line 761, in _score\n",
      "    scores = scorer(estimator, X_test, y_test)\n",
      "  File \"C:\\Users\\davul\\anaconda3\\lib\\site-packages\\sklearn\\metrics\\_scorer.py\", line 216, in __call__\n",
      "    return self._score(\n",
      "  File \"C:\\Users\\davul\\anaconda3\\lib\\site-packages\\sklearn\\metrics\\_scorer.py\", line 258, in _score\n",
      "    y_pred = method_caller(estimator, \"predict\", X)\n",
      "  File \"C:\\Users\\davul\\anaconda3\\lib\\site-packages\\sklearn\\metrics\\_scorer.py\", line 68, in _cached_call\n",
      "    return getattr(estimator, method)(*args, **kwargs)\n",
      "  File \"C:\\Users\\davul\\anaconda3\\lib\\site-packages\\scikeras\\wrappers.py\", line 1054, in predict\n",
      "    y_pred = self.target_encoder_.inverse_transform(y_pred)\n",
      "  File \"C:\\Users\\davul\\anaconda3\\lib\\site-packages\\scikeras\\utils\\transformers.py\", line 256, in inverse_transform\n",
      "    class_predictions = self._final_encoder.inverse_transform(class_predictions)\n",
      "  File \"C:\\Users\\davul\\anaconda3\\lib\\site-packages\\sklearn\\utils\\metaestimators.py\", line 113, in <lambda>\n",
      "    out = lambda *args, **kwargs: self.fn(obj, *args, **kwargs)  # noqa\n",
      "  File \"C:\\Users\\davul\\anaconda3\\lib\\site-packages\\sklearn\\pipeline.py\", line 675, in inverse_transform\n",
      "    Xt = transform.inverse_transform(Xt)\n",
      "  File \"C:\\Users\\davul\\anaconda3\\lib\\site-packages\\sklearn\\preprocessing\\_encoders.py\", line 990, in inverse_transform\n",
      "    X_tr[:, i] = self.categories_[i][labels]\n",
      "IndexError: index 4 is out of bounds for axis 0 with size 2\n",
      "\n",
      "  warnings.warn(\n"
     ]
    },
    {
     "name": "stdout",
     "output_type": "stream",
     "text": [
      "2/2 [==============================] - 0s 2ms/step\n"
     ]
    },
    {
     "name": "stderr",
     "output_type": "stream",
     "text": [
      "C:\\Users\\davul\\anaconda3\\lib\\site-packages\\sklearn\\model_selection\\_validation.py:770: UserWarning: Scoring failed. The score on this train-test partition for these parameters will be set to nan. Details: \n",
      "Traceback (most recent call last):\n",
      "  File \"C:\\Users\\davul\\anaconda3\\lib\\site-packages\\sklearn\\model_selection\\_validation.py\", line 761, in _score\n",
      "    scores = scorer(estimator, X_test, y_test)\n",
      "  File \"C:\\Users\\davul\\anaconda3\\lib\\site-packages\\sklearn\\metrics\\_scorer.py\", line 216, in __call__\n",
      "    return self._score(\n",
      "  File \"C:\\Users\\davul\\anaconda3\\lib\\site-packages\\sklearn\\metrics\\_scorer.py\", line 258, in _score\n",
      "    y_pred = method_caller(estimator, \"predict\", X)\n",
      "  File \"C:\\Users\\davul\\anaconda3\\lib\\site-packages\\sklearn\\metrics\\_scorer.py\", line 68, in _cached_call\n",
      "    return getattr(estimator, method)(*args, **kwargs)\n",
      "  File \"C:\\Users\\davul\\anaconda3\\lib\\site-packages\\scikeras\\wrappers.py\", line 1054, in predict\n",
      "    y_pred = self.target_encoder_.inverse_transform(y_pred)\n",
      "  File \"C:\\Users\\davul\\anaconda3\\lib\\site-packages\\scikeras\\utils\\transformers.py\", line 256, in inverse_transform\n",
      "    class_predictions = self._final_encoder.inverse_transform(class_predictions)\n",
      "  File \"C:\\Users\\davul\\anaconda3\\lib\\site-packages\\sklearn\\utils\\metaestimators.py\", line 113, in <lambda>\n",
      "    out = lambda *args, **kwargs: self.fn(obj, *args, **kwargs)  # noqa\n",
      "  File \"C:\\Users\\davul\\anaconda3\\lib\\site-packages\\sklearn\\pipeline.py\", line 675, in inverse_transform\n",
      "    Xt = transform.inverse_transform(Xt)\n",
      "  File \"C:\\Users\\davul\\anaconda3\\lib\\site-packages\\sklearn\\preprocessing\\_encoders.py\", line 990, in inverse_transform\n",
      "    X_tr[:, i] = self.categories_[i][labels]\n",
      "IndexError: index 7 is out of bounds for axis 0 with size 2\n",
      "\n",
      "  warnings.warn(\n"
     ]
    },
    {
     "name": "stdout",
     "output_type": "stream",
     "text": [
      "2/2 [==============================] - 0s 3ms/step\n"
     ]
    },
    {
     "name": "stderr",
     "output_type": "stream",
     "text": [
      "C:\\Users\\davul\\anaconda3\\lib\\site-packages\\sklearn\\model_selection\\_validation.py:770: UserWarning: Scoring failed. The score on this train-test partition for these parameters will be set to nan. Details: \n",
      "Traceback (most recent call last):\n",
      "  File \"C:\\Users\\davul\\anaconda3\\lib\\site-packages\\sklearn\\model_selection\\_validation.py\", line 761, in _score\n",
      "    scores = scorer(estimator, X_test, y_test)\n",
      "  File \"C:\\Users\\davul\\anaconda3\\lib\\site-packages\\sklearn\\metrics\\_scorer.py\", line 216, in __call__\n",
      "    return self._score(\n",
      "  File \"C:\\Users\\davul\\anaconda3\\lib\\site-packages\\sklearn\\metrics\\_scorer.py\", line 258, in _score\n",
      "    y_pred = method_caller(estimator, \"predict\", X)\n",
      "  File \"C:\\Users\\davul\\anaconda3\\lib\\site-packages\\sklearn\\metrics\\_scorer.py\", line 68, in _cached_call\n",
      "    return getattr(estimator, method)(*args, **kwargs)\n",
      "  File \"C:\\Users\\davul\\anaconda3\\lib\\site-packages\\scikeras\\wrappers.py\", line 1054, in predict\n",
      "    y_pred = self.target_encoder_.inverse_transform(y_pred)\n",
      "  File \"C:\\Users\\davul\\anaconda3\\lib\\site-packages\\scikeras\\utils\\transformers.py\", line 256, in inverse_transform\n",
      "    class_predictions = self._final_encoder.inverse_transform(class_predictions)\n",
      "  File \"C:\\Users\\davul\\anaconda3\\lib\\site-packages\\sklearn\\utils\\metaestimators.py\", line 113, in <lambda>\n",
      "    out = lambda *args, **kwargs: self.fn(obj, *args, **kwargs)  # noqa\n",
      "  File \"C:\\Users\\davul\\anaconda3\\lib\\site-packages\\sklearn\\pipeline.py\", line 675, in inverse_transform\n",
      "    Xt = transform.inverse_transform(Xt)\n",
      "  File \"C:\\Users\\davul\\anaconda3\\lib\\site-packages\\sklearn\\preprocessing\\_encoders.py\", line 990, in inverse_transform\n",
      "    X_tr[:, i] = self.categories_[i][labels]\n",
      "IndexError: index 3 is out of bounds for axis 0 with size 2\n",
      "\n",
      "  warnings.warn(\n"
     ]
    },
    {
     "name": "stdout",
     "output_type": "stream",
     "text": [
      "7/7 [==============================] - 0s 1ms/step\n",
      "7/7 [==============================] - 0s 1ms/step\n"
     ]
    },
    {
     "name": "stderr",
     "output_type": "stream",
     "text": [
      "C:\\Users\\davul\\anaconda3\\lib\\site-packages\\sklearn\\model_selection\\_validation.py:770: UserWarning: Scoring failed. The score on this train-test partition for these parameters will be set to nan. Details: \n",
      "Traceback (most recent call last):\n",
      "  File \"C:\\Users\\davul\\anaconda3\\lib\\site-packages\\sklearn\\model_selection\\_validation.py\", line 761, in _score\n",
      "    scores = scorer(estimator, X_test, y_test)\n",
      "  File \"C:\\Users\\davul\\anaconda3\\lib\\site-packages\\sklearn\\metrics\\_scorer.py\", line 216, in __call__\n",
      "    return self._score(\n",
      "  File \"C:\\Users\\davul\\anaconda3\\lib\\site-packages\\sklearn\\metrics\\_scorer.py\", line 258, in _score\n",
      "    y_pred = method_caller(estimator, \"predict\", X)\n",
      "  File \"C:\\Users\\davul\\anaconda3\\lib\\site-packages\\sklearn\\metrics\\_scorer.py\", line 68, in _cached_call\n",
      "    return getattr(estimator, method)(*args, **kwargs)\n",
      "  File \"C:\\Users\\davul\\anaconda3\\lib\\site-packages\\scikeras\\wrappers.py\", line 1054, in predict\n",
      "    y_pred = self.target_encoder_.inverse_transform(y_pred)\n",
      "  File \"C:\\Users\\davul\\anaconda3\\lib\\site-packages\\scikeras\\utils\\transformers.py\", line 256, in inverse_transform\n",
      "    class_predictions = self._final_encoder.inverse_transform(class_predictions)\n",
      "  File \"C:\\Users\\davul\\anaconda3\\lib\\site-packages\\sklearn\\utils\\metaestimators.py\", line 113, in <lambda>\n",
      "    out = lambda *args, **kwargs: self.fn(obj, *args, **kwargs)  # noqa\n",
      "  File \"C:\\Users\\davul\\anaconda3\\lib\\site-packages\\sklearn\\pipeline.py\", line 675, in inverse_transform\n",
      "    Xt = transform.inverse_transform(Xt)\n",
      "  File \"C:\\Users\\davul\\anaconda3\\lib\\site-packages\\sklearn\\preprocessing\\_encoders.py\", line 990, in inverse_transform\n",
      "    X_tr[:, i] = self.categories_[i][labels]\n",
      "IndexError: index 6 is out of bounds for axis 0 with size 2\n",
      "\n",
      "  warnings.warn(\n"
     ]
    },
    {
     "name": "stdout",
     "output_type": "stream",
     "text": [
      "7/7 [==============================] - 0s 1ms/step\n",
      "7/7 [==============================] - 0s 1ms/step\n",
      "7/7 [==============================] - 0s 1ms/step\n",
      "3/3 [==============================] - 0s 2ms/step\n"
     ]
    },
    {
     "name": "stderr",
     "output_type": "stream",
     "text": [
      "C:\\Users\\davul\\anaconda3\\lib\\site-packages\\sklearn\\model_selection\\_validation.py:770: UserWarning: Scoring failed. The score on this train-test partition for these parameters will be set to nan. Details: \n",
      "Traceback (most recent call last):\n",
      "  File \"C:\\Users\\davul\\anaconda3\\lib\\site-packages\\sklearn\\model_selection\\_validation.py\", line 761, in _score\n",
      "    scores = scorer(estimator, X_test, y_test)\n",
      "  File \"C:\\Users\\davul\\anaconda3\\lib\\site-packages\\sklearn\\metrics\\_scorer.py\", line 216, in __call__\n",
      "    return self._score(\n",
      "  File \"C:\\Users\\davul\\anaconda3\\lib\\site-packages\\sklearn\\metrics\\_scorer.py\", line 258, in _score\n",
      "    y_pred = method_caller(estimator, \"predict\", X)\n",
      "  File \"C:\\Users\\davul\\anaconda3\\lib\\site-packages\\sklearn\\metrics\\_scorer.py\", line 68, in _cached_call\n",
      "    return getattr(estimator, method)(*args, **kwargs)\n",
      "  File \"C:\\Users\\davul\\anaconda3\\lib\\site-packages\\scikeras\\wrappers.py\", line 1054, in predict\n",
      "    y_pred = self.target_encoder_.inverse_transform(y_pred)\n",
      "  File \"C:\\Users\\davul\\anaconda3\\lib\\site-packages\\scikeras\\utils\\transformers.py\", line 256, in inverse_transform\n",
      "    class_predictions = self._final_encoder.inverse_transform(class_predictions)\n",
      "  File \"C:\\Users\\davul\\anaconda3\\lib\\site-packages\\sklearn\\utils\\metaestimators.py\", line 113, in <lambda>\n",
      "    out = lambda *args, **kwargs: self.fn(obj, *args, **kwargs)  # noqa\n",
      "  File \"C:\\Users\\davul\\anaconda3\\lib\\site-packages\\sklearn\\pipeline.py\", line 675, in inverse_transform\n",
      "    Xt = transform.inverse_transform(Xt)\n",
      "  File \"C:\\Users\\davul\\anaconda3\\lib\\site-packages\\sklearn\\preprocessing\\_encoders.py\", line 990, in inverse_transform\n",
      "    X_tr[:, i] = self.categories_[i][labels]\n",
      "IndexError: index 7 is out of bounds for axis 0 with size 2\n",
      "\n",
      "  warnings.warn(\n"
     ]
    },
    {
     "name": "stdout",
     "output_type": "stream",
     "text": [
      "3/3 [==============================] - 0s 1ms/step\n"
     ]
    },
    {
     "name": "stderr",
     "output_type": "stream",
     "text": [
      "C:\\Users\\davul\\anaconda3\\lib\\site-packages\\sklearn\\model_selection\\_validation.py:770: UserWarning: Scoring failed. The score on this train-test partition for these parameters will be set to nan. Details: \n",
      "Traceback (most recent call last):\n",
      "  File \"C:\\Users\\davul\\anaconda3\\lib\\site-packages\\sklearn\\model_selection\\_validation.py\", line 761, in _score\n",
      "    scores = scorer(estimator, X_test, y_test)\n",
      "  File \"C:\\Users\\davul\\anaconda3\\lib\\site-packages\\sklearn\\metrics\\_scorer.py\", line 216, in __call__\n",
      "    return self._score(\n",
      "  File \"C:\\Users\\davul\\anaconda3\\lib\\site-packages\\sklearn\\metrics\\_scorer.py\", line 258, in _score\n",
      "    y_pred = method_caller(estimator, \"predict\", X)\n",
      "  File \"C:\\Users\\davul\\anaconda3\\lib\\site-packages\\sklearn\\metrics\\_scorer.py\", line 68, in _cached_call\n",
      "    return getattr(estimator, method)(*args, **kwargs)\n",
      "  File \"C:\\Users\\davul\\anaconda3\\lib\\site-packages\\scikeras\\wrappers.py\", line 1054, in predict\n",
      "    y_pred = self.target_encoder_.inverse_transform(y_pred)\n",
      "  File \"C:\\Users\\davul\\anaconda3\\lib\\site-packages\\scikeras\\utils\\transformers.py\", line 256, in inverse_transform\n",
      "    class_predictions = self._final_encoder.inverse_transform(class_predictions)\n",
      "  File \"C:\\Users\\davul\\anaconda3\\lib\\site-packages\\sklearn\\utils\\metaestimators.py\", line 113, in <lambda>\n",
      "    out = lambda *args, **kwargs: self.fn(obj, *args, **kwargs)  # noqa\n",
      "  File \"C:\\Users\\davul\\anaconda3\\lib\\site-packages\\sklearn\\pipeline.py\", line 675, in inverse_transform\n",
      "    Xt = transform.inverse_transform(Xt)\n",
      "  File \"C:\\Users\\davul\\anaconda3\\lib\\site-packages\\sklearn\\preprocessing\\_encoders.py\", line 990, in inverse_transform\n",
      "    X_tr[:, i] = self.categories_[i][labels]\n",
      "IndexError: index 2 is out of bounds for axis 0 with size 2\n",
      "\n",
      "  warnings.warn(\n"
     ]
    },
    {
     "name": "stdout",
     "output_type": "stream",
     "text": [
      "3/3 [==============================] - 0s 2ms/step\n"
     ]
    },
    {
     "name": "stderr",
     "output_type": "stream",
     "text": [
      "C:\\Users\\davul\\anaconda3\\lib\\site-packages\\sklearn\\model_selection\\_validation.py:770: UserWarning: Scoring failed. The score on this train-test partition for these parameters will be set to nan. Details: \n",
      "Traceback (most recent call last):\n",
      "  File \"C:\\Users\\davul\\anaconda3\\lib\\site-packages\\sklearn\\model_selection\\_validation.py\", line 761, in _score\n",
      "    scores = scorer(estimator, X_test, y_test)\n",
      "  File \"C:\\Users\\davul\\anaconda3\\lib\\site-packages\\sklearn\\metrics\\_scorer.py\", line 216, in __call__\n",
      "    return self._score(\n",
      "  File \"C:\\Users\\davul\\anaconda3\\lib\\site-packages\\sklearn\\metrics\\_scorer.py\", line 258, in _score\n",
      "    y_pred = method_caller(estimator, \"predict\", X)\n",
      "  File \"C:\\Users\\davul\\anaconda3\\lib\\site-packages\\sklearn\\metrics\\_scorer.py\", line 68, in _cached_call\n",
      "    return getattr(estimator, method)(*args, **kwargs)\n",
      "  File \"C:\\Users\\davul\\anaconda3\\lib\\site-packages\\scikeras\\wrappers.py\", line 1054, in predict\n",
      "    y_pred = self.target_encoder_.inverse_transform(y_pred)\n",
      "  File \"C:\\Users\\davul\\anaconda3\\lib\\site-packages\\scikeras\\utils\\transformers.py\", line 256, in inverse_transform\n",
      "    class_predictions = self._final_encoder.inverse_transform(class_predictions)\n",
      "  File \"C:\\Users\\davul\\anaconda3\\lib\\site-packages\\sklearn\\utils\\metaestimators.py\", line 113, in <lambda>\n",
      "    out = lambda *args, **kwargs: self.fn(obj, *args, **kwargs)  # noqa\n",
      "  File \"C:\\Users\\davul\\anaconda3\\lib\\site-packages\\sklearn\\pipeline.py\", line 675, in inverse_transform\n",
      "    Xt = transform.inverse_transform(Xt)\n",
      "  File \"C:\\Users\\davul\\anaconda3\\lib\\site-packages\\sklearn\\preprocessing\\_encoders.py\", line 990, in inverse_transform\n",
      "    X_tr[:, i] = self.categories_[i][labels]\n",
      "IndexError: index 8 is out of bounds for axis 0 with size 2\n",
      "\n",
      "  warnings.warn(\n"
     ]
    },
    {
     "name": "stdout",
     "output_type": "stream",
     "text": [
      "3/3 [==============================] - 0s 996us/step\n"
     ]
    },
    {
     "name": "stderr",
     "output_type": "stream",
     "text": [
      "C:\\Users\\davul\\anaconda3\\lib\\site-packages\\sklearn\\model_selection\\_validation.py:770: UserWarning: Scoring failed. The score on this train-test partition for these parameters will be set to nan. Details: \n",
      "Traceback (most recent call last):\n",
      "  File \"C:\\Users\\davul\\anaconda3\\lib\\site-packages\\sklearn\\model_selection\\_validation.py\", line 761, in _score\n",
      "    scores = scorer(estimator, X_test, y_test)\n",
      "  File \"C:\\Users\\davul\\anaconda3\\lib\\site-packages\\sklearn\\metrics\\_scorer.py\", line 216, in __call__\n",
      "    return self._score(\n",
      "  File \"C:\\Users\\davul\\anaconda3\\lib\\site-packages\\sklearn\\metrics\\_scorer.py\", line 258, in _score\n",
      "    y_pred = method_caller(estimator, \"predict\", X)\n",
      "  File \"C:\\Users\\davul\\anaconda3\\lib\\site-packages\\sklearn\\metrics\\_scorer.py\", line 68, in _cached_call\n",
      "    return getattr(estimator, method)(*args, **kwargs)\n",
      "  File \"C:\\Users\\davul\\anaconda3\\lib\\site-packages\\scikeras\\wrappers.py\", line 1054, in predict\n",
      "    y_pred = self.target_encoder_.inverse_transform(y_pred)\n",
      "  File \"C:\\Users\\davul\\anaconda3\\lib\\site-packages\\scikeras\\utils\\transformers.py\", line 256, in inverse_transform\n",
      "    class_predictions = self._final_encoder.inverse_transform(class_predictions)\n",
      "  File \"C:\\Users\\davul\\anaconda3\\lib\\site-packages\\sklearn\\utils\\metaestimators.py\", line 113, in <lambda>\n",
      "    out = lambda *args, **kwargs: self.fn(obj, *args, **kwargs)  # noqa\n",
      "  File \"C:\\Users\\davul\\anaconda3\\lib\\site-packages\\sklearn\\pipeline.py\", line 675, in inverse_transform\n",
      "    Xt = transform.inverse_transform(Xt)\n",
      "  File \"C:\\Users\\davul\\anaconda3\\lib\\site-packages\\sklearn\\preprocessing\\_encoders.py\", line 990, in inverse_transform\n",
      "    X_tr[:, i] = self.categories_[i][labels]\n",
      "IndexError: index 8 is out of bounds for axis 0 with size 2\n",
      "\n",
      "  warnings.warn(\n"
     ]
    },
    {
     "name": "stdout",
     "output_type": "stream",
     "text": [
      "3/3 [==============================] - 0s 2ms/step\n"
     ]
    },
    {
     "name": "stderr",
     "output_type": "stream",
     "text": [
      "C:\\Users\\davul\\anaconda3\\lib\\site-packages\\sklearn\\model_selection\\_validation.py:770: UserWarning: Scoring failed. The score on this train-test partition for these parameters will be set to nan. Details: \n",
      "Traceback (most recent call last):\n",
      "  File \"C:\\Users\\davul\\anaconda3\\lib\\site-packages\\sklearn\\model_selection\\_validation.py\", line 761, in _score\n",
      "    scores = scorer(estimator, X_test, y_test)\n",
      "  File \"C:\\Users\\davul\\anaconda3\\lib\\site-packages\\sklearn\\metrics\\_scorer.py\", line 216, in __call__\n",
      "    return self._score(\n",
      "  File \"C:\\Users\\davul\\anaconda3\\lib\\site-packages\\sklearn\\metrics\\_scorer.py\", line 258, in _score\n",
      "    y_pred = method_caller(estimator, \"predict\", X)\n",
      "  File \"C:\\Users\\davul\\anaconda3\\lib\\site-packages\\sklearn\\metrics\\_scorer.py\", line 68, in _cached_call\n",
      "    return getattr(estimator, method)(*args, **kwargs)\n",
      "  File \"C:\\Users\\davul\\anaconda3\\lib\\site-packages\\scikeras\\wrappers.py\", line 1054, in predict\n",
      "    y_pred = self.target_encoder_.inverse_transform(y_pred)\n",
      "  File \"C:\\Users\\davul\\anaconda3\\lib\\site-packages\\scikeras\\utils\\transformers.py\", line 256, in inverse_transform\n",
      "    class_predictions = self._final_encoder.inverse_transform(class_predictions)\n",
      "  File \"C:\\Users\\davul\\anaconda3\\lib\\site-packages\\sklearn\\utils\\metaestimators.py\", line 113, in <lambda>\n",
      "    out = lambda *args, **kwargs: self.fn(obj, *args, **kwargs)  # noqa\n",
      "  File \"C:\\Users\\davul\\anaconda3\\lib\\site-packages\\sklearn\\pipeline.py\", line 675, in inverse_transform\n",
      "    Xt = transform.inverse_transform(Xt)\n",
      "  File \"C:\\Users\\davul\\anaconda3\\lib\\site-packages\\sklearn\\preprocessing\\_encoders.py\", line 990, in inverse_transform\n",
      "    X_tr[:, i] = self.categories_[i][labels]\n",
      "IndexError: index 6 is out of bounds for axis 0 with size 2\n",
      "\n",
      "  warnings.warn(\n"
     ]
    },
    {
     "name": "stdout",
     "output_type": "stream",
     "text": [
      "2/2 [==============================] - 0s 2ms/step\n"
     ]
    },
    {
     "name": "stderr",
     "output_type": "stream",
     "text": [
      "C:\\Users\\davul\\anaconda3\\lib\\site-packages\\sklearn\\model_selection\\_validation.py:770: UserWarning: Scoring failed. The score on this train-test partition for these parameters will be set to nan. Details: \n",
      "Traceback (most recent call last):\n",
      "  File \"C:\\Users\\davul\\anaconda3\\lib\\site-packages\\sklearn\\model_selection\\_validation.py\", line 761, in _score\n",
      "    scores = scorer(estimator, X_test, y_test)\n",
      "  File \"C:\\Users\\davul\\anaconda3\\lib\\site-packages\\sklearn\\metrics\\_scorer.py\", line 216, in __call__\n",
      "    return self._score(\n",
      "  File \"C:\\Users\\davul\\anaconda3\\lib\\site-packages\\sklearn\\metrics\\_scorer.py\", line 258, in _score\n",
      "    y_pred = method_caller(estimator, \"predict\", X)\n",
      "  File \"C:\\Users\\davul\\anaconda3\\lib\\site-packages\\sklearn\\metrics\\_scorer.py\", line 68, in _cached_call\n",
      "    return getattr(estimator, method)(*args, **kwargs)\n",
      "  File \"C:\\Users\\davul\\anaconda3\\lib\\site-packages\\scikeras\\wrappers.py\", line 1054, in predict\n",
      "    y_pred = self.target_encoder_.inverse_transform(y_pred)\n",
      "  File \"C:\\Users\\davul\\anaconda3\\lib\\site-packages\\scikeras\\utils\\transformers.py\", line 256, in inverse_transform\n",
      "    class_predictions = self._final_encoder.inverse_transform(class_predictions)\n",
      "  File \"C:\\Users\\davul\\anaconda3\\lib\\site-packages\\sklearn\\utils\\metaestimators.py\", line 113, in <lambda>\n",
      "    out = lambda *args, **kwargs: self.fn(obj, *args, **kwargs)  # noqa\n",
      "  File \"C:\\Users\\davul\\anaconda3\\lib\\site-packages\\sklearn\\pipeline.py\", line 675, in inverse_transform\n",
      "    Xt = transform.inverse_transform(Xt)\n",
      "  File \"C:\\Users\\davul\\anaconda3\\lib\\site-packages\\sklearn\\preprocessing\\_encoders.py\", line 990, in inverse_transform\n",
      "    X_tr[:, i] = self.categories_[i][labels]\n",
      "IndexError: index 8 is out of bounds for axis 0 with size 2\n",
      "\n",
      "  warnings.warn(\n"
     ]
    },
    {
     "name": "stdout",
     "output_type": "stream",
     "text": [
      "2/2 [==============================] - 0s 2ms/step\n"
     ]
    },
    {
     "name": "stderr",
     "output_type": "stream",
     "text": [
      "C:\\Users\\davul\\anaconda3\\lib\\site-packages\\sklearn\\model_selection\\_validation.py:770: UserWarning: Scoring failed. The score on this train-test partition for these parameters will be set to nan. Details: \n",
      "Traceback (most recent call last):\n",
      "  File \"C:\\Users\\davul\\anaconda3\\lib\\site-packages\\sklearn\\model_selection\\_validation.py\", line 761, in _score\n",
      "    scores = scorer(estimator, X_test, y_test)\n",
      "  File \"C:\\Users\\davul\\anaconda3\\lib\\site-packages\\sklearn\\metrics\\_scorer.py\", line 216, in __call__\n",
      "    return self._score(\n",
      "  File \"C:\\Users\\davul\\anaconda3\\lib\\site-packages\\sklearn\\metrics\\_scorer.py\", line 258, in _score\n",
      "    y_pred = method_caller(estimator, \"predict\", X)\n",
      "  File \"C:\\Users\\davul\\anaconda3\\lib\\site-packages\\sklearn\\metrics\\_scorer.py\", line 68, in _cached_call\n",
      "    return getattr(estimator, method)(*args, **kwargs)\n",
      "  File \"C:\\Users\\davul\\anaconda3\\lib\\site-packages\\scikeras\\wrappers.py\", line 1054, in predict\n",
      "    y_pred = self.target_encoder_.inverse_transform(y_pred)\n",
      "  File \"C:\\Users\\davul\\anaconda3\\lib\\site-packages\\scikeras\\utils\\transformers.py\", line 256, in inverse_transform\n",
      "    class_predictions = self._final_encoder.inverse_transform(class_predictions)\n",
      "  File \"C:\\Users\\davul\\anaconda3\\lib\\site-packages\\sklearn\\utils\\metaestimators.py\", line 113, in <lambda>\n",
      "    out = lambda *args, **kwargs: self.fn(obj, *args, **kwargs)  # noqa\n",
      "  File \"C:\\Users\\davul\\anaconda3\\lib\\site-packages\\sklearn\\pipeline.py\", line 675, in inverse_transform\n",
      "    Xt = transform.inverse_transform(Xt)\n",
      "  File \"C:\\Users\\davul\\anaconda3\\lib\\site-packages\\sklearn\\preprocessing\\_encoders.py\", line 990, in inverse_transform\n",
      "    X_tr[:, i] = self.categories_[i][labels]\n",
      "IndexError: index 6 is out of bounds for axis 0 with size 2\n",
      "\n",
      "  warnings.warn(\n"
     ]
    },
    {
     "name": "stdout",
     "output_type": "stream",
     "text": [
      "2/2 [==============================] - 0s 2ms/step\n"
     ]
    },
    {
     "name": "stderr",
     "output_type": "stream",
     "text": [
      "C:\\Users\\davul\\anaconda3\\lib\\site-packages\\sklearn\\model_selection\\_validation.py:770: UserWarning: Scoring failed. The score on this train-test partition for these parameters will be set to nan. Details: \n",
      "Traceback (most recent call last):\n",
      "  File \"C:\\Users\\davul\\anaconda3\\lib\\site-packages\\sklearn\\model_selection\\_validation.py\", line 761, in _score\n",
      "    scores = scorer(estimator, X_test, y_test)\n",
      "  File \"C:\\Users\\davul\\anaconda3\\lib\\site-packages\\sklearn\\metrics\\_scorer.py\", line 216, in __call__\n",
      "    return self._score(\n",
      "  File \"C:\\Users\\davul\\anaconda3\\lib\\site-packages\\sklearn\\metrics\\_scorer.py\", line 258, in _score\n",
      "    y_pred = method_caller(estimator, \"predict\", X)\n",
      "  File \"C:\\Users\\davul\\anaconda3\\lib\\site-packages\\sklearn\\metrics\\_scorer.py\", line 68, in _cached_call\n",
      "    return getattr(estimator, method)(*args, **kwargs)\n",
      "  File \"C:\\Users\\davul\\anaconda3\\lib\\site-packages\\scikeras\\wrappers.py\", line 1054, in predict\n",
      "    y_pred = self.target_encoder_.inverse_transform(y_pred)\n",
      "  File \"C:\\Users\\davul\\anaconda3\\lib\\site-packages\\scikeras\\utils\\transformers.py\", line 256, in inverse_transform\n",
      "    class_predictions = self._final_encoder.inverse_transform(class_predictions)\n",
      "  File \"C:\\Users\\davul\\anaconda3\\lib\\site-packages\\sklearn\\utils\\metaestimators.py\", line 113, in <lambda>\n",
      "    out = lambda *args, **kwargs: self.fn(obj, *args, **kwargs)  # noqa\n",
      "  File \"C:\\Users\\davul\\anaconda3\\lib\\site-packages\\sklearn\\pipeline.py\", line 675, in inverse_transform\n",
      "    Xt = transform.inverse_transform(Xt)\n",
      "  File \"C:\\Users\\davul\\anaconda3\\lib\\site-packages\\sklearn\\preprocessing\\_encoders.py\", line 990, in inverse_transform\n",
      "    X_tr[:, i] = self.categories_[i][labels]\n",
      "IndexError: index 5 is out of bounds for axis 0 with size 2\n",
      "\n",
      "  warnings.warn(\n"
     ]
    },
    {
     "name": "stdout",
     "output_type": "stream",
     "text": [
      "2/2 [==============================] - 0s 1ms/step\n"
     ]
    },
    {
     "name": "stderr",
     "output_type": "stream",
     "text": [
      "C:\\Users\\davul\\anaconda3\\lib\\site-packages\\sklearn\\model_selection\\_validation.py:770: UserWarning: Scoring failed. The score on this train-test partition for these parameters will be set to nan. Details: \n",
      "Traceback (most recent call last):\n",
      "  File \"C:\\Users\\davul\\anaconda3\\lib\\site-packages\\sklearn\\model_selection\\_validation.py\", line 761, in _score\n",
      "    scores = scorer(estimator, X_test, y_test)\n",
      "  File \"C:\\Users\\davul\\anaconda3\\lib\\site-packages\\sklearn\\metrics\\_scorer.py\", line 216, in __call__\n",
      "    return self._score(\n",
      "  File \"C:\\Users\\davul\\anaconda3\\lib\\site-packages\\sklearn\\metrics\\_scorer.py\", line 258, in _score\n",
      "    y_pred = method_caller(estimator, \"predict\", X)\n",
      "  File \"C:\\Users\\davul\\anaconda3\\lib\\site-packages\\sklearn\\metrics\\_scorer.py\", line 68, in _cached_call\n",
      "    return getattr(estimator, method)(*args, **kwargs)\n",
      "  File \"C:\\Users\\davul\\anaconda3\\lib\\site-packages\\scikeras\\wrappers.py\", line 1054, in predict\n",
      "    y_pred = self.target_encoder_.inverse_transform(y_pred)\n",
      "  File \"C:\\Users\\davul\\anaconda3\\lib\\site-packages\\scikeras\\utils\\transformers.py\", line 256, in inverse_transform\n",
      "    class_predictions = self._final_encoder.inverse_transform(class_predictions)\n",
      "  File \"C:\\Users\\davul\\anaconda3\\lib\\site-packages\\sklearn\\utils\\metaestimators.py\", line 113, in <lambda>\n",
      "    out = lambda *args, **kwargs: self.fn(obj, *args, **kwargs)  # noqa\n",
      "  File \"C:\\Users\\davul\\anaconda3\\lib\\site-packages\\sklearn\\pipeline.py\", line 675, in inverse_transform\n",
      "    Xt = transform.inverse_transform(Xt)\n",
      "  File \"C:\\Users\\davul\\anaconda3\\lib\\site-packages\\sklearn\\preprocessing\\_encoders.py\", line 990, in inverse_transform\n",
      "    X_tr[:, i] = self.categories_[i][labels]\n",
      "IndexError: index 7 is out of bounds for axis 0 with size 2\n",
      "\n",
      "  warnings.warn(\n"
     ]
    },
    {
     "name": "stdout",
     "output_type": "stream",
     "text": [
      "2/2 [==============================] - 0s 2ms/step\n"
     ]
    },
    {
     "name": "stderr",
     "output_type": "stream",
     "text": [
      "C:\\Users\\davul\\anaconda3\\lib\\site-packages\\sklearn\\model_selection\\_validation.py:770: UserWarning: Scoring failed. The score on this train-test partition for these parameters will be set to nan. Details: \n",
      "Traceback (most recent call last):\n",
      "  File \"C:\\Users\\davul\\anaconda3\\lib\\site-packages\\sklearn\\model_selection\\_validation.py\", line 761, in _score\n",
      "    scores = scorer(estimator, X_test, y_test)\n",
      "  File \"C:\\Users\\davul\\anaconda3\\lib\\site-packages\\sklearn\\metrics\\_scorer.py\", line 216, in __call__\n",
      "    return self._score(\n",
      "  File \"C:\\Users\\davul\\anaconda3\\lib\\site-packages\\sklearn\\metrics\\_scorer.py\", line 258, in _score\n",
      "    y_pred = method_caller(estimator, \"predict\", X)\n",
      "  File \"C:\\Users\\davul\\anaconda3\\lib\\site-packages\\sklearn\\metrics\\_scorer.py\", line 68, in _cached_call\n",
      "    return getattr(estimator, method)(*args, **kwargs)\n",
      "  File \"C:\\Users\\davul\\anaconda3\\lib\\site-packages\\scikeras\\wrappers.py\", line 1054, in predict\n",
      "    y_pred = self.target_encoder_.inverse_transform(y_pred)\n",
      "  File \"C:\\Users\\davul\\anaconda3\\lib\\site-packages\\scikeras\\utils\\transformers.py\", line 256, in inverse_transform\n",
      "    class_predictions = self._final_encoder.inverse_transform(class_predictions)\n",
      "  File \"C:\\Users\\davul\\anaconda3\\lib\\site-packages\\sklearn\\utils\\metaestimators.py\", line 113, in <lambda>\n",
      "    out = lambda *args, **kwargs: self.fn(obj, *args, **kwargs)  # noqa\n",
      "  File \"C:\\Users\\davul\\anaconda3\\lib\\site-packages\\sklearn\\pipeline.py\", line 675, in inverse_transform\n",
      "    Xt = transform.inverse_transform(Xt)\n",
      "  File \"C:\\Users\\davul\\anaconda3\\lib\\site-packages\\sklearn\\preprocessing\\_encoders.py\", line 990, in inverse_transform\n",
      "    X_tr[:, i] = self.categories_[i][labels]\n",
      "IndexError: index 3 is out of bounds for axis 0 with size 2\n",
      "\n",
      "  warnings.warn(\n"
     ]
    },
    {
     "name": "stdout",
     "output_type": "stream",
     "text": [
      "7/7 [==============================] - 0s 881us/step\n",
      "7/7 [==============================] - 0s 1ms/step\n"
     ]
    },
    {
     "name": "stderr",
     "output_type": "stream",
     "text": [
      "C:\\Users\\davul\\anaconda3\\lib\\site-packages\\sklearn\\model_selection\\_validation.py:770: UserWarning: Scoring failed. The score on this train-test partition for these parameters will be set to nan. Details: \n",
      "Traceback (most recent call last):\n",
      "  File \"C:\\Users\\davul\\anaconda3\\lib\\site-packages\\sklearn\\model_selection\\_validation.py\", line 761, in _score\n",
      "    scores = scorer(estimator, X_test, y_test)\n",
      "  File \"C:\\Users\\davul\\anaconda3\\lib\\site-packages\\sklearn\\metrics\\_scorer.py\", line 216, in __call__\n",
      "    return self._score(\n",
      "  File \"C:\\Users\\davul\\anaconda3\\lib\\site-packages\\sklearn\\metrics\\_scorer.py\", line 258, in _score\n",
      "    y_pred = method_caller(estimator, \"predict\", X)\n",
      "  File \"C:\\Users\\davul\\anaconda3\\lib\\site-packages\\sklearn\\metrics\\_scorer.py\", line 68, in _cached_call\n",
      "    return getattr(estimator, method)(*args, **kwargs)\n",
      "  File \"C:\\Users\\davul\\anaconda3\\lib\\site-packages\\scikeras\\wrappers.py\", line 1054, in predict\n",
      "    y_pred = self.target_encoder_.inverse_transform(y_pred)\n",
      "  File \"C:\\Users\\davul\\anaconda3\\lib\\site-packages\\scikeras\\utils\\transformers.py\", line 256, in inverse_transform\n",
      "    class_predictions = self._final_encoder.inverse_transform(class_predictions)\n",
      "  File \"C:\\Users\\davul\\anaconda3\\lib\\site-packages\\sklearn\\utils\\metaestimators.py\", line 113, in <lambda>\n",
      "    out = lambda *args, **kwargs: self.fn(obj, *args, **kwargs)  # noqa\n",
      "  File \"C:\\Users\\davul\\anaconda3\\lib\\site-packages\\sklearn\\pipeline.py\", line 675, in inverse_transform\n",
      "    Xt = transform.inverse_transform(Xt)\n",
      "  File \"C:\\Users\\davul\\anaconda3\\lib\\site-packages\\sklearn\\preprocessing\\_encoders.py\", line 990, in inverse_transform\n",
      "    X_tr[:, i] = self.categories_[i][labels]\n",
      "IndexError: index 8 is out of bounds for axis 0 with size 2\n",
      "\n",
      "  warnings.warn(\n"
     ]
    },
    {
     "name": "stdout",
     "output_type": "stream",
     "text": [
      "7/7 [==============================] - 0s 1ms/step\n"
     ]
    },
    {
     "name": "stderr",
     "output_type": "stream",
     "text": [
      "C:\\Users\\davul\\anaconda3\\lib\\site-packages\\sklearn\\model_selection\\_validation.py:770: UserWarning: Scoring failed. The score on this train-test partition for these parameters will be set to nan. Details: \n",
      "Traceback (most recent call last):\n",
      "  File \"C:\\Users\\davul\\anaconda3\\lib\\site-packages\\sklearn\\model_selection\\_validation.py\", line 761, in _score\n",
      "    scores = scorer(estimator, X_test, y_test)\n",
      "  File \"C:\\Users\\davul\\anaconda3\\lib\\site-packages\\sklearn\\metrics\\_scorer.py\", line 216, in __call__\n",
      "    return self._score(\n",
      "  File \"C:\\Users\\davul\\anaconda3\\lib\\site-packages\\sklearn\\metrics\\_scorer.py\", line 258, in _score\n",
      "    y_pred = method_caller(estimator, \"predict\", X)\n",
      "  File \"C:\\Users\\davul\\anaconda3\\lib\\site-packages\\sklearn\\metrics\\_scorer.py\", line 68, in _cached_call\n",
      "    return getattr(estimator, method)(*args, **kwargs)\n",
      "  File \"C:\\Users\\davul\\anaconda3\\lib\\site-packages\\scikeras\\wrappers.py\", line 1054, in predict\n",
      "    y_pred = self.target_encoder_.inverse_transform(y_pred)\n",
      "  File \"C:\\Users\\davul\\anaconda3\\lib\\site-packages\\scikeras\\utils\\transformers.py\", line 256, in inverse_transform\n",
      "    class_predictions = self._final_encoder.inverse_transform(class_predictions)\n",
      "  File \"C:\\Users\\davul\\anaconda3\\lib\\site-packages\\sklearn\\utils\\metaestimators.py\", line 113, in <lambda>\n",
      "    out = lambda *args, **kwargs: self.fn(obj, *args, **kwargs)  # noqa\n",
      "  File \"C:\\Users\\davul\\anaconda3\\lib\\site-packages\\sklearn\\pipeline.py\", line 675, in inverse_transform\n",
      "    Xt = transform.inverse_transform(Xt)\n",
      "  File \"C:\\Users\\davul\\anaconda3\\lib\\site-packages\\sklearn\\preprocessing\\_encoders.py\", line 990, in inverse_transform\n",
      "    X_tr[:, i] = self.categories_[i][labels]\n",
      "IndexError: index 9 is out of bounds for axis 0 with size 2\n",
      "\n",
      "  warnings.warn(\n"
     ]
    },
    {
     "name": "stdout",
     "output_type": "stream",
     "text": [
      "7/7 [==============================] - 0s 1ms/step\n",
      "7/7 [==============================] - 0s 1ms/step\n",
      "7/7 [==============================] - 0s 1ms/step\n"
     ]
    },
    {
     "name": "stderr",
     "output_type": "stream",
     "text": [
      "C:\\Users\\davul\\anaconda3\\lib\\site-packages\\sklearn\\model_selection\\_validation.py:770: UserWarning: Scoring failed. The score on this train-test partition for these parameters will be set to nan. Details: \n",
      "Traceback (most recent call last):\n",
      "  File \"C:\\Users\\davul\\anaconda3\\lib\\site-packages\\sklearn\\model_selection\\_validation.py\", line 761, in _score\n",
      "    scores = scorer(estimator, X_test, y_test)\n",
      "  File \"C:\\Users\\davul\\anaconda3\\lib\\site-packages\\sklearn\\metrics\\_scorer.py\", line 216, in __call__\n",
      "    return self._score(\n",
      "  File \"C:\\Users\\davul\\anaconda3\\lib\\site-packages\\sklearn\\metrics\\_scorer.py\", line 258, in _score\n",
      "    y_pred = method_caller(estimator, \"predict\", X)\n",
      "  File \"C:\\Users\\davul\\anaconda3\\lib\\site-packages\\sklearn\\metrics\\_scorer.py\", line 68, in _cached_call\n",
      "    return getattr(estimator, method)(*args, **kwargs)\n",
      "  File \"C:\\Users\\davul\\anaconda3\\lib\\site-packages\\scikeras\\wrappers.py\", line 1054, in predict\n",
      "    y_pred = self.target_encoder_.inverse_transform(y_pred)\n",
      "  File \"C:\\Users\\davul\\anaconda3\\lib\\site-packages\\scikeras\\utils\\transformers.py\", line 256, in inverse_transform\n",
      "    class_predictions = self._final_encoder.inverse_transform(class_predictions)\n",
      "  File \"C:\\Users\\davul\\anaconda3\\lib\\site-packages\\sklearn\\utils\\metaestimators.py\", line 113, in <lambda>\n",
      "    out = lambda *args, **kwargs: self.fn(obj, *args, **kwargs)  # noqa\n",
      "  File \"C:\\Users\\davul\\anaconda3\\lib\\site-packages\\sklearn\\pipeline.py\", line 675, in inverse_transform\n",
      "    Xt = transform.inverse_transform(Xt)\n",
      "  File \"C:\\Users\\davul\\anaconda3\\lib\\site-packages\\sklearn\\preprocessing\\_encoders.py\", line 990, in inverse_transform\n",
      "    X_tr[:, i] = self.categories_[i][labels]\n",
      "IndexError: index 7 is out of bounds for axis 0 with size 2\n",
      "\n",
      "  warnings.warn(\n"
     ]
    },
    {
     "name": "stdout",
     "output_type": "stream",
     "text": [
      "7/7 [==============================] - 0s 1ms/step\n"
     ]
    },
    {
     "name": "stderr",
     "output_type": "stream",
     "text": [
      "C:\\Users\\davul\\anaconda3\\lib\\site-packages\\sklearn\\model_selection\\_validation.py:770: UserWarning: Scoring failed. The score on this train-test partition for these parameters will be set to nan. Details: \n",
      "Traceback (most recent call last):\n",
      "  File \"C:\\Users\\davul\\anaconda3\\lib\\site-packages\\sklearn\\model_selection\\_validation.py\", line 761, in _score\n",
      "    scores = scorer(estimator, X_test, y_test)\n",
      "  File \"C:\\Users\\davul\\anaconda3\\lib\\site-packages\\sklearn\\metrics\\_scorer.py\", line 216, in __call__\n",
      "    return self._score(\n",
      "  File \"C:\\Users\\davul\\anaconda3\\lib\\site-packages\\sklearn\\metrics\\_scorer.py\", line 258, in _score\n",
      "    y_pred = method_caller(estimator, \"predict\", X)\n",
      "  File \"C:\\Users\\davul\\anaconda3\\lib\\site-packages\\sklearn\\metrics\\_scorer.py\", line 68, in _cached_call\n",
      "    return getattr(estimator, method)(*args, **kwargs)\n",
      "  File \"C:\\Users\\davul\\anaconda3\\lib\\site-packages\\scikeras\\wrappers.py\", line 1054, in predict\n",
      "    y_pred = self.target_encoder_.inverse_transform(y_pred)\n",
      "  File \"C:\\Users\\davul\\anaconda3\\lib\\site-packages\\scikeras\\utils\\transformers.py\", line 256, in inverse_transform\n",
      "    class_predictions = self._final_encoder.inverse_transform(class_predictions)\n",
      "  File \"C:\\Users\\davul\\anaconda3\\lib\\site-packages\\sklearn\\utils\\metaestimators.py\", line 113, in <lambda>\n",
      "    out = lambda *args, **kwargs: self.fn(obj, *args, **kwargs)  # noqa\n",
      "  File \"C:\\Users\\davul\\anaconda3\\lib\\site-packages\\sklearn\\pipeline.py\", line 675, in inverse_transform\n",
      "    Xt = transform.inverse_transform(Xt)\n",
      "  File \"C:\\Users\\davul\\anaconda3\\lib\\site-packages\\sklearn\\preprocessing\\_encoders.py\", line 990, in inverse_transform\n",
      "    X_tr[:, i] = self.categories_[i][labels]\n",
      "IndexError: index 2 is out of bounds for axis 0 with size 2\n",
      "\n",
      "  warnings.warn(\n"
     ]
    },
    {
     "name": "stdout",
     "output_type": "stream",
     "text": [
      "7/7 [==============================] - 0s 1ms/step\n"
     ]
    },
    {
     "name": "stderr",
     "output_type": "stream",
     "text": [
      "C:\\Users\\davul\\anaconda3\\lib\\site-packages\\sklearn\\model_selection\\_validation.py:770: UserWarning: Scoring failed. The score on this train-test partition for these parameters will be set to nan. Details: \n",
      "Traceback (most recent call last):\n",
      "  File \"C:\\Users\\davul\\anaconda3\\lib\\site-packages\\sklearn\\model_selection\\_validation.py\", line 761, in _score\n",
      "    scores = scorer(estimator, X_test, y_test)\n",
      "  File \"C:\\Users\\davul\\anaconda3\\lib\\site-packages\\sklearn\\metrics\\_scorer.py\", line 216, in __call__\n",
      "    return self._score(\n",
      "  File \"C:\\Users\\davul\\anaconda3\\lib\\site-packages\\sklearn\\metrics\\_scorer.py\", line 258, in _score\n",
      "    y_pred = method_caller(estimator, \"predict\", X)\n",
      "  File \"C:\\Users\\davul\\anaconda3\\lib\\site-packages\\sklearn\\metrics\\_scorer.py\", line 68, in _cached_call\n",
      "    return getattr(estimator, method)(*args, **kwargs)\n",
      "  File \"C:\\Users\\davul\\anaconda3\\lib\\site-packages\\scikeras\\wrappers.py\", line 1054, in predict\n",
      "    y_pred = self.target_encoder_.inverse_transform(y_pred)\n",
      "  File \"C:\\Users\\davul\\anaconda3\\lib\\site-packages\\scikeras\\utils\\transformers.py\", line 256, in inverse_transform\n",
      "    class_predictions = self._final_encoder.inverse_transform(class_predictions)\n",
      "  File \"C:\\Users\\davul\\anaconda3\\lib\\site-packages\\sklearn\\utils\\metaestimators.py\", line 113, in <lambda>\n",
      "    out = lambda *args, **kwargs: self.fn(obj, *args, **kwargs)  # noqa\n",
      "  File \"C:\\Users\\davul\\anaconda3\\lib\\site-packages\\sklearn\\pipeline.py\", line 675, in inverse_transform\n",
      "    Xt = transform.inverse_transform(Xt)\n",
      "  File \"C:\\Users\\davul\\anaconda3\\lib\\site-packages\\sklearn\\preprocessing\\_encoders.py\", line 990, in inverse_transform\n",
      "    X_tr[:, i] = self.categories_[i][labels]\n",
      "IndexError: index 5 is out of bounds for axis 0 with size 2\n",
      "\n",
      "  warnings.warn(\n"
     ]
    },
    {
     "name": "stdout",
     "output_type": "stream",
     "text": [
      "7/7 [==============================] - 0s 1ms/step\n"
     ]
    },
    {
     "name": "stderr",
     "output_type": "stream",
     "text": [
      "C:\\Users\\davul\\anaconda3\\lib\\site-packages\\sklearn\\model_selection\\_validation.py:770: UserWarning: Scoring failed. The score on this train-test partition for these parameters will be set to nan. Details: \n",
      "Traceback (most recent call last):\n",
      "  File \"C:\\Users\\davul\\anaconda3\\lib\\site-packages\\sklearn\\model_selection\\_validation.py\", line 761, in _score\n",
      "    scores = scorer(estimator, X_test, y_test)\n",
      "  File \"C:\\Users\\davul\\anaconda3\\lib\\site-packages\\sklearn\\metrics\\_scorer.py\", line 216, in __call__\n",
      "    return self._score(\n",
      "  File \"C:\\Users\\davul\\anaconda3\\lib\\site-packages\\sklearn\\metrics\\_scorer.py\", line 258, in _score\n",
      "    y_pred = method_caller(estimator, \"predict\", X)\n",
      "  File \"C:\\Users\\davul\\anaconda3\\lib\\site-packages\\sklearn\\metrics\\_scorer.py\", line 68, in _cached_call\n",
      "    return getattr(estimator, method)(*args, **kwargs)\n",
      "  File \"C:\\Users\\davul\\anaconda3\\lib\\site-packages\\scikeras\\wrappers.py\", line 1054, in predict\n",
      "    y_pred = self.target_encoder_.inverse_transform(y_pred)\n",
      "  File \"C:\\Users\\davul\\anaconda3\\lib\\site-packages\\scikeras\\utils\\transformers.py\", line 256, in inverse_transform\n",
      "    class_predictions = self._final_encoder.inverse_transform(class_predictions)\n",
      "  File \"C:\\Users\\davul\\anaconda3\\lib\\site-packages\\sklearn\\utils\\metaestimators.py\", line 113, in <lambda>\n",
      "    out = lambda *args, **kwargs: self.fn(obj, *args, **kwargs)  # noqa\n",
      "  File \"C:\\Users\\davul\\anaconda3\\lib\\site-packages\\sklearn\\pipeline.py\", line 675, in inverse_transform\n",
      "    Xt = transform.inverse_transform(Xt)\n",
      "  File \"C:\\Users\\davul\\anaconda3\\lib\\site-packages\\sklearn\\preprocessing\\_encoders.py\", line 990, in inverse_transform\n",
      "    X_tr[:, i] = self.categories_[i][labels]\n",
      "IndexError: index 9 is out of bounds for axis 0 with size 2\n",
      "\n",
      "  warnings.warn(\n"
     ]
    },
    {
     "name": "stdout",
     "output_type": "stream",
     "text": [
      "7/7 [==============================] - 0s 1ms/step\n"
     ]
    },
    {
     "name": "stderr",
     "output_type": "stream",
     "text": [
      "C:\\Users\\davul\\anaconda3\\lib\\site-packages\\sklearn\\model_selection\\_validation.py:770: UserWarning: Scoring failed. The score on this train-test partition for these parameters will be set to nan. Details: \n",
      "Traceback (most recent call last):\n",
      "  File \"C:\\Users\\davul\\anaconda3\\lib\\site-packages\\sklearn\\model_selection\\_validation.py\", line 761, in _score\n",
      "    scores = scorer(estimator, X_test, y_test)\n",
      "  File \"C:\\Users\\davul\\anaconda3\\lib\\site-packages\\sklearn\\metrics\\_scorer.py\", line 216, in __call__\n",
      "    return self._score(\n",
      "  File \"C:\\Users\\davul\\anaconda3\\lib\\site-packages\\sklearn\\metrics\\_scorer.py\", line 258, in _score\n",
      "    y_pred = method_caller(estimator, \"predict\", X)\n",
      "  File \"C:\\Users\\davul\\anaconda3\\lib\\site-packages\\sklearn\\metrics\\_scorer.py\", line 68, in _cached_call\n",
      "    return getattr(estimator, method)(*args, **kwargs)\n",
      "  File \"C:\\Users\\davul\\anaconda3\\lib\\site-packages\\scikeras\\wrappers.py\", line 1054, in predict\n",
      "    y_pred = self.target_encoder_.inverse_transform(y_pred)\n",
      "  File \"C:\\Users\\davul\\anaconda3\\lib\\site-packages\\scikeras\\utils\\transformers.py\", line 256, in inverse_transform\n",
      "    class_predictions = self._final_encoder.inverse_transform(class_predictions)\n",
      "  File \"C:\\Users\\davul\\anaconda3\\lib\\site-packages\\sklearn\\utils\\metaestimators.py\", line 113, in <lambda>\n",
      "    out = lambda *args, **kwargs: self.fn(obj, *args, **kwargs)  # noqa\n",
      "  File \"C:\\Users\\davul\\anaconda3\\lib\\site-packages\\sklearn\\pipeline.py\", line 675, in inverse_transform\n",
      "    Xt = transform.inverse_transform(Xt)\n",
      "  File \"C:\\Users\\davul\\anaconda3\\lib\\site-packages\\sklearn\\preprocessing\\_encoders.py\", line 990, in inverse_transform\n",
      "    X_tr[:, i] = self.categories_[i][labels]\n",
      "IndexError: index 4 is out of bounds for axis 0 with size 2\n",
      "\n",
      "  warnings.warn(\n"
     ]
    },
    {
     "name": "stdout",
     "output_type": "stream",
     "text": [
      "7/7 [==============================] - 0s 2ms/step\n",
      "7/7 [==============================] - 0s 996us/step\n"
     ]
    },
    {
     "name": "stderr",
     "output_type": "stream",
     "text": [
      "C:\\Users\\davul\\anaconda3\\lib\\site-packages\\sklearn\\model_selection\\_validation.py:770: UserWarning: Scoring failed. The score on this train-test partition for these parameters will be set to nan. Details: \n",
      "Traceback (most recent call last):\n",
      "  File \"C:\\Users\\davul\\anaconda3\\lib\\site-packages\\sklearn\\model_selection\\_validation.py\", line 761, in _score\n",
      "    scores = scorer(estimator, X_test, y_test)\n",
      "  File \"C:\\Users\\davul\\anaconda3\\lib\\site-packages\\sklearn\\metrics\\_scorer.py\", line 216, in __call__\n",
      "    return self._score(\n",
      "  File \"C:\\Users\\davul\\anaconda3\\lib\\site-packages\\sklearn\\metrics\\_scorer.py\", line 258, in _score\n",
      "    y_pred = method_caller(estimator, \"predict\", X)\n",
      "  File \"C:\\Users\\davul\\anaconda3\\lib\\site-packages\\sklearn\\metrics\\_scorer.py\", line 68, in _cached_call\n",
      "    return getattr(estimator, method)(*args, **kwargs)\n",
      "  File \"C:\\Users\\davul\\anaconda3\\lib\\site-packages\\scikeras\\wrappers.py\", line 1054, in predict\n",
      "    y_pred = self.target_encoder_.inverse_transform(y_pred)\n",
      "  File \"C:\\Users\\davul\\anaconda3\\lib\\site-packages\\scikeras\\utils\\transformers.py\", line 256, in inverse_transform\n",
      "    class_predictions = self._final_encoder.inverse_transform(class_predictions)\n",
      "  File \"C:\\Users\\davul\\anaconda3\\lib\\site-packages\\sklearn\\utils\\metaestimators.py\", line 113, in <lambda>\n",
      "    out = lambda *args, **kwargs: self.fn(obj, *args, **kwargs)  # noqa\n",
      "  File \"C:\\Users\\davul\\anaconda3\\lib\\site-packages\\sklearn\\pipeline.py\", line 675, in inverse_transform\n",
      "    Xt = transform.inverse_transform(Xt)\n",
      "  File \"C:\\Users\\davul\\anaconda3\\lib\\site-packages\\sklearn\\preprocessing\\_encoders.py\", line 990, in inverse_transform\n",
      "    X_tr[:, i] = self.categories_[i][labels]\n",
      "IndexError: index 2 is out of bounds for axis 0 with size 2\n",
      "\n",
      "  warnings.warn(\n"
     ]
    },
    {
     "name": "stdout",
     "output_type": "stream",
     "text": [
      "7/7 [==============================] - 0s 1ms/step\n"
     ]
    },
    {
     "name": "stderr",
     "output_type": "stream",
     "text": [
      "C:\\Users\\davul\\anaconda3\\lib\\site-packages\\sklearn\\model_selection\\_validation.py:770: UserWarning: Scoring failed. The score on this train-test partition for these parameters will be set to nan. Details: \n",
      "Traceback (most recent call last):\n",
      "  File \"C:\\Users\\davul\\anaconda3\\lib\\site-packages\\sklearn\\model_selection\\_validation.py\", line 761, in _score\n",
      "    scores = scorer(estimator, X_test, y_test)\n",
      "  File \"C:\\Users\\davul\\anaconda3\\lib\\site-packages\\sklearn\\metrics\\_scorer.py\", line 216, in __call__\n",
      "    return self._score(\n",
      "  File \"C:\\Users\\davul\\anaconda3\\lib\\site-packages\\sklearn\\metrics\\_scorer.py\", line 258, in _score\n",
      "    y_pred = method_caller(estimator, \"predict\", X)\n",
      "  File \"C:\\Users\\davul\\anaconda3\\lib\\site-packages\\sklearn\\metrics\\_scorer.py\", line 68, in _cached_call\n",
      "    return getattr(estimator, method)(*args, **kwargs)\n",
      "  File \"C:\\Users\\davul\\anaconda3\\lib\\site-packages\\scikeras\\wrappers.py\", line 1054, in predict\n",
      "    y_pred = self.target_encoder_.inverse_transform(y_pred)\n",
      "  File \"C:\\Users\\davul\\anaconda3\\lib\\site-packages\\scikeras\\utils\\transformers.py\", line 256, in inverse_transform\n",
      "    class_predictions = self._final_encoder.inverse_transform(class_predictions)\n",
      "  File \"C:\\Users\\davul\\anaconda3\\lib\\site-packages\\sklearn\\utils\\metaestimators.py\", line 113, in <lambda>\n",
      "    out = lambda *args, **kwargs: self.fn(obj, *args, **kwargs)  # noqa\n",
      "  File \"C:\\Users\\davul\\anaconda3\\lib\\site-packages\\sklearn\\pipeline.py\", line 675, in inverse_transform\n",
      "    Xt = transform.inverse_transform(Xt)\n",
      "  File \"C:\\Users\\davul\\anaconda3\\lib\\site-packages\\sklearn\\preprocessing\\_encoders.py\", line 990, in inverse_transform\n",
      "    X_tr[:, i] = self.categories_[i][labels]\n",
      "IndexError: index 9 is out of bounds for axis 0 with size 2\n",
      "\n",
      "  warnings.warn(\n"
     ]
    },
    {
     "name": "stdout",
     "output_type": "stream",
     "text": [
      "7/7 [==============================] - 0s 793us/step\n",
      "7/7 [==============================] - 0s 1ms/step\n",
      "2/2 [==============================] - 0s 3ms/step\n"
     ]
    },
    {
     "name": "stderr",
     "output_type": "stream",
     "text": [
      "C:\\Users\\davul\\anaconda3\\lib\\site-packages\\sklearn\\model_selection\\_validation.py:770: UserWarning: Scoring failed. The score on this train-test partition for these parameters will be set to nan. Details: \n",
      "Traceback (most recent call last):\n",
      "  File \"C:\\Users\\davul\\anaconda3\\lib\\site-packages\\sklearn\\model_selection\\_validation.py\", line 761, in _score\n",
      "    scores = scorer(estimator, X_test, y_test)\n",
      "  File \"C:\\Users\\davul\\anaconda3\\lib\\site-packages\\sklearn\\metrics\\_scorer.py\", line 216, in __call__\n",
      "    return self._score(\n",
      "  File \"C:\\Users\\davul\\anaconda3\\lib\\site-packages\\sklearn\\metrics\\_scorer.py\", line 258, in _score\n",
      "    y_pred = method_caller(estimator, \"predict\", X)\n",
      "  File \"C:\\Users\\davul\\anaconda3\\lib\\site-packages\\sklearn\\metrics\\_scorer.py\", line 68, in _cached_call\n",
      "    return getattr(estimator, method)(*args, **kwargs)\n",
      "  File \"C:\\Users\\davul\\anaconda3\\lib\\site-packages\\scikeras\\wrappers.py\", line 1054, in predict\n",
      "    y_pred = self.target_encoder_.inverse_transform(y_pred)\n",
      "  File \"C:\\Users\\davul\\anaconda3\\lib\\site-packages\\scikeras\\utils\\transformers.py\", line 256, in inverse_transform\n",
      "    class_predictions = self._final_encoder.inverse_transform(class_predictions)\n",
      "  File \"C:\\Users\\davul\\anaconda3\\lib\\site-packages\\sklearn\\utils\\metaestimators.py\", line 113, in <lambda>\n",
      "    out = lambda *args, **kwargs: self.fn(obj, *args, **kwargs)  # noqa\n",
      "  File \"C:\\Users\\davul\\anaconda3\\lib\\site-packages\\sklearn\\pipeline.py\", line 675, in inverse_transform\n",
      "    Xt = transform.inverse_transform(Xt)\n",
      "  File \"C:\\Users\\davul\\anaconda3\\lib\\site-packages\\sklearn\\preprocessing\\_encoders.py\", line 990, in inverse_transform\n",
      "    X_tr[:, i] = self.categories_[i][labels]\n",
      "IndexError: index 9 is out of bounds for axis 0 with size 2\n",
      "\n",
      "  warnings.warn(\n"
     ]
    },
    {
     "name": "stdout",
     "output_type": "stream",
     "text": [
      "2/2 [==============================] - 0s 2ms/step\n"
     ]
    },
    {
     "name": "stderr",
     "output_type": "stream",
     "text": [
      "C:\\Users\\davul\\anaconda3\\lib\\site-packages\\sklearn\\model_selection\\_validation.py:770: UserWarning: Scoring failed. The score on this train-test partition for these parameters will be set to nan. Details: \n",
      "Traceback (most recent call last):\n",
      "  File \"C:\\Users\\davul\\anaconda3\\lib\\site-packages\\sklearn\\model_selection\\_validation.py\", line 761, in _score\n",
      "    scores = scorer(estimator, X_test, y_test)\n",
      "  File \"C:\\Users\\davul\\anaconda3\\lib\\site-packages\\sklearn\\metrics\\_scorer.py\", line 216, in __call__\n",
      "    return self._score(\n",
      "  File \"C:\\Users\\davul\\anaconda3\\lib\\site-packages\\sklearn\\metrics\\_scorer.py\", line 258, in _score\n",
      "    y_pred = method_caller(estimator, \"predict\", X)\n",
      "  File \"C:\\Users\\davul\\anaconda3\\lib\\site-packages\\sklearn\\metrics\\_scorer.py\", line 68, in _cached_call\n",
      "    return getattr(estimator, method)(*args, **kwargs)\n",
      "  File \"C:\\Users\\davul\\anaconda3\\lib\\site-packages\\scikeras\\wrappers.py\", line 1054, in predict\n",
      "    y_pred = self.target_encoder_.inverse_transform(y_pred)\n",
      "  File \"C:\\Users\\davul\\anaconda3\\lib\\site-packages\\scikeras\\utils\\transformers.py\", line 256, in inverse_transform\n",
      "    class_predictions = self._final_encoder.inverse_transform(class_predictions)\n",
      "  File \"C:\\Users\\davul\\anaconda3\\lib\\site-packages\\sklearn\\utils\\metaestimators.py\", line 113, in <lambda>\n",
      "    out = lambda *args, **kwargs: self.fn(obj, *args, **kwargs)  # noqa\n",
      "  File \"C:\\Users\\davul\\anaconda3\\lib\\site-packages\\sklearn\\pipeline.py\", line 675, in inverse_transform\n",
      "    Xt = transform.inverse_transform(Xt)\n",
      "  File \"C:\\Users\\davul\\anaconda3\\lib\\site-packages\\sklearn\\preprocessing\\_encoders.py\", line 990, in inverse_transform\n",
      "    X_tr[:, i] = self.categories_[i][labels]\n",
      "IndexError: index 2 is out of bounds for axis 0 with size 2\n",
      "\n",
      "  warnings.warn(\n"
     ]
    },
    {
     "name": "stdout",
     "output_type": "stream",
     "text": [
      "2/2 [==============================] - 0s 2ms/step\n"
     ]
    },
    {
     "name": "stderr",
     "output_type": "stream",
     "text": [
      "C:\\Users\\davul\\anaconda3\\lib\\site-packages\\sklearn\\model_selection\\_validation.py:770: UserWarning: Scoring failed. The score on this train-test partition for these parameters will be set to nan. Details: \n",
      "Traceback (most recent call last):\n",
      "  File \"C:\\Users\\davul\\anaconda3\\lib\\site-packages\\sklearn\\model_selection\\_validation.py\", line 761, in _score\n",
      "    scores = scorer(estimator, X_test, y_test)\n",
      "  File \"C:\\Users\\davul\\anaconda3\\lib\\site-packages\\sklearn\\metrics\\_scorer.py\", line 216, in __call__\n",
      "    return self._score(\n",
      "  File \"C:\\Users\\davul\\anaconda3\\lib\\site-packages\\sklearn\\metrics\\_scorer.py\", line 258, in _score\n",
      "    y_pred = method_caller(estimator, \"predict\", X)\n",
      "  File \"C:\\Users\\davul\\anaconda3\\lib\\site-packages\\sklearn\\metrics\\_scorer.py\", line 68, in _cached_call\n",
      "    return getattr(estimator, method)(*args, **kwargs)\n",
      "  File \"C:\\Users\\davul\\anaconda3\\lib\\site-packages\\scikeras\\wrappers.py\", line 1054, in predict\n",
      "    y_pred = self.target_encoder_.inverse_transform(y_pred)\n",
      "  File \"C:\\Users\\davul\\anaconda3\\lib\\site-packages\\scikeras\\utils\\transformers.py\", line 256, in inverse_transform\n",
      "    class_predictions = self._final_encoder.inverse_transform(class_predictions)\n",
      "  File \"C:\\Users\\davul\\anaconda3\\lib\\site-packages\\sklearn\\utils\\metaestimators.py\", line 113, in <lambda>\n",
      "    out = lambda *args, **kwargs: self.fn(obj, *args, **kwargs)  # noqa\n",
      "  File \"C:\\Users\\davul\\anaconda3\\lib\\site-packages\\sklearn\\pipeline.py\", line 675, in inverse_transform\n",
      "    Xt = transform.inverse_transform(Xt)\n",
      "  File \"C:\\Users\\davul\\anaconda3\\lib\\site-packages\\sklearn\\preprocessing\\_encoders.py\", line 990, in inverse_transform\n",
      "    X_tr[:, i] = self.categories_[i][labels]\n",
      "IndexError: index 9 is out of bounds for axis 0 with size 2\n",
      "\n",
      "  warnings.warn(\n"
     ]
    },
    {
     "name": "stdout",
     "output_type": "stream",
     "text": [
      "2/2 [==============================] - 0s 2ms/step\n"
     ]
    },
    {
     "name": "stderr",
     "output_type": "stream",
     "text": [
      "C:\\Users\\davul\\anaconda3\\lib\\site-packages\\sklearn\\model_selection\\_validation.py:770: UserWarning: Scoring failed. The score on this train-test partition for these parameters will be set to nan. Details: \n",
      "Traceback (most recent call last):\n",
      "  File \"C:\\Users\\davul\\anaconda3\\lib\\site-packages\\sklearn\\model_selection\\_validation.py\", line 761, in _score\n",
      "    scores = scorer(estimator, X_test, y_test)\n",
      "  File \"C:\\Users\\davul\\anaconda3\\lib\\site-packages\\sklearn\\metrics\\_scorer.py\", line 216, in __call__\n",
      "    return self._score(\n",
      "  File \"C:\\Users\\davul\\anaconda3\\lib\\site-packages\\sklearn\\metrics\\_scorer.py\", line 258, in _score\n",
      "    y_pred = method_caller(estimator, \"predict\", X)\n",
      "  File \"C:\\Users\\davul\\anaconda3\\lib\\site-packages\\sklearn\\metrics\\_scorer.py\", line 68, in _cached_call\n",
      "    return getattr(estimator, method)(*args, **kwargs)\n",
      "  File \"C:\\Users\\davul\\anaconda3\\lib\\site-packages\\scikeras\\wrappers.py\", line 1054, in predict\n",
      "    y_pred = self.target_encoder_.inverse_transform(y_pred)\n",
      "  File \"C:\\Users\\davul\\anaconda3\\lib\\site-packages\\scikeras\\utils\\transformers.py\", line 256, in inverse_transform\n",
      "    class_predictions = self._final_encoder.inverse_transform(class_predictions)\n",
      "  File \"C:\\Users\\davul\\anaconda3\\lib\\site-packages\\sklearn\\utils\\metaestimators.py\", line 113, in <lambda>\n",
      "    out = lambda *args, **kwargs: self.fn(obj, *args, **kwargs)  # noqa\n",
      "  File \"C:\\Users\\davul\\anaconda3\\lib\\site-packages\\sklearn\\pipeline.py\", line 675, in inverse_transform\n",
      "    Xt = transform.inverse_transform(Xt)\n",
      "  File \"C:\\Users\\davul\\anaconda3\\lib\\site-packages\\sklearn\\preprocessing\\_encoders.py\", line 990, in inverse_transform\n",
      "    X_tr[:, i] = self.categories_[i][labels]\n",
      "IndexError: index 6 is out of bounds for axis 0 with size 2\n",
      "\n",
      "  warnings.warn(\n"
     ]
    },
    {
     "name": "stdout",
     "output_type": "stream",
     "text": [
      "2/2 [==============================] - 0s 3ms/step\n"
     ]
    },
    {
     "name": "stderr",
     "output_type": "stream",
     "text": [
      "C:\\Users\\davul\\anaconda3\\lib\\site-packages\\sklearn\\model_selection\\_validation.py:770: UserWarning: Scoring failed. The score on this train-test partition for these parameters will be set to nan. Details: \n",
      "Traceback (most recent call last):\n",
      "  File \"C:\\Users\\davul\\anaconda3\\lib\\site-packages\\sklearn\\model_selection\\_validation.py\", line 761, in _score\n",
      "    scores = scorer(estimator, X_test, y_test)\n",
      "  File \"C:\\Users\\davul\\anaconda3\\lib\\site-packages\\sklearn\\metrics\\_scorer.py\", line 216, in __call__\n",
      "    return self._score(\n",
      "  File \"C:\\Users\\davul\\anaconda3\\lib\\site-packages\\sklearn\\metrics\\_scorer.py\", line 258, in _score\n",
      "    y_pred = method_caller(estimator, \"predict\", X)\n",
      "  File \"C:\\Users\\davul\\anaconda3\\lib\\site-packages\\sklearn\\metrics\\_scorer.py\", line 68, in _cached_call\n",
      "    return getattr(estimator, method)(*args, **kwargs)\n",
      "  File \"C:\\Users\\davul\\anaconda3\\lib\\site-packages\\scikeras\\wrappers.py\", line 1054, in predict\n",
      "    y_pred = self.target_encoder_.inverse_transform(y_pred)\n",
      "  File \"C:\\Users\\davul\\anaconda3\\lib\\site-packages\\scikeras\\utils\\transformers.py\", line 256, in inverse_transform\n",
      "    class_predictions = self._final_encoder.inverse_transform(class_predictions)\n",
      "  File \"C:\\Users\\davul\\anaconda3\\lib\\site-packages\\sklearn\\utils\\metaestimators.py\", line 113, in <lambda>\n",
      "    out = lambda *args, **kwargs: self.fn(obj, *args, **kwargs)  # noqa\n",
      "  File \"C:\\Users\\davul\\anaconda3\\lib\\site-packages\\sklearn\\pipeline.py\", line 675, in inverse_transform\n",
      "    Xt = transform.inverse_transform(Xt)\n",
      "  File \"C:\\Users\\davul\\anaconda3\\lib\\site-packages\\sklearn\\preprocessing\\_encoders.py\", line 990, in inverse_transform\n",
      "    X_tr[:, i] = self.categories_[i][labels]\n",
      "IndexError: index 2 is out of bounds for axis 0 with size 2\n",
      "\n",
      "  warnings.warn(\n"
     ]
    },
    {
     "name": "stdout",
     "output_type": "stream",
     "text": [
      "2/2 [==============================] - 0s 3ms/step\n"
     ]
    },
    {
     "name": "stderr",
     "output_type": "stream",
     "text": [
      "C:\\Users\\davul\\anaconda3\\lib\\site-packages\\sklearn\\model_selection\\_validation.py:770: UserWarning: Scoring failed. The score on this train-test partition for these parameters will be set to nan. Details: \n",
      "Traceback (most recent call last):\n",
      "  File \"C:\\Users\\davul\\anaconda3\\lib\\site-packages\\sklearn\\model_selection\\_validation.py\", line 761, in _score\n",
      "    scores = scorer(estimator, X_test, y_test)\n",
      "  File \"C:\\Users\\davul\\anaconda3\\lib\\site-packages\\sklearn\\metrics\\_scorer.py\", line 216, in __call__\n",
      "    return self._score(\n",
      "  File \"C:\\Users\\davul\\anaconda3\\lib\\site-packages\\sklearn\\metrics\\_scorer.py\", line 258, in _score\n",
      "    y_pred = method_caller(estimator, \"predict\", X)\n",
      "  File \"C:\\Users\\davul\\anaconda3\\lib\\site-packages\\sklearn\\metrics\\_scorer.py\", line 68, in _cached_call\n",
      "    return getattr(estimator, method)(*args, **kwargs)\n",
      "  File \"C:\\Users\\davul\\anaconda3\\lib\\site-packages\\scikeras\\wrappers.py\", line 1054, in predict\n",
      "    y_pred = self.target_encoder_.inverse_transform(y_pred)\n",
      "  File \"C:\\Users\\davul\\anaconda3\\lib\\site-packages\\scikeras\\utils\\transformers.py\", line 256, in inverse_transform\n",
      "    class_predictions = self._final_encoder.inverse_transform(class_predictions)\n",
      "  File \"C:\\Users\\davul\\anaconda3\\lib\\site-packages\\sklearn\\utils\\metaestimators.py\", line 113, in <lambda>\n",
      "    out = lambda *args, **kwargs: self.fn(obj, *args, **kwargs)  # noqa\n",
      "  File \"C:\\Users\\davul\\anaconda3\\lib\\site-packages\\sklearn\\pipeline.py\", line 675, in inverse_transform\n",
      "    Xt = transform.inverse_transform(Xt)\n",
      "  File \"C:\\Users\\davul\\anaconda3\\lib\\site-packages\\sklearn\\preprocessing\\_encoders.py\", line 990, in inverse_transform\n",
      "    X_tr[:, i] = self.categories_[i][labels]\n",
      "IndexError: index 4 is out of bounds for axis 0 with size 2\n",
      "\n",
      "  warnings.warn(\n"
     ]
    },
    {
     "name": "stdout",
     "output_type": "stream",
     "text": [
      "2/2 [==============================] - 0s 2ms/step\n"
     ]
    },
    {
     "name": "stderr",
     "output_type": "stream",
     "text": [
      "C:\\Users\\davul\\anaconda3\\lib\\site-packages\\sklearn\\model_selection\\_validation.py:770: UserWarning: Scoring failed. The score on this train-test partition for these parameters will be set to nan. Details: \n",
      "Traceback (most recent call last):\n",
      "  File \"C:\\Users\\davul\\anaconda3\\lib\\site-packages\\sklearn\\model_selection\\_validation.py\", line 761, in _score\n",
      "    scores = scorer(estimator, X_test, y_test)\n",
      "  File \"C:\\Users\\davul\\anaconda3\\lib\\site-packages\\sklearn\\metrics\\_scorer.py\", line 216, in __call__\n",
      "    return self._score(\n",
      "  File \"C:\\Users\\davul\\anaconda3\\lib\\site-packages\\sklearn\\metrics\\_scorer.py\", line 258, in _score\n",
      "    y_pred = method_caller(estimator, \"predict\", X)\n",
      "  File \"C:\\Users\\davul\\anaconda3\\lib\\site-packages\\sklearn\\metrics\\_scorer.py\", line 68, in _cached_call\n",
      "    return getattr(estimator, method)(*args, **kwargs)\n",
      "  File \"C:\\Users\\davul\\anaconda3\\lib\\site-packages\\scikeras\\wrappers.py\", line 1054, in predict\n",
      "    y_pred = self.target_encoder_.inverse_transform(y_pred)\n",
      "  File \"C:\\Users\\davul\\anaconda3\\lib\\site-packages\\scikeras\\utils\\transformers.py\", line 256, in inverse_transform\n",
      "    class_predictions = self._final_encoder.inverse_transform(class_predictions)\n",
      "  File \"C:\\Users\\davul\\anaconda3\\lib\\site-packages\\sklearn\\utils\\metaestimators.py\", line 113, in <lambda>\n",
      "    out = lambda *args, **kwargs: self.fn(obj, *args, **kwargs)  # noqa\n",
      "  File \"C:\\Users\\davul\\anaconda3\\lib\\site-packages\\sklearn\\pipeline.py\", line 675, in inverse_transform\n",
      "    Xt = transform.inverse_transform(Xt)\n",
      "  File \"C:\\Users\\davul\\anaconda3\\lib\\site-packages\\sklearn\\preprocessing\\_encoders.py\", line 990, in inverse_transform\n",
      "    X_tr[:, i] = self.categories_[i][labels]\n",
      "IndexError: index 2 is out of bounds for axis 0 with size 2\n",
      "\n",
      "  warnings.warn(\n"
     ]
    },
    {
     "name": "stdout",
     "output_type": "stream",
     "text": [
      "2/2 [==============================] - 0s 2ms/step\n"
     ]
    },
    {
     "name": "stderr",
     "output_type": "stream",
     "text": [
      "C:\\Users\\davul\\anaconda3\\lib\\site-packages\\sklearn\\model_selection\\_validation.py:770: UserWarning: Scoring failed. The score on this train-test partition for these parameters will be set to nan. Details: \n",
      "Traceback (most recent call last):\n",
      "  File \"C:\\Users\\davul\\anaconda3\\lib\\site-packages\\sklearn\\model_selection\\_validation.py\", line 761, in _score\n",
      "    scores = scorer(estimator, X_test, y_test)\n",
      "  File \"C:\\Users\\davul\\anaconda3\\lib\\site-packages\\sklearn\\metrics\\_scorer.py\", line 216, in __call__\n",
      "    return self._score(\n",
      "  File \"C:\\Users\\davul\\anaconda3\\lib\\site-packages\\sklearn\\metrics\\_scorer.py\", line 258, in _score\n",
      "    y_pred = method_caller(estimator, \"predict\", X)\n",
      "  File \"C:\\Users\\davul\\anaconda3\\lib\\site-packages\\sklearn\\metrics\\_scorer.py\", line 68, in _cached_call\n",
      "    return getattr(estimator, method)(*args, **kwargs)\n",
      "  File \"C:\\Users\\davul\\anaconda3\\lib\\site-packages\\scikeras\\wrappers.py\", line 1054, in predict\n",
      "    y_pred = self.target_encoder_.inverse_transform(y_pred)\n",
      "  File \"C:\\Users\\davul\\anaconda3\\lib\\site-packages\\scikeras\\utils\\transformers.py\", line 256, in inverse_transform\n",
      "    class_predictions = self._final_encoder.inverse_transform(class_predictions)\n",
      "  File \"C:\\Users\\davul\\anaconda3\\lib\\site-packages\\sklearn\\utils\\metaestimators.py\", line 113, in <lambda>\n",
      "    out = lambda *args, **kwargs: self.fn(obj, *args, **kwargs)  # noqa\n",
      "  File \"C:\\Users\\davul\\anaconda3\\lib\\site-packages\\sklearn\\pipeline.py\", line 675, in inverse_transform\n",
      "    Xt = transform.inverse_transform(Xt)\n",
      "  File \"C:\\Users\\davul\\anaconda3\\lib\\site-packages\\sklearn\\preprocessing\\_encoders.py\", line 990, in inverse_transform\n",
      "    X_tr[:, i] = self.categories_[i][labels]\n",
      "IndexError: index 2 is out of bounds for axis 0 with size 2\n",
      "\n",
      "  warnings.warn(\n"
     ]
    },
    {
     "name": "stdout",
     "output_type": "stream",
     "text": [
      "2/2 [==============================] - 0s 3ms/step\n"
     ]
    },
    {
     "name": "stderr",
     "output_type": "stream",
     "text": [
      "C:\\Users\\davul\\anaconda3\\lib\\site-packages\\sklearn\\model_selection\\_validation.py:770: UserWarning: Scoring failed. The score on this train-test partition for these parameters will be set to nan. Details: \n",
      "Traceback (most recent call last):\n",
      "  File \"C:\\Users\\davul\\anaconda3\\lib\\site-packages\\sklearn\\model_selection\\_validation.py\", line 761, in _score\n",
      "    scores = scorer(estimator, X_test, y_test)\n",
      "  File \"C:\\Users\\davul\\anaconda3\\lib\\site-packages\\sklearn\\metrics\\_scorer.py\", line 216, in __call__\n",
      "    return self._score(\n",
      "  File \"C:\\Users\\davul\\anaconda3\\lib\\site-packages\\sklearn\\metrics\\_scorer.py\", line 258, in _score\n",
      "    y_pred = method_caller(estimator, \"predict\", X)\n",
      "  File \"C:\\Users\\davul\\anaconda3\\lib\\site-packages\\sklearn\\metrics\\_scorer.py\", line 68, in _cached_call\n",
      "    return getattr(estimator, method)(*args, **kwargs)\n",
      "  File \"C:\\Users\\davul\\anaconda3\\lib\\site-packages\\scikeras\\wrappers.py\", line 1054, in predict\n",
      "    y_pred = self.target_encoder_.inverse_transform(y_pred)\n",
      "  File \"C:\\Users\\davul\\anaconda3\\lib\\site-packages\\scikeras\\utils\\transformers.py\", line 256, in inverse_transform\n",
      "    class_predictions = self._final_encoder.inverse_transform(class_predictions)\n",
      "  File \"C:\\Users\\davul\\anaconda3\\lib\\site-packages\\sklearn\\utils\\metaestimators.py\", line 113, in <lambda>\n",
      "    out = lambda *args, **kwargs: self.fn(obj, *args, **kwargs)  # noqa\n",
      "  File \"C:\\Users\\davul\\anaconda3\\lib\\site-packages\\sklearn\\pipeline.py\", line 675, in inverse_transform\n",
      "    Xt = transform.inverse_transform(Xt)\n",
      "  File \"C:\\Users\\davul\\anaconda3\\lib\\site-packages\\sklearn\\preprocessing\\_encoders.py\", line 990, in inverse_transform\n",
      "    X_tr[:, i] = self.categories_[i][labels]\n",
      "IndexError: index 3 is out of bounds for axis 0 with size 2\n",
      "\n",
      "  warnings.warn(\n"
     ]
    },
    {
     "name": "stdout",
     "output_type": "stream",
     "text": [
      "2/2 [==============================] - 0s 2ms/step\n"
     ]
    },
    {
     "name": "stderr",
     "output_type": "stream",
     "text": [
      "C:\\Users\\davul\\anaconda3\\lib\\site-packages\\sklearn\\model_selection\\_validation.py:770: UserWarning: Scoring failed. The score on this train-test partition for these parameters will be set to nan. Details: \n",
      "Traceback (most recent call last):\n",
      "  File \"C:\\Users\\davul\\anaconda3\\lib\\site-packages\\sklearn\\model_selection\\_validation.py\", line 761, in _score\n",
      "    scores = scorer(estimator, X_test, y_test)\n",
      "  File \"C:\\Users\\davul\\anaconda3\\lib\\site-packages\\sklearn\\metrics\\_scorer.py\", line 216, in __call__\n",
      "    return self._score(\n",
      "  File \"C:\\Users\\davul\\anaconda3\\lib\\site-packages\\sklearn\\metrics\\_scorer.py\", line 258, in _score\n",
      "    y_pred = method_caller(estimator, \"predict\", X)\n",
      "  File \"C:\\Users\\davul\\anaconda3\\lib\\site-packages\\sklearn\\metrics\\_scorer.py\", line 68, in _cached_call\n",
      "    return getattr(estimator, method)(*args, **kwargs)\n",
      "  File \"C:\\Users\\davul\\anaconda3\\lib\\site-packages\\scikeras\\wrappers.py\", line 1054, in predict\n",
      "    y_pred = self.target_encoder_.inverse_transform(y_pred)\n",
      "  File \"C:\\Users\\davul\\anaconda3\\lib\\site-packages\\scikeras\\utils\\transformers.py\", line 256, in inverse_transform\n",
      "    class_predictions = self._final_encoder.inverse_transform(class_predictions)\n",
      "  File \"C:\\Users\\davul\\anaconda3\\lib\\site-packages\\sklearn\\utils\\metaestimators.py\", line 113, in <lambda>\n",
      "    out = lambda *args, **kwargs: self.fn(obj, *args, **kwargs)  # noqa\n",
      "  File \"C:\\Users\\davul\\anaconda3\\lib\\site-packages\\sklearn\\pipeline.py\", line 675, in inverse_transform\n",
      "    Xt = transform.inverse_transform(Xt)\n",
      "  File \"C:\\Users\\davul\\anaconda3\\lib\\site-packages\\sklearn\\preprocessing\\_encoders.py\", line 990, in inverse_transform\n",
      "    X_tr[:, i] = self.categories_[i][labels]\n",
      "IndexError: index 6 is out of bounds for axis 0 with size 2\n",
      "\n",
      "  warnings.warn(\n"
     ]
    },
    {
     "name": "stdout",
     "output_type": "stream",
     "text": [
      "7/7 [==============================] - 0s 1ms/step\n",
      "7/7 [==============================] - 0s 1ms/step\n",
      "7/7 [==============================] - 0s 709us/step\n"
     ]
    },
    {
     "name": "stderr",
     "output_type": "stream",
     "text": [
      "C:\\Users\\davul\\anaconda3\\lib\\site-packages\\sklearn\\model_selection\\_validation.py:770: UserWarning: Scoring failed. The score on this train-test partition for these parameters will be set to nan. Details: \n",
      "Traceback (most recent call last):\n",
      "  File \"C:\\Users\\davul\\anaconda3\\lib\\site-packages\\sklearn\\model_selection\\_validation.py\", line 761, in _score\n",
      "    scores = scorer(estimator, X_test, y_test)\n",
      "  File \"C:\\Users\\davul\\anaconda3\\lib\\site-packages\\sklearn\\metrics\\_scorer.py\", line 216, in __call__\n",
      "    return self._score(\n",
      "  File \"C:\\Users\\davul\\anaconda3\\lib\\site-packages\\sklearn\\metrics\\_scorer.py\", line 258, in _score\n",
      "    y_pred = method_caller(estimator, \"predict\", X)\n",
      "  File \"C:\\Users\\davul\\anaconda3\\lib\\site-packages\\sklearn\\metrics\\_scorer.py\", line 68, in _cached_call\n",
      "    return getattr(estimator, method)(*args, **kwargs)\n",
      "  File \"C:\\Users\\davul\\anaconda3\\lib\\site-packages\\scikeras\\wrappers.py\", line 1054, in predict\n",
      "    y_pred = self.target_encoder_.inverse_transform(y_pred)\n",
      "  File \"C:\\Users\\davul\\anaconda3\\lib\\site-packages\\scikeras\\utils\\transformers.py\", line 256, in inverse_transform\n",
      "    class_predictions = self._final_encoder.inverse_transform(class_predictions)\n",
      "  File \"C:\\Users\\davul\\anaconda3\\lib\\site-packages\\sklearn\\utils\\metaestimators.py\", line 113, in <lambda>\n",
      "    out = lambda *args, **kwargs: self.fn(obj, *args, **kwargs)  # noqa\n",
      "  File \"C:\\Users\\davul\\anaconda3\\lib\\site-packages\\sklearn\\pipeline.py\", line 675, in inverse_transform\n",
      "    Xt = transform.inverse_transform(Xt)\n",
      "  File \"C:\\Users\\davul\\anaconda3\\lib\\site-packages\\sklearn\\preprocessing\\_encoders.py\", line 990, in inverse_transform\n",
      "    X_tr[:, i] = self.categories_[i][labels]\n",
      "IndexError: index 4 is out of bounds for axis 0 with size 2\n",
      "\n",
      "  warnings.warn(\n"
     ]
    },
    {
     "name": "stdout",
     "output_type": "stream",
     "text": [
      "7/7 [==============================] - 0s 982us/step\n",
      "7/7 [==============================] - 0s 1ms/step\n",
      "3/3 [==============================] - 0s 2ms/step\n"
     ]
    },
    {
     "name": "stderr",
     "output_type": "stream",
     "text": [
      "C:\\Users\\davul\\anaconda3\\lib\\site-packages\\sklearn\\model_selection\\_validation.py:770: UserWarning: Scoring failed. The score on this train-test partition for these parameters will be set to nan. Details: \n",
      "Traceback (most recent call last):\n",
      "  File \"C:\\Users\\davul\\anaconda3\\lib\\site-packages\\sklearn\\model_selection\\_validation.py\", line 761, in _score\n",
      "    scores = scorer(estimator, X_test, y_test)\n",
      "  File \"C:\\Users\\davul\\anaconda3\\lib\\site-packages\\sklearn\\metrics\\_scorer.py\", line 216, in __call__\n",
      "    return self._score(\n",
      "  File \"C:\\Users\\davul\\anaconda3\\lib\\site-packages\\sklearn\\metrics\\_scorer.py\", line 258, in _score\n",
      "    y_pred = method_caller(estimator, \"predict\", X)\n",
      "  File \"C:\\Users\\davul\\anaconda3\\lib\\site-packages\\sklearn\\metrics\\_scorer.py\", line 68, in _cached_call\n",
      "    return getattr(estimator, method)(*args, **kwargs)\n",
      "  File \"C:\\Users\\davul\\anaconda3\\lib\\site-packages\\scikeras\\wrappers.py\", line 1054, in predict\n",
      "    y_pred = self.target_encoder_.inverse_transform(y_pred)\n",
      "  File \"C:\\Users\\davul\\anaconda3\\lib\\site-packages\\scikeras\\utils\\transformers.py\", line 256, in inverse_transform\n",
      "    class_predictions = self._final_encoder.inverse_transform(class_predictions)\n",
      "  File \"C:\\Users\\davul\\anaconda3\\lib\\site-packages\\sklearn\\utils\\metaestimators.py\", line 113, in <lambda>\n",
      "    out = lambda *args, **kwargs: self.fn(obj, *args, **kwargs)  # noqa\n",
      "  File \"C:\\Users\\davul\\anaconda3\\lib\\site-packages\\sklearn\\pipeline.py\", line 675, in inverse_transform\n",
      "    Xt = transform.inverse_transform(Xt)\n",
      "  File \"C:\\Users\\davul\\anaconda3\\lib\\site-packages\\sklearn\\preprocessing\\_encoders.py\", line 990, in inverse_transform\n",
      "    X_tr[:, i] = self.categories_[i][labels]\n",
      "IndexError: index 7 is out of bounds for axis 0 with size 2\n",
      "\n",
      "  warnings.warn(\n"
     ]
    },
    {
     "name": "stdout",
     "output_type": "stream",
     "text": [
      "3/3 [==============================] - 0s 2ms/step\n"
     ]
    },
    {
     "name": "stderr",
     "output_type": "stream",
     "text": [
      "C:\\Users\\davul\\anaconda3\\lib\\site-packages\\sklearn\\model_selection\\_validation.py:770: UserWarning: Scoring failed. The score on this train-test partition for these parameters will be set to nan. Details: \n",
      "Traceback (most recent call last):\n",
      "  File \"C:\\Users\\davul\\anaconda3\\lib\\site-packages\\sklearn\\model_selection\\_validation.py\", line 761, in _score\n",
      "    scores = scorer(estimator, X_test, y_test)\n",
      "  File \"C:\\Users\\davul\\anaconda3\\lib\\site-packages\\sklearn\\metrics\\_scorer.py\", line 216, in __call__\n",
      "    return self._score(\n",
      "  File \"C:\\Users\\davul\\anaconda3\\lib\\site-packages\\sklearn\\metrics\\_scorer.py\", line 258, in _score\n",
      "    y_pred = method_caller(estimator, \"predict\", X)\n",
      "  File \"C:\\Users\\davul\\anaconda3\\lib\\site-packages\\sklearn\\metrics\\_scorer.py\", line 68, in _cached_call\n",
      "    return getattr(estimator, method)(*args, **kwargs)\n",
      "  File \"C:\\Users\\davul\\anaconda3\\lib\\site-packages\\scikeras\\wrappers.py\", line 1054, in predict\n",
      "    y_pred = self.target_encoder_.inverse_transform(y_pred)\n",
      "  File \"C:\\Users\\davul\\anaconda3\\lib\\site-packages\\scikeras\\utils\\transformers.py\", line 256, in inverse_transform\n",
      "    class_predictions = self._final_encoder.inverse_transform(class_predictions)\n",
      "  File \"C:\\Users\\davul\\anaconda3\\lib\\site-packages\\sklearn\\utils\\metaestimators.py\", line 113, in <lambda>\n",
      "    out = lambda *args, **kwargs: self.fn(obj, *args, **kwargs)  # noqa\n",
      "  File \"C:\\Users\\davul\\anaconda3\\lib\\site-packages\\sklearn\\pipeline.py\", line 675, in inverse_transform\n",
      "    Xt = transform.inverse_transform(Xt)\n",
      "  File \"C:\\Users\\davul\\anaconda3\\lib\\site-packages\\sklearn\\preprocessing\\_encoders.py\", line 990, in inverse_transform\n",
      "    X_tr[:, i] = self.categories_[i][labels]\n",
      "IndexError: index 5 is out of bounds for axis 0 with size 2\n",
      "\n",
      "  warnings.warn(\n"
     ]
    },
    {
     "name": "stdout",
     "output_type": "stream",
     "text": [
      "3/3 [==============================] - 0s 2ms/step\n"
     ]
    },
    {
     "name": "stderr",
     "output_type": "stream",
     "text": [
      "C:\\Users\\davul\\anaconda3\\lib\\site-packages\\sklearn\\model_selection\\_validation.py:770: UserWarning: Scoring failed. The score on this train-test partition for these parameters will be set to nan. Details: \n",
      "Traceback (most recent call last):\n",
      "  File \"C:\\Users\\davul\\anaconda3\\lib\\site-packages\\sklearn\\model_selection\\_validation.py\", line 761, in _score\n",
      "    scores = scorer(estimator, X_test, y_test)\n",
      "  File \"C:\\Users\\davul\\anaconda3\\lib\\site-packages\\sklearn\\metrics\\_scorer.py\", line 216, in __call__\n",
      "    return self._score(\n",
      "  File \"C:\\Users\\davul\\anaconda3\\lib\\site-packages\\sklearn\\metrics\\_scorer.py\", line 258, in _score\n",
      "    y_pred = method_caller(estimator, \"predict\", X)\n",
      "  File \"C:\\Users\\davul\\anaconda3\\lib\\site-packages\\sklearn\\metrics\\_scorer.py\", line 68, in _cached_call\n",
      "    return getattr(estimator, method)(*args, **kwargs)\n",
      "  File \"C:\\Users\\davul\\anaconda3\\lib\\site-packages\\scikeras\\wrappers.py\", line 1054, in predict\n",
      "    y_pred = self.target_encoder_.inverse_transform(y_pred)\n",
      "  File \"C:\\Users\\davul\\anaconda3\\lib\\site-packages\\scikeras\\utils\\transformers.py\", line 256, in inverse_transform\n",
      "    class_predictions = self._final_encoder.inverse_transform(class_predictions)\n",
      "  File \"C:\\Users\\davul\\anaconda3\\lib\\site-packages\\sklearn\\utils\\metaestimators.py\", line 113, in <lambda>\n",
      "    out = lambda *args, **kwargs: self.fn(obj, *args, **kwargs)  # noqa\n",
      "  File \"C:\\Users\\davul\\anaconda3\\lib\\site-packages\\sklearn\\pipeline.py\", line 675, in inverse_transform\n",
      "    Xt = transform.inverse_transform(Xt)\n",
      "  File \"C:\\Users\\davul\\anaconda3\\lib\\site-packages\\sklearn\\preprocessing\\_encoders.py\", line 990, in inverse_transform\n",
      "    X_tr[:, i] = self.categories_[i][labels]\n",
      "IndexError: index 3 is out of bounds for axis 0 with size 2\n",
      "\n",
      "  warnings.warn(\n"
     ]
    },
    {
     "name": "stdout",
     "output_type": "stream",
     "text": [
      "3/3 [==============================] - 0s 2ms/step\n",
      "3/3 [==============================] - 0s 2ms/step\n"
     ]
    },
    {
     "name": "stderr",
     "output_type": "stream",
     "text": [
      "C:\\Users\\davul\\anaconda3\\lib\\site-packages\\sklearn\\model_selection\\_validation.py:770: UserWarning: Scoring failed. The score on this train-test partition for these parameters will be set to nan. Details: \n",
      "Traceback (most recent call last):\n",
      "  File \"C:\\Users\\davul\\anaconda3\\lib\\site-packages\\sklearn\\model_selection\\_validation.py\", line 761, in _score\n",
      "    scores = scorer(estimator, X_test, y_test)\n",
      "  File \"C:\\Users\\davul\\anaconda3\\lib\\site-packages\\sklearn\\metrics\\_scorer.py\", line 216, in __call__\n",
      "    return self._score(\n",
      "  File \"C:\\Users\\davul\\anaconda3\\lib\\site-packages\\sklearn\\metrics\\_scorer.py\", line 258, in _score\n",
      "    y_pred = method_caller(estimator, \"predict\", X)\n",
      "  File \"C:\\Users\\davul\\anaconda3\\lib\\site-packages\\sklearn\\metrics\\_scorer.py\", line 68, in _cached_call\n",
      "    return getattr(estimator, method)(*args, **kwargs)\n",
      "  File \"C:\\Users\\davul\\anaconda3\\lib\\site-packages\\scikeras\\wrappers.py\", line 1054, in predict\n",
      "    y_pred = self.target_encoder_.inverse_transform(y_pred)\n",
      "  File \"C:\\Users\\davul\\anaconda3\\lib\\site-packages\\scikeras\\utils\\transformers.py\", line 256, in inverse_transform\n",
      "    class_predictions = self._final_encoder.inverse_transform(class_predictions)\n",
      "  File \"C:\\Users\\davul\\anaconda3\\lib\\site-packages\\sklearn\\utils\\metaestimators.py\", line 113, in <lambda>\n",
      "    out = lambda *args, **kwargs: self.fn(obj, *args, **kwargs)  # noqa\n",
      "  File \"C:\\Users\\davul\\anaconda3\\lib\\site-packages\\sklearn\\pipeline.py\", line 675, in inverse_transform\n",
      "    Xt = transform.inverse_transform(Xt)\n",
      "  File \"C:\\Users\\davul\\anaconda3\\lib\\site-packages\\sklearn\\preprocessing\\_encoders.py\", line 990, in inverse_transform\n",
      "    X_tr[:, i] = self.categories_[i][labels]\n",
      "IndexError: index 4 is out of bounds for axis 0 with size 2\n",
      "\n",
      "  warnings.warn(\n"
     ]
    },
    {
     "name": "stdout",
     "output_type": "stream",
     "text": [
      "2/2 [==============================] - 0s 2ms/step\n"
     ]
    },
    {
     "name": "stderr",
     "output_type": "stream",
     "text": [
      "C:\\Users\\davul\\anaconda3\\lib\\site-packages\\sklearn\\model_selection\\_validation.py:770: UserWarning: Scoring failed. The score on this train-test partition for these parameters will be set to nan. Details: \n",
      "Traceback (most recent call last):\n",
      "  File \"C:\\Users\\davul\\anaconda3\\lib\\site-packages\\sklearn\\model_selection\\_validation.py\", line 761, in _score\n",
      "    scores = scorer(estimator, X_test, y_test)\n",
      "  File \"C:\\Users\\davul\\anaconda3\\lib\\site-packages\\sklearn\\metrics\\_scorer.py\", line 216, in __call__\n",
      "    return self._score(\n",
      "  File \"C:\\Users\\davul\\anaconda3\\lib\\site-packages\\sklearn\\metrics\\_scorer.py\", line 258, in _score\n",
      "    y_pred = method_caller(estimator, \"predict\", X)\n",
      "  File \"C:\\Users\\davul\\anaconda3\\lib\\site-packages\\sklearn\\metrics\\_scorer.py\", line 68, in _cached_call\n",
      "    return getattr(estimator, method)(*args, **kwargs)\n",
      "  File \"C:\\Users\\davul\\anaconda3\\lib\\site-packages\\scikeras\\wrappers.py\", line 1054, in predict\n",
      "    y_pred = self.target_encoder_.inverse_transform(y_pred)\n",
      "  File \"C:\\Users\\davul\\anaconda3\\lib\\site-packages\\scikeras\\utils\\transformers.py\", line 256, in inverse_transform\n",
      "    class_predictions = self._final_encoder.inverse_transform(class_predictions)\n",
      "  File \"C:\\Users\\davul\\anaconda3\\lib\\site-packages\\sklearn\\utils\\metaestimators.py\", line 113, in <lambda>\n",
      "    out = lambda *args, **kwargs: self.fn(obj, *args, **kwargs)  # noqa\n",
      "  File \"C:\\Users\\davul\\anaconda3\\lib\\site-packages\\sklearn\\pipeline.py\", line 675, in inverse_transform\n",
      "    Xt = transform.inverse_transform(Xt)\n",
      "  File \"C:\\Users\\davul\\anaconda3\\lib\\site-packages\\sklearn\\preprocessing\\_encoders.py\", line 990, in inverse_transform\n",
      "    X_tr[:, i] = self.categories_[i][labels]\n",
      "IndexError: index 4 is out of bounds for axis 0 with size 2\n",
      "\n",
      "  warnings.warn(\n"
     ]
    },
    {
     "name": "stdout",
     "output_type": "stream",
     "text": [
      "2/2 [==============================] - 0s 4ms/step\n"
     ]
    },
    {
     "name": "stderr",
     "output_type": "stream",
     "text": [
      "C:\\Users\\davul\\anaconda3\\lib\\site-packages\\sklearn\\model_selection\\_validation.py:770: UserWarning: Scoring failed. The score on this train-test partition for these parameters will be set to nan. Details: \n",
      "Traceback (most recent call last):\n",
      "  File \"C:\\Users\\davul\\anaconda3\\lib\\site-packages\\sklearn\\model_selection\\_validation.py\", line 761, in _score\n",
      "    scores = scorer(estimator, X_test, y_test)\n",
      "  File \"C:\\Users\\davul\\anaconda3\\lib\\site-packages\\sklearn\\metrics\\_scorer.py\", line 216, in __call__\n",
      "    return self._score(\n",
      "  File \"C:\\Users\\davul\\anaconda3\\lib\\site-packages\\sklearn\\metrics\\_scorer.py\", line 258, in _score\n",
      "    y_pred = method_caller(estimator, \"predict\", X)\n",
      "  File \"C:\\Users\\davul\\anaconda3\\lib\\site-packages\\sklearn\\metrics\\_scorer.py\", line 68, in _cached_call\n",
      "    return getattr(estimator, method)(*args, **kwargs)\n",
      "  File \"C:\\Users\\davul\\anaconda3\\lib\\site-packages\\scikeras\\wrappers.py\", line 1054, in predict\n",
      "    y_pred = self.target_encoder_.inverse_transform(y_pred)\n",
      "  File \"C:\\Users\\davul\\anaconda3\\lib\\site-packages\\scikeras\\utils\\transformers.py\", line 256, in inverse_transform\n",
      "    class_predictions = self._final_encoder.inverse_transform(class_predictions)\n",
      "  File \"C:\\Users\\davul\\anaconda3\\lib\\site-packages\\sklearn\\utils\\metaestimators.py\", line 113, in <lambda>\n",
      "    out = lambda *args, **kwargs: self.fn(obj, *args, **kwargs)  # noqa\n",
      "  File \"C:\\Users\\davul\\anaconda3\\lib\\site-packages\\sklearn\\pipeline.py\", line 675, in inverse_transform\n",
      "    Xt = transform.inverse_transform(Xt)\n",
      "  File \"C:\\Users\\davul\\anaconda3\\lib\\site-packages\\sklearn\\preprocessing\\_encoders.py\", line 990, in inverse_transform\n",
      "    X_tr[:, i] = self.categories_[i][labels]\n",
      "IndexError: index 3 is out of bounds for axis 0 with size 2\n",
      "\n",
      "  warnings.warn(\n"
     ]
    },
    {
     "name": "stdout",
     "output_type": "stream",
     "text": [
      "2/2 [==============================] - 0s 3ms/step\n"
     ]
    },
    {
     "name": "stderr",
     "output_type": "stream",
     "text": [
      "C:\\Users\\davul\\anaconda3\\lib\\site-packages\\sklearn\\model_selection\\_validation.py:770: UserWarning: Scoring failed. The score on this train-test partition for these parameters will be set to nan. Details: \n",
      "Traceback (most recent call last):\n",
      "  File \"C:\\Users\\davul\\anaconda3\\lib\\site-packages\\sklearn\\model_selection\\_validation.py\", line 761, in _score\n",
      "    scores = scorer(estimator, X_test, y_test)\n",
      "  File \"C:\\Users\\davul\\anaconda3\\lib\\site-packages\\sklearn\\metrics\\_scorer.py\", line 216, in __call__\n",
      "    return self._score(\n",
      "  File \"C:\\Users\\davul\\anaconda3\\lib\\site-packages\\sklearn\\metrics\\_scorer.py\", line 258, in _score\n",
      "    y_pred = method_caller(estimator, \"predict\", X)\n",
      "  File \"C:\\Users\\davul\\anaconda3\\lib\\site-packages\\sklearn\\metrics\\_scorer.py\", line 68, in _cached_call\n",
      "    return getattr(estimator, method)(*args, **kwargs)\n",
      "  File \"C:\\Users\\davul\\anaconda3\\lib\\site-packages\\scikeras\\wrappers.py\", line 1054, in predict\n",
      "    y_pred = self.target_encoder_.inverse_transform(y_pred)\n",
      "  File \"C:\\Users\\davul\\anaconda3\\lib\\site-packages\\scikeras\\utils\\transformers.py\", line 256, in inverse_transform\n",
      "    class_predictions = self._final_encoder.inverse_transform(class_predictions)\n",
      "  File \"C:\\Users\\davul\\anaconda3\\lib\\site-packages\\sklearn\\utils\\metaestimators.py\", line 113, in <lambda>\n",
      "    out = lambda *args, **kwargs: self.fn(obj, *args, **kwargs)  # noqa\n",
      "  File \"C:\\Users\\davul\\anaconda3\\lib\\site-packages\\sklearn\\pipeline.py\", line 675, in inverse_transform\n",
      "    Xt = transform.inverse_transform(Xt)\n",
      "  File \"C:\\Users\\davul\\anaconda3\\lib\\site-packages\\sklearn\\preprocessing\\_encoders.py\", line 990, in inverse_transform\n",
      "    X_tr[:, i] = self.categories_[i][labels]\n",
      "IndexError: index 5 is out of bounds for axis 0 with size 2\n",
      "\n",
      "  warnings.warn(\n"
     ]
    },
    {
     "name": "stdout",
     "output_type": "stream",
     "text": [
      "2/2 [==============================] - 0s 2ms/step\n"
     ]
    },
    {
     "name": "stderr",
     "output_type": "stream",
     "text": [
      "C:\\Users\\davul\\anaconda3\\lib\\site-packages\\sklearn\\model_selection\\_validation.py:770: UserWarning: Scoring failed. The score on this train-test partition for these parameters will be set to nan. Details: \n",
      "Traceback (most recent call last):\n",
      "  File \"C:\\Users\\davul\\anaconda3\\lib\\site-packages\\sklearn\\model_selection\\_validation.py\", line 761, in _score\n",
      "    scores = scorer(estimator, X_test, y_test)\n",
      "  File \"C:\\Users\\davul\\anaconda3\\lib\\site-packages\\sklearn\\metrics\\_scorer.py\", line 216, in __call__\n",
      "    return self._score(\n",
      "  File \"C:\\Users\\davul\\anaconda3\\lib\\site-packages\\sklearn\\metrics\\_scorer.py\", line 258, in _score\n",
      "    y_pred = method_caller(estimator, \"predict\", X)\n",
      "  File \"C:\\Users\\davul\\anaconda3\\lib\\site-packages\\sklearn\\metrics\\_scorer.py\", line 68, in _cached_call\n",
      "    return getattr(estimator, method)(*args, **kwargs)\n",
      "  File \"C:\\Users\\davul\\anaconda3\\lib\\site-packages\\scikeras\\wrappers.py\", line 1054, in predict\n",
      "    y_pred = self.target_encoder_.inverse_transform(y_pred)\n",
      "  File \"C:\\Users\\davul\\anaconda3\\lib\\site-packages\\scikeras\\utils\\transformers.py\", line 256, in inverse_transform\n",
      "    class_predictions = self._final_encoder.inverse_transform(class_predictions)\n",
      "  File \"C:\\Users\\davul\\anaconda3\\lib\\site-packages\\sklearn\\utils\\metaestimators.py\", line 113, in <lambda>\n",
      "    out = lambda *args, **kwargs: self.fn(obj, *args, **kwargs)  # noqa\n",
      "  File \"C:\\Users\\davul\\anaconda3\\lib\\site-packages\\sklearn\\pipeline.py\", line 675, in inverse_transform\n",
      "    Xt = transform.inverse_transform(Xt)\n",
      "  File \"C:\\Users\\davul\\anaconda3\\lib\\site-packages\\sklearn\\preprocessing\\_encoders.py\", line 990, in inverse_transform\n",
      "    X_tr[:, i] = self.categories_[i][labels]\n",
      "IndexError: index 2 is out of bounds for axis 0 with size 2\n",
      "\n",
      "  warnings.warn(\n"
     ]
    },
    {
     "name": "stdout",
     "output_type": "stream",
     "text": [
      "2/2 [==============================] - 0s 2ms/step\n"
     ]
    },
    {
     "name": "stderr",
     "output_type": "stream",
     "text": [
      "C:\\Users\\davul\\anaconda3\\lib\\site-packages\\sklearn\\model_selection\\_validation.py:770: UserWarning: Scoring failed. The score on this train-test partition for these parameters will be set to nan. Details: \n",
      "Traceback (most recent call last):\n",
      "  File \"C:\\Users\\davul\\anaconda3\\lib\\site-packages\\sklearn\\model_selection\\_validation.py\", line 761, in _score\n",
      "    scores = scorer(estimator, X_test, y_test)\n",
      "  File \"C:\\Users\\davul\\anaconda3\\lib\\site-packages\\sklearn\\metrics\\_scorer.py\", line 216, in __call__\n",
      "    return self._score(\n",
      "  File \"C:\\Users\\davul\\anaconda3\\lib\\site-packages\\sklearn\\metrics\\_scorer.py\", line 258, in _score\n",
      "    y_pred = method_caller(estimator, \"predict\", X)\n",
      "  File \"C:\\Users\\davul\\anaconda3\\lib\\site-packages\\sklearn\\metrics\\_scorer.py\", line 68, in _cached_call\n",
      "    return getattr(estimator, method)(*args, **kwargs)\n",
      "  File \"C:\\Users\\davul\\anaconda3\\lib\\site-packages\\scikeras\\wrappers.py\", line 1054, in predict\n",
      "    y_pred = self.target_encoder_.inverse_transform(y_pred)\n",
      "  File \"C:\\Users\\davul\\anaconda3\\lib\\site-packages\\scikeras\\utils\\transformers.py\", line 256, in inverse_transform\n",
      "    class_predictions = self._final_encoder.inverse_transform(class_predictions)\n",
      "  File \"C:\\Users\\davul\\anaconda3\\lib\\site-packages\\sklearn\\utils\\metaestimators.py\", line 113, in <lambda>\n",
      "    out = lambda *args, **kwargs: self.fn(obj, *args, **kwargs)  # noqa\n",
      "  File \"C:\\Users\\davul\\anaconda3\\lib\\site-packages\\sklearn\\pipeline.py\", line 675, in inverse_transform\n",
      "    Xt = transform.inverse_transform(Xt)\n",
      "  File \"C:\\Users\\davul\\anaconda3\\lib\\site-packages\\sklearn\\preprocessing\\_encoders.py\", line 990, in inverse_transform\n",
      "    X_tr[:, i] = self.categories_[i][labels]\n",
      "IndexError: index 7 is out of bounds for axis 0 with size 2\n",
      "\n",
      "  warnings.warn(\n"
     ]
    },
    {
     "name": "stdout",
     "output_type": "stream",
     "text": [
      "2/2 [==============================] - 0s 2ms/step\n"
     ]
    },
    {
     "name": "stderr",
     "output_type": "stream",
     "text": [
      "C:\\Users\\davul\\anaconda3\\lib\\site-packages\\sklearn\\model_selection\\_validation.py:770: UserWarning: Scoring failed. The score on this train-test partition for these parameters will be set to nan. Details: \n",
      "Traceback (most recent call last):\n",
      "  File \"C:\\Users\\davul\\anaconda3\\lib\\site-packages\\sklearn\\model_selection\\_validation.py\", line 761, in _score\n",
      "    scores = scorer(estimator, X_test, y_test)\n",
      "  File \"C:\\Users\\davul\\anaconda3\\lib\\site-packages\\sklearn\\metrics\\_scorer.py\", line 216, in __call__\n",
      "    return self._score(\n",
      "  File \"C:\\Users\\davul\\anaconda3\\lib\\site-packages\\sklearn\\metrics\\_scorer.py\", line 258, in _score\n",
      "    y_pred = method_caller(estimator, \"predict\", X)\n",
      "  File \"C:\\Users\\davul\\anaconda3\\lib\\site-packages\\sklearn\\metrics\\_scorer.py\", line 68, in _cached_call\n",
      "    return getattr(estimator, method)(*args, **kwargs)\n",
      "  File \"C:\\Users\\davul\\anaconda3\\lib\\site-packages\\scikeras\\wrappers.py\", line 1054, in predict\n",
      "    y_pred = self.target_encoder_.inverse_transform(y_pred)\n",
      "  File \"C:\\Users\\davul\\anaconda3\\lib\\site-packages\\scikeras\\utils\\transformers.py\", line 256, in inverse_transform\n",
      "    class_predictions = self._final_encoder.inverse_transform(class_predictions)\n",
      "  File \"C:\\Users\\davul\\anaconda3\\lib\\site-packages\\sklearn\\utils\\metaestimators.py\", line 113, in <lambda>\n",
      "    out = lambda *args, **kwargs: self.fn(obj, *args, **kwargs)  # noqa\n",
      "  File \"C:\\Users\\davul\\anaconda3\\lib\\site-packages\\sklearn\\pipeline.py\", line 675, in inverse_transform\n",
      "    Xt = transform.inverse_transform(Xt)\n",
      "  File \"C:\\Users\\davul\\anaconda3\\lib\\site-packages\\sklearn\\preprocessing\\_encoders.py\", line 990, in inverse_transform\n",
      "    X_tr[:, i] = self.categories_[i][labels]\n",
      "IndexError: index 6 is out of bounds for axis 0 with size 2\n",
      "\n",
      "  warnings.warn(\n"
     ]
    },
    {
     "name": "stdout",
     "output_type": "stream",
     "text": [
      "2/2 [==============================] - 0s 1ms/step\n"
     ]
    },
    {
     "name": "stderr",
     "output_type": "stream",
     "text": [
      "C:\\Users\\davul\\anaconda3\\lib\\site-packages\\sklearn\\model_selection\\_validation.py:770: UserWarning: Scoring failed. The score on this train-test partition for these parameters will be set to nan. Details: \n",
      "Traceback (most recent call last):\n",
      "  File \"C:\\Users\\davul\\anaconda3\\lib\\site-packages\\sklearn\\model_selection\\_validation.py\", line 761, in _score\n",
      "    scores = scorer(estimator, X_test, y_test)\n",
      "  File \"C:\\Users\\davul\\anaconda3\\lib\\site-packages\\sklearn\\metrics\\_scorer.py\", line 216, in __call__\n",
      "    return self._score(\n",
      "  File \"C:\\Users\\davul\\anaconda3\\lib\\site-packages\\sklearn\\metrics\\_scorer.py\", line 258, in _score\n",
      "    y_pred = method_caller(estimator, \"predict\", X)\n",
      "  File \"C:\\Users\\davul\\anaconda3\\lib\\site-packages\\sklearn\\metrics\\_scorer.py\", line 68, in _cached_call\n",
      "    return getattr(estimator, method)(*args, **kwargs)\n",
      "  File \"C:\\Users\\davul\\anaconda3\\lib\\site-packages\\scikeras\\wrappers.py\", line 1054, in predict\n",
      "    y_pred = self.target_encoder_.inverse_transform(y_pred)\n",
      "  File \"C:\\Users\\davul\\anaconda3\\lib\\site-packages\\scikeras\\utils\\transformers.py\", line 256, in inverse_transform\n",
      "    class_predictions = self._final_encoder.inverse_transform(class_predictions)\n",
      "  File \"C:\\Users\\davul\\anaconda3\\lib\\site-packages\\sklearn\\utils\\metaestimators.py\", line 113, in <lambda>\n",
      "    out = lambda *args, **kwargs: self.fn(obj, *args, **kwargs)  # noqa\n",
      "  File \"C:\\Users\\davul\\anaconda3\\lib\\site-packages\\sklearn\\pipeline.py\", line 675, in inverse_transform\n",
      "    Xt = transform.inverse_transform(Xt)\n",
      "  File \"C:\\Users\\davul\\anaconda3\\lib\\site-packages\\sklearn\\preprocessing\\_encoders.py\", line 990, in inverse_transform\n",
      "    X_tr[:, i] = self.categories_[i][labels]\n",
      "IndexError: index 2 is out of bounds for axis 0 with size 2\n",
      "\n",
      "  warnings.warn(\n"
     ]
    },
    {
     "name": "stdout",
     "output_type": "stream",
     "text": [
      "2/2 [==============================] - 0s 2ms/step\n"
     ]
    },
    {
     "name": "stderr",
     "output_type": "stream",
     "text": [
      "C:\\Users\\davul\\anaconda3\\lib\\site-packages\\sklearn\\model_selection\\_validation.py:770: UserWarning: Scoring failed. The score on this train-test partition for these parameters will be set to nan. Details: \n",
      "Traceback (most recent call last):\n",
      "  File \"C:\\Users\\davul\\anaconda3\\lib\\site-packages\\sklearn\\model_selection\\_validation.py\", line 761, in _score\n",
      "    scores = scorer(estimator, X_test, y_test)\n",
      "  File \"C:\\Users\\davul\\anaconda3\\lib\\site-packages\\sklearn\\metrics\\_scorer.py\", line 216, in __call__\n",
      "    return self._score(\n",
      "  File \"C:\\Users\\davul\\anaconda3\\lib\\site-packages\\sklearn\\metrics\\_scorer.py\", line 258, in _score\n",
      "    y_pred = method_caller(estimator, \"predict\", X)\n",
      "  File \"C:\\Users\\davul\\anaconda3\\lib\\site-packages\\sklearn\\metrics\\_scorer.py\", line 68, in _cached_call\n",
      "    return getattr(estimator, method)(*args, **kwargs)\n",
      "  File \"C:\\Users\\davul\\anaconda3\\lib\\site-packages\\scikeras\\wrappers.py\", line 1054, in predict\n",
      "    y_pred = self.target_encoder_.inverse_transform(y_pred)\n",
      "  File \"C:\\Users\\davul\\anaconda3\\lib\\site-packages\\scikeras\\utils\\transformers.py\", line 256, in inverse_transform\n",
      "    class_predictions = self._final_encoder.inverse_transform(class_predictions)\n",
      "  File \"C:\\Users\\davul\\anaconda3\\lib\\site-packages\\sklearn\\utils\\metaestimators.py\", line 113, in <lambda>\n",
      "    out = lambda *args, **kwargs: self.fn(obj, *args, **kwargs)  # noqa\n",
      "  File \"C:\\Users\\davul\\anaconda3\\lib\\site-packages\\sklearn\\pipeline.py\", line 675, in inverse_transform\n",
      "    Xt = transform.inverse_transform(Xt)\n",
      "  File \"C:\\Users\\davul\\anaconda3\\lib\\site-packages\\sklearn\\preprocessing\\_encoders.py\", line 990, in inverse_transform\n",
      "    X_tr[:, i] = self.categories_[i][labels]\n",
      "IndexError: index 6 is out of bounds for axis 0 with size 2\n",
      "\n",
      "  warnings.warn(\n"
     ]
    },
    {
     "name": "stdout",
     "output_type": "stream",
     "text": [
      "2/2 [==============================] - 0s 1ms/step\n"
     ]
    },
    {
     "name": "stderr",
     "output_type": "stream",
     "text": [
      "C:\\Users\\davul\\anaconda3\\lib\\site-packages\\sklearn\\model_selection\\_validation.py:770: UserWarning: Scoring failed. The score on this train-test partition for these parameters will be set to nan. Details: \n",
      "Traceback (most recent call last):\n",
      "  File \"C:\\Users\\davul\\anaconda3\\lib\\site-packages\\sklearn\\model_selection\\_validation.py\", line 761, in _score\n",
      "    scores = scorer(estimator, X_test, y_test)\n",
      "  File \"C:\\Users\\davul\\anaconda3\\lib\\site-packages\\sklearn\\metrics\\_scorer.py\", line 216, in __call__\n",
      "    return self._score(\n",
      "  File \"C:\\Users\\davul\\anaconda3\\lib\\site-packages\\sklearn\\metrics\\_scorer.py\", line 258, in _score\n",
      "    y_pred = method_caller(estimator, \"predict\", X)\n",
      "  File \"C:\\Users\\davul\\anaconda3\\lib\\site-packages\\sklearn\\metrics\\_scorer.py\", line 68, in _cached_call\n",
      "    return getattr(estimator, method)(*args, **kwargs)\n",
      "  File \"C:\\Users\\davul\\anaconda3\\lib\\site-packages\\scikeras\\wrappers.py\", line 1054, in predict\n",
      "    y_pred = self.target_encoder_.inverse_transform(y_pred)\n",
      "  File \"C:\\Users\\davul\\anaconda3\\lib\\site-packages\\scikeras\\utils\\transformers.py\", line 256, in inverse_transform\n",
      "    class_predictions = self._final_encoder.inverse_transform(class_predictions)\n",
      "  File \"C:\\Users\\davul\\anaconda3\\lib\\site-packages\\sklearn\\utils\\metaestimators.py\", line 113, in <lambda>\n",
      "    out = lambda *args, **kwargs: self.fn(obj, *args, **kwargs)  # noqa\n",
      "  File \"C:\\Users\\davul\\anaconda3\\lib\\site-packages\\sklearn\\pipeline.py\", line 675, in inverse_transform\n",
      "    Xt = transform.inverse_transform(Xt)\n",
      "  File \"C:\\Users\\davul\\anaconda3\\lib\\site-packages\\sklearn\\preprocessing\\_encoders.py\", line 990, in inverse_transform\n",
      "    X_tr[:, i] = self.categories_[i][labels]\n",
      "IndexError: index 2 is out of bounds for axis 0 with size 2\n",
      "\n",
      "  warnings.warn(\n"
     ]
    },
    {
     "name": "stdout",
     "output_type": "stream",
     "text": [
      "2/2 [==============================] - 0s 2ms/step\n"
     ]
    },
    {
     "name": "stderr",
     "output_type": "stream",
     "text": [
      "C:\\Users\\davul\\anaconda3\\lib\\site-packages\\sklearn\\model_selection\\_validation.py:770: UserWarning: Scoring failed. The score on this train-test partition for these parameters will be set to nan. Details: \n",
      "Traceback (most recent call last):\n",
      "  File \"C:\\Users\\davul\\anaconda3\\lib\\site-packages\\sklearn\\model_selection\\_validation.py\", line 761, in _score\n",
      "    scores = scorer(estimator, X_test, y_test)\n",
      "  File \"C:\\Users\\davul\\anaconda3\\lib\\site-packages\\sklearn\\metrics\\_scorer.py\", line 216, in __call__\n",
      "    return self._score(\n",
      "  File \"C:\\Users\\davul\\anaconda3\\lib\\site-packages\\sklearn\\metrics\\_scorer.py\", line 258, in _score\n",
      "    y_pred = method_caller(estimator, \"predict\", X)\n",
      "  File \"C:\\Users\\davul\\anaconda3\\lib\\site-packages\\sklearn\\metrics\\_scorer.py\", line 68, in _cached_call\n",
      "    return getattr(estimator, method)(*args, **kwargs)\n",
      "  File \"C:\\Users\\davul\\anaconda3\\lib\\site-packages\\scikeras\\wrappers.py\", line 1054, in predict\n",
      "    y_pred = self.target_encoder_.inverse_transform(y_pred)\n",
      "  File \"C:\\Users\\davul\\anaconda3\\lib\\site-packages\\scikeras\\utils\\transformers.py\", line 256, in inverse_transform\n",
      "    class_predictions = self._final_encoder.inverse_transform(class_predictions)\n",
      "  File \"C:\\Users\\davul\\anaconda3\\lib\\site-packages\\sklearn\\utils\\metaestimators.py\", line 113, in <lambda>\n",
      "    out = lambda *args, **kwargs: self.fn(obj, *args, **kwargs)  # noqa\n",
      "  File \"C:\\Users\\davul\\anaconda3\\lib\\site-packages\\sklearn\\pipeline.py\", line 675, in inverse_transform\n",
      "    Xt = transform.inverse_transform(Xt)\n",
      "  File \"C:\\Users\\davul\\anaconda3\\lib\\site-packages\\sklearn\\preprocessing\\_encoders.py\", line 990, in inverse_transform\n",
      "    X_tr[:, i] = self.categories_[i][labels]\n",
      "IndexError: index 7 is out of bounds for axis 0 with size 2\n",
      "\n",
      "  warnings.warn(\n"
     ]
    },
    {
     "name": "stdout",
     "output_type": "stream",
     "text": [
      "2/2 [==============================] - 0s 3ms/step\n",
      "2/2 [==============================] - 0s 3ms/step\n"
     ]
    },
    {
     "name": "stderr",
     "output_type": "stream",
     "text": [
      "C:\\Users\\davul\\anaconda3\\lib\\site-packages\\sklearn\\model_selection\\_validation.py:770: UserWarning: Scoring failed. The score on this train-test partition for these parameters will be set to nan. Details: \n",
      "Traceback (most recent call last):\n",
      "  File \"C:\\Users\\davul\\anaconda3\\lib\\site-packages\\sklearn\\model_selection\\_validation.py\", line 761, in _score\n",
      "    scores = scorer(estimator, X_test, y_test)\n",
      "  File \"C:\\Users\\davul\\anaconda3\\lib\\site-packages\\sklearn\\metrics\\_scorer.py\", line 216, in __call__\n",
      "    return self._score(\n",
      "  File \"C:\\Users\\davul\\anaconda3\\lib\\site-packages\\sklearn\\metrics\\_scorer.py\", line 258, in _score\n",
      "    y_pred = method_caller(estimator, \"predict\", X)\n",
      "  File \"C:\\Users\\davul\\anaconda3\\lib\\site-packages\\sklearn\\metrics\\_scorer.py\", line 68, in _cached_call\n",
      "    return getattr(estimator, method)(*args, **kwargs)\n",
      "  File \"C:\\Users\\davul\\anaconda3\\lib\\site-packages\\scikeras\\wrappers.py\", line 1054, in predict\n",
      "    y_pred = self.target_encoder_.inverse_transform(y_pred)\n",
      "  File \"C:\\Users\\davul\\anaconda3\\lib\\site-packages\\scikeras\\utils\\transformers.py\", line 256, in inverse_transform\n",
      "    class_predictions = self._final_encoder.inverse_transform(class_predictions)\n",
      "  File \"C:\\Users\\davul\\anaconda3\\lib\\site-packages\\sklearn\\utils\\metaestimators.py\", line 113, in <lambda>\n",
      "    out = lambda *args, **kwargs: self.fn(obj, *args, **kwargs)  # noqa\n",
      "  File \"C:\\Users\\davul\\anaconda3\\lib\\site-packages\\sklearn\\pipeline.py\", line 675, in inverse_transform\n",
      "    Xt = transform.inverse_transform(Xt)\n",
      "  File \"C:\\Users\\davul\\anaconda3\\lib\\site-packages\\sklearn\\preprocessing\\_encoders.py\", line 990, in inverse_transform\n",
      "    X_tr[:, i] = self.categories_[i][labels]\n",
      "IndexError: index 6 is out of bounds for axis 0 with size 2\n",
      "\n",
      "  warnings.warn(\n"
     ]
    },
    {
     "name": "stdout",
     "output_type": "stream",
     "text": [
      "2/2 [==============================] - 0s 2ms/step\n"
     ]
    },
    {
     "name": "stderr",
     "output_type": "stream",
     "text": [
      "C:\\Users\\davul\\anaconda3\\lib\\site-packages\\sklearn\\model_selection\\_validation.py:770: UserWarning: Scoring failed. The score on this train-test partition for these parameters will be set to nan. Details: \n",
      "Traceback (most recent call last):\n",
      "  File \"C:\\Users\\davul\\anaconda3\\lib\\site-packages\\sklearn\\model_selection\\_validation.py\", line 761, in _score\n",
      "    scores = scorer(estimator, X_test, y_test)\n",
      "  File \"C:\\Users\\davul\\anaconda3\\lib\\site-packages\\sklearn\\metrics\\_scorer.py\", line 216, in __call__\n",
      "    return self._score(\n",
      "  File \"C:\\Users\\davul\\anaconda3\\lib\\site-packages\\sklearn\\metrics\\_scorer.py\", line 258, in _score\n",
      "    y_pred = method_caller(estimator, \"predict\", X)\n",
      "  File \"C:\\Users\\davul\\anaconda3\\lib\\site-packages\\sklearn\\metrics\\_scorer.py\", line 68, in _cached_call\n",
      "    return getattr(estimator, method)(*args, **kwargs)\n",
      "  File \"C:\\Users\\davul\\anaconda3\\lib\\site-packages\\scikeras\\wrappers.py\", line 1054, in predict\n",
      "    y_pred = self.target_encoder_.inverse_transform(y_pred)\n",
      "  File \"C:\\Users\\davul\\anaconda3\\lib\\site-packages\\scikeras\\utils\\transformers.py\", line 256, in inverse_transform\n",
      "    class_predictions = self._final_encoder.inverse_transform(class_predictions)\n",
      "  File \"C:\\Users\\davul\\anaconda3\\lib\\site-packages\\sklearn\\utils\\metaestimators.py\", line 113, in <lambda>\n",
      "    out = lambda *args, **kwargs: self.fn(obj, *args, **kwargs)  # noqa\n",
      "  File \"C:\\Users\\davul\\anaconda3\\lib\\site-packages\\sklearn\\pipeline.py\", line 675, in inverse_transform\n",
      "    Xt = transform.inverse_transform(Xt)\n",
      "  File \"C:\\Users\\davul\\anaconda3\\lib\\site-packages\\sklearn\\preprocessing\\_encoders.py\", line 990, in inverse_transform\n",
      "    X_tr[:, i] = self.categories_[i][labels]\n",
      "IndexError: index 6 is out of bounds for axis 0 with size 2\n",
      "\n",
      "  warnings.warn(\n"
     ]
    },
    {
     "name": "stdout",
     "output_type": "stream",
     "text": [
      "2/2 [==============================] - 0s 3ms/step\n",
      "2/2 [==============================] - 0s 2ms/step\n",
      "2/2 [==============================] - 0s 2ms/step\n"
     ]
    },
    {
     "name": "stderr",
     "output_type": "stream",
     "text": [
      "C:\\Users\\davul\\anaconda3\\lib\\site-packages\\sklearn\\model_selection\\_validation.py:770: UserWarning: Scoring failed. The score on this train-test partition for these parameters will be set to nan. Details: \n",
      "Traceback (most recent call last):\n",
      "  File \"C:\\Users\\davul\\anaconda3\\lib\\site-packages\\sklearn\\model_selection\\_validation.py\", line 761, in _score\n",
      "    scores = scorer(estimator, X_test, y_test)\n",
      "  File \"C:\\Users\\davul\\anaconda3\\lib\\site-packages\\sklearn\\metrics\\_scorer.py\", line 216, in __call__\n",
      "    return self._score(\n",
      "  File \"C:\\Users\\davul\\anaconda3\\lib\\site-packages\\sklearn\\metrics\\_scorer.py\", line 258, in _score\n",
      "    y_pred = method_caller(estimator, \"predict\", X)\n",
      "  File \"C:\\Users\\davul\\anaconda3\\lib\\site-packages\\sklearn\\metrics\\_scorer.py\", line 68, in _cached_call\n",
      "    return getattr(estimator, method)(*args, **kwargs)\n",
      "  File \"C:\\Users\\davul\\anaconda3\\lib\\site-packages\\scikeras\\wrappers.py\", line 1054, in predict\n",
      "    y_pred = self.target_encoder_.inverse_transform(y_pred)\n",
      "  File \"C:\\Users\\davul\\anaconda3\\lib\\site-packages\\scikeras\\utils\\transformers.py\", line 256, in inverse_transform\n",
      "    class_predictions = self._final_encoder.inverse_transform(class_predictions)\n",
      "  File \"C:\\Users\\davul\\anaconda3\\lib\\site-packages\\sklearn\\utils\\metaestimators.py\", line 113, in <lambda>\n",
      "    out = lambda *args, **kwargs: self.fn(obj, *args, **kwargs)  # noqa\n",
      "  File \"C:\\Users\\davul\\anaconda3\\lib\\site-packages\\sklearn\\pipeline.py\", line 675, in inverse_transform\n",
      "    Xt = transform.inverse_transform(Xt)\n",
      "  File \"C:\\Users\\davul\\anaconda3\\lib\\site-packages\\sklearn\\preprocessing\\_encoders.py\", line 990, in inverse_transform\n",
      "    X_tr[:, i] = self.categories_[i][labels]\n",
      "IndexError: index 8 is out of bounds for axis 0 with size 2\n",
      "\n",
      "  warnings.warn(\n"
     ]
    },
    {
     "name": "stdout",
     "output_type": "stream",
     "text": [
      "2/2 [==============================] - 0s 1ms/step\n"
     ]
    },
    {
     "name": "stderr",
     "output_type": "stream",
     "text": [
      "C:\\Users\\davul\\anaconda3\\lib\\site-packages\\sklearn\\model_selection\\_validation.py:770: UserWarning: Scoring failed. The score on this train-test partition for these parameters will be set to nan. Details: \n",
      "Traceback (most recent call last):\n",
      "  File \"C:\\Users\\davul\\anaconda3\\lib\\site-packages\\sklearn\\model_selection\\_validation.py\", line 761, in _score\n",
      "    scores = scorer(estimator, X_test, y_test)\n",
      "  File \"C:\\Users\\davul\\anaconda3\\lib\\site-packages\\sklearn\\metrics\\_scorer.py\", line 216, in __call__\n",
      "    return self._score(\n",
      "  File \"C:\\Users\\davul\\anaconda3\\lib\\site-packages\\sklearn\\metrics\\_scorer.py\", line 258, in _score\n",
      "    y_pred = method_caller(estimator, \"predict\", X)\n",
      "  File \"C:\\Users\\davul\\anaconda3\\lib\\site-packages\\sklearn\\metrics\\_scorer.py\", line 68, in _cached_call\n",
      "    return getattr(estimator, method)(*args, **kwargs)\n",
      "  File \"C:\\Users\\davul\\anaconda3\\lib\\site-packages\\scikeras\\wrappers.py\", line 1054, in predict\n",
      "    y_pred = self.target_encoder_.inverse_transform(y_pred)\n",
      "  File \"C:\\Users\\davul\\anaconda3\\lib\\site-packages\\scikeras\\utils\\transformers.py\", line 256, in inverse_transform\n",
      "    class_predictions = self._final_encoder.inverse_transform(class_predictions)\n",
      "  File \"C:\\Users\\davul\\anaconda3\\lib\\site-packages\\sklearn\\utils\\metaestimators.py\", line 113, in <lambda>\n",
      "    out = lambda *args, **kwargs: self.fn(obj, *args, **kwargs)  # noqa\n",
      "  File \"C:\\Users\\davul\\anaconda3\\lib\\site-packages\\sklearn\\pipeline.py\", line 675, in inverse_transform\n",
      "    Xt = transform.inverse_transform(Xt)\n",
      "  File \"C:\\Users\\davul\\anaconda3\\lib\\site-packages\\sklearn\\preprocessing\\_encoders.py\", line 990, in inverse_transform\n",
      "    X_tr[:, i] = self.categories_[i][labels]\n",
      "IndexError: index 9 is out of bounds for axis 0 with size 2\n",
      "\n",
      "  warnings.warn(\n"
     ]
    },
    {
     "name": "stdout",
     "output_type": "stream",
     "text": [
      "2/2 [==============================] - 0s 3ms/step\n"
     ]
    },
    {
     "name": "stderr",
     "output_type": "stream",
     "text": [
      "C:\\Users\\davul\\anaconda3\\lib\\site-packages\\sklearn\\model_selection\\_validation.py:770: UserWarning: Scoring failed. The score on this train-test partition for these parameters will be set to nan. Details: \n",
      "Traceback (most recent call last):\n",
      "  File \"C:\\Users\\davul\\anaconda3\\lib\\site-packages\\sklearn\\model_selection\\_validation.py\", line 761, in _score\n",
      "    scores = scorer(estimator, X_test, y_test)\n",
      "  File \"C:\\Users\\davul\\anaconda3\\lib\\site-packages\\sklearn\\metrics\\_scorer.py\", line 216, in __call__\n",
      "    return self._score(\n",
      "  File \"C:\\Users\\davul\\anaconda3\\lib\\site-packages\\sklearn\\metrics\\_scorer.py\", line 258, in _score\n",
      "    y_pred = method_caller(estimator, \"predict\", X)\n",
      "  File \"C:\\Users\\davul\\anaconda3\\lib\\site-packages\\sklearn\\metrics\\_scorer.py\", line 68, in _cached_call\n",
      "    return getattr(estimator, method)(*args, **kwargs)\n",
      "  File \"C:\\Users\\davul\\anaconda3\\lib\\site-packages\\scikeras\\wrappers.py\", line 1054, in predict\n",
      "    y_pred = self.target_encoder_.inverse_transform(y_pred)\n",
      "  File \"C:\\Users\\davul\\anaconda3\\lib\\site-packages\\scikeras\\utils\\transformers.py\", line 256, in inverse_transform\n",
      "    class_predictions = self._final_encoder.inverse_transform(class_predictions)\n",
      "  File \"C:\\Users\\davul\\anaconda3\\lib\\site-packages\\sklearn\\utils\\metaestimators.py\", line 113, in <lambda>\n",
      "    out = lambda *args, **kwargs: self.fn(obj, *args, **kwargs)  # noqa\n",
      "  File \"C:\\Users\\davul\\anaconda3\\lib\\site-packages\\sklearn\\pipeline.py\", line 675, in inverse_transform\n",
      "    Xt = transform.inverse_transform(Xt)\n",
      "  File \"C:\\Users\\davul\\anaconda3\\lib\\site-packages\\sklearn\\preprocessing\\_encoders.py\", line 990, in inverse_transform\n",
      "    X_tr[:, i] = self.categories_[i][labels]\n",
      "IndexError: index 6 is out of bounds for axis 0 with size 2\n",
      "\n",
      "  warnings.warn(\n"
     ]
    },
    {
     "name": "stdout",
     "output_type": "stream",
     "text": [
      "2/2 [==============================] - 0s 2ms/step\n"
     ]
    },
    {
     "name": "stderr",
     "output_type": "stream",
     "text": [
      "C:\\Users\\davul\\anaconda3\\lib\\site-packages\\sklearn\\model_selection\\_validation.py:770: UserWarning: Scoring failed. The score on this train-test partition for these parameters will be set to nan. Details: \n",
      "Traceback (most recent call last):\n",
      "  File \"C:\\Users\\davul\\anaconda3\\lib\\site-packages\\sklearn\\model_selection\\_validation.py\", line 761, in _score\n",
      "    scores = scorer(estimator, X_test, y_test)\n",
      "  File \"C:\\Users\\davul\\anaconda3\\lib\\site-packages\\sklearn\\metrics\\_scorer.py\", line 216, in __call__\n",
      "    return self._score(\n",
      "  File \"C:\\Users\\davul\\anaconda3\\lib\\site-packages\\sklearn\\metrics\\_scorer.py\", line 258, in _score\n",
      "    y_pred = method_caller(estimator, \"predict\", X)\n",
      "  File \"C:\\Users\\davul\\anaconda3\\lib\\site-packages\\sklearn\\metrics\\_scorer.py\", line 68, in _cached_call\n",
      "    return getattr(estimator, method)(*args, **kwargs)\n",
      "  File \"C:\\Users\\davul\\anaconda3\\lib\\site-packages\\scikeras\\wrappers.py\", line 1054, in predict\n",
      "    y_pred = self.target_encoder_.inverse_transform(y_pred)\n",
      "  File \"C:\\Users\\davul\\anaconda3\\lib\\site-packages\\scikeras\\utils\\transformers.py\", line 256, in inverse_transform\n",
      "    class_predictions = self._final_encoder.inverse_transform(class_predictions)\n",
      "  File \"C:\\Users\\davul\\anaconda3\\lib\\site-packages\\sklearn\\utils\\metaestimators.py\", line 113, in <lambda>\n",
      "    out = lambda *args, **kwargs: self.fn(obj, *args, **kwargs)  # noqa\n",
      "  File \"C:\\Users\\davul\\anaconda3\\lib\\site-packages\\sklearn\\pipeline.py\", line 675, in inverse_transform\n",
      "    Xt = transform.inverse_transform(Xt)\n",
      "  File \"C:\\Users\\davul\\anaconda3\\lib\\site-packages\\sklearn\\preprocessing\\_encoders.py\", line 990, in inverse_transform\n",
      "    X_tr[:, i] = self.categories_[i][labels]\n",
      "IndexError: index 5 is out of bounds for axis 0 with size 2\n",
      "\n",
      "  warnings.warn(\n"
     ]
    },
    {
     "name": "stdout",
     "output_type": "stream",
     "text": [
      "2/2 [==============================] - 0s 2ms/step\n"
     ]
    },
    {
     "name": "stderr",
     "output_type": "stream",
     "text": [
      "C:\\Users\\davul\\anaconda3\\lib\\site-packages\\sklearn\\model_selection\\_validation.py:770: UserWarning: Scoring failed. The score on this train-test partition for these parameters will be set to nan. Details: \n",
      "Traceback (most recent call last):\n",
      "  File \"C:\\Users\\davul\\anaconda3\\lib\\site-packages\\sklearn\\model_selection\\_validation.py\", line 761, in _score\n",
      "    scores = scorer(estimator, X_test, y_test)\n",
      "  File \"C:\\Users\\davul\\anaconda3\\lib\\site-packages\\sklearn\\metrics\\_scorer.py\", line 216, in __call__\n",
      "    return self._score(\n",
      "  File \"C:\\Users\\davul\\anaconda3\\lib\\site-packages\\sklearn\\metrics\\_scorer.py\", line 258, in _score\n",
      "    y_pred = method_caller(estimator, \"predict\", X)\n",
      "  File \"C:\\Users\\davul\\anaconda3\\lib\\site-packages\\sklearn\\metrics\\_scorer.py\", line 68, in _cached_call\n",
      "    return getattr(estimator, method)(*args, **kwargs)\n",
      "  File \"C:\\Users\\davul\\anaconda3\\lib\\site-packages\\scikeras\\wrappers.py\", line 1054, in predict\n",
      "    y_pred = self.target_encoder_.inverse_transform(y_pred)\n",
      "  File \"C:\\Users\\davul\\anaconda3\\lib\\site-packages\\scikeras\\utils\\transformers.py\", line 256, in inverse_transform\n",
      "    class_predictions = self._final_encoder.inverse_transform(class_predictions)\n",
      "  File \"C:\\Users\\davul\\anaconda3\\lib\\site-packages\\sklearn\\utils\\metaestimators.py\", line 113, in <lambda>\n",
      "    out = lambda *args, **kwargs: self.fn(obj, *args, **kwargs)  # noqa\n",
      "  File \"C:\\Users\\davul\\anaconda3\\lib\\site-packages\\sklearn\\pipeline.py\", line 675, in inverse_transform\n",
      "    Xt = transform.inverse_transform(Xt)\n",
      "  File \"C:\\Users\\davul\\anaconda3\\lib\\site-packages\\sklearn\\preprocessing\\_encoders.py\", line 990, in inverse_transform\n",
      "    X_tr[:, i] = self.categories_[i][labels]\n",
      "IndexError: index 6 is out of bounds for axis 0 with size 2\n",
      "\n",
      "  warnings.warn(\n"
     ]
    },
    {
     "name": "stdout",
     "output_type": "stream",
     "text": [
      "7/7 [==============================] - 0s 1ms/step\n",
      "7/7 [==============================] - 0s 982us/step\n",
      "7/7 [==============================] - 0s 810us/step\n"
     ]
    },
    {
     "name": "stderr",
     "output_type": "stream",
     "text": [
      "C:\\Users\\davul\\anaconda3\\lib\\site-packages\\sklearn\\model_selection\\_validation.py:770: UserWarning: Scoring failed. The score on this train-test partition for these parameters will be set to nan. Details: \n",
      "Traceback (most recent call last):\n",
      "  File \"C:\\Users\\davul\\anaconda3\\lib\\site-packages\\sklearn\\model_selection\\_validation.py\", line 761, in _score\n",
      "    scores = scorer(estimator, X_test, y_test)\n",
      "  File \"C:\\Users\\davul\\anaconda3\\lib\\site-packages\\sklearn\\metrics\\_scorer.py\", line 216, in __call__\n",
      "    return self._score(\n",
      "  File \"C:\\Users\\davul\\anaconda3\\lib\\site-packages\\sklearn\\metrics\\_scorer.py\", line 258, in _score\n",
      "    y_pred = method_caller(estimator, \"predict\", X)\n",
      "  File \"C:\\Users\\davul\\anaconda3\\lib\\site-packages\\sklearn\\metrics\\_scorer.py\", line 68, in _cached_call\n",
      "    return getattr(estimator, method)(*args, **kwargs)\n",
      "  File \"C:\\Users\\davul\\anaconda3\\lib\\site-packages\\scikeras\\wrappers.py\", line 1054, in predict\n",
      "    y_pred = self.target_encoder_.inverse_transform(y_pred)\n",
      "  File \"C:\\Users\\davul\\anaconda3\\lib\\site-packages\\scikeras\\utils\\transformers.py\", line 256, in inverse_transform\n",
      "    class_predictions = self._final_encoder.inverse_transform(class_predictions)\n",
      "  File \"C:\\Users\\davul\\anaconda3\\lib\\site-packages\\sklearn\\utils\\metaestimators.py\", line 113, in <lambda>\n",
      "    out = lambda *args, **kwargs: self.fn(obj, *args, **kwargs)  # noqa\n",
      "  File \"C:\\Users\\davul\\anaconda3\\lib\\site-packages\\sklearn\\pipeline.py\", line 675, in inverse_transform\n",
      "    Xt = transform.inverse_transform(Xt)\n",
      "  File \"C:\\Users\\davul\\anaconda3\\lib\\site-packages\\sklearn\\preprocessing\\_encoders.py\", line 990, in inverse_transform\n",
      "    X_tr[:, i] = self.categories_[i][labels]\n",
      "IndexError: index 6 is out of bounds for axis 0 with size 2\n",
      "\n",
      "  warnings.warn(\n"
     ]
    },
    {
     "name": "stdout",
     "output_type": "stream",
     "text": [
      "7/7 [==============================] - 0s 1ms/step\n",
      "7/7 [==============================] - 0s 1ms/step\n",
      "3/3 [==============================] - 0s 2ms/step\n"
     ]
    },
    {
     "name": "stderr",
     "output_type": "stream",
     "text": [
      "C:\\Users\\davul\\anaconda3\\lib\\site-packages\\sklearn\\model_selection\\_validation.py:770: UserWarning: Scoring failed. The score on this train-test partition for these parameters will be set to nan. Details: \n",
      "Traceback (most recent call last):\n",
      "  File \"C:\\Users\\davul\\anaconda3\\lib\\site-packages\\sklearn\\model_selection\\_validation.py\", line 761, in _score\n",
      "    scores = scorer(estimator, X_test, y_test)\n",
      "  File \"C:\\Users\\davul\\anaconda3\\lib\\site-packages\\sklearn\\metrics\\_scorer.py\", line 216, in __call__\n",
      "    return self._score(\n",
      "  File \"C:\\Users\\davul\\anaconda3\\lib\\site-packages\\sklearn\\metrics\\_scorer.py\", line 258, in _score\n",
      "    y_pred = method_caller(estimator, \"predict\", X)\n",
      "  File \"C:\\Users\\davul\\anaconda3\\lib\\site-packages\\sklearn\\metrics\\_scorer.py\", line 68, in _cached_call\n",
      "    return getattr(estimator, method)(*args, **kwargs)\n",
      "  File \"C:\\Users\\davul\\anaconda3\\lib\\site-packages\\scikeras\\wrappers.py\", line 1054, in predict\n",
      "    y_pred = self.target_encoder_.inverse_transform(y_pred)\n",
      "  File \"C:\\Users\\davul\\anaconda3\\lib\\site-packages\\scikeras\\utils\\transformers.py\", line 256, in inverse_transform\n",
      "    class_predictions = self._final_encoder.inverse_transform(class_predictions)\n",
      "  File \"C:\\Users\\davul\\anaconda3\\lib\\site-packages\\sklearn\\utils\\metaestimators.py\", line 113, in <lambda>\n",
      "    out = lambda *args, **kwargs: self.fn(obj, *args, **kwargs)  # noqa\n",
      "  File \"C:\\Users\\davul\\anaconda3\\lib\\site-packages\\sklearn\\pipeline.py\", line 675, in inverse_transform\n",
      "    Xt = transform.inverse_transform(Xt)\n",
      "  File \"C:\\Users\\davul\\anaconda3\\lib\\site-packages\\sklearn\\preprocessing\\_encoders.py\", line 990, in inverse_transform\n",
      "    X_tr[:, i] = self.categories_[i][labels]\n",
      "IndexError: index 8 is out of bounds for axis 0 with size 2\n",
      "\n",
      "  warnings.warn(\n"
     ]
    },
    {
     "name": "stdout",
     "output_type": "stream",
     "text": [
      "3/3 [==============================] - 0s 2ms/step\n"
     ]
    },
    {
     "name": "stderr",
     "output_type": "stream",
     "text": [
      "C:\\Users\\davul\\anaconda3\\lib\\site-packages\\sklearn\\model_selection\\_validation.py:770: UserWarning: Scoring failed. The score on this train-test partition for these parameters will be set to nan. Details: \n",
      "Traceback (most recent call last):\n",
      "  File \"C:\\Users\\davul\\anaconda3\\lib\\site-packages\\sklearn\\model_selection\\_validation.py\", line 761, in _score\n",
      "    scores = scorer(estimator, X_test, y_test)\n",
      "  File \"C:\\Users\\davul\\anaconda3\\lib\\site-packages\\sklearn\\metrics\\_scorer.py\", line 216, in __call__\n",
      "    return self._score(\n",
      "  File \"C:\\Users\\davul\\anaconda3\\lib\\site-packages\\sklearn\\metrics\\_scorer.py\", line 258, in _score\n",
      "    y_pred = method_caller(estimator, \"predict\", X)\n",
      "  File \"C:\\Users\\davul\\anaconda3\\lib\\site-packages\\sklearn\\metrics\\_scorer.py\", line 68, in _cached_call\n",
      "    return getattr(estimator, method)(*args, **kwargs)\n",
      "  File \"C:\\Users\\davul\\anaconda3\\lib\\site-packages\\scikeras\\wrappers.py\", line 1054, in predict\n",
      "    y_pred = self.target_encoder_.inverse_transform(y_pred)\n",
      "  File \"C:\\Users\\davul\\anaconda3\\lib\\site-packages\\scikeras\\utils\\transformers.py\", line 256, in inverse_transform\n",
      "    class_predictions = self._final_encoder.inverse_transform(class_predictions)\n",
      "  File \"C:\\Users\\davul\\anaconda3\\lib\\site-packages\\sklearn\\utils\\metaestimators.py\", line 113, in <lambda>\n",
      "    out = lambda *args, **kwargs: self.fn(obj, *args, **kwargs)  # noqa\n",
      "  File \"C:\\Users\\davul\\anaconda3\\lib\\site-packages\\sklearn\\pipeline.py\", line 675, in inverse_transform\n",
      "    Xt = transform.inverse_transform(Xt)\n",
      "  File \"C:\\Users\\davul\\anaconda3\\lib\\site-packages\\sklearn\\preprocessing\\_encoders.py\", line 990, in inverse_transform\n",
      "    X_tr[:, i] = self.categories_[i][labels]\n",
      "IndexError: index 3 is out of bounds for axis 0 with size 2\n",
      "\n",
      "  warnings.warn(\n"
     ]
    },
    {
     "name": "stdout",
     "output_type": "stream",
     "text": [
      "3/3 [==============================] - 0s 2ms/step\n"
     ]
    },
    {
     "name": "stderr",
     "output_type": "stream",
     "text": [
      "C:\\Users\\davul\\anaconda3\\lib\\site-packages\\sklearn\\model_selection\\_validation.py:770: UserWarning: Scoring failed. The score on this train-test partition for these parameters will be set to nan. Details: \n",
      "Traceback (most recent call last):\n",
      "  File \"C:\\Users\\davul\\anaconda3\\lib\\site-packages\\sklearn\\model_selection\\_validation.py\", line 761, in _score\n",
      "    scores = scorer(estimator, X_test, y_test)\n",
      "  File \"C:\\Users\\davul\\anaconda3\\lib\\site-packages\\sklearn\\metrics\\_scorer.py\", line 216, in __call__\n",
      "    return self._score(\n",
      "  File \"C:\\Users\\davul\\anaconda3\\lib\\site-packages\\sklearn\\metrics\\_scorer.py\", line 258, in _score\n",
      "    y_pred = method_caller(estimator, \"predict\", X)\n",
      "  File \"C:\\Users\\davul\\anaconda3\\lib\\site-packages\\sklearn\\metrics\\_scorer.py\", line 68, in _cached_call\n",
      "    return getattr(estimator, method)(*args, **kwargs)\n",
      "  File \"C:\\Users\\davul\\anaconda3\\lib\\site-packages\\scikeras\\wrappers.py\", line 1054, in predict\n",
      "    y_pred = self.target_encoder_.inverse_transform(y_pred)\n",
      "  File \"C:\\Users\\davul\\anaconda3\\lib\\site-packages\\scikeras\\utils\\transformers.py\", line 256, in inverse_transform\n",
      "    class_predictions = self._final_encoder.inverse_transform(class_predictions)\n",
      "  File \"C:\\Users\\davul\\anaconda3\\lib\\site-packages\\sklearn\\utils\\metaestimators.py\", line 113, in <lambda>\n",
      "    out = lambda *args, **kwargs: self.fn(obj, *args, **kwargs)  # noqa\n",
      "  File \"C:\\Users\\davul\\anaconda3\\lib\\site-packages\\sklearn\\pipeline.py\", line 675, in inverse_transform\n",
      "    Xt = transform.inverse_transform(Xt)\n",
      "  File \"C:\\Users\\davul\\anaconda3\\lib\\site-packages\\sklearn\\preprocessing\\_encoders.py\", line 990, in inverse_transform\n",
      "    X_tr[:, i] = self.categories_[i][labels]\n",
      "IndexError: index 7 is out of bounds for axis 0 with size 2\n",
      "\n",
      "  warnings.warn(\n"
     ]
    },
    {
     "name": "stdout",
     "output_type": "stream",
     "text": [
      "3/3 [==============================] - 0s 2ms/step\n",
      "3/3 [==============================] - 0s 2ms/step\n",
      "7/7 [==============================] - 0s 1ms/step\n",
      "7/7 [==============================] - 0s 814us/step\n"
     ]
    },
    {
     "name": "stderr",
     "output_type": "stream",
     "text": [
      "C:\\Users\\davul\\anaconda3\\lib\\site-packages\\sklearn\\model_selection\\_validation.py:770: UserWarning: Scoring failed. The score on this train-test partition for these parameters will be set to nan. Details: \n",
      "Traceback (most recent call last):\n",
      "  File \"C:\\Users\\davul\\anaconda3\\lib\\site-packages\\sklearn\\model_selection\\_validation.py\", line 761, in _score\n",
      "    scores = scorer(estimator, X_test, y_test)\n",
      "  File \"C:\\Users\\davul\\anaconda3\\lib\\site-packages\\sklearn\\metrics\\_scorer.py\", line 216, in __call__\n",
      "    return self._score(\n",
      "  File \"C:\\Users\\davul\\anaconda3\\lib\\site-packages\\sklearn\\metrics\\_scorer.py\", line 258, in _score\n",
      "    y_pred = method_caller(estimator, \"predict\", X)\n",
      "  File \"C:\\Users\\davul\\anaconda3\\lib\\site-packages\\sklearn\\metrics\\_scorer.py\", line 68, in _cached_call\n",
      "    return getattr(estimator, method)(*args, **kwargs)\n",
      "  File \"C:\\Users\\davul\\anaconda3\\lib\\site-packages\\scikeras\\wrappers.py\", line 1054, in predict\n",
      "    y_pred = self.target_encoder_.inverse_transform(y_pred)\n",
      "  File \"C:\\Users\\davul\\anaconda3\\lib\\site-packages\\scikeras\\utils\\transformers.py\", line 256, in inverse_transform\n",
      "    class_predictions = self._final_encoder.inverse_transform(class_predictions)\n",
      "  File \"C:\\Users\\davul\\anaconda3\\lib\\site-packages\\sklearn\\utils\\metaestimators.py\", line 113, in <lambda>\n",
      "    out = lambda *args, **kwargs: self.fn(obj, *args, **kwargs)  # noqa\n",
      "  File \"C:\\Users\\davul\\anaconda3\\lib\\site-packages\\sklearn\\pipeline.py\", line 675, in inverse_transform\n",
      "    Xt = transform.inverse_transform(Xt)\n",
      "  File \"C:\\Users\\davul\\anaconda3\\lib\\site-packages\\sklearn\\preprocessing\\_encoders.py\", line 990, in inverse_transform\n",
      "    X_tr[:, i] = self.categories_[i][labels]\n",
      "IndexError: index 4 is out of bounds for axis 0 with size 2\n",
      "\n",
      "  warnings.warn(\n"
     ]
    },
    {
     "name": "stdout",
     "output_type": "stream",
     "text": [
      "7/7 [==============================] - 0s 1ms/step\n"
     ]
    },
    {
     "name": "stderr",
     "output_type": "stream",
     "text": [
      "C:\\Users\\davul\\anaconda3\\lib\\site-packages\\sklearn\\model_selection\\_validation.py:770: UserWarning: Scoring failed. The score on this train-test partition for these parameters will be set to nan. Details: \n",
      "Traceback (most recent call last):\n",
      "  File \"C:\\Users\\davul\\anaconda3\\lib\\site-packages\\sklearn\\model_selection\\_validation.py\", line 761, in _score\n",
      "    scores = scorer(estimator, X_test, y_test)\n",
      "  File \"C:\\Users\\davul\\anaconda3\\lib\\site-packages\\sklearn\\metrics\\_scorer.py\", line 216, in __call__\n",
      "    return self._score(\n",
      "  File \"C:\\Users\\davul\\anaconda3\\lib\\site-packages\\sklearn\\metrics\\_scorer.py\", line 258, in _score\n",
      "    y_pred = method_caller(estimator, \"predict\", X)\n",
      "  File \"C:\\Users\\davul\\anaconda3\\lib\\site-packages\\sklearn\\metrics\\_scorer.py\", line 68, in _cached_call\n",
      "    return getattr(estimator, method)(*args, **kwargs)\n",
      "  File \"C:\\Users\\davul\\anaconda3\\lib\\site-packages\\scikeras\\wrappers.py\", line 1054, in predict\n",
      "    y_pred = self.target_encoder_.inverse_transform(y_pred)\n",
      "  File \"C:\\Users\\davul\\anaconda3\\lib\\site-packages\\scikeras\\utils\\transformers.py\", line 256, in inverse_transform\n",
      "    class_predictions = self._final_encoder.inverse_transform(class_predictions)\n",
      "  File \"C:\\Users\\davul\\anaconda3\\lib\\site-packages\\sklearn\\utils\\metaestimators.py\", line 113, in <lambda>\n",
      "    out = lambda *args, **kwargs: self.fn(obj, *args, **kwargs)  # noqa\n",
      "  File \"C:\\Users\\davul\\anaconda3\\lib\\site-packages\\sklearn\\pipeline.py\", line 675, in inverse_transform\n",
      "    Xt = transform.inverse_transform(Xt)\n",
      "  File \"C:\\Users\\davul\\anaconda3\\lib\\site-packages\\sklearn\\preprocessing\\_encoders.py\", line 990, in inverse_transform\n",
      "    X_tr[:, i] = self.categories_[i][labels]\n",
      "IndexError: index 6 is out of bounds for axis 0 with size 2\n",
      "\n",
      "  warnings.warn(\n"
     ]
    },
    {
     "name": "stdout",
     "output_type": "stream",
     "text": [
      "7/7 [==============================] - 0s 1ms/step\n",
      "7/7 [==============================] - 0s 1ms/step\n",
      "2/2 [==============================] - 0s 3ms/step\n"
     ]
    },
    {
     "name": "stderr",
     "output_type": "stream",
     "text": [
      "C:\\Users\\davul\\anaconda3\\lib\\site-packages\\sklearn\\model_selection\\_validation.py:770: UserWarning: Scoring failed. The score on this train-test partition for these parameters will be set to nan. Details: \n",
      "Traceback (most recent call last):\n",
      "  File \"C:\\Users\\davul\\anaconda3\\lib\\site-packages\\sklearn\\model_selection\\_validation.py\", line 761, in _score\n",
      "    scores = scorer(estimator, X_test, y_test)\n",
      "  File \"C:\\Users\\davul\\anaconda3\\lib\\site-packages\\sklearn\\metrics\\_scorer.py\", line 216, in __call__\n",
      "    return self._score(\n",
      "  File \"C:\\Users\\davul\\anaconda3\\lib\\site-packages\\sklearn\\metrics\\_scorer.py\", line 258, in _score\n",
      "    y_pred = method_caller(estimator, \"predict\", X)\n",
      "  File \"C:\\Users\\davul\\anaconda3\\lib\\site-packages\\sklearn\\metrics\\_scorer.py\", line 68, in _cached_call\n",
      "    return getattr(estimator, method)(*args, **kwargs)\n",
      "  File \"C:\\Users\\davul\\anaconda3\\lib\\site-packages\\scikeras\\wrappers.py\", line 1054, in predict\n",
      "    y_pred = self.target_encoder_.inverse_transform(y_pred)\n",
      "  File \"C:\\Users\\davul\\anaconda3\\lib\\site-packages\\scikeras\\utils\\transformers.py\", line 256, in inverse_transform\n",
      "    class_predictions = self._final_encoder.inverse_transform(class_predictions)\n",
      "  File \"C:\\Users\\davul\\anaconda3\\lib\\site-packages\\sklearn\\utils\\metaestimators.py\", line 113, in <lambda>\n",
      "    out = lambda *args, **kwargs: self.fn(obj, *args, **kwargs)  # noqa\n",
      "  File \"C:\\Users\\davul\\anaconda3\\lib\\site-packages\\sklearn\\pipeline.py\", line 675, in inverse_transform\n",
      "    Xt = transform.inverse_transform(Xt)\n",
      "  File \"C:\\Users\\davul\\anaconda3\\lib\\site-packages\\sklearn\\preprocessing\\_encoders.py\", line 990, in inverse_transform\n",
      "    X_tr[:, i] = self.categories_[i][labels]\n",
      "IndexError: index 9 is out of bounds for axis 0 with size 2\n",
      "\n",
      "  warnings.warn(\n"
     ]
    },
    {
     "name": "stdout",
     "output_type": "stream",
     "text": [
      "2/2 [==============================] - 0s 2ms/step\n"
     ]
    },
    {
     "name": "stderr",
     "output_type": "stream",
     "text": [
      "C:\\Users\\davul\\anaconda3\\lib\\site-packages\\sklearn\\model_selection\\_validation.py:770: UserWarning: Scoring failed. The score on this train-test partition for these parameters will be set to nan. Details: \n",
      "Traceback (most recent call last):\n",
      "  File \"C:\\Users\\davul\\anaconda3\\lib\\site-packages\\sklearn\\model_selection\\_validation.py\", line 761, in _score\n",
      "    scores = scorer(estimator, X_test, y_test)\n",
      "  File \"C:\\Users\\davul\\anaconda3\\lib\\site-packages\\sklearn\\metrics\\_scorer.py\", line 216, in __call__\n",
      "    return self._score(\n",
      "  File \"C:\\Users\\davul\\anaconda3\\lib\\site-packages\\sklearn\\metrics\\_scorer.py\", line 258, in _score\n",
      "    y_pred = method_caller(estimator, \"predict\", X)\n",
      "  File \"C:\\Users\\davul\\anaconda3\\lib\\site-packages\\sklearn\\metrics\\_scorer.py\", line 68, in _cached_call\n",
      "    return getattr(estimator, method)(*args, **kwargs)\n",
      "  File \"C:\\Users\\davul\\anaconda3\\lib\\site-packages\\scikeras\\wrappers.py\", line 1054, in predict\n",
      "    y_pred = self.target_encoder_.inverse_transform(y_pred)\n",
      "  File \"C:\\Users\\davul\\anaconda3\\lib\\site-packages\\scikeras\\utils\\transformers.py\", line 256, in inverse_transform\n",
      "    class_predictions = self._final_encoder.inverse_transform(class_predictions)\n",
      "  File \"C:\\Users\\davul\\anaconda3\\lib\\site-packages\\sklearn\\utils\\metaestimators.py\", line 113, in <lambda>\n",
      "    out = lambda *args, **kwargs: self.fn(obj, *args, **kwargs)  # noqa\n",
      "  File \"C:\\Users\\davul\\anaconda3\\lib\\site-packages\\sklearn\\pipeline.py\", line 675, in inverse_transform\n",
      "    Xt = transform.inverse_transform(Xt)\n",
      "  File \"C:\\Users\\davul\\anaconda3\\lib\\site-packages\\sklearn\\preprocessing\\_encoders.py\", line 990, in inverse_transform\n",
      "    X_tr[:, i] = self.categories_[i][labels]\n",
      "IndexError: index 5 is out of bounds for axis 0 with size 2\n",
      "\n",
      "  warnings.warn(\n"
     ]
    },
    {
     "name": "stdout",
     "output_type": "stream",
     "text": [
      "2/2 [==============================] - 0s 3ms/step\n"
     ]
    },
    {
     "name": "stderr",
     "output_type": "stream",
     "text": [
      "C:\\Users\\davul\\anaconda3\\lib\\site-packages\\sklearn\\model_selection\\_validation.py:770: UserWarning: Scoring failed. The score on this train-test partition for these parameters will be set to nan. Details: \n",
      "Traceback (most recent call last):\n",
      "  File \"C:\\Users\\davul\\anaconda3\\lib\\site-packages\\sklearn\\model_selection\\_validation.py\", line 761, in _score\n",
      "    scores = scorer(estimator, X_test, y_test)\n",
      "  File \"C:\\Users\\davul\\anaconda3\\lib\\site-packages\\sklearn\\metrics\\_scorer.py\", line 216, in __call__\n",
      "    return self._score(\n",
      "  File \"C:\\Users\\davul\\anaconda3\\lib\\site-packages\\sklearn\\metrics\\_scorer.py\", line 258, in _score\n",
      "    y_pred = method_caller(estimator, \"predict\", X)\n",
      "  File \"C:\\Users\\davul\\anaconda3\\lib\\site-packages\\sklearn\\metrics\\_scorer.py\", line 68, in _cached_call\n",
      "    return getattr(estimator, method)(*args, **kwargs)\n",
      "  File \"C:\\Users\\davul\\anaconda3\\lib\\site-packages\\scikeras\\wrappers.py\", line 1054, in predict\n",
      "    y_pred = self.target_encoder_.inverse_transform(y_pred)\n",
      "  File \"C:\\Users\\davul\\anaconda3\\lib\\site-packages\\scikeras\\utils\\transformers.py\", line 256, in inverse_transform\n",
      "    class_predictions = self._final_encoder.inverse_transform(class_predictions)\n",
      "  File \"C:\\Users\\davul\\anaconda3\\lib\\site-packages\\sklearn\\utils\\metaestimators.py\", line 113, in <lambda>\n",
      "    out = lambda *args, **kwargs: self.fn(obj, *args, **kwargs)  # noqa\n",
      "  File \"C:\\Users\\davul\\anaconda3\\lib\\site-packages\\sklearn\\pipeline.py\", line 675, in inverse_transform\n",
      "    Xt = transform.inverse_transform(Xt)\n",
      "  File \"C:\\Users\\davul\\anaconda3\\lib\\site-packages\\sklearn\\preprocessing\\_encoders.py\", line 990, in inverse_transform\n",
      "    X_tr[:, i] = self.categories_[i][labels]\n",
      "IndexError: index 4 is out of bounds for axis 0 with size 2\n",
      "\n",
      "  warnings.warn(\n"
     ]
    },
    {
     "name": "stdout",
     "output_type": "stream",
     "text": [
      "2/2 [==============================] - 0s 2ms/step\n"
     ]
    },
    {
     "name": "stderr",
     "output_type": "stream",
     "text": [
      "C:\\Users\\davul\\anaconda3\\lib\\site-packages\\sklearn\\model_selection\\_validation.py:770: UserWarning: Scoring failed. The score on this train-test partition for these parameters will be set to nan. Details: \n",
      "Traceback (most recent call last):\n",
      "  File \"C:\\Users\\davul\\anaconda3\\lib\\site-packages\\sklearn\\model_selection\\_validation.py\", line 761, in _score\n",
      "    scores = scorer(estimator, X_test, y_test)\n",
      "  File \"C:\\Users\\davul\\anaconda3\\lib\\site-packages\\sklearn\\metrics\\_scorer.py\", line 216, in __call__\n",
      "    return self._score(\n",
      "  File \"C:\\Users\\davul\\anaconda3\\lib\\site-packages\\sklearn\\metrics\\_scorer.py\", line 258, in _score\n",
      "    y_pred = method_caller(estimator, \"predict\", X)\n",
      "  File \"C:\\Users\\davul\\anaconda3\\lib\\site-packages\\sklearn\\metrics\\_scorer.py\", line 68, in _cached_call\n",
      "    return getattr(estimator, method)(*args, **kwargs)\n",
      "  File \"C:\\Users\\davul\\anaconda3\\lib\\site-packages\\scikeras\\wrappers.py\", line 1054, in predict\n",
      "    y_pred = self.target_encoder_.inverse_transform(y_pred)\n",
      "  File \"C:\\Users\\davul\\anaconda3\\lib\\site-packages\\scikeras\\utils\\transformers.py\", line 256, in inverse_transform\n",
      "    class_predictions = self._final_encoder.inverse_transform(class_predictions)\n",
      "  File \"C:\\Users\\davul\\anaconda3\\lib\\site-packages\\sklearn\\utils\\metaestimators.py\", line 113, in <lambda>\n",
      "    out = lambda *args, **kwargs: self.fn(obj, *args, **kwargs)  # noqa\n",
      "  File \"C:\\Users\\davul\\anaconda3\\lib\\site-packages\\sklearn\\pipeline.py\", line 675, in inverse_transform\n",
      "    Xt = transform.inverse_transform(Xt)\n",
      "  File \"C:\\Users\\davul\\anaconda3\\lib\\site-packages\\sklearn\\preprocessing\\_encoders.py\", line 990, in inverse_transform\n",
      "    X_tr[:, i] = self.categories_[i][labels]\n",
      "IndexError: index 5 is out of bounds for axis 0 with size 2\n",
      "\n",
      "  warnings.warn(\n"
     ]
    },
    {
     "name": "stdout",
     "output_type": "stream",
     "text": [
      "2/2 [==============================] - 0s 2ms/step\n"
     ]
    },
    {
     "name": "stderr",
     "output_type": "stream",
     "text": [
      "C:\\Users\\davul\\anaconda3\\lib\\site-packages\\sklearn\\model_selection\\_validation.py:770: UserWarning: Scoring failed. The score on this train-test partition for these parameters will be set to nan. Details: \n",
      "Traceback (most recent call last):\n",
      "  File \"C:\\Users\\davul\\anaconda3\\lib\\site-packages\\sklearn\\model_selection\\_validation.py\", line 761, in _score\n",
      "    scores = scorer(estimator, X_test, y_test)\n",
      "  File \"C:\\Users\\davul\\anaconda3\\lib\\site-packages\\sklearn\\metrics\\_scorer.py\", line 216, in __call__\n",
      "    return self._score(\n",
      "  File \"C:\\Users\\davul\\anaconda3\\lib\\site-packages\\sklearn\\metrics\\_scorer.py\", line 258, in _score\n",
      "    y_pred = method_caller(estimator, \"predict\", X)\n",
      "  File \"C:\\Users\\davul\\anaconda3\\lib\\site-packages\\sklearn\\metrics\\_scorer.py\", line 68, in _cached_call\n",
      "    return getattr(estimator, method)(*args, **kwargs)\n",
      "  File \"C:\\Users\\davul\\anaconda3\\lib\\site-packages\\scikeras\\wrappers.py\", line 1054, in predict\n",
      "    y_pred = self.target_encoder_.inverse_transform(y_pred)\n",
      "  File \"C:\\Users\\davul\\anaconda3\\lib\\site-packages\\scikeras\\utils\\transformers.py\", line 256, in inverse_transform\n",
      "    class_predictions = self._final_encoder.inverse_transform(class_predictions)\n",
      "  File \"C:\\Users\\davul\\anaconda3\\lib\\site-packages\\sklearn\\utils\\metaestimators.py\", line 113, in <lambda>\n",
      "    out = lambda *args, **kwargs: self.fn(obj, *args, **kwargs)  # noqa\n",
      "  File \"C:\\Users\\davul\\anaconda3\\lib\\site-packages\\sklearn\\pipeline.py\", line 675, in inverse_transform\n",
      "    Xt = transform.inverse_transform(Xt)\n",
      "  File \"C:\\Users\\davul\\anaconda3\\lib\\site-packages\\sklearn\\preprocessing\\_encoders.py\", line 990, in inverse_transform\n",
      "    X_tr[:, i] = self.categories_[i][labels]\n",
      "IndexError: index 5 is out of bounds for axis 0 with size 2\n",
      "\n",
      "  warnings.warn(\n"
     ]
    },
    {
     "name": "stdout",
     "output_type": "stream",
     "text": [
      "3/3 [==============================] - 0s 2ms/step\n"
     ]
    },
    {
     "name": "stderr",
     "output_type": "stream",
     "text": [
      "C:\\Users\\davul\\anaconda3\\lib\\site-packages\\sklearn\\model_selection\\_validation.py:770: UserWarning: Scoring failed. The score on this train-test partition for these parameters will be set to nan. Details: \n",
      "Traceback (most recent call last):\n",
      "  File \"C:\\Users\\davul\\anaconda3\\lib\\site-packages\\sklearn\\model_selection\\_validation.py\", line 761, in _score\n",
      "    scores = scorer(estimator, X_test, y_test)\n",
      "  File \"C:\\Users\\davul\\anaconda3\\lib\\site-packages\\sklearn\\metrics\\_scorer.py\", line 216, in __call__\n",
      "    return self._score(\n",
      "  File \"C:\\Users\\davul\\anaconda3\\lib\\site-packages\\sklearn\\metrics\\_scorer.py\", line 258, in _score\n",
      "    y_pred = method_caller(estimator, \"predict\", X)\n",
      "  File \"C:\\Users\\davul\\anaconda3\\lib\\site-packages\\sklearn\\metrics\\_scorer.py\", line 68, in _cached_call\n",
      "    return getattr(estimator, method)(*args, **kwargs)\n",
      "  File \"C:\\Users\\davul\\anaconda3\\lib\\site-packages\\scikeras\\wrappers.py\", line 1054, in predict\n",
      "    y_pred = self.target_encoder_.inverse_transform(y_pred)\n",
      "  File \"C:\\Users\\davul\\anaconda3\\lib\\site-packages\\scikeras\\utils\\transformers.py\", line 256, in inverse_transform\n",
      "    class_predictions = self._final_encoder.inverse_transform(class_predictions)\n",
      "  File \"C:\\Users\\davul\\anaconda3\\lib\\site-packages\\sklearn\\utils\\metaestimators.py\", line 113, in <lambda>\n",
      "    out = lambda *args, **kwargs: self.fn(obj, *args, **kwargs)  # noqa\n",
      "  File \"C:\\Users\\davul\\anaconda3\\lib\\site-packages\\sklearn\\pipeline.py\", line 675, in inverse_transform\n",
      "    Xt = transform.inverse_transform(Xt)\n",
      "  File \"C:\\Users\\davul\\anaconda3\\lib\\site-packages\\sklearn\\preprocessing\\_encoders.py\", line 990, in inverse_transform\n",
      "    X_tr[:, i] = self.categories_[i][labels]\n",
      "IndexError: index 7 is out of bounds for axis 0 with size 2\n",
      "\n",
      "  warnings.warn(\n"
     ]
    },
    {
     "name": "stdout",
     "output_type": "stream",
     "text": [
      "3/3 [==============================] - 0s 2ms/step\n"
     ]
    },
    {
     "name": "stderr",
     "output_type": "stream",
     "text": [
      "C:\\Users\\davul\\anaconda3\\lib\\site-packages\\sklearn\\model_selection\\_validation.py:770: UserWarning: Scoring failed. The score on this train-test partition for these parameters will be set to nan. Details: \n",
      "Traceback (most recent call last):\n",
      "  File \"C:\\Users\\davul\\anaconda3\\lib\\site-packages\\sklearn\\model_selection\\_validation.py\", line 761, in _score\n",
      "    scores = scorer(estimator, X_test, y_test)\n",
      "  File \"C:\\Users\\davul\\anaconda3\\lib\\site-packages\\sklearn\\metrics\\_scorer.py\", line 216, in __call__\n",
      "    return self._score(\n",
      "  File \"C:\\Users\\davul\\anaconda3\\lib\\site-packages\\sklearn\\metrics\\_scorer.py\", line 258, in _score\n",
      "    y_pred = method_caller(estimator, \"predict\", X)\n",
      "  File \"C:\\Users\\davul\\anaconda3\\lib\\site-packages\\sklearn\\metrics\\_scorer.py\", line 68, in _cached_call\n",
      "    return getattr(estimator, method)(*args, **kwargs)\n",
      "  File \"C:\\Users\\davul\\anaconda3\\lib\\site-packages\\scikeras\\wrappers.py\", line 1054, in predict\n",
      "    y_pred = self.target_encoder_.inverse_transform(y_pred)\n",
      "  File \"C:\\Users\\davul\\anaconda3\\lib\\site-packages\\scikeras\\utils\\transformers.py\", line 256, in inverse_transform\n",
      "    class_predictions = self._final_encoder.inverse_transform(class_predictions)\n",
      "  File \"C:\\Users\\davul\\anaconda3\\lib\\site-packages\\sklearn\\utils\\metaestimators.py\", line 113, in <lambda>\n",
      "    out = lambda *args, **kwargs: self.fn(obj, *args, **kwargs)  # noqa\n",
      "  File \"C:\\Users\\davul\\anaconda3\\lib\\site-packages\\sklearn\\pipeline.py\", line 675, in inverse_transform\n",
      "    Xt = transform.inverse_transform(Xt)\n",
      "  File \"C:\\Users\\davul\\anaconda3\\lib\\site-packages\\sklearn\\preprocessing\\_encoders.py\", line 990, in inverse_transform\n",
      "    X_tr[:, i] = self.categories_[i][labels]\n",
      "IndexError: index 6 is out of bounds for axis 0 with size 2\n",
      "\n",
      "  warnings.warn(\n"
     ]
    },
    {
     "name": "stdout",
     "output_type": "stream",
     "text": [
      "3/3 [==============================] - 0s 1000us/step\n"
     ]
    },
    {
     "name": "stderr",
     "output_type": "stream",
     "text": [
      "C:\\Users\\davul\\anaconda3\\lib\\site-packages\\sklearn\\model_selection\\_validation.py:770: UserWarning: Scoring failed. The score on this train-test partition for these parameters will be set to nan. Details: \n",
      "Traceback (most recent call last):\n",
      "  File \"C:\\Users\\davul\\anaconda3\\lib\\site-packages\\sklearn\\model_selection\\_validation.py\", line 761, in _score\n",
      "    scores = scorer(estimator, X_test, y_test)\n",
      "  File \"C:\\Users\\davul\\anaconda3\\lib\\site-packages\\sklearn\\metrics\\_scorer.py\", line 216, in __call__\n",
      "    return self._score(\n",
      "  File \"C:\\Users\\davul\\anaconda3\\lib\\site-packages\\sklearn\\metrics\\_scorer.py\", line 258, in _score\n",
      "    y_pred = method_caller(estimator, \"predict\", X)\n",
      "  File \"C:\\Users\\davul\\anaconda3\\lib\\site-packages\\sklearn\\metrics\\_scorer.py\", line 68, in _cached_call\n",
      "    return getattr(estimator, method)(*args, **kwargs)\n",
      "  File \"C:\\Users\\davul\\anaconda3\\lib\\site-packages\\scikeras\\wrappers.py\", line 1054, in predict\n",
      "    y_pred = self.target_encoder_.inverse_transform(y_pred)\n",
      "  File \"C:\\Users\\davul\\anaconda3\\lib\\site-packages\\scikeras\\utils\\transformers.py\", line 256, in inverse_transform\n",
      "    class_predictions = self._final_encoder.inverse_transform(class_predictions)\n",
      "  File \"C:\\Users\\davul\\anaconda3\\lib\\site-packages\\sklearn\\utils\\metaestimators.py\", line 113, in <lambda>\n",
      "    out = lambda *args, **kwargs: self.fn(obj, *args, **kwargs)  # noqa\n",
      "  File \"C:\\Users\\davul\\anaconda3\\lib\\site-packages\\sklearn\\pipeline.py\", line 675, in inverse_transform\n",
      "    Xt = transform.inverse_transform(Xt)\n",
      "  File \"C:\\Users\\davul\\anaconda3\\lib\\site-packages\\sklearn\\preprocessing\\_encoders.py\", line 990, in inverse_transform\n",
      "    X_tr[:, i] = self.categories_[i][labels]\n",
      "IndexError: index 3 is out of bounds for axis 0 with size 2\n",
      "\n",
      "  warnings.warn(\n"
     ]
    },
    {
     "name": "stdout",
     "output_type": "stream",
     "text": [
      "3/3 [==============================] - 0s 2ms/step\n"
     ]
    },
    {
     "name": "stderr",
     "output_type": "stream",
     "text": [
      "C:\\Users\\davul\\anaconda3\\lib\\site-packages\\sklearn\\model_selection\\_validation.py:770: UserWarning: Scoring failed. The score on this train-test partition for these parameters will be set to nan. Details: \n",
      "Traceback (most recent call last):\n",
      "  File \"C:\\Users\\davul\\anaconda3\\lib\\site-packages\\sklearn\\model_selection\\_validation.py\", line 761, in _score\n",
      "    scores = scorer(estimator, X_test, y_test)\n",
      "  File \"C:\\Users\\davul\\anaconda3\\lib\\site-packages\\sklearn\\metrics\\_scorer.py\", line 216, in __call__\n",
      "    return self._score(\n",
      "  File \"C:\\Users\\davul\\anaconda3\\lib\\site-packages\\sklearn\\metrics\\_scorer.py\", line 258, in _score\n",
      "    y_pred = method_caller(estimator, \"predict\", X)\n",
      "  File \"C:\\Users\\davul\\anaconda3\\lib\\site-packages\\sklearn\\metrics\\_scorer.py\", line 68, in _cached_call\n",
      "    return getattr(estimator, method)(*args, **kwargs)\n",
      "  File \"C:\\Users\\davul\\anaconda3\\lib\\site-packages\\scikeras\\wrappers.py\", line 1054, in predict\n",
      "    y_pred = self.target_encoder_.inverse_transform(y_pred)\n",
      "  File \"C:\\Users\\davul\\anaconda3\\lib\\site-packages\\scikeras\\utils\\transformers.py\", line 256, in inverse_transform\n",
      "    class_predictions = self._final_encoder.inverse_transform(class_predictions)\n",
      "  File \"C:\\Users\\davul\\anaconda3\\lib\\site-packages\\sklearn\\utils\\metaestimators.py\", line 113, in <lambda>\n",
      "    out = lambda *args, **kwargs: self.fn(obj, *args, **kwargs)  # noqa\n",
      "  File \"C:\\Users\\davul\\anaconda3\\lib\\site-packages\\sklearn\\pipeline.py\", line 675, in inverse_transform\n",
      "    Xt = transform.inverse_transform(Xt)\n",
      "  File \"C:\\Users\\davul\\anaconda3\\lib\\site-packages\\sklearn\\preprocessing\\_encoders.py\", line 990, in inverse_transform\n",
      "    X_tr[:, i] = self.categories_[i][labels]\n",
      "IndexError: index 6 is out of bounds for axis 0 with size 2\n",
      "\n",
      "  warnings.warn(\n"
     ]
    },
    {
     "name": "stdout",
     "output_type": "stream",
     "text": [
      "3/3 [==============================] - 0s 664us/step\n"
     ]
    },
    {
     "name": "stderr",
     "output_type": "stream",
     "text": [
      "C:\\Users\\davul\\anaconda3\\lib\\site-packages\\sklearn\\model_selection\\_validation.py:770: UserWarning: Scoring failed. The score on this train-test partition for these parameters will be set to nan. Details: \n",
      "Traceback (most recent call last):\n",
      "  File \"C:\\Users\\davul\\anaconda3\\lib\\site-packages\\sklearn\\model_selection\\_validation.py\", line 761, in _score\n",
      "    scores = scorer(estimator, X_test, y_test)\n",
      "  File \"C:\\Users\\davul\\anaconda3\\lib\\site-packages\\sklearn\\metrics\\_scorer.py\", line 216, in __call__\n",
      "    return self._score(\n",
      "  File \"C:\\Users\\davul\\anaconda3\\lib\\site-packages\\sklearn\\metrics\\_scorer.py\", line 258, in _score\n",
      "    y_pred = method_caller(estimator, \"predict\", X)\n",
      "  File \"C:\\Users\\davul\\anaconda3\\lib\\site-packages\\sklearn\\metrics\\_scorer.py\", line 68, in _cached_call\n",
      "    return getattr(estimator, method)(*args, **kwargs)\n",
      "  File \"C:\\Users\\davul\\anaconda3\\lib\\site-packages\\scikeras\\wrappers.py\", line 1054, in predict\n",
      "    y_pred = self.target_encoder_.inverse_transform(y_pred)\n",
      "  File \"C:\\Users\\davul\\anaconda3\\lib\\site-packages\\scikeras\\utils\\transformers.py\", line 256, in inverse_transform\n",
      "    class_predictions = self._final_encoder.inverse_transform(class_predictions)\n",
      "  File \"C:\\Users\\davul\\anaconda3\\lib\\site-packages\\sklearn\\utils\\metaestimators.py\", line 113, in <lambda>\n",
      "    out = lambda *args, **kwargs: self.fn(obj, *args, **kwargs)  # noqa\n",
      "  File \"C:\\Users\\davul\\anaconda3\\lib\\site-packages\\sklearn\\pipeline.py\", line 675, in inverse_transform\n",
      "    Xt = transform.inverse_transform(Xt)\n",
      "  File \"C:\\Users\\davul\\anaconda3\\lib\\site-packages\\sklearn\\preprocessing\\_encoders.py\", line 990, in inverse_transform\n",
      "    X_tr[:, i] = self.categories_[i][labels]\n",
      "IndexError: index 4 is out of bounds for axis 0 with size 2\n",
      "\n",
      "  warnings.warn(\n"
     ]
    },
    {
     "name": "stdout",
     "output_type": "stream",
     "text": [
      "2/2 [==============================] - 0s 3ms/step\n"
     ]
    },
    {
     "name": "stderr",
     "output_type": "stream",
     "text": [
      "C:\\Users\\davul\\anaconda3\\lib\\site-packages\\sklearn\\model_selection\\_validation.py:770: UserWarning: Scoring failed. The score on this train-test partition for these parameters will be set to nan. Details: \n",
      "Traceback (most recent call last):\n",
      "  File \"C:\\Users\\davul\\anaconda3\\lib\\site-packages\\sklearn\\model_selection\\_validation.py\", line 761, in _score\n",
      "    scores = scorer(estimator, X_test, y_test)\n",
      "  File \"C:\\Users\\davul\\anaconda3\\lib\\site-packages\\sklearn\\metrics\\_scorer.py\", line 216, in __call__\n",
      "    return self._score(\n",
      "  File \"C:\\Users\\davul\\anaconda3\\lib\\site-packages\\sklearn\\metrics\\_scorer.py\", line 258, in _score\n",
      "    y_pred = method_caller(estimator, \"predict\", X)\n",
      "  File \"C:\\Users\\davul\\anaconda3\\lib\\site-packages\\sklearn\\metrics\\_scorer.py\", line 68, in _cached_call\n",
      "    return getattr(estimator, method)(*args, **kwargs)\n",
      "  File \"C:\\Users\\davul\\anaconda3\\lib\\site-packages\\scikeras\\wrappers.py\", line 1054, in predict\n",
      "    y_pred = self.target_encoder_.inverse_transform(y_pred)\n",
      "  File \"C:\\Users\\davul\\anaconda3\\lib\\site-packages\\scikeras\\utils\\transformers.py\", line 256, in inverse_transform\n",
      "    class_predictions = self._final_encoder.inverse_transform(class_predictions)\n",
      "  File \"C:\\Users\\davul\\anaconda3\\lib\\site-packages\\sklearn\\utils\\metaestimators.py\", line 113, in <lambda>\n",
      "    out = lambda *args, **kwargs: self.fn(obj, *args, **kwargs)  # noqa\n",
      "  File \"C:\\Users\\davul\\anaconda3\\lib\\site-packages\\sklearn\\pipeline.py\", line 675, in inverse_transform\n",
      "    Xt = transform.inverse_transform(Xt)\n",
      "  File \"C:\\Users\\davul\\anaconda3\\lib\\site-packages\\sklearn\\preprocessing\\_encoders.py\", line 990, in inverse_transform\n",
      "    X_tr[:, i] = self.categories_[i][labels]\n",
      "IndexError: index 4 is out of bounds for axis 0 with size 2\n",
      "\n",
      "  warnings.warn(\n"
     ]
    },
    {
     "name": "stdout",
     "output_type": "stream",
     "text": [
      "2/2 [==============================] - 0s 3ms/step\n"
     ]
    },
    {
     "name": "stderr",
     "output_type": "stream",
     "text": [
      "C:\\Users\\davul\\anaconda3\\lib\\site-packages\\sklearn\\model_selection\\_validation.py:770: UserWarning: Scoring failed. The score on this train-test partition for these parameters will be set to nan. Details: \n",
      "Traceback (most recent call last):\n",
      "  File \"C:\\Users\\davul\\anaconda3\\lib\\site-packages\\sklearn\\model_selection\\_validation.py\", line 761, in _score\n",
      "    scores = scorer(estimator, X_test, y_test)\n",
      "  File \"C:\\Users\\davul\\anaconda3\\lib\\site-packages\\sklearn\\metrics\\_scorer.py\", line 216, in __call__\n",
      "    return self._score(\n",
      "  File \"C:\\Users\\davul\\anaconda3\\lib\\site-packages\\sklearn\\metrics\\_scorer.py\", line 258, in _score\n",
      "    y_pred = method_caller(estimator, \"predict\", X)\n",
      "  File \"C:\\Users\\davul\\anaconda3\\lib\\site-packages\\sklearn\\metrics\\_scorer.py\", line 68, in _cached_call\n",
      "    return getattr(estimator, method)(*args, **kwargs)\n",
      "  File \"C:\\Users\\davul\\anaconda3\\lib\\site-packages\\scikeras\\wrappers.py\", line 1054, in predict\n",
      "    y_pred = self.target_encoder_.inverse_transform(y_pred)\n",
      "  File \"C:\\Users\\davul\\anaconda3\\lib\\site-packages\\scikeras\\utils\\transformers.py\", line 256, in inverse_transform\n",
      "    class_predictions = self._final_encoder.inverse_transform(class_predictions)\n",
      "  File \"C:\\Users\\davul\\anaconda3\\lib\\site-packages\\sklearn\\utils\\metaestimators.py\", line 113, in <lambda>\n",
      "    out = lambda *args, **kwargs: self.fn(obj, *args, **kwargs)  # noqa\n",
      "  File \"C:\\Users\\davul\\anaconda3\\lib\\site-packages\\sklearn\\pipeline.py\", line 675, in inverse_transform\n",
      "    Xt = transform.inverse_transform(Xt)\n",
      "  File \"C:\\Users\\davul\\anaconda3\\lib\\site-packages\\sklearn\\preprocessing\\_encoders.py\", line 990, in inverse_transform\n",
      "    X_tr[:, i] = self.categories_[i][labels]\n",
      "IndexError: index 2 is out of bounds for axis 0 with size 2\n",
      "\n",
      "  warnings.warn(\n"
     ]
    },
    {
     "name": "stdout",
     "output_type": "stream",
     "text": [
      "2/2 [==============================] - 0s 3ms/step\n"
     ]
    },
    {
     "name": "stderr",
     "output_type": "stream",
     "text": [
      "C:\\Users\\davul\\anaconda3\\lib\\site-packages\\sklearn\\model_selection\\_validation.py:770: UserWarning: Scoring failed. The score on this train-test partition for these parameters will be set to nan. Details: \n",
      "Traceback (most recent call last):\n",
      "  File \"C:\\Users\\davul\\anaconda3\\lib\\site-packages\\sklearn\\model_selection\\_validation.py\", line 761, in _score\n",
      "    scores = scorer(estimator, X_test, y_test)\n",
      "  File \"C:\\Users\\davul\\anaconda3\\lib\\site-packages\\sklearn\\metrics\\_scorer.py\", line 216, in __call__\n",
      "    return self._score(\n",
      "  File \"C:\\Users\\davul\\anaconda3\\lib\\site-packages\\sklearn\\metrics\\_scorer.py\", line 258, in _score\n",
      "    y_pred = method_caller(estimator, \"predict\", X)\n",
      "  File \"C:\\Users\\davul\\anaconda3\\lib\\site-packages\\sklearn\\metrics\\_scorer.py\", line 68, in _cached_call\n",
      "    return getattr(estimator, method)(*args, **kwargs)\n",
      "  File \"C:\\Users\\davul\\anaconda3\\lib\\site-packages\\scikeras\\wrappers.py\", line 1054, in predict\n",
      "    y_pred = self.target_encoder_.inverse_transform(y_pred)\n",
      "  File \"C:\\Users\\davul\\anaconda3\\lib\\site-packages\\scikeras\\utils\\transformers.py\", line 256, in inverse_transform\n",
      "    class_predictions = self._final_encoder.inverse_transform(class_predictions)\n",
      "  File \"C:\\Users\\davul\\anaconda3\\lib\\site-packages\\sklearn\\utils\\metaestimators.py\", line 113, in <lambda>\n",
      "    out = lambda *args, **kwargs: self.fn(obj, *args, **kwargs)  # noqa\n",
      "  File \"C:\\Users\\davul\\anaconda3\\lib\\site-packages\\sklearn\\pipeline.py\", line 675, in inverse_transform\n",
      "    Xt = transform.inverse_transform(Xt)\n",
      "  File \"C:\\Users\\davul\\anaconda3\\lib\\site-packages\\sklearn\\preprocessing\\_encoders.py\", line 990, in inverse_transform\n",
      "    X_tr[:, i] = self.categories_[i][labels]\n",
      "IndexError: index 9 is out of bounds for axis 0 with size 2\n",
      "\n",
      "  warnings.warn(\n"
     ]
    },
    {
     "name": "stdout",
     "output_type": "stream",
     "text": [
      "2/2 [==============================] - 0s 1000us/step\n"
     ]
    },
    {
     "name": "stderr",
     "output_type": "stream",
     "text": [
      "C:\\Users\\davul\\anaconda3\\lib\\site-packages\\sklearn\\model_selection\\_validation.py:770: UserWarning: Scoring failed. The score on this train-test partition for these parameters will be set to nan. Details: \n",
      "Traceback (most recent call last):\n",
      "  File \"C:\\Users\\davul\\anaconda3\\lib\\site-packages\\sklearn\\model_selection\\_validation.py\", line 761, in _score\n",
      "    scores = scorer(estimator, X_test, y_test)\n",
      "  File \"C:\\Users\\davul\\anaconda3\\lib\\site-packages\\sklearn\\metrics\\_scorer.py\", line 216, in __call__\n",
      "    return self._score(\n",
      "  File \"C:\\Users\\davul\\anaconda3\\lib\\site-packages\\sklearn\\metrics\\_scorer.py\", line 258, in _score\n",
      "    y_pred = method_caller(estimator, \"predict\", X)\n",
      "  File \"C:\\Users\\davul\\anaconda3\\lib\\site-packages\\sklearn\\metrics\\_scorer.py\", line 68, in _cached_call\n",
      "    return getattr(estimator, method)(*args, **kwargs)\n",
      "  File \"C:\\Users\\davul\\anaconda3\\lib\\site-packages\\scikeras\\wrappers.py\", line 1054, in predict\n",
      "    y_pred = self.target_encoder_.inverse_transform(y_pred)\n",
      "  File \"C:\\Users\\davul\\anaconda3\\lib\\site-packages\\scikeras\\utils\\transformers.py\", line 256, in inverse_transform\n",
      "    class_predictions = self._final_encoder.inverse_transform(class_predictions)\n",
      "  File \"C:\\Users\\davul\\anaconda3\\lib\\site-packages\\sklearn\\utils\\metaestimators.py\", line 113, in <lambda>\n",
      "    out = lambda *args, **kwargs: self.fn(obj, *args, **kwargs)  # noqa\n",
      "  File \"C:\\Users\\davul\\anaconda3\\lib\\site-packages\\sklearn\\pipeline.py\", line 675, in inverse_transform\n",
      "    Xt = transform.inverse_transform(Xt)\n",
      "  File \"C:\\Users\\davul\\anaconda3\\lib\\site-packages\\sklearn\\preprocessing\\_encoders.py\", line 990, in inverse_transform\n",
      "    X_tr[:, i] = self.categories_[i][labels]\n",
      "IndexError: index 9 is out of bounds for axis 0 with size 2\n",
      "\n",
      "  warnings.warn(\n"
     ]
    },
    {
     "name": "stdout",
     "output_type": "stream",
     "text": [
      "2/2 [==============================] - 0s 2ms/step\n"
     ]
    },
    {
     "name": "stderr",
     "output_type": "stream",
     "text": [
      "C:\\Users\\davul\\anaconda3\\lib\\site-packages\\sklearn\\model_selection\\_validation.py:770: UserWarning: Scoring failed. The score on this train-test partition for these parameters will be set to nan. Details: \n",
      "Traceback (most recent call last):\n",
      "  File \"C:\\Users\\davul\\anaconda3\\lib\\site-packages\\sklearn\\model_selection\\_validation.py\", line 761, in _score\n",
      "    scores = scorer(estimator, X_test, y_test)\n",
      "  File \"C:\\Users\\davul\\anaconda3\\lib\\site-packages\\sklearn\\metrics\\_scorer.py\", line 216, in __call__\n",
      "    return self._score(\n",
      "  File \"C:\\Users\\davul\\anaconda3\\lib\\site-packages\\sklearn\\metrics\\_scorer.py\", line 258, in _score\n",
      "    y_pred = method_caller(estimator, \"predict\", X)\n",
      "  File \"C:\\Users\\davul\\anaconda3\\lib\\site-packages\\sklearn\\metrics\\_scorer.py\", line 68, in _cached_call\n",
      "    return getattr(estimator, method)(*args, **kwargs)\n",
      "  File \"C:\\Users\\davul\\anaconda3\\lib\\site-packages\\scikeras\\wrappers.py\", line 1054, in predict\n",
      "    y_pred = self.target_encoder_.inverse_transform(y_pred)\n",
      "  File \"C:\\Users\\davul\\anaconda3\\lib\\site-packages\\scikeras\\utils\\transformers.py\", line 256, in inverse_transform\n",
      "    class_predictions = self._final_encoder.inverse_transform(class_predictions)\n",
      "  File \"C:\\Users\\davul\\anaconda3\\lib\\site-packages\\sklearn\\utils\\metaestimators.py\", line 113, in <lambda>\n",
      "    out = lambda *args, **kwargs: self.fn(obj, *args, **kwargs)  # noqa\n",
      "  File \"C:\\Users\\davul\\anaconda3\\lib\\site-packages\\sklearn\\pipeline.py\", line 675, in inverse_transform\n",
      "    Xt = transform.inverse_transform(Xt)\n",
      "  File \"C:\\Users\\davul\\anaconda3\\lib\\site-packages\\sklearn\\preprocessing\\_encoders.py\", line 990, in inverse_transform\n",
      "    X_tr[:, i] = self.categories_[i][labels]\n",
      "IndexError: index 7 is out of bounds for axis 0 with size 2\n",
      "\n",
      "  warnings.warn(\n"
     ]
    },
    {
     "name": "stdout",
     "output_type": "stream",
     "text": [
      "7/7 [==============================] - 0s 1ms/step\n",
      "7/7 [==============================] - 0s 1ms/step\n"
     ]
    },
    {
     "name": "stderr",
     "output_type": "stream",
     "text": [
      "C:\\Users\\davul\\anaconda3\\lib\\site-packages\\sklearn\\model_selection\\_validation.py:770: UserWarning: Scoring failed. The score on this train-test partition for these parameters will be set to nan. Details: \n",
      "Traceback (most recent call last):\n",
      "  File \"C:\\Users\\davul\\anaconda3\\lib\\site-packages\\sklearn\\model_selection\\_validation.py\", line 761, in _score\n",
      "    scores = scorer(estimator, X_test, y_test)\n",
      "  File \"C:\\Users\\davul\\anaconda3\\lib\\site-packages\\sklearn\\metrics\\_scorer.py\", line 216, in __call__\n",
      "    return self._score(\n",
      "  File \"C:\\Users\\davul\\anaconda3\\lib\\site-packages\\sklearn\\metrics\\_scorer.py\", line 258, in _score\n",
      "    y_pred = method_caller(estimator, \"predict\", X)\n",
      "  File \"C:\\Users\\davul\\anaconda3\\lib\\site-packages\\sklearn\\metrics\\_scorer.py\", line 68, in _cached_call\n",
      "    return getattr(estimator, method)(*args, **kwargs)\n",
      "  File \"C:\\Users\\davul\\anaconda3\\lib\\site-packages\\scikeras\\wrappers.py\", line 1054, in predict\n",
      "    y_pred = self.target_encoder_.inverse_transform(y_pred)\n",
      "  File \"C:\\Users\\davul\\anaconda3\\lib\\site-packages\\scikeras\\utils\\transformers.py\", line 256, in inverse_transform\n",
      "    class_predictions = self._final_encoder.inverse_transform(class_predictions)\n",
      "  File \"C:\\Users\\davul\\anaconda3\\lib\\site-packages\\sklearn\\utils\\metaestimators.py\", line 113, in <lambda>\n",
      "    out = lambda *args, **kwargs: self.fn(obj, *args, **kwargs)  # noqa\n",
      "  File \"C:\\Users\\davul\\anaconda3\\lib\\site-packages\\sklearn\\pipeline.py\", line 675, in inverse_transform\n",
      "    Xt = transform.inverse_transform(Xt)\n",
      "  File \"C:\\Users\\davul\\anaconda3\\lib\\site-packages\\sklearn\\preprocessing\\_encoders.py\", line 990, in inverse_transform\n",
      "    X_tr[:, i] = self.categories_[i][labels]\n",
      "IndexError: index 7 is out of bounds for axis 0 with size 2\n",
      "\n",
      "  warnings.warn(\n"
     ]
    },
    {
     "name": "stdout",
     "output_type": "stream",
     "text": [
      "7/7 [==============================] - 0s 1ms/step\n"
     ]
    },
    {
     "name": "stderr",
     "output_type": "stream",
     "text": [
      "C:\\Users\\davul\\anaconda3\\lib\\site-packages\\sklearn\\model_selection\\_validation.py:770: UserWarning: Scoring failed. The score on this train-test partition for these parameters will be set to nan. Details: \n",
      "Traceback (most recent call last):\n",
      "  File \"C:\\Users\\davul\\anaconda3\\lib\\site-packages\\sklearn\\model_selection\\_validation.py\", line 761, in _score\n",
      "    scores = scorer(estimator, X_test, y_test)\n",
      "  File \"C:\\Users\\davul\\anaconda3\\lib\\site-packages\\sklearn\\metrics\\_scorer.py\", line 216, in __call__\n",
      "    return self._score(\n",
      "  File \"C:\\Users\\davul\\anaconda3\\lib\\site-packages\\sklearn\\metrics\\_scorer.py\", line 258, in _score\n",
      "    y_pred = method_caller(estimator, \"predict\", X)\n",
      "  File \"C:\\Users\\davul\\anaconda3\\lib\\site-packages\\sklearn\\metrics\\_scorer.py\", line 68, in _cached_call\n",
      "    return getattr(estimator, method)(*args, **kwargs)\n",
      "  File \"C:\\Users\\davul\\anaconda3\\lib\\site-packages\\scikeras\\wrappers.py\", line 1054, in predict\n",
      "    y_pred = self.target_encoder_.inverse_transform(y_pred)\n",
      "  File \"C:\\Users\\davul\\anaconda3\\lib\\site-packages\\scikeras\\utils\\transformers.py\", line 256, in inverse_transform\n",
      "    class_predictions = self._final_encoder.inverse_transform(class_predictions)\n",
      "  File \"C:\\Users\\davul\\anaconda3\\lib\\site-packages\\sklearn\\utils\\metaestimators.py\", line 113, in <lambda>\n",
      "    out = lambda *args, **kwargs: self.fn(obj, *args, **kwargs)  # noqa\n",
      "  File \"C:\\Users\\davul\\anaconda3\\lib\\site-packages\\sklearn\\pipeline.py\", line 675, in inverse_transform\n",
      "    Xt = transform.inverse_transform(Xt)\n",
      "  File \"C:\\Users\\davul\\anaconda3\\lib\\site-packages\\sklearn\\preprocessing\\_encoders.py\", line 990, in inverse_transform\n",
      "    X_tr[:, i] = self.categories_[i][labels]\n",
      "IndexError: index 5 is out of bounds for axis 0 with size 2\n",
      "\n",
      "  warnings.warn(\n"
     ]
    },
    {
     "name": "stdout",
     "output_type": "stream",
     "text": [
      "7/7 [==============================] - 0s 1ms/step\n",
      "7/7 [==============================] - 0s 932us/step\n",
      "3/3 [==============================] - 0s 2ms/step\n"
     ]
    },
    {
     "name": "stderr",
     "output_type": "stream",
     "text": [
      "C:\\Users\\davul\\anaconda3\\lib\\site-packages\\sklearn\\model_selection\\_validation.py:770: UserWarning: Scoring failed. The score on this train-test partition for these parameters will be set to nan. Details: \n",
      "Traceback (most recent call last):\n",
      "  File \"C:\\Users\\davul\\anaconda3\\lib\\site-packages\\sklearn\\model_selection\\_validation.py\", line 761, in _score\n",
      "    scores = scorer(estimator, X_test, y_test)\n",
      "  File \"C:\\Users\\davul\\anaconda3\\lib\\site-packages\\sklearn\\metrics\\_scorer.py\", line 216, in __call__\n",
      "    return self._score(\n",
      "  File \"C:\\Users\\davul\\anaconda3\\lib\\site-packages\\sklearn\\metrics\\_scorer.py\", line 258, in _score\n",
      "    y_pred = method_caller(estimator, \"predict\", X)\n",
      "  File \"C:\\Users\\davul\\anaconda3\\lib\\site-packages\\sklearn\\metrics\\_scorer.py\", line 68, in _cached_call\n",
      "    return getattr(estimator, method)(*args, **kwargs)\n",
      "  File \"C:\\Users\\davul\\anaconda3\\lib\\site-packages\\scikeras\\wrappers.py\", line 1054, in predict\n",
      "    y_pred = self.target_encoder_.inverse_transform(y_pred)\n",
      "  File \"C:\\Users\\davul\\anaconda3\\lib\\site-packages\\scikeras\\utils\\transformers.py\", line 256, in inverse_transform\n",
      "    class_predictions = self._final_encoder.inverse_transform(class_predictions)\n",
      "  File \"C:\\Users\\davul\\anaconda3\\lib\\site-packages\\sklearn\\utils\\metaestimators.py\", line 113, in <lambda>\n",
      "    out = lambda *args, **kwargs: self.fn(obj, *args, **kwargs)  # noqa\n",
      "  File \"C:\\Users\\davul\\anaconda3\\lib\\site-packages\\sklearn\\pipeline.py\", line 675, in inverse_transform\n",
      "    Xt = transform.inverse_transform(Xt)\n",
      "  File \"C:\\Users\\davul\\anaconda3\\lib\\site-packages\\sklearn\\preprocessing\\_encoders.py\", line 990, in inverse_transform\n",
      "    X_tr[:, i] = self.categories_[i][labels]\n",
      "IndexError: index 7 is out of bounds for axis 0 with size 2\n",
      "\n",
      "  warnings.warn(\n"
     ]
    },
    {
     "name": "stdout",
     "output_type": "stream",
     "text": [
      "3/3 [==============================] - 0s 2ms/step\n"
     ]
    },
    {
     "name": "stderr",
     "output_type": "stream",
     "text": [
      "C:\\Users\\davul\\anaconda3\\lib\\site-packages\\sklearn\\model_selection\\_validation.py:770: UserWarning: Scoring failed. The score on this train-test partition for these parameters will be set to nan. Details: \n",
      "Traceback (most recent call last):\n",
      "  File \"C:\\Users\\davul\\anaconda3\\lib\\site-packages\\sklearn\\model_selection\\_validation.py\", line 761, in _score\n",
      "    scores = scorer(estimator, X_test, y_test)\n",
      "  File \"C:\\Users\\davul\\anaconda3\\lib\\site-packages\\sklearn\\metrics\\_scorer.py\", line 216, in __call__\n",
      "    return self._score(\n",
      "  File \"C:\\Users\\davul\\anaconda3\\lib\\site-packages\\sklearn\\metrics\\_scorer.py\", line 258, in _score\n",
      "    y_pred = method_caller(estimator, \"predict\", X)\n",
      "  File \"C:\\Users\\davul\\anaconda3\\lib\\site-packages\\sklearn\\metrics\\_scorer.py\", line 68, in _cached_call\n",
      "    return getattr(estimator, method)(*args, **kwargs)\n",
      "  File \"C:\\Users\\davul\\anaconda3\\lib\\site-packages\\scikeras\\wrappers.py\", line 1054, in predict\n",
      "    y_pred = self.target_encoder_.inverse_transform(y_pred)\n",
      "  File \"C:\\Users\\davul\\anaconda3\\lib\\site-packages\\scikeras\\utils\\transformers.py\", line 256, in inverse_transform\n",
      "    class_predictions = self._final_encoder.inverse_transform(class_predictions)\n",
      "  File \"C:\\Users\\davul\\anaconda3\\lib\\site-packages\\sklearn\\utils\\metaestimators.py\", line 113, in <lambda>\n",
      "    out = lambda *args, **kwargs: self.fn(obj, *args, **kwargs)  # noqa\n",
      "  File \"C:\\Users\\davul\\anaconda3\\lib\\site-packages\\sklearn\\pipeline.py\", line 675, in inverse_transform\n",
      "    Xt = transform.inverse_transform(Xt)\n",
      "  File \"C:\\Users\\davul\\anaconda3\\lib\\site-packages\\sklearn\\preprocessing\\_encoders.py\", line 990, in inverse_transform\n",
      "    X_tr[:, i] = self.categories_[i][labels]\n",
      "IndexError: index 8 is out of bounds for axis 0 with size 2\n",
      "\n",
      "  warnings.warn(\n"
     ]
    },
    {
     "name": "stdout",
     "output_type": "stream",
     "text": [
      "3/3 [==============================] - 0s 1ms/step\n"
     ]
    },
    {
     "name": "stderr",
     "output_type": "stream",
     "text": [
      "C:\\Users\\davul\\anaconda3\\lib\\site-packages\\sklearn\\model_selection\\_validation.py:770: UserWarning: Scoring failed. The score on this train-test partition for these parameters will be set to nan. Details: \n",
      "Traceback (most recent call last):\n",
      "  File \"C:\\Users\\davul\\anaconda3\\lib\\site-packages\\sklearn\\model_selection\\_validation.py\", line 761, in _score\n",
      "    scores = scorer(estimator, X_test, y_test)\n",
      "  File \"C:\\Users\\davul\\anaconda3\\lib\\site-packages\\sklearn\\metrics\\_scorer.py\", line 216, in __call__\n",
      "    return self._score(\n",
      "  File \"C:\\Users\\davul\\anaconda3\\lib\\site-packages\\sklearn\\metrics\\_scorer.py\", line 258, in _score\n",
      "    y_pred = method_caller(estimator, \"predict\", X)\n",
      "  File \"C:\\Users\\davul\\anaconda3\\lib\\site-packages\\sklearn\\metrics\\_scorer.py\", line 68, in _cached_call\n",
      "    return getattr(estimator, method)(*args, **kwargs)\n",
      "  File \"C:\\Users\\davul\\anaconda3\\lib\\site-packages\\scikeras\\wrappers.py\", line 1054, in predict\n",
      "    y_pred = self.target_encoder_.inverse_transform(y_pred)\n",
      "  File \"C:\\Users\\davul\\anaconda3\\lib\\site-packages\\scikeras\\utils\\transformers.py\", line 256, in inverse_transform\n",
      "    class_predictions = self._final_encoder.inverse_transform(class_predictions)\n",
      "  File \"C:\\Users\\davul\\anaconda3\\lib\\site-packages\\sklearn\\utils\\metaestimators.py\", line 113, in <lambda>\n",
      "    out = lambda *args, **kwargs: self.fn(obj, *args, **kwargs)  # noqa\n",
      "  File \"C:\\Users\\davul\\anaconda3\\lib\\site-packages\\sklearn\\pipeline.py\", line 675, in inverse_transform\n",
      "    Xt = transform.inverse_transform(Xt)\n",
      "  File \"C:\\Users\\davul\\anaconda3\\lib\\site-packages\\sklearn\\preprocessing\\_encoders.py\", line 990, in inverse_transform\n",
      "    X_tr[:, i] = self.categories_[i][labels]\n",
      "IndexError: index 2 is out of bounds for axis 0 with size 2\n",
      "\n",
      "  warnings.warn(\n"
     ]
    },
    {
     "name": "stdout",
     "output_type": "stream",
     "text": [
      "3/3 [==============================] - 0s 2ms/step\n"
     ]
    },
    {
     "name": "stderr",
     "output_type": "stream",
     "text": [
      "C:\\Users\\davul\\anaconda3\\lib\\site-packages\\sklearn\\model_selection\\_validation.py:770: UserWarning: Scoring failed. The score on this train-test partition for these parameters will be set to nan. Details: \n",
      "Traceback (most recent call last):\n",
      "  File \"C:\\Users\\davul\\anaconda3\\lib\\site-packages\\sklearn\\model_selection\\_validation.py\", line 761, in _score\n",
      "    scores = scorer(estimator, X_test, y_test)\n",
      "  File \"C:\\Users\\davul\\anaconda3\\lib\\site-packages\\sklearn\\metrics\\_scorer.py\", line 216, in __call__\n",
      "    return self._score(\n",
      "  File \"C:\\Users\\davul\\anaconda3\\lib\\site-packages\\sklearn\\metrics\\_scorer.py\", line 258, in _score\n",
      "    y_pred = method_caller(estimator, \"predict\", X)\n",
      "  File \"C:\\Users\\davul\\anaconda3\\lib\\site-packages\\sklearn\\metrics\\_scorer.py\", line 68, in _cached_call\n",
      "    return getattr(estimator, method)(*args, **kwargs)\n",
      "  File \"C:\\Users\\davul\\anaconda3\\lib\\site-packages\\scikeras\\wrappers.py\", line 1054, in predict\n",
      "    y_pred = self.target_encoder_.inverse_transform(y_pred)\n",
      "  File \"C:\\Users\\davul\\anaconda3\\lib\\site-packages\\scikeras\\utils\\transformers.py\", line 256, in inverse_transform\n",
      "    class_predictions = self._final_encoder.inverse_transform(class_predictions)\n",
      "  File \"C:\\Users\\davul\\anaconda3\\lib\\site-packages\\sklearn\\utils\\metaestimators.py\", line 113, in <lambda>\n",
      "    out = lambda *args, **kwargs: self.fn(obj, *args, **kwargs)  # noqa\n",
      "  File \"C:\\Users\\davul\\anaconda3\\lib\\site-packages\\sklearn\\pipeline.py\", line 675, in inverse_transform\n",
      "    Xt = transform.inverse_transform(Xt)\n",
      "  File \"C:\\Users\\davul\\anaconda3\\lib\\site-packages\\sklearn\\preprocessing\\_encoders.py\", line 990, in inverse_transform\n",
      "    X_tr[:, i] = self.categories_[i][labels]\n",
      "IndexError: index 2 is out of bounds for axis 0 with size 2\n",
      "\n",
      "  warnings.warn(\n"
     ]
    },
    {
     "name": "stdout",
     "output_type": "stream",
     "text": [
      "3/3 [==============================] - 0s 1ms/step\n"
     ]
    },
    {
     "name": "stderr",
     "output_type": "stream",
     "text": [
      "C:\\Users\\davul\\anaconda3\\lib\\site-packages\\sklearn\\model_selection\\_validation.py:770: UserWarning: Scoring failed. The score on this train-test partition for these parameters will be set to nan. Details: \n",
      "Traceback (most recent call last):\n",
      "  File \"C:\\Users\\davul\\anaconda3\\lib\\site-packages\\sklearn\\model_selection\\_validation.py\", line 761, in _score\n",
      "    scores = scorer(estimator, X_test, y_test)\n",
      "  File \"C:\\Users\\davul\\anaconda3\\lib\\site-packages\\sklearn\\metrics\\_scorer.py\", line 216, in __call__\n",
      "    return self._score(\n",
      "  File \"C:\\Users\\davul\\anaconda3\\lib\\site-packages\\sklearn\\metrics\\_scorer.py\", line 258, in _score\n",
      "    y_pred = method_caller(estimator, \"predict\", X)\n",
      "  File \"C:\\Users\\davul\\anaconda3\\lib\\site-packages\\sklearn\\metrics\\_scorer.py\", line 68, in _cached_call\n",
      "    return getattr(estimator, method)(*args, **kwargs)\n",
      "  File \"C:\\Users\\davul\\anaconda3\\lib\\site-packages\\scikeras\\wrappers.py\", line 1054, in predict\n",
      "    y_pred = self.target_encoder_.inverse_transform(y_pred)\n",
      "  File \"C:\\Users\\davul\\anaconda3\\lib\\site-packages\\scikeras\\utils\\transformers.py\", line 256, in inverse_transform\n",
      "    class_predictions = self._final_encoder.inverse_transform(class_predictions)\n",
      "  File \"C:\\Users\\davul\\anaconda3\\lib\\site-packages\\sklearn\\utils\\metaestimators.py\", line 113, in <lambda>\n",
      "    out = lambda *args, **kwargs: self.fn(obj, *args, **kwargs)  # noqa\n",
      "  File \"C:\\Users\\davul\\anaconda3\\lib\\site-packages\\sklearn\\pipeline.py\", line 675, in inverse_transform\n",
      "    Xt = transform.inverse_transform(Xt)\n",
      "  File \"C:\\Users\\davul\\anaconda3\\lib\\site-packages\\sklearn\\preprocessing\\_encoders.py\", line 990, in inverse_transform\n",
      "    X_tr[:, i] = self.categories_[i][labels]\n",
      "IndexError: index 8 is out of bounds for axis 0 with size 2\n",
      "\n",
      "  warnings.warn(\n"
     ]
    },
    {
     "name": "stdout",
     "output_type": "stream",
     "text": [
      "3/3 [==============================] - 0s 994us/step\n",
      "3/3 [==============================] - 0s 2ms/step\n",
      "3/3 [==============================] - 0s 2ms/step\n",
      "3/3 [==============================] - 0s 1ms/step\n",
      "3/3 [==============================] - 0s 2ms/step\n",
      "2/2 [==============================] - 0s 2ms/step\n"
     ]
    },
    {
     "name": "stderr",
     "output_type": "stream",
     "text": [
      "C:\\Users\\davul\\anaconda3\\lib\\site-packages\\sklearn\\model_selection\\_validation.py:770: UserWarning: Scoring failed. The score on this train-test partition for these parameters will be set to nan. Details: \n",
      "Traceback (most recent call last):\n",
      "  File \"C:\\Users\\davul\\anaconda3\\lib\\site-packages\\sklearn\\model_selection\\_validation.py\", line 761, in _score\n",
      "    scores = scorer(estimator, X_test, y_test)\n",
      "  File \"C:\\Users\\davul\\anaconda3\\lib\\site-packages\\sklearn\\metrics\\_scorer.py\", line 216, in __call__\n",
      "    return self._score(\n",
      "  File \"C:\\Users\\davul\\anaconda3\\lib\\site-packages\\sklearn\\metrics\\_scorer.py\", line 258, in _score\n",
      "    y_pred = method_caller(estimator, \"predict\", X)\n",
      "  File \"C:\\Users\\davul\\anaconda3\\lib\\site-packages\\sklearn\\metrics\\_scorer.py\", line 68, in _cached_call\n",
      "    return getattr(estimator, method)(*args, **kwargs)\n",
      "  File \"C:\\Users\\davul\\anaconda3\\lib\\site-packages\\scikeras\\wrappers.py\", line 1054, in predict\n",
      "    y_pred = self.target_encoder_.inverse_transform(y_pred)\n",
      "  File \"C:\\Users\\davul\\anaconda3\\lib\\site-packages\\scikeras\\utils\\transformers.py\", line 256, in inverse_transform\n",
      "    class_predictions = self._final_encoder.inverse_transform(class_predictions)\n",
      "  File \"C:\\Users\\davul\\anaconda3\\lib\\site-packages\\sklearn\\utils\\metaestimators.py\", line 113, in <lambda>\n",
      "    out = lambda *args, **kwargs: self.fn(obj, *args, **kwargs)  # noqa\n",
      "  File \"C:\\Users\\davul\\anaconda3\\lib\\site-packages\\sklearn\\pipeline.py\", line 675, in inverse_transform\n",
      "    Xt = transform.inverse_transform(Xt)\n",
      "  File \"C:\\Users\\davul\\anaconda3\\lib\\site-packages\\sklearn\\preprocessing\\_encoders.py\", line 990, in inverse_transform\n",
      "    X_tr[:, i] = self.categories_[i][labels]\n",
      "IndexError: index 6 is out of bounds for axis 0 with size 2\n",
      "\n",
      "  warnings.warn(\n"
     ]
    },
    {
     "name": "stdout",
     "output_type": "stream",
     "text": [
      "2/2 [==============================] - 0s 3ms/step\n"
     ]
    },
    {
     "name": "stderr",
     "output_type": "stream",
     "text": [
      "C:\\Users\\davul\\anaconda3\\lib\\site-packages\\sklearn\\model_selection\\_validation.py:770: UserWarning: Scoring failed. The score on this train-test partition for these parameters will be set to nan. Details: \n",
      "Traceback (most recent call last):\n",
      "  File \"C:\\Users\\davul\\anaconda3\\lib\\site-packages\\sklearn\\model_selection\\_validation.py\", line 761, in _score\n",
      "    scores = scorer(estimator, X_test, y_test)\n",
      "  File \"C:\\Users\\davul\\anaconda3\\lib\\site-packages\\sklearn\\metrics\\_scorer.py\", line 216, in __call__\n",
      "    return self._score(\n",
      "  File \"C:\\Users\\davul\\anaconda3\\lib\\site-packages\\sklearn\\metrics\\_scorer.py\", line 258, in _score\n",
      "    y_pred = method_caller(estimator, \"predict\", X)\n",
      "  File \"C:\\Users\\davul\\anaconda3\\lib\\site-packages\\sklearn\\metrics\\_scorer.py\", line 68, in _cached_call\n",
      "    return getattr(estimator, method)(*args, **kwargs)\n",
      "  File \"C:\\Users\\davul\\anaconda3\\lib\\site-packages\\scikeras\\wrappers.py\", line 1054, in predict\n",
      "    y_pred = self.target_encoder_.inverse_transform(y_pred)\n",
      "  File \"C:\\Users\\davul\\anaconda3\\lib\\site-packages\\scikeras\\utils\\transformers.py\", line 256, in inverse_transform\n",
      "    class_predictions = self._final_encoder.inverse_transform(class_predictions)\n",
      "  File \"C:\\Users\\davul\\anaconda3\\lib\\site-packages\\sklearn\\utils\\metaestimators.py\", line 113, in <lambda>\n",
      "    out = lambda *args, **kwargs: self.fn(obj, *args, **kwargs)  # noqa\n",
      "  File \"C:\\Users\\davul\\anaconda3\\lib\\site-packages\\sklearn\\pipeline.py\", line 675, in inverse_transform\n",
      "    Xt = transform.inverse_transform(Xt)\n",
      "  File \"C:\\Users\\davul\\anaconda3\\lib\\site-packages\\sklearn\\preprocessing\\_encoders.py\", line 990, in inverse_transform\n",
      "    X_tr[:, i] = self.categories_[i][labels]\n",
      "IndexError: index 9 is out of bounds for axis 0 with size 2\n",
      "\n",
      "  warnings.warn(\n"
     ]
    },
    {
     "name": "stdout",
     "output_type": "stream",
     "text": [
      "2/2 [==============================] - 0s 3ms/step\n"
     ]
    },
    {
     "name": "stderr",
     "output_type": "stream",
     "text": [
      "C:\\Users\\davul\\anaconda3\\lib\\site-packages\\sklearn\\model_selection\\_validation.py:770: UserWarning: Scoring failed. The score on this train-test partition for these parameters will be set to nan. Details: \n",
      "Traceback (most recent call last):\n",
      "  File \"C:\\Users\\davul\\anaconda3\\lib\\site-packages\\sklearn\\model_selection\\_validation.py\", line 761, in _score\n",
      "    scores = scorer(estimator, X_test, y_test)\n",
      "  File \"C:\\Users\\davul\\anaconda3\\lib\\site-packages\\sklearn\\metrics\\_scorer.py\", line 216, in __call__\n",
      "    return self._score(\n",
      "  File \"C:\\Users\\davul\\anaconda3\\lib\\site-packages\\sklearn\\metrics\\_scorer.py\", line 258, in _score\n",
      "    y_pred = method_caller(estimator, \"predict\", X)\n",
      "  File \"C:\\Users\\davul\\anaconda3\\lib\\site-packages\\sklearn\\metrics\\_scorer.py\", line 68, in _cached_call\n",
      "    return getattr(estimator, method)(*args, **kwargs)\n",
      "  File \"C:\\Users\\davul\\anaconda3\\lib\\site-packages\\scikeras\\wrappers.py\", line 1054, in predict\n",
      "    y_pred = self.target_encoder_.inverse_transform(y_pred)\n",
      "  File \"C:\\Users\\davul\\anaconda3\\lib\\site-packages\\scikeras\\utils\\transformers.py\", line 256, in inverse_transform\n",
      "    class_predictions = self._final_encoder.inverse_transform(class_predictions)\n",
      "  File \"C:\\Users\\davul\\anaconda3\\lib\\site-packages\\sklearn\\utils\\metaestimators.py\", line 113, in <lambda>\n",
      "    out = lambda *args, **kwargs: self.fn(obj, *args, **kwargs)  # noqa\n",
      "  File \"C:\\Users\\davul\\anaconda3\\lib\\site-packages\\sklearn\\pipeline.py\", line 675, in inverse_transform\n",
      "    Xt = transform.inverse_transform(Xt)\n",
      "  File \"C:\\Users\\davul\\anaconda3\\lib\\site-packages\\sklearn\\preprocessing\\_encoders.py\", line 990, in inverse_transform\n",
      "    X_tr[:, i] = self.categories_[i][labels]\n",
      "IndexError: index 2 is out of bounds for axis 0 with size 2\n",
      "\n",
      "  warnings.warn(\n"
     ]
    },
    {
     "name": "stdout",
     "output_type": "stream",
     "text": [
      "2/2 [==============================] - 0s 2ms/step\n"
     ]
    },
    {
     "name": "stderr",
     "output_type": "stream",
     "text": [
      "C:\\Users\\davul\\anaconda3\\lib\\site-packages\\sklearn\\model_selection\\_validation.py:770: UserWarning: Scoring failed. The score on this train-test partition for these parameters will be set to nan. Details: \n",
      "Traceback (most recent call last):\n",
      "  File \"C:\\Users\\davul\\anaconda3\\lib\\site-packages\\sklearn\\model_selection\\_validation.py\", line 761, in _score\n",
      "    scores = scorer(estimator, X_test, y_test)\n",
      "  File \"C:\\Users\\davul\\anaconda3\\lib\\site-packages\\sklearn\\metrics\\_scorer.py\", line 216, in __call__\n",
      "    return self._score(\n",
      "  File \"C:\\Users\\davul\\anaconda3\\lib\\site-packages\\sklearn\\metrics\\_scorer.py\", line 258, in _score\n",
      "    y_pred = method_caller(estimator, \"predict\", X)\n",
      "  File \"C:\\Users\\davul\\anaconda3\\lib\\site-packages\\sklearn\\metrics\\_scorer.py\", line 68, in _cached_call\n",
      "    return getattr(estimator, method)(*args, **kwargs)\n",
      "  File \"C:\\Users\\davul\\anaconda3\\lib\\site-packages\\scikeras\\wrappers.py\", line 1054, in predict\n",
      "    y_pred = self.target_encoder_.inverse_transform(y_pred)\n",
      "  File \"C:\\Users\\davul\\anaconda3\\lib\\site-packages\\scikeras\\utils\\transformers.py\", line 256, in inverse_transform\n",
      "    class_predictions = self._final_encoder.inverse_transform(class_predictions)\n",
      "  File \"C:\\Users\\davul\\anaconda3\\lib\\site-packages\\sklearn\\utils\\metaestimators.py\", line 113, in <lambda>\n",
      "    out = lambda *args, **kwargs: self.fn(obj, *args, **kwargs)  # noqa\n",
      "  File \"C:\\Users\\davul\\anaconda3\\lib\\site-packages\\sklearn\\pipeline.py\", line 675, in inverse_transform\n",
      "    Xt = transform.inverse_transform(Xt)\n",
      "  File \"C:\\Users\\davul\\anaconda3\\lib\\site-packages\\sklearn\\preprocessing\\_encoders.py\", line 990, in inverse_transform\n",
      "    X_tr[:, i] = self.categories_[i][labels]\n",
      "IndexError: index 9 is out of bounds for axis 0 with size 2\n",
      "\n",
      "  warnings.warn(\n"
     ]
    },
    {
     "name": "stdout",
     "output_type": "stream",
     "text": [
      "2/2 [==============================] - 0s 2ms/step\n"
     ]
    },
    {
     "name": "stderr",
     "output_type": "stream",
     "text": [
      "C:\\Users\\davul\\anaconda3\\lib\\site-packages\\sklearn\\model_selection\\_validation.py:770: UserWarning: Scoring failed. The score on this train-test partition for these parameters will be set to nan. Details: \n",
      "Traceback (most recent call last):\n",
      "  File \"C:\\Users\\davul\\anaconda3\\lib\\site-packages\\sklearn\\model_selection\\_validation.py\", line 761, in _score\n",
      "    scores = scorer(estimator, X_test, y_test)\n",
      "  File \"C:\\Users\\davul\\anaconda3\\lib\\site-packages\\sklearn\\metrics\\_scorer.py\", line 216, in __call__\n",
      "    return self._score(\n",
      "  File \"C:\\Users\\davul\\anaconda3\\lib\\site-packages\\sklearn\\metrics\\_scorer.py\", line 258, in _score\n",
      "    y_pred = method_caller(estimator, \"predict\", X)\n",
      "  File \"C:\\Users\\davul\\anaconda3\\lib\\site-packages\\sklearn\\metrics\\_scorer.py\", line 68, in _cached_call\n",
      "    return getattr(estimator, method)(*args, **kwargs)\n",
      "  File \"C:\\Users\\davul\\anaconda3\\lib\\site-packages\\scikeras\\wrappers.py\", line 1054, in predict\n",
      "    y_pred = self.target_encoder_.inverse_transform(y_pred)\n",
      "  File \"C:\\Users\\davul\\anaconda3\\lib\\site-packages\\scikeras\\utils\\transformers.py\", line 256, in inverse_transform\n",
      "    class_predictions = self._final_encoder.inverse_transform(class_predictions)\n",
      "  File \"C:\\Users\\davul\\anaconda3\\lib\\site-packages\\sklearn\\utils\\metaestimators.py\", line 113, in <lambda>\n",
      "    out = lambda *args, **kwargs: self.fn(obj, *args, **kwargs)  # noqa\n",
      "  File \"C:\\Users\\davul\\anaconda3\\lib\\site-packages\\sklearn\\pipeline.py\", line 675, in inverse_transform\n",
      "    Xt = transform.inverse_transform(Xt)\n",
      "  File \"C:\\Users\\davul\\anaconda3\\lib\\site-packages\\sklearn\\preprocessing\\_encoders.py\", line 990, in inverse_transform\n",
      "    X_tr[:, i] = self.categories_[i][labels]\n",
      "IndexError: index 7 is out of bounds for axis 0 with size 2\n",
      "\n",
      "  warnings.warn(\n"
     ]
    },
    {
     "name": "stdout",
     "output_type": "stream",
     "text": [
      "7/7 [==============================] - 0s 976us/step\n",
      "7/7 [==============================] - 0s 955us/step\n"
     ]
    },
    {
     "name": "stderr",
     "output_type": "stream",
     "text": [
      "C:\\Users\\davul\\anaconda3\\lib\\site-packages\\sklearn\\model_selection\\_validation.py:770: UserWarning: Scoring failed. The score on this train-test partition for these parameters will be set to nan. Details: \n",
      "Traceback (most recent call last):\n",
      "  File \"C:\\Users\\davul\\anaconda3\\lib\\site-packages\\sklearn\\model_selection\\_validation.py\", line 761, in _score\n",
      "    scores = scorer(estimator, X_test, y_test)\n",
      "  File \"C:\\Users\\davul\\anaconda3\\lib\\site-packages\\sklearn\\metrics\\_scorer.py\", line 216, in __call__\n",
      "    return self._score(\n",
      "  File \"C:\\Users\\davul\\anaconda3\\lib\\site-packages\\sklearn\\metrics\\_scorer.py\", line 258, in _score\n",
      "    y_pred = method_caller(estimator, \"predict\", X)\n",
      "  File \"C:\\Users\\davul\\anaconda3\\lib\\site-packages\\sklearn\\metrics\\_scorer.py\", line 68, in _cached_call\n",
      "    return getattr(estimator, method)(*args, **kwargs)\n",
      "  File \"C:\\Users\\davul\\anaconda3\\lib\\site-packages\\scikeras\\wrappers.py\", line 1054, in predict\n",
      "    y_pred = self.target_encoder_.inverse_transform(y_pred)\n",
      "  File \"C:\\Users\\davul\\anaconda3\\lib\\site-packages\\scikeras\\utils\\transformers.py\", line 256, in inverse_transform\n",
      "    class_predictions = self._final_encoder.inverse_transform(class_predictions)\n",
      "  File \"C:\\Users\\davul\\anaconda3\\lib\\site-packages\\sklearn\\utils\\metaestimators.py\", line 113, in <lambda>\n",
      "    out = lambda *args, **kwargs: self.fn(obj, *args, **kwargs)  # noqa\n",
      "  File \"C:\\Users\\davul\\anaconda3\\lib\\site-packages\\sklearn\\pipeline.py\", line 675, in inverse_transform\n",
      "    Xt = transform.inverse_transform(Xt)\n",
      "  File \"C:\\Users\\davul\\anaconda3\\lib\\site-packages\\sklearn\\preprocessing\\_encoders.py\", line 990, in inverse_transform\n",
      "    X_tr[:, i] = self.categories_[i][labels]\n",
      "IndexError: index 6 is out of bounds for axis 0 with size 2\n",
      "\n",
      "  warnings.warn(\n"
     ]
    },
    {
     "name": "stdout",
     "output_type": "stream",
     "text": [
      "7/7 [==============================] - 0s 1ms/step\n"
     ]
    },
    {
     "name": "stderr",
     "output_type": "stream",
     "text": [
      "C:\\Users\\davul\\anaconda3\\lib\\site-packages\\sklearn\\model_selection\\_validation.py:770: UserWarning: Scoring failed. The score on this train-test partition for these parameters will be set to nan. Details: \n",
      "Traceback (most recent call last):\n",
      "  File \"C:\\Users\\davul\\anaconda3\\lib\\site-packages\\sklearn\\model_selection\\_validation.py\", line 761, in _score\n",
      "    scores = scorer(estimator, X_test, y_test)\n",
      "  File \"C:\\Users\\davul\\anaconda3\\lib\\site-packages\\sklearn\\metrics\\_scorer.py\", line 216, in __call__\n",
      "    return self._score(\n",
      "  File \"C:\\Users\\davul\\anaconda3\\lib\\site-packages\\sklearn\\metrics\\_scorer.py\", line 258, in _score\n",
      "    y_pred = method_caller(estimator, \"predict\", X)\n",
      "  File \"C:\\Users\\davul\\anaconda3\\lib\\site-packages\\sklearn\\metrics\\_scorer.py\", line 68, in _cached_call\n",
      "    return getattr(estimator, method)(*args, **kwargs)\n",
      "  File \"C:\\Users\\davul\\anaconda3\\lib\\site-packages\\scikeras\\wrappers.py\", line 1054, in predict\n",
      "    y_pred = self.target_encoder_.inverse_transform(y_pred)\n",
      "  File \"C:\\Users\\davul\\anaconda3\\lib\\site-packages\\scikeras\\utils\\transformers.py\", line 256, in inverse_transform\n",
      "    class_predictions = self._final_encoder.inverse_transform(class_predictions)\n",
      "  File \"C:\\Users\\davul\\anaconda3\\lib\\site-packages\\sklearn\\utils\\metaestimators.py\", line 113, in <lambda>\n",
      "    out = lambda *args, **kwargs: self.fn(obj, *args, **kwargs)  # noqa\n",
      "  File \"C:\\Users\\davul\\anaconda3\\lib\\site-packages\\sklearn\\pipeline.py\", line 675, in inverse_transform\n",
      "    Xt = transform.inverse_transform(Xt)\n",
      "  File \"C:\\Users\\davul\\anaconda3\\lib\\site-packages\\sklearn\\preprocessing\\_encoders.py\", line 990, in inverse_transform\n",
      "    X_tr[:, i] = self.categories_[i][labels]\n",
      "IndexError: index 3 is out of bounds for axis 0 with size 2\n",
      "\n",
      "  warnings.warn(\n"
     ]
    },
    {
     "name": "stdout",
     "output_type": "stream",
     "text": [
      "7/7 [==============================] - 0s 1ms/step\n",
      "7/7 [==============================] - 0s 1ms/step\n",
      "7/7 [==============================] - 0s 1ms/step\n"
     ]
    },
    {
     "name": "stderr",
     "output_type": "stream",
     "text": [
      "C:\\Users\\davul\\anaconda3\\lib\\site-packages\\sklearn\\model_selection\\_validation.py:770: UserWarning: Scoring failed. The score on this train-test partition for these parameters will be set to nan. Details: \n",
      "Traceback (most recent call last):\n",
      "  File \"C:\\Users\\davul\\anaconda3\\lib\\site-packages\\sklearn\\model_selection\\_validation.py\", line 761, in _score\n",
      "    scores = scorer(estimator, X_test, y_test)\n",
      "  File \"C:\\Users\\davul\\anaconda3\\lib\\site-packages\\sklearn\\metrics\\_scorer.py\", line 216, in __call__\n",
      "    return self._score(\n",
      "  File \"C:\\Users\\davul\\anaconda3\\lib\\site-packages\\sklearn\\metrics\\_scorer.py\", line 258, in _score\n",
      "    y_pred = method_caller(estimator, \"predict\", X)\n",
      "  File \"C:\\Users\\davul\\anaconda3\\lib\\site-packages\\sklearn\\metrics\\_scorer.py\", line 68, in _cached_call\n",
      "    return getattr(estimator, method)(*args, **kwargs)\n",
      "  File \"C:\\Users\\davul\\anaconda3\\lib\\site-packages\\scikeras\\wrappers.py\", line 1054, in predict\n",
      "    y_pred = self.target_encoder_.inverse_transform(y_pred)\n",
      "  File \"C:\\Users\\davul\\anaconda3\\lib\\site-packages\\scikeras\\utils\\transformers.py\", line 256, in inverse_transform\n",
      "    class_predictions = self._final_encoder.inverse_transform(class_predictions)\n",
      "  File \"C:\\Users\\davul\\anaconda3\\lib\\site-packages\\sklearn\\utils\\metaestimators.py\", line 113, in <lambda>\n",
      "    out = lambda *args, **kwargs: self.fn(obj, *args, **kwargs)  # noqa\n",
      "  File \"C:\\Users\\davul\\anaconda3\\lib\\site-packages\\sklearn\\pipeline.py\", line 675, in inverse_transform\n",
      "    Xt = transform.inverse_transform(Xt)\n",
      "  File \"C:\\Users\\davul\\anaconda3\\lib\\site-packages\\sklearn\\preprocessing\\_encoders.py\", line 990, in inverse_transform\n",
      "    X_tr[:, i] = self.categories_[i][labels]\n",
      "IndexError: index 6 is out of bounds for axis 0 with size 2\n",
      "\n",
      "  warnings.warn(\n"
     ]
    },
    {
     "name": "stdout",
     "output_type": "stream",
     "text": [
      "7/7 [==============================] - 0s 1ms/step\n"
     ]
    },
    {
     "name": "stderr",
     "output_type": "stream",
     "text": [
      "C:\\Users\\davul\\anaconda3\\lib\\site-packages\\sklearn\\model_selection\\_validation.py:770: UserWarning: Scoring failed. The score on this train-test partition for these parameters will be set to nan. Details: \n",
      "Traceback (most recent call last):\n",
      "  File \"C:\\Users\\davul\\anaconda3\\lib\\site-packages\\sklearn\\model_selection\\_validation.py\", line 761, in _score\n",
      "    scores = scorer(estimator, X_test, y_test)\n",
      "  File \"C:\\Users\\davul\\anaconda3\\lib\\site-packages\\sklearn\\metrics\\_scorer.py\", line 216, in __call__\n",
      "    return self._score(\n",
      "  File \"C:\\Users\\davul\\anaconda3\\lib\\site-packages\\sklearn\\metrics\\_scorer.py\", line 258, in _score\n",
      "    y_pred = method_caller(estimator, \"predict\", X)\n",
      "  File \"C:\\Users\\davul\\anaconda3\\lib\\site-packages\\sklearn\\metrics\\_scorer.py\", line 68, in _cached_call\n",
      "    return getattr(estimator, method)(*args, **kwargs)\n",
      "  File \"C:\\Users\\davul\\anaconda3\\lib\\site-packages\\scikeras\\wrappers.py\", line 1054, in predict\n",
      "    y_pred = self.target_encoder_.inverse_transform(y_pred)\n",
      "  File \"C:\\Users\\davul\\anaconda3\\lib\\site-packages\\scikeras\\utils\\transformers.py\", line 256, in inverse_transform\n",
      "    class_predictions = self._final_encoder.inverse_transform(class_predictions)\n",
      "  File \"C:\\Users\\davul\\anaconda3\\lib\\site-packages\\sklearn\\utils\\metaestimators.py\", line 113, in <lambda>\n",
      "    out = lambda *args, **kwargs: self.fn(obj, *args, **kwargs)  # noqa\n",
      "  File \"C:\\Users\\davul\\anaconda3\\lib\\site-packages\\sklearn\\pipeline.py\", line 675, in inverse_transform\n",
      "    Xt = transform.inverse_transform(Xt)\n",
      "  File \"C:\\Users\\davul\\anaconda3\\lib\\site-packages\\sklearn\\preprocessing\\_encoders.py\", line 990, in inverse_transform\n",
      "    X_tr[:, i] = self.categories_[i][labels]\n",
      "IndexError: index 7 is out of bounds for axis 0 with size 2\n",
      "\n",
      "  warnings.warn(\n"
     ]
    },
    {
     "name": "stdout",
     "output_type": "stream",
     "text": [
      "7/7 [==============================] - 0s 1ms/step\n"
     ]
    },
    {
     "name": "stderr",
     "output_type": "stream",
     "text": [
      "C:\\Users\\davul\\anaconda3\\lib\\site-packages\\sklearn\\model_selection\\_validation.py:770: UserWarning: Scoring failed. The score on this train-test partition for these parameters will be set to nan. Details: \n",
      "Traceback (most recent call last):\n",
      "  File \"C:\\Users\\davul\\anaconda3\\lib\\site-packages\\sklearn\\model_selection\\_validation.py\", line 761, in _score\n",
      "    scores = scorer(estimator, X_test, y_test)\n",
      "  File \"C:\\Users\\davul\\anaconda3\\lib\\site-packages\\sklearn\\metrics\\_scorer.py\", line 216, in __call__\n",
      "    return self._score(\n",
      "  File \"C:\\Users\\davul\\anaconda3\\lib\\site-packages\\sklearn\\metrics\\_scorer.py\", line 258, in _score\n",
      "    y_pred = method_caller(estimator, \"predict\", X)\n",
      "  File \"C:\\Users\\davul\\anaconda3\\lib\\site-packages\\sklearn\\metrics\\_scorer.py\", line 68, in _cached_call\n",
      "    return getattr(estimator, method)(*args, **kwargs)\n",
      "  File \"C:\\Users\\davul\\anaconda3\\lib\\site-packages\\scikeras\\wrappers.py\", line 1054, in predict\n",
      "    y_pred = self.target_encoder_.inverse_transform(y_pred)\n",
      "  File \"C:\\Users\\davul\\anaconda3\\lib\\site-packages\\scikeras\\utils\\transformers.py\", line 256, in inverse_transform\n",
      "    class_predictions = self._final_encoder.inverse_transform(class_predictions)\n",
      "  File \"C:\\Users\\davul\\anaconda3\\lib\\site-packages\\sklearn\\utils\\metaestimators.py\", line 113, in <lambda>\n",
      "    out = lambda *args, **kwargs: self.fn(obj, *args, **kwargs)  # noqa\n",
      "  File \"C:\\Users\\davul\\anaconda3\\lib\\site-packages\\sklearn\\pipeline.py\", line 675, in inverse_transform\n",
      "    Xt = transform.inverse_transform(Xt)\n",
      "  File \"C:\\Users\\davul\\anaconda3\\lib\\site-packages\\sklearn\\preprocessing\\_encoders.py\", line 990, in inverse_transform\n",
      "    X_tr[:, i] = self.categories_[i][labels]\n",
      "IndexError: index 5 is out of bounds for axis 0 with size 2\n",
      "\n",
      "  warnings.warn(\n"
     ]
    },
    {
     "name": "stdout",
     "output_type": "stream",
     "text": [
      "7/7 [==============================] - 0s 2ms/step\n"
     ]
    },
    {
     "name": "stderr",
     "output_type": "stream",
     "text": [
      "C:\\Users\\davul\\anaconda3\\lib\\site-packages\\sklearn\\model_selection\\_validation.py:770: UserWarning: Scoring failed. The score on this train-test partition for these parameters will be set to nan. Details: \n",
      "Traceback (most recent call last):\n",
      "  File \"C:\\Users\\davul\\anaconda3\\lib\\site-packages\\sklearn\\model_selection\\_validation.py\", line 761, in _score\n",
      "    scores = scorer(estimator, X_test, y_test)\n",
      "  File \"C:\\Users\\davul\\anaconda3\\lib\\site-packages\\sklearn\\metrics\\_scorer.py\", line 216, in __call__\n",
      "    return self._score(\n",
      "  File \"C:\\Users\\davul\\anaconda3\\lib\\site-packages\\sklearn\\metrics\\_scorer.py\", line 258, in _score\n",
      "    y_pred = method_caller(estimator, \"predict\", X)\n",
      "  File \"C:\\Users\\davul\\anaconda3\\lib\\site-packages\\sklearn\\metrics\\_scorer.py\", line 68, in _cached_call\n",
      "    return getattr(estimator, method)(*args, **kwargs)\n",
      "  File \"C:\\Users\\davul\\anaconda3\\lib\\site-packages\\scikeras\\wrappers.py\", line 1054, in predict\n",
      "    y_pred = self.target_encoder_.inverse_transform(y_pred)\n",
      "  File \"C:\\Users\\davul\\anaconda3\\lib\\site-packages\\scikeras\\utils\\transformers.py\", line 256, in inverse_transform\n",
      "    class_predictions = self._final_encoder.inverse_transform(class_predictions)\n",
      "  File \"C:\\Users\\davul\\anaconda3\\lib\\site-packages\\sklearn\\utils\\metaestimators.py\", line 113, in <lambda>\n",
      "    out = lambda *args, **kwargs: self.fn(obj, *args, **kwargs)  # noqa\n",
      "  File \"C:\\Users\\davul\\anaconda3\\lib\\site-packages\\sklearn\\pipeline.py\", line 675, in inverse_transform\n",
      "    Xt = transform.inverse_transform(Xt)\n",
      "  File \"C:\\Users\\davul\\anaconda3\\lib\\site-packages\\sklearn\\preprocessing\\_encoders.py\", line 990, in inverse_transform\n",
      "    X_tr[:, i] = self.categories_[i][labels]\n",
      "IndexError: index 5 is out of bounds for axis 0 with size 2\n",
      "\n",
      "  warnings.warn(\n"
     ]
    },
    {
     "name": "stdout",
     "output_type": "stream",
     "text": [
      "7/7 [==============================] - 0s 1ms/step\n"
     ]
    },
    {
     "name": "stderr",
     "output_type": "stream",
     "text": [
      "C:\\Users\\davul\\anaconda3\\lib\\site-packages\\sklearn\\model_selection\\_validation.py:770: UserWarning: Scoring failed. The score on this train-test partition for these parameters will be set to nan. Details: \n",
      "Traceback (most recent call last):\n",
      "  File \"C:\\Users\\davul\\anaconda3\\lib\\site-packages\\sklearn\\model_selection\\_validation.py\", line 761, in _score\n",
      "    scores = scorer(estimator, X_test, y_test)\n",
      "  File \"C:\\Users\\davul\\anaconda3\\lib\\site-packages\\sklearn\\metrics\\_scorer.py\", line 216, in __call__\n",
      "    return self._score(\n",
      "  File \"C:\\Users\\davul\\anaconda3\\lib\\site-packages\\sklearn\\metrics\\_scorer.py\", line 258, in _score\n",
      "    y_pred = method_caller(estimator, \"predict\", X)\n",
      "  File \"C:\\Users\\davul\\anaconda3\\lib\\site-packages\\sklearn\\metrics\\_scorer.py\", line 68, in _cached_call\n",
      "    return getattr(estimator, method)(*args, **kwargs)\n",
      "  File \"C:\\Users\\davul\\anaconda3\\lib\\site-packages\\scikeras\\wrappers.py\", line 1054, in predict\n",
      "    y_pred = self.target_encoder_.inverse_transform(y_pred)\n",
      "  File \"C:\\Users\\davul\\anaconda3\\lib\\site-packages\\scikeras\\utils\\transformers.py\", line 256, in inverse_transform\n",
      "    class_predictions = self._final_encoder.inverse_transform(class_predictions)\n",
      "  File \"C:\\Users\\davul\\anaconda3\\lib\\site-packages\\sklearn\\utils\\metaestimators.py\", line 113, in <lambda>\n",
      "    out = lambda *args, **kwargs: self.fn(obj, *args, **kwargs)  # noqa\n",
      "  File \"C:\\Users\\davul\\anaconda3\\lib\\site-packages\\sklearn\\pipeline.py\", line 675, in inverse_transform\n",
      "    Xt = transform.inverse_transform(Xt)\n",
      "  File \"C:\\Users\\davul\\anaconda3\\lib\\site-packages\\sklearn\\preprocessing\\_encoders.py\", line 990, in inverse_transform\n",
      "    X_tr[:, i] = self.categories_[i][labels]\n",
      "IndexError: index 6 is out of bounds for axis 0 with size 2\n",
      "\n",
      "  warnings.warn(\n"
     ]
    },
    {
     "name": "stdout",
     "output_type": "stream",
     "text": [
      "3/3 [==============================] - 0s 2ms/step\n",
      "3/3 [==============================] - 0s 2ms/step\n"
     ]
    },
    {
     "name": "stderr",
     "output_type": "stream",
     "text": [
      "C:\\Users\\davul\\anaconda3\\lib\\site-packages\\sklearn\\model_selection\\_validation.py:770: UserWarning: Scoring failed. The score on this train-test partition for these parameters will be set to nan. Details: \n",
      "Traceback (most recent call last):\n",
      "  File \"C:\\Users\\davul\\anaconda3\\lib\\site-packages\\sklearn\\model_selection\\_validation.py\", line 761, in _score\n",
      "    scores = scorer(estimator, X_test, y_test)\n",
      "  File \"C:\\Users\\davul\\anaconda3\\lib\\site-packages\\sklearn\\metrics\\_scorer.py\", line 216, in __call__\n",
      "    return self._score(\n",
      "  File \"C:\\Users\\davul\\anaconda3\\lib\\site-packages\\sklearn\\metrics\\_scorer.py\", line 258, in _score\n",
      "    y_pred = method_caller(estimator, \"predict\", X)\n",
      "  File \"C:\\Users\\davul\\anaconda3\\lib\\site-packages\\sklearn\\metrics\\_scorer.py\", line 68, in _cached_call\n",
      "    return getattr(estimator, method)(*args, **kwargs)\n",
      "  File \"C:\\Users\\davul\\anaconda3\\lib\\site-packages\\scikeras\\wrappers.py\", line 1054, in predict\n",
      "    y_pred = self.target_encoder_.inverse_transform(y_pred)\n",
      "  File \"C:\\Users\\davul\\anaconda3\\lib\\site-packages\\scikeras\\utils\\transformers.py\", line 256, in inverse_transform\n",
      "    class_predictions = self._final_encoder.inverse_transform(class_predictions)\n",
      "  File \"C:\\Users\\davul\\anaconda3\\lib\\site-packages\\sklearn\\utils\\metaestimators.py\", line 113, in <lambda>\n",
      "    out = lambda *args, **kwargs: self.fn(obj, *args, **kwargs)  # noqa\n",
      "  File \"C:\\Users\\davul\\anaconda3\\lib\\site-packages\\sklearn\\pipeline.py\", line 675, in inverse_transform\n",
      "    Xt = transform.inverse_transform(Xt)\n",
      "  File \"C:\\Users\\davul\\anaconda3\\lib\\site-packages\\sklearn\\preprocessing\\_encoders.py\", line 990, in inverse_transform\n",
      "    X_tr[:, i] = self.categories_[i][labels]\n",
      "IndexError: index 6 is out of bounds for axis 0 with size 2\n",
      "\n",
      "  warnings.warn(\n"
     ]
    },
    {
     "name": "stdout",
     "output_type": "stream",
     "text": [
      "3/3 [==============================] - 0s 2ms/step\n"
     ]
    },
    {
     "name": "stderr",
     "output_type": "stream",
     "text": [
      "C:\\Users\\davul\\anaconda3\\lib\\site-packages\\sklearn\\model_selection\\_validation.py:770: UserWarning: Scoring failed. The score on this train-test partition for these parameters will be set to nan. Details: \n",
      "Traceback (most recent call last):\n",
      "  File \"C:\\Users\\davul\\anaconda3\\lib\\site-packages\\sklearn\\model_selection\\_validation.py\", line 761, in _score\n",
      "    scores = scorer(estimator, X_test, y_test)\n",
      "  File \"C:\\Users\\davul\\anaconda3\\lib\\site-packages\\sklearn\\metrics\\_scorer.py\", line 216, in __call__\n",
      "    return self._score(\n",
      "  File \"C:\\Users\\davul\\anaconda3\\lib\\site-packages\\sklearn\\metrics\\_scorer.py\", line 258, in _score\n",
      "    y_pred = method_caller(estimator, \"predict\", X)\n",
      "  File \"C:\\Users\\davul\\anaconda3\\lib\\site-packages\\sklearn\\metrics\\_scorer.py\", line 68, in _cached_call\n",
      "    return getattr(estimator, method)(*args, **kwargs)\n",
      "  File \"C:\\Users\\davul\\anaconda3\\lib\\site-packages\\scikeras\\wrappers.py\", line 1054, in predict\n",
      "    y_pred = self.target_encoder_.inverse_transform(y_pred)\n",
      "  File \"C:\\Users\\davul\\anaconda3\\lib\\site-packages\\scikeras\\utils\\transformers.py\", line 256, in inverse_transform\n",
      "    class_predictions = self._final_encoder.inverse_transform(class_predictions)\n",
      "  File \"C:\\Users\\davul\\anaconda3\\lib\\site-packages\\sklearn\\utils\\metaestimators.py\", line 113, in <lambda>\n",
      "    out = lambda *args, **kwargs: self.fn(obj, *args, **kwargs)  # noqa\n",
      "  File \"C:\\Users\\davul\\anaconda3\\lib\\site-packages\\sklearn\\pipeline.py\", line 675, in inverse_transform\n",
      "    Xt = transform.inverse_transform(Xt)\n",
      "  File \"C:\\Users\\davul\\anaconda3\\lib\\site-packages\\sklearn\\preprocessing\\_encoders.py\", line 990, in inverse_transform\n",
      "    X_tr[:, i] = self.categories_[i][labels]\n",
      "IndexError: index 7 is out of bounds for axis 0 with size 2\n",
      "\n",
      "  warnings.warn(\n"
     ]
    },
    {
     "name": "stdout",
     "output_type": "stream",
     "text": [
      "3/3 [==============================] - 0s 1ms/step\n",
      "3/3 [==============================] - 0s 1ms/step\n",
      "3/3 [==============================] - 0s 2ms/step\n",
      "3/3 [==============================] - 0s 2ms/step\n"
     ]
    },
    {
     "name": "stderr",
     "output_type": "stream",
     "text": [
      "C:\\Users\\davul\\anaconda3\\lib\\site-packages\\sklearn\\model_selection\\_validation.py:770: UserWarning: Scoring failed. The score on this train-test partition for these parameters will be set to nan. Details: \n",
      "Traceback (most recent call last):\n",
      "  File \"C:\\Users\\davul\\anaconda3\\lib\\site-packages\\sklearn\\model_selection\\_validation.py\", line 761, in _score\n",
      "    scores = scorer(estimator, X_test, y_test)\n",
      "  File \"C:\\Users\\davul\\anaconda3\\lib\\site-packages\\sklearn\\metrics\\_scorer.py\", line 216, in __call__\n",
      "    return self._score(\n",
      "  File \"C:\\Users\\davul\\anaconda3\\lib\\site-packages\\sklearn\\metrics\\_scorer.py\", line 258, in _score\n",
      "    y_pred = method_caller(estimator, \"predict\", X)\n",
      "  File \"C:\\Users\\davul\\anaconda3\\lib\\site-packages\\sklearn\\metrics\\_scorer.py\", line 68, in _cached_call\n",
      "    return getattr(estimator, method)(*args, **kwargs)\n",
      "  File \"C:\\Users\\davul\\anaconda3\\lib\\site-packages\\scikeras\\wrappers.py\", line 1054, in predict\n",
      "    y_pred = self.target_encoder_.inverse_transform(y_pred)\n",
      "  File \"C:\\Users\\davul\\anaconda3\\lib\\site-packages\\scikeras\\utils\\transformers.py\", line 256, in inverse_transform\n",
      "    class_predictions = self._final_encoder.inverse_transform(class_predictions)\n",
      "  File \"C:\\Users\\davul\\anaconda3\\lib\\site-packages\\sklearn\\utils\\metaestimators.py\", line 113, in <lambda>\n",
      "    out = lambda *args, **kwargs: self.fn(obj, *args, **kwargs)  # noqa\n",
      "  File \"C:\\Users\\davul\\anaconda3\\lib\\site-packages\\sklearn\\pipeline.py\", line 675, in inverse_transform\n",
      "    Xt = transform.inverse_transform(Xt)\n",
      "  File \"C:\\Users\\davul\\anaconda3\\lib\\site-packages\\sklearn\\preprocessing\\_encoders.py\", line 990, in inverse_transform\n",
      "    X_tr[:, i] = self.categories_[i][labels]\n",
      "IndexError: index 4 is out of bounds for axis 0 with size 2\n",
      "\n",
      "  warnings.warn(\n"
     ]
    },
    {
     "name": "stdout",
     "output_type": "stream",
     "text": [
      "3/3 [==============================] - 0s 2ms/step\n"
     ]
    },
    {
     "name": "stderr",
     "output_type": "stream",
     "text": [
      "C:\\Users\\davul\\anaconda3\\lib\\site-packages\\sklearn\\model_selection\\_validation.py:770: UserWarning: Scoring failed. The score on this train-test partition for these parameters will be set to nan. Details: \n",
      "Traceback (most recent call last):\n",
      "  File \"C:\\Users\\davul\\anaconda3\\lib\\site-packages\\sklearn\\model_selection\\_validation.py\", line 761, in _score\n",
      "    scores = scorer(estimator, X_test, y_test)\n",
      "  File \"C:\\Users\\davul\\anaconda3\\lib\\site-packages\\sklearn\\metrics\\_scorer.py\", line 216, in __call__\n",
      "    return self._score(\n",
      "  File \"C:\\Users\\davul\\anaconda3\\lib\\site-packages\\sklearn\\metrics\\_scorer.py\", line 258, in _score\n",
      "    y_pred = method_caller(estimator, \"predict\", X)\n",
      "  File \"C:\\Users\\davul\\anaconda3\\lib\\site-packages\\sklearn\\metrics\\_scorer.py\", line 68, in _cached_call\n",
      "    return getattr(estimator, method)(*args, **kwargs)\n",
      "  File \"C:\\Users\\davul\\anaconda3\\lib\\site-packages\\scikeras\\wrappers.py\", line 1054, in predict\n",
      "    y_pred = self.target_encoder_.inverse_transform(y_pred)\n",
      "  File \"C:\\Users\\davul\\anaconda3\\lib\\site-packages\\scikeras\\utils\\transformers.py\", line 256, in inverse_transform\n",
      "    class_predictions = self._final_encoder.inverse_transform(class_predictions)\n",
      "  File \"C:\\Users\\davul\\anaconda3\\lib\\site-packages\\sklearn\\utils\\metaestimators.py\", line 113, in <lambda>\n",
      "    out = lambda *args, **kwargs: self.fn(obj, *args, **kwargs)  # noqa\n",
      "  File \"C:\\Users\\davul\\anaconda3\\lib\\site-packages\\sklearn\\pipeline.py\", line 675, in inverse_transform\n",
      "    Xt = transform.inverse_transform(Xt)\n",
      "  File \"C:\\Users\\davul\\anaconda3\\lib\\site-packages\\sklearn\\preprocessing\\_encoders.py\", line 990, in inverse_transform\n",
      "    X_tr[:, i] = self.categories_[i][labels]\n",
      "IndexError: index 5 is out of bounds for axis 0 with size 2\n",
      "\n",
      "  warnings.warn(\n"
     ]
    },
    {
     "name": "stdout",
     "output_type": "stream",
     "text": [
      "3/3 [==============================] - 0s 2ms/step\n",
      "3/3 [==============================] - 0s 2ms/step\n",
      "2/2 [==============================] - 0s 2ms/step\n"
     ]
    },
    {
     "name": "stderr",
     "output_type": "stream",
     "text": [
      "C:\\Users\\davul\\anaconda3\\lib\\site-packages\\sklearn\\model_selection\\_validation.py:770: UserWarning: Scoring failed. The score on this train-test partition for these parameters will be set to nan. Details: \n",
      "Traceback (most recent call last):\n",
      "  File \"C:\\Users\\davul\\anaconda3\\lib\\site-packages\\sklearn\\model_selection\\_validation.py\", line 761, in _score\n",
      "    scores = scorer(estimator, X_test, y_test)\n",
      "  File \"C:\\Users\\davul\\anaconda3\\lib\\site-packages\\sklearn\\metrics\\_scorer.py\", line 216, in __call__\n",
      "    return self._score(\n",
      "  File \"C:\\Users\\davul\\anaconda3\\lib\\site-packages\\sklearn\\metrics\\_scorer.py\", line 258, in _score\n",
      "    y_pred = method_caller(estimator, \"predict\", X)\n",
      "  File \"C:\\Users\\davul\\anaconda3\\lib\\site-packages\\sklearn\\metrics\\_scorer.py\", line 68, in _cached_call\n",
      "    return getattr(estimator, method)(*args, **kwargs)\n",
      "  File \"C:\\Users\\davul\\anaconda3\\lib\\site-packages\\scikeras\\wrappers.py\", line 1054, in predict\n",
      "    y_pred = self.target_encoder_.inverse_transform(y_pred)\n",
      "  File \"C:\\Users\\davul\\anaconda3\\lib\\site-packages\\scikeras\\utils\\transformers.py\", line 256, in inverse_transform\n",
      "    class_predictions = self._final_encoder.inverse_transform(class_predictions)\n",
      "  File \"C:\\Users\\davul\\anaconda3\\lib\\site-packages\\sklearn\\utils\\metaestimators.py\", line 113, in <lambda>\n",
      "    out = lambda *args, **kwargs: self.fn(obj, *args, **kwargs)  # noqa\n",
      "  File \"C:\\Users\\davul\\anaconda3\\lib\\site-packages\\sklearn\\pipeline.py\", line 675, in inverse_transform\n",
      "    Xt = transform.inverse_transform(Xt)\n",
      "  File \"C:\\Users\\davul\\anaconda3\\lib\\site-packages\\sklearn\\preprocessing\\_encoders.py\", line 990, in inverse_transform\n",
      "    X_tr[:, i] = self.categories_[i][labels]\n",
      "IndexError: index 3 is out of bounds for axis 0 with size 2\n",
      "\n",
      "  warnings.warn(\n"
     ]
    },
    {
     "name": "stdout",
     "output_type": "stream",
     "text": [
      "2/2 [==============================] - 0s 2ms/step\n"
     ]
    },
    {
     "name": "stderr",
     "output_type": "stream",
     "text": [
      "C:\\Users\\davul\\anaconda3\\lib\\site-packages\\sklearn\\model_selection\\_validation.py:770: UserWarning: Scoring failed. The score on this train-test partition for these parameters will be set to nan. Details: \n",
      "Traceback (most recent call last):\n",
      "  File \"C:\\Users\\davul\\anaconda3\\lib\\site-packages\\sklearn\\model_selection\\_validation.py\", line 761, in _score\n",
      "    scores = scorer(estimator, X_test, y_test)\n",
      "  File \"C:\\Users\\davul\\anaconda3\\lib\\site-packages\\sklearn\\metrics\\_scorer.py\", line 216, in __call__\n",
      "    return self._score(\n",
      "  File \"C:\\Users\\davul\\anaconda3\\lib\\site-packages\\sklearn\\metrics\\_scorer.py\", line 258, in _score\n",
      "    y_pred = method_caller(estimator, \"predict\", X)\n",
      "  File \"C:\\Users\\davul\\anaconda3\\lib\\site-packages\\sklearn\\metrics\\_scorer.py\", line 68, in _cached_call\n",
      "    return getattr(estimator, method)(*args, **kwargs)\n",
      "  File \"C:\\Users\\davul\\anaconda3\\lib\\site-packages\\scikeras\\wrappers.py\", line 1054, in predict\n",
      "    y_pred = self.target_encoder_.inverse_transform(y_pred)\n",
      "  File \"C:\\Users\\davul\\anaconda3\\lib\\site-packages\\scikeras\\utils\\transformers.py\", line 256, in inverse_transform\n",
      "    class_predictions = self._final_encoder.inverse_transform(class_predictions)\n",
      "  File \"C:\\Users\\davul\\anaconda3\\lib\\site-packages\\sklearn\\utils\\metaestimators.py\", line 113, in <lambda>\n",
      "    out = lambda *args, **kwargs: self.fn(obj, *args, **kwargs)  # noqa\n",
      "  File \"C:\\Users\\davul\\anaconda3\\lib\\site-packages\\sklearn\\pipeline.py\", line 675, in inverse_transform\n",
      "    Xt = transform.inverse_transform(Xt)\n",
      "  File \"C:\\Users\\davul\\anaconda3\\lib\\site-packages\\sklearn\\preprocessing\\_encoders.py\", line 990, in inverse_transform\n",
      "    X_tr[:, i] = self.categories_[i][labels]\n",
      "IndexError: index 8 is out of bounds for axis 0 with size 2\n",
      "\n",
      "  warnings.warn(\n"
     ]
    },
    {
     "name": "stdout",
     "output_type": "stream",
     "text": [
      "2/2 [==============================] - 0s 2ms/step\n"
     ]
    },
    {
     "name": "stderr",
     "output_type": "stream",
     "text": [
      "C:\\Users\\davul\\anaconda3\\lib\\site-packages\\sklearn\\model_selection\\_validation.py:770: UserWarning: Scoring failed. The score on this train-test partition for these parameters will be set to nan. Details: \n",
      "Traceback (most recent call last):\n",
      "  File \"C:\\Users\\davul\\anaconda3\\lib\\site-packages\\sklearn\\model_selection\\_validation.py\", line 761, in _score\n",
      "    scores = scorer(estimator, X_test, y_test)\n",
      "  File \"C:\\Users\\davul\\anaconda3\\lib\\site-packages\\sklearn\\metrics\\_scorer.py\", line 216, in __call__\n",
      "    return self._score(\n",
      "  File \"C:\\Users\\davul\\anaconda3\\lib\\site-packages\\sklearn\\metrics\\_scorer.py\", line 258, in _score\n",
      "    y_pred = method_caller(estimator, \"predict\", X)\n",
      "  File \"C:\\Users\\davul\\anaconda3\\lib\\site-packages\\sklearn\\metrics\\_scorer.py\", line 68, in _cached_call\n",
      "    return getattr(estimator, method)(*args, **kwargs)\n",
      "  File \"C:\\Users\\davul\\anaconda3\\lib\\site-packages\\scikeras\\wrappers.py\", line 1054, in predict\n",
      "    y_pred = self.target_encoder_.inverse_transform(y_pred)\n",
      "  File \"C:\\Users\\davul\\anaconda3\\lib\\site-packages\\scikeras\\utils\\transformers.py\", line 256, in inverse_transform\n",
      "    class_predictions = self._final_encoder.inverse_transform(class_predictions)\n",
      "  File \"C:\\Users\\davul\\anaconda3\\lib\\site-packages\\sklearn\\utils\\metaestimators.py\", line 113, in <lambda>\n",
      "    out = lambda *args, **kwargs: self.fn(obj, *args, **kwargs)  # noqa\n",
      "  File \"C:\\Users\\davul\\anaconda3\\lib\\site-packages\\sklearn\\pipeline.py\", line 675, in inverse_transform\n",
      "    Xt = transform.inverse_transform(Xt)\n",
      "  File \"C:\\Users\\davul\\anaconda3\\lib\\site-packages\\sklearn\\preprocessing\\_encoders.py\", line 990, in inverse_transform\n",
      "    X_tr[:, i] = self.categories_[i][labels]\n",
      "IndexError: index 8 is out of bounds for axis 0 with size 2\n",
      "\n",
      "  warnings.warn(\n"
     ]
    },
    {
     "name": "stdout",
     "output_type": "stream",
     "text": [
      "2/2 [==============================] - 0s 1ms/step\n"
     ]
    },
    {
     "name": "stderr",
     "output_type": "stream",
     "text": [
      "C:\\Users\\davul\\anaconda3\\lib\\site-packages\\sklearn\\model_selection\\_validation.py:770: UserWarning: Scoring failed. The score on this train-test partition for these parameters will be set to nan. Details: \n",
      "Traceback (most recent call last):\n",
      "  File \"C:\\Users\\davul\\anaconda3\\lib\\site-packages\\sklearn\\model_selection\\_validation.py\", line 761, in _score\n",
      "    scores = scorer(estimator, X_test, y_test)\n",
      "  File \"C:\\Users\\davul\\anaconda3\\lib\\site-packages\\sklearn\\metrics\\_scorer.py\", line 216, in __call__\n",
      "    return self._score(\n",
      "  File \"C:\\Users\\davul\\anaconda3\\lib\\site-packages\\sklearn\\metrics\\_scorer.py\", line 258, in _score\n",
      "    y_pred = method_caller(estimator, \"predict\", X)\n",
      "  File \"C:\\Users\\davul\\anaconda3\\lib\\site-packages\\sklearn\\metrics\\_scorer.py\", line 68, in _cached_call\n",
      "    return getattr(estimator, method)(*args, **kwargs)\n",
      "  File \"C:\\Users\\davul\\anaconda3\\lib\\site-packages\\scikeras\\wrappers.py\", line 1054, in predict\n",
      "    y_pred = self.target_encoder_.inverse_transform(y_pred)\n",
      "  File \"C:\\Users\\davul\\anaconda3\\lib\\site-packages\\scikeras\\utils\\transformers.py\", line 256, in inverse_transform\n",
      "    class_predictions = self._final_encoder.inverse_transform(class_predictions)\n",
      "  File \"C:\\Users\\davul\\anaconda3\\lib\\site-packages\\sklearn\\utils\\metaestimators.py\", line 113, in <lambda>\n",
      "    out = lambda *args, **kwargs: self.fn(obj, *args, **kwargs)  # noqa\n",
      "  File \"C:\\Users\\davul\\anaconda3\\lib\\site-packages\\sklearn\\pipeline.py\", line 675, in inverse_transform\n",
      "    Xt = transform.inverse_transform(Xt)\n",
      "  File \"C:\\Users\\davul\\anaconda3\\lib\\site-packages\\sklearn\\preprocessing\\_encoders.py\", line 990, in inverse_transform\n",
      "    X_tr[:, i] = self.categories_[i][labels]\n",
      "IndexError: index 4 is out of bounds for axis 0 with size 2\n",
      "\n",
      "  warnings.warn(\n"
     ]
    },
    {
     "name": "stdout",
     "output_type": "stream",
     "text": [
      "2/2 [==============================] - 0s 2ms/step\n"
     ]
    },
    {
     "name": "stderr",
     "output_type": "stream",
     "text": [
      "C:\\Users\\davul\\anaconda3\\lib\\site-packages\\sklearn\\model_selection\\_validation.py:770: UserWarning: Scoring failed. The score on this train-test partition for these parameters will be set to nan. Details: \n",
      "Traceback (most recent call last):\n",
      "  File \"C:\\Users\\davul\\anaconda3\\lib\\site-packages\\sklearn\\model_selection\\_validation.py\", line 761, in _score\n",
      "    scores = scorer(estimator, X_test, y_test)\n",
      "  File \"C:\\Users\\davul\\anaconda3\\lib\\site-packages\\sklearn\\metrics\\_scorer.py\", line 216, in __call__\n",
      "    return self._score(\n",
      "  File \"C:\\Users\\davul\\anaconda3\\lib\\site-packages\\sklearn\\metrics\\_scorer.py\", line 258, in _score\n",
      "    y_pred = method_caller(estimator, \"predict\", X)\n",
      "  File \"C:\\Users\\davul\\anaconda3\\lib\\site-packages\\sklearn\\metrics\\_scorer.py\", line 68, in _cached_call\n",
      "    return getattr(estimator, method)(*args, **kwargs)\n",
      "  File \"C:\\Users\\davul\\anaconda3\\lib\\site-packages\\scikeras\\wrappers.py\", line 1054, in predict\n",
      "    y_pred = self.target_encoder_.inverse_transform(y_pred)\n",
      "  File \"C:\\Users\\davul\\anaconda3\\lib\\site-packages\\scikeras\\utils\\transformers.py\", line 256, in inverse_transform\n",
      "    class_predictions = self._final_encoder.inverse_transform(class_predictions)\n",
      "  File \"C:\\Users\\davul\\anaconda3\\lib\\site-packages\\sklearn\\utils\\metaestimators.py\", line 113, in <lambda>\n",
      "    out = lambda *args, **kwargs: self.fn(obj, *args, **kwargs)  # noqa\n",
      "  File \"C:\\Users\\davul\\anaconda3\\lib\\site-packages\\sklearn\\pipeline.py\", line 675, in inverse_transform\n",
      "    Xt = transform.inverse_transform(Xt)\n",
      "  File \"C:\\Users\\davul\\anaconda3\\lib\\site-packages\\sklearn\\preprocessing\\_encoders.py\", line 990, in inverse_transform\n",
      "    X_tr[:, i] = self.categories_[i][labels]\n",
      "IndexError: index 7 is out of bounds for axis 0 with size 2\n",
      "\n",
      "  warnings.warn(\n"
     ]
    },
    {
     "name": "stdout",
     "output_type": "stream",
     "text": [
      "3/3 [==============================] - 0s 1ms/step\n"
     ]
    },
    {
     "name": "stderr",
     "output_type": "stream",
     "text": [
      "C:\\Users\\davul\\anaconda3\\lib\\site-packages\\sklearn\\model_selection\\_validation.py:770: UserWarning: Scoring failed. The score on this train-test partition for these parameters will be set to nan. Details: \n",
      "Traceback (most recent call last):\n",
      "  File \"C:\\Users\\davul\\anaconda3\\lib\\site-packages\\sklearn\\model_selection\\_validation.py\", line 761, in _score\n",
      "    scores = scorer(estimator, X_test, y_test)\n",
      "  File \"C:\\Users\\davul\\anaconda3\\lib\\site-packages\\sklearn\\metrics\\_scorer.py\", line 216, in __call__\n",
      "    return self._score(\n",
      "  File \"C:\\Users\\davul\\anaconda3\\lib\\site-packages\\sklearn\\metrics\\_scorer.py\", line 258, in _score\n",
      "    y_pred = method_caller(estimator, \"predict\", X)\n",
      "  File \"C:\\Users\\davul\\anaconda3\\lib\\site-packages\\sklearn\\metrics\\_scorer.py\", line 68, in _cached_call\n",
      "    return getattr(estimator, method)(*args, **kwargs)\n",
      "  File \"C:\\Users\\davul\\anaconda3\\lib\\site-packages\\scikeras\\wrappers.py\", line 1054, in predict\n",
      "    y_pred = self.target_encoder_.inverse_transform(y_pred)\n",
      "  File \"C:\\Users\\davul\\anaconda3\\lib\\site-packages\\scikeras\\utils\\transformers.py\", line 256, in inverse_transform\n",
      "    class_predictions = self._final_encoder.inverse_transform(class_predictions)\n",
      "  File \"C:\\Users\\davul\\anaconda3\\lib\\site-packages\\sklearn\\utils\\metaestimators.py\", line 113, in <lambda>\n",
      "    out = lambda *args, **kwargs: self.fn(obj, *args, **kwargs)  # noqa\n",
      "  File \"C:\\Users\\davul\\anaconda3\\lib\\site-packages\\sklearn\\pipeline.py\", line 675, in inverse_transform\n",
      "    Xt = transform.inverse_transform(Xt)\n",
      "  File \"C:\\Users\\davul\\anaconda3\\lib\\site-packages\\sklearn\\preprocessing\\_encoders.py\", line 990, in inverse_transform\n",
      "    X_tr[:, i] = self.categories_[i][labels]\n",
      "IndexError: index 7 is out of bounds for axis 0 with size 2\n",
      "\n",
      "  warnings.warn(\n"
     ]
    },
    {
     "name": "stdout",
     "output_type": "stream",
     "text": [
      "3/3 [==============================] - 0s 1ms/step\n"
     ]
    },
    {
     "name": "stderr",
     "output_type": "stream",
     "text": [
      "C:\\Users\\davul\\anaconda3\\lib\\site-packages\\sklearn\\model_selection\\_validation.py:770: UserWarning: Scoring failed. The score on this train-test partition for these parameters will be set to nan. Details: \n",
      "Traceback (most recent call last):\n",
      "  File \"C:\\Users\\davul\\anaconda3\\lib\\site-packages\\sklearn\\model_selection\\_validation.py\", line 761, in _score\n",
      "    scores = scorer(estimator, X_test, y_test)\n",
      "  File \"C:\\Users\\davul\\anaconda3\\lib\\site-packages\\sklearn\\metrics\\_scorer.py\", line 216, in __call__\n",
      "    return self._score(\n",
      "  File \"C:\\Users\\davul\\anaconda3\\lib\\site-packages\\sklearn\\metrics\\_scorer.py\", line 258, in _score\n",
      "    y_pred = method_caller(estimator, \"predict\", X)\n",
      "  File \"C:\\Users\\davul\\anaconda3\\lib\\site-packages\\sklearn\\metrics\\_scorer.py\", line 68, in _cached_call\n",
      "    return getattr(estimator, method)(*args, **kwargs)\n",
      "  File \"C:\\Users\\davul\\anaconda3\\lib\\site-packages\\scikeras\\wrappers.py\", line 1054, in predict\n",
      "    y_pred = self.target_encoder_.inverse_transform(y_pred)\n",
      "  File \"C:\\Users\\davul\\anaconda3\\lib\\site-packages\\scikeras\\utils\\transformers.py\", line 256, in inverse_transform\n",
      "    class_predictions = self._final_encoder.inverse_transform(class_predictions)\n",
      "  File \"C:\\Users\\davul\\anaconda3\\lib\\site-packages\\sklearn\\utils\\metaestimators.py\", line 113, in <lambda>\n",
      "    out = lambda *args, **kwargs: self.fn(obj, *args, **kwargs)  # noqa\n",
      "  File \"C:\\Users\\davul\\anaconda3\\lib\\site-packages\\sklearn\\pipeline.py\", line 675, in inverse_transform\n",
      "    Xt = transform.inverse_transform(Xt)\n",
      "  File \"C:\\Users\\davul\\anaconda3\\lib\\site-packages\\sklearn\\preprocessing\\_encoders.py\", line 990, in inverse_transform\n",
      "    X_tr[:, i] = self.categories_[i][labels]\n",
      "IndexError: index 4 is out of bounds for axis 0 with size 2\n",
      "\n",
      "  warnings.warn(\n"
     ]
    },
    {
     "name": "stdout",
     "output_type": "stream",
     "text": [
      "3/3 [==============================] - 0s 1ms/step\n"
     ]
    },
    {
     "name": "stderr",
     "output_type": "stream",
     "text": [
      "C:\\Users\\davul\\anaconda3\\lib\\site-packages\\sklearn\\model_selection\\_validation.py:770: UserWarning: Scoring failed. The score on this train-test partition for these parameters will be set to nan. Details: \n",
      "Traceback (most recent call last):\n",
      "  File \"C:\\Users\\davul\\anaconda3\\lib\\site-packages\\sklearn\\model_selection\\_validation.py\", line 761, in _score\n",
      "    scores = scorer(estimator, X_test, y_test)\n",
      "  File \"C:\\Users\\davul\\anaconda3\\lib\\site-packages\\sklearn\\metrics\\_scorer.py\", line 216, in __call__\n",
      "    return self._score(\n",
      "  File \"C:\\Users\\davul\\anaconda3\\lib\\site-packages\\sklearn\\metrics\\_scorer.py\", line 258, in _score\n",
      "    y_pred = method_caller(estimator, \"predict\", X)\n",
      "  File \"C:\\Users\\davul\\anaconda3\\lib\\site-packages\\sklearn\\metrics\\_scorer.py\", line 68, in _cached_call\n",
      "    return getattr(estimator, method)(*args, **kwargs)\n",
      "  File \"C:\\Users\\davul\\anaconda3\\lib\\site-packages\\scikeras\\wrappers.py\", line 1054, in predict\n",
      "    y_pred = self.target_encoder_.inverse_transform(y_pred)\n",
      "  File \"C:\\Users\\davul\\anaconda3\\lib\\site-packages\\scikeras\\utils\\transformers.py\", line 256, in inverse_transform\n",
      "    class_predictions = self._final_encoder.inverse_transform(class_predictions)\n",
      "  File \"C:\\Users\\davul\\anaconda3\\lib\\site-packages\\sklearn\\utils\\metaestimators.py\", line 113, in <lambda>\n",
      "    out = lambda *args, **kwargs: self.fn(obj, *args, **kwargs)  # noqa\n",
      "  File \"C:\\Users\\davul\\anaconda3\\lib\\site-packages\\sklearn\\pipeline.py\", line 675, in inverse_transform\n",
      "    Xt = transform.inverse_transform(Xt)\n",
      "  File \"C:\\Users\\davul\\anaconda3\\lib\\site-packages\\sklearn\\preprocessing\\_encoders.py\", line 990, in inverse_transform\n",
      "    X_tr[:, i] = self.categories_[i][labels]\n",
      "IndexError: index 9 is out of bounds for axis 0 with size 2\n",
      "\n",
      "  warnings.warn(\n"
     ]
    },
    {
     "name": "stdout",
     "output_type": "stream",
     "text": [
      "3/3 [==============================] - 0s 1ms/step\n"
     ]
    },
    {
     "name": "stderr",
     "output_type": "stream",
     "text": [
      "C:\\Users\\davul\\anaconda3\\lib\\site-packages\\sklearn\\model_selection\\_validation.py:770: UserWarning: Scoring failed. The score on this train-test partition for these parameters will be set to nan. Details: \n",
      "Traceback (most recent call last):\n",
      "  File \"C:\\Users\\davul\\anaconda3\\lib\\site-packages\\sklearn\\model_selection\\_validation.py\", line 761, in _score\n",
      "    scores = scorer(estimator, X_test, y_test)\n",
      "  File \"C:\\Users\\davul\\anaconda3\\lib\\site-packages\\sklearn\\metrics\\_scorer.py\", line 216, in __call__\n",
      "    return self._score(\n",
      "  File \"C:\\Users\\davul\\anaconda3\\lib\\site-packages\\sklearn\\metrics\\_scorer.py\", line 258, in _score\n",
      "    y_pred = method_caller(estimator, \"predict\", X)\n",
      "  File \"C:\\Users\\davul\\anaconda3\\lib\\site-packages\\sklearn\\metrics\\_scorer.py\", line 68, in _cached_call\n",
      "    return getattr(estimator, method)(*args, **kwargs)\n",
      "  File \"C:\\Users\\davul\\anaconda3\\lib\\site-packages\\scikeras\\wrappers.py\", line 1054, in predict\n",
      "    y_pred = self.target_encoder_.inverse_transform(y_pred)\n",
      "  File \"C:\\Users\\davul\\anaconda3\\lib\\site-packages\\scikeras\\utils\\transformers.py\", line 256, in inverse_transform\n",
      "    class_predictions = self._final_encoder.inverse_transform(class_predictions)\n",
      "  File \"C:\\Users\\davul\\anaconda3\\lib\\site-packages\\sklearn\\utils\\metaestimators.py\", line 113, in <lambda>\n",
      "    out = lambda *args, **kwargs: self.fn(obj, *args, **kwargs)  # noqa\n",
      "  File \"C:\\Users\\davul\\anaconda3\\lib\\site-packages\\sklearn\\pipeline.py\", line 675, in inverse_transform\n",
      "    Xt = transform.inverse_transform(Xt)\n",
      "  File \"C:\\Users\\davul\\anaconda3\\lib\\site-packages\\sklearn\\preprocessing\\_encoders.py\", line 990, in inverse_transform\n",
      "    X_tr[:, i] = self.categories_[i][labels]\n",
      "IndexError: index 3 is out of bounds for axis 0 with size 2\n",
      "\n",
      "  warnings.warn(\n"
     ]
    },
    {
     "name": "stdout",
     "output_type": "stream",
     "text": [
      "3/3 [==============================] - 0s 2ms/step\n"
     ]
    },
    {
     "name": "stderr",
     "output_type": "stream",
     "text": [
      "C:\\Users\\davul\\anaconda3\\lib\\site-packages\\sklearn\\model_selection\\_validation.py:770: UserWarning: Scoring failed. The score on this train-test partition for these parameters will be set to nan. Details: \n",
      "Traceback (most recent call last):\n",
      "  File \"C:\\Users\\davul\\anaconda3\\lib\\site-packages\\sklearn\\model_selection\\_validation.py\", line 761, in _score\n",
      "    scores = scorer(estimator, X_test, y_test)\n",
      "  File \"C:\\Users\\davul\\anaconda3\\lib\\site-packages\\sklearn\\metrics\\_scorer.py\", line 216, in __call__\n",
      "    return self._score(\n",
      "  File \"C:\\Users\\davul\\anaconda3\\lib\\site-packages\\sklearn\\metrics\\_scorer.py\", line 258, in _score\n",
      "    y_pred = method_caller(estimator, \"predict\", X)\n",
      "  File \"C:\\Users\\davul\\anaconda3\\lib\\site-packages\\sklearn\\metrics\\_scorer.py\", line 68, in _cached_call\n",
      "    return getattr(estimator, method)(*args, **kwargs)\n",
      "  File \"C:\\Users\\davul\\anaconda3\\lib\\site-packages\\scikeras\\wrappers.py\", line 1054, in predict\n",
      "    y_pred = self.target_encoder_.inverse_transform(y_pred)\n",
      "  File \"C:\\Users\\davul\\anaconda3\\lib\\site-packages\\scikeras\\utils\\transformers.py\", line 256, in inverse_transform\n",
      "    class_predictions = self._final_encoder.inverse_transform(class_predictions)\n",
      "  File \"C:\\Users\\davul\\anaconda3\\lib\\site-packages\\sklearn\\utils\\metaestimators.py\", line 113, in <lambda>\n",
      "    out = lambda *args, **kwargs: self.fn(obj, *args, **kwargs)  # noqa\n",
      "  File \"C:\\Users\\davul\\anaconda3\\lib\\site-packages\\sklearn\\pipeline.py\", line 675, in inverse_transform\n",
      "    Xt = transform.inverse_transform(Xt)\n",
      "  File \"C:\\Users\\davul\\anaconda3\\lib\\site-packages\\sklearn\\preprocessing\\_encoders.py\", line 990, in inverse_transform\n",
      "    X_tr[:, i] = self.categories_[i][labels]\n",
      "IndexError: index 8 is out of bounds for axis 0 with size 2\n",
      "\n",
      "  warnings.warn(\n"
     ]
    },
    {
     "name": "stdout",
     "output_type": "stream",
     "text": [
      "3/3 [==============================] - 0s 2ms/step\n"
     ]
    },
    {
     "name": "stderr",
     "output_type": "stream",
     "text": [
      "C:\\Users\\davul\\anaconda3\\lib\\site-packages\\sklearn\\model_selection\\_validation.py:770: UserWarning: Scoring failed. The score on this train-test partition for these parameters will be set to nan. Details: \n",
      "Traceback (most recent call last):\n",
      "  File \"C:\\Users\\davul\\anaconda3\\lib\\site-packages\\sklearn\\model_selection\\_validation.py\", line 761, in _score\n",
      "    scores = scorer(estimator, X_test, y_test)\n",
      "  File \"C:\\Users\\davul\\anaconda3\\lib\\site-packages\\sklearn\\metrics\\_scorer.py\", line 216, in __call__\n",
      "    return self._score(\n",
      "  File \"C:\\Users\\davul\\anaconda3\\lib\\site-packages\\sklearn\\metrics\\_scorer.py\", line 258, in _score\n",
      "    y_pred = method_caller(estimator, \"predict\", X)\n",
      "  File \"C:\\Users\\davul\\anaconda3\\lib\\site-packages\\sklearn\\metrics\\_scorer.py\", line 68, in _cached_call\n",
      "    return getattr(estimator, method)(*args, **kwargs)\n",
      "  File \"C:\\Users\\davul\\anaconda3\\lib\\site-packages\\scikeras\\wrappers.py\", line 1054, in predict\n",
      "    y_pred = self.target_encoder_.inverse_transform(y_pred)\n",
      "  File \"C:\\Users\\davul\\anaconda3\\lib\\site-packages\\scikeras\\utils\\transformers.py\", line 256, in inverse_transform\n",
      "    class_predictions = self._final_encoder.inverse_transform(class_predictions)\n",
      "  File \"C:\\Users\\davul\\anaconda3\\lib\\site-packages\\sklearn\\utils\\metaestimators.py\", line 113, in <lambda>\n",
      "    out = lambda *args, **kwargs: self.fn(obj, *args, **kwargs)  # noqa\n",
      "  File \"C:\\Users\\davul\\anaconda3\\lib\\site-packages\\sklearn\\pipeline.py\", line 675, in inverse_transform\n",
      "    Xt = transform.inverse_transform(Xt)\n",
      "  File \"C:\\Users\\davul\\anaconda3\\lib\\site-packages\\sklearn\\preprocessing\\_encoders.py\", line 990, in inverse_transform\n",
      "    X_tr[:, i] = self.categories_[i][labels]\n",
      "IndexError: index 2 is out of bounds for axis 0 with size 2\n",
      "\n",
      "  warnings.warn(\n"
     ]
    },
    {
     "name": "stdout",
     "output_type": "stream",
     "text": [
      "3/3 [==============================] - 0s 1ms/step\n"
     ]
    },
    {
     "name": "stderr",
     "output_type": "stream",
     "text": [
      "C:\\Users\\davul\\anaconda3\\lib\\site-packages\\sklearn\\model_selection\\_validation.py:770: UserWarning: Scoring failed. The score on this train-test partition for these parameters will be set to nan. Details: \n",
      "Traceback (most recent call last):\n",
      "  File \"C:\\Users\\davul\\anaconda3\\lib\\site-packages\\sklearn\\model_selection\\_validation.py\", line 761, in _score\n",
      "    scores = scorer(estimator, X_test, y_test)\n",
      "  File \"C:\\Users\\davul\\anaconda3\\lib\\site-packages\\sklearn\\metrics\\_scorer.py\", line 216, in __call__\n",
      "    return self._score(\n",
      "  File \"C:\\Users\\davul\\anaconda3\\lib\\site-packages\\sklearn\\metrics\\_scorer.py\", line 258, in _score\n",
      "    y_pred = method_caller(estimator, \"predict\", X)\n",
      "  File \"C:\\Users\\davul\\anaconda3\\lib\\site-packages\\sklearn\\metrics\\_scorer.py\", line 68, in _cached_call\n",
      "    return getattr(estimator, method)(*args, **kwargs)\n",
      "  File \"C:\\Users\\davul\\anaconda3\\lib\\site-packages\\scikeras\\wrappers.py\", line 1054, in predict\n",
      "    y_pred = self.target_encoder_.inverse_transform(y_pred)\n",
      "  File \"C:\\Users\\davul\\anaconda3\\lib\\site-packages\\scikeras\\utils\\transformers.py\", line 256, in inverse_transform\n",
      "    class_predictions = self._final_encoder.inverse_transform(class_predictions)\n",
      "  File \"C:\\Users\\davul\\anaconda3\\lib\\site-packages\\sklearn\\utils\\metaestimators.py\", line 113, in <lambda>\n",
      "    out = lambda *args, **kwargs: self.fn(obj, *args, **kwargs)  # noqa\n",
      "  File \"C:\\Users\\davul\\anaconda3\\lib\\site-packages\\sklearn\\pipeline.py\", line 675, in inverse_transform\n",
      "    Xt = transform.inverse_transform(Xt)\n",
      "  File \"C:\\Users\\davul\\anaconda3\\lib\\site-packages\\sklearn\\preprocessing\\_encoders.py\", line 990, in inverse_transform\n",
      "    X_tr[:, i] = self.categories_[i][labels]\n",
      "IndexError: index 6 is out of bounds for axis 0 with size 2\n",
      "\n",
      "  warnings.warn(\n"
     ]
    },
    {
     "name": "stdout",
     "output_type": "stream",
     "text": [
      "3/3 [==============================] - 0s 1ms/step\n"
     ]
    },
    {
     "name": "stderr",
     "output_type": "stream",
     "text": [
      "C:\\Users\\davul\\anaconda3\\lib\\site-packages\\sklearn\\model_selection\\_validation.py:770: UserWarning: Scoring failed. The score on this train-test partition for these parameters will be set to nan. Details: \n",
      "Traceback (most recent call last):\n",
      "  File \"C:\\Users\\davul\\anaconda3\\lib\\site-packages\\sklearn\\model_selection\\_validation.py\", line 761, in _score\n",
      "    scores = scorer(estimator, X_test, y_test)\n",
      "  File \"C:\\Users\\davul\\anaconda3\\lib\\site-packages\\sklearn\\metrics\\_scorer.py\", line 216, in __call__\n",
      "    return self._score(\n",
      "  File \"C:\\Users\\davul\\anaconda3\\lib\\site-packages\\sklearn\\metrics\\_scorer.py\", line 258, in _score\n",
      "    y_pred = method_caller(estimator, \"predict\", X)\n",
      "  File \"C:\\Users\\davul\\anaconda3\\lib\\site-packages\\sklearn\\metrics\\_scorer.py\", line 68, in _cached_call\n",
      "    return getattr(estimator, method)(*args, **kwargs)\n",
      "  File \"C:\\Users\\davul\\anaconda3\\lib\\site-packages\\scikeras\\wrappers.py\", line 1054, in predict\n",
      "    y_pred = self.target_encoder_.inverse_transform(y_pred)\n",
      "  File \"C:\\Users\\davul\\anaconda3\\lib\\site-packages\\scikeras\\utils\\transformers.py\", line 256, in inverse_transform\n",
      "    class_predictions = self._final_encoder.inverse_transform(class_predictions)\n",
      "  File \"C:\\Users\\davul\\anaconda3\\lib\\site-packages\\sklearn\\utils\\metaestimators.py\", line 113, in <lambda>\n",
      "    out = lambda *args, **kwargs: self.fn(obj, *args, **kwargs)  # noqa\n",
      "  File \"C:\\Users\\davul\\anaconda3\\lib\\site-packages\\sklearn\\pipeline.py\", line 675, in inverse_transform\n",
      "    Xt = transform.inverse_transform(Xt)\n",
      "  File \"C:\\Users\\davul\\anaconda3\\lib\\site-packages\\sklearn\\preprocessing\\_encoders.py\", line 990, in inverse_transform\n",
      "    X_tr[:, i] = self.categories_[i][labels]\n",
      "IndexError: index 4 is out of bounds for axis 0 with size 2\n",
      "\n",
      "  warnings.warn(\n"
     ]
    },
    {
     "name": "stdout",
     "output_type": "stream",
     "text": [
      "3/3 [==============================] - 0s 1ms/step\n"
     ]
    },
    {
     "name": "stderr",
     "output_type": "stream",
     "text": [
      "C:\\Users\\davul\\anaconda3\\lib\\site-packages\\sklearn\\model_selection\\_validation.py:770: UserWarning: Scoring failed. The score on this train-test partition for these parameters will be set to nan. Details: \n",
      "Traceback (most recent call last):\n",
      "  File \"C:\\Users\\davul\\anaconda3\\lib\\site-packages\\sklearn\\model_selection\\_validation.py\", line 761, in _score\n",
      "    scores = scorer(estimator, X_test, y_test)\n",
      "  File \"C:\\Users\\davul\\anaconda3\\lib\\site-packages\\sklearn\\metrics\\_scorer.py\", line 216, in __call__\n",
      "    return self._score(\n",
      "  File \"C:\\Users\\davul\\anaconda3\\lib\\site-packages\\sklearn\\metrics\\_scorer.py\", line 258, in _score\n",
      "    y_pred = method_caller(estimator, \"predict\", X)\n",
      "  File \"C:\\Users\\davul\\anaconda3\\lib\\site-packages\\sklearn\\metrics\\_scorer.py\", line 68, in _cached_call\n",
      "    return getattr(estimator, method)(*args, **kwargs)\n",
      "  File \"C:\\Users\\davul\\anaconda3\\lib\\site-packages\\scikeras\\wrappers.py\", line 1054, in predict\n",
      "    y_pred = self.target_encoder_.inverse_transform(y_pred)\n",
      "  File \"C:\\Users\\davul\\anaconda3\\lib\\site-packages\\scikeras\\utils\\transformers.py\", line 256, in inverse_transform\n",
      "    class_predictions = self._final_encoder.inverse_transform(class_predictions)\n",
      "  File \"C:\\Users\\davul\\anaconda3\\lib\\site-packages\\sklearn\\utils\\metaestimators.py\", line 113, in <lambda>\n",
      "    out = lambda *args, **kwargs: self.fn(obj, *args, **kwargs)  # noqa\n",
      "  File \"C:\\Users\\davul\\anaconda3\\lib\\site-packages\\sklearn\\pipeline.py\", line 675, in inverse_transform\n",
      "    Xt = transform.inverse_transform(Xt)\n",
      "  File \"C:\\Users\\davul\\anaconda3\\lib\\site-packages\\sklearn\\preprocessing\\_encoders.py\", line 990, in inverse_transform\n",
      "    X_tr[:, i] = self.categories_[i][labels]\n",
      "IndexError: index 8 is out of bounds for axis 0 with size 2\n",
      "\n",
      "  warnings.warn(\n"
     ]
    },
    {
     "name": "stdout",
     "output_type": "stream",
     "text": [
      "3/3 [==============================] - 0s 2ms/step\n"
     ]
    },
    {
     "name": "stderr",
     "output_type": "stream",
     "text": [
      "C:\\Users\\davul\\anaconda3\\lib\\site-packages\\sklearn\\model_selection\\_validation.py:770: UserWarning: Scoring failed. The score on this train-test partition for these parameters will be set to nan. Details: \n",
      "Traceback (most recent call last):\n",
      "  File \"C:\\Users\\davul\\anaconda3\\lib\\site-packages\\sklearn\\model_selection\\_validation.py\", line 761, in _score\n",
      "    scores = scorer(estimator, X_test, y_test)\n",
      "  File \"C:\\Users\\davul\\anaconda3\\lib\\site-packages\\sklearn\\metrics\\_scorer.py\", line 216, in __call__\n",
      "    return self._score(\n",
      "  File \"C:\\Users\\davul\\anaconda3\\lib\\site-packages\\sklearn\\metrics\\_scorer.py\", line 258, in _score\n",
      "    y_pred = method_caller(estimator, \"predict\", X)\n",
      "  File \"C:\\Users\\davul\\anaconda3\\lib\\site-packages\\sklearn\\metrics\\_scorer.py\", line 68, in _cached_call\n",
      "    return getattr(estimator, method)(*args, **kwargs)\n",
      "  File \"C:\\Users\\davul\\anaconda3\\lib\\site-packages\\scikeras\\wrappers.py\", line 1054, in predict\n",
      "    y_pred = self.target_encoder_.inverse_transform(y_pred)\n",
      "  File \"C:\\Users\\davul\\anaconda3\\lib\\site-packages\\scikeras\\utils\\transformers.py\", line 256, in inverse_transform\n",
      "    class_predictions = self._final_encoder.inverse_transform(class_predictions)\n",
      "  File \"C:\\Users\\davul\\anaconda3\\lib\\site-packages\\sklearn\\utils\\metaestimators.py\", line 113, in <lambda>\n",
      "    out = lambda *args, **kwargs: self.fn(obj, *args, **kwargs)  # noqa\n",
      "  File \"C:\\Users\\davul\\anaconda3\\lib\\site-packages\\sklearn\\pipeline.py\", line 675, in inverse_transform\n",
      "    Xt = transform.inverse_transform(Xt)\n",
      "  File \"C:\\Users\\davul\\anaconda3\\lib\\site-packages\\sklearn\\preprocessing\\_encoders.py\", line 990, in inverse_transform\n",
      "    X_tr[:, i] = self.categories_[i][labels]\n",
      "IndexError: index 9 is out of bounds for axis 0 with size 2\n",
      "\n",
      "  warnings.warn(\n"
     ]
    },
    {
     "name": "stdout",
     "output_type": "stream",
     "text": [
      "2/2 [==============================] - 0s 2ms/step\n"
     ]
    },
    {
     "name": "stderr",
     "output_type": "stream",
     "text": [
      "C:\\Users\\davul\\anaconda3\\lib\\site-packages\\sklearn\\model_selection\\_validation.py:770: UserWarning: Scoring failed. The score on this train-test partition for these parameters will be set to nan. Details: \n",
      "Traceback (most recent call last):\n",
      "  File \"C:\\Users\\davul\\anaconda3\\lib\\site-packages\\sklearn\\model_selection\\_validation.py\", line 761, in _score\n",
      "    scores = scorer(estimator, X_test, y_test)\n",
      "  File \"C:\\Users\\davul\\anaconda3\\lib\\site-packages\\sklearn\\metrics\\_scorer.py\", line 216, in __call__\n",
      "    return self._score(\n",
      "  File \"C:\\Users\\davul\\anaconda3\\lib\\site-packages\\sklearn\\metrics\\_scorer.py\", line 258, in _score\n",
      "    y_pred = method_caller(estimator, \"predict\", X)\n",
      "  File \"C:\\Users\\davul\\anaconda3\\lib\\site-packages\\sklearn\\metrics\\_scorer.py\", line 68, in _cached_call\n",
      "    return getattr(estimator, method)(*args, **kwargs)\n",
      "  File \"C:\\Users\\davul\\anaconda3\\lib\\site-packages\\scikeras\\wrappers.py\", line 1054, in predict\n",
      "    y_pred = self.target_encoder_.inverse_transform(y_pred)\n",
      "  File \"C:\\Users\\davul\\anaconda3\\lib\\site-packages\\scikeras\\utils\\transformers.py\", line 256, in inverse_transform\n",
      "    class_predictions = self._final_encoder.inverse_transform(class_predictions)\n",
      "  File \"C:\\Users\\davul\\anaconda3\\lib\\site-packages\\sklearn\\utils\\metaestimators.py\", line 113, in <lambda>\n",
      "    out = lambda *args, **kwargs: self.fn(obj, *args, **kwargs)  # noqa\n",
      "  File \"C:\\Users\\davul\\anaconda3\\lib\\site-packages\\sklearn\\pipeline.py\", line 675, in inverse_transform\n",
      "    Xt = transform.inverse_transform(Xt)\n",
      "  File \"C:\\Users\\davul\\anaconda3\\lib\\site-packages\\sklearn\\preprocessing\\_encoders.py\", line 990, in inverse_transform\n",
      "    X_tr[:, i] = self.categories_[i][labels]\n",
      "IndexError: index 2 is out of bounds for axis 0 with size 2\n",
      "\n",
      "  warnings.warn(\n"
     ]
    },
    {
     "name": "stdout",
     "output_type": "stream",
     "text": [
      "2/2 [==============================] - 0s 3ms/step\n"
     ]
    },
    {
     "name": "stderr",
     "output_type": "stream",
     "text": [
      "C:\\Users\\davul\\anaconda3\\lib\\site-packages\\sklearn\\model_selection\\_validation.py:770: UserWarning: Scoring failed. The score on this train-test partition for these parameters will be set to nan. Details: \n",
      "Traceback (most recent call last):\n",
      "  File \"C:\\Users\\davul\\anaconda3\\lib\\site-packages\\sklearn\\model_selection\\_validation.py\", line 761, in _score\n",
      "    scores = scorer(estimator, X_test, y_test)\n",
      "  File \"C:\\Users\\davul\\anaconda3\\lib\\site-packages\\sklearn\\metrics\\_scorer.py\", line 216, in __call__\n",
      "    return self._score(\n",
      "  File \"C:\\Users\\davul\\anaconda3\\lib\\site-packages\\sklearn\\metrics\\_scorer.py\", line 258, in _score\n",
      "    y_pred = method_caller(estimator, \"predict\", X)\n",
      "  File \"C:\\Users\\davul\\anaconda3\\lib\\site-packages\\sklearn\\metrics\\_scorer.py\", line 68, in _cached_call\n",
      "    return getattr(estimator, method)(*args, **kwargs)\n",
      "  File \"C:\\Users\\davul\\anaconda3\\lib\\site-packages\\scikeras\\wrappers.py\", line 1054, in predict\n",
      "    y_pred = self.target_encoder_.inverse_transform(y_pred)\n",
      "  File \"C:\\Users\\davul\\anaconda3\\lib\\site-packages\\scikeras\\utils\\transformers.py\", line 256, in inverse_transform\n",
      "    class_predictions = self._final_encoder.inverse_transform(class_predictions)\n",
      "  File \"C:\\Users\\davul\\anaconda3\\lib\\site-packages\\sklearn\\utils\\metaestimators.py\", line 113, in <lambda>\n",
      "    out = lambda *args, **kwargs: self.fn(obj, *args, **kwargs)  # noqa\n",
      "  File \"C:\\Users\\davul\\anaconda3\\lib\\site-packages\\sklearn\\pipeline.py\", line 675, in inverse_transform\n",
      "    Xt = transform.inverse_transform(Xt)\n",
      "  File \"C:\\Users\\davul\\anaconda3\\lib\\site-packages\\sklearn\\preprocessing\\_encoders.py\", line 990, in inverse_transform\n",
      "    X_tr[:, i] = self.categories_[i][labels]\n",
      "IndexError: index 8 is out of bounds for axis 0 with size 2\n",
      "\n",
      "  warnings.warn(\n"
     ]
    },
    {
     "name": "stdout",
     "output_type": "stream",
     "text": [
      "2/2 [==============================] - 0s 2ms/step\n"
     ]
    },
    {
     "name": "stderr",
     "output_type": "stream",
     "text": [
      "C:\\Users\\davul\\anaconda3\\lib\\site-packages\\sklearn\\model_selection\\_validation.py:770: UserWarning: Scoring failed. The score on this train-test partition for these parameters will be set to nan. Details: \n",
      "Traceback (most recent call last):\n",
      "  File \"C:\\Users\\davul\\anaconda3\\lib\\site-packages\\sklearn\\model_selection\\_validation.py\", line 761, in _score\n",
      "    scores = scorer(estimator, X_test, y_test)\n",
      "  File \"C:\\Users\\davul\\anaconda3\\lib\\site-packages\\sklearn\\metrics\\_scorer.py\", line 216, in __call__\n",
      "    return self._score(\n",
      "  File \"C:\\Users\\davul\\anaconda3\\lib\\site-packages\\sklearn\\metrics\\_scorer.py\", line 258, in _score\n",
      "    y_pred = method_caller(estimator, \"predict\", X)\n",
      "  File \"C:\\Users\\davul\\anaconda3\\lib\\site-packages\\sklearn\\metrics\\_scorer.py\", line 68, in _cached_call\n",
      "    return getattr(estimator, method)(*args, **kwargs)\n",
      "  File \"C:\\Users\\davul\\anaconda3\\lib\\site-packages\\scikeras\\wrappers.py\", line 1054, in predict\n",
      "    y_pred = self.target_encoder_.inverse_transform(y_pred)\n",
      "  File \"C:\\Users\\davul\\anaconda3\\lib\\site-packages\\scikeras\\utils\\transformers.py\", line 256, in inverse_transform\n",
      "    class_predictions = self._final_encoder.inverse_transform(class_predictions)\n",
      "  File \"C:\\Users\\davul\\anaconda3\\lib\\site-packages\\sklearn\\utils\\metaestimators.py\", line 113, in <lambda>\n",
      "    out = lambda *args, **kwargs: self.fn(obj, *args, **kwargs)  # noqa\n",
      "  File \"C:\\Users\\davul\\anaconda3\\lib\\site-packages\\sklearn\\pipeline.py\", line 675, in inverse_transform\n",
      "    Xt = transform.inverse_transform(Xt)\n",
      "  File \"C:\\Users\\davul\\anaconda3\\lib\\site-packages\\sklearn\\preprocessing\\_encoders.py\", line 990, in inverse_transform\n",
      "    X_tr[:, i] = self.categories_[i][labels]\n",
      "IndexError: index 2 is out of bounds for axis 0 with size 2\n",
      "\n",
      "  warnings.warn(\n"
     ]
    },
    {
     "name": "stdout",
     "output_type": "stream",
     "text": [
      "2/2 [==============================] - 0s 2ms/step\n",
      "2/2 [==============================] - 0s 2ms/step\n"
     ]
    },
    {
     "name": "stderr",
     "output_type": "stream",
     "text": [
      "C:\\Users\\davul\\anaconda3\\lib\\site-packages\\sklearn\\model_selection\\_validation.py:770: UserWarning: Scoring failed. The score on this train-test partition for these parameters will be set to nan. Details: \n",
      "Traceback (most recent call last):\n",
      "  File \"C:\\Users\\davul\\anaconda3\\lib\\site-packages\\sklearn\\model_selection\\_validation.py\", line 761, in _score\n",
      "    scores = scorer(estimator, X_test, y_test)\n",
      "  File \"C:\\Users\\davul\\anaconda3\\lib\\site-packages\\sklearn\\metrics\\_scorer.py\", line 216, in __call__\n",
      "    return self._score(\n",
      "  File \"C:\\Users\\davul\\anaconda3\\lib\\site-packages\\sklearn\\metrics\\_scorer.py\", line 258, in _score\n",
      "    y_pred = method_caller(estimator, \"predict\", X)\n",
      "  File \"C:\\Users\\davul\\anaconda3\\lib\\site-packages\\sklearn\\metrics\\_scorer.py\", line 68, in _cached_call\n",
      "    return getattr(estimator, method)(*args, **kwargs)\n",
      "  File \"C:\\Users\\davul\\anaconda3\\lib\\site-packages\\scikeras\\wrappers.py\", line 1054, in predict\n",
      "    y_pred = self.target_encoder_.inverse_transform(y_pred)\n",
      "  File \"C:\\Users\\davul\\anaconda3\\lib\\site-packages\\scikeras\\utils\\transformers.py\", line 256, in inverse_transform\n",
      "    class_predictions = self._final_encoder.inverse_transform(class_predictions)\n",
      "  File \"C:\\Users\\davul\\anaconda3\\lib\\site-packages\\sklearn\\utils\\metaestimators.py\", line 113, in <lambda>\n",
      "    out = lambda *args, **kwargs: self.fn(obj, *args, **kwargs)  # noqa\n",
      "  File \"C:\\Users\\davul\\anaconda3\\lib\\site-packages\\sklearn\\pipeline.py\", line 675, in inverse_transform\n",
      "    Xt = transform.inverse_transform(Xt)\n",
      "  File \"C:\\Users\\davul\\anaconda3\\lib\\site-packages\\sklearn\\preprocessing\\_encoders.py\", line 990, in inverse_transform\n",
      "    X_tr[:, i] = self.categories_[i][labels]\n",
      "IndexError: index 4 is out of bounds for axis 0 with size 2\n",
      "\n",
      "  warnings.warn(\n"
     ]
    },
    {
     "name": "stdout",
     "output_type": "stream",
     "text": [
      "3/3 [==============================] - 0s 2ms/step\n"
     ]
    },
    {
     "name": "stderr",
     "output_type": "stream",
     "text": [
      "C:\\Users\\davul\\anaconda3\\lib\\site-packages\\sklearn\\model_selection\\_validation.py:770: UserWarning: Scoring failed. The score on this train-test partition for these parameters will be set to nan. Details: \n",
      "Traceback (most recent call last):\n",
      "  File \"C:\\Users\\davul\\anaconda3\\lib\\site-packages\\sklearn\\model_selection\\_validation.py\", line 761, in _score\n",
      "    scores = scorer(estimator, X_test, y_test)\n",
      "  File \"C:\\Users\\davul\\anaconda3\\lib\\site-packages\\sklearn\\metrics\\_scorer.py\", line 216, in __call__\n",
      "    return self._score(\n",
      "  File \"C:\\Users\\davul\\anaconda3\\lib\\site-packages\\sklearn\\metrics\\_scorer.py\", line 258, in _score\n",
      "    y_pred = method_caller(estimator, \"predict\", X)\n",
      "  File \"C:\\Users\\davul\\anaconda3\\lib\\site-packages\\sklearn\\metrics\\_scorer.py\", line 68, in _cached_call\n",
      "    return getattr(estimator, method)(*args, **kwargs)\n",
      "  File \"C:\\Users\\davul\\anaconda3\\lib\\site-packages\\scikeras\\wrappers.py\", line 1054, in predict\n",
      "    y_pred = self.target_encoder_.inverse_transform(y_pred)\n",
      "  File \"C:\\Users\\davul\\anaconda3\\lib\\site-packages\\scikeras\\utils\\transformers.py\", line 256, in inverse_transform\n",
      "    class_predictions = self._final_encoder.inverse_transform(class_predictions)\n",
      "  File \"C:\\Users\\davul\\anaconda3\\lib\\site-packages\\sklearn\\utils\\metaestimators.py\", line 113, in <lambda>\n",
      "    out = lambda *args, **kwargs: self.fn(obj, *args, **kwargs)  # noqa\n",
      "  File \"C:\\Users\\davul\\anaconda3\\lib\\site-packages\\sklearn\\pipeline.py\", line 675, in inverse_transform\n",
      "    Xt = transform.inverse_transform(Xt)\n",
      "  File \"C:\\Users\\davul\\anaconda3\\lib\\site-packages\\sklearn\\preprocessing\\_encoders.py\", line 990, in inverse_transform\n",
      "    X_tr[:, i] = self.categories_[i][labels]\n",
      "IndexError: index 9 is out of bounds for axis 0 with size 2\n",
      "\n",
      "  warnings.warn(\n"
     ]
    },
    {
     "name": "stdout",
     "output_type": "stream",
     "text": [
      "3/3 [==============================] - 0s 2ms/step\n"
     ]
    },
    {
     "name": "stderr",
     "output_type": "stream",
     "text": [
      "C:\\Users\\davul\\anaconda3\\lib\\site-packages\\sklearn\\model_selection\\_validation.py:770: UserWarning: Scoring failed. The score on this train-test partition for these parameters will be set to nan. Details: \n",
      "Traceback (most recent call last):\n",
      "  File \"C:\\Users\\davul\\anaconda3\\lib\\site-packages\\sklearn\\model_selection\\_validation.py\", line 761, in _score\n",
      "    scores = scorer(estimator, X_test, y_test)\n",
      "  File \"C:\\Users\\davul\\anaconda3\\lib\\site-packages\\sklearn\\metrics\\_scorer.py\", line 216, in __call__\n",
      "    return self._score(\n",
      "  File \"C:\\Users\\davul\\anaconda3\\lib\\site-packages\\sklearn\\metrics\\_scorer.py\", line 258, in _score\n",
      "    y_pred = method_caller(estimator, \"predict\", X)\n",
      "  File \"C:\\Users\\davul\\anaconda3\\lib\\site-packages\\sklearn\\metrics\\_scorer.py\", line 68, in _cached_call\n",
      "    return getattr(estimator, method)(*args, **kwargs)\n",
      "  File \"C:\\Users\\davul\\anaconda3\\lib\\site-packages\\scikeras\\wrappers.py\", line 1054, in predict\n",
      "    y_pred = self.target_encoder_.inverse_transform(y_pred)\n",
      "  File \"C:\\Users\\davul\\anaconda3\\lib\\site-packages\\scikeras\\utils\\transformers.py\", line 256, in inverse_transform\n",
      "    class_predictions = self._final_encoder.inverse_transform(class_predictions)\n",
      "  File \"C:\\Users\\davul\\anaconda3\\lib\\site-packages\\sklearn\\utils\\metaestimators.py\", line 113, in <lambda>\n",
      "    out = lambda *args, **kwargs: self.fn(obj, *args, **kwargs)  # noqa\n",
      "  File \"C:\\Users\\davul\\anaconda3\\lib\\site-packages\\sklearn\\pipeline.py\", line 675, in inverse_transform\n",
      "    Xt = transform.inverse_transform(Xt)\n",
      "  File \"C:\\Users\\davul\\anaconda3\\lib\\site-packages\\sklearn\\preprocessing\\_encoders.py\", line 990, in inverse_transform\n",
      "    X_tr[:, i] = self.categories_[i][labels]\n",
      "IndexError: index 2 is out of bounds for axis 0 with size 2\n",
      "\n",
      "  warnings.warn(\n"
     ]
    },
    {
     "name": "stdout",
     "output_type": "stream",
     "text": [
      "3/3 [==============================] - 0s 2ms/step\n"
     ]
    },
    {
     "name": "stderr",
     "output_type": "stream",
     "text": [
      "C:\\Users\\davul\\anaconda3\\lib\\site-packages\\sklearn\\model_selection\\_validation.py:770: UserWarning: Scoring failed. The score on this train-test partition for these parameters will be set to nan. Details: \n",
      "Traceback (most recent call last):\n",
      "  File \"C:\\Users\\davul\\anaconda3\\lib\\site-packages\\sklearn\\model_selection\\_validation.py\", line 761, in _score\n",
      "    scores = scorer(estimator, X_test, y_test)\n",
      "  File \"C:\\Users\\davul\\anaconda3\\lib\\site-packages\\sklearn\\metrics\\_scorer.py\", line 216, in __call__\n",
      "    return self._score(\n",
      "  File \"C:\\Users\\davul\\anaconda3\\lib\\site-packages\\sklearn\\metrics\\_scorer.py\", line 258, in _score\n",
      "    y_pred = method_caller(estimator, \"predict\", X)\n",
      "  File \"C:\\Users\\davul\\anaconda3\\lib\\site-packages\\sklearn\\metrics\\_scorer.py\", line 68, in _cached_call\n",
      "    return getattr(estimator, method)(*args, **kwargs)\n",
      "  File \"C:\\Users\\davul\\anaconda3\\lib\\site-packages\\scikeras\\wrappers.py\", line 1054, in predict\n",
      "    y_pred = self.target_encoder_.inverse_transform(y_pred)\n",
      "  File \"C:\\Users\\davul\\anaconda3\\lib\\site-packages\\scikeras\\utils\\transformers.py\", line 256, in inverse_transform\n",
      "    class_predictions = self._final_encoder.inverse_transform(class_predictions)\n",
      "  File \"C:\\Users\\davul\\anaconda3\\lib\\site-packages\\sklearn\\utils\\metaestimators.py\", line 113, in <lambda>\n",
      "    out = lambda *args, **kwargs: self.fn(obj, *args, **kwargs)  # noqa\n",
      "  File \"C:\\Users\\davul\\anaconda3\\lib\\site-packages\\sklearn\\pipeline.py\", line 675, in inverse_transform\n",
      "    Xt = transform.inverse_transform(Xt)\n",
      "  File \"C:\\Users\\davul\\anaconda3\\lib\\site-packages\\sklearn\\preprocessing\\_encoders.py\", line 990, in inverse_transform\n",
      "    X_tr[:, i] = self.categories_[i][labels]\n",
      "IndexError: index 5 is out of bounds for axis 0 with size 2\n",
      "\n",
      "  warnings.warn(\n"
     ]
    },
    {
     "name": "stdout",
     "output_type": "stream",
     "text": [
      "3/3 [==============================] - 0s 2ms/step\n",
      "3/3 [==============================] - 0s 2ms/step\n"
     ]
    },
    {
     "name": "stderr",
     "output_type": "stream",
     "text": [
      "C:\\Users\\davul\\anaconda3\\lib\\site-packages\\sklearn\\model_selection\\_validation.py:770: UserWarning: Scoring failed. The score on this train-test partition for these parameters will be set to nan. Details: \n",
      "Traceback (most recent call last):\n",
      "  File \"C:\\Users\\davul\\anaconda3\\lib\\site-packages\\sklearn\\model_selection\\_validation.py\", line 761, in _score\n",
      "    scores = scorer(estimator, X_test, y_test)\n",
      "  File \"C:\\Users\\davul\\anaconda3\\lib\\site-packages\\sklearn\\metrics\\_scorer.py\", line 216, in __call__\n",
      "    return self._score(\n",
      "  File \"C:\\Users\\davul\\anaconda3\\lib\\site-packages\\sklearn\\metrics\\_scorer.py\", line 258, in _score\n",
      "    y_pred = method_caller(estimator, \"predict\", X)\n",
      "  File \"C:\\Users\\davul\\anaconda3\\lib\\site-packages\\sklearn\\metrics\\_scorer.py\", line 68, in _cached_call\n",
      "    return getattr(estimator, method)(*args, **kwargs)\n",
      "  File \"C:\\Users\\davul\\anaconda3\\lib\\site-packages\\scikeras\\wrappers.py\", line 1054, in predict\n",
      "    y_pred = self.target_encoder_.inverse_transform(y_pred)\n",
      "  File \"C:\\Users\\davul\\anaconda3\\lib\\site-packages\\scikeras\\utils\\transformers.py\", line 256, in inverse_transform\n",
      "    class_predictions = self._final_encoder.inverse_transform(class_predictions)\n",
      "  File \"C:\\Users\\davul\\anaconda3\\lib\\site-packages\\sklearn\\utils\\metaestimators.py\", line 113, in <lambda>\n",
      "    out = lambda *args, **kwargs: self.fn(obj, *args, **kwargs)  # noqa\n",
      "  File \"C:\\Users\\davul\\anaconda3\\lib\\site-packages\\sklearn\\pipeline.py\", line 675, in inverse_transform\n",
      "    Xt = transform.inverse_transform(Xt)\n",
      "  File \"C:\\Users\\davul\\anaconda3\\lib\\site-packages\\sklearn\\preprocessing\\_encoders.py\", line 990, in inverse_transform\n",
      "    X_tr[:, i] = self.categories_[i][labels]\n",
      "IndexError: index 3 is out of bounds for axis 0 with size 2\n",
      "\n",
      "  warnings.warn(\n"
     ]
    },
    {
     "name": "stdout",
     "output_type": "stream",
     "text": [
      "2/2 [==============================] - 0s 2ms/step\n"
     ]
    },
    {
     "name": "stderr",
     "output_type": "stream",
     "text": [
      "C:\\Users\\davul\\anaconda3\\lib\\site-packages\\sklearn\\model_selection\\_validation.py:770: UserWarning: Scoring failed. The score on this train-test partition for these parameters will be set to nan. Details: \n",
      "Traceback (most recent call last):\n",
      "  File \"C:\\Users\\davul\\anaconda3\\lib\\site-packages\\sklearn\\model_selection\\_validation.py\", line 761, in _score\n",
      "    scores = scorer(estimator, X_test, y_test)\n",
      "  File \"C:\\Users\\davul\\anaconda3\\lib\\site-packages\\sklearn\\metrics\\_scorer.py\", line 216, in __call__\n",
      "    return self._score(\n",
      "  File \"C:\\Users\\davul\\anaconda3\\lib\\site-packages\\sklearn\\metrics\\_scorer.py\", line 258, in _score\n",
      "    y_pred = method_caller(estimator, \"predict\", X)\n",
      "  File \"C:\\Users\\davul\\anaconda3\\lib\\site-packages\\sklearn\\metrics\\_scorer.py\", line 68, in _cached_call\n",
      "    return getattr(estimator, method)(*args, **kwargs)\n",
      "  File \"C:\\Users\\davul\\anaconda3\\lib\\site-packages\\scikeras\\wrappers.py\", line 1054, in predict\n",
      "    y_pred = self.target_encoder_.inverse_transform(y_pred)\n",
      "  File \"C:\\Users\\davul\\anaconda3\\lib\\site-packages\\scikeras\\utils\\transformers.py\", line 256, in inverse_transform\n",
      "    class_predictions = self._final_encoder.inverse_transform(class_predictions)\n",
      "  File \"C:\\Users\\davul\\anaconda3\\lib\\site-packages\\sklearn\\utils\\metaestimators.py\", line 113, in <lambda>\n",
      "    out = lambda *args, **kwargs: self.fn(obj, *args, **kwargs)  # noqa\n",
      "  File \"C:\\Users\\davul\\anaconda3\\lib\\site-packages\\sklearn\\pipeline.py\", line 675, in inverse_transform\n",
      "    Xt = transform.inverse_transform(Xt)\n",
      "  File \"C:\\Users\\davul\\anaconda3\\lib\\site-packages\\sklearn\\preprocessing\\_encoders.py\", line 990, in inverse_transform\n",
      "    X_tr[:, i] = self.categories_[i][labels]\n",
      "IndexError: index 2 is out of bounds for axis 0 with size 2\n",
      "\n",
      "  warnings.warn(\n"
     ]
    },
    {
     "name": "stdout",
     "output_type": "stream",
     "text": [
      "2/2 [==============================] - 0s 1ms/step\n"
     ]
    },
    {
     "name": "stderr",
     "output_type": "stream",
     "text": [
      "C:\\Users\\davul\\anaconda3\\lib\\site-packages\\sklearn\\model_selection\\_validation.py:770: UserWarning: Scoring failed. The score on this train-test partition for these parameters will be set to nan. Details: \n",
      "Traceback (most recent call last):\n",
      "  File \"C:\\Users\\davul\\anaconda3\\lib\\site-packages\\sklearn\\model_selection\\_validation.py\", line 761, in _score\n",
      "    scores = scorer(estimator, X_test, y_test)\n",
      "  File \"C:\\Users\\davul\\anaconda3\\lib\\site-packages\\sklearn\\metrics\\_scorer.py\", line 216, in __call__\n",
      "    return self._score(\n",
      "  File \"C:\\Users\\davul\\anaconda3\\lib\\site-packages\\sklearn\\metrics\\_scorer.py\", line 258, in _score\n",
      "    y_pred = method_caller(estimator, \"predict\", X)\n",
      "  File \"C:\\Users\\davul\\anaconda3\\lib\\site-packages\\sklearn\\metrics\\_scorer.py\", line 68, in _cached_call\n",
      "    return getattr(estimator, method)(*args, **kwargs)\n",
      "  File \"C:\\Users\\davul\\anaconda3\\lib\\site-packages\\scikeras\\wrappers.py\", line 1054, in predict\n",
      "    y_pred = self.target_encoder_.inverse_transform(y_pred)\n",
      "  File \"C:\\Users\\davul\\anaconda3\\lib\\site-packages\\scikeras\\utils\\transformers.py\", line 256, in inverse_transform\n",
      "    class_predictions = self._final_encoder.inverse_transform(class_predictions)\n",
      "  File \"C:\\Users\\davul\\anaconda3\\lib\\site-packages\\sklearn\\utils\\metaestimators.py\", line 113, in <lambda>\n",
      "    out = lambda *args, **kwargs: self.fn(obj, *args, **kwargs)  # noqa\n",
      "  File \"C:\\Users\\davul\\anaconda3\\lib\\site-packages\\sklearn\\pipeline.py\", line 675, in inverse_transform\n",
      "    Xt = transform.inverse_transform(Xt)\n",
      "  File \"C:\\Users\\davul\\anaconda3\\lib\\site-packages\\sklearn\\preprocessing\\_encoders.py\", line 990, in inverse_transform\n",
      "    X_tr[:, i] = self.categories_[i][labels]\n",
      "IndexError: index 2 is out of bounds for axis 0 with size 2\n",
      "\n",
      "  warnings.warn(\n"
     ]
    },
    {
     "name": "stdout",
     "output_type": "stream",
     "text": [
      "2/2 [==============================] - 0s 2ms/step\n"
     ]
    },
    {
     "name": "stderr",
     "output_type": "stream",
     "text": [
      "C:\\Users\\davul\\anaconda3\\lib\\site-packages\\sklearn\\model_selection\\_validation.py:770: UserWarning: Scoring failed. The score on this train-test partition for these parameters will be set to nan. Details: \n",
      "Traceback (most recent call last):\n",
      "  File \"C:\\Users\\davul\\anaconda3\\lib\\site-packages\\sklearn\\model_selection\\_validation.py\", line 761, in _score\n",
      "    scores = scorer(estimator, X_test, y_test)\n",
      "  File \"C:\\Users\\davul\\anaconda3\\lib\\site-packages\\sklearn\\metrics\\_scorer.py\", line 216, in __call__\n",
      "    return self._score(\n",
      "  File \"C:\\Users\\davul\\anaconda3\\lib\\site-packages\\sklearn\\metrics\\_scorer.py\", line 258, in _score\n",
      "    y_pred = method_caller(estimator, \"predict\", X)\n",
      "  File \"C:\\Users\\davul\\anaconda3\\lib\\site-packages\\sklearn\\metrics\\_scorer.py\", line 68, in _cached_call\n",
      "    return getattr(estimator, method)(*args, **kwargs)\n",
      "  File \"C:\\Users\\davul\\anaconda3\\lib\\site-packages\\scikeras\\wrappers.py\", line 1054, in predict\n",
      "    y_pred = self.target_encoder_.inverse_transform(y_pred)\n",
      "  File \"C:\\Users\\davul\\anaconda3\\lib\\site-packages\\scikeras\\utils\\transformers.py\", line 256, in inverse_transform\n",
      "    class_predictions = self._final_encoder.inverse_transform(class_predictions)\n",
      "  File \"C:\\Users\\davul\\anaconda3\\lib\\site-packages\\sklearn\\utils\\metaestimators.py\", line 113, in <lambda>\n",
      "    out = lambda *args, **kwargs: self.fn(obj, *args, **kwargs)  # noqa\n",
      "  File \"C:\\Users\\davul\\anaconda3\\lib\\site-packages\\sklearn\\pipeline.py\", line 675, in inverse_transform\n",
      "    Xt = transform.inverse_transform(Xt)\n",
      "  File \"C:\\Users\\davul\\anaconda3\\lib\\site-packages\\sklearn\\preprocessing\\_encoders.py\", line 990, in inverse_transform\n",
      "    X_tr[:, i] = self.categories_[i][labels]\n",
      "IndexError: index 3 is out of bounds for axis 0 with size 2\n",
      "\n",
      "  warnings.warn(\n"
     ]
    },
    {
     "name": "stdout",
     "output_type": "stream",
     "text": [
      "2/2 [==============================] - 0s 1000us/step\n"
     ]
    },
    {
     "name": "stderr",
     "output_type": "stream",
     "text": [
      "C:\\Users\\davul\\anaconda3\\lib\\site-packages\\sklearn\\model_selection\\_validation.py:770: UserWarning: Scoring failed. The score on this train-test partition for these parameters will be set to nan. Details: \n",
      "Traceback (most recent call last):\n",
      "  File \"C:\\Users\\davul\\anaconda3\\lib\\site-packages\\sklearn\\model_selection\\_validation.py\", line 761, in _score\n",
      "    scores = scorer(estimator, X_test, y_test)\n",
      "  File \"C:\\Users\\davul\\anaconda3\\lib\\site-packages\\sklearn\\metrics\\_scorer.py\", line 216, in __call__\n",
      "    return self._score(\n",
      "  File \"C:\\Users\\davul\\anaconda3\\lib\\site-packages\\sklearn\\metrics\\_scorer.py\", line 258, in _score\n",
      "    y_pred = method_caller(estimator, \"predict\", X)\n",
      "  File \"C:\\Users\\davul\\anaconda3\\lib\\site-packages\\sklearn\\metrics\\_scorer.py\", line 68, in _cached_call\n",
      "    return getattr(estimator, method)(*args, **kwargs)\n",
      "  File \"C:\\Users\\davul\\anaconda3\\lib\\site-packages\\scikeras\\wrappers.py\", line 1054, in predict\n",
      "    y_pred = self.target_encoder_.inverse_transform(y_pred)\n",
      "  File \"C:\\Users\\davul\\anaconda3\\lib\\site-packages\\scikeras\\utils\\transformers.py\", line 256, in inverse_transform\n",
      "    class_predictions = self._final_encoder.inverse_transform(class_predictions)\n",
      "  File \"C:\\Users\\davul\\anaconda3\\lib\\site-packages\\sklearn\\utils\\metaestimators.py\", line 113, in <lambda>\n",
      "    out = lambda *args, **kwargs: self.fn(obj, *args, **kwargs)  # noqa\n",
      "  File \"C:\\Users\\davul\\anaconda3\\lib\\site-packages\\sklearn\\pipeline.py\", line 675, in inverse_transform\n",
      "    Xt = transform.inverse_transform(Xt)\n",
      "  File \"C:\\Users\\davul\\anaconda3\\lib\\site-packages\\sklearn\\preprocessing\\_encoders.py\", line 990, in inverse_transform\n",
      "    X_tr[:, i] = self.categories_[i][labels]\n",
      "IndexError: index 3 is out of bounds for axis 0 with size 2\n",
      "\n",
      "  warnings.warn(\n"
     ]
    },
    {
     "name": "stdout",
     "output_type": "stream",
     "text": [
      "2/2 [==============================] - 0s 2ms/step\n"
     ]
    },
    {
     "name": "stderr",
     "output_type": "stream",
     "text": [
      "C:\\Users\\davul\\anaconda3\\lib\\site-packages\\sklearn\\model_selection\\_validation.py:770: UserWarning: Scoring failed. The score on this train-test partition for these parameters will be set to nan. Details: \n",
      "Traceback (most recent call last):\n",
      "  File \"C:\\Users\\davul\\anaconda3\\lib\\site-packages\\sklearn\\model_selection\\_validation.py\", line 761, in _score\n",
      "    scores = scorer(estimator, X_test, y_test)\n",
      "  File \"C:\\Users\\davul\\anaconda3\\lib\\site-packages\\sklearn\\metrics\\_scorer.py\", line 216, in __call__\n",
      "    return self._score(\n",
      "  File \"C:\\Users\\davul\\anaconda3\\lib\\site-packages\\sklearn\\metrics\\_scorer.py\", line 258, in _score\n",
      "    y_pred = method_caller(estimator, \"predict\", X)\n",
      "  File \"C:\\Users\\davul\\anaconda3\\lib\\site-packages\\sklearn\\metrics\\_scorer.py\", line 68, in _cached_call\n",
      "    return getattr(estimator, method)(*args, **kwargs)\n",
      "  File \"C:\\Users\\davul\\anaconda3\\lib\\site-packages\\scikeras\\wrappers.py\", line 1054, in predict\n",
      "    y_pred = self.target_encoder_.inverse_transform(y_pred)\n",
      "  File \"C:\\Users\\davul\\anaconda3\\lib\\site-packages\\scikeras\\utils\\transformers.py\", line 256, in inverse_transform\n",
      "    class_predictions = self._final_encoder.inverse_transform(class_predictions)\n",
      "  File \"C:\\Users\\davul\\anaconda3\\lib\\site-packages\\sklearn\\utils\\metaestimators.py\", line 113, in <lambda>\n",
      "    out = lambda *args, **kwargs: self.fn(obj, *args, **kwargs)  # noqa\n",
      "  File \"C:\\Users\\davul\\anaconda3\\lib\\site-packages\\sklearn\\pipeline.py\", line 675, in inverse_transform\n",
      "    Xt = transform.inverse_transform(Xt)\n",
      "  File \"C:\\Users\\davul\\anaconda3\\lib\\site-packages\\sklearn\\preprocessing\\_encoders.py\", line 990, in inverse_transform\n",
      "    X_tr[:, i] = self.categories_[i][labels]\n",
      "IndexError: index 9 is out of bounds for axis 0 with size 2\n",
      "\n",
      "  warnings.warn(\n"
     ]
    },
    {
     "name": "stdout",
     "output_type": "stream",
     "text": [
      "3/3 [==============================] - 0s 2ms/step\n",
      "3/3 [==============================] - 0s 2ms/step\n"
     ]
    },
    {
     "name": "stderr",
     "output_type": "stream",
     "text": [
      "C:\\Users\\davul\\anaconda3\\lib\\site-packages\\sklearn\\model_selection\\_validation.py:770: UserWarning: Scoring failed. The score on this train-test partition for these parameters will be set to nan. Details: \n",
      "Traceback (most recent call last):\n",
      "  File \"C:\\Users\\davul\\anaconda3\\lib\\site-packages\\sklearn\\model_selection\\_validation.py\", line 761, in _score\n",
      "    scores = scorer(estimator, X_test, y_test)\n",
      "  File \"C:\\Users\\davul\\anaconda3\\lib\\site-packages\\sklearn\\metrics\\_scorer.py\", line 216, in __call__\n",
      "    return self._score(\n",
      "  File \"C:\\Users\\davul\\anaconda3\\lib\\site-packages\\sklearn\\metrics\\_scorer.py\", line 258, in _score\n",
      "    y_pred = method_caller(estimator, \"predict\", X)\n",
      "  File \"C:\\Users\\davul\\anaconda3\\lib\\site-packages\\sklearn\\metrics\\_scorer.py\", line 68, in _cached_call\n",
      "    return getattr(estimator, method)(*args, **kwargs)\n",
      "  File \"C:\\Users\\davul\\anaconda3\\lib\\site-packages\\scikeras\\wrappers.py\", line 1054, in predict\n",
      "    y_pred = self.target_encoder_.inverse_transform(y_pred)\n",
      "  File \"C:\\Users\\davul\\anaconda3\\lib\\site-packages\\scikeras\\utils\\transformers.py\", line 256, in inverse_transform\n",
      "    class_predictions = self._final_encoder.inverse_transform(class_predictions)\n",
      "  File \"C:\\Users\\davul\\anaconda3\\lib\\site-packages\\sklearn\\utils\\metaestimators.py\", line 113, in <lambda>\n",
      "    out = lambda *args, **kwargs: self.fn(obj, *args, **kwargs)  # noqa\n",
      "  File \"C:\\Users\\davul\\anaconda3\\lib\\site-packages\\sklearn\\pipeline.py\", line 675, in inverse_transform\n",
      "    Xt = transform.inverse_transform(Xt)\n",
      "  File \"C:\\Users\\davul\\anaconda3\\lib\\site-packages\\sklearn\\preprocessing\\_encoders.py\", line 990, in inverse_transform\n",
      "    X_tr[:, i] = self.categories_[i][labels]\n",
      "IndexError: index 8 is out of bounds for axis 0 with size 2\n",
      "\n",
      "  warnings.warn(\n"
     ]
    },
    {
     "name": "stdout",
     "output_type": "stream",
     "text": [
      "3/3 [==============================] - 0s 2ms/step\n"
     ]
    },
    {
     "name": "stderr",
     "output_type": "stream",
     "text": [
      "C:\\Users\\davul\\anaconda3\\lib\\site-packages\\sklearn\\model_selection\\_validation.py:770: UserWarning: Scoring failed. The score on this train-test partition for these parameters will be set to nan. Details: \n",
      "Traceback (most recent call last):\n",
      "  File \"C:\\Users\\davul\\anaconda3\\lib\\site-packages\\sklearn\\model_selection\\_validation.py\", line 761, in _score\n",
      "    scores = scorer(estimator, X_test, y_test)\n",
      "  File \"C:\\Users\\davul\\anaconda3\\lib\\site-packages\\sklearn\\metrics\\_scorer.py\", line 216, in __call__\n",
      "    return self._score(\n",
      "  File \"C:\\Users\\davul\\anaconda3\\lib\\site-packages\\sklearn\\metrics\\_scorer.py\", line 258, in _score\n",
      "    y_pred = method_caller(estimator, \"predict\", X)\n",
      "  File \"C:\\Users\\davul\\anaconda3\\lib\\site-packages\\sklearn\\metrics\\_scorer.py\", line 68, in _cached_call\n",
      "    return getattr(estimator, method)(*args, **kwargs)\n",
      "  File \"C:\\Users\\davul\\anaconda3\\lib\\site-packages\\scikeras\\wrappers.py\", line 1054, in predict\n",
      "    y_pred = self.target_encoder_.inverse_transform(y_pred)\n",
      "  File \"C:\\Users\\davul\\anaconda3\\lib\\site-packages\\scikeras\\utils\\transformers.py\", line 256, in inverse_transform\n",
      "    class_predictions = self._final_encoder.inverse_transform(class_predictions)\n",
      "  File \"C:\\Users\\davul\\anaconda3\\lib\\site-packages\\sklearn\\utils\\metaestimators.py\", line 113, in <lambda>\n",
      "    out = lambda *args, **kwargs: self.fn(obj, *args, **kwargs)  # noqa\n",
      "  File \"C:\\Users\\davul\\anaconda3\\lib\\site-packages\\sklearn\\pipeline.py\", line 675, in inverse_transform\n",
      "    Xt = transform.inverse_transform(Xt)\n",
      "  File \"C:\\Users\\davul\\anaconda3\\lib\\site-packages\\sklearn\\preprocessing\\_encoders.py\", line 990, in inverse_transform\n",
      "    X_tr[:, i] = self.categories_[i][labels]\n",
      "IndexError: index 7 is out of bounds for axis 0 with size 2\n",
      "\n",
      "  warnings.warn(\n"
     ]
    },
    {
     "name": "stdout",
     "output_type": "stream",
     "text": [
      "3/3 [==============================] - 0s 1ms/step\n",
      "3/3 [==============================] - 0s 2ms/step\n"
     ]
    },
    {
     "name": "stderr",
     "output_type": "stream",
     "text": [
      "C:\\Users\\davul\\anaconda3\\lib\\site-packages\\sklearn\\model_selection\\_search.py:969: UserWarning: One or more of the test scores are non-finite: [       nan        nan        nan        nan        nan        nan\n",
      "        nan        nan        nan        nan        nan        nan\n",
      "        nan        nan        nan        nan        nan        nan\n",
      "        nan        nan        nan        nan        nan        nan\n",
      "        nan        nan        nan        nan        nan        nan\n",
      "        nan        nan        nan        nan        nan        nan\n",
      "        nan 0.79285714        nan        nan        nan        nan\n",
      "        nan        nan        nan        nan        nan        nan\n",
      "        nan        nan]\n",
      "  warnings.warn(\n"
     ]
    }
   ],
   "source": [
    "rnd_search_cv = RandomizedSearchCV(estimator=keras_clf, param_distributions=params, scoring='accuracy', n_iter=50, cv=5)\n",
    "\n",
    "import sys\n",
    "sys.setrecursionlimit(10000) # note: the default is 3000 (python 3.9)\n",
    "\n",
    "earlystop = EarlyStopping(monitor='val_loss', patience=5, verbose=0, mode='auto')\n",
    "callback = [earlystop]\n",
    "\n",
    "_ = rnd_search_cv.fit(X_train, y_train, callbacks=callback, verbose=0)\n"
   ]
  },
  {
   "cell_type": "code",
   "execution_count": 70,
   "id": "7b0b479b-e511-4ef1-b69d-fb1446dcfac5",
   "metadata": {},
   "outputs": [
    {
     "data": {
      "text/plain": [
       "{'optimizer__learning_rate': 0.0005,\n",
       " 'optimizer': 'adam',\n",
       " 'model__hidden_layer_sizes': (100, 90),\n",
       " 'model__dropout': 0,\n",
       " 'epochs': 100,\n",
       " 'batch_size': 60}"
      ]
     },
     "execution_count": 70,
     "metadata": {},
     "output_type": "execute_result"
    }
   ],
   "source": [
    "rnd_search_cv.best_params_"
   ]
  },
  {
   "cell_type": "code",
   "execution_count": 71,
   "id": "35deee47-0c98-4b07-81fb-9b3d8d6874c0",
   "metadata": {},
   "outputs": [
    {
     "name": "stdout",
     "output_type": "stream",
     "text": [
      "{'optimizer__learning_rate': 0.0005, 'optimizer': 'adam', 'model__hidden_layer_sizes': (100, 90), 'model__dropout': 0, 'epochs': 100, 'batch_size': 60}\n"
     ]
    }
   ],
   "source": [
    "best_net = rnd_search_cv.best_estimator_\n",
    "print(rnd_search_cv.best_params_)"
   ]
  },
  {
   "cell_type": "code",
   "execution_count": 72,
   "id": "d86e0f23-7724-48e3-a3d7-61f94df8ac4c",
   "metadata": {},
   "outputs": [
    {
     "data": {
      "text/html": [
       "<div>\n",
       "<style scoped>\n",
       "    .dataframe tbody tr th:only-of-type {\n",
       "        vertical-align: middle;\n",
       "    }\n",
       "\n",
       "    .dataframe tbody tr th {\n",
       "        vertical-align: top;\n",
       "    }\n",
       "\n",
       "    .dataframe thead th {\n",
       "        text-align: right;\n",
       "    }\n",
       "</style>\n",
       "<table border=\"1\" class=\"dataframe\">\n",
       "  <thead>\n",
       "    <tr style=\"text-align: right;\">\n",
       "      <th></th>\n",
       "      <th>model</th>\n",
       "      <th>Accuracy</th>\n",
       "      <th>Precision</th>\n",
       "      <th>Recall</th>\n",
       "      <th>F1</th>\n",
       "    </tr>\n",
       "  </thead>\n",
       "  <tbody>\n",
       "    <tr>\n",
       "      <th>0</th>\n",
       "      <td>default logistic</td>\n",
       "      <td>0.993333</td>\n",
       "      <td>0.993548</td>\n",
       "      <td>0.993548</td>\n",
       "      <td>0.993548</td>\n",
       "    </tr>\n",
       "    <tr>\n",
       "      <th>0</th>\n",
       "      <td>lin svm</td>\n",
       "      <td>0.953333</td>\n",
       "      <td>1.000000</td>\n",
       "      <td>0.909677</td>\n",
       "      <td>0.952703</td>\n",
       "    </tr>\n",
       "    <tr>\n",
       "      <th>0</th>\n",
       "      <td>rbf svm</td>\n",
       "      <td>0.940000</td>\n",
       "      <td>0.992806</td>\n",
       "      <td>0.890323</td>\n",
       "      <td>0.938776</td>\n",
       "    </tr>\n",
       "    <tr>\n",
       "      <th>0</th>\n",
       "      <td>poly svm</td>\n",
       "      <td>0.943333</td>\n",
       "      <td>0.985915</td>\n",
       "      <td>0.903226</td>\n",
       "      <td>0.942761</td>\n",
       "    </tr>\n",
       "    <tr>\n",
       "      <th>0</th>\n",
       "      <td>rand_poly_svm</td>\n",
       "      <td>0.926667</td>\n",
       "      <td>0.978417</td>\n",
       "      <td>0.877419</td>\n",
       "      <td>0.925170</td>\n",
       "    </tr>\n",
       "    <tr>\n",
       "      <th>0</th>\n",
       "      <td>grid_poly_svm</td>\n",
       "      <td>0.926667</td>\n",
       "      <td>0.978417</td>\n",
       "      <td>0.877419</td>\n",
       "      <td>0.925170</td>\n",
       "    </tr>\n",
       "    <tr>\n",
       "      <th>0</th>\n",
       "      <td>rand_poly_tree</td>\n",
       "      <td>1.000000</td>\n",
       "      <td>1.000000</td>\n",
       "      <td>1.000000</td>\n",
       "      <td>1.000000</td>\n",
       "    </tr>\n",
       "    <tr>\n",
       "      <th>0</th>\n",
       "      <td>grid_poly_tree</td>\n",
       "      <td>1.000000</td>\n",
       "      <td>1.000000</td>\n",
       "      <td>1.000000</td>\n",
       "      <td>1.000000</td>\n",
       "    </tr>\n",
       "    <tr>\n",
       "      <th>0</th>\n",
       "      <td>Neural Networks-100</td>\n",
       "      <td>0.990000</td>\n",
       "      <td>1.000000</td>\n",
       "      <td>0.980645</td>\n",
       "      <td>0.990228</td>\n",
       "    </tr>\n",
       "    <tr>\n",
       "      <th>0</th>\n",
       "      <td>GlotUniform</td>\n",
       "      <td>0.990000</td>\n",
       "      <td>1.000000</td>\n",
       "      <td>0.980645</td>\n",
       "      <td>0.990228</td>\n",
       "    </tr>\n",
       "  </tbody>\n",
       "</table>\n",
       "</div>"
      ],
      "text/plain": [
       "                 model  Accuracy  Precision    Recall        F1\n",
       "0     default logistic  0.993333   0.993548  0.993548  0.993548\n",
       "0              lin svm  0.953333   1.000000  0.909677  0.952703\n",
       "0              rbf svm  0.940000   0.992806  0.890323  0.938776\n",
       "0             poly svm  0.943333   0.985915  0.903226  0.942761\n",
       "0        rand_poly_svm  0.926667   0.978417  0.877419  0.925170\n",
       "0        grid_poly_svm  0.926667   0.978417  0.877419  0.925170\n",
       "0       rand_poly_tree  1.000000   1.000000  1.000000  1.000000\n",
       "0       grid_poly_tree  1.000000   1.000000  1.000000  1.000000\n",
       "0  Neural Networks-100  0.990000   1.000000  0.980645  0.990228\n",
       "0          GlotUniform  0.990000   1.000000  0.980645  0.990228"
      ]
     },
     "execution_count": 72,
     "metadata": {},
     "output_type": "execute_result"
    }
   ],
   "source": [
    "model_preds = ann.predict(X_test)\n",
    "c_matrix = confusion_matrix(y_test, model_preds)\n",
    "TP = c_matrix[1][1]\n",
    "TN = c_matrix[0][0]\n",
    "FP = c_matrix[0][1]\n",
    "FN = c_matrix[1][0]\n",
    "performance = pd.concat([performance, pd.DataFrame({'model':\"GlotUniform\", \n",
    "                                                    'Accuracy': [(TP+TN)/(TP+TN+FP+FN)], \n",
    "                                                    'Precision': [TP/(TP+FP)], \n",
    "                                                    'Recall': [TP/(TP+FN)], \n",
    "                                                    'F1': [2*TP/(2*TP+FP+FN)]\n",
    "                                                     }, index=[0])])\n",
    "performance"
   ]
  },
  {
   "cell_type": "markdown",
   "id": "c4c3badc-3577-4e17-9e53-602e5dd21175",
   "metadata": {},
   "source": [
    "RandomGridSearch Normal"
   ]
  },
  {
   "cell_type": "code",
   "execution_count": 73,
   "id": "6a4f4218-f854-4086-9ceb-73e2a3de55f1",
   "metadata": {},
   "outputs": [
    {
     "name": "stdout",
     "output_type": "stream",
     "text": [
      "Wall time: 0 ns\n"
     ]
    }
   ],
   "source": [
    "%%time\n",
    "\n",
    "# If you don't have the following installed, from command line '!pip install scikeras'\n",
    "from scikeras.wrappers import KerasClassifier\n",
    "from keras.initializers import GlorotNormal\n",
    "\n",
    "score_measure = \"accuracy\"\n",
    "kfolds = 5\n",
    "\n",
    "def build_clf(hidden_layer_sizes, dropout):\n",
    "    ann = tf.keras.models.Sequential()\n",
    "    ann.add(keras.layers.Input(shape=11)),\n",
    "    for hidden_layer_size in hidden_layer_sizes:\n",
    "        model.add(keras.layers.Dense(hidden_layer_size, kernel_initializer= tf.keras.initializers.GlorotNormal(), \n",
    "                                     bias_initializer=keras.initializers.RandomNormal(mean=0.0, stddev=0.05, seed=None), activation=\"relu\"))\n",
    "        model.add(keras.layers.Dropout(dropout))\n",
    "    ann.add(tf.keras.layers.Dense(10, activation='softmax'))\n",
    "    ann.compile(loss = 'sparse_categorical_crossentropy', metrics = ['accuracy'])\n",
    "    return ann\n"
   ]
  },
  {
   "cell_type": "code",
   "execution_count": 74,
   "id": "5805878e-95ee-444e-bfdc-4c6e55a5ab80",
   "metadata": {},
   "outputs": [],
   "source": [
    "keras_clf = KerasClassifier(\n",
    "    model=build_clf,\n",
    "    hidden_layer_sizes=64,\n",
    "    dropout = 0.0\n",
    ")\n"
   ]
  },
  {
   "cell_type": "code",
   "execution_count": 75,
   "id": "d580435d-9a44-4174-97f6-43dfe7ef83b6",
   "metadata": {},
   "outputs": [
    {
     "data": {
      "text/plain": [
       "dict_keys(['model', 'build_fn', 'warm_start', 'random_state', 'optimizer', 'loss', 'metrics', 'batch_size', 'validation_batch_size', 'verbose', 'callbacks', 'validation_split', 'shuffle', 'run_eagerly', 'epochs', 'hidden_layer_sizes', 'dropout', 'class_weight'])"
      ]
     },
     "execution_count": 75,
     "metadata": {},
     "output_type": "execute_result"
    }
   ],
   "source": [
    "params = {\n",
    "    'optimizer__learning_rate': [0.0005, 0.001, 0.005],\n",
    "    'model__hidden_layer_sizes': [(70,),(90, ), (100,), (100, 90)],\n",
    "    'model__dropout': [0, 0.1],\n",
    "    'batch_size':[20, 60, 100],\n",
    "    'epochs':[10, 50, 100],\n",
    "    'optimizer':['adam','sgd'],\n",
    "   \n",
    "    \n",
    "}\n",
    "keras_clf.get_params().keys()\n",
    "\n"
   ]
  },
  {
   "cell_type": "code",
   "execution_count": 76,
   "id": "ca2c67e1-98e2-42a6-a549-c31b06896a54",
   "metadata": {},
   "outputs": [
    {
     "name": "stdout",
     "output_type": "stream",
     "text": [
      "3/3 [==============================] - 0s 1ms/step\n"
     ]
    },
    {
     "name": "stderr",
     "output_type": "stream",
     "text": [
      "C:\\Users\\davul\\anaconda3\\lib\\site-packages\\sklearn\\model_selection\\_validation.py:770: UserWarning: Scoring failed. The score on this train-test partition for these parameters will be set to nan. Details: \n",
      "Traceback (most recent call last):\n",
      "  File \"C:\\Users\\davul\\anaconda3\\lib\\site-packages\\sklearn\\model_selection\\_validation.py\", line 761, in _score\n",
      "    scores = scorer(estimator, X_test, y_test)\n",
      "  File \"C:\\Users\\davul\\anaconda3\\lib\\site-packages\\sklearn\\metrics\\_scorer.py\", line 216, in __call__\n",
      "    return self._score(\n",
      "  File \"C:\\Users\\davul\\anaconda3\\lib\\site-packages\\sklearn\\metrics\\_scorer.py\", line 258, in _score\n",
      "    y_pred = method_caller(estimator, \"predict\", X)\n",
      "  File \"C:\\Users\\davul\\anaconda3\\lib\\site-packages\\sklearn\\metrics\\_scorer.py\", line 68, in _cached_call\n",
      "    return getattr(estimator, method)(*args, **kwargs)\n",
      "  File \"C:\\Users\\davul\\anaconda3\\lib\\site-packages\\scikeras\\wrappers.py\", line 1054, in predict\n",
      "    y_pred = self.target_encoder_.inverse_transform(y_pred)\n",
      "  File \"C:\\Users\\davul\\anaconda3\\lib\\site-packages\\scikeras\\utils\\transformers.py\", line 256, in inverse_transform\n",
      "    class_predictions = self._final_encoder.inverse_transform(class_predictions)\n",
      "  File \"C:\\Users\\davul\\anaconda3\\lib\\site-packages\\sklearn\\utils\\metaestimators.py\", line 113, in <lambda>\n",
      "    out = lambda *args, **kwargs: self.fn(obj, *args, **kwargs)  # noqa\n",
      "  File \"C:\\Users\\davul\\anaconda3\\lib\\site-packages\\sklearn\\pipeline.py\", line 675, in inverse_transform\n",
      "    Xt = transform.inverse_transform(Xt)\n",
      "  File \"C:\\Users\\davul\\anaconda3\\lib\\site-packages\\sklearn\\preprocessing\\_encoders.py\", line 990, in inverse_transform\n",
      "    X_tr[:, i] = self.categories_[i][labels]\n",
      "IndexError: index 9 is out of bounds for axis 0 with size 2\n",
      "\n",
      "  warnings.warn(\n"
     ]
    },
    {
     "name": "stdout",
     "output_type": "stream",
     "text": [
      "3/3 [==============================] - 0s 1ms/step\n"
     ]
    },
    {
     "name": "stderr",
     "output_type": "stream",
     "text": [
      "C:\\Users\\davul\\anaconda3\\lib\\site-packages\\sklearn\\model_selection\\_validation.py:770: UserWarning: Scoring failed. The score on this train-test partition for these parameters will be set to nan. Details: \n",
      "Traceback (most recent call last):\n",
      "  File \"C:\\Users\\davul\\anaconda3\\lib\\site-packages\\sklearn\\model_selection\\_validation.py\", line 761, in _score\n",
      "    scores = scorer(estimator, X_test, y_test)\n",
      "  File \"C:\\Users\\davul\\anaconda3\\lib\\site-packages\\sklearn\\metrics\\_scorer.py\", line 216, in __call__\n",
      "    return self._score(\n",
      "  File \"C:\\Users\\davul\\anaconda3\\lib\\site-packages\\sklearn\\metrics\\_scorer.py\", line 258, in _score\n",
      "    y_pred = method_caller(estimator, \"predict\", X)\n",
      "  File \"C:\\Users\\davul\\anaconda3\\lib\\site-packages\\sklearn\\metrics\\_scorer.py\", line 68, in _cached_call\n",
      "    return getattr(estimator, method)(*args, **kwargs)\n",
      "  File \"C:\\Users\\davul\\anaconda3\\lib\\site-packages\\scikeras\\wrappers.py\", line 1054, in predict\n",
      "    y_pred = self.target_encoder_.inverse_transform(y_pred)\n",
      "  File \"C:\\Users\\davul\\anaconda3\\lib\\site-packages\\scikeras\\utils\\transformers.py\", line 256, in inverse_transform\n",
      "    class_predictions = self._final_encoder.inverse_transform(class_predictions)\n",
      "  File \"C:\\Users\\davul\\anaconda3\\lib\\site-packages\\sklearn\\utils\\metaestimators.py\", line 113, in <lambda>\n",
      "    out = lambda *args, **kwargs: self.fn(obj, *args, **kwargs)  # noqa\n",
      "  File \"C:\\Users\\davul\\anaconda3\\lib\\site-packages\\sklearn\\pipeline.py\", line 675, in inverse_transform\n",
      "    Xt = transform.inverse_transform(Xt)\n",
      "  File \"C:\\Users\\davul\\anaconda3\\lib\\site-packages\\sklearn\\preprocessing\\_encoders.py\", line 990, in inverse_transform\n",
      "    X_tr[:, i] = self.categories_[i][labels]\n",
      "IndexError: index 3 is out of bounds for axis 0 with size 2\n",
      "\n",
      "  warnings.warn(\n"
     ]
    },
    {
     "name": "stdout",
     "output_type": "stream",
     "text": [
      "3/3 [==============================] - 0s 1ms/step\n"
     ]
    },
    {
     "name": "stderr",
     "output_type": "stream",
     "text": [
      "C:\\Users\\davul\\anaconda3\\lib\\site-packages\\sklearn\\model_selection\\_validation.py:770: UserWarning: Scoring failed. The score on this train-test partition for these parameters will be set to nan. Details: \n",
      "Traceback (most recent call last):\n",
      "  File \"C:\\Users\\davul\\anaconda3\\lib\\site-packages\\sklearn\\model_selection\\_validation.py\", line 761, in _score\n",
      "    scores = scorer(estimator, X_test, y_test)\n",
      "  File \"C:\\Users\\davul\\anaconda3\\lib\\site-packages\\sklearn\\metrics\\_scorer.py\", line 216, in __call__\n",
      "    return self._score(\n",
      "  File \"C:\\Users\\davul\\anaconda3\\lib\\site-packages\\sklearn\\metrics\\_scorer.py\", line 258, in _score\n",
      "    y_pred = method_caller(estimator, \"predict\", X)\n",
      "  File \"C:\\Users\\davul\\anaconda3\\lib\\site-packages\\sklearn\\metrics\\_scorer.py\", line 68, in _cached_call\n",
      "    return getattr(estimator, method)(*args, **kwargs)\n",
      "  File \"C:\\Users\\davul\\anaconda3\\lib\\site-packages\\scikeras\\wrappers.py\", line 1054, in predict\n",
      "    y_pred = self.target_encoder_.inverse_transform(y_pred)\n",
      "  File \"C:\\Users\\davul\\anaconda3\\lib\\site-packages\\scikeras\\utils\\transformers.py\", line 256, in inverse_transform\n",
      "    class_predictions = self._final_encoder.inverse_transform(class_predictions)\n",
      "  File \"C:\\Users\\davul\\anaconda3\\lib\\site-packages\\sklearn\\utils\\metaestimators.py\", line 113, in <lambda>\n",
      "    out = lambda *args, **kwargs: self.fn(obj, *args, **kwargs)  # noqa\n",
      "  File \"C:\\Users\\davul\\anaconda3\\lib\\site-packages\\sklearn\\pipeline.py\", line 675, in inverse_transform\n",
      "    Xt = transform.inverse_transform(Xt)\n",
      "  File \"C:\\Users\\davul\\anaconda3\\lib\\site-packages\\sklearn\\preprocessing\\_encoders.py\", line 990, in inverse_transform\n",
      "    X_tr[:, i] = self.categories_[i][labels]\n",
      "IndexError: index 2 is out of bounds for axis 0 with size 2\n",
      "\n",
      "  warnings.warn(\n"
     ]
    },
    {
     "name": "stdout",
     "output_type": "stream",
     "text": [
      "3/3 [==============================] - 0s 1ms/step\n"
     ]
    },
    {
     "name": "stderr",
     "output_type": "stream",
     "text": [
      "C:\\Users\\davul\\anaconda3\\lib\\site-packages\\sklearn\\model_selection\\_validation.py:770: UserWarning: Scoring failed. The score on this train-test partition for these parameters will be set to nan. Details: \n",
      "Traceback (most recent call last):\n",
      "  File \"C:\\Users\\davul\\anaconda3\\lib\\site-packages\\sklearn\\model_selection\\_validation.py\", line 761, in _score\n",
      "    scores = scorer(estimator, X_test, y_test)\n",
      "  File \"C:\\Users\\davul\\anaconda3\\lib\\site-packages\\sklearn\\metrics\\_scorer.py\", line 216, in __call__\n",
      "    return self._score(\n",
      "  File \"C:\\Users\\davul\\anaconda3\\lib\\site-packages\\sklearn\\metrics\\_scorer.py\", line 258, in _score\n",
      "    y_pred = method_caller(estimator, \"predict\", X)\n",
      "  File \"C:\\Users\\davul\\anaconda3\\lib\\site-packages\\sklearn\\metrics\\_scorer.py\", line 68, in _cached_call\n",
      "    return getattr(estimator, method)(*args, **kwargs)\n",
      "  File \"C:\\Users\\davul\\anaconda3\\lib\\site-packages\\scikeras\\wrappers.py\", line 1054, in predict\n",
      "    y_pred = self.target_encoder_.inverse_transform(y_pred)\n",
      "  File \"C:\\Users\\davul\\anaconda3\\lib\\site-packages\\scikeras\\utils\\transformers.py\", line 256, in inverse_transform\n",
      "    class_predictions = self._final_encoder.inverse_transform(class_predictions)\n",
      "  File \"C:\\Users\\davul\\anaconda3\\lib\\site-packages\\sklearn\\utils\\metaestimators.py\", line 113, in <lambda>\n",
      "    out = lambda *args, **kwargs: self.fn(obj, *args, **kwargs)  # noqa\n",
      "  File \"C:\\Users\\davul\\anaconda3\\lib\\site-packages\\sklearn\\pipeline.py\", line 675, in inverse_transform\n",
      "    Xt = transform.inverse_transform(Xt)\n",
      "  File \"C:\\Users\\davul\\anaconda3\\lib\\site-packages\\sklearn\\preprocessing\\_encoders.py\", line 990, in inverse_transform\n",
      "    X_tr[:, i] = self.categories_[i][labels]\n",
      "IndexError: index 2 is out of bounds for axis 0 with size 2\n",
      "\n",
      "  warnings.warn(\n"
     ]
    },
    {
     "name": "stdout",
     "output_type": "stream",
     "text": [
      "3/3 [==============================] - 0s 2ms/step\n"
     ]
    },
    {
     "name": "stderr",
     "output_type": "stream",
     "text": [
      "C:\\Users\\davul\\anaconda3\\lib\\site-packages\\sklearn\\model_selection\\_validation.py:770: UserWarning: Scoring failed. The score on this train-test partition for these parameters will be set to nan. Details: \n",
      "Traceback (most recent call last):\n",
      "  File \"C:\\Users\\davul\\anaconda3\\lib\\site-packages\\sklearn\\model_selection\\_validation.py\", line 761, in _score\n",
      "    scores = scorer(estimator, X_test, y_test)\n",
      "  File \"C:\\Users\\davul\\anaconda3\\lib\\site-packages\\sklearn\\metrics\\_scorer.py\", line 216, in __call__\n",
      "    return self._score(\n",
      "  File \"C:\\Users\\davul\\anaconda3\\lib\\site-packages\\sklearn\\metrics\\_scorer.py\", line 258, in _score\n",
      "    y_pred = method_caller(estimator, \"predict\", X)\n",
      "  File \"C:\\Users\\davul\\anaconda3\\lib\\site-packages\\sklearn\\metrics\\_scorer.py\", line 68, in _cached_call\n",
      "    return getattr(estimator, method)(*args, **kwargs)\n",
      "  File \"C:\\Users\\davul\\anaconda3\\lib\\site-packages\\scikeras\\wrappers.py\", line 1054, in predict\n",
      "    y_pred = self.target_encoder_.inverse_transform(y_pred)\n",
      "  File \"C:\\Users\\davul\\anaconda3\\lib\\site-packages\\scikeras\\utils\\transformers.py\", line 256, in inverse_transform\n",
      "    class_predictions = self._final_encoder.inverse_transform(class_predictions)\n",
      "  File \"C:\\Users\\davul\\anaconda3\\lib\\site-packages\\sklearn\\utils\\metaestimators.py\", line 113, in <lambda>\n",
      "    out = lambda *args, **kwargs: self.fn(obj, *args, **kwargs)  # noqa\n",
      "  File \"C:\\Users\\davul\\anaconda3\\lib\\site-packages\\sklearn\\pipeline.py\", line 675, in inverse_transform\n",
      "    Xt = transform.inverse_transform(Xt)\n",
      "  File \"C:\\Users\\davul\\anaconda3\\lib\\site-packages\\sklearn\\preprocessing\\_encoders.py\", line 990, in inverse_transform\n",
      "    X_tr[:, i] = self.categories_[i][labels]\n",
      "IndexError: index 5 is out of bounds for axis 0 with size 2\n",
      "\n",
      "  warnings.warn(\n"
     ]
    },
    {
     "name": "stdout",
     "output_type": "stream",
     "text": [
      "3/3 [==============================] - 0s 1ms/step\n",
      "3/3 [==============================] - 0s 897us/step\n"
     ]
    },
    {
     "name": "stderr",
     "output_type": "stream",
     "text": [
      "C:\\Users\\davul\\anaconda3\\lib\\site-packages\\sklearn\\model_selection\\_validation.py:770: UserWarning: Scoring failed. The score on this train-test partition for these parameters will be set to nan. Details: \n",
      "Traceback (most recent call last):\n",
      "  File \"C:\\Users\\davul\\anaconda3\\lib\\site-packages\\sklearn\\model_selection\\_validation.py\", line 761, in _score\n",
      "    scores = scorer(estimator, X_test, y_test)\n",
      "  File \"C:\\Users\\davul\\anaconda3\\lib\\site-packages\\sklearn\\metrics\\_scorer.py\", line 216, in __call__\n",
      "    return self._score(\n",
      "  File \"C:\\Users\\davul\\anaconda3\\lib\\site-packages\\sklearn\\metrics\\_scorer.py\", line 258, in _score\n",
      "    y_pred = method_caller(estimator, \"predict\", X)\n",
      "  File \"C:\\Users\\davul\\anaconda3\\lib\\site-packages\\sklearn\\metrics\\_scorer.py\", line 68, in _cached_call\n",
      "    return getattr(estimator, method)(*args, **kwargs)\n",
      "  File \"C:\\Users\\davul\\anaconda3\\lib\\site-packages\\scikeras\\wrappers.py\", line 1054, in predict\n",
      "    y_pred = self.target_encoder_.inverse_transform(y_pred)\n",
      "  File \"C:\\Users\\davul\\anaconda3\\lib\\site-packages\\scikeras\\utils\\transformers.py\", line 256, in inverse_transform\n",
      "    class_predictions = self._final_encoder.inverse_transform(class_predictions)\n",
      "  File \"C:\\Users\\davul\\anaconda3\\lib\\site-packages\\sklearn\\utils\\metaestimators.py\", line 113, in <lambda>\n",
      "    out = lambda *args, **kwargs: self.fn(obj, *args, **kwargs)  # noqa\n",
      "  File \"C:\\Users\\davul\\anaconda3\\lib\\site-packages\\sklearn\\pipeline.py\", line 675, in inverse_transform\n",
      "    Xt = transform.inverse_transform(Xt)\n",
      "  File \"C:\\Users\\davul\\anaconda3\\lib\\site-packages\\sklearn\\preprocessing\\_encoders.py\", line 990, in inverse_transform\n",
      "    X_tr[:, i] = self.categories_[i][labels]\n",
      "IndexError: index 9 is out of bounds for axis 0 with size 2\n",
      "\n",
      "  warnings.warn(\n"
     ]
    },
    {
     "name": "stdout",
     "output_type": "stream",
     "text": [
      "3/3 [==============================] - 0s 2ms/step\n"
     ]
    },
    {
     "name": "stderr",
     "output_type": "stream",
     "text": [
      "C:\\Users\\davul\\anaconda3\\lib\\site-packages\\sklearn\\model_selection\\_validation.py:770: UserWarning: Scoring failed. The score on this train-test partition for these parameters will be set to nan. Details: \n",
      "Traceback (most recent call last):\n",
      "  File \"C:\\Users\\davul\\anaconda3\\lib\\site-packages\\sklearn\\model_selection\\_validation.py\", line 761, in _score\n",
      "    scores = scorer(estimator, X_test, y_test)\n",
      "  File \"C:\\Users\\davul\\anaconda3\\lib\\site-packages\\sklearn\\metrics\\_scorer.py\", line 216, in __call__\n",
      "    return self._score(\n",
      "  File \"C:\\Users\\davul\\anaconda3\\lib\\site-packages\\sklearn\\metrics\\_scorer.py\", line 258, in _score\n",
      "    y_pred = method_caller(estimator, \"predict\", X)\n",
      "  File \"C:\\Users\\davul\\anaconda3\\lib\\site-packages\\sklearn\\metrics\\_scorer.py\", line 68, in _cached_call\n",
      "    return getattr(estimator, method)(*args, **kwargs)\n",
      "  File \"C:\\Users\\davul\\anaconda3\\lib\\site-packages\\scikeras\\wrappers.py\", line 1054, in predict\n",
      "    y_pred = self.target_encoder_.inverse_transform(y_pred)\n",
      "  File \"C:\\Users\\davul\\anaconda3\\lib\\site-packages\\scikeras\\utils\\transformers.py\", line 256, in inverse_transform\n",
      "    class_predictions = self._final_encoder.inverse_transform(class_predictions)\n",
      "  File \"C:\\Users\\davul\\anaconda3\\lib\\site-packages\\sklearn\\utils\\metaestimators.py\", line 113, in <lambda>\n",
      "    out = lambda *args, **kwargs: self.fn(obj, *args, **kwargs)  # noqa\n",
      "  File \"C:\\Users\\davul\\anaconda3\\lib\\site-packages\\sklearn\\pipeline.py\", line 675, in inverse_transform\n",
      "    Xt = transform.inverse_transform(Xt)\n",
      "  File \"C:\\Users\\davul\\anaconda3\\lib\\site-packages\\sklearn\\preprocessing\\_encoders.py\", line 990, in inverse_transform\n",
      "    X_tr[:, i] = self.categories_[i][labels]\n",
      "IndexError: index 5 is out of bounds for axis 0 with size 2\n",
      "\n",
      "  warnings.warn(\n"
     ]
    },
    {
     "name": "stdout",
     "output_type": "stream",
     "text": [
      "3/3 [==============================] - 0s 1ms/step\n",
      "3/3 [==============================] - 0s 1ms/step\n",
      "2/2 [==============================] - 0s 1ms/step\n"
     ]
    },
    {
     "name": "stderr",
     "output_type": "stream",
     "text": [
      "C:\\Users\\davul\\anaconda3\\lib\\site-packages\\sklearn\\model_selection\\_validation.py:770: UserWarning: Scoring failed. The score on this train-test partition for these parameters will be set to nan. Details: \n",
      "Traceback (most recent call last):\n",
      "  File \"C:\\Users\\davul\\anaconda3\\lib\\site-packages\\sklearn\\model_selection\\_validation.py\", line 761, in _score\n",
      "    scores = scorer(estimator, X_test, y_test)\n",
      "  File \"C:\\Users\\davul\\anaconda3\\lib\\site-packages\\sklearn\\metrics\\_scorer.py\", line 216, in __call__\n",
      "    return self._score(\n",
      "  File \"C:\\Users\\davul\\anaconda3\\lib\\site-packages\\sklearn\\metrics\\_scorer.py\", line 258, in _score\n",
      "    y_pred = method_caller(estimator, \"predict\", X)\n",
      "  File \"C:\\Users\\davul\\anaconda3\\lib\\site-packages\\sklearn\\metrics\\_scorer.py\", line 68, in _cached_call\n",
      "    return getattr(estimator, method)(*args, **kwargs)\n",
      "  File \"C:\\Users\\davul\\anaconda3\\lib\\site-packages\\scikeras\\wrappers.py\", line 1054, in predict\n",
      "    y_pred = self.target_encoder_.inverse_transform(y_pred)\n",
      "  File \"C:\\Users\\davul\\anaconda3\\lib\\site-packages\\scikeras\\utils\\transformers.py\", line 256, in inverse_transform\n",
      "    class_predictions = self._final_encoder.inverse_transform(class_predictions)\n",
      "  File \"C:\\Users\\davul\\anaconda3\\lib\\site-packages\\sklearn\\utils\\metaestimators.py\", line 113, in <lambda>\n",
      "    out = lambda *args, **kwargs: self.fn(obj, *args, **kwargs)  # noqa\n",
      "  File \"C:\\Users\\davul\\anaconda3\\lib\\site-packages\\sklearn\\pipeline.py\", line 675, in inverse_transform\n",
      "    Xt = transform.inverse_transform(Xt)\n",
      "  File \"C:\\Users\\davul\\anaconda3\\lib\\site-packages\\sklearn\\preprocessing\\_encoders.py\", line 990, in inverse_transform\n",
      "    X_tr[:, i] = self.categories_[i][labels]\n",
      "IndexError: index 2 is out of bounds for axis 0 with size 2\n",
      "\n",
      "  warnings.warn(\n"
     ]
    },
    {
     "name": "stdout",
     "output_type": "stream",
     "text": [
      "2/2 [==============================] - 0s 999us/step\n"
     ]
    },
    {
     "name": "stderr",
     "output_type": "stream",
     "text": [
      "C:\\Users\\davul\\anaconda3\\lib\\site-packages\\sklearn\\model_selection\\_validation.py:770: UserWarning: Scoring failed. The score on this train-test partition for these parameters will be set to nan. Details: \n",
      "Traceback (most recent call last):\n",
      "  File \"C:\\Users\\davul\\anaconda3\\lib\\site-packages\\sklearn\\model_selection\\_validation.py\", line 761, in _score\n",
      "    scores = scorer(estimator, X_test, y_test)\n",
      "  File \"C:\\Users\\davul\\anaconda3\\lib\\site-packages\\sklearn\\metrics\\_scorer.py\", line 216, in __call__\n",
      "    return self._score(\n",
      "  File \"C:\\Users\\davul\\anaconda3\\lib\\site-packages\\sklearn\\metrics\\_scorer.py\", line 258, in _score\n",
      "    y_pred = method_caller(estimator, \"predict\", X)\n",
      "  File \"C:\\Users\\davul\\anaconda3\\lib\\site-packages\\sklearn\\metrics\\_scorer.py\", line 68, in _cached_call\n",
      "    return getattr(estimator, method)(*args, **kwargs)\n",
      "  File \"C:\\Users\\davul\\anaconda3\\lib\\site-packages\\scikeras\\wrappers.py\", line 1054, in predict\n",
      "    y_pred = self.target_encoder_.inverse_transform(y_pred)\n",
      "  File \"C:\\Users\\davul\\anaconda3\\lib\\site-packages\\scikeras\\utils\\transformers.py\", line 256, in inverse_transform\n",
      "    class_predictions = self._final_encoder.inverse_transform(class_predictions)\n",
      "  File \"C:\\Users\\davul\\anaconda3\\lib\\site-packages\\sklearn\\utils\\metaestimators.py\", line 113, in <lambda>\n",
      "    out = lambda *args, **kwargs: self.fn(obj, *args, **kwargs)  # noqa\n",
      "  File \"C:\\Users\\davul\\anaconda3\\lib\\site-packages\\sklearn\\pipeline.py\", line 675, in inverse_transform\n",
      "    Xt = transform.inverse_transform(Xt)\n",
      "  File \"C:\\Users\\davul\\anaconda3\\lib\\site-packages\\sklearn\\preprocessing\\_encoders.py\", line 990, in inverse_transform\n",
      "    X_tr[:, i] = self.categories_[i][labels]\n",
      "IndexError: index 7 is out of bounds for axis 0 with size 2\n",
      "\n",
      "  warnings.warn(\n"
     ]
    },
    {
     "name": "stdout",
     "output_type": "stream",
     "text": [
      "2/2 [==============================] - 0s 2ms/step\n"
     ]
    },
    {
     "name": "stderr",
     "output_type": "stream",
     "text": [
      "C:\\Users\\davul\\anaconda3\\lib\\site-packages\\sklearn\\model_selection\\_validation.py:770: UserWarning: Scoring failed. The score on this train-test partition for these parameters will be set to nan. Details: \n",
      "Traceback (most recent call last):\n",
      "  File \"C:\\Users\\davul\\anaconda3\\lib\\site-packages\\sklearn\\model_selection\\_validation.py\", line 761, in _score\n",
      "    scores = scorer(estimator, X_test, y_test)\n",
      "  File \"C:\\Users\\davul\\anaconda3\\lib\\site-packages\\sklearn\\metrics\\_scorer.py\", line 216, in __call__\n",
      "    return self._score(\n",
      "  File \"C:\\Users\\davul\\anaconda3\\lib\\site-packages\\sklearn\\metrics\\_scorer.py\", line 258, in _score\n",
      "    y_pred = method_caller(estimator, \"predict\", X)\n",
      "  File \"C:\\Users\\davul\\anaconda3\\lib\\site-packages\\sklearn\\metrics\\_scorer.py\", line 68, in _cached_call\n",
      "    return getattr(estimator, method)(*args, **kwargs)\n",
      "  File \"C:\\Users\\davul\\anaconda3\\lib\\site-packages\\scikeras\\wrappers.py\", line 1054, in predict\n",
      "    y_pred = self.target_encoder_.inverse_transform(y_pred)\n",
      "  File \"C:\\Users\\davul\\anaconda3\\lib\\site-packages\\scikeras\\utils\\transformers.py\", line 256, in inverse_transform\n",
      "    class_predictions = self._final_encoder.inverse_transform(class_predictions)\n",
      "  File \"C:\\Users\\davul\\anaconda3\\lib\\site-packages\\sklearn\\utils\\metaestimators.py\", line 113, in <lambda>\n",
      "    out = lambda *args, **kwargs: self.fn(obj, *args, **kwargs)  # noqa\n",
      "  File \"C:\\Users\\davul\\anaconda3\\lib\\site-packages\\sklearn\\pipeline.py\", line 675, in inverse_transform\n",
      "    Xt = transform.inverse_transform(Xt)\n",
      "  File \"C:\\Users\\davul\\anaconda3\\lib\\site-packages\\sklearn\\preprocessing\\_encoders.py\", line 990, in inverse_transform\n",
      "    X_tr[:, i] = self.categories_[i][labels]\n",
      "IndexError: index 8 is out of bounds for axis 0 with size 2\n",
      "\n",
      "  warnings.warn(\n"
     ]
    },
    {
     "name": "stdout",
     "output_type": "stream",
     "text": [
      "2/2 [==============================] - 0s 2ms/step\n"
     ]
    },
    {
     "name": "stderr",
     "output_type": "stream",
     "text": [
      "C:\\Users\\davul\\anaconda3\\lib\\site-packages\\sklearn\\model_selection\\_validation.py:770: UserWarning: Scoring failed. The score on this train-test partition for these parameters will be set to nan. Details: \n",
      "Traceback (most recent call last):\n",
      "  File \"C:\\Users\\davul\\anaconda3\\lib\\site-packages\\sklearn\\model_selection\\_validation.py\", line 761, in _score\n",
      "    scores = scorer(estimator, X_test, y_test)\n",
      "  File \"C:\\Users\\davul\\anaconda3\\lib\\site-packages\\sklearn\\metrics\\_scorer.py\", line 216, in __call__\n",
      "    return self._score(\n",
      "  File \"C:\\Users\\davul\\anaconda3\\lib\\site-packages\\sklearn\\metrics\\_scorer.py\", line 258, in _score\n",
      "    y_pred = method_caller(estimator, \"predict\", X)\n",
      "  File \"C:\\Users\\davul\\anaconda3\\lib\\site-packages\\sklearn\\metrics\\_scorer.py\", line 68, in _cached_call\n",
      "    return getattr(estimator, method)(*args, **kwargs)\n",
      "  File \"C:\\Users\\davul\\anaconda3\\lib\\site-packages\\scikeras\\wrappers.py\", line 1054, in predict\n",
      "    y_pred = self.target_encoder_.inverse_transform(y_pred)\n",
      "  File \"C:\\Users\\davul\\anaconda3\\lib\\site-packages\\scikeras\\utils\\transformers.py\", line 256, in inverse_transform\n",
      "    class_predictions = self._final_encoder.inverse_transform(class_predictions)\n",
      "  File \"C:\\Users\\davul\\anaconda3\\lib\\site-packages\\sklearn\\utils\\metaestimators.py\", line 113, in <lambda>\n",
      "    out = lambda *args, **kwargs: self.fn(obj, *args, **kwargs)  # noqa\n",
      "  File \"C:\\Users\\davul\\anaconda3\\lib\\site-packages\\sklearn\\pipeline.py\", line 675, in inverse_transform\n",
      "    Xt = transform.inverse_transform(Xt)\n",
      "  File \"C:\\Users\\davul\\anaconda3\\lib\\site-packages\\sklearn\\preprocessing\\_encoders.py\", line 990, in inverse_transform\n",
      "    X_tr[:, i] = self.categories_[i][labels]\n",
      "IndexError: index 3 is out of bounds for axis 0 with size 2\n",
      "\n",
      "  warnings.warn(\n"
     ]
    },
    {
     "name": "stdout",
     "output_type": "stream",
     "text": [
      "2/2 [==============================] - 0s 3ms/step\n"
     ]
    },
    {
     "name": "stderr",
     "output_type": "stream",
     "text": [
      "C:\\Users\\davul\\anaconda3\\lib\\site-packages\\sklearn\\model_selection\\_validation.py:770: UserWarning: Scoring failed. The score on this train-test partition for these parameters will be set to nan. Details: \n",
      "Traceback (most recent call last):\n",
      "  File \"C:\\Users\\davul\\anaconda3\\lib\\site-packages\\sklearn\\model_selection\\_validation.py\", line 761, in _score\n",
      "    scores = scorer(estimator, X_test, y_test)\n",
      "  File \"C:\\Users\\davul\\anaconda3\\lib\\site-packages\\sklearn\\metrics\\_scorer.py\", line 216, in __call__\n",
      "    return self._score(\n",
      "  File \"C:\\Users\\davul\\anaconda3\\lib\\site-packages\\sklearn\\metrics\\_scorer.py\", line 258, in _score\n",
      "    y_pred = method_caller(estimator, \"predict\", X)\n",
      "  File \"C:\\Users\\davul\\anaconda3\\lib\\site-packages\\sklearn\\metrics\\_scorer.py\", line 68, in _cached_call\n",
      "    return getattr(estimator, method)(*args, **kwargs)\n",
      "  File \"C:\\Users\\davul\\anaconda3\\lib\\site-packages\\scikeras\\wrappers.py\", line 1054, in predict\n",
      "    y_pred = self.target_encoder_.inverse_transform(y_pred)\n",
      "  File \"C:\\Users\\davul\\anaconda3\\lib\\site-packages\\scikeras\\utils\\transformers.py\", line 256, in inverse_transform\n",
      "    class_predictions = self._final_encoder.inverse_transform(class_predictions)\n",
      "  File \"C:\\Users\\davul\\anaconda3\\lib\\site-packages\\sklearn\\utils\\metaestimators.py\", line 113, in <lambda>\n",
      "    out = lambda *args, **kwargs: self.fn(obj, *args, **kwargs)  # noqa\n",
      "  File \"C:\\Users\\davul\\anaconda3\\lib\\site-packages\\sklearn\\pipeline.py\", line 675, in inverse_transform\n",
      "    Xt = transform.inverse_transform(Xt)\n",
      "  File \"C:\\Users\\davul\\anaconda3\\lib\\site-packages\\sklearn\\preprocessing\\_encoders.py\", line 990, in inverse_transform\n",
      "    X_tr[:, i] = self.categories_[i][labels]\n",
      "IndexError: index 8 is out of bounds for axis 0 with size 2\n",
      "\n",
      "  warnings.warn(\n"
     ]
    },
    {
     "name": "stdout",
     "output_type": "stream",
     "text": [
      "7/7 [==============================] - 0s 834us/step\n"
     ]
    },
    {
     "name": "stderr",
     "output_type": "stream",
     "text": [
      "C:\\Users\\davul\\anaconda3\\lib\\site-packages\\sklearn\\model_selection\\_validation.py:770: UserWarning: Scoring failed. The score on this train-test partition for these parameters will be set to nan. Details: \n",
      "Traceback (most recent call last):\n",
      "  File \"C:\\Users\\davul\\anaconda3\\lib\\site-packages\\sklearn\\model_selection\\_validation.py\", line 761, in _score\n",
      "    scores = scorer(estimator, X_test, y_test)\n",
      "  File \"C:\\Users\\davul\\anaconda3\\lib\\site-packages\\sklearn\\metrics\\_scorer.py\", line 216, in __call__\n",
      "    return self._score(\n",
      "  File \"C:\\Users\\davul\\anaconda3\\lib\\site-packages\\sklearn\\metrics\\_scorer.py\", line 258, in _score\n",
      "    y_pred = method_caller(estimator, \"predict\", X)\n",
      "  File \"C:\\Users\\davul\\anaconda3\\lib\\site-packages\\sklearn\\metrics\\_scorer.py\", line 68, in _cached_call\n",
      "    return getattr(estimator, method)(*args, **kwargs)\n",
      "  File \"C:\\Users\\davul\\anaconda3\\lib\\site-packages\\scikeras\\wrappers.py\", line 1054, in predict\n",
      "    y_pred = self.target_encoder_.inverse_transform(y_pred)\n",
      "  File \"C:\\Users\\davul\\anaconda3\\lib\\site-packages\\scikeras\\utils\\transformers.py\", line 256, in inverse_transform\n",
      "    class_predictions = self._final_encoder.inverse_transform(class_predictions)\n",
      "  File \"C:\\Users\\davul\\anaconda3\\lib\\site-packages\\sklearn\\utils\\metaestimators.py\", line 113, in <lambda>\n",
      "    out = lambda *args, **kwargs: self.fn(obj, *args, **kwargs)  # noqa\n",
      "  File \"C:\\Users\\davul\\anaconda3\\lib\\site-packages\\sklearn\\pipeline.py\", line 675, in inverse_transform\n",
      "    Xt = transform.inverse_transform(Xt)\n",
      "  File \"C:\\Users\\davul\\anaconda3\\lib\\site-packages\\sklearn\\preprocessing\\_encoders.py\", line 990, in inverse_transform\n",
      "    X_tr[:, i] = self.categories_[i][labels]\n",
      "IndexError: index 7 is out of bounds for axis 0 with size 2\n",
      "\n",
      "  warnings.warn(\n"
     ]
    },
    {
     "name": "stdout",
     "output_type": "stream",
     "text": [
      "7/7 [==============================] - 0s 761us/step\n"
     ]
    },
    {
     "name": "stderr",
     "output_type": "stream",
     "text": [
      "C:\\Users\\davul\\anaconda3\\lib\\site-packages\\sklearn\\model_selection\\_validation.py:770: UserWarning: Scoring failed. The score on this train-test partition for these parameters will be set to nan. Details: \n",
      "Traceback (most recent call last):\n",
      "  File \"C:\\Users\\davul\\anaconda3\\lib\\site-packages\\sklearn\\model_selection\\_validation.py\", line 761, in _score\n",
      "    scores = scorer(estimator, X_test, y_test)\n",
      "  File \"C:\\Users\\davul\\anaconda3\\lib\\site-packages\\sklearn\\metrics\\_scorer.py\", line 216, in __call__\n",
      "    return self._score(\n",
      "  File \"C:\\Users\\davul\\anaconda3\\lib\\site-packages\\sklearn\\metrics\\_scorer.py\", line 258, in _score\n",
      "    y_pred = method_caller(estimator, \"predict\", X)\n",
      "  File \"C:\\Users\\davul\\anaconda3\\lib\\site-packages\\sklearn\\metrics\\_scorer.py\", line 68, in _cached_call\n",
      "    return getattr(estimator, method)(*args, **kwargs)\n",
      "  File \"C:\\Users\\davul\\anaconda3\\lib\\site-packages\\scikeras\\wrappers.py\", line 1054, in predict\n",
      "    y_pred = self.target_encoder_.inverse_transform(y_pred)\n",
      "  File \"C:\\Users\\davul\\anaconda3\\lib\\site-packages\\scikeras\\utils\\transformers.py\", line 256, in inverse_transform\n",
      "    class_predictions = self._final_encoder.inverse_transform(class_predictions)\n",
      "  File \"C:\\Users\\davul\\anaconda3\\lib\\site-packages\\sklearn\\utils\\metaestimators.py\", line 113, in <lambda>\n",
      "    out = lambda *args, **kwargs: self.fn(obj, *args, **kwargs)  # noqa\n",
      "  File \"C:\\Users\\davul\\anaconda3\\lib\\site-packages\\sklearn\\pipeline.py\", line 675, in inverse_transform\n",
      "    Xt = transform.inverse_transform(Xt)\n",
      "  File \"C:\\Users\\davul\\anaconda3\\lib\\site-packages\\sklearn\\preprocessing\\_encoders.py\", line 990, in inverse_transform\n",
      "    X_tr[:, i] = self.categories_[i][labels]\n",
      "IndexError: index 9 is out of bounds for axis 0 with size 2\n",
      "\n",
      "  warnings.warn(\n"
     ]
    },
    {
     "name": "stdout",
     "output_type": "stream",
     "text": [
      "7/7 [==============================] - 0s 823us/step\n"
     ]
    },
    {
     "name": "stderr",
     "output_type": "stream",
     "text": [
      "C:\\Users\\davul\\anaconda3\\lib\\site-packages\\sklearn\\model_selection\\_validation.py:770: UserWarning: Scoring failed. The score on this train-test partition for these parameters will be set to nan. Details: \n",
      "Traceback (most recent call last):\n",
      "  File \"C:\\Users\\davul\\anaconda3\\lib\\site-packages\\sklearn\\model_selection\\_validation.py\", line 761, in _score\n",
      "    scores = scorer(estimator, X_test, y_test)\n",
      "  File \"C:\\Users\\davul\\anaconda3\\lib\\site-packages\\sklearn\\metrics\\_scorer.py\", line 216, in __call__\n",
      "    return self._score(\n",
      "  File \"C:\\Users\\davul\\anaconda3\\lib\\site-packages\\sklearn\\metrics\\_scorer.py\", line 258, in _score\n",
      "    y_pred = method_caller(estimator, \"predict\", X)\n",
      "  File \"C:\\Users\\davul\\anaconda3\\lib\\site-packages\\sklearn\\metrics\\_scorer.py\", line 68, in _cached_call\n",
      "    return getattr(estimator, method)(*args, **kwargs)\n",
      "  File \"C:\\Users\\davul\\anaconda3\\lib\\site-packages\\scikeras\\wrappers.py\", line 1054, in predict\n",
      "    y_pred = self.target_encoder_.inverse_transform(y_pred)\n",
      "  File \"C:\\Users\\davul\\anaconda3\\lib\\site-packages\\scikeras\\utils\\transformers.py\", line 256, in inverse_transform\n",
      "    class_predictions = self._final_encoder.inverse_transform(class_predictions)\n",
      "  File \"C:\\Users\\davul\\anaconda3\\lib\\site-packages\\sklearn\\utils\\metaestimators.py\", line 113, in <lambda>\n",
      "    out = lambda *args, **kwargs: self.fn(obj, *args, **kwargs)  # noqa\n",
      "  File \"C:\\Users\\davul\\anaconda3\\lib\\site-packages\\sklearn\\pipeline.py\", line 675, in inverse_transform\n",
      "    Xt = transform.inverse_transform(Xt)\n",
      "  File \"C:\\Users\\davul\\anaconda3\\lib\\site-packages\\sklearn\\preprocessing\\_encoders.py\", line 990, in inverse_transform\n",
      "    X_tr[:, i] = self.categories_[i][labels]\n",
      "IndexError: index 7 is out of bounds for axis 0 with size 2\n",
      "\n",
      "  warnings.warn(\n"
     ]
    },
    {
     "name": "stdout",
     "output_type": "stream",
     "text": [
      "7/7 [==============================] - 0s 967us/step\n"
     ]
    },
    {
     "name": "stderr",
     "output_type": "stream",
     "text": [
      "C:\\Users\\davul\\anaconda3\\lib\\site-packages\\sklearn\\model_selection\\_validation.py:770: UserWarning: Scoring failed. The score on this train-test partition for these parameters will be set to nan. Details: \n",
      "Traceback (most recent call last):\n",
      "  File \"C:\\Users\\davul\\anaconda3\\lib\\site-packages\\sklearn\\model_selection\\_validation.py\", line 761, in _score\n",
      "    scores = scorer(estimator, X_test, y_test)\n",
      "  File \"C:\\Users\\davul\\anaconda3\\lib\\site-packages\\sklearn\\metrics\\_scorer.py\", line 216, in __call__\n",
      "    return self._score(\n",
      "  File \"C:\\Users\\davul\\anaconda3\\lib\\site-packages\\sklearn\\metrics\\_scorer.py\", line 258, in _score\n",
      "    y_pred = method_caller(estimator, \"predict\", X)\n",
      "  File \"C:\\Users\\davul\\anaconda3\\lib\\site-packages\\sklearn\\metrics\\_scorer.py\", line 68, in _cached_call\n",
      "    return getattr(estimator, method)(*args, **kwargs)\n",
      "  File \"C:\\Users\\davul\\anaconda3\\lib\\site-packages\\scikeras\\wrappers.py\", line 1054, in predict\n",
      "    y_pred = self.target_encoder_.inverse_transform(y_pred)\n",
      "  File \"C:\\Users\\davul\\anaconda3\\lib\\site-packages\\scikeras\\utils\\transformers.py\", line 256, in inverse_transform\n",
      "    class_predictions = self._final_encoder.inverse_transform(class_predictions)\n",
      "  File \"C:\\Users\\davul\\anaconda3\\lib\\site-packages\\sklearn\\utils\\metaestimators.py\", line 113, in <lambda>\n",
      "    out = lambda *args, **kwargs: self.fn(obj, *args, **kwargs)  # noqa\n",
      "  File \"C:\\Users\\davul\\anaconda3\\lib\\site-packages\\sklearn\\pipeline.py\", line 675, in inverse_transform\n",
      "    Xt = transform.inverse_transform(Xt)\n",
      "  File \"C:\\Users\\davul\\anaconda3\\lib\\site-packages\\sklearn\\preprocessing\\_encoders.py\", line 990, in inverse_transform\n",
      "    X_tr[:, i] = self.categories_[i][labels]\n",
      "IndexError: index 4 is out of bounds for axis 0 with size 2\n",
      "\n",
      "  warnings.warn(\n"
     ]
    },
    {
     "name": "stdout",
     "output_type": "stream",
     "text": [
      "7/7 [==============================] - 0s 702us/step\n"
     ]
    },
    {
     "name": "stderr",
     "output_type": "stream",
     "text": [
      "C:\\Users\\davul\\anaconda3\\lib\\site-packages\\sklearn\\model_selection\\_validation.py:770: UserWarning: Scoring failed. The score on this train-test partition for these parameters will be set to nan. Details: \n",
      "Traceback (most recent call last):\n",
      "  File \"C:\\Users\\davul\\anaconda3\\lib\\site-packages\\sklearn\\model_selection\\_validation.py\", line 761, in _score\n",
      "    scores = scorer(estimator, X_test, y_test)\n",
      "  File \"C:\\Users\\davul\\anaconda3\\lib\\site-packages\\sklearn\\metrics\\_scorer.py\", line 216, in __call__\n",
      "    return self._score(\n",
      "  File \"C:\\Users\\davul\\anaconda3\\lib\\site-packages\\sklearn\\metrics\\_scorer.py\", line 258, in _score\n",
      "    y_pred = method_caller(estimator, \"predict\", X)\n",
      "  File \"C:\\Users\\davul\\anaconda3\\lib\\site-packages\\sklearn\\metrics\\_scorer.py\", line 68, in _cached_call\n",
      "    return getattr(estimator, method)(*args, **kwargs)\n",
      "  File \"C:\\Users\\davul\\anaconda3\\lib\\site-packages\\scikeras\\wrappers.py\", line 1054, in predict\n",
      "    y_pred = self.target_encoder_.inverse_transform(y_pred)\n",
      "  File \"C:\\Users\\davul\\anaconda3\\lib\\site-packages\\scikeras\\utils\\transformers.py\", line 256, in inverse_transform\n",
      "    class_predictions = self._final_encoder.inverse_transform(class_predictions)\n",
      "  File \"C:\\Users\\davul\\anaconda3\\lib\\site-packages\\sklearn\\utils\\metaestimators.py\", line 113, in <lambda>\n",
      "    out = lambda *args, **kwargs: self.fn(obj, *args, **kwargs)  # noqa\n",
      "  File \"C:\\Users\\davul\\anaconda3\\lib\\site-packages\\sklearn\\pipeline.py\", line 675, in inverse_transform\n",
      "    Xt = transform.inverse_transform(Xt)\n",
      "  File \"C:\\Users\\davul\\anaconda3\\lib\\site-packages\\sklearn\\preprocessing\\_encoders.py\", line 990, in inverse_transform\n",
      "    X_tr[:, i] = self.categories_[i][labels]\n",
      "IndexError: index 6 is out of bounds for axis 0 with size 2\n",
      "\n",
      "  warnings.warn(\n"
     ]
    },
    {
     "name": "stdout",
     "output_type": "stream",
     "text": [
      "3/3 [==============================] - 0s 2ms/step\n",
      "3/3 [==============================] - 0s 1ms/step\n"
     ]
    },
    {
     "name": "stderr",
     "output_type": "stream",
     "text": [
      "C:\\Users\\davul\\anaconda3\\lib\\site-packages\\sklearn\\model_selection\\_validation.py:770: UserWarning: Scoring failed. The score on this train-test partition for these parameters will be set to nan. Details: \n",
      "Traceback (most recent call last):\n",
      "  File \"C:\\Users\\davul\\anaconda3\\lib\\site-packages\\sklearn\\model_selection\\_validation.py\", line 761, in _score\n",
      "    scores = scorer(estimator, X_test, y_test)\n",
      "  File \"C:\\Users\\davul\\anaconda3\\lib\\site-packages\\sklearn\\metrics\\_scorer.py\", line 216, in __call__\n",
      "    return self._score(\n",
      "  File \"C:\\Users\\davul\\anaconda3\\lib\\site-packages\\sklearn\\metrics\\_scorer.py\", line 258, in _score\n",
      "    y_pred = method_caller(estimator, \"predict\", X)\n",
      "  File \"C:\\Users\\davul\\anaconda3\\lib\\site-packages\\sklearn\\metrics\\_scorer.py\", line 68, in _cached_call\n",
      "    return getattr(estimator, method)(*args, **kwargs)\n",
      "  File \"C:\\Users\\davul\\anaconda3\\lib\\site-packages\\scikeras\\wrappers.py\", line 1054, in predict\n",
      "    y_pred = self.target_encoder_.inverse_transform(y_pred)\n",
      "  File \"C:\\Users\\davul\\anaconda3\\lib\\site-packages\\scikeras\\utils\\transformers.py\", line 256, in inverse_transform\n",
      "    class_predictions = self._final_encoder.inverse_transform(class_predictions)\n",
      "  File \"C:\\Users\\davul\\anaconda3\\lib\\site-packages\\sklearn\\utils\\metaestimators.py\", line 113, in <lambda>\n",
      "    out = lambda *args, **kwargs: self.fn(obj, *args, **kwargs)  # noqa\n",
      "  File \"C:\\Users\\davul\\anaconda3\\lib\\site-packages\\sklearn\\pipeline.py\", line 675, in inverse_transform\n",
      "    Xt = transform.inverse_transform(Xt)\n",
      "  File \"C:\\Users\\davul\\anaconda3\\lib\\site-packages\\sklearn\\preprocessing\\_encoders.py\", line 990, in inverse_transform\n",
      "    X_tr[:, i] = self.categories_[i][labels]\n",
      "IndexError: index 2 is out of bounds for axis 0 with size 2\n",
      "\n",
      "  warnings.warn(\n"
     ]
    },
    {
     "name": "stdout",
     "output_type": "stream",
     "text": [
      "3/3 [==============================] - 0s 1ms/step\n"
     ]
    },
    {
     "name": "stderr",
     "output_type": "stream",
     "text": [
      "C:\\Users\\davul\\anaconda3\\lib\\site-packages\\sklearn\\model_selection\\_validation.py:770: UserWarning: Scoring failed. The score on this train-test partition for these parameters will be set to nan. Details: \n",
      "Traceback (most recent call last):\n",
      "  File \"C:\\Users\\davul\\anaconda3\\lib\\site-packages\\sklearn\\model_selection\\_validation.py\", line 761, in _score\n",
      "    scores = scorer(estimator, X_test, y_test)\n",
      "  File \"C:\\Users\\davul\\anaconda3\\lib\\site-packages\\sklearn\\metrics\\_scorer.py\", line 216, in __call__\n",
      "    return self._score(\n",
      "  File \"C:\\Users\\davul\\anaconda3\\lib\\site-packages\\sklearn\\metrics\\_scorer.py\", line 258, in _score\n",
      "    y_pred = method_caller(estimator, \"predict\", X)\n",
      "  File \"C:\\Users\\davul\\anaconda3\\lib\\site-packages\\sklearn\\metrics\\_scorer.py\", line 68, in _cached_call\n",
      "    return getattr(estimator, method)(*args, **kwargs)\n",
      "  File \"C:\\Users\\davul\\anaconda3\\lib\\site-packages\\scikeras\\wrappers.py\", line 1054, in predict\n",
      "    y_pred = self.target_encoder_.inverse_transform(y_pred)\n",
      "  File \"C:\\Users\\davul\\anaconda3\\lib\\site-packages\\scikeras\\utils\\transformers.py\", line 256, in inverse_transform\n",
      "    class_predictions = self._final_encoder.inverse_transform(class_predictions)\n",
      "  File \"C:\\Users\\davul\\anaconda3\\lib\\site-packages\\sklearn\\utils\\metaestimators.py\", line 113, in <lambda>\n",
      "    out = lambda *args, **kwargs: self.fn(obj, *args, **kwargs)  # noqa\n",
      "  File \"C:\\Users\\davul\\anaconda3\\lib\\site-packages\\sklearn\\pipeline.py\", line 675, in inverse_transform\n",
      "    Xt = transform.inverse_transform(Xt)\n",
      "  File \"C:\\Users\\davul\\anaconda3\\lib\\site-packages\\sklearn\\preprocessing\\_encoders.py\", line 990, in inverse_transform\n",
      "    X_tr[:, i] = self.categories_[i][labels]\n",
      "IndexError: index 9 is out of bounds for axis 0 with size 2\n",
      "\n",
      "  warnings.warn(\n"
     ]
    },
    {
     "name": "stdout",
     "output_type": "stream",
     "text": [
      "3/3 [==============================] - 0s 1ms/step\n",
      "3/3 [==============================] - 0s 1ms/step\n"
     ]
    },
    {
     "name": "stderr",
     "output_type": "stream",
     "text": [
      "C:\\Users\\davul\\anaconda3\\lib\\site-packages\\sklearn\\model_selection\\_validation.py:770: UserWarning: Scoring failed. The score on this train-test partition for these parameters will be set to nan. Details: \n",
      "Traceback (most recent call last):\n",
      "  File \"C:\\Users\\davul\\anaconda3\\lib\\site-packages\\sklearn\\model_selection\\_validation.py\", line 761, in _score\n",
      "    scores = scorer(estimator, X_test, y_test)\n",
      "  File \"C:\\Users\\davul\\anaconda3\\lib\\site-packages\\sklearn\\metrics\\_scorer.py\", line 216, in __call__\n",
      "    return self._score(\n",
      "  File \"C:\\Users\\davul\\anaconda3\\lib\\site-packages\\sklearn\\metrics\\_scorer.py\", line 258, in _score\n",
      "    y_pred = method_caller(estimator, \"predict\", X)\n",
      "  File \"C:\\Users\\davul\\anaconda3\\lib\\site-packages\\sklearn\\metrics\\_scorer.py\", line 68, in _cached_call\n",
      "    return getattr(estimator, method)(*args, **kwargs)\n",
      "  File \"C:\\Users\\davul\\anaconda3\\lib\\site-packages\\scikeras\\wrappers.py\", line 1054, in predict\n",
      "    y_pred = self.target_encoder_.inverse_transform(y_pred)\n",
      "  File \"C:\\Users\\davul\\anaconda3\\lib\\site-packages\\scikeras\\utils\\transformers.py\", line 256, in inverse_transform\n",
      "    class_predictions = self._final_encoder.inverse_transform(class_predictions)\n",
      "  File \"C:\\Users\\davul\\anaconda3\\lib\\site-packages\\sklearn\\utils\\metaestimators.py\", line 113, in <lambda>\n",
      "    out = lambda *args, **kwargs: self.fn(obj, *args, **kwargs)  # noqa\n",
      "  File \"C:\\Users\\davul\\anaconda3\\lib\\site-packages\\sklearn\\pipeline.py\", line 675, in inverse_transform\n",
      "    Xt = transform.inverse_transform(Xt)\n",
      "  File \"C:\\Users\\davul\\anaconda3\\lib\\site-packages\\sklearn\\preprocessing\\_encoders.py\", line 990, in inverse_transform\n",
      "    X_tr[:, i] = self.categories_[i][labels]\n",
      "IndexError: index 5 is out of bounds for axis 0 with size 2\n",
      "\n",
      "  warnings.warn(\n"
     ]
    },
    {
     "name": "stdout",
     "output_type": "stream",
     "text": [
      "2/2 [==============================] - 0s 2ms/step\n",
      "2/2 [==============================] - 0s 1ms/step\n"
     ]
    },
    {
     "name": "stderr",
     "output_type": "stream",
     "text": [
      "C:\\Users\\davul\\anaconda3\\lib\\site-packages\\sklearn\\model_selection\\_validation.py:770: UserWarning: Scoring failed. The score on this train-test partition for these parameters will be set to nan. Details: \n",
      "Traceback (most recent call last):\n",
      "  File \"C:\\Users\\davul\\anaconda3\\lib\\site-packages\\sklearn\\model_selection\\_validation.py\", line 761, in _score\n",
      "    scores = scorer(estimator, X_test, y_test)\n",
      "  File \"C:\\Users\\davul\\anaconda3\\lib\\site-packages\\sklearn\\metrics\\_scorer.py\", line 216, in __call__\n",
      "    return self._score(\n",
      "  File \"C:\\Users\\davul\\anaconda3\\lib\\site-packages\\sklearn\\metrics\\_scorer.py\", line 258, in _score\n",
      "    y_pred = method_caller(estimator, \"predict\", X)\n",
      "  File \"C:\\Users\\davul\\anaconda3\\lib\\site-packages\\sklearn\\metrics\\_scorer.py\", line 68, in _cached_call\n",
      "    return getattr(estimator, method)(*args, **kwargs)\n",
      "  File \"C:\\Users\\davul\\anaconda3\\lib\\site-packages\\scikeras\\wrappers.py\", line 1054, in predict\n",
      "    y_pred = self.target_encoder_.inverse_transform(y_pred)\n",
      "  File \"C:\\Users\\davul\\anaconda3\\lib\\site-packages\\scikeras\\utils\\transformers.py\", line 256, in inverse_transform\n",
      "    class_predictions = self._final_encoder.inverse_transform(class_predictions)\n",
      "  File \"C:\\Users\\davul\\anaconda3\\lib\\site-packages\\sklearn\\utils\\metaestimators.py\", line 113, in <lambda>\n",
      "    out = lambda *args, **kwargs: self.fn(obj, *args, **kwargs)  # noqa\n",
      "  File \"C:\\Users\\davul\\anaconda3\\lib\\site-packages\\sklearn\\pipeline.py\", line 675, in inverse_transform\n",
      "    Xt = transform.inverse_transform(Xt)\n",
      "  File \"C:\\Users\\davul\\anaconda3\\lib\\site-packages\\sklearn\\preprocessing\\_encoders.py\", line 990, in inverse_transform\n",
      "    X_tr[:, i] = self.categories_[i][labels]\n",
      "IndexError: index 9 is out of bounds for axis 0 with size 2\n",
      "\n",
      "  warnings.warn(\n"
     ]
    },
    {
     "name": "stdout",
     "output_type": "stream",
     "text": [
      "2/2 [==============================] - 0s 2ms/step\n"
     ]
    },
    {
     "name": "stderr",
     "output_type": "stream",
     "text": [
      "C:\\Users\\davul\\anaconda3\\lib\\site-packages\\sklearn\\model_selection\\_validation.py:770: UserWarning: Scoring failed. The score on this train-test partition for these parameters will be set to nan. Details: \n",
      "Traceback (most recent call last):\n",
      "  File \"C:\\Users\\davul\\anaconda3\\lib\\site-packages\\sklearn\\model_selection\\_validation.py\", line 761, in _score\n",
      "    scores = scorer(estimator, X_test, y_test)\n",
      "  File \"C:\\Users\\davul\\anaconda3\\lib\\site-packages\\sklearn\\metrics\\_scorer.py\", line 216, in __call__\n",
      "    return self._score(\n",
      "  File \"C:\\Users\\davul\\anaconda3\\lib\\site-packages\\sklearn\\metrics\\_scorer.py\", line 258, in _score\n",
      "    y_pred = method_caller(estimator, \"predict\", X)\n",
      "  File \"C:\\Users\\davul\\anaconda3\\lib\\site-packages\\sklearn\\metrics\\_scorer.py\", line 68, in _cached_call\n",
      "    return getattr(estimator, method)(*args, **kwargs)\n",
      "  File \"C:\\Users\\davul\\anaconda3\\lib\\site-packages\\scikeras\\wrappers.py\", line 1054, in predict\n",
      "    y_pred = self.target_encoder_.inverse_transform(y_pred)\n",
      "  File \"C:\\Users\\davul\\anaconda3\\lib\\site-packages\\scikeras\\utils\\transformers.py\", line 256, in inverse_transform\n",
      "    class_predictions = self._final_encoder.inverse_transform(class_predictions)\n",
      "  File \"C:\\Users\\davul\\anaconda3\\lib\\site-packages\\sklearn\\utils\\metaestimators.py\", line 113, in <lambda>\n",
      "    out = lambda *args, **kwargs: self.fn(obj, *args, **kwargs)  # noqa\n",
      "  File \"C:\\Users\\davul\\anaconda3\\lib\\site-packages\\sklearn\\pipeline.py\", line 675, in inverse_transform\n",
      "    Xt = transform.inverse_transform(Xt)\n",
      "  File \"C:\\Users\\davul\\anaconda3\\lib\\site-packages\\sklearn\\preprocessing\\_encoders.py\", line 990, in inverse_transform\n",
      "    X_tr[:, i] = self.categories_[i][labels]\n",
      "IndexError: index 2 is out of bounds for axis 0 with size 2\n",
      "\n",
      "  warnings.warn(\n"
     ]
    },
    {
     "name": "stdout",
     "output_type": "stream",
     "text": [
      "2/2 [==============================] - 0s 2ms/step\n",
      "2/2 [==============================] - 0s 2ms/step\n"
     ]
    },
    {
     "name": "stderr",
     "output_type": "stream",
     "text": [
      "C:\\Users\\davul\\anaconda3\\lib\\site-packages\\sklearn\\model_selection\\_validation.py:770: UserWarning: Scoring failed. The score on this train-test partition for these parameters will be set to nan. Details: \n",
      "Traceback (most recent call last):\n",
      "  File \"C:\\Users\\davul\\anaconda3\\lib\\site-packages\\sklearn\\model_selection\\_validation.py\", line 761, in _score\n",
      "    scores = scorer(estimator, X_test, y_test)\n",
      "  File \"C:\\Users\\davul\\anaconda3\\lib\\site-packages\\sklearn\\metrics\\_scorer.py\", line 216, in __call__\n",
      "    return self._score(\n",
      "  File \"C:\\Users\\davul\\anaconda3\\lib\\site-packages\\sklearn\\metrics\\_scorer.py\", line 258, in _score\n",
      "    y_pred = method_caller(estimator, \"predict\", X)\n",
      "  File \"C:\\Users\\davul\\anaconda3\\lib\\site-packages\\sklearn\\metrics\\_scorer.py\", line 68, in _cached_call\n",
      "    return getattr(estimator, method)(*args, **kwargs)\n",
      "  File \"C:\\Users\\davul\\anaconda3\\lib\\site-packages\\scikeras\\wrappers.py\", line 1054, in predict\n",
      "    y_pred = self.target_encoder_.inverse_transform(y_pred)\n",
      "  File \"C:\\Users\\davul\\anaconda3\\lib\\site-packages\\scikeras\\utils\\transformers.py\", line 256, in inverse_transform\n",
      "    class_predictions = self._final_encoder.inverse_transform(class_predictions)\n",
      "  File \"C:\\Users\\davul\\anaconda3\\lib\\site-packages\\sklearn\\utils\\metaestimators.py\", line 113, in <lambda>\n",
      "    out = lambda *args, **kwargs: self.fn(obj, *args, **kwargs)  # noqa\n",
      "  File \"C:\\Users\\davul\\anaconda3\\lib\\site-packages\\sklearn\\pipeline.py\", line 675, in inverse_transform\n",
      "    Xt = transform.inverse_transform(Xt)\n",
      "  File \"C:\\Users\\davul\\anaconda3\\lib\\site-packages\\sklearn\\preprocessing\\_encoders.py\", line 990, in inverse_transform\n",
      "    X_tr[:, i] = self.categories_[i][labels]\n",
      "IndexError: index 6 is out of bounds for axis 0 with size 2\n",
      "\n",
      "  warnings.warn(\n"
     ]
    },
    {
     "name": "stdout",
     "output_type": "stream",
     "text": [
      "2/2 [==============================] - 0s 999us/step\n"
     ]
    },
    {
     "name": "stderr",
     "output_type": "stream",
     "text": [
      "C:\\Users\\davul\\anaconda3\\lib\\site-packages\\sklearn\\model_selection\\_validation.py:770: UserWarning: Scoring failed. The score on this train-test partition for these parameters will be set to nan. Details: \n",
      "Traceback (most recent call last):\n",
      "  File \"C:\\Users\\davul\\anaconda3\\lib\\site-packages\\sklearn\\model_selection\\_validation.py\", line 761, in _score\n",
      "    scores = scorer(estimator, X_test, y_test)\n",
      "  File \"C:\\Users\\davul\\anaconda3\\lib\\site-packages\\sklearn\\metrics\\_scorer.py\", line 216, in __call__\n",
      "    return self._score(\n",
      "  File \"C:\\Users\\davul\\anaconda3\\lib\\site-packages\\sklearn\\metrics\\_scorer.py\", line 258, in _score\n",
      "    y_pred = method_caller(estimator, \"predict\", X)\n",
      "  File \"C:\\Users\\davul\\anaconda3\\lib\\site-packages\\sklearn\\metrics\\_scorer.py\", line 68, in _cached_call\n",
      "    return getattr(estimator, method)(*args, **kwargs)\n",
      "  File \"C:\\Users\\davul\\anaconda3\\lib\\site-packages\\scikeras\\wrappers.py\", line 1054, in predict\n",
      "    y_pred = self.target_encoder_.inverse_transform(y_pred)\n",
      "  File \"C:\\Users\\davul\\anaconda3\\lib\\site-packages\\scikeras\\utils\\transformers.py\", line 256, in inverse_transform\n",
      "    class_predictions = self._final_encoder.inverse_transform(class_predictions)\n",
      "  File \"C:\\Users\\davul\\anaconda3\\lib\\site-packages\\sklearn\\utils\\metaestimators.py\", line 113, in <lambda>\n",
      "    out = lambda *args, **kwargs: self.fn(obj, *args, **kwargs)  # noqa\n",
      "  File \"C:\\Users\\davul\\anaconda3\\lib\\site-packages\\sklearn\\pipeline.py\", line 675, in inverse_transform\n",
      "    Xt = transform.inverse_transform(Xt)\n",
      "  File \"C:\\Users\\davul\\anaconda3\\lib\\site-packages\\sklearn\\preprocessing\\_encoders.py\", line 990, in inverse_transform\n",
      "    X_tr[:, i] = self.categories_[i][labels]\n",
      "IndexError: index 7 is out of bounds for axis 0 with size 2\n",
      "\n",
      "  warnings.warn(\n"
     ]
    },
    {
     "name": "stdout",
     "output_type": "stream",
     "text": [
      "2/2 [==============================] - 0s 1000us/step\n"
     ]
    },
    {
     "name": "stderr",
     "output_type": "stream",
     "text": [
      "C:\\Users\\davul\\anaconda3\\lib\\site-packages\\sklearn\\model_selection\\_validation.py:770: UserWarning: Scoring failed. The score on this train-test partition for these parameters will be set to nan. Details: \n",
      "Traceback (most recent call last):\n",
      "  File \"C:\\Users\\davul\\anaconda3\\lib\\site-packages\\sklearn\\model_selection\\_validation.py\", line 761, in _score\n",
      "    scores = scorer(estimator, X_test, y_test)\n",
      "  File \"C:\\Users\\davul\\anaconda3\\lib\\site-packages\\sklearn\\metrics\\_scorer.py\", line 216, in __call__\n",
      "    return self._score(\n",
      "  File \"C:\\Users\\davul\\anaconda3\\lib\\site-packages\\sklearn\\metrics\\_scorer.py\", line 258, in _score\n",
      "    y_pred = method_caller(estimator, \"predict\", X)\n",
      "  File \"C:\\Users\\davul\\anaconda3\\lib\\site-packages\\sklearn\\metrics\\_scorer.py\", line 68, in _cached_call\n",
      "    return getattr(estimator, method)(*args, **kwargs)\n",
      "  File \"C:\\Users\\davul\\anaconda3\\lib\\site-packages\\scikeras\\wrappers.py\", line 1054, in predict\n",
      "    y_pred = self.target_encoder_.inverse_transform(y_pred)\n",
      "  File \"C:\\Users\\davul\\anaconda3\\lib\\site-packages\\scikeras\\utils\\transformers.py\", line 256, in inverse_transform\n",
      "    class_predictions = self._final_encoder.inverse_transform(class_predictions)\n",
      "  File \"C:\\Users\\davul\\anaconda3\\lib\\site-packages\\sklearn\\utils\\metaestimators.py\", line 113, in <lambda>\n",
      "    out = lambda *args, **kwargs: self.fn(obj, *args, **kwargs)  # noqa\n",
      "  File \"C:\\Users\\davul\\anaconda3\\lib\\site-packages\\sklearn\\pipeline.py\", line 675, in inverse_transform\n",
      "    Xt = transform.inverse_transform(Xt)\n",
      "  File \"C:\\Users\\davul\\anaconda3\\lib\\site-packages\\sklearn\\preprocessing\\_encoders.py\", line 990, in inverse_transform\n",
      "    X_tr[:, i] = self.categories_[i][labels]\n",
      "IndexError: index 2 is out of bounds for axis 0 with size 2\n",
      "\n",
      "  warnings.warn(\n"
     ]
    },
    {
     "name": "stdout",
     "output_type": "stream",
     "text": [
      "2/2 [==============================] - 0s 1ms/step\n"
     ]
    },
    {
     "name": "stderr",
     "output_type": "stream",
     "text": [
      "C:\\Users\\davul\\anaconda3\\lib\\site-packages\\sklearn\\model_selection\\_validation.py:770: UserWarning: Scoring failed. The score on this train-test partition for these parameters will be set to nan. Details: \n",
      "Traceback (most recent call last):\n",
      "  File \"C:\\Users\\davul\\anaconda3\\lib\\site-packages\\sklearn\\model_selection\\_validation.py\", line 761, in _score\n",
      "    scores = scorer(estimator, X_test, y_test)\n",
      "  File \"C:\\Users\\davul\\anaconda3\\lib\\site-packages\\sklearn\\metrics\\_scorer.py\", line 216, in __call__\n",
      "    return self._score(\n",
      "  File \"C:\\Users\\davul\\anaconda3\\lib\\site-packages\\sklearn\\metrics\\_scorer.py\", line 258, in _score\n",
      "    y_pred = method_caller(estimator, \"predict\", X)\n",
      "  File \"C:\\Users\\davul\\anaconda3\\lib\\site-packages\\sklearn\\metrics\\_scorer.py\", line 68, in _cached_call\n",
      "    return getattr(estimator, method)(*args, **kwargs)\n",
      "  File \"C:\\Users\\davul\\anaconda3\\lib\\site-packages\\scikeras\\wrappers.py\", line 1054, in predict\n",
      "    y_pred = self.target_encoder_.inverse_transform(y_pred)\n",
      "  File \"C:\\Users\\davul\\anaconda3\\lib\\site-packages\\scikeras\\utils\\transformers.py\", line 256, in inverse_transform\n",
      "    class_predictions = self._final_encoder.inverse_transform(class_predictions)\n",
      "  File \"C:\\Users\\davul\\anaconda3\\lib\\site-packages\\sklearn\\utils\\metaestimators.py\", line 113, in <lambda>\n",
      "    out = lambda *args, **kwargs: self.fn(obj, *args, **kwargs)  # noqa\n",
      "  File \"C:\\Users\\davul\\anaconda3\\lib\\site-packages\\sklearn\\pipeline.py\", line 675, in inverse_transform\n",
      "    Xt = transform.inverse_transform(Xt)\n",
      "  File \"C:\\Users\\davul\\anaconda3\\lib\\site-packages\\sklearn\\preprocessing\\_encoders.py\", line 990, in inverse_transform\n",
      "    X_tr[:, i] = self.categories_[i][labels]\n",
      "IndexError: index 4 is out of bounds for axis 0 with size 2\n",
      "\n",
      "  warnings.warn(\n"
     ]
    },
    {
     "name": "stdout",
     "output_type": "stream",
     "text": [
      "2/2 [==============================] - 0s 2ms/step\n",
      "2/2 [==============================] - 0s 1ms/step\n"
     ]
    },
    {
     "name": "stderr",
     "output_type": "stream",
     "text": [
      "C:\\Users\\davul\\anaconda3\\lib\\site-packages\\sklearn\\model_selection\\_validation.py:770: UserWarning: Scoring failed. The score on this train-test partition for these parameters will be set to nan. Details: \n",
      "Traceback (most recent call last):\n",
      "  File \"C:\\Users\\davul\\anaconda3\\lib\\site-packages\\sklearn\\model_selection\\_validation.py\", line 761, in _score\n",
      "    scores = scorer(estimator, X_test, y_test)\n",
      "  File \"C:\\Users\\davul\\anaconda3\\lib\\site-packages\\sklearn\\metrics\\_scorer.py\", line 216, in __call__\n",
      "    return self._score(\n",
      "  File \"C:\\Users\\davul\\anaconda3\\lib\\site-packages\\sklearn\\metrics\\_scorer.py\", line 258, in _score\n",
      "    y_pred = method_caller(estimator, \"predict\", X)\n",
      "  File \"C:\\Users\\davul\\anaconda3\\lib\\site-packages\\sklearn\\metrics\\_scorer.py\", line 68, in _cached_call\n",
      "    return getattr(estimator, method)(*args, **kwargs)\n",
      "  File \"C:\\Users\\davul\\anaconda3\\lib\\site-packages\\scikeras\\wrappers.py\", line 1054, in predict\n",
      "    y_pred = self.target_encoder_.inverse_transform(y_pred)\n",
      "  File \"C:\\Users\\davul\\anaconda3\\lib\\site-packages\\scikeras\\utils\\transformers.py\", line 256, in inverse_transform\n",
      "    class_predictions = self._final_encoder.inverse_transform(class_predictions)\n",
      "  File \"C:\\Users\\davul\\anaconda3\\lib\\site-packages\\sklearn\\utils\\metaestimators.py\", line 113, in <lambda>\n",
      "    out = lambda *args, **kwargs: self.fn(obj, *args, **kwargs)  # noqa\n",
      "  File \"C:\\Users\\davul\\anaconda3\\lib\\site-packages\\sklearn\\pipeline.py\", line 675, in inverse_transform\n",
      "    Xt = transform.inverse_transform(Xt)\n",
      "  File \"C:\\Users\\davul\\anaconda3\\lib\\site-packages\\sklearn\\preprocessing\\_encoders.py\", line 990, in inverse_transform\n",
      "    X_tr[:, i] = self.categories_[i][labels]\n",
      "IndexError: index 7 is out of bounds for axis 0 with size 2\n",
      "\n",
      "  warnings.warn(\n"
     ]
    },
    {
     "name": "stdout",
     "output_type": "stream",
     "text": [
      "3/3 [==============================] - 0s 754us/step\n",
      "3/3 [==============================] - 0s 2ms/step\n"
     ]
    },
    {
     "name": "stderr",
     "output_type": "stream",
     "text": [
      "C:\\Users\\davul\\anaconda3\\lib\\site-packages\\sklearn\\model_selection\\_validation.py:770: UserWarning: Scoring failed. The score on this train-test partition for these parameters will be set to nan. Details: \n",
      "Traceback (most recent call last):\n",
      "  File \"C:\\Users\\davul\\anaconda3\\lib\\site-packages\\sklearn\\model_selection\\_validation.py\", line 761, in _score\n",
      "    scores = scorer(estimator, X_test, y_test)\n",
      "  File \"C:\\Users\\davul\\anaconda3\\lib\\site-packages\\sklearn\\metrics\\_scorer.py\", line 216, in __call__\n",
      "    return self._score(\n",
      "  File \"C:\\Users\\davul\\anaconda3\\lib\\site-packages\\sklearn\\metrics\\_scorer.py\", line 258, in _score\n",
      "    y_pred = method_caller(estimator, \"predict\", X)\n",
      "  File \"C:\\Users\\davul\\anaconda3\\lib\\site-packages\\sklearn\\metrics\\_scorer.py\", line 68, in _cached_call\n",
      "    return getattr(estimator, method)(*args, **kwargs)\n",
      "  File \"C:\\Users\\davul\\anaconda3\\lib\\site-packages\\scikeras\\wrappers.py\", line 1054, in predict\n",
      "    y_pred = self.target_encoder_.inverse_transform(y_pred)\n",
      "  File \"C:\\Users\\davul\\anaconda3\\lib\\site-packages\\scikeras\\utils\\transformers.py\", line 256, in inverse_transform\n",
      "    class_predictions = self._final_encoder.inverse_transform(class_predictions)\n",
      "  File \"C:\\Users\\davul\\anaconda3\\lib\\site-packages\\sklearn\\utils\\metaestimators.py\", line 113, in <lambda>\n",
      "    out = lambda *args, **kwargs: self.fn(obj, *args, **kwargs)  # noqa\n",
      "  File \"C:\\Users\\davul\\anaconda3\\lib\\site-packages\\sklearn\\pipeline.py\", line 675, in inverse_transform\n",
      "    Xt = transform.inverse_transform(Xt)\n",
      "  File \"C:\\Users\\davul\\anaconda3\\lib\\site-packages\\sklearn\\preprocessing\\_encoders.py\", line 990, in inverse_transform\n",
      "    X_tr[:, i] = self.categories_[i][labels]\n",
      "IndexError: index 6 is out of bounds for axis 0 with size 2\n",
      "\n",
      "  warnings.warn(\n"
     ]
    },
    {
     "name": "stdout",
     "output_type": "stream",
     "text": [
      "3/3 [==============================] - 0s 3ms/step\n"
     ]
    },
    {
     "name": "stderr",
     "output_type": "stream",
     "text": [
      "C:\\Users\\davul\\anaconda3\\lib\\site-packages\\sklearn\\model_selection\\_validation.py:770: UserWarning: Scoring failed. The score on this train-test partition for these parameters will be set to nan. Details: \n",
      "Traceback (most recent call last):\n",
      "  File \"C:\\Users\\davul\\anaconda3\\lib\\site-packages\\sklearn\\model_selection\\_validation.py\", line 761, in _score\n",
      "    scores = scorer(estimator, X_test, y_test)\n",
      "  File \"C:\\Users\\davul\\anaconda3\\lib\\site-packages\\sklearn\\metrics\\_scorer.py\", line 216, in __call__\n",
      "    return self._score(\n",
      "  File \"C:\\Users\\davul\\anaconda3\\lib\\site-packages\\sklearn\\metrics\\_scorer.py\", line 258, in _score\n",
      "    y_pred = method_caller(estimator, \"predict\", X)\n",
      "  File \"C:\\Users\\davul\\anaconda3\\lib\\site-packages\\sklearn\\metrics\\_scorer.py\", line 68, in _cached_call\n",
      "    return getattr(estimator, method)(*args, **kwargs)\n",
      "  File \"C:\\Users\\davul\\anaconda3\\lib\\site-packages\\scikeras\\wrappers.py\", line 1054, in predict\n",
      "    y_pred = self.target_encoder_.inverse_transform(y_pred)\n",
      "  File \"C:\\Users\\davul\\anaconda3\\lib\\site-packages\\scikeras\\utils\\transformers.py\", line 256, in inverse_transform\n",
      "    class_predictions = self._final_encoder.inverse_transform(class_predictions)\n",
      "  File \"C:\\Users\\davul\\anaconda3\\lib\\site-packages\\sklearn\\utils\\metaestimators.py\", line 113, in <lambda>\n",
      "    out = lambda *args, **kwargs: self.fn(obj, *args, **kwargs)  # noqa\n",
      "  File \"C:\\Users\\davul\\anaconda3\\lib\\site-packages\\sklearn\\pipeline.py\", line 675, in inverse_transform\n",
      "    Xt = transform.inverse_transform(Xt)\n",
      "  File \"C:\\Users\\davul\\anaconda3\\lib\\site-packages\\sklearn\\preprocessing\\_encoders.py\", line 990, in inverse_transform\n",
      "    X_tr[:, i] = self.categories_[i][labels]\n",
      "IndexError: index 6 is out of bounds for axis 0 with size 2\n",
      "\n",
      "  warnings.warn(\n"
     ]
    },
    {
     "name": "stdout",
     "output_type": "stream",
     "text": [
      "3/3 [==============================] - 0s 1ms/step\n",
      "3/3 [==============================] - 0s 1ms/step\n",
      "2/2 [==============================] - 0s 1ms/step\n"
     ]
    },
    {
     "name": "stderr",
     "output_type": "stream",
     "text": [
      "C:\\Users\\davul\\anaconda3\\lib\\site-packages\\sklearn\\model_selection\\_validation.py:770: UserWarning: Scoring failed. The score on this train-test partition for these parameters will be set to nan. Details: \n",
      "Traceback (most recent call last):\n",
      "  File \"C:\\Users\\davul\\anaconda3\\lib\\site-packages\\sklearn\\model_selection\\_validation.py\", line 761, in _score\n",
      "    scores = scorer(estimator, X_test, y_test)\n",
      "  File \"C:\\Users\\davul\\anaconda3\\lib\\site-packages\\sklearn\\metrics\\_scorer.py\", line 216, in __call__\n",
      "    return self._score(\n",
      "  File \"C:\\Users\\davul\\anaconda3\\lib\\site-packages\\sklearn\\metrics\\_scorer.py\", line 258, in _score\n",
      "    y_pred = method_caller(estimator, \"predict\", X)\n",
      "  File \"C:\\Users\\davul\\anaconda3\\lib\\site-packages\\sklearn\\metrics\\_scorer.py\", line 68, in _cached_call\n",
      "    return getattr(estimator, method)(*args, **kwargs)\n",
      "  File \"C:\\Users\\davul\\anaconda3\\lib\\site-packages\\scikeras\\wrappers.py\", line 1054, in predict\n",
      "    y_pred = self.target_encoder_.inverse_transform(y_pred)\n",
      "  File \"C:\\Users\\davul\\anaconda3\\lib\\site-packages\\scikeras\\utils\\transformers.py\", line 256, in inverse_transform\n",
      "    class_predictions = self._final_encoder.inverse_transform(class_predictions)\n",
      "  File \"C:\\Users\\davul\\anaconda3\\lib\\site-packages\\sklearn\\utils\\metaestimators.py\", line 113, in <lambda>\n",
      "    out = lambda *args, **kwargs: self.fn(obj, *args, **kwargs)  # noqa\n",
      "  File \"C:\\Users\\davul\\anaconda3\\lib\\site-packages\\sklearn\\pipeline.py\", line 675, in inverse_transform\n",
      "    Xt = transform.inverse_transform(Xt)\n",
      "  File \"C:\\Users\\davul\\anaconda3\\lib\\site-packages\\sklearn\\preprocessing\\_encoders.py\", line 990, in inverse_transform\n",
      "    X_tr[:, i] = self.categories_[i][labels]\n",
      "IndexError: index 3 is out of bounds for axis 0 with size 2\n",
      "\n",
      "  warnings.warn(\n"
     ]
    },
    {
     "name": "stdout",
     "output_type": "stream",
     "text": [
      "2/2 [==============================] - 0s 2ms/step\n"
     ]
    },
    {
     "name": "stderr",
     "output_type": "stream",
     "text": [
      "C:\\Users\\davul\\anaconda3\\lib\\site-packages\\sklearn\\model_selection\\_validation.py:770: UserWarning: Scoring failed. The score on this train-test partition for these parameters will be set to nan. Details: \n",
      "Traceback (most recent call last):\n",
      "  File \"C:\\Users\\davul\\anaconda3\\lib\\site-packages\\sklearn\\model_selection\\_validation.py\", line 761, in _score\n",
      "    scores = scorer(estimator, X_test, y_test)\n",
      "  File \"C:\\Users\\davul\\anaconda3\\lib\\site-packages\\sklearn\\metrics\\_scorer.py\", line 216, in __call__\n",
      "    return self._score(\n",
      "  File \"C:\\Users\\davul\\anaconda3\\lib\\site-packages\\sklearn\\metrics\\_scorer.py\", line 258, in _score\n",
      "    y_pred = method_caller(estimator, \"predict\", X)\n",
      "  File \"C:\\Users\\davul\\anaconda3\\lib\\site-packages\\sklearn\\metrics\\_scorer.py\", line 68, in _cached_call\n",
      "    return getattr(estimator, method)(*args, **kwargs)\n",
      "  File \"C:\\Users\\davul\\anaconda3\\lib\\site-packages\\scikeras\\wrappers.py\", line 1054, in predict\n",
      "    y_pred = self.target_encoder_.inverse_transform(y_pred)\n",
      "  File \"C:\\Users\\davul\\anaconda3\\lib\\site-packages\\scikeras\\utils\\transformers.py\", line 256, in inverse_transform\n",
      "    class_predictions = self._final_encoder.inverse_transform(class_predictions)\n",
      "  File \"C:\\Users\\davul\\anaconda3\\lib\\site-packages\\sklearn\\utils\\metaestimators.py\", line 113, in <lambda>\n",
      "    out = lambda *args, **kwargs: self.fn(obj, *args, **kwargs)  # noqa\n",
      "  File \"C:\\Users\\davul\\anaconda3\\lib\\site-packages\\sklearn\\pipeline.py\", line 675, in inverse_transform\n",
      "    Xt = transform.inverse_transform(Xt)\n",
      "  File \"C:\\Users\\davul\\anaconda3\\lib\\site-packages\\sklearn\\preprocessing\\_encoders.py\", line 990, in inverse_transform\n",
      "    X_tr[:, i] = self.categories_[i][labels]\n",
      "IndexError: index 6 is out of bounds for axis 0 with size 2\n",
      "\n",
      "  warnings.warn(\n"
     ]
    },
    {
     "name": "stdout",
     "output_type": "stream",
     "text": [
      "2/2 [==============================] - 0s 2ms/step\n"
     ]
    },
    {
     "name": "stderr",
     "output_type": "stream",
     "text": [
      "C:\\Users\\davul\\anaconda3\\lib\\site-packages\\sklearn\\model_selection\\_validation.py:770: UserWarning: Scoring failed. The score on this train-test partition for these parameters will be set to nan. Details: \n",
      "Traceback (most recent call last):\n",
      "  File \"C:\\Users\\davul\\anaconda3\\lib\\site-packages\\sklearn\\model_selection\\_validation.py\", line 761, in _score\n",
      "    scores = scorer(estimator, X_test, y_test)\n",
      "  File \"C:\\Users\\davul\\anaconda3\\lib\\site-packages\\sklearn\\metrics\\_scorer.py\", line 216, in __call__\n",
      "    return self._score(\n",
      "  File \"C:\\Users\\davul\\anaconda3\\lib\\site-packages\\sklearn\\metrics\\_scorer.py\", line 258, in _score\n",
      "    y_pred = method_caller(estimator, \"predict\", X)\n",
      "  File \"C:\\Users\\davul\\anaconda3\\lib\\site-packages\\sklearn\\metrics\\_scorer.py\", line 68, in _cached_call\n",
      "    return getattr(estimator, method)(*args, **kwargs)\n",
      "  File \"C:\\Users\\davul\\anaconda3\\lib\\site-packages\\scikeras\\wrappers.py\", line 1054, in predict\n",
      "    y_pred = self.target_encoder_.inverse_transform(y_pred)\n",
      "  File \"C:\\Users\\davul\\anaconda3\\lib\\site-packages\\scikeras\\utils\\transformers.py\", line 256, in inverse_transform\n",
      "    class_predictions = self._final_encoder.inverse_transform(class_predictions)\n",
      "  File \"C:\\Users\\davul\\anaconda3\\lib\\site-packages\\sklearn\\utils\\metaestimators.py\", line 113, in <lambda>\n",
      "    out = lambda *args, **kwargs: self.fn(obj, *args, **kwargs)  # noqa\n",
      "  File \"C:\\Users\\davul\\anaconda3\\lib\\site-packages\\sklearn\\pipeline.py\", line 675, in inverse_transform\n",
      "    Xt = transform.inverse_transform(Xt)\n",
      "  File \"C:\\Users\\davul\\anaconda3\\lib\\site-packages\\sklearn\\preprocessing\\_encoders.py\", line 990, in inverse_transform\n",
      "    X_tr[:, i] = self.categories_[i][labels]\n",
      "IndexError: index 7 is out of bounds for axis 0 with size 2\n",
      "\n",
      "  warnings.warn(\n"
     ]
    },
    {
     "name": "stdout",
     "output_type": "stream",
     "text": [
      "2/2 [==============================] - 0s 2ms/step\n"
     ]
    },
    {
     "name": "stderr",
     "output_type": "stream",
     "text": [
      "C:\\Users\\davul\\anaconda3\\lib\\site-packages\\sklearn\\model_selection\\_validation.py:770: UserWarning: Scoring failed. The score on this train-test partition for these parameters will be set to nan. Details: \n",
      "Traceback (most recent call last):\n",
      "  File \"C:\\Users\\davul\\anaconda3\\lib\\site-packages\\sklearn\\model_selection\\_validation.py\", line 761, in _score\n",
      "    scores = scorer(estimator, X_test, y_test)\n",
      "  File \"C:\\Users\\davul\\anaconda3\\lib\\site-packages\\sklearn\\metrics\\_scorer.py\", line 216, in __call__\n",
      "    return self._score(\n",
      "  File \"C:\\Users\\davul\\anaconda3\\lib\\site-packages\\sklearn\\metrics\\_scorer.py\", line 258, in _score\n",
      "    y_pred = method_caller(estimator, \"predict\", X)\n",
      "  File \"C:\\Users\\davul\\anaconda3\\lib\\site-packages\\sklearn\\metrics\\_scorer.py\", line 68, in _cached_call\n",
      "    return getattr(estimator, method)(*args, **kwargs)\n",
      "  File \"C:\\Users\\davul\\anaconda3\\lib\\site-packages\\scikeras\\wrappers.py\", line 1054, in predict\n",
      "    y_pred = self.target_encoder_.inverse_transform(y_pred)\n",
      "  File \"C:\\Users\\davul\\anaconda3\\lib\\site-packages\\scikeras\\utils\\transformers.py\", line 256, in inverse_transform\n",
      "    class_predictions = self._final_encoder.inverse_transform(class_predictions)\n",
      "  File \"C:\\Users\\davul\\anaconda3\\lib\\site-packages\\sklearn\\utils\\metaestimators.py\", line 113, in <lambda>\n",
      "    out = lambda *args, **kwargs: self.fn(obj, *args, **kwargs)  # noqa\n",
      "  File \"C:\\Users\\davul\\anaconda3\\lib\\site-packages\\sklearn\\pipeline.py\", line 675, in inverse_transform\n",
      "    Xt = transform.inverse_transform(Xt)\n",
      "  File \"C:\\Users\\davul\\anaconda3\\lib\\site-packages\\sklearn\\preprocessing\\_encoders.py\", line 990, in inverse_transform\n",
      "    X_tr[:, i] = self.categories_[i][labels]\n",
      "IndexError: index 7 is out of bounds for axis 0 with size 2\n",
      "\n",
      "  warnings.warn(\n"
     ]
    },
    {
     "name": "stdout",
     "output_type": "stream",
     "text": [
      "2/2 [==============================] - 0s 2ms/step\n"
     ]
    },
    {
     "name": "stderr",
     "output_type": "stream",
     "text": [
      "C:\\Users\\davul\\anaconda3\\lib\\site-packages\\sklearn\\model_selection\\_validation.py:770: UserWarning: Scoring failed. The score on this train-test partition for these parameters will be set to nan. Details: \n",
      "Traceback (most recent call last):\n",
      "  File \"C:\\Users\\davul\\anaconda3\\lib\\site-packages\\sklearn\\model_selection\\_validation.py\", line 761, in _score\n",
      "    scores = scorer(estimator, X_test, y_test)\n",
      "  File \"C:\\Users\\davul\\anaconda3\\lib\\site-packages\\sklearn\\metrics\\_scorer.py\", line 216, in __call__\n",
      "    return self._score(\n",
      "  File \"C:\\Users\\davul\\anaconda3\\lib\\site-packages\\sklearn\\metrics\\_scorer.py\", line 258, in _score\n",
      "    y_pred = method_caller(estimator, \"predict\", X)\n",
      "  File \"C:\\Users\\davul\\anaconda3\\lib\\site-packages\\sklearn\\metrics\\_scorer.py\", line 68, in _cached_call\n",
      "    return getattr(estimator, method)(*args, **kwargs)\n",
      "  File \"C:\\Users\\davul\\anaconda3\\lib\\site-packages\\scikeras\\wrappers.py\", line 1054, in predict\n",
      "    y_pred = self.target_encoder_.inverse_transform(y_pred)\n",
      "  File \"C:\\Users\\davul\\anaconda3\\lib\\site-packages\\scikeras\\utils\\transformers.py\", line 256, in inverse_transform\n",
      "    class_predictions = self._final_encoder.inverse_transform(class_predictions)\n",
      "  File \"C:\\Users\\davul\\anaconda3\\lib\\site-packages\\sklearn\\utils\\metaestimators.py\", line 113, in <lambda>\n",
      "    out = lambda *args, **kwargs: self.fn(obj, *args, **kwargs)  # noqa\n",
      "  File \"C:\\Users\\davul\\anaconda3\\lib\\site-packages\\sklearn\\pipeline.py\", line 675, in inverse_transform\n",
      "    Xt = transform.inverse_transform(Xt)\n",
      "  File \"C:\\Users\\davul\\anaconda3\\lib\\site-packages\\sklearn\\preprocessing\\_encoders.py\", line 990, in inverse_transform\n",
      "    X_tr[:, i] = self.categories_[i][labels]\n",
      "IndexError: index 8 is out of bounds for axis 0 with size 2\n",
      "\n",
      "  warnings.warn(\n"
     ]
    },
    {
     "name": "stdout",
     "output_type": "stream",
     "text": [
      "7/7 [==============================] - 0s 737us/step\n",
      "7/7 [==============================] - 0s 881us/step\n"
     ]
    },
    {
     "name": "stderr",
     "output_type": "stream",
     "text": [
      "C:\\Users\\davul\\anaconda3\\lib\\site-packages\\sklearn\\model_selection\\_validation.py:770: UserWarning: Scoring failed. The score on this train-test partition for these parameters will be set to nan. Details: \n",
      "Traceback (most recent call last):\n",
      "  File \"C:\\Users\\davul\\anaconda3\\lib\\site-packages\\sklearn\\model_selection\\_validation.py\", line 761, in _score\n",
      "    scores = scorer(estimator, X_test, y_test)\n",
      "  File \"C:\\Users\\davul\\anaconda3\\lib\\site-packages\\sklearn\\metrics\\_scorer.py\", line 216, in __call__\n",
      "    return self._score(\n",
      "  File \"C:\\Users\\davul\\anaconda3\\lib\\site-packages\\sklearn\\metrics\\_scorer.py\", line 258, in _score\n",
      "    y_pred = method_caller(estimator, \"predict\", X)\n",
      "  File \"C:\\Users\\davul\\anaconda3\\lib\\site-packages\\sklearn\\metrics\\_scorer.py\", line 68, in _cached_call\n",
      "    return getattr(estimator, method)(*args, **kwargs)\n",
      "  File \"C:\\Users\\davul\\anaconda3\\lib\\site-packages\\scikeras\\wrappers.py\", line 1054, in predict\n",
      "    y_pred = self.target_encoder_.inverse_transform(y_pred)\n",
      "  File \"C:\\Users\\davul\\anaconda3\\lib\\site-packages\\scikeras\\utils\\transformers.py\", line 256, in inverse_transform\n",
      "    class_predictions = self._final_encoder.inverse_transform(class_predictions)\n",
      "  File \"C:\\Users\\davul\\anaconda3\\lib\\site-packages\\sklearn\\utils\\metaestimators.py\", line 113, in <lambda>\n",
      "    out = lambda *args, **kwargs: self.fn(obj, *args, **kwargs)  # noqa\n",
      "  File \"C:\\Users\\davul\\anaconda3\\lib\\site-packages\\sklearn\\pipeline.py\", line 675, in inverse_transform\n",
      "    Xt = transform.inverse_transform(Xt)\n",
      "  File \"C:\\Users\\davul\\anaconda3\\lib\\site-packages\\sklearn\\preprocessing\\_encoders.py\", line 990, in inverse_transform\n",
      "    X_tr[:, i] = self.categories_[i][labels]\n",
      "IndexError: index 2 is out of bounds for axis 0 with size 2\n",
      "\n",
      "  warnings.warn(\n"
     ]
    },
    {
     "name": "stdout",
     "output_type": "stream",
     "text": [
      "7/7 [==============================] - 0s 840us/step\n"
     ]
    },
    {
     "name": "stderr",
     "output_type": "stream",
     "text": [
      "C:\\Users\\davul\\anaconda3\\lib\\site-packages\\sklearn\\model_selection\\_validation.py:770: UserWarning: Scoring failed. The score on this train-test partition for these parameters will be set to nan. Details: \n",
      "Traceback (most recent call last):\n",
      "  File \"C:\\Users\\davul\\anaconda3\\lib\\site-packages\\sklearn\\model_selection\\_validation.py\", line 761, in _score\n",
      "    scores = scorer(estimator, X_test, y_test)\n",
      "  File \"C:\\Users\\davul\\anaconda3\\lib\\site-packages\\sklearn\\metrics\\_scorer.py\", line 216, in __call__\n",
      "    return self._score(\n",
      "  File \"C:\\Users\\davul\\anaconda3\\lib\\site-packages\\sklearn\\metrics\\_scorer.py\", line 258, in _score\n",
      "    y_pred = method_caller(estimator, \"predict\", X)\n",
      "  File \"C:\\Users\\davul\\anaconda3\\lib\\site-packages\\sklearn\\metrics\\_scorer.py\", line 68, in _cached_call\n",
      "    return getattr(estimator, method)(*args, **kwargs)\n",
      "  File \"C:\\Users\\davul\\anaconda3\\lib\\site-packages\\scikeras\\wrappers.py\", line 1054, in predict\n",
      "    y_pred = self.target_encoder_.inverse_transform(y_pred)\n",
      "  File \"C:\\Users\\davul\\anaconda3\\lib\\site-packages\\scikeras\\utils\\transformers.py\", line 256, in inverse_transform\n",
      "    class_predictions = self._final_encoder.inverse_transform(class_predictions)\n",
      "  File \"C:\\Users\\davul\\anaconda3\\lib\\site-packages\\sklearn\\utils\\metaestimators.py\", line 113, in <lambda>\n",
      "    out = lambda *args, **kwargs: self.fn(obj, *args, **kwargs)  # noqa\n",
      "  File \"C:\\Users\\davul\\anaconda3\\lib\\site-packages\\sklearn\\pipeline.py\", line 675, in inverse_transform\n",
      "    Xt = transform.inverse_transform(Xt)\n",
      "  File \"C:\\Users\\davul\\anaconda3\\lib\\site-packages\\sklearn\\preprocessing\\_encoders.py\", line 990, in inverse_transform\n",
      "    X_tr[:, i] = self.categories_[i][labels]\n",
      "IndexError: index 5 is out of bounds for axis 0 with size 2\n",
      "\n",
      "  warnings.warn(\n"
     ]
    },
    {
     "name": "stdout",
     "output_type": "stream",
     "text": [
      "7/7 [==============================] - 0s 797us/step\n",
      "7/7 [==============================] - 0s 742us/step\n",
      "7/7 [==============================] - 0s 780us/step\n",
      "7/7 [==============================] - 0s 854us/step\n"
     ]
    },
    {
     "name": "stderr",
     "output_type": "stream",
     "text": [
      "C:\\Users\\davul\\anaconda3\\lib\\site-packages\\sklearn\\model_selection\\_validation.py:770: UserWarning: Scoring failed. The score on this train-test partition for these parameters will be set to nan. Details: \n",
      "Traceback (most recent call last):\n",
      "  File \"C:\\Users\\davul\\anaconda3\\lib\\site-packages\\sklearn\\model_selection\\_validation.py\", line 761, in _score\n",
      "    scores = scorer(estimator, X_test, y_test)\n",
      "  File \"C:\\Users\\davul\\anaconda3\\lib\\site-packages\\sklearn\\metrics\\_scorer.py\", line 216, in __call__\n",
      "    return self._score(\n",
      "  File \"C:\\Users\\davul\\anaconda3\\lib\\site-packages\\sklearn\\metrics\\_scorer.py\", line 258, in _score\n",
      "    y_pred = method_caller(estimator, \"predict\", X)\n",
      "  File \"C:\\Users\\davul\\anaconda3\\lib\\site-packages\\sklearn\\metrics\\_scorer.py\", line 68, in _cached_call\n",
      "    return getattr(estimator, method)(*args, **kwargs)\n",
      "  File \"C:\\Users\\davul\\anaconda3\\lib\\site-packages\\scikeras\\wrappers.py\", line 1054, in predict\n",
      "    y_pred = self.target_encoder_.inverse_transform(y_pred)\n",
      "  File \"C:\\Users\\davul\\anaconda3\\lib\\site-packages\\scikeras\\utils\\transformers.py\", line 256, in inverse_transform\n",
      "    class_predictions = self._final_encoder.inverse_transform(class_predictions)\n",
      "  File \"C:\\Users\\davul\\anaconda3\\lib\\site-packages\\sklearn\\utils\\metaestimators.py\", line 113, in <lambda>\n",
      "    out = lambda *args, **kwargs: self.fn(obj, *args, **kwargs)  # noqa\n",
      "  File \"C:\\Users\\davul\\anaconda3\\lib\\site-packages\\sklearn\\pipeline.py\", line 675, in inverse_transform\n",
      "    Xt = transform.inverse_transform(Xt)\n",
      "  File \"C:\\Users\\davul\\anaconda3\\lib\\site-packages\\sklearn\\preprocessing\\_encoders.py\", line 990, in inverse_transform\n",
      "    X_tr[:, i] = self.categories_[i][labels]\n",
      "IndexError: index 3 is out of bounds for axis 0 with size 2\n",
      "\n",
      "  warnings.warn(\n"
     ]
    },
    {
     "name": "stdout",
     "output_type": "stream",
     "text": [
      "7/7 [==============================] - 0s 747us/step\n"
     ]
    },
    {
     "name": "stderr",
     "output_type": "stream",
     "text": [
      "C:\\Users\\davul\\anaconda3\\lib\\site-packages\\sklearn\\model_selection\\_validation.py:770: UserWarning: Scoring failed. The score on this train-test partition for these parameters will be set to nan. Details: \n",
      "Traceback (most recent call last):\n",
      "  File \"C:\\Users\\davul\\anaconda3\\lib\\site-packages\\sklearn\\model_selection\\_validation.py\", line 761, in _score\n",
      "    scores = scorer(estimator, X_test, y_test)\n",
      "  File \"C:\\Users\\davul\\anaconda3\\lib\\site-packages\\sklearn\\metrics\\_scorer.py\", line 216, in __call__\n",
      "    return self._score(\n",
      "  File \"C:\\Users\\davul\\anaconda3\\lib\\site-packages\\sklearn\\metrics\\_scorer.py\", line 258, in _score\n",
      "    y_pred = method_caller(estimator, \"predict\", X)\n",
      "  File \"C:\\Users\\davul\\anaconda3\\lib\\site-packages\\sklearn\\metrics\\_scorer.py\", line 68, in _cached_call\n",
      "    return getattr(estimator, method)(*args, **kwargs)\n",
      "  File \"C:\\Users\\davul\\anaconda3\\lib\\site-packages\\scikeras\\wrappers.py\", line 1054, in predict\n",
      "    y_pred = self.target_encoder_.inverse_transform(y_pred)\n",
      "  File \"C:\\Users\\davul\\anaconda3\\lib\\site-packages\\scikeras\\utils\\transformers.py\", line 256, in inverse_transform\n",
      "    class_predictions = self._final_encoder.inverse_transform(class_predictions)\n",
      "  File \"C:\\Users\\davul\\anaconda3\\lib\\site-packages\\sklearn\\utils\\metaestimators.py\", line 113, in <lambda>\n",
      "    out = lambda *args, **kwargs: self.fn(obj, *args, **kwargs)  # noqa\n",
      "  File \"C:\\Users\\davul\\anaconda3\\lib\\site-packages\\sklearn\\pipeline.py\", line 675, in inverse_transform\n",
      "    Xt = transform.inverse_transform(Xt)\n",
      "  File \"C:\\Users\\davul\\anaconda3\\lib\\site-packages\\sklearn\\preprocessing\\_encoders.py\", line 990, in inverse_transform\n",
      "    X_tr[:, i] = self.categories_[i][labels]\n",
      "IndexError: index 6 is out of bounds for axis 0 with size 2\n",
      "\n",
      "  warnings.warn(\n"
     ]
    },
    {
     "name": "stdout",
     "output_type": "stream",
     "text": [
      "7/7 [==============================] - 0s 867us/step\n",
      "7/7 [==============================] - 0s 770us/step\n",
      "7/7 [==============================] - 0s 838us/step\n",
      "7/7 [==============================] - 0s 853us/step\n"
     ]
    },
    {
     "name": "stderr",
     "output_type": "stream",
     "text": [
      "C:\\Users\\davul\\anaconda3\\lib\\site-packages\\sklearn\\model_selection\\_validation.py:770: UserWarning: Scoring failed. The score on this train-test partition for these parameters will be set to nan. Details: \n",
      "Traceback (most recent call last):\n",
      "  File \"C:\\Users\\davul\\anaconda3\\lib\\site-packages\\sklearn\\model_selection\\_validation.py\", line 761, in _score\n",
      "    scores = scorer(estimator, X_test, y_test)\n",
      "  File \"C:\\Users\\davul\\anaconda3\\lib\\site-packages\\sklearn\\metrics\\_scorer.py\", line 216, in __call__\n",
      "    return self._score(\n",
      "  File \"C:\\Users\\davul\\anaconda3\\lib\\site-packages\\sklearn\\metrics\\_scorer.py\", line 258, in _score\n",
      "    y_pred = method_caller(estimator, \"predict\", X)\n",
      "  File \"C:\\Users\\davul\\anaconda3\\lib\\site-packages\\sklearn\\metrics\\_scorer.py\", line 68, in _cached_call\n",
      "    return getattr(estimator, method)(*args, **kwargs)\n",
      "  File \"C:\\Users\\davul\\anaconda3\\lib\\site-packages\\scikeras\\wrappers.py\", line 1054, in predict\n",
      "    y_pred = self.target_encoder_.inverse_transform(y_pred)\n",
      "  File \"C:\\Users\\davul\\anaconda3\\lib\\site-packages\\scikeras\\utils\\transformers.py\", line 256, in inverse_transform\n",
      "    class_predictions = self._final_encoder.inverse_transform(class_predictions)\n",
      "  File \"C:\\Users\\davul\\anaconda3\\lib\\site-packages\\sklearn\\utils\\metaestimators.py\", line 113, in <lambda>\n",
      "    out = lambda *args, **kwargs: self.fn(obj, *args, **kwargs)  # noqa\n",
      "  File \"C:\\Users\\davul\\anaconda3\\lib\\site-packages\\sklearn\\pipeline.py\", line 675, in inverse_transform\n",
      "    Xt = transform.inverse_transform(Xt)\n",
      "  File \"C:\\Users\\davul\\anaconda3\\lib\\site-packages\\sklearn\\preprocessing\\_encoders.py\", line 990, in inverse_transform\n",
      "    X_tr[:, i] = self.categories_[i][labels]\n",
      "IndexError: index 6 is out of bounds for axis 0 with size 2\n",
      "\n",
      "  warnings.warn(\n"
     ]
    },
    {
     "name": "stdout",
     "output_type": "stream",
     "text": [
      "7/7 [==============================] - 0s 960us/step\n"
     ]
    },
    {
     "name": "stderr",
     "output_type": "stream",
     "text": [
      "C:\\Users\\davul\\anaconda3\\lib\\site-packages\\sklearn\\model_selection\\_validation.py:770: UserWarning: Scoring failed. The score on this train-test partition for these parameters will be set to nan. Details: \n",
      "Traceback (most recent call last):\n",
      "  File \"C:\\Users\\davul\\anaconda3\\lib\\site-packages\\sklearn\\model_selection\\_validation.py\", line 761, in _score\n",
      "    scores = scorer(estimator, X_test, y_test)\n",
      "  File \"C:\\Users\\davul\\anaconda3\\lib\\site-packages\\sklearn\\metrics\\_scorer.py\", line 216, in __call__\n",
      "    return self._score(\n",
      "  File \"C:\\Users\\davul\\anaconda3\\lib\\site-packages\\sklearn\\metrics\\_scorer.py\", line 258, in _score\n",
      "    y_pred = method_caller(estimator, \"predict\", X)\n",
      "  File \"C:\\Users\\davul\\anaconda3\\lib\\site-packages\\sklearn\\metrics\\_scorer.py\", line 68, in _cached_call\n",
      "    return getattr(estimator, method)(*args, **kwargs)\n",
      "  File \"C:\\Users\\davul\\anaconda3\\lib\\site-packages\\scikeras\\wrappers.py\", line 1054, in predict\n",
      "    y_pred = self.target_encoder_.inverse_transform(y_pred)\n",
      "  File \"C:\\Users\\davul\\anaconda3\\lib\\site-packages\\scikeras\\utils\\transformers.py\", line 256, in inverse_transform\n",
      "    class_predictions = self._final_encoder.inverse_transform(class_predictions)\n",
      "  File \"C:\\Users\\davul\\anaconda3\\lib\\site-packages\\sklearn\\utils\\metaestimators.py\", line 113, in <lambda>\n",
      "    out = lambda *args, **kwargs: self.fn(obj, *args, **kwargs)  # noqa\n",
      "  File \"C:\\Users\\davul\\anaconda3\\lib\\site-packages\\sklearn\\pipeline.py\", line 675, in inverse_transform\n",
      "    Xt = transform.inverse_transform(Xt)\n",
      "  File \"C:\\Users\\davul\\anaconda3\\lib\\site-packages\\sklearn\\preprocessing\\_encoders.py\", line 990, in inverse_transform\n",
      "    X_tr[:, i] = self.categories_[i][labels]\n",
      "IndexError: index 2 is out of bounds for axis 0 with size 2\n",
      "\n",
      "  warnings.warn(\n"
     ]
    },
    {
     "name": "stdout",
     "output_type": "stream",
     "text": [
      "7/7 [==============================] - 0s 781us/step\n",
      "7/7 [==============================] - 0s 820us/step\n",
      "3/3 [==============================] - 0s 1ms/step\n"
     ]
    },
    {
     "name": "stderr",
     "output_type": "stream",
     "text": [
      "C:\\Users\\davul\\anaconda3\\lib\\site-packages\\sklearn\\model_selection\\_validation.py:770: UserWarning: Scoring failed. The score on this train-test partition for these parameters will be set to nan. Details: \n",
      "Traceback (most recent call last):\n",
      "  File \"C:\\Users\\davul\\anaconda3\\lib\\site-packages\\sklearn\\model_selection\\_validation.py\", line 761, in _score\n",
      "    scores = scorer(estimator, X_test, y_test)\n",
      "  File \"C:\\Users\\davul\\anaconda3\\lib\\site-packages\\sklearn\\metrics\\_scorer.py\", line 216, in __call__\n",
      "    return self._score(\n",
      "  File \"C:\\Users\\davul\\anaconda3\\lib\\site-packages\\sklearn\\metrics\\_scorer.py\", line 258, in _score\n",
      "    y_pred = method_caller(estimator, \"predict\", X)\n",
      "  File \"C:\\Users\\davul\\anaconda3\\lib\\site-packages\\sklearn\\metrics\\_scorer.py\", line 68, in _cached_call\n",
      "    return getattr(estimator, method)(*args, **kwargs)\n",
      "  File \"C:\\Users\\davul\\anaconda3\\lib\\site-packages\\scikeras\\wrappers.py\", line 1054, in predict\n",
      "    y_pred = self.target_encoder_.inverse_transform(y_pred)\n",
      "  File \"C:\\Users\\davul\\anaconda3\\lib\\site-packages\\scikeras\\utils\\transformers.py\", line 256, in inverse_transform\n",
      "    class_predictions = self._final_encoder.inverse_transform(class_predictions)\n",
      "  File \"C:\\Users\\davul\\anaconda3\\lib\\site-packages\\sklearn\\utils\\metaestimators.py\", line 113, in <lambda>\n",
      "    out = lambda *args, **kwargs: self.fn(obj, *args, **kwargs)  # noqa\n",
      "  File \"C:\\Users\\davul\\anaconda3\\lib\\site-packages\\sklearn\\pipeline.py\", line 675, in inverse_transform\n",
      "    Xt = transform.inverse_transform(Xt)\n",
      "  File \"C:\\Users\\davul\\anaconda3\\lib\\site-packages\\sklearn\\preprocessing\\_encoders.py\", line 990, in inverse_transform\n",
      "    X_tr[:, i] = self.categories_[i][labels]\n",
      "IndexError: index 9 is out of bounds for axis 0 with size 2\n",
      "\n",
      "  warnings.warn(\n"
     ]
    },
    {
     "name": "stdout",
     "output_type": "stream",
     "text": [
      "3/3 [==============================] - 0s 1ms/step\n"
     ]
    },
    {
     "name": "stderr",
     "output_type": "stream",
     "text": [
      "C:\\Users\\davul\\anaconda3\\lib\\site-packages\\sklearn\\model_selection\\_validation.py:770: UserWarning: Scoring failed. The score on this train-test partition for these parameters will be set to nan. Details: \n",
      "Traceback (most recent call last):\n",
      "  File \"C:\\Users\\davul\\anaconda3\\lib\\site-packages\\sklearn\\model_selection\\_validation.py\", line 761, in _score\n",
      "    scores = scorer(estimator, X_test, y_test)\n",
      "  File \"C:\\Users\\davul\\anaconda3\\lib\\site-packages\\sklearn\\metrics\\_scorer.py\", line 216, in __call__\n",
      "    return self._score(\n",
      "  File \"C:\\Users\\davul\\anaconda3\\lib\\site-packages\\sklearn\\metrics\\_scorer.py\", line 258, in _score\n",
      "    y_pred = method_caller(estimator, \"predict\", X)\n",
      "  File \"C:\\Users\\davul\\anaconda3\\lib\\site-packages\\sklearn\\metrics\\_scorer.py\", line 68, in _cached_call\n",
      "    return getattr(estimator, method)(*args, **kwargs)\n",
      "  File \"C:\\Users\\davul\\anaconda3\\lib\\site-packages\\scikeras\\wrappers.py\", line 1054, in predict\n",
      "    y_pred = self.target_encoder_.inverse_transform(y_pred)\n",
      "  File \"C:\\Users\\davul\\anaconda3\\lib\\site-packages\\scikeras\\utils\\transformers.py\", line 256, in inverse_transform\n",
      "    class_predictions = self._final_encoder.inverse_transform(class_predictions)\n",
      "  File \"C:\\Users\\davul\\anaconda3\\lib\\site-packages\\sklearn\\utils\\metaestimators.py\", line 113, in <lambda>\n",
      "    out = lambda *args, **kwargs: self.fn(obj, *args, **kwargs)  # noqa\n",
      "  File \"C:\\Users\\davul\\anaconda3\\lib\\site-packages\\sklearn\\pipeline.py\", line 675, in inverse_transform\n",
      "    Xt = transform.inverse_transform(Xt)\n",
      "  File \"C:\\Users\\davul\\anaconda3\\lib\\site-packages\\sklearn\\preprocessing\\_encoders.py\", line 990, in inverse_transform\n",
      "    X_tr[:, i] = self.categories_[i][labels]\n",
      "IndexError: index 4 is out of bounds for axis 0 with size 2\n",
      "\n",
      "  warnings.warn(\n"
     ]
    },
    {
     "name": "stdout",
     "output_type": "stream",
     "text": [
      "3/3 [==============================] - 0s 1ms/step\n"
     ]
    },
    {
     "name": "stderr",
     "output_type": "stream",
     "text": [
      "C:\\Users\\davul\\anaconda3\\lib\\site-packages\\sklearn\\model_selection\\_validation.py:770: UserWarning: Scoring failed. The score on this train-test partition for these parameters will be set to nan. Details: \n",
      "Traceback (most recent call last):\n",
      "  File \"C:\\Users\\davul\\anaconda3\\lib\\site-packages\\sklearn\\model_selection\\_validation.py\", line 761, in _score\n",
      "    scores = scorer(estimator, X_test, y_test)\n",
      "  File \"C:\\Users\\davul\\anaconda3\\lib\\site-packages\\sklearn\\metrics\\_scorer.py\", line 216, in __call__\n",
      "    return self._score(\n",
      "  File \"C:\\Users\\davul\\anaconda3\\lib\\site-packages\\sklearn\\metrics\\_scorer.py\", line 258, in _score\n",
      "    y_pred = method_caller(estimator, \"predict\", X)\n",
      "  File \"C:\\Users\\davul\\anaconda3\\lib\\site-packages\\sklearn\\metrics\\_scorer.py\", line 68, in _cached_call\n",
      "    return getattr(estimator, method)(*args, **kwargs)\n",
      "  File \"C:\\Users\\davul\\anaconda3\\lib\\site-packages\\scikeras\\wrappers.py\", line 1054, in predict\n",
      "    y_pred = self.target_encoder_.inverse_transform(y_pred)\n",
      "  File \"C:\\Users\\davul\\anaconda3\\lib\\site-packages\\scikeras\\utils\\transformers.py\", line 256, in inverse_transform\n",
      "    class_predictions = self._final_encoder.inverse_transform(class_predictions)\n",
      "  File \"C:\\Users\\davul\\anaconda3\\lib\\site-packages\\sklearn\\utils\\metaestimators.py\", line 113, in <lambda>\n",
      "    out = lambda *args, **kwargs: self.fn(obj, *args, **kwargs)  # noqa\n",
      "  File \"C:\\Users\\davul\\anaconda3\\lib\\site-packages\\sklearn\\pipeline.py\", line 675, in inverse_transform\n",
      "    Xt = transform.inverse_transform(Xt)\n",
      "  File \"C:\\Users\\davul\\anaconda3\\lib\\site-packages\\sklearn\\preprocessing\\_encoders.py\", line 990, in inverse_transform\n",
      "    X_tr[:, i] = self.categories_[i][labels]\n",
      "IndexError: index 2 is out of bounds for axis 0 with size 2\n",
      "\n",
      "  warnings.warn(\n"
     ]
    },
    {
     "name": "stdout",
     "output_type": "stream",
     "text": [
      "3/3 [==============================] - 0s 2ms/step\n"
     ]
    },
    {
     "name": "stderr",
     "output_type": "stream",
     "text": [
      "C:\\Users\\davul\\anaconda3\\lib\\site-packages\\sklearn\\model_selection\\_validation.py:770: UserWarning: Scoring failed. The score on this train-test partition for these parameters will be set to nan. Details: \n",
      "Traceback (most recent call last):\n",
      "  File \"C:\\Users\\davul\\anaconda3\\lib\\site-packages\\sklearn\\model_selection\\_validation.py\", line 761, in _score\n",
      "    scores = scorer(estimator, X_test, y_test)\n",
      "  File \"C:\\Users\\davul\\anaconda3\\lib\\site-packages\\sklearn\\metrics\\_scorer.py\", line 216, in __call__\n",
      "    return self._score(\n",
      "  File \"C:\\Users\\davul\\anaconda3\\lib\\site-packages\\sklearn\\metrics\\_scorer.py\", line 258, in _score\n",
      "    y_pred = method_caller(estimator, \"predict\", X)\n",
      "  File \"C:\\Users\\davul\\anaconda3\\lib\\site-packages\\sklearn\\metrics\\_scorer.py\", line 68, in _cached_call\n",
      "    return getattr(estimator, method)(*args, **kwargs)\n",
      "  File \"C:\\Users\\davul\\anaconda3\\lib\\site-packages\\scikeras\\wrappers.py\", line 1054, in predict\n",
      "    y_pred = self.target_encoder_.inverse_transform(y_pred)\n",
      "  File \"C:\\Users\\davul\\anaconda3\\lib\\site-packages\\scikeras\\utils\\transformers.py\", line 256, in inverse_transform\n",
      "    class_predictions = self._final_encoder.inverse_transform(class_predictions)\n",
      "  File \"C:\\Users\\davul\\anaconda3\\lib\\site-packages\\sklearn\\utils\\metaestimators.py\", line 113, in <lambda>\n",
      "    out = lambda *args, **kwargs: self.fn(obj, *args, **kwargs)  # noqa\n",
      "  File \"C:\\Users\\davul\\anaconda3\\lib\\site-packages\\sklearn\\pipeline.py\", line 675, in inverse_transform\n",
      "    Xt = transform.inverse_transform(Xt)\n",
      "  File \"C:\\Users\\davul\\anaconda3\\lib\\site-packages\\sklearn\\preprocessing\\_encoders.py\", line 990, in inverse_transform\n",
      "    X_tr[:, i] = self.categories_[i][labels]\n",
      "IndexError: index 9 is out of bounds for axis 0 with size 2\n",
      "\n",
      "  warnings.warn(\n"
     ]
    },
    {
     "name": "stdout",
     "output_type": "stream",
     "text": [
      "3/3 [==============================] - 0s 2ms/step\n"
     ]
    },
    {
     "name": "stderr",
     "output_type": "stream",
     "text": [
      "C:\\Users\\davul\\anaconda3\\lib\\site-packages\\sklearn\\model_selection\\_validation.py:770: UserWarning: Scoring failed. The score on this train-test partition for these parameters will be set to nan. Details: \n",
      "Traceback (most recent call last):\n",
      "  File \"C:\\Users\\davul\\anaconda3\\lib\\site-packages\\sklearn\\model_selection\\_validation.py\", line 761, in _score\n",
      "    scores = scorer(estimator, X_test, y_test)\n",
      "  File \"C:\\Users\\davul\\anaconda3\\lib\\site-packages\\sklearn\\metrics\\_scorer.py\", line 216, in __call__\n",
      "    return self._score(\n",
      "  File \"C:\\Users\\davul\\anaconda3\\lib\\site-packages\\sklearn\\metrics\\_scorer.py\", line 258, in _score\n",
      "    y_pred = method_caller(estimator, \"predict\", X)\n",
      "  File \"C:\\Users\\davul\\anaconda3\\lib\\site-packages\\sklearn\\metrics\\_scorer.py\", line 68, in _cached_call\n",
      "    return getattr(estimator, method)(*args, **kwargs)\n",
      "  File \"C:\\Users\\davul\\anaconda3\\lib\\site-packages\\scikeras\\wrappers.py\", line 1054, in predict\n",
      "    y_pred = self.target_encoder_.inverse_transform(y_pred)\n",
      "  File \"C:\\Users\\davul\\anaconda3\\lib\\site-packages\\scikeras\\utils\\transformers.py\", line 256, in inverse_transform\n",
      "    class_predictions = self._final_encoder.inverse_transform(class_predictions)\n",
      "  File \"C:\\Users\\davul\\anaconda3\\lib\\site-packages\\sklearn\\utils\\metaestimators.py\", line 113, in <lambda>\n",
      "    out = lambda *args, **kwargs: self.fn(obj, *args, **kwargs)  # noqa\n",
      "  File \"C:\\Users\\davul\\anaconda3\\lib\\site-packages\\sklearn\\pipeline.py\", line 675, in inverse_transform\n",
      "    Xt = transform.inverse_transform(Xt)\n",
      "  File \"C:\\Users\\davul\\anaconda3\\lib\\site-packages\\sklearn\\preprocessing\\_encoders.py\", line 990, in inverse_transform\n",
      "    X_tr[:, i] = self.categories_[i][labels]\n",
      "IndexError: index 2 is out of bounds for axis 0 with size 2\n",
      "\n",
      "  warnings.warn(\n"
     ]
    },
    {
     "name": "stdout",
     "output_type": "stream",
     "text": [
      "3/3 [==============================] - 0s 999us/step\n"
     ]
    },
    {
     "name": "stderr",
     "output_type": "stream",
     "text": [
      "C:\\Users\\davul\\anaconda3\\lib\\site-packages\\sklearn\\model_selection\\_validation.py:770: UserWarning: Scoring failed. The score on this train-test partition for these parameters will be set to nan. Details: \n",
      "Traceback (most recent call last):\n",
      "  File \"C:\\Users\\davul\\anaconda3\\lib\\site-packages\\sklearn\\model_selection\\_validation.py\", line 761, in _score\n",
      "    scores = scorer(estimator, X_test, y_test)\n",
      "  File \"C:\\Users\\davul\\anaconda3\\lib\\site-packages\\sklearn\\metrics\\_scorer.py\", line 216, in __call__\n",
      "    return self._score(\n",
      "  File \"C:\\Users\\davul\\anaconda3\\lib\\site-packages\\sklearn\\metrics\\_scorer.py\", line 258, in _score\n",
      "    y_pred = method_caller(estimator, \"predict\", X)\n",
      "  File \"C:\\Users\\davul\\anaconda3\\lib\\site-packages\\sklearn\\metrics\\_scorer.py\", line 68, in _cached_call\n",
      "    return getattr(estimator, method)(*args, **kwargs)\n",
      "  File \"C:\\Users\\davul\\anaconda3\\lib\\site-packages\\scikeras\\wrappers.py\", line 1054, in predict\n",
      "    y_pred = self.target_encoder_.inverse_transform(y_pred)\n",
      "  File \"C:\\Users\\davul\\anaconda3\\lib\\site-packages\\scikeras\\utils\\transformers.py\", line 256, in inverse_transform\n",
      "    class_predictions = self._final_encoder.inverse_transform(class_predictions)\n",
      "  File \"C:\\Users\\davul\\anaconda3\\lib\\site-packages\\sklearn\\utils\\metaestimators.py\", line 113, in <lambda>\n",
      "    out = lambda *args, **kwargs: self.fn(obj, *args, **kwargs)  # noqa\n",
      "  File \"C:\\Users\\davul\\anaconda3\\lib\\site-packages\\sklearn\\pipeline.py\", line 675, in inverse_transform\n",
      "    Xt = transform.inverse_transform(Xt)\n",
      "  File \"C:\\Users\\davul\\anaconda3\\lib\\site-packages\\sklearn\\preprocessing\\_encoders.py\", line 990, in inverse_transform\n",
      "    X_tr[:, i] = self.categories_[i][labels]\n",
      "IndexError: index 2 is out of bounds for axis 0 with size 2\n",
      "\n",
      "  warnings.warn(\n"
     ]
    },
    {
     "name": "stdout",
     "output_type": "stream",
     "text": [
      "3/3 [==============================] - 0s 1000us/step\n"
     ]
    },
    {
     "name": "stderr",
     "output_type": "stream",
     "text": [
      "C:\\Users\\davul\\anaconda3\\lib\\site-packages\\sklearn\\model_selection\\_validation.py:770: UserWarning: Scoring failed. The score on this train-test partition for these parameters will be set to nan. Details: \n",
      "Traceback (most recent call last):\n",
      "  File \"C:\\Users\\davul\\anaconda3\\lib\\site-packages\\sklearn\\model_selection\\_validation.py\", line 761, in _score\n",
      "    scores = scorer(estimator, X_test, y_test)\n",
      "  File \"C:\\Users\\davul\\anaconda3\\lib\\site-packages\\sklearn\\metrics\\_scorer.py\", line 216, in __call__\n",
      "    return self._score(\n",
      "  File \"C:\\Users\\davul\\anaconda3\\lib\\site-packages\\sklearn\\metrics\\_scorer.py\", line 258, in _score\n",
      "    y_pred = method_caller(estimator, \"predict\", X)\n",
      "  File \"C:\\Users\\davul\\anaconda3\\lib\\site-packages\\sklearn\\metrics\\_scorer.py\", line 68, in _cached_call\n",
      "    return getattr(estimator, method)(*args, **kwargs)\n",
      "  File \"C:\\Users\\davul\\anaconda3\\lib\\site-packages\\scikeras\\wrappers.py\", line 1054, in predict\n",
      "    y_pred = self.target_encoder_.inverse_transform(y_pred)\n",
      "  File \"C:\\Users\\davul\\anaconda3\\lib\\site-packages\\scikeras\\utils\\transformers.py\", line 256, in inverse_transform\n",
      "    class_predictions = self._final_encoder.inverse_transform(class_predictions)\n",
      "  File \"C:\\Users\\davul\\anaconda3\\lib\\site-packages\\sklearn\\utils\\metaestimators.py\", line 113, in <lambda>\n",
      "    out = lambda *args, **kwargs: self.fn(obj, *args, **kwargs)  # noqa\n",
      "  File \"C:\\Users\\davul\\anaconda3\\lib\\site-packages\\sklearn\\pipeline.py\", line 675, in inverse_transform\n",
      "    Xt = transform.inverse_transform(Xt)\n",
      "  File \"C:\\Users\\davul\\anaconda3\\lib\\site-packages\\sklearn\\preprocessing\\_encoders.py\", line 990, in inverse_transform\n",
      "    X_tr[:, i] = self.categories_[i][labels]\n",
      "IndexError: index 6 is out of bounds for axis 0 with size 2\n",
      "\n",
      "  warnings.warn(\n"
     ]
    },
    {
     "name": "stdout",
     "output_type": "stream",
     "text": [
      "3/3 [==============================] - 0s 2ms/step\n"
     ]
    },
    {
     "name": "stderr",
     "output_type": "stream",
     "text": [
      "C:\\Users\\davul\\anaconda3\\lib\\site-packages\\sklearn\\model_selection\\_validation.py:770: UserWarning: Scoring failed. The score on this train-test partition for these parameters will be set to nan. Details: \n",
      "Traceback (most recent call last):\n",
      "  File \"C:\\Users\\davul\\anaconda3\\lib\\site-packages\\sklearn\\model_selection\\_validation.py\", line 761, in _score\n",
      "    scores = scorer(estimator, X_test, y_test)\n",
      "  File \"C:\\Users\\davul\\anaconda3\\lib\\site-packages\\sklearn\\metrics\\_scorer.py\", line 216, in __call__\n",
      "    return self._score(\n",
      "  File \"C:\\Users\\davul\\anaconda3\\lib\\site-packages\\sklearn\\metrics\\_scorer.py\", line 258, in _score\n",
      "    y_pred = method_caller(estimator, \"predict\", X)\n",
      "  File \"C:\\Users\\davul\\anaconda3\\lib\\site-packages\\sklearn\\metrics\\_scorer.py\", line 68, in _cached_call\n",
      "    return getattr(estimator, method)(*args, **kwargs)\n",
      "  File \"C:\\Users\\davul\\anaconda3\\lib\\site-packages\\scikeras\\wrappers.py\", line 1054, in predict\n",
      "    y_pred = self.target_encoder_.inverse_transform(y_pred)\n",
      "  File \"C:\\Users\\davul\\anaconda3\\lib\\site-packages\\scikeras\\utils\\transformers.py\", line 256, in inverse_transform\n",
      "    class_predictions = self._final_encoder.inverse_transform(class_predictions)\n",
      "  File \"C:\\Users\\davul\\anaconda3\\lib\\site-packages\\sklearn\\utils\\metaestimators.py\", line 113, in <lambda>\n",
      "    out = lambda *args, **kwargs: self.fn(obj, *args, **kwargs)  # noqa\n",
      "  File \"C:\\Users\\davul\\anaconda3\\lib\\site-packages\\sklearn\\pipeline.py\", line 675, in inverse_transform\n",
      "    Xt = transform.inverse_transform(Xt)\n",
      "  File \"C:\\Users\\davul\\anaconda3\\lib\\site-packages\\sklearn\\preprocessing\\_encoders.py\", line 990, in inverse_transform\n",
      "    X_tr[:, i] = self.categories_[i][labels]\n",
      "IndexError: index 3 is out of bounds for axis 0 with size 2\n",
      "\n",
      "  warnings.warn(\n"
     ]
    },
    {
     "name": "stdout",
     "output_type": "stream",
     "text": [
      "3/3 [==============================] - 0s 1ms/step\n"
     ]
    },
    {
     "name": "stderr",
     "output_type": "stream",
     "text": [
      "C:\\Users\\davul\\anaconda3\\lib\\site-packages\\sklearn\\model_selection\\_validation.py:770: UserWarning: Scoring failed. The score on this train-test partition for these parameters will be set to nan. Details: \n",
      "Traceback (most recent call last):\n",
      "  File \"C:\\Users\\davul\\anaconda3\\lib\\site-packages\\sklearn\\model_selection\\_validation.py\", line 761, in _score\n",
      "    scores = scorer(estimator, X_test, y_test)\n",
      "  File \"C:\\Users\\davul\\anaconda3\\lib\\site-packages\\sklearn\\metrics\\_scorer.py\", line 216, in __call__\n",
      "    return self._score(\n",
      "  File \"C:\\Users\\davul\\anaconda3\\lib\\site-packages\\sklearn\\metrics\\_scorer.py\", line 258, in _score\n",
      "    y_pred = method_caller(estimator, \"predict\", X)\n",
      "  File \"C:\\Users\\davul\\anaconda3\\lib\\site-packages\\sklearn\\metrics\\_scorer.py\", line 68, in _cached_call\n",
      "    return getattr(estimator, method)(*args, **kwargs)\n",
      "  File \"C:\\Users\\davul\\anaconda3\\lib\\site-packages\\scikeras\\wrappers.py\", line 1054, in predict\n",
      "    y_pred = self.target_encoder_.inverse_transform(y_pred)\n",
      "  File \"C:\\Users\\davul\\anaconda3\\lib\\site-packages\\scikeras\\utils\\transformers.py\", line 256, in inverse_transform\n",
      "    class_predictions = self._final_encoder.inverse_transform(class_predictions)\n",
      "  File \"C:\\Users\\davul\\anaconda3\\lib\\site-packages\\sklearn\\utils\\metaestimators.py\", line 113, in <lambda>\n",
      "    out = lambda *args, **kwargs: self.fn(obj, *args, **kwargs)  # noqa\n",
      "  File \"C:\\Users\\davul\\anaconda3\\lib\\site-packages\\sklearn\\pipeline.py\", line 675, in inverse_transform\n",
      "    Xt = transform.inverse_transform(Xt)\n",
      "  File \"C:\\Users\\davul\\anaconda3\\lib\\site-packages\\sklearn\\preprocessing\\_encoders.py\", line 990, in inverse_transform\n",
      "    X_tr[:, i] = self.categories_[i][labels]\n",
      "IndexError: index 6 is out of bounds for axis 0 with size 2\n",
      "\n",
      "  warnings.warn(\n"
     ]
    },
    {
     "name": "stdout",
     "output_type": "stream",
     "text": [
      "3/3 [==============================] - 0s 1ms/step\n"
     ]
    },
    {
     "name": "stderr",
     "output_type": "stream",
     "text": [
      "C:\\Users\\davul\\anaconda3\\lib\\site-packages\\sklearn\\model_selection\\_validation.py:770: UserWarning: Scoring failed. The score on this train-test partition for these parameters will be set to nan. Details: \n",
      "Traceback (most recent call last):\n",
      "  File \"C:\\Users\\davul\\anaconda3\\lib\\site-packages\\sklearn\\model_selection\\_validation.py\", line 761, in _score\n",
      "    scores = scorer(estimator, X_test, y_test)\n",
      "  File \"C:\\Users\\davul\\anaconda3\\lib\\site-packages\\sklearn\\metrics\\_scorer.py\", line 216, in __call__\n",
      "    return self._score(\n",
      "  File \"C:\\Users\\davul\\anaconda3\\lib\\site-packages\\sklearn\\metrics\\_scorer.py\", line 258, in _score\n",
      "    y_pred = method_caller(estimator, \"predict\", X)\n",
      "  File \"C:\\Users\\davul\\anaconda3\\lib\\site-packages\\sklearn\\metrics\\_scorer.py\", line 68, in _cached_call\n",
      "    return getattr(estimator, method)(*args, **kwargs)\n",
      "  File \"C:\\Users\\davul\\anaconda3\\lib\\site-packages\\scikeras\\wrappers.py\", line 1054, in predict\n",
      "    y_pred = self.target_encoder_.inverse_transform(y_pred)\n",
      "  File \"C:\\Users\\davul\\anaconda3\\lib\\site-packages\\scikeras\\utils\\transformers.py\", line 256, in inverse_transform\n",
      "    class_predictions = self._final_encoder.inverse_transform(class_predictions)\n",
      "  File \"C:\\Users\\davul\\anaconda3\\lib\\site-packages\\sklearn\\utils\\metaestimators.py\", line 113, in <lambda>\n",
      "    out = lambda *args, **kwargs: self.fn(obj, *args, **kwargs)  # noqa\n",
      "  File \"C:\\Users\\davul\\anaconda3\\lib\\site-packages\\sklearn\\pipeline.py\", line 675, in inverse_transform\n",
      "    Xt = transform.inverse_transform(Xt)\n",
      "  File \"C:\\Users\\davul\\anaconda3\\lib\\site-packages\\sklearn\\preprocessing\\_encoders.py\", line 990, in inverse_transform\n",
      "    X_tr[:, i] = self.categories_[i][labels]\n",
      "IndexError: index 6 is out of bounds for axis 0 with size 2\n",
      "\n",
      "  warnings.warn(\n"
     ]
    },
    {
     "name": "stdout",
     "output_type": "stream",
     "text": [
      "3/3 [==============================] - 0s 1ms/step\n"
     ]
    },
    {
     "name": "stderr",
     "output_type": "stream",
     "text": [
      "C:\\Users\\davul\\anaconda3\\lib\\site-packages\\sklearn\\model_selection\\_validation.py:770: UserWarning: Scoring failed. The score on this train-test partition for these parameters will be set to nan. Details: \n",
      "Traceback (most recent call last):\n",
      "  File \"C:\\Users\\davul\\anaconda3\\lib\\site-packages\\sklearn\\model_selection\\_validation.py\", line 761, in _score\n",
      "    scores = scorer(estimator, X_test, y_test)\n",
      "  File \"C:\\Users\\davul\\anaconda3\\lib\\site-packages\\sklearn\\metrics\\_scorer.py\", line 216, in __call__\n",
      "    return self._score(\n",
      "  File \"C:\\Users\\davul\\anaconda3\\lib\\site-packages\\sklearn\\metrics\\_scorer.py\", line 258, in _score\n",
      "    y_pred = method_caller(estimator, \"predict\", X)\n",
      "  File \"C:\\Users\\davul\\anaconda3\\lib\\site-packages\\sklearn\\metrics\\_scorer.py\", line 68, in _cached_call\n",
      "    return getattr(estimator, method)(*args, **kwargs)\n",
      "  File \"C:\\Users\\davul\\anaconda3\\lib\\site-packages\\scikeras\\wrappers.py\", line 1054, in predict\n",
      "    y_pred = self.target_encoder_.inverse_transform(y_pred)\n",
      "  File \"C:\\Users\\davul\\anaconda3\\lib\\site-packages\\scikeras\\utils\\transformers.py\", line 256, in inverse_transform\n",
      "    class_predictions = self._final_encoder.inverse_transform(class_predictions)\n",
      "  File \"C:\\Users\\davul\\anaconda3\\lib\\site-packages\\sklearn\\utils\\metaestimators.py\", line 113, in <lambda>\n",
      "    out = lambda *args, **kwargs: self.fn(obj, *args, **kwargs)  # noqa\n",
      "  File \"C:\\Users\\davul\\anaconda3\\lib\\site-packages\\sklearn\\pipeline.py\", line 675, in inverse_transform\n",
      "    Xt = transform.inverse_transform(Xt)\n",
      "  File \"C:\\Users\\davul\\anaconda3\\lib\\site-packages\\sklearn\\preprocessing\\_encoders.py\", line 990, in inverse_transform\n",
      "    X_tr[:, i] = self.categories_[i][labels]\n",
      "IndexError: index 6 is out of bounds for axis 0 with size 2\n",
      "\n",
      "  warnings.warn(\n"
     ]
    },
    {
     "name": "stdout",
     "output_type": "stream",
     "text": [
      "3/3 [==============================] - 0s 2ms/step\n"
     ]
    },
    {
     "name": "stderr",
     "output_type": "stream",
     "text": [
      "C:\\Users\\davul\\anaconda3\\lib\\site-packages\\sklearn\\model_selection\\_validation.py:770: UserWarning: Scoring failed. The score on this train-test partition for these parameters will be set to nan. Details: \n",
      "Traceback (most recent call last):\n",
      "  File \"C:\\Users\\davul\\anaconda3\\lib\\site-packages\\sklearn\\model_selection\\_validation.py\", line 761, in _score\n",
      "    scores = scorer(estimator, X_test, y_test)\n",
      "  File \"C:\\Users\\davul\\anaconda3\\lib\\site-packages\\sklearn\\metrics\\_scorer.py\", line 216, in __call__\n",
      "    return self._score(\n",
      "  File \"C:\\Users\\davul\\anaconda3\\lib\\site-packages\\sklearn\\metrics\\_scorer.py\", line 258, in _score\n",
      "    y_pred = method_caller(estimator, \"predict\", X)\n",
      "  File \"C:\\Users\\davul\\anaconda3\\lib\\site-packages\\sklearn\\metrics\\_scorer.py\", line 68, in _cached_call\n",
      "    return getattr(estimator, method)(*args, **kwargs)\n",
      "  File \"C:\\Users\\davul\\anaconda3\\lib\\site-packages\\scikeras\\wrappers.py\", line 1054, in predict\n",
      "    y_pred = self.target_encoder_.inverse_transform(y_pred)\n",
      "  File \"C:\\Users\\davul\\anaconda3\\lib\\site-packages\\scikeras\\utils\\transformers.py\", line 256, in inverse_transform\n",
      "    class_predictions = self._final_encoder.inverse_transform(class_predictions)\n",
      "  File \"C:\\Users\\davul\\anaconda3\\lib\\site-packages\\sklearn\\utils\\metaestimators.py\", line 113, in <lambda>\n",
      "    out = lambda *args, **kwargs: self.fn(obj, *args, **kwargs)  # noqa\n",
      "  File \"C:\\Users\\davul\\anaconda3\\lib\\site-packages\\sklearn\\pipeline.py\", line 675, in inverse_transform\n",
      "    Xt = transform.inverse_transform(Xt)\n",
      "  File \"C:\\Users\\davul\\anaconda3\\lib\\site-packages\\sklearn\\preprocessing\\_encoders.py\", line 990, in inverse_transform\n",
      "    X_tr[:, i] = self.categories_[i][labels]\n",
      "IndexError: index 9 is out of bounds for axis 0 with size 2\n",
      "\n",
      "  warnings.warn(\n"
     ]
    },
    {
     "name": "stdout",
     "output_type": "stream",
     "text": [
      "3/3 [==============================] - 0s 1ms/step\n"
     ]
    },
    {
     "name": "stderr",
     "output_type": "stream",
     "text": [
      "C:\\Users\\davul\\anaconda3\\lib\\site-packages\\sklearn\\model_selection\\_validation.py:770: UserWarning: Scoring failed. The score on this train-test partition for these parameters will be set to nan. Details: \n",
      "Traceback (most recent call last):\n",
      "  File \"C:\\Users\\davul\\anaconda3\\lib\\site-packages\\sklearn\\model_selection\\_validation.py\", line 761, in _score\n",
      "    scores = scorer(estimator, X_test, y_test)\n",
      "  File \"C:\\Users\\davul\\anaconda3\\lib\\site-packages\\sklearn\\metrics\\_scorer.py\", line 216, in __call__\n",
      "    return self._score(\n",
      "  File \"C:\\Users\\davul\\anaconda3\\lib\\site-packages\\sklearn\\metrics\\_scorer.py\", line 258, in _score\n",
      "    y_pred = method_caller(estimator, \"predict\", X)\n",
      "  File \"C:\\Users\\davul\\anaconda3\\lib\\site-packages\\sklearn\\metrics\\_scorer.py\", line 68, in _cached_call\n",
      "    return getattr(estimator, method)(*args, **kwargs)\n",
      "  File \"C:\\Users\\davul\\anaconda3\\lib\\site-packages\\scikeras\\wrappers.py\", line 1054, in predict\n",
      "    y_pred = self.target_encoder_.inverse_transform(y_pred)\n",
      "  File \"C:\\Users\\davul\\anaconda3\\lib\\site-packages\\scikeras\\utils\\transformers.py\", line 256, in inverse_transform\n",
      "    class_predictions = self._final_encoder.inverse_transform(class_predictions)\n",
      "  File \"C:\\Users\\davul\\anaconda3\\lib\\site-packages\\sklearn\\utils\\metaestimators.py\", line 113, in <lambda>\n",
      "    out = lambda *args, **kwargs: self.fn(obj, *args, **kwargs)  # noqa\n",
      "  File \"C:\\Users\\davul\\anaconda3\\lib\\site-packages\\sklearn\\pipeline.py\", line 675, in inverse_transform\n",
      "    Xt = transform.inverse_transform(Xt)\n",
      "  File \"C:\\Users\\davul\\anaconda3\\lib\\site-packages\\sklearn\\preprocessing\\_encoders.py\", line 990, in inverse_transform\n",
      "    X_tr[:, i] = self.categories_[i][labels]\n",
      "IndexError: index 5 is out of bounds for axis 0 with size 2\n",
      "\n",
      "  warnings.warn(\n"
     ]
    },
    {
     "name": "stdout",
     "output_type": "stream",
     "text": [
      "3/3 [==============================] - 0s 1ms/step\n"
     ]
    },
    {
     "name": "stderr",
     "output_type": "stream",
     "text": [
      "C:\\Users\\davul\\anaconda3\\lib\\site-packages\\sklearn\\model_selection\\_validation.py:770: UserWarning: Scoring failed. The score on this train-test partition for these parameters will be set to nan. Details: \n",
      "Traceback (most recent call last):\n",
      "  File \"C:\\Users\\davul\\anaconda3\\lib\\site-packages\\sklearn\\model_selection\\_validation.py\", line 761, in _score\n",
      "    scores = scorer(estimator, X_test, y_test)\n",
      "  File \"C:\\Users\\davul\\anaconda3\\lib\\site-packages\\sklearn\\metrics\\_scorer.py\", line 216, in __call__\n",
      "    return self._score(\n",
      "  File \"C:\\Users\\davul\\anaconda3\\lib\\site-packages\\sklearn\\metrics\\_scorer.py\", line 258, in _score\n",
      "    y_pred = method_caller(estimator, \"predict\", X)\n",
      "  File \"C:\\Users\\davul\\anaconda3\\lib\\site-packages\\sklearn\\metrics\\_scorer.py\", line 68, in _cached_call\n",
      "    return getattr(estimator, method)(*args, **kwargs)\n",
      "  File \"C:\\Users\\davul\\anaconda3\\lib\\site-packages\\scikeras\\wrappers.py\", line 1054, in predict\n",
      "    y_pred = self.target_encoder_.inverse_transform(y_pred)\n",
      "  File \"C:\\Users\\davul\\anaconda3\\lib\\site-packages\\scikeras\\utils\\transformers.py\", line 256, in inverse_transform\n",
      "    class_predictions = self._final_encoder.inverse_transform(class_predictions)\n",
      "  File \"C:\\Users\\davul\\anaconda3\\lib\\site-packages\\sklearn\\utils\\metaestimators.py\", line 113, in <lambda>\n",
      "    out = lambda *args, **kwargs: self.fn(obj, *args, **kwargs)  # noqa\n",
      "  File \"C:\\Users\\davul\\anaconda3\\lib\\site-packages\\sklearn\\pipeline.py\", line 675, in inverse_transform\n",
      "    Xt = transform.inverse_transform(Xt)\n",
      "  File \"C:\\Users\\davul\\anaconda3\\lib\\site-packages\\sklearn\\preprocessing\\_encoders.py\", line 990, in inverse_transform\n",
      "    X_tr[:, i] = self.categories_[i][labels]\n",
      "IndexError: index 6 is out of bounds for axis 0 with size 2\n",
      "\n",
      "  warnings.warn(\n"
     ]
    },
    {
     "name": "stdout",
     "output_type": "stream",
     "text": [
      "3/3 [==============================] - 0s 1000us/step\n"
     ]
    },
    {
     "name": "stderr",
     "output_type": "stream",
     "text": [
      "C:\\Users\\davul\\anaconda3\\lib\\site-packages\\sklearn\\model_selection\\_validation.py:770: UserWarning: Scoring failed. The score on this train-test partition for these parameters will be set to nan. Details: \n",
      "Traceback (most recent call last):\n",
      "  File \"C:\\Users\\davul\\anaconda3\\lib\\site-packages\\sklearn\\model_selection\\_validation.py\", line 761, in _score\n",
      "    scores = scorer(estimator, X_test, y_test)\n",
      "  File \"C:\\Users\\davul\\anaconda3\\lib\\site-packages\\sklearn\\metrics\\_scorer.py\", line 216, in __call__\n",
      "    return self._score(\n",
      "  File \"C:\\Users\\davul\\anaconda3\\lib\\site-packages\\sklearn\\metrics\\_scorer.py\", line 258, in _score\n",
      "    y_pred = method_caller(estimator, \"predict\", X)\n",
      "  File \"C:\\Users\\davul\\anaconda3\\lib\\site-packages\\sklearn\\metrics\\_scorer.py\", line 68, in _cached_call\n",
      "    return getattr(estimator, method)(*args, **kwargs)\n",
      "  File \"C:\\Users\\davul\\anaconda3\\lib\\site-packages\\scikeras\\wrappers.py\", line 1054, in predict\n",
      "    y_pred = self.target_encoder_.inverse_transform(y_pred)\n",
      "  File \"C:\\Users\\davul\\anaconda3\\lib\\site-packages\\scikeras\\utils\\transformers.py\", line 256, in inverse_transform\n",
      "    class_predictions = self._final_encoder.inverse_transform(class_predictions)\n",
      "  File \"C:\\Users\\davul\\anaconda3\\lib\\site-packages\\sklearn\\utils\\metaestimators.py\", line 113, in <lambda>\n",
      "    out = lambda *args, **kwargs: self.fn(obj, *args, **kwargs)  # noqa\n",
      "  File \"C:\\Users\\davul\\anaconda3\\lib\\site-packages\\sklearn\\pipeline.py\", line 675, in inverse_transform\n",
      "    Xt = transform.inverse_transform(Xt)\n",
      "  File \"C:\\Users\\davul\\anaconda3\\lib\\site-packages\\sklearn\\preprocessing\\_encoders.py\", line 990, in inverse_transform\n",
      "    X_tr[:, i] = self.categories_[i][labels]\n",
      "IndexError: index 9 is out of bounds for axis 0 with size 2\n",
      "\n",
      "  warnings.warn(\n"
     ]
    },
    {
     "name": "stdout",
     "output_type": "stream",
     "text": [
      "7/7 [==============================] - 0s 833us/step\n",
      "7/7 [==============================] - 0s 612us/step\n"
     ]
    },
    {
     "name": "stderr",
     "output_type": "stream",
     "text": [
      "C:\\Users\\davul\\anaconda3\\lib\\site-packages\\sklearn\\model_selection\\_validation.py:770: UserWarning: Scoring failed. The score on this train-test partition for these parameters will be set to nan. Details: \n",
      "Traceback (most recent call last):\n",
      "  File \"C:\\Users\\davul\\anaconda3\\lib\\site-packages\\sklearn\\model_selection\\_validation.py\", line 761, in _score\n",
      "    scores = scorer(estimator, X_test, y_test)\n",
      "  File \"C:\\Users\\davul\\anaconda3\\lib\\site-packages\\sklearn\\metrics\\_scorer.py\", line 216, in __call__\n",
      "    return self._score(\n",
      "  File \"C:\\Users\\davul\\anaconda3\\lib\\site-packages\\sklearn\\metrics\\_scorer.py\", line 258, in _score\n",
      "    y_pred = method_caller(estimator, \"predict\", X)\n",
      "  File \"C:\\Users\\davul\\anaconda3\\lib\\site-packages\\sklearn\\metrics\\_scorer.py\", line 68, in _cached_call\n",
      "    return getattr(estimator, method)(*args, **kwargs)\n",
      "  File \"C:\\Users\\davul\\anaconda3\\lib\\site-packages\\scikeras\\wrappers.py\", line 1054, in predict\n",
      "    y_pred = self.target_encoder_.inverse_transform(y_pred)\n",
      "  File \"C:\\Users\\davul\\anaconda3\\lib\\site-packages\\scikeras\\utils\\transformers.py\", line 256, in inverse_transform\n",
      "    class_predictions = self._final_encoder.inverse_transform(class_predictions)\n",
      "  File \"C:\\Users\\davul\\anaconda3\\lib\\site-packages\\sklearn\\utils\\metaestimators.py\", line 113, in <lambda>\n",
      "    out = lambda *args, **kwargs: self.fn(obj, *args, **kwargs)  # noqa\n",
      "  File \"C:\\Users\\davul\\anaconda3\\lib\\site-packages\\sklearn\\pipeline.py\", line 675, in inverse_transform\n",
      "    Xt = transform.inverse_transform(Xt)\n",
      "  File \"C:\\Users\\davul\\anaconda3\\lib\\site-packages\\sklearn\\preprocessing\\_encoders.py\", line 990, in inverse_transform\n",
      "    X_tr[:, i] = self.categories_[i][labels]\n",
      "IndexError: index 5 is out of bounds for axis 0 with size 2\n",
      "\n",
      "  warnings.warn(\n"
     ]
    },
    {
     "name": "stdout",
     "output_type": "stream",
     "text": [
      "7/7 [==============================] - 0s 759us/step\n"
     ]
    },
    {
     "name": "stderr",
     "output_type": "stream",
     "text": [
      "C:\\Users\\davul\\anaconda3\\lib\\site-packages\\sklearn\\model_selection\\_validation.py:770: UserWarning: Scoring failed. The score on this train-test partition for these parameters will be set to nan. Details: \n",
      "Traceback (most recent call last):\n",
      "  File \"C:\\Users\\davul\\anaconda3\\lib\\site-packages\\sklearn\\model_selection\\_validation.py\", line 761, in _score\n",
      "    scores = scorer(estimator, X_test, y_test)\n",
      "  File \"C:\\Users\\davul\\anaconda3\\lib\\site-packages\\sklearn\\metrics\\_scorer.py\", line 216, in __call__\n",
      "    return self._score(\n",
      "  File \"C:\\Users\\davul\\anaconda3\\lib\\site-packages\\sklearn\\metrics\\_scorer.py\", line 258, in _score\n",
      "    y_pred = method_caller(estimator, \"predict\", X)\n",
      "  File \"C:\\Users\\davul\\anaconda3\\lib\\site-packages\\sklearn\\metrics\\_scorer.py\", line 68, in _cached_call\n",
      "    return getattr(estimator, method)(*args, **kwargs)\n",
      "  File \"C:\\Users\\davul\\anaconda3\\lib\\site-packages\\scikeras\\wrappers.py\", line 1054, in predict\n",
      "    y_pred = self.target_encoder_.inverse_transform(y_pred)\n",
      "  File \"C:\\Users\\davul\\anaconda3\\lib\\site-packages\\scikeras\\utils\\transformers.py\", line 256, in inverse_transform\n",
      "    class_predictions = self._final_encoder.inverse_transform(class_predictions)\n",
      "  File \"C:\\Users\\davul\\anaconda3\\lib\\site-packages\\sklearn\\utils\\metaestimators.py\", line 113, in <lambda>\n",
      "    out = lambda *args, **kwargs: self.fn(obj, *args, **kwargs)  # noqa\n",
      "  File \"C:\\Users\\davul\\anaconda3\\lib\\site-packages\\sklearn\\pipeline.py\", line 675, in inverse_transform\n",
      "    Xt = transform.inverse_transform(Xt)\n",
      "  File \"C:\\Users\\davul\\anaconda3\\lib\\site-packages\\sklearn\\preprocessing\\_encoders.py\", line 990, in inverse_transform\n",
      "    X_tr[:, i] = self.categories_[i][labels]\n",
      "IndexError: index 3 is out of bounds for axis 0 with size 2\n",
      "\n",
      "  warnings.warn(\n"
     ]
    },
    {
     "name": "stdout",
     "output_type": "stream",
     "text": [
      "7/7 [==============================] - 0s 833us/step\n",
      "7/7 [==============================] - 0s 804us/step\n",
      "2/2 [==============================] - 0s 2ms/step\n"
     ]
    },
    {
     "name": "stderr",
     "output_type": "stream",
     "text": [
      "C:\\Users\\davul\\anaconda3\\lib\\site-packages\\sklearn\\model_selection\\_validation.py:770: UserWarning: Scoring failed. The score on this train-test partition for these parameters will be set to nan. Details: \n",
      "Traceback (most recent call last):\n",
      "  File \"C:\\Users\\davul\\anaconda3\\lib\\site-packages\\sklearn\\model_selection\\_validation.py\", line 761, in _score\n",
      "    scores = scorer(estimator, X_test, y_test)\n",
      "  File \"C:\\Users\\davul\\anaconda3\\lib\\site-packages\\sklearn\\metrics\\_scorer.py\", line 216, in __call__\n",
      "    return self._score(\n",
      "  File \"C:\\Users\\davul\\anaconda3\\lib\\site-packages\\sklearn\\metrics\\_scorer.py\", line 258, in _score\n",
      "    y_pred = method_caller(estimator, \"predict\", X)\n",
      "  File \"C:\\Users\\davul\\anaconda3\\lib\\site-packages\\sklearn\\metrics\\_scorer.py\", line 68, in _cached_call\n",
      "    return getattr(estimator, method)(*args, **kwargs)\n",
      "  File \"C:\\Users\\davul\\anaconda3\\lib\\site-packages\\scikeras\\wrappers.py\", line 1054, in predict\n",
      "    y_pred = self.target_encoder_.inverse_transform(y_pred)\n",
      "  File \"C:\\Users\\davul\\anaconda3\\lib\\site-packages\\scikeras\\utils\\transformers.py\", line 256, in inverse_transform\n",
      "    class_predictions = self._final_encoder.inverse_transform(class_predictions)\n",
      "  File \"C:\\Users\\davul\\anaconda3\\lib\\site-packages\\sklearn\\utils\\metaestimators.py\", line 113, in <lambda>\n",
      "    out = lambda *args, **kwargs: self.fn(obj, *args, **kwargs)  # noqa\n",
      "  File \"C:\\Users\\davul\\anaconda3\\lib\\site-packages\\sklearn\\pipeline.py\", line 675, in inverse_transform\n",
      "    Xt = transform.inverse_transform(Xt)\n",
      "  File \"C:\\Users\\davul\\anaconda3\\lib\\site-packages\\sklearn\\preprocessing\\_encoders.py\", line 990, in inverse_transform\n",
      "    X_tr[:, i] = self.categories_[i][labels]\n",
      "IndexError: index 8 is out of bounds for axis 0 with size 2\n",
      "\n",
      "  warnings.warn(\n"
     ]
    },
    {
     "name": "stdout",
     "output_type": "stream",
     "text": [
      "2/2 [==============================] - 0s 2ms/step\n"
     ]
    },
    {
     "name": "stderr",
     "output_type": "stream",
     "text": [
      "C:\\Users\\davul\\anaconda3\\lib\\site-packages\\sklearn\\model_selection\\_validation.py:770: UserWarning: Scoring failed. The score on this train-test partition for these parameters will be set to nan. Details: \n",
      "Traceback (most recent call last):\n",
      "  File \"C:\\Users\\davul\\anaconda3\\lib\\site-packages\\sklearn\\model_selection\\_validation.py\", line 761, in _score\n",
      "    scores = scorer(estimator, X_test, y_test)\n",
      "  File \"C:\\Users\\davul\\anaconda3\\lib\\site-packages\\sklearn\\metrics\\_scorer.py\", line 216, in __call__\n",
      "    return self._score(\n",
      "  File \"C:\\Users\\davul\\anaconda3\\lib\\site-packages\\sklearn\\metrics\\_scorer.py\", line 258, in _score\n",
      "    y_pred = method_caller(estimator, \"predict\", X)\n",
      "  File \"C:\\Users\\davul\\anaconda3\\lib\\site-packages\\sklearn\\metrics\\_scorer.py\", line 68, in _cached_call\n",
      "    return getattr(estimator, method)(*args, **kwargs)\n",
      "  File \"C:\\Users\\davul\\anaconda3\\lib\\site-packages\\scikeras\\wrappers.py\", line 1054, in predict\n",
      "    y_pred = self.target_encoder_.inverse_transform(y_pred)\n",
      "  File \"C:\\Users\\davul\\anaconda3\\lib\\site-packages\\scikeras\\utils\\transformers.py\", line 256, in inverse_transform\n",
      "    class_predictions = self._final_encoder.inverse_transform(class_predictions)\n",
      "  File \"C:\\Users\\davul\\anaconda3\\lib\\site-packages\\sklearn\\utils\\metaestimators.py\", line 113, in <lambda>\n",
      "    out = lambda *args, **kwargs: self.fn(obj, *args, **kwargs)  # noqa\n",
      "  File \"C:\\Users\\davul\\anaconda3\\lib\\site-packages\\sklearn\\pipeline.py\", line 675, in inverse_transform\n",
      "    Xt = transform.inverse_transform(Xt)\n",
      "  File \"C:\\Users\\davul\\anaconda3\\lib\\site-packages\\sklearn\\preprocessing\\_encoders.py\", line 990, in inverse_transform\n",
      "    X_tr[:, i] = self.categories_[i][labels]\n",
      "IndexError: index 9 is out of bounds for axis 0 with size 2\n",
      "\n",
      "  warnings.warn(\n"
     ]
    },
    {
     "name": "stdout",
     "output_type": "stream",
     "text": [
      "2/2 [==============================] - 0s 2ms/step\n"
     ]
    },
    {
     "name": "stderr",
     "output_type": "stream",
     "text": [
      "C:\\Users\\davul\\anaconda3\\lib\\site-packages\\sklearn\\model_selection\\_validation.py:770: UserWarning: Scoring failed. The score on this train-test partition for these parameters will be set to nan. Details: \n",
      "Traceback (most recent call last):\n",
      "  File \"C:\\Users\\davul\\anaconda3\\lib\\site-packages\\sklearn\\model_selection\\_validation.py\", line 761, in _score\n",
      "    scores = scorer(estimator, X_test, y_test)\n",
      "  File \"C:\\Users\\davul\\anaconda3\\lib\\site-packages\\sklearn\\metrics\\_scorer.py\", line 216, in __call__\n",
      "    return self._score(\n",
      "  File \"C:\\Users\\davul\\anaconda3\\lib\\site-packages\\sklearn\\metrics\\_scorer.py\", line 258, in _score\n",
      "    y_pred = method_caller(estimator, \"predict\", X)\n",
      "  File \"C:\\Users\\davul\\anaconda3\\lib\\site-packages\\sklearn\\metrics\\_scorer.py\", line 68, in _cached_call\n",
      "    return getattr(estimator, method)(*args, **kwargs)\n",
      "  File \"C:\\Users\\davul\\anaconda3\\lib\\site-packages\\scikeras\\wrappers.py\", line 1054, in predict\n",
      "    y_pred = self.target_encoder_.inverse_transform(y_pred)\n",
      "  File \"C:\\Users\\davul\\anaconda3\\lib\\site-packages\\scikeras\\utils\\transformers.py\", line 256, in inverse_transform\n",
      "    class_predictions = self._final_encoder.inverse_transform(class_predictions)\n",
      "  File \"C:\\Users\\davul\\anaconda3\\lib\\site-packages\\sklearn\\utils\\metaestimators.py\", line 113, in <lambda>\n",
      "    out = lambda *args, **kwargs: self.fn(obj, *args, **kwargs)  # noqa\n",
      "  File \"C:\\Users\\davul\\anaconda3\\lib\\site-packages\\sklearn\\pipeline.py\", line 675, in inverse_transform\n",
      "    Xt = transform.inverse_transform(Xt)\n",
      "  File \"C:\\Users\\davul\\anaconda3\\lib\\site-packages\\sklearn\\preprocessing\\_encoders.py\", line 990, in inverse_transform\n",
      "    X_tr[:, i] = self.categories_[i][labels]\n",
      "IndexError: index 6 is out of bounds for axis 0 with size 2\n",
      "\n",
      "  warnings.warn(\n"
     ]
    },
    {
     "name": "stdout",
     "output_type": "stream",
     "text": [
      "2/2 [==============================] - 0s 2ms/step\n"
     ]
    },
    {
     "name": "stderr",
     "output_type": "stream",
     "text": [
      "C:\\Users\\davul\\anaconda3\\lib\\site-packages\\sklearn\\model_selection\\_validation.py:770: UserWarning: Scoring failed. The score on this train-test partition for these parameters will be set to nan. Details: \n",
      "Traceback (most recent call last):\n",
      "  File \"C:\\Users\\davul\\anaconda3\\lib\\site-packages\\sklearn\\model_selection\\_validation.py\", line 761, in _score\n",
      "    scores = scorer(estimator, X_test, y_test)\n",
      "  File \"C:\\Users\\davul\\anaconda3\\lib\\site-packages\\sklearn\\metrics\\_scorer.py\", line 216, in __call__\n",
      "    return self._score(\n",
      "  File \"C:\\Users\\davul\\anaconda3\\lib\\site-packages\\sklearn\\metrics\\_scorer.py\", line 258, in _score\n",
      "    y_pred = method_caller(estimator, \"predict\", X)\n",
      "  File \"C:\\Users\\davul\\anaconda3\\lib\\site-packages\\sklearn\\metrics\\_scorer.py\", line 68, in _cached_call\n",
      "    return getattr(estimator, method)(*args, **kwargs)\n",
      "  File \"C:\\Users\\davul\\anaconda3\\lib\\site-packages\\scikeras\\wrappers.py\", line 1054, in predict\n",
      "    y_pred = self.target_encoder_.inverse_transform(y_pred)\n",
      "  File \"C:\\Users\\davul\\anaconda3\\lib\\site-packages\\scikeras\\utils\\transformers.py\", line 256, in inverse_transform\n",
      "    class_predictions = self._final_encoder.inverse_transform(class_predictions)\n",
      "  File \"C:\\Users\\davul\\anaconda3\\lib\\site-packages\\sklearn\\utils\\metaestimators.py\", line 113, in <lambda>\n",
      "    out = lambda *args, **kwargs: self.fn(obj, *args, **kwargs)  # noqa\n",
      "  File \"C:\\Users\\davul\\anaconda3\\lib\\site-packages\\sklearn\\pipeline.py\", line 675, in inverse_transform\n",
      "    Xt = transform.inverse_transform(Xt)\n",
      "  File \"C:\\Users\\davul\\anaconda3\\lib\\site-packages\\sklearn\\preprocessing\\_encoders.py\", line 990, in inverse_transform\n",
      "    X_tr[:, i] = self.categories_[i][labels]\n",
      "IndexError: index 3 is out of bounds for axis 0 with size 2\n",
      "\n",
      "  warnings.warn(\n"
     ]
    },
    {
     "name": "stdout",
     "output_type": "stream",
     "text": [
      "2/2 [==============================] - 0s 2ms/step\n"
     ]
    },
    {
     "name": "stderr",
     "output_type": "stream",
     "text": [
      "C:\\Users\\davul\\anaconda3\\lib\\site-packages\\sklearn\\model_selection\\_validation.py:770: UserWarning: Scoring failed. The score on this train-test partition for these parameters will be set to nan. Details: \n",
      "Traceback (most recent call last):\n",
      "  File \"C:\\Users\\davul\\anaconda3\\lib\\site-packages\\sklearn\\model_selection\\_validation.py\", line 761, in _score\n",
      "    scores = scorer(estimator, X_test, y_test)\n",
      "  File \"C:\\Users\\davul\\anaconda3\\lib\\site-packages\\sklearn\\metrics\\_scorer.py\", line 216, in __call__\n",
      "    return self._score(\n",
      "  File \"C:\\Users\\davul\\anaconda3\\lib\\site-packages\\sklearn\\metrics\\_scorer.py\", line 258, in _score\n",
      "    y_pred = method_caller(estimator, \"predict\", X)\n",
      "  File \"C:\\Users\\davul\\anaconda3\\lib\\site-packages\\sklearn\\metrics\\_scorer.py\", line 68, in _cached_call\n",
      "    return getattr(estimator, method)(*args, **kwargs)\n",
      "  File \"C:\\Users\\davul\\anaconda3\\lib\\site-packages\\scikeras\\wrappers.py\", line 1054, in predict\n",
      "    y_pred = self.target_encoder_.inverse_transform(y_pred)\n",
      "  File \"C:\\Users\\davul\\anaconda3\\lib\\site-packages\\scikeras\\utils\\transformers.py\", line 256, in inverse_transform\n",
      "    class_predictions = self._final_encoder.inverse_transform(class_predictions)\n",
      "  File \"C:\\Users\\davul\\anaconda3\\lib\\site-packages\\sklearn\\utils\\metaestimators.py\", line 113, in <lambda>\n",
      "    out = lambda *args, **kwargs: self.fn(obj, *args, **kwargs)  # noqa\n",
      "  File \"C:\\Users\\davul\\anaconda3\\lib\\site-packages\\sklearn\\pipeline.py\", line 675, in inverse_transform\n",
      "    Xt = transform.inverse_transform(Xt)\n",
      "  File \"C:\\Users\\davul\\anaconda3\\lib\\site-packages\\sklearn\\preprocessing\\_encoders.py\", line 990, in inverse_transform\n",
      "    X_tr[:, i] = self.categories_[i][labels]\n",
      "IndexError: index 2 is out of bounds for axis 0 with size 2\n",
      "\n",
      "  warnings.warn(\n"
     ]
    },
    {
     "name": "stdout",
     "output_type": "stream",
     "text": [
      "3/3 [==============================] - 0s 2ms/step\n"
     ]
    },
    {
     "name": "stderr",
     "output_type": "stream",
     "text": [
      "C:\\Users\\davul\\anaconda3\\lib\\site-packages\\sklearn\\model_selection\\_validation.py:770: UserWarning: Scoring failed. The score on this train-test partition for these parameters will be set to nan. Details: \n",
      "Traceback (most recent call last):\n",
      "  File \"C:\\Users\\davul\\anaconda3\\lib\\site-packages\\sklearn\\model_selection\\_validation.py\", line 761, in _score\n",
      "    scores = scorer(estimator, X_test, y_test)\n",
      "  File \"C:\\Users\\davul\\anaconda3\\lib\\site-packages\\sklearn\\metrics\\_scorer.py\", line 216, in __call__\n",
      "    return self._score(\n",
      "  File \"C:\\Users\\davul\\anaconda3\\lib\\site-packages\\sklearn\\metrics\\_scorer.py\", line 258, in _score\n",
      "    y_pred = method_caller(estimator, \"predict\", X)\n",
      "  File \"C:\\Users\\davul\\anaconda3\\lib\\site-packages\\sklearn\\metrics\\_scorer.py\", line 68, in _cached_call\n",
      "    return getattr(estimator, method)(*args, **kwargs)\n",
      "  File \"C:\\Users\\davul\\anaconda3\\lib\\site-packages\\scikeras\\wrappers.py\", line 1054, in predict\n",
      "    y_pred = self.target_encoder_.inverse_transform(y_pred)\n",
      "  File \"C:\\Users\\davul\\anaconda3\\lib\\site-packages\\scikeras\\utils\\transformers.py\", line 256, in inverse_transform\n",
      "    class_predictions = self._final_encoder.inverse_transform(class_predictions)\n",
      "  File \"C:\\Users\\davul\\anaconda3\\lib\\site-packages\\sklearn\\utils\\metaestimators.py\", line 113, in <lambda>\n",
      "    out = lambda *args, **kwargs: self.fn(obj, *args, **kwargs)  # noqa\n",
      "  File \"C:\\Users\\davul\\anaconda3\\lib\\site-packages\\sklearn\\pipeline.py\", line 675, in inverse_transform\n",
      "    Xt = transform.inverse_transform(Xt)\n",
      "  File \"C:\\Users\\davul\\anaconda3\\lib\\site-packages\\sklearn\\preprocessing\\_encoders.py\", line 990, in inverse_transform\n",
      "    X_tr[:, i] = self.categories_[i][labels]\n",
      "IndexError: index 5 is out of bounds for axis 0 with size 2\n",
      "\n",
      "  warnings.warn(\n"
     ]
    },
    {
     "name": "stdout",
     "output_type": "stream",
     "text": [
      "3/3 [==============================] - 0s 2ms/step\n"
     ]
    },
    {
     "name": "stderr",
     "output_type": "stream",
     "text": [
      "C:\\Users\\davul\\anaconda3\\lib\\site-packages\\sklearn\\model_selection\\_validation.py:770: UserWarning: Scoring failed. The score on this train-test partition for these parameters will be set to nan. Details: \n",
      "Traceback (most recent call last):\n",
      "  File \"C:\\Users\\davul\\anaconda3\\lib\\site-packages\\sklearn\\model_selection\\_validation.py\", line 761, in _score\n",
      "    scores = scorer(estimator, X_test, y_test)\n",
      "  File \"C:\\Users\\davul\\anaconda3\\lib\\site-packages\\sklearn\\metrics\\_scorer.py\", line 216, in __call__\n",
      "    return self._score(\n",
      "  File \"C:\\Users\\davul\\anaconda3\\lib\\site-packages\\sklearn\\metrics\\_scorer.py\", line 258, in _score\n",
      "    y_pred = method_caller(estimator, \"predict\", X)\n",
      "  File \"C:\\Users\\davul\\anaconda3\\lib\\site-packages\\sklearn\\metrics\\_scorer.py\", line 68, in _cached_call\n",
      "    return getattr(estimator, method)(*args, **kwargs)\n",
      "  File \"C:\\Users\\davul\\anaconda3\\lib\\site-packages\\scikeras\\wrappers.py\", line 1054, in predict\n",
      "    y_pred = self.target_encoder_.inverse_transform(y_pred)\n",
      "  File \"C:\\Users\\davul\\anaconda3\\lib\\site-packages\\scikeras\\utils\\transformers.py\", line 256, in inverse_transform\n",
      "    class_predictions = self._final_encoder.inverse_transform(class_predictions)\n",
      "  File \"C:\\Users\\davul\\anaconda3\\lib\\site-packages\\sklearn\\utils\\metaestimators.py\", line 113, in <lambda>\n",
      "    out = lambda *args, **kwargs: self.fn(obj, *args, **kwargs)  # noqa\n",
      "  File \"C:\\Users\\davul\\anaconda3\\lib\\site-packages\\sklearn\\pipeline.py\", line 675, in inverse_transform\n",
      "    Xt = transform.inverse_transform(Xt)\n",
      "  File \"C:\\Users\\davul\\anaconda3\\lib\\site-packages\\sklearn\\preprocessing\\_encoders.py\", line 990, in inverse_transform\n",
      "    X_tr[:, i] = self.categories_[i][labels]\n",
      "IndexError: index 5 is out of bounds for axis 0 with size 2\n",
      "\n",
      "  warnings.warn(\n"
     ]
    },
    {
     "name": "stdout",
     "output_type": "stream",
     "text": [
      "3/3 [==============================] - 0s 1ms/step\n"
     ]
    },
    {
     "name": "stderr",
     "output_type": "stream",
     "text": [
      "C:\\Users\\davul\\anaconda3\\lib\\site-packages\\sklearn\\model_selection\\_validation.py:770: UserWarning: Scoring failed. The score on this train-test partition for these parameters will be set to nan. Details: \n",
      "Traceback (most recent call last):\n",
      "  File \"C:\\Users\\davul\\anaconda3\\lib\\site-packages\\sklearn\\model_selection\\_validation.py\", line 761, in _score\n",
      "    scores = scorer(estimator, X_test, y_test)\n",
      "  File \"C:\\Users\\davul\\anaconda3\\lib\\site-packages\\sklearn\\metrics\\_scorer.py\", line 216, in __call__\n",
      "    return self._score(\n",
      "  File \"C:\\Users\\davul\\anaconda3\\lib\\site-packages\\sklearn\\metrics\\_scorer.py\", line 258, in _score\n",
      "    y_pred = method_caller(estimator, \"predict\", X)\n",
      "  File \"C:\\Users\\davul\\anaconda3\\lib\\site-packages\\sklearn\\metrics\\_scorer.py\", line 68, in _cached_call\n",
      "    return getattr(estimator, method)(*args, **kwargs)\n",
      "  File \"C:\\Users\\davul\\anaconda3\\lib\\site-packages\\scikeras\\wrappers.py\", line 1054, in predict\n",
      "    y_pred = self.target_encoder_.inverse_transform(y_pred)\n",
      "  File \"C:\\Users\\davul\\anaconda3\\lib\\site-packages\\scikeras\\utils\\transformers.py\", line 256, in inverse_transform\n",
      "    class_predictions = self._final_encoder.inverse_transform(class_predictions)\n",
      "  File \"C:\\Users\\davul\\anaconda3\\lib\\site-packages\\sklearn\\utils\\metaestimators.py\", line 113, in <lambda>\n",
      "    out = lambda *args, **kwargs: self.fn(obj, *args, **kwargs)  # noqa\n",
      "  File \"C:\\Users\\davul\\anaconda3\\lib\\site-packages\\sklearn\\pipeline.py\", line 675, in inverse_transform\n",
      "    Xt = transform.inverse_transform(Xt)\n",
      "  File \"C:\\Users\\davul\\anaconda3\\lib\\site-packages\\sklearn\\preprocessing\\_encoders.py\", line 990, in inverse_transform\n",
      "    X_tr[:, i] = self.categories_[i][labels]\n",
      "IndexError: index 5 is out of bounds for axis 0 with size 2\n",
      "\n",
      "  warnings.warn(\n"
     ]
    },
    {
     "name": "stdout",
     "output_type": "stream",
     "text": [
      "3/3 [==============================] - 0s 1ms/step\n"
     ]
    },
    {
     "name": "stderr",
     "output_type": "stream",
     "text": [
      "C:\\Users\\davul\\anaconda3\\lib\\site-packages\\sklearn\\model_selection\\_validation.py:770: UserWarning: Scoring failed. The score on this train-test partition for these parameters will be set to nan. Details: \n",
      "Traceback (most recent call last):\n",
      "  File \"C:\\Users\\davul\\anaconda3\\lib\\site-packages\\sklearn\\model_selection\\_validation.py\", line 761, in _score\n",
      "    scores = scorer(estimator, X_test, y_test)\n",
      "  File \"C:\\Users\\davul\\anaconda3\\lib\\site-packages\\sklearn\\metrics\\_scorer.py\", line 216, in __call__\n",
      "    return self._score(\n",
      "  File \"C:\\Users\\davul\\anaconda3\\lib\\site-packages\\sklearn\\metrics\\_scorer.py\", line 258, in _score\n",
      "    y_pred = method_caller(estimator, \"predict\", X)\n",
      "  File \"C:\\Users\\davul\\anaconda3\\lib\\site-packages\\sklearn\\metrics\\_scorer.py\", line 68, in _cached_call\n",
      "    return getattr(estimator, method)(*args, **kwargs)\n",
      "  File \"C:\\Users\\davul\\anaconda3\\lib\\site-packages\\scikeras\\wrappers.py\", line 1054, in predict\n",
      "    y_pred = self.target_encoder_.inverse_transform(y_pred)\n",
      "  File \"C:\\Users\\davul\\anaconda3\\lib\\site-packages\\scikeras\\utils\\transformers.py\", line 256, in inverse_transform\n",
      "    class_predictions = self._final_encoder.inverse_transform(class_predictions)\n",
      "  File \"C:\\Users\\davul\\anaconda3\\lib\\site-packages\\sklearn\\utils\\metaestimators.py\", line 113, in <lambda>\n",
      "    out = lambda *args, **kwargs: self.fn(obj, *args, **kwargs)  # noqa\n",
      "  File \"C:\\Users\\davul\\anaconda3\\lib\\site-packages\\sklearn\\pipeline.py\", line 675, in inverse_transform\n",
      "    Xt = transform.inverse_transform(Xt)\n",
      "  File \"C:\\Users\\davul\\anaconda3\\lib\\site-packages\\sklearn\\preprocessing\\_encoders.py\", line 990, in inverse_transform\n",
      "    X_tr[:, i] = self.categories_[i][labels]\n",
      "IndexError: index 4 is out of bounds for axis 0 with size 2\n",
      "\n",
      "  warnings.warn(\n"
     ]
    },
    {
     "name": "stdout",
     "output_type": "stream",
     "text": [
      "3/3 [==============================] - 0s 1ms/step\n"
     ]
    },
    {
     "name": "stderr",
     "output_type": "stream",
     "text": [
      "C:\\Users\\davul\\anaconda3\\lib\\site-packages\\sklearn\\model_selection\\_validation.py:770: UserWarning: Scoring failed. The score on this train-test partition for these parameters will be set to nan. Details: \n",
      "Traceback (most recent call last):\n",
      "  File \"C:\\Users\\davul\\anaconda3\\lib\\site-packages\\sklearn\\model_selection\\_validation.py\", line 761, in _score\n",
      "    scores = scorer(estimator, X_test, y_test)\n",
      "  File \"C:\\Users\\davul\\anaconda3\\lib\\site-packages\\sklearn\\metrics\\_scorer.py\", line 216, in __call__\n",
      "    return self._score(\n",
      "  File \"C:\\Users\\davul\\anaconda3\\lib\\site-packages\\sklearn\\metrics\\_scorer.py\", line 258, in _score\n",
      "    y_pred = method_caller(estimator, \"predict\", X)\n",
      "  File \"C:\\Users\\davul\\anaconda3\\lib\\site-packages\\sklearn\\metrics\\_scorer.py\", line 68, in _cached_call\n",
      "    return getattr(estimator, method)(*args, **kwargs)\n",
      "  File \"C:\\Users\\davul\\anaconda3\\lib\\site-packages\\scikeras\\wrappers.py\", line 1054, in predict\n",
      "    y_pred = self.target_encoder_.inverse_transform(y_pred)\n",
      "  File \"C:\\Users\\davul\\anaconda3\\lib\\site-packages\\scikeras\\utils\\transformers.py\", line 256, in inverse_transform\n",
      "    class_predictions = self._final_encoder.inverse_transform(class_predictions)\n",
      "  File \"C:\\Users\\davul\\anaconda3\\lib\\site-packages\\sklearn\\utils\\metaestimators.py\", line 113, in <lambda>\n",
      "    out = lambda *args, **kwargs: self.fn(obj, *args, **kwargs)  # noqa\n",
      "  File \"C:\\Users\\davul\\anaconda3\\lib\\site-packages\\sklearn\\pipeline.py\", line 675, in inverse_transform\n",
      "    Xt = transform.inverse_transform(Xt)\n",
      "  File \"C:\\Users\\davul\\anaconda3\\lib\\site-packages\\sklearn\\preprocessing\\_encoders.py\", line 990, in inverse_transform\n",
      "    X_tr[:, i] = self.categories_[i][labels]\n",
      "IndexError: index 7 is out of bounds for axis 0 with size 2\n",
      "\n",
      "  warnings.warn(\n"
     ]
    },
    {
     "name": "stdout",
     "output_type": "stream",
     "text": [
      "3/3 [==============================] - 0s 1ms/step\n"
     ]
    },
    {
     "name": "stderr",
     "output_type": "stream",
     "text": [
      "C:\\Users\\davul\\anaconda3\\lib\\site-packages\\sklearn\\model_selection\\_validation.py:770: UserWarning: Scoring failed. The score on this train-test partition for these parameters will be set to nan. Details: \n",
      "Traceback (most recent call last):\n",
      "  File \"C:\\Users\\davul\\anaconda3\\lib\\site-packages\\sklearn\\model_selection\\_validation.py\", line 761, in _score\n",
      "    scores = scorer(estimator, X_test, y_test)\n",
      "  File \"C:\\Users\\davul\\anaconda3\\lib\\site-packages\\sklearn\\metrics\\_scorer.py\", line 216, in __call__\n",
      "    return self._score(\n",
      "  File \"C:\\Users\\davul\\anaconda3\\lib\\site-packages\\sklearn\\metrics\\_scorer.py\", line 258, in _score\n",
      "    y_pred = method_caller(estimator, \"predict\", X)\n",
      "  File \"C:\\Users\\davul\\anaconda3\\lib\\site-packages\\sklearn\\metrics\\_scorer.py\", line 68, in _cached_call\n",
      "    return getattr(estimator, method)(*args, **kwargs)\n",
      "  File \"C:\\Users\\davul\\anaconda3\\lib\\site-packages\\scikeras\\wrappers.py\", line 1054, in predict\n",
      "    y_pred = self.target_encoder_.inverse_transform(y_pred)\n",
      "  File \"C:\\Users\\davul\\anaconda3\\lib\\site-packages\\scikeras\\utils\\transformers.py\", line 256, in inverse_transform\n",
      "    class_predictions = self._final_encoder.inverse_transform(class_predictions)\n",
      "  File \"C:\\Users\\davul\\anaconda3\\lib\\site-packages\\sklearn\\utils\\metaestimators.py\", line 113, in <lambda>\n",
      "    out = lambda *args, **kwargs: self.fn(obj, *args, **kwargs)  # noqa\n",
      "  File \"C:\\Users\\davul\\anaconda3\\lib\\site-packages\\sklearn\\pipeline.py\", line 675, in inverse_transform\n",
      "    Xt = transform.inverse_transform(Xt)\n",
      "  File \"C:\\Users\\davul\\anaconda3\\lib\\site-packages\\sklearn\\preprocessing\\_encoders.py\", line 990, in inverse_transform\n",
      "    X_tr[:, i] = self.categories_[i][labels]\n",
      "IndexError: index 2 is out of bounds for axis 0 with size 2\n",
      "\n",
      "  warnings.warn(\n"
     ]
    },
    {
     "name": "stdout",
     "output_type": "stream",
     "text": [
      "3/3 [==============================] - 0s 1ms/step\n"
     ]
    },
    {
     "name": "stderr",
     "output_type": "stream",
     "text": [
      "C:\\Users\\davul\\anaconda3\\lib\\site-packages\\sklearn\\model_selection\\_validation.py:770: UserWarning: Scoring failed. The score on this train-test partition for these parameters will be set to nan. Details: \n",
      "Traceback (most recent call last):\n",
      "  File \"C:\\Users\\davul\\anaconda3\\lib\\site-packages\\sklearn\\model_selection\\_validation.py\", line 761, in _score\n",
      "    scores = scorer(estimator, X_test, y_test)\n",
      "  File \"C:\\Users\\davul\\anaconda3\\lib\\site-packages\\sklearn\\metrics\\_scorer.py\", line 216, in __call__\n",
      "    return self._score(\n",
      "  File \"C:\\Users\\davul\\anaconda3\\lib\\site-packages\\sklearn\\metrics\\_scorer.py\", line 258, in _score\n",
      "    y_pred = method_caller(estimator, \"predict\", X)\n",
      "  File \"C:\\Users\\davul\\anaconda3\\lib\\site-packages\\sklearn\\metrics\\_scorer.py\", line 68, in _cached_call\n",
      "    return getattr(estimator, method)(*args, **kwargs)\n",
      "  File \"C:\\Users\\davul\\anaconda3\\lib\\site-packages\\scikeras\\wrappers.py\", line 1054, in predict\n",
      "    y_pred = self.target_encoder_.inverse_transform(y_pred)\n",
      "  File \"C:\\Users\\davul\\anaconda3\\lib\\site-packages\\scikeras\\utils\\transformers.py\", line 256, in inverse_transform\n",
      "    class_predictions = self._final_encoder.inverse_transform(class_predictions)\n",
      "  File \"C:\\Users\\davul\\anaconda3\\lib\\site-packages\\sklearn\\utils\\metaestimators.py\", line 113, in <lambda>\n",
      "    out = lambda *args, **kwargs: self.fn(obj, *args, **kwargs)  # noqa\n",
      "  File \"C:\\Users\\davul\\anaconda3\\lib\\site-packages\\sklearn\\pipeline.py\", line 675, in inverse_transform\n",
      "    Xt = transform.inverse_transform(Xt)\n",
      "  File \"C:\\Users\\davul\\anaconda3\\lib\\site-packages\\sklearn\\preprocessing\\_encoders.py\", line 990, in inverse_transform\n",
      "    X_tr[:, i] = self.categories_[i][labels]\n",
      "IndexError: index 3 is out of bounds for axis 0 with size 2\n",
      "\n",
      "  warnings.warn(\n"
     ]
    },
    {
     "name": "stdout",
     "output_type": "stream",
     "text": [
      "3/3 [==============================] - 0s 2ms/step\n"
     ]
    },
    {
     "name": "stderr",
     "output_type": "stream",
     "text": [
      "C:\\Users\\davul\\anaconda3\\lib\\site-packages\\sklearn\\model_selection\\_validation.py:770: UserWarning: Scoring failed. The score on this train-test partition for these parameters will be set to nan. Details: \n",
      "Traceback (most recent call last):\n",
      "  File \"C:\\Users\\davul\\anaconda3\\lib\\site-packages\\sklearn\\model_selection\\_validation.py\", line 761, in _score\n",
      "    scores = scorer(estimator, X_test, y_test)\n",
      "  File \"C:\\Users\\davul\\anaconda3\\lib\\site-packages\\sklearn\\metrics\\_scorer.py\", line 216, in __call__\n",
      "    return self._score(\n",
      "  File \"C:\\Users\\davul\\anaconda3\\lib\\site-packages\\sklearn\\metrics\\_scorer.py\", line 258, in _score\n",
      "    y_pred = method_caller(estimator, \"predict\", X)\n",
      "  File \"C:\\Users\\davul\\anaconda3\\lib\\site-packages\\sklearn\\metrics\\_scorer.py\", line 68, in _cached_call\n",
      "    return getattr(estimator, method)(*args, **kwargs)\n",
      "  File \"C:\\Users\\davul\\anaconda3\\lib\\site-packages\\scikeras\\wrappers.py\", line 1054, in predict\n",
      "    y_pred = self.target_encoder_.inverse_transform(y_pred)\n",
      "  File \"C:\\Users\\davul\\anaconda3\\lib\\site-packages\\scikeras\\utils\\transformers.py\", line 256, in inverse_transform\n",
      "    class_predictions = self._final_encoder.inverse_transform(class_predictions)\n",
      "  File \"C:\\Users\\davul\\anaconda3\\lib\\site-packages\\sklearn\\utils\\metaestimators.py\", line 113, in <lambda>\n",
      "    out = lambda *args, **kwargs: self.fn(obj, *args, **kwargs)  # noqa\n",
      "  File \"C:\\Users\\davul\\anaconda3\\lib\\site-packages\\sklearn\\pipeline.py\", line 675, in inverse_transform\n",
      "    Xt = transform.inverse_transform(Xt)\n",
      "  File \"C:\\Users\\davul\\anaconda3\\lib\\site-packages\\sklearn\\preprocessing\\_encoders.py\", line 990, in inverse_transform\n",
      "    X_tr[:, i] = self.categories_[i][labels]\n",
      "IndexError: index 6 is out of bounds for axis 0 with size 2\n",
      "\n",
      "  warnings.warn(\n"
     ]
    },
    {
     "name": "stdout",
     "output_type": "stream",
     "text": [
      "3/3 [==============================] - 0s 1ms/step\n"
     ]
    },
    {
     "name": "stderr",
     "output_type": "stream",
     "text": [
      "C:\\Users\\davul\\anaconda3\\lib\\site-packages\\sklearn\\model_selection\\_validation.py:770: UserWarning: Scoring failed. The score on this train-test partition for these parameters will be set to nan. Details: \n",
      "Traceback (most recent call last):\n",
      "  File \"C:\\Users\\davul\\anaconda3\\lib\\site-packages\\sklearn\\model_selection\\_validation.py\", line 761, in _score\n",
      "    scores = scorer(estimator, X_test, y_test)\n",
      "  File \"C:\\Users\\davul\\anaconda3\\lib\\site-packages\\sklearn\\metrics\\_scorer.py\", line 216, in __call__\n",
      "    return self._score(\n",
      "  File \"C:\\Users\\davul\\anaconda3\\lib\\site-packages\\sklearn\\metrics\\_scorer.py\", line 258, in _score\n",
      "    y_pred = method_caller(estimator, \"predict\", X)\n",
      "  File \"C:\\Users\\davul\\anaconda3\\lib\\site-packages\\sklearn\\metrics\\_scorer.py\", line 68, in _cached_call\n",
      "    return getattr(estimator, method)(*args, **kwargs)\n",
      "  File \"C:\\Users\\davul\\anaconda3\\lib\\site-packages\\scikeras\\wrappers.py\", line 1054, in predict\n",
      "    y_pred = self.target_encoder_.inverse_transform(y_pred)\n",
      "  File \"C:\\Users\\davul\\anaconda3\\lib\\site-packages\\scikeras\\utils\\transformers.py\", line 256, in inverse_transform\n",
      "    class_predictions = self._final_encoder.inverse_transform(class_predictions)\n",
      "  File \"C:\\Users\\davul\\anaconda3\\lib\\site-packages\\sklearn\\utils\\metaestimators.py\", line 113, in <lambda>\n",
      "    out = lambda *args, **kwargs: self.fn(obj, *args, **kwargs)  # noqa\n",
      "  File \"C:\\Users\\davul\\anaconda3\\lib\\site-packages\\sklearn\\pipeline.py\", line 675, in inverse_transform\n",
      "    Xt = transform.inverse_transform(Xt)\n",
      "  File \"C:\\Users\\davul\\anaconda3\\lib\\site-packages\\sklearn\\preprocessing\\_encoders.py\", line 990, in inverse_transform\n",
      "    X_tr[:, i] = self.categories_[i][labels]\n",
      "IndexError: index 6 is out of bounds for axis 0 with size 2\n",
      "\n",
      "  warnings.warn(\n"
     ]
    },
    {
     "name": "stdout",
     "output_type": "stream",
     "text": [
      "3/3 [==============================] - 0s 2ms/step\n"
     ]
    },
    {
     "name": "stderr",
     "output_type": "stream",
     "text": [
      "C:\\Users\\davul\\anaconda3\\lib\\site-packages\\sklearn\\model_selection\\_validation.py:770: UserWarning: Scoring failed. The score on this train-test partition for these parameters will be set to nan. Details: \n",
      "Traceback (most recent call last):\n",
      "  File \"C:\\Users\\davul\\anaconda3\\lib\\site-packages\\sklearn\\model_selection\\_validation.py\", line 761, in _score\n",
      "    scores = scorer(estimator, X_test, y_test)\n",
      "  File \"C:\\Users\\davul\\anaconda3\\lib\\site-packages\\sklearn\\metrics\\_scorer.py\", line 216, in __call__\n",
      "    return self._score(\n",
      "  File \"C:\\Users\\davul\\anaconda3\\lib\\site-packages\\sklearn\\metrics\\_scorer.py\", line 258, in _score\n",
      "    y_pred = method_caller(estimator, \"predict\", X)\n",
      "  File \"C:\\Users\\davul\\anaconda3\\lib\\site-packages\\sklearn\\metrics\\_scorer.py\", line 68, in _cached_call\n",
      "    return getattr(estimator, method)(*args, **kwargs)\n",
      "  File \"C:\\Users\\davul\\anaconda3\\lib\\site-packages\\scikeras\\wrappers.py\", line 1054, in predict\n",
      "    y_pred = self.target_encoder_.inverse_transform(y_pred)\n",
      "  File \"C:\\Users\\davul\\anaconda3\\lib\\site-packages\\scikeras\\utils\\transformers.py\", line 256, in inverse_transform\n",
      "    class_predictions = self._final_encoder.inverse_transform(class_predictions)\n",
      "  File \"C:\\Users\\davul\\anaconda3\\lib\\site-packages\\sklearn\\utils\\metaestimators.py\", line 113, in <lambda>\n",
      "    out = lambda *args, **kwargs: self.fn(obj, *args, **kwargs)  # noqa\n",
      "  File \"C:\\Users\\davul\\anaconda3\\lib\\site-packages\\sklearn\\pipeline.py\", line 675, in inverse_transform\n",
      "    Xt = transform.inverse_transform(Xt)\n",
      "  File \"C:\\Users\\davul\\anaconda3\\lib\\site-packages\\sklearn\\preprocessing\\_encoders.py\", line 990, in inverse_transform\n",
      "    X_tr[:, i] = self.categories_[i][labels]\n",
      "IndexError: index 3 is out of bounds for axis 0 with size 2\n",
      "\n",
      "  warnings.warn(\n"
     ]
    },
    {
     "name": "stdout",
     "output_type": "stream",
     "text": [
      "2/2 [==============================] - 0s 2ms/step\n"
     ]
    },
    {
     "name": "stderr",
     "output_type": "stream",
     "text": [
      "C:\\Users\\davul\\anaconda3\\lib\\site-packages\\sklearn\\model_selection\\_validation.py:770: UserWarning: Scoring failed. The score on this train-test partition for these parameters will be set to nan. Details: \n",
      "Traceback (most recent call last):\n",
      "  File \"C:\\Users\\davul\\anaconda3\\lib\\site-packages\\sklearn\\model_selection\\_validation.py\", line 761, in _score\n",
      "    scores = scorer(estimator, X_test, y_test)\n",
      "  File \"C:\\Users\\davul\\anaconda3\\lib\\site-packages\\sklearn\\metrics\\_scorer.py\", line 216, in __call__\n",
      "    return self._score(\n",
      "  File \"C:\\Users\\davul\\anaconda3\\lib\\site-packages\\sklearn\\metrics\\_scorer.py\", line 258, in _score\n",
      "    y_pred = method_caller(estimator, \"predict\", X)\n",
      "  File \"C:\\Users\\davul\\anaconda3\\lib\\site-packages\\sklearn\\metrics\\_scorer.py\", line 68, in _cached_call\n",
      "    return getattr(estimator, method)(*args, **kwargs)\n",
      "  File \"C:\\Users\\davul\\anaconda3\\lib\\site-packages\\scikeras\\wrappers.py\", line 1054, in predict\n",
      "    y_pred = self.target_encoder_.inverse_transform(y_pred)\n",
      "  File \"C:\\Users\\davul\\anaconda3\\lib\\site-packages\\scikeras\\utils\\transformers.py\", line 256, in inverse_transform\n",
      "    class_predictions = self._final_encoder.inverse_transform(class_predictions)\n",
      "  File \"C:\\Users\\davul\\anaconda3\\lib\\site-packages\\sklearn\\utils\\metaestimators.py\", line 113, in <lambda>\n",
      "    out = lambda *args, **kwargs: self.fn(obj, *args, **kwargs)  # noqa\n",
      "  File \"C:\\Users\\davul\\anaconda3\\lib\\site-packages\\sklearn\\pipeline.py\", line 675, in inverse_transform\n",
      "    Xt = transform.inverse_transform(Xt)\n",
      "  File \"C:\\Users\\davul\\anaconda3\\lib\\site-packages\\sklearn\\preprocessing\\_encoders.py\", line 990, in inverse_transform\n",
      "    X_tr[:, i] = self.categories_[i][labels]\n",
      "IndexError: index 8 is out of bounds for axis 0 with size 2\n",
      "\n",
      "  warnings.warn(\n"
     ]
    },
    {
     "name": "stdout",
     "output_type": "stream",
     "text": [
      "2/2 [==============================] - 0s 2ms/step\n"
     ]
    },
    {
     "name": "stderr",
     "output_type": "stream",
     "text": [
      "C:\\Users\\davul\\anaconda3\\lib\\site-packages\\sklearn\\model_selection\\_validation.py:770: UserWarning: Scoring failed. The score on this train-test partition for these parameters will be set to nan. Details: \n",
      "Traceback (most recent call last):\n",
      "  File \"C:\\Users\\davul\\anaconda3\\lib\\site-packages\\sklearn\\model_selection\\_validation.py\", line 761, in _score\n",
      "    scores = scorer(estimator, X_test, y_test)\n",
      "  File \"C:\\Users\\davul\\anaconda3\\lib\\site-packages\\sklearn\\metrics\\_scorer.py\", line 216, in __call__\n",
      "    return self._score(\n",
      "  File \"C:\\Users\\davul\\anaconda3\\lib\\site-packages\\sklearn\\metrics\\_scorer.py\", line 258, in _score\n",
      "    y_pred = method_caller(estimator, \"predict\", X)\n",
      "  File \"C:\\Users\\davul\\anaconda3\\lib\\site-packages\\sklearn\\metrics\\_scorer.py\", line 68, in _cached_call\n",
      "    return getattr(estimator, method)(*args, **kwargs)\n",
      "  File \"C:\\Users\\davul\\anaconda3\\lib\\site-packages\\scikeras\\wrappers.py\", line 1054, in predict\n",
      "    y_pred = self.target_encoder_.inverse_transform(y_pred)\n",
      "  File \"C:\\Users\\davul\\anaconda3\\lib\\site-packages\\scikeras\\utils\\transformers.py\", line 256, in inverse_transform\n",
      "    class_predictions = self._final_encoder.inverse_transform(class_predictions)\n",
      "  File \"C:\\Users\\davul\\anaconda3\\lib\\site-packages\\sklearn\\utils\\metaestimators.py\", line 113, in <lambda>\n",
      "    out = lambda *args, **kwargs: self.fn(obj, *args, **kwargs)  # noqa\n",
      "  File \"C:\\Users\\davul\\anaconda3\\lib\\site-packages\\sklearn\\pipeline.py\", line 675, in inverse_transform\n",
      "    Xt = transform.inverse_transform(Xt)\n",
      "  File \"C:\\Users\\davul\\anaconda3\\lib\\site-packages\\sklearn\\preprocessing\\_encoders.py\", line 990, in inverse_transform\n",
      "    X_tr[:, i] = self.categories_[i][labels]\n",
      "IndexError: index 2 is out of bounds for axis 0 with size 2\n",
      "\n",
      "  warnings.warn(\n"
     ]
    },
    {
     "name": "stdout",
     "output_type": "stream",
     "text": [
      "2/2 [==============================] - 0s 2ms/step\n"
     ]
    },
    {
     "name": "stderr",
     "output_type": "stream",
     "text": [
      "C:\\Users\\davul\\anaconda3\\lib\\site-packages\\sklearn\\model_selection\\_validation.py:770: UserWarning: Scoring failed. The score on this train-test partition for these parameters will be set to nan. Details: \n",
      "Traceback (most recent call last):\n",
      "  File \"C:\\Users\\davul\\anaconda3\\lib\\site-packages\\sklearn\\model_selection\\_validation.py\", line 761, in _score\n",
      "    scores = scorer(estimator, X_test, y_test)\n",
      "  File \"C:\\Users\\davul\\anaconda3\\lib\\site-packages\\sklearn\\metrics\\_scorer.py\", line 216, in __call__\n",
      "    return self._score(\n",
      "  File \"C:\\Users\\davul\\anaconda3\\lib\\site-packages\\sklearn\\metrics\\_scorer.py\", line 258, in _score\n",
      "    y_pred = method_caller(estimator, \"predict\", X)\n",
      "  File \"C:\\Users\\davul\\anaconda3\\lib\\site-packages\\sklearn\\metrics\\_scorer.py\", line 68, in _cached_call\n",
      "    return getattr(estimator, method)(*args, **kwargs)\n",
      "  File \"C:\\Users\\davul\\anaconda3\\lib\\site-packages\\scikeras\\wrappers.py\", line 1054, in predict\n",
      "    y_pred = self.target_encoder_.inverse_transform(y_pred)\n",
      "  File \"C:\\Users\\davul\\anaconda3\\lib\\site-packages\\scikeras\\utils\\transformers.py\", line 256, in inverse_transform\n",
      "    class_predictions = self._final_encoder.inverse_transform(class_predictions)\n",
      "  File \"C:\\Users\\davul\\anaconda3\\lib\\site-packages\\sklearn\\utils\\metaestimators.py\", line 113, in <lambda>\n",
      "    out = lambda *args, **kwargs: self.fn(obj, *args, **kwargs)  # noqa\n",
      "  File \"C:\\Users\\davul\\anaconda3\\lib\\site-packages\\sklearn\\pipeline.py\", line 675, in inverse_transform\n",
      "    Xt = transform.inverse_transform(Xt)\n",
      "  File \"C:\\Users\\davul\\anaconda3\\lib\\site-packages\\sklearn\\preprocessing\\_encoders.py\", line 990, in inverse_transform\n",
      "    X_tr[:, i] = self.categories_[i][labels]\n",
      "IndexError: index 7 is out of bounds for axis 0 with size 2\n",
      "\n",
      "  warnings.warn(\n"
     ]
    },
    {
     "name": "stdout",
     "output_type": "stream",
     "text": [
      "2/2 [==============================] - 0s 2ms/step\n"
     ]
    },
    {
     "name": "stderr",
     "output_type": "stream",
     "text": [
      "C:\\Users\\davul\\anaconda3\\lib\\site-packages\\sklearn\\model_selection\\_validation.py:770: UserWarning: Scoring failed. The score on this train-test partition for these parameters will be set to nan. Details: \n",
      "Traceback (most recent call last):\n",
      "  File \"C:\\Users\\davul\\anaconda3\\lib\\site-packages\\sklearn\\model_selection\\_validation.py\", line 761, in _score\n",
      "    scores = scorer(estimator, X_test, y_test)\n",
      "  File \"C:\\Users\\davul\\anaconda3\\lib\\site-packages\\sklearn\\metrics\\_scorer.py\", line 216, in __call__\n",
      "    return self._score(\n",
      "  File \"C:\\Users\\davul\\anaconda3\\lib\\site-packages\\sklearn\\metrics\\_scorer.py\", line 258, in _score\n",
      "    y_pred = method_caller(estimator, \"predict\", X)\n",
      "  File \"C:\\Users\\davul\\anaconda3\\lib\\site-packages\\sklearn\\metrics\\_scorer.py\", line 68, in _cached_call\n",
      "    return getattr(estimator, method)(*args, **kwargs)\n",
      "  File \"C:\\Users\\davul\\anaconda3\\lib\\site-packages\\scikeras\\wrappers.py\", line 1054, in predict\n",
      "    y_pred = self.target_encoder_.inverse_transform(y_pred)\n",
      "  File \"C:\\Users\\davul\\anaconda3\\lib\\site-packages\\scikeras\\utils\\transformers.py\", line 256, in inverse_transform\n",
      "    class_predictions = self._final_encoder.inverse_transform(class_predictions)\n",
      "  File \"C:\\Users\\davul\\anaconda3\\lib\\site-packages\\sklearn\\utils\\metaestimators.py\", line 113, in <lambda>\n",
      "    out = lambda *args, **kwargs: self.fn(obj, *args, **kwargs)  # noqa\n",
      "  File \"C:\\Users\\davul\\anaconda3\\lib\\site-packages\\sklearn\\pipeline.py\", line 675, in inverse_transform\n",
      "    Xt = transform.inverse_transform(Xt)\n",
      "  File \"C:\\Users\\davul\\anaconda3\\lib\\site-packages\\sklearn\\preprocessing\\_encoders.py\", line 990, in inverse_transform\n",
      "    X_tr[:, i] = self.categories_[i][labels]\n",
      "IndexError: index 3 is out of bounds for axis 0 with size 2\n",
      "\n",
      "  warnings.warn(\n"
     ]
    },
    {
     "name": "stdout",
     "output_type": "stream",
     "text": [
      "2/2 [==============================] - 0s 2ms/step\n"
     ]
    },
    {
     "name": "stderr",
     "output_type": "stream",
     "text": [
      "C:\\Users\\davul\\anaconda3\\lib\\site-packages\\sklearn\\model_selection\\_validation.py:770: UserWarning: Scoring failed. The score on this train-test partition for these parameters will be set to nan. Details: \n",
      "Traceback (most recent call last):\n",
      "  File \"C:\\Users\\davul\\anaconda3\\lib\\site-packages\\sklearn\\model_selection\\_validation.py\", line 761, in _score\n",
      "    scores = scorer(estimator, X_test, y_test)\n",
      "  File \"C:\\Users\\davul\\anaconda3\\lib\\site-packages\\sklearn\\metrics\\_scorer.py\", line 216, in __call__\n",
      "    return self._score(\n",
      "  File \"C:\\Users\\davul\\anaconda3\\lib\\site-packages\\sklearn\\metrics\\_scorer.py\", line 258, in _score\n",
      "    y_pred = method_caller(estimator, \"predict\", X)\n",
      "  File \"C:\\Users\\davul\\anaconda3\\lib\\site-packages\\sklearn\\metrics\\_scorer.py\", line 68, in _cached_call\n",
      "    return getattr(estimator, method)(*args, **kwargs)\n",
      "  File \"C:\\Users\\davul\\anaconda3\\lib\\site-packages\\scikeras\\wrappers.py\", line 1054, in predict\n",
      "    y_pred = self.target_encoder_.inverse_transform(y_pred)\n",
      "  File \"C:\\Users\\davul\\anaconda3\\lib\\site-packages\\scikeras\\utils\\transformers.py\", line 256, in inverse_transform\n",
      "    class_predictions = self._final_encoder.inverse_transform(class_predictions)\n",
      "  File \"C:\\Users\\davul\\anaconda3\\lib\\site-packages\\sklearn\\utils\\metaestimators.py\", line 113, in <lambda>\n",
      "    out = lambda *args, **kwargs: self.fn(obj, *args, **kwargs)  # noqa\n",
      "  File \"C:\\Users\\davul\\anaconda3\\lib\\site-packages\\sklearn\\pipeline.py\", line 675, in inverse_transform\n",
      "    Xt = transform.inverse_transform(Xt)\n",
      "  File \"C:\\Users\\davul\\anaconda3\\lib\\site-packages\\sklearn\\preprocessing\\_encoders.py\", line 990, in inverse_transform\n",
      "    X_tr[:, i] = self.categories_[i][labels]\n",
      "IndexError: index 3 is out of bounds for axis 0 with size 2\n",
      "\n",
      "  warnings.warn(\n"
     ]
    },
    {
     "name": "stdout",
     "output_type": "stream",
     "text": [
      "7/7 [==============================] - 0s 752us/step\n",
      "7/7 [==============================] - 0s 1ms/step\n",
      "7/7 [==============================] - 0s 667us/step\n"
     ]
    },
    {
     "name": "stderr",
     "output_type": "stream",
     "text": [
      "C:\\Users\\davul\\anaconda3\\lib\\site-packages\\sklearn\\model_selection\\_validation.py:770: UserWarning: Scoring failed. The score on this train-test partition for these parameters will be set to nan. Details: \n",
      "Traceback (most recent call last):\n",
      "  File \"C:\\Users\\davul\\anaconda3\\lib\\site-packages\\sklearn\\model_selection\\_validation.py\", line 761, in _score\n",
      "    scores = scorer(estimator, X_test, y_test)\n",
      "  File \"C:\\Users\\davul\\anaconda3\\lib\\site-packages\\sklearn\\metrics\\_scorer.py\", line 216, in __call__\n",
      "    return self._score(\n",
      "  File \"C:\\Users\\davul\\anaconda3\\lib\\site-packages\\sklearn\\metrics\\_scorer.py\", line 258, in _score\n",
      "    y_pred = method_caller(estimator, \"predict\", X)\n",
      "  File \"C:\\Users\\davul\\anaconda3\\lib\\site-packages\\sklearn\\metrics\\_scorer.py\", line 68, in _cached_call\n",
      "    return getattr(estimator, method)(*args, **kwargs)\n",
      "  File \"C:\\Users\\davul\\anaconda3\\lib\\site-packages\\scikeras\\wrappers.py\", line 1054, in predict\n",
      "    y_pred = self.target_encoder_.inverse_transform(y_pred)\n",
      "  File \"C:\\Users\\davul\\anaconda3\\lib\\site-packages\\scikeras\\utils\\transformers.py\", line 256, in inverse_transform\n",
      "    class_predictions = self._final_encoder.inverse_transform(class_predictions)\n",
      "  File \"C:\\Users\\davul\\anaconda3\\lib\\site-packages\\sklearn\\utils\\metaestimators.py\", line 113, in <lambda>\n",
      "    out = lambda *args, **kwargs: self.fn(obj, *args, **kwargs)  # noqa\n",
      "  File \"C:\\Users\\davul\\anaconda3\\lib\\site-packages\\sklearn\\pipeline.py\", line 675, in inverse_transform\n",
      "    Xt = transform.inverse_transform(Xt)\n",
      "  File \"C:\\Users\\davul\\anaconda3\\lib\\site-packages\\sklearn\\preprocessing\\_encoders.py\", line 990, in inverse_transform\n",
      "    X_tr[:, i] = self.categories_[i][labels]\n",
      "IndexError: index 6 is out of bounds for axis 0 with size 2\n",
      "\n",
      "  warnings.warn(\n"
     ]
    },
    {
     "name": "stdout",
     "output_type": "stream",
     "text": [
      "7/7 [==============================] - 0s 669us/step\n",
      "7/7 [==============================] - 0s 805us/step\n",
      "7/7 [==============================] - 0s 886us/step\n",
      "7/7 [==============================] - 0s 816us/step\n"
     ]
    },
    {
     "name": "stderr",
     "output_type": "stream",
     "text": [
      "C:\\Users\\davul\\anaconda3\\lib\\site-packages\\sklearn\\model_selection\\_validation.py:770: UserWarning: Scoring failed. The score on this train-test partition for these parameters will be set to nan. Details: \n",
      "Traceback (most recent call last):\n",
      "  File \"C:\\Users\\davul\\anaconda3\\lib\\site-packages\\sklearn\\model_selection\\_validation.py\", line 761, in _score\n",
      "    scores = scorer(estimator, X_test, y_test)\n",
      "  File \"C:\\Users\\davul\\anaconda3\\lib\\site-packages\\sklearn\\metrics\\_scorer.py\", line 216, in __call__\n",
      "    return self._score(\n",
      "  File \"C:\\Users\\davul\\anaconda3\\lib\\site-packages\\sklearn\\metrics\\_scorer.py\", line 258, in _score\n",
      "    y_pred = method_caller(estimator, \"predict\", X)\n",
      "  File \"C:\\Users\\davul\\anaconda3\\lib\\site-packages\\sklearn\\metrics\\_scorer.py\", line 68, in _cached_call\n",
      "    return getattr(estimator, method)(*args, **kwargs)\n",
      "  File \"C:\\Users\\davul\\anaconda3\\lib\\site-packages\\scikeras\\wrappers.py\", line 1054, in predict\n",
      "    y_pred = self.target_encoder_.inverse_transform(y_pred)\n",
      "  File \"C:\\Users\\davul\\anaconda3\\lib\\site-packages\\scikeras\\utils\\transformers.py\", line 256, in inverse_transform\n",
      "    class_predictions = self._final_encoder.inverse_transform(class_predictions)\n",
      "  File \"C:\\Users\\davul\\anaconda3\\lib\\site-packages\\sklearn\\utils\\metaestimators.py\", line 113, in <lambda>\n",
      "    out = lambda *args, **kwargs: self.fn(obj, *args, **kwargs)  # noqa\n",
      "  File \"C:\\Users\\davul\\anaconda3\\lib\\site-packages\\sklearn\\pipeline.py\", line 675, in inverse_transform\n",
      "    Xt = transform.inverse_transform(Xt)\n",
      "  File \"C:\\Users\\davul\\anaconda3\\lib\\site-packages\\sklearn\\preprocessing\\_encoders.py\", line 990, in inverse_transform\n",
      "    X_tr[:, i] = self.categories_[i][labels]\n",
      "IndexError: index 9 is out of bounds for axis 0 with size 2\n",
      "\n",
      "  warnings.warn(\n"
     ]
    },
    {
     "name": "stdout",
     "output_type": "stream",
     "text": [
      "7/7 [==============================] - 0s 751us/step\n"
     ]
    },
    {
     "name": "stderr",
     "output_type": "stream",
     "text": [
      "C:\\Users\\davul\\anaconda3\\lib\\site-packages\\sklearn\\model_selection\\_validation.py:770: UserWarning: Scoring failed. The score on this train-test partition for these parameters will be set to nan. Details: \n",
      "Traceback (most recent call last):\n",
      "  File \"C:\\Users\\davul\\anaconda3\\lib\\site-packages\\sklearn\\model_selection\\_validation.py\", line 761, in _score\n",
      "    scores = scorer(estimator, X_test, y_test)\n",
      "  File \"C:\\Users\\davul\\anaconda3\\lib\\site-packages\\sklearn\\metrics\\_scorer.py\", line 216, in __call__\n",
      "    return self._score(\n",
      "  File \"C:\\Users\\davul\\anaconda3\\lib\\site-packages\\sklearn\\metrics\\_scorer.py\", line 258, in _score\n",
      "    y_pred = method_caller(estimator, \"predict\", X)\n",
      "  File \"C:\\Users\\davul\\anaconda3\\lib\\site-packages\\sklearn\\metrics\\_scorer.py\", line 68, in _cached_call\n",
      "    return getattr(estimator, method)(*args, **kwargs)\n",
      "  File \"C:\\Users\\davul\\anaconda3\\lib\\site-packages\\scikeras\\wrappers.py\", line 1054, in predict\n",
      "    y_pred = self.target_encoder_.inverse_transform(y_pred)\n",
      "  File \"C:\\Users\\davul\\anaconda3\\lib\\site-packages\\scikeras\\utils\\transformers.py\", line 256, in inverse_transform\n",
      "    class_predictions = self._final_encoder.inverse_transform(class_predictions)\n",
      "  File \"C:\\Users\\davul\\anaconda3\\lib\\site-packages\\sklearn\\utils\\metaestimators.py\", line 113, in <lambda>\n",
      "    out = lambda *args, **kwargs: self.fn(obj, *args, **kwargs)  # noqa\n",
      "  File \"C:\\Users\\davul\\anaconda3\\lib\\site-packages\\sklearn\\pipeline.py\", line 675, in inverse_transform\n",
      "    Xt = transform.inverse_transform(Xt)\n",
      "  File \"C:\\Users\\davul\\anaconda3\\lib\\site-packages\\sklearn\\preprocessing\\_encoders.py\", line 990, in inverse_transform\n",
      "    X_tr[:, i] = self.categories_[i][labels]\n",
      "IndexError: index 7 is out of bounds for axis 0 with size 2\n",
      "\n",
      "  warnings.warn(\n"
     ]
    },
    {
     "name": "stdout",
     "output_type": "stream",
     "text": [
      "7/7 [==============================] - 0s 833us/step\n",
      "7/7 [==============================] - 0s 833us/step\n",
      "7/7 [==============================] - 0s 782us/step\n",
      "7/7 [==============================] - 0s 687us/step\n"
     ]
    },
    {
     "name": "stderr",
     "output_type": "stream",
     "text": [
      "C:\\Users\\davul\\anaconda3\\lib\\site-packages\\sklearn\\model_selection\\_validation.py:770: UserWarning: Scoring failed. The score on this train-test partition for these parameters will be set to nan. Details: \n",
      "Traceback (most recent call last):\n",
      "  File \"C:\\Users\\davul\\anaconda3\\lib\\site-packages\\sklearn\\model_selection\\_validation.py\", line 761, in _score\n",
      "    scores = scorer(estimator, X_test, y_test)\n",
      "  File \"C:\\Users\\davul\\anaconda3\\lib\\site-packages\\sklearn\\metrics\\_scorer.py\", line 216, in __call__\n",
      "    return self._score(\n",
      "  File \"C:\\Users\\davul\\anaconda3\\lib\\site-packages\\sklearn\\metrics\\_scorer.py\", line 258, in _score\n",
      "    y_pred = method_caller(estimator, \"predict\", X)\n",
      "  File \"C:\\Users\\davul\\anaconda3\\lib\\site-packages\\sklearn\\metrics\\_scorer.py\", line 68, in _cached_call\n",
      "    return getattr(estimator, method)(*args, **kwargs)\n",
      "  File \"C:\\Users\\davul\\anaconda3\\lib\\site-packages\\scikeras\\wrappers.py\", line 1054, in predict\n",
      "    y_pred = self.target_encoder_.inverse_transform(y_pred)\n",
      "  File \"C:\\Users\\davul\\anaconda3\\lib\\site-packages\\scikeras\\utils\\transformers.py\", line 256, in inverse_transform\n",
      "    class_predictions = self._final_encoder.inverse_transform(class_predictions)\n",
      "  File \"C:\\Users\\davul\\anaconda3\\lib\\site-packages\\sklearn\\utils\\metaestimators.py\", line 113, in <lambda>\n",
      "    out = lambda *args, **kwargs: self.fn(obj, *args, **kwargs)  # noqa\n",
      "  File \"C:\\Users\\davul\\anaconda3\\lib\\site-packages\\sklearn\\pipeline.py\", line 675, in inverse_transform\n",
      "    Xt = transform.inverse_transform(Xt)\n",
      "  File \"C:\\Users\\davul\\anaconda3\\lib\\site-packages\\sklearn\\preprocessing\\_encoders.py\", line 990, in inverse_transform\n",
      "    X_tr[:, i] = self.categories_[i][labels]\n",
      "IndexError: index 8 is out of bounds for axis 0 with size 2\n",
      "\n",
      "  warnings.warn(\n"
     ]
    },
    {
     "name": "stdout",
     "output_type": "stream",
     "text": [
      "7/7 [==============================] - 0s 760us/step\n"
     ]
    },
    {
     "name": "stderr",
     "output_type": "stream",
     "text": [
      "C:\\Users\\davul\\anaconda3\\lib\\site-packages\\sklearn\\model_selection\\_validation.py:770: UserWarning: Scoring failed. The score on this train-test partition for these parameters will be set to nan. Details: \n",
      "Traceback (most recent call last):\n",
      "  File \"C:\\Users\\davul\\anaconda3\\lib\\site-packages\\sklearn\\model_selection\\_validation.py\", line 761, in _score\n",
      "    scores = scorer(estimator, X_test, y_test)\n",
      "  File \"C:\\Users\\davul\\anaconda3\\lib\\site-packages\\sklearn\\metrics\\_scorer.py\", line 216, in __call__\n",
      "    return self._score(\n",
      "  File \"C:\\Users\\davul\\anaconda3\\lib\\site-packages\\sklearn\\metrics\\_scorer.py\", line 258, in _score\n",
      "    y_pred = method_caller(estimator, \"predict\", X)\n",
      "  File \"C:\\Users\\davul\\anaconda3\\lib\\site-packages\\sklearn\\metrics\\_scorer.py\", line 68, in _cached_call\n",
      "    return getattr(estimator, method)(*args, **kwargs)\n",
      "  File \"C:\\Users\\davul\\anaconda3\\lib\\site-packages\\scikeras\\wrappers.py\", line 1054, in predict\n",
      "    y_pred = self.target_encoder_.inverse_transform(y_pred)\n",
      "  File \"C:\\Users\\davul\\anaconda3\\lib\\site-packages\\scikeras\\utils\\transformers.py\", line 256, in inverse_transform\n",
      "    class_predictions = self._final_encoder.inverse_transform(class_predictions)\n",
      "  File \"C:\\Users\\davul\\anaconda3\\lib\\site-packages\\sklearn\\utils\\metaestimators.py\", line 113, in <lambda>\n",
      "    out = lambda *args, **kwargs: self.fn(obj, *args, **kwargs)  # noqa\n",
      "  File \"C:\\Users\\davul\\anaconda3\\lib\\site-packages\\sklearn\\pipeline.py\", line 675, in inverse_transform\n",
      "    Xt = transform.inverse_transform(Xt)\n",
      "  File \"C:\\Users\\davul\\anaconda3\\lib\\site-packages\\sklearn\\preprocessing\\_encoders.py\", line 990, in inverse_transform\n",
      "    X_tr[:, i] = self.categories_[i][labels]\n",
      "IndexError: index 8 is out of bounds for axis 0 with size 2\n",
      "\n",
      "  warnings.warn(\n"
     ]
    },
    {
     "name": "stdout",
     "output_type": "stream",
     "text": [
      "7/7 [==============================] - 0s 834us/step\n",
      "7/7 [==============================] - 0s 742us/step\n",
      "3/3 [==============================] - 0s 2ms/step\n",
      "3/3 [==============================] - 0s 1ms/step\n"
     ]
    },
    {
     "name": "stderr",
     "output_type": "stream",
     "text": [
      "C:\\Users\\davul\\anaconda3\\lib\\site-packages\\sklearn\\model_selection\\_validation.py:770: UserWarning: Scoring failed. The score on this train-test partition for these parameters will be set to nan. Details: \n",
      "Traceback (most recent call last):\n",
      "  File \"C:\\Users\\davul\\anaconda3\\lib\\site-packages\\sklearn\\model_selection\\_validation.py\", line 761, in _score\n",
      "    scores = scorer(estimator, X_test, y_test)\n",
      "  File \"C:\\Users\\davul\\anaconda3\\lib\\site-packages\\sklearn\\metrics\\_scorer.py\", line 216, in __call__\n",
      "    return self._score(\n",
      "  File \"C:\\Users\\davul\\anaconda3\\lib\\site-packages\\sklearn\\metrics\\_scorer.py\", line 258, in _score\n",
      "    y_pred = method_caller(estimator, \"predict\", X)\n",
      "  File \"C:\\Users\\davul\\anaconda3\\lib\\site-packages\\sklearn\\metrics\\_scorer.py\", line 68, in _cached_call\n",
      "    return getattr(estimator, method)(*args, **kwargs)\n",
      "  File \"C:\\Users\\davul\\anaconda3\\lib\\site-packages\\scikeras\\wrappers.py\", line 1054, in predict\n",
      "    y_pred = self.target_encoder_.inverse_transform(y_pred)\n",
      "  File \"C:\\Users\\davul\\anaconda3\\lib\\site-packages\\scikeras\\utils\\transformers.py\", line 256, in inverse_transform\n",
      "    class_predictions = self._final_encoder.inverse_transform(class_predictions)\n",
      "  File \"C:\\Users\\davul\\anaconda3\\lib\\site-packages\\sklearn\\utils\\metaestimators.py\", line 113, in <lambda>\n",
      "    out = lambda *args, **kwargs: self.fn(obj, *args, **kwargs)  # noqa\n",
      "  File \"C:\\Users\\davul\\anaconda3\\lib\\site-packages\\sklearn\\pipeline.py\", line 675, in inverse_transform\n",
      "    Xt = transform.inverse_transform(Xt)\n",
      "  File \"C:\\Users\\davul\\anaconda3\\lib\\site-packages\\sklearn\\preprocessing\\_encoders.py\", line 990, in inverse_transform\n",
      "    X_tr[:, i] = self.categories_[i][labels]\n",
      "IndexError: index 8 is out of bounds for axis 0 with size 2\n",
      "\n",
      "  warnings.warn(\n"
     ]
    },
    {
     "name": "stdout",
     "output_type": "stream",
     "text": [
      "3/3 [==============================] - 0s 1ms/step\n"
     ]
    },
    {
     "name": "stderr",
     "output_type": "stream",
     "text": [
      "C:\\Users\\davul\\anaconda3\\lib\\site-packages\\sklearn\\model_selection\\_validation.py:770: UserWarning: Scoring failed. The score on this train-test partition for these parameters will be set to nan. Details: \n",
      "Traceback (most recent call last):\n",
      "  File \"C:\\Users\\davul\\anaconda3\\lib\\site-packages\\sklearn\\model_selection\\_validation.py\", line 761, in _score\n",
      "    scores = scorer(estimator, X_test, y_test)\n",
      "  File \"C:\\Users\\davul\\anaconda3\\lib\\site-packages\\sklearn\\metrics\\_scorer.py\", line 216, in __call__\n",
      "    return self._score(\n",
      "  File \"C:\\Users\\davul\\anaconda3\\lib\\site-packages\\sklearn\\metrics\\_scorer.py\", line 258, in _score\n",
      "    y_pred = method_caller(estimator, \"predict\", X)\n",
      "  File \"C:\\Users\\davul\\anaconda3\\lib\\site-packages\\sklearn\\metrics\\_scorer.py\", line 68, in _cached_call\n",
      "    return getattr(estimator, method)(*args, **kwargs)\n",
      "  File \"C:\\Users\\davul\\anaconda3\\lib\\site-packages\\scikeras\\wrappers.py\", line 1054, in predict\n",
      "    y_pred = self.target_encoder_.inverse_transform(y_pred)\n",
      "  File \"C:\\Users\\davul\\anaconda3\\lib\\site-packages\\scikeras\\utils\\transformers.py\", line 256, in inverse_transform\n",
      "    class_predictions = self._final_encoder.inverse_transform(class_predictions)\n",
      "  File \"C:\\Users\\davul\\anaconda3\\lib\\site-packages\\sklearn\\utils\\metaestimators.py\", line 113, in <lambda>\n",
      "    out = lambda *args, **kwargs: self.fn(obj, *args, **kwargs)  # noqa\n",
      "  File \"C:\\Users\\davul\\anaconda3\\lib\\site-packages\\sklearn\\pipeline.py\", line 675, in inverse_transform\n",
      "    Xt = transform.inverse_transform(Xt)\n",
      "  File \"C:\\Users\\davul\\anaconda3\\lib\\site-packages\\sklearn\\preprocessing\\_encoders.py\", line 990, in inverse_transform\n",
      "    X_tr[:, i] = self.categories_[i][labels]\n",
      "IndexError: index 8 is out of bounds for axis 0 with size 2\n",
      "\n",
      "  warnings.warn(\n"
     ]
    },
    {
     "name": "stdout",
     "output_type": "stream",
     "text": [
      "3/3 [==============================] - 0s 1ms/step\n",
      "3/3 [==============================] - 0s 1ms/step\n"
     ]
    },
    {
     "name": "stderr",
     "output_type": "stream",
     "text": [
      "C:\\Users\\davul\\anaconda3\\lib\\site-packages\\sklearn\\model_selection\\_validation.py:770: UserWarning: Scoring failed. The score on this train-test partition for these parameters will be set to nan. Details: \n",
      "Traceback (most recent call last):\n",
      "  File \"C:\\Users\\davul\\anaconda3\\lib\\site-packages\\sklearn\\model_selection\\_validation.py\", line 761, in _score\n",
      "    scores = scorer(estimator, X_test, y_test)\n",
      "  File \"C:\\Users\\davul\\anaconda3\\lib\\site-packages\\sklearn\\metrics\\_scorer.py\", line 216, in __call__\n",
      "    return self._score(\n",
      "  File \"C:\\Users\\davul\\anaconda3\\lib\\site-packages\\sklearn\\metrics\\_scorer.py\", line 258, in _score\n",
      "    y_pred = method_caller(estimator, \"predict\", X)\n",
      "  File \"C:\\Users\\davul\\anaconda3\\lib\\site-packages\\sklearn\\metrics\\_scorer.py\", line 68, in _cached_call\n",
      "    return getattr(estimator, method)(*args, **kwargs)\n",
      "  File \"C:\\Users\\davul\\anaconda3\\lib\\site-packages\\scikeras\\wrappers.py\", line 1054, in predict\n",
      "    y_pred = self.target_encoder_.inverse_transform(y_pred)\n",
      "  File \"C:\\Users\\davul\\anaconda3\\lib\\site-packages\\scikeras\\utils\\transformers.py\", line 256, in inverse_transform\n",
      "    class_predictions = self._final_encoder.inverse_transform(class_predictions)\n",
      "  File \"C:\\Users\\davul\\anaconda3\\lib\\site-packages\\sklearn\\utils\\metaestimators.py\", line 113, in <lambda>\n",
      "    out = lambda *args, **kwargs: self.fn(obj, *args, **kwargs)  # noqa\n",
      "  File \"C:\\Users\\davul\\anaconda3\\lib\\site-packages\\sklearn\\pipeline.py\", line 675, in inverse_transform\n",
      "    Xt = transform.inverse_transform(Xt)\n",
      "  File \"C:\\Users\\davul\\anaconda3\\lib\\site-packages\\sklearn\\preprocessing\\_encoders.py\", line 990, in inverse_transform\n",
      "    X_tr[:, i] = self.categories_[i][labels]\n",
      "IndexError: index 3 is out of bounds for axis 0 with size 2\n",
      "\n",
      "  warnings.warn(\n"
     ]
    },
    {
     "name": "stdout",
     "output_type": "stream",
     "text": [
      "7/7 [==============================] - 0s 771us/step\n",
      "7/7 [==============================] - 0s 809us/step\n"
     ]
    },
    {
     "name": "stderr",
     "output_type": "stream",
     "text": [
      "C:\\Users\\davul\\anaconda3\\lib\\site-packages\\sklearn\\model_selection\\_validation.py:770: UserWarning: Scoring failed. The score on this train-test partition for these parameters will be set to nan. Details: \n",
      "Traceback (most recent call last):\n",
      "  File \"C:\\Users\\davul\\anaconda3\\lib\\site-packages\\sklearn\\model_selection\\_validation.py\", line 761, in _score\n",
      "    scores = scorer(estimator, X_test, y_test)\n",
      "  File \"C:\\Users\\davul\\anaconda3\\lib\\site-packages\\sklearn\\metrics\\_scorer.py\", line 216, in __call__\n",
      "    return self._score(\n",
      "  File \"C:\\Users\\davul\\anaconda3\\lib\\site-packages\\sklearn\\metrics\\_scorer.py\", line 258, in _score\n",
      "    y_pred = method_caller(estimator, \"predict\", X)\n",
      "  File \"C:\\Users\\davul\\anaconda3\\lib\\site-packages\\sklearn\\metrics\\_scorer.py\", line 68, in _cached_call\n",
      "    return getattr(estimator, method)(*args, **kwargs)\n",
      "  File \"C:\\Users\\davul\\anaconda3\\lib\\site-packages\\scikeras\\wrappers.py\", line 1054, in predict\n",
      "    y_pred = self.target_encoder_.inverse_transform(y_pred)\n",
      "  File \"C:\\Users\\davul\\anaconda3\\lib\\site-packages\\scikeras\\utils\\transformers.py\", line 256, in inverse_transform\n",
      "    class_predictions = self._final_encoder.inverse_transform(class_predictions)\n",
      "  File \"C:\\Users\\davul\\anaconda3\\lib\\site-packages\\sklearn\\utils\\metaestimators.py\", line 113, in <lambda>\n",
      "    out = lambda *args, **kwargs: self.fn(obj, *args, **kwargs)  # noqa\n",
      "  File \"C:\\Users\\davul\\anaconda3\\lib\\site-packages\\sklearn\\pipeline.py\", line 675, in inverse_transform\n",
      "    Xt = transform.inverse_transform(Xt)\n",
      "  File \"C:\\Users\\davul\\anaconda3\\lib\\site-packages\\sklearn\\preprocessing\\_encoders.py\", line 990, in inverse_transform\n",
      "    X_tr[:, i] = self.categories_[i][labels]\n",
      "IndexError: index 7 is out of bounds for axis 0 with size 2\n",
      "\n",
      "  warnings.warn(\n"
     ]
    },
    {
     "name": "stdout",
     "output_type": "stream",
     "text": [
      "7/7 [==============================] - 0s 784us/step\n"
     ]
    },
    {
     "name": "stderr",
     "output_type": "stream",
     "text": [
      "C:\\Users\\davul\\anaconda3\\lib\\site-packages\\sklearn\\model_selection\\_validation.py:770: UserWarning: Scoring failed. The score on this train-test partition for these parameters will be set to nan. Details: \n",
      "Traceback (most recent call last):\n",
      "  File \"C:\\Users\\davul\\anaconda3\\lib\\site-packages\\sklearn\\model_selection\\_validation.py\", line 761, in _score\n",
      "    scores = scorer(estimator, X_test, y_test)\n",
      "  File \"C:\\Users\\davul\\anaconda3\\lib\\site-packages\\sklearn\\metrics\\_scorer.py\", line 216, in __call__\n",
      "    return self._score(\n",
      "  File \"C:\\Users\\davul\\anaconda3\\lib\\site-packages\\sklearn\\metrics\\_scorer.py\", line 258, in _score\n",
      "    y_pred = method_caller(estimator, \"predict\", X)\n",
      "  File \"C:\\Users\\davul\\anaconda3\\lib\\site-packages\\sklearn\\metrics\\_scorer.py\", line 68, in _cached_call\n",
      "    return getattr(estimator, method)(*args, **kwargs)\n",
      "  File \"C:\\Users\\davul\\anaconda3\\lib\\site-packages\\scikeras\\wrappers.py\", line 1054, in predict\n",
      "    y_pred = self.target_encoder_.inverse_transform(y_pred)\n",
      "  File \"C:\\Users\\davul\\anaconda3\\lib\\site-packages\\scikeras\\utils\\transformers.py\", line 256, in inverse_transform\n",
      "    class_predictions = self._final_encoder.inverse_transform(class_predictions)\n",
      "  File \"C:\\Users\\davul\\anaconda3\\lib\\site-packages\\sklearn\\utils\\metaestimators.py\", line 113, in <lambda>\n",
      "    out = lambda *args, **kwargs: self.fn(obj, *args, **kwargs)  # noqa\n",
      "  File \"C:\\Users\\davul\\anaconda3\\lib\\site-packages\\sklearn\\pipeline.py\", line 675, in inverse_transform\n",
      "    Xt = transform.inverse_transform(Xt)\n",
      "  File \"C:\\Users\\davul\\anaconda3\\lib\\site-packages\\sklearn\\preprocessing\\_encoders.py\", line 990, in inverse_transform\n",
      "    X_tr[:, i] = self.categories_[i][labels]\n",
      "IndexError: index 2 is out of bounds for axis 0 with size 2\n",
      "\n",
      "  warnings.warn(\n"
     ]
    },
    {
     "name": "stdout",
     "output_type": "stream",
     "text": [
      "7/7 [==============================] - 0s 803us/step\n",
      "7/7 [==============================] - 0s 763us/step\n",
      "3/3 [==============================] - 0s 1ms/step\n"
     ]
    },
    {
     "name": "stderr",
     "output_type": "stream",
     "text": [
      "C:\\Users\\davul\\anaconda3\\lib\\site-packages\\sklearn\\model_selection\\_validation.py:770: UserWarning: Scoring failed. The score on this train-test partition for these parameters will be set to nan. Details: \n",
      "Traceback (most recent call last):\n",
      "  File \"C:\\Users\\davul\\anaconda3\\lib\\site-packages\\sklearn\\model_selection\\_validation.py\", line 761, in _score\n",
      "    scores = scorer(estimator, X_test, y_test)\n",
      "  File \"C:\\Users\\davul\\anaconda3\\lib\\site-packages\\sklearn\\metrics\\_scorer.py\", line 216, in __call__\n",
      "    return self._score(\n",
      "  File \"C:\\Users\\davul\\anaconda3\\lib\\site-packages\\sklearn\\metrics\\_scorer.py\", line 258, in _score\n",
      "    y_pred = method_caller(estimator, \"predict\", X)\n",
      "  File \"C:\\Users\\davul\\anaconda3\\lib\\site-packages\\sklearn\\metrics\\_scorer.py\", line 68, in _cached_call\n",
      "    return getattr(estimator, method)(*args, **kwargs)\n",
      "  File \"C:\\Users\\davul\\anaconda3\\lib\\site-packages\\scikeras\\wrappers.py\", line 1054, in predict\n",
      "    y_pred = self.target_encoder_.inverse_transform(y_pred)\n",
      "  File \"C:\\Users\\davul\\anaconda3\\lib\\site-packages\\scikeras\\utils\\transformers.py\", line 256, in inverse_transform\n",
      "    class_predictions = self._final_encoder.inverse_transform(class_predictions)\n",
      "  File \"C:\\Users\\davul\\anaconda3\\lib\\site-packages\\sklearn\\utils\\metaestimators.py\", line 113, in <lambda>\n",
      "    out = lambda *args, **kwargs: self.fn(obj, *args, **kwargs)  # noqa\n",
      "  File \"C:\\Users\\davul\\anaconda3\\lib\\site-packages\\sklearn\\pipeline.py\", line 675, in inverse_transform\n",
      "    Xt = transform.inverse_transform(Xt)\n",
      "  File \"C:\\Users\\davul\\anaconda3\\lib\\site-packages\\sklearn\\preprocessing\\_encoders.py\", line 990, in inverse_transform\n",
      "    X_tr[:, i] = self.categories_[i][labels]\n",
      "IndexError: index 5 is out of bounds for axis 0 with size 2\n",
      "\n",
      "  warnings.warn(\n"
     ]
    },
    {
     "name": "stdout",
     "output_type": "stream",
     "text": [
      "3/3 [==============================] - 0s 1ms/step\n"
     ]
    },
    {
     "name": "stderr",
     "output_type": "stream",
     "text": [
      "C:\\Users\\davul\\anaconda3\\lib\\site-packages\\sklearn\\model_selection\\_validation.py:770: UserWarning: Scoring failed. The score on this train-test partition for these parameters will be set to nan. Details: \n",
      "Traceback (most recent call last):\n",
      "  File \"C:\\Users\\davul\\anaconda3\\lib\\site-packages\\sklearn\\model_selection\\_validation.py\", line 761, in _score\n",
      "    scores = scorer(estimator, X_test, y_test)\n",
      "  File \"C:\\Users\\davul\\anaconda3\\lib\\site-packages\\sklearn\\metrics\\_scorer.py\", line 216, in __call__\n",
      "    return self._score(\n",
      "  File \"C:\\Users\\davul\\anaconda3\\lib\\site-packages\\sklearn\\metrics\\_scorer.py\", line 258, in _score\n",
      "    y_pred = method_caller(estimator, \"predict\", X)\n",
      "  File \"C:\\Users\\davul\\anaconda3\\lib\\site-packages\\sklearn\\metrics\\_scorer.py\", line 68, in _cached_call\n",
      "    return getattr(estimator, method)(*args, **kwargs)\n",
      "  File \"C:\\Users\\davul\\anaconda3\\lib\\site-packages\\scikeras\\wrappers.py\", line 1054, in predict\n",
      "    y_pred = self.target_encoder_.inverse_transform(y_pred)\n",
      "  File \"C:\\Users\\davul\\anaconda3\\lib\\site-packages\\scikeras\\utils\\transformers.py\", line 256, in inverse_transform\n",
      "    class_predictions = self._final_encoder.inverse_transform(class_predictions)\n",
      "  File \"C:\\Users\\davul\\anaconda3\\lib\\site-packages\\sklearn\\utils\\metaestimators.py\", line 113, in <lambda>\n",
      "    out = lambda *args, **kwargs: self.fn(obj, *args, **kwargs)  # noqa\n",
      "  File \"C:\\Users\\davul\\anaconda3\\lib\\site-packages\\sklearn\\pipeline.py\", line 675, in inverse_transform\n",
      "    Xt = transform.inverse_transform(Xt)\n",
      "  File \"C:\\Users\\davul\\anaconda3\\lib\\site-packages\\sklearn\\preprocessing\\_encoders.py\", line 990, in inverse_transform\n",
      "    X_tr[:, i] = self.categories_[i][labels]\n",
      "IndexError: index 3 is out of bounds for axis 0 with size 2\n",
      "\n",
      "  warnings.warn(\n"
     ]
    },
    {
     "name": "stdout",
     "output_type": "stream",
     "text": [
      "3/3 [==============================] - 0s 2ms/step\n"
     ]
    },
    {
     "name": "stderr",
     "output_type": "stream",
     "text": [
      "C:\\Users\\davul\\anaconda3\\lib\\site-packages\\sklearn\\model_selection\\_validation.py:770: UserWarning: Scoring failed. The score on this train-test partition for these parameters will be set to nan. Details: \n",
      "Traceback (most recent call last):\n",
      "  File \"C:\\Users\\davul\\anaconda3\\lib\\site-packages\\sklearn\\model_selection\\_validation.py\", line 761, in _score\n",
      "    scores = scorer(estimator, X_test, y_test)\n",
      "  File \"C:\\Users\\davul\\anaconda3\\lib\\site-packages\\sklearn\\metrics\\_scorer.py\", line 216, in __call__\n",
      "    return self._score(\n",
      "  File \"C:\\Users\\davul\\anaconda3\\lib\\site-packages\\sklearn\\metrics\\_scorer.py\", line 258, in _score\n",
      "    y_pred = method_caller(estimator, \"predict\", X)\n",
      "  File \"C:\\Users\\davul\\anaconda3\\lib\\site-packages\\sklearn\\metrics\\_scorer.py\", line 68, in _cached_call\n",
      "    return getattr(estimator, method)(*args, **kwargs)\n",
      "  File \"C:\\Users\\davul\\anaconda3\\lib\\site-packages\\scikeras\\wrappers.py\", line 1054, in predict\n",
      "    y_pred = self.target_encoder_.inverse_transform(y_pred)\n",
      "  File \"C:\\Users\\davul\\anaconda3\\lib\\site-packages\\scikeras\\utils\\transformers.py\", line 256, in inverse_transform\n",
      "    class_predictions = self._final_encoder.inverse_transform(class_predictions)\n",
      "  File \"C:\\Users\\davul\\anaconda3\\lib\\site-packages\\sklearn\\utils\\metaestimators.py\", line 113, in <lambda>\n",
      "    out = lambda *args, **kwargs: self.fn(obj, *args, **kwargs)  # noqa\n",
      "  File \"C:\\Users\\davul\\anaconda3\\lib\\site-packages\\sklearn\\pipeline.py\", line 675, in inverse_transform\n",
      "    Xt = transform.inverse_transform(Xt)\n",
      "  File \"C:\\Users\\davul\\anaconda3\\lib\\site-packages\\sklearn\\preprocessing\\_encoders.py\", line 990, in inverse_transform\n",
      "    X_tr[:, i] = self.categories_[i][labels]\n",
      "IndexError: index 5 is out of bounds for axis 0 with size 2\n",
      "\n",
      "  warnings.warn(\n"
     ]
    },
    {
     "name": "stdout",
     "output_type": "stream",
     "text": [
      "3/3 [==============================] - 0s 1ms/step\n",
      "3/3 [==============================] - 0s 1ms/step\n",
      "3/3 [==============================] - 0s 2ms/step\n"
     ]
    },
    {
     "name": "stderr",
     "output_type": "stream",
     "text": [
      "C:\\Users\\davul\\anaconda3\\lib\\site-packages\\sklearn\\model_selection\\_validation.py:770: UserWarning: Scoring failed. The score on this train-test partition for these parameters will be set to nan. Details: \n",
      "Traceback (most recent call last):\n",
      "  File \"C:\\Users\\davul\\anaconda3\\lib\\site-packages\\sklearn\\model_selection\\_validation.py\", line 761, in _score\n",
      "    scores = scorer(estimator, X_test, y_test)\n",
      "  File \"C:\\Users\\davul\\anaconda3\\lib\\site-packages\\sklearn\\metrics\\_scorer.py\", line 216, in __call__\n",
      "    return self._score(\n",
      "  File \"C:\\Users\\davul\\anaconda3\\lib\\site-packages\\sklearn\\metrics\\_scorer.py\", line 258, in _score\n",
      "    y_pred = method_caller(estimator, \"predict\", X)\n",
      "  File \"C:\\Users\\davul\\anaconda3\\lib\\site-packages\\sklearn\\metrics\\_scorer.py\", line 68, in _cached_call\n",
      "    return getattr(estimator, method)(*args, **kwargs)\n",
      "  File \"C:\\Users\\davul\\anaconda3\\lib\\site-packages\\scikeras\\wrappers.py\", line 1054, in predict\n",
      "    y_pred = self.target_encoder_.inverse_transform(y_pred)\n",
      "  File \"C:\\Users\\davul\\anaconda3\\lib\\site-packages\\scikeras\\utils\\transformers.py\", line 256, in inverse_transform\n",
      "    class_predictions = self._final_encoder.inverse_transform(class_predictions)\n",
      "  File \"C:\\Users\\davul\\anaconda3\\lib\\site-packages\\sklearn\\utils\\metaestimators.py\", line 113, in <lambda>\n",
      "    out = lambda *args, **kwargs: self.fn(obj, *args, **kwargs)  # noqa\n",
      "  File \"C:\\Users\\davul\\anaconda3\\lib\\site-packages\\sklearn\\pipeline.py\", line 675, in inverse_transform\n",
      "    Xt = transform.inverse_transform(Xt)\n",
      "  File \"C:\\Users\\davul\\anaconda3\\lib\\site-packages\\sklearn\\preprocessing\\_encoders.py\", line 990, in inverse_transform\n",
      "    X_tr[:, i] = self.categories_[i][labels]\n",
      "IndexError: index 9 is out of bounds for axis 0 with size 2\n",
      "\n",
      "  warnings.warn(\n"
     ]
    },
    {
     "name": "stdout",
     "output_type": "stream",
     "text": [
      "3/3 [==============================] - 0s 1ms/step\n"
     ]
    },
    {
     "name": "stderr",
     "output_type": "stream",
     "text": [
      "C:\\Users\\davul\\anaconda3\\lib\\site-packages\\sklearn\\model_selection\\_validation.py:770: UserWarning: Scoring failed. The score on this train-test partition for these parameters will be set to nan. Details: \n",
      "Traceback (most recent call last):\n",
      "  File \"C:\\Users\\davul\\anaconda3\\lib\\site-packages\\sklearn\\model_selection\\_validation.py\", line 761, in _score\n",
      "    scores = scorer(estimator, X_test, y_test)\n",
      "  File \"C:\\Users\\davul\\anaconda3\\lib\\site-packages\\sklearn\\metrics\\_scorer.py\", line 216, in __call__\n",
      "    return self._score(\n",
      "  File \"C:\\Users\\davul\\anaconda3\\lib\\site-packages\\sklearn\\metrics\\_scorer.py\", line 258, in _score\n",
      "    y_pred = method_caller(estimator, \"predict\", X)\n",
      "  File \"C:\\Users\\davul\\anaconda3\\lib\\site-packages\\sklearn\\metrics\\_scorer.py\", line 68, in _cached_call\n",
      "    return getattr(estimator, method)(*args, **kwargs)\n",
      "  File \"C:\\Users\\davul\\anaconda3\\lib\\site-packages\\scikeras\\wrappers.py\", line 1054, in predict\n",
      "    y_pred = self.target_encoder_.inverse_transform(y_pred)\n",
      "  File \"C:\\Users\\davul\\anaconda3\\lib\\site-packages\\scikeras\\utils\\transformers.py\", line 256, in inverse_transform\n",
      "    class_predictions = self._final_encoder.inverse_transform(class_predictions)\n",
      "  File \"C:\\Users\\davul\\anaconda3\\lib\\site-packages\\sklearn\\utils\\metaestimators.py\", line 113, in <lambda>\n",
      "    out = lambda *args, **kwargs: self.fn(obj, *args, **kwargs)  # noqa\n",
      "  File \"C:\\Users\\davul\\anaconda3\\lib\\site-packages\\sklearn\\pipeline.py\", line 675, in inverse_transform\n",
      "    Xt = transform.inverse_transform(Xt)\n",
      "  File \"C:\\Users\\davul\\anaconda3\\lib\\site-packages\\sklearn\\preprocessing\\_encoders.py\", line 990, in inverse_transform\n",
      "    X_tr[:, i] = self.categories_[i][labels]\n",
      "IndexError: index 9 is out of bounds for axis 0 with size 2\n",
      "\n",
      "  warnings.warn(\n"
     ]
    },
    {
     "name": "stdout",
     "output_type": "stream",
     "text": [
      "3/3 [==============================] - 0s 1ms/step\n"
     ]
    },
    {
     "name": "stderr",
     "output_type": "stream",
     "text": [
      "C:\\Users\\davul\\anaconda3\\lib\\site-packages\\sklearn\\model_selection\\_validation.py:770: UserWarning: Scoring failed. The score on this train-test partition for these parameters will be set to nan. Details: \n",
      "Traceback (most recent call last):\n",
      "  File \"C:\\Users\\davul\\anaconda3\\lib\\site-packages\\sklearn\\model_selection\\_validation.py\", line 761, in _score\n",
      "    scores = scorer(estimator, X_test, y_test)\n",
      "  File \"C:\\Users\\davul\\anaconda3\\lib\\site-packages\\sklearn\\metrics\\_scorer.py\", line 216, in __call__\n",
      "    return self._score(\n",
      "  File \"C:\\Users\\davul\\anaconda3\\lib\\site-packages\\sklearn\\metrics\\_scorer.py\", line 258, in _score\n",
      "    y_pred = method_caller(estimator, \"predict\", X)\n",
      "  File \"C:\\Users\\davul\\anaconda3\\lib\\site-packages\\sklearn\\metrics\\_scorer.py\", line 68, in _cached_call\n",
      "    return getattr(estimator, method)(*args, **kwargs)\n",
      "  File \"C:\\Users\\davul\\anaconda3\\lib\\site-packages\\scikeras\\wrappers.py\", line 1054, in predict\n",
      "    y_pred = self.target_encoder_.inverse_transform(y_pred)\n",
      "  File \"C:\\Users\\davul\\anaconda3\\lib\\site-packages\\scikeras\\utils\\transformers.py\", line 256, in inverse_transform\n",
      "    class_predictions = self._final_encoder.inverse_transform(class_predictions)\n",
      "  File \"C:\\Users\\davul\\anaconda3\\lib\\site-packages\\sklearn\\utils\\metaestimators.py\", line 113, in <lambda>\n",
      "    out = lambda *args, **kwargs: self.fn(obj, *args, **kwargs)  # noqa\n",
      "  File \"C:\\Users\\davul\\anaconda3\\lib\\site-packages\\sklearn\\pipeline.py\", line 675, in inverse_transform\n",
      "    Xt = transform.inverse_transform(Xt)\n",
      "  File \"C:\\Users\\davul\\anaconda3\\lib\\site-packages\\sklearn\\preprocessing\\_encoders.py\", line 990, in inverse_transform\n",
      "    X_tr[:, i] = self.categories_[i][labels]\n",
      "IndexError: index 8 is out of bounds for axis 0 with size 2\n",
      "\n",
      "  warnings.warn(\n"
     ]
    },
    {
     "name": "stdout",
     "output_type": "stream",
     "text": [
      "3/3 [==============================] - 0s 2ms/step\n"
     ]
    },
    {
     "name": "stderr",
     "output_type": "stream",
     "text": [
      "C:\\Users\\davul\\anaconda3\\lib\\site-packages\\sklearn\\model_selection\\_validation.py:770: UserWarning: Scoring failed. The score on this train-test partition for these parameters will be set to nan. Details: \n",
      "Traceback (most recent call last):\n",
      "  File \"C:\\Users\\davul\\anaconda3\\lib\\site-packages\\sklearn\\model_selection\\_validation.py\", line 761, in _score\n",
      "    scores = scorer(estimator, X_test, y_test)\n",
      "  File \"C:\\Users\\davul\\anaconda3\\lib\\site-packages\\sklearn\\metrics\\_scorer.py\", line 216, in __call__\n",
      "    return self._score(\n",
      "  File \"C:\\Users\\davul\\anaconda3\\lib\\site-packages\\sklearn\\metrics\\_scorer.py\", line 258, in _score\n",
      "    y_pred = method_caller(estimator, \"predict\", X)\n",
      "  File \"C:\\Users\\davul\\anaconda3\\lib\\site-packages\\sklearn\\metrics\\_scorer.py\", line 68, in _cached_call\n",
      "    return getattr(estimator, method)(*args, **kwargs)\n",
      "  File \"C:\\Users\\davul\\anaconda3\\lib\\site-packages\\scikeras\\wrappers.py\", line 1054, in predict\n",
      "    y_pred = self.target_encoder_.inverse_transform(y_pred)\n",
      "  File \"C:\\Users\\davul\\anaconda3\\lib\\site-packages\\scikeras\\utils\\transformers.py\", line 256, in inverse_transform\n",
      "    class_predictions = self._final_encoder.inverse_transform(class_predictions)\n",
      "  File \"C:\\Users\\davul\\anaconda3\\lib\\site-packages\\sklearn\\utils\\metaestimators.py\", line 113, in <lambda>\n",
      "    out = lambda *args, **kwargs: self.fn(obj, *args, **kwargs)  # noqa\n",
      "  File \"C:\\Users\\davul\\anaconda3\\lib\\site-packages\\sklearn\\pipeline.py\", line 675, in inverse_transform\n",
      "    Xt = transform.inverse_transform(Xt)\n",
      "  File \"C:\\Users\\davul\\anaconda3\\lib\\site-packages\\sklearn\\preprocessing\\_encoders.py\", line 990, in inverse_transform\n",
      "    X_tr[:, i] = self.categories_[i][labels]\n",
      "IndexError: index 9 is out of bounds for axis 0 with size 2\n",
      "\n",
      "  warnings.warn(\n"
     ]
    },
    {
     "name": "stdout",
     "output_type": "stream",
     "text": [
      "3/3 [==============================] - 0s 2ms/step\n"
     ]
    },
    {
     "name": "stderr",
     "output_type": "stream",
     "text": [
      "C:\\Users\\davul\\anaconda3\\lib\\site-packages\\sklearn\\model_selection\\_validation.py:770: UserWarning: Scoring failed. The score on this train-test partition for these parameters will be set to nan. Details: \n",
      "Traceback (most recent call last):\n",
      "  File \"C:\\Users\\davul\\anaconda3\\lib\\site-packages\\sklearn\\model_selection\\_validation.py\", line 761, in _score\n",
      "    scores = scorer(estimator, X_test, y_test)\n",
      "  File \"C:\\Users\\davul\\anaconda3\\lib\\site-packages\\sklearn\\metrics\\_scorer.py\", line 216, in __call__\n",
      "    return self._score(\n",
      "  File \"C:\\Users\\davul\\anaconda3\\lib\\site-packages\\sklearn\\metrics\\_scorer.py\", line 258, in _score\n",
      "    y_pred = method_caller(estimator, \"predict\", X)\n",
      "  File \"C:\\Users\\davul\\anaconda3\\lib\\site-packages\\sklearn\\metrics\\_scorer.py\", line 68, in _cached_call\n",
      "    return getattr(estimator, method)(*args, **kwargs)\n",
      "  File \"C:\\Users\\davul\\anaconda3\\lib\\site-packages\\scikeras\\wrappers.py\", line 1054, in predict\n",
      "    y_pred = self.target_encoder_.inverse_transform(y_pred)\n",
      "  File \"C:\\Users\\davul\\anaconda3\\lib\\site-packages\\scikeras\\utils\\transformers.py\", line 256, in inverse_transform\n",
      "    class_predictions = self._final_encoder.inverse_transform(class_predictions)\n",
      "  File \"C:\\Users\\davul\\anaconda3\\lib\\site-packages\\sklearn\\utils\\metaestimators.py\", line 113, in <lambda>\n",
      "    out = lambda *args, **kwargs: self.fn(obj, *args, **kwargs)  # noqa\n",
      "  File \"C:\\Users\\davul\\anaconda3\\lib\\site-packages\\sklearn\\pipeline.py\", line 675, in inverse_transform\n",
      "    Xt = transform.inverse_transform(Xt)\n",
      "  File \"C:\\Users\\davul\\anaconda3\\lib\\site-packages\\sklearn\\preprocessing\\_encoders.py\", line 990, in inverse_transform\n",
      "    X_tr[:, i] = self.categories_[i][labels]\n",
      "IndexError: index 3 is out of bounds for axis 0 with size 2\n",
      "\n",
      "  warnings.warn(\n"
     ]
    },
    {
     "name": "stdout",
     "output_type": "stream",
     "text": [
      "3/3 [==============================] - 0s 2ms/step\n"
     ]
    },
    {
     "name": "stderr",
     "output_type": "stream",
     "text": [
      "C:\\Users\\davul\\anaconda3\\lib\\site-packages\\sklearn\\model_selection\\_validation.py:770: UserWarning: Scoring failed. The score on this train-test partition for these parameters will be set to nan. Details: \n",
      "Traceback (most recent call last):\n",
      "  File \"C:\\Users\\davul\\anaconda3\\lib\\site-packages\\sklearn\\model_selection\\_validation.py\", line 761, in _score\n",
      "    scores = scorer(estimator, X_test, y_test)\n",
      "  File \"C:\\Users\\davul\\anaconda3\\lib\\site-packages\\sklearn\\metrics\\_scorer.py\", line 216, in __call__\n",
      "    return self._score(\n",
      "  File \"C:\\Users\\davul\\anaconda3\\lib\\site-packages\\sklearn\\metrics\\_scorer.py\", line 258, in _score\n",
      "    y_pred = method_caller(estimator, \"predict\", X)\n",
      "  File \"C:\\Users\\davul\\anaconda3\\lib\\site-packages\\sklearn\\metrics\\_scorer.py\", line 68, in _cached_call\n",
      "    return getattr(estimator, method)(*args, **kwargs)\n",
      "  File \"C:\\Users\\davul\\anaconda3\\lib\\site-packages\\scikeras\\wrappers.py\", line 1054, in predict\n",
      "    y_pred = self.target_encoder_.inverse_transform(y_pred)\n",
      "  File \"C:\\Users\\davul\\anaconda3\\lib\\site-packages\\scikeras\\utils\\transformers.py\", line 256, in inverse_transform\n",
      "    class_predictions = self._final_encoder.inverse_transform(class_predictions)\n",
      "  File \"C:\\Users\\davul\\anaconda3\\lib\\site-packages\\sklearn\\utils\\metaestimators.py\", line 113, in <lambda>\n",
      "    out = lambda *args, **kwargs: self.fn(obj, *args, **kwargs)  # noqa\n",
      "  File \"C:\\Users\\davul\\anaconda3\\lib\\site-packages\\sklearn\\pipeline.py\", line 675, in inverse_transform\n",
      "    Xt = transform.inverse_transform(Xt)\n",
      "  File \"C:\\Users\\davul\\anaconda3\\lib\\site-packages\\sklearn\\preprocessing\\_encoders.py\", line 990, in inverse_transform\n",
      "    X_tr[:, i] = self.categories_[i][labels]\n",
      "IndexError: index 6 is out of bounds for axis 0 with size 2\n",
      "\n",
      "  warnings.warn(\n"
     ]
    },
    {
     "name": "stdout",
     "output_type": "stream",
     "text": [
      "3/3 [==============================] - 0s 1ms/step\n",
      "3/3 [==============================] - 0s 2ms/step\n"
     ]
    },
    {
     "name": "stderr",
     "output_type": "stream",
     "text": [
      "C:\\Users\\davul\\anaconda3\\lib\\site-packages\\sklearn\\model_selection\\_validation.py:770: UserWarning: Scoring failed. The score on this train-test partition for these parameters will be set to nan. Details: \n",
      "Traceback (most recent call last):\n",
      "  File \"C:\\Users\\davul\\anaconda3\\lib\\site-packages\\sklearn\\model_selection\\_validation.py\", line 761, in _score\n",
      "    scores = scorer(estimator, X_test, y_test)\n",
      "  File \"C:\\Users\\davul\\anaconda3\\lib\\site-packages\\sklearn\\metrics\\_scorer.py\", line 216, in __call__\n",
      "    return self._score(\n",
      "  File \"C:\\Users\\davul\\anaconda3\\lib\\site-packages\\sklearn\\metrics\\_scorer.py\", line 258, in _score\n",
      "    y_pred = method_caller(estimator, \"predict\", X)\n",
      "  File \"C:\\Users\\davul\\anaconda3\\lib\\site-packages\\sklearn\\metrics\\_scorer.py\", line 68, in _cached_call\n",
      "    return getattr(estimator, method)(*args, **kwargs)\n",
      "  File \"C:\\Users\\davul\\anaconda3\\lib\\site-packages\\scikeras\\wrappers.py\", line 1054, in predict\n",
      "    y_pred = self.target_encoder_.inverse_transform(y_pred)\n",
      "  File \"C:\\Users\\davul\\anaconda3\\lib\\site-packages\\scikeras\\utils\\transformers.py\", line 256, in inverse_transform\n",
      "    class_predictions = self._final_encoder.inverse_transform(class_predictions)\n",
      "  File \"C:\\Users\\davul\\anaconda3\\lib\\site-packages\\sklearn\\utils\\metaestimators.py\", line 113, in <lambda>\n",
      "    out = lambda *args, **kwargs: self.fn(obj, *args, **kwargs)  # noqa\n",
      "  File \"C:\\Users\\davul\\anaconda3\\lib\\site-packages\\sklearn\\pipeline.py\", line 675, in inverse_transform\n",
      "    Xt = transform.inverse_transform(Xt)\n",
      "  File \"C:\\Users\\davul\\anaconda3\\lib\\site-packages\\sklearn\\preprocessing\\_encoders.py\", line 990, in inverse_transform\n",
      "    X_tr[:, i] = self.categories_[i][labels]\n",
      "IndexError: index 4 is out of bounds for axis 0 with size 2\n",
      "\n",
      "  warnings.warn(\n"
     ]
    },
    {
     "name": "stdout",
     "output_type": "stream",
     "text": [
      "3/3 [==============================] - 0s 2ms/step\n",
      "3/3 [==============================] - 0s 1ms/step\n"
     ]
    },
    {
     "name": "stderr",
     "output_type": "stream",
     "text": [
      "C:\\Users\\davul\\anaconda3\\lib\\site-packages\\sklearn\\model_selection\\_validation.py:770: UserWarning: Scoring failed. The score on this train-test partition for these parameters will be set to nan. Details: \n",
      "Traceback (most recent call last):\n",
      "  File \"C:\\Users\\davul\\anaconda3\\lib\\site-packages\\sklearn\\model_selection\\_validation.py\", line 761, in _score\n",
      "    scores = scorer(estimator, X_test, y_test)\n",
      "  File \"C:\\Users\\davul\\anaconda3\\lib\\site-packages\\sklearn\\metrics\\_scorer.py\", line 216, in __call__\n",
      "    return self._score(\n",
      "  File \"C:\\Users\\davul\\anaconda3\\lib\\site-packages\\sklearn\\metrics\\_scorer.py\", line 258, in _score\n",
      "    y_pred = method_caller(estimator, \"predict\", X)\n",
      "  File \"C:\\Users\\davul\\anaconda3\\lib\\site-packages\\sklearn\\metrics\\_scorer.py\", line 68, in _cached_call\n",
      "    return getattr(estimator, method)(*args, **kwargs)\n",
      "  File \"C:\\Users\\davul\\anaconda3\\lib\\site-packages\\scikeras\\wrappers.py\", line 1054, in predict\n",
      "    y_pred = self.target_encoder_.inverse_transform(y_pred)\n",
      "  File \"C:\\Users\\davul\\anaconda3\\lib\\site-packages\\scikeras\\utils\\transformers.py\", line 256, in inverse_transform\n",
      "    class_predictions = self._final_encoder.inverse_transform(class_predictions)\n",
      "  File \"C:\\Users\\davul\\anaconda3\\lib\\site-packages\\sklearn\\utils\\metaestimators.py\", line 113, in <lambda>\n",
      "    out = lambda *args, **kwargs: self.fn(obj, *args, **kwargs)  # noqa\n",
      "  File \"C:\\Users\\davul\\anaconda3\\lib\\site-packages\\sklearn\\pipeline.py\", line 675, in inverse_transform\n",
      "    Xt = transform.inverse_transform(Xt)\n",
      "  File \"C:\\Users\\davul\\anaconda3\\lib\\site-packages\\sklearn\\preprocessing\\_encoders.py\", line 990, in inverse_transform\n",
      "    X_tr[:, i] = self.categories_[i][labels]\n",
      "IndexError: index 2 is out of bounds for axis 0 with size 2\n",
      "\n",
      "  warnings.warn(\n"
     ]
    },
    {
     "name": "stdout",
     "output_type": "stream",
     "text": [
      "2/2 [==============================] - 0s 2ms/step\n"
     ]
    },
    {
     "name": "stderr",
     "output_type": "stream",
     "text": [
      "C:\\Users\\davul\\anaconda3\\lib\\site-packages\\sklearn\\model_selection\\_validation.py:770: UserWarning: Scoring failed. The score on this train-test partition for these parameters will be set to nan. Details: \n",
      "Traceback (most recent call last):\n",
      "  File \"C:\\Users\\davul\\anaconda3\\lib\\site-packages\\sklearn\\model_selection\\_validation.py\", line 761, in _score\n",
      "    scores = scorer(estimator, X_test, y_test)\n",
      "  File \"C:\\Users\\davul\\anaconda3\\lib\\site-packages\\sklearn\\metrics\\_scorer.py\", line 216, in __call__\n",
      "    return self._score(\n",
      "  File \"C:\\Users\\davul\\anaconda3\\lib\\site-packages\\sklearn\\metrics\\_scorer.py\", line 258, in _score\n",
      "    y_pred = method_caller(estimator, \"predict\", X)\n",
      "  File \"C:\\Users\\davul\\anaconda3\\lib\\site-packages\\sklearn\\metrics\\_scorer.py\", line 68, in _cached_call\n",
      "    return getattr(estimator, method)(*args, **kwargs)\n",
      "  File \"C:\\Users\\davul\\anaconda3\\lib\\site-packages\\scikeras\\wrappers.py\", line 1054, in predict\n",
      "    y_pred = self.target_encoder_.inverse_transform(y_pred)\n",
      "  File \"C:\\Users\\davul\\anaconda3\\lib\\site-packages\\scikeras\\utils\\transformers.py\", line 256, in inverse_transform\n",
      "    class_predictions = self._final_encoder.inverse_transform(class_predictions)\n",
      "  File \"C:\\Users\\davul\\anaconda3\\lib\\site-packages\\sklearn\\utils\\metaestimators.py\", line 113, in <lambda>\n",
      "    out = lambda *args, **kwargs: self.fn(obj, *args, **kwargs)  # noqa\n",
      "  File \"C:\\Users\\davul\\anaconda3\\lib\\site-packages\\sklearn\\pipeline.py\", line 675, in inverse_transform\n",
      "    Xt = transform.inverse_transform(Xt)\n",
      "  File \"C:\\Users\\davul\\anaconda3\\lib\\site-packages\\sklearn\\preprocessing\\_encoders.py\", line 990, in inverse_transform\n",
      "    X_tr[:, i] = self.categories_[i][labels]\n",
      "IndexError: index 2 is out of bounds for axis 0 with size 2\n",
      "\n",
      "  warnings.warn(\n"
     ]
    },
    {
     "name": "stdout",
     "output_type": "stream",
     "text": [
      "2/2 [==============================] - 0s 2ms/step\n"
     ]
    },
    {
     "name": "stderr",
     "output_type": "stream",
     "text": [
      "C:\\Users\\davul\\anaconda3\\lib\\site-packages\\sklearn\\model_selection\\_validation.py:770: UserWarning: Scoring failed. The score on this train-test partition for these parameters will be set to nan. Details: \n",
      "Traceback (most recent call last):\n",
      "  File \"C:\\Users\\davul\\anaconda3\\lib\\site-packages\\sklearn\\model_selection\\_validation.py\", line 761, in _score\n",
      "    scores = scorer(estimator, X_test, y_test)\n",
      "  File \"C:\\Users\\davul\\anaconda3\\lib\\site-packages\\sklearn\\metrics\\_scorer.py\", line 216, in __call__\n",
      "    return self._score(\n",
      "  File \"C:\\Users\\davul\\anaconda3\\lib\\site-packages\\sklearn\\metrics\\_scorer.py\", line 258, in _score\n",
      "    y_pred = method_caller(estimator, \"predict\", X)\n",
      "  File \"C:\\Users\\davul\\anaconda3\\lib\\site-packages\\sklearn\\metrics\\_scorer.py\", line 68, in _cached_call\n",
      "    return getattr(estimator, method)(*args, **kwargs)\n",
      "  File \"C:\\Users\\davul\\anaconda3\\lib\\site-packages\\scikeras\\wrappers.py\", line 1054, in predict\n",
      "    y_pred = self.target_encoder_.inverse_transform(y_pred)\n",
      "  File \"C:\\Users\\davul\\anaconda3\\lib\\site-packages\\scikeras\\utils\\transformers.py\", line 256, in inverse_transform\n",
      "    class_predictions = self._final_encoder.inverse_transform(class_predictions)\n",
      "  File \"C:\\Users\\davul\\anaconda3\\lib\\site-packages\\sklearn\\utils\\metaestimators.py\", line 113, in <lambda>\n",
      "    out = lambda *args, **kwargs: self.fn(obj, *args, **kwargs)  # noqa\n",
      "  File \"C:\\Users\\davul\\anaconda3\\lib\\site-packages\\sklearn\\pipeline.py\", line 675, in inverse_transform\n",
      "    Xt = transform.inverse_transform(Xt)\n",
      "  File \"C:\\Users\\davul\\anaconda3\\lib\\site-packages\\sklearn\\preprocessing\\_encoders.py\", line 990, in inverse_transform\n",
      "    X_tr[:, i] = self.categories_[i][labels]\n",
      "IndexError: index 2 is out of bounds for axis 0 with size 2\n",
      "\n",
      "  warnings.warn(\n"
     ]
    },
    {
     "name": "stdout",
     "output_type": "stream",
     "text": [
      "2/2 [==============================] - 0s 1ms/step\n"
     ]
    },
    {
     "name": "stderr",
     "output_type": "stream",
     "text": [
      "C:\\Users\\davul\\anaconda3\\lib\\site-packages\\sklearn\\model_selection\\_validation.py:770: UserWarning: Scoring failed. The score on this train-test partition for these parameters will be set to nan. Details: \n",
      "Traceback (most recent call last):\n",
      "  File \"C:\\Users\\davul\\anaconda3\\lib\\site-packages\\sklearn\\model_selection\\_validation.py\", line 761, in _score\n",
      "    scores = scorer(estimator, X_test, y_test)\n",
      "  File \"C:\\Users\\davul\\anaconda3\\lib\\site-packages\\sklearn\\metrics\\_scorer.py\", line 216, in __call__\n",
      "    return self._score(\n",
      "  File \"C:\\Users\\davul\\anaconda3\\lib\\site-packages\\sklearn\\metrics\\_scorer.py\", line 258, in _score\n",
      "    y_pred = method_caller(estimator, \"predict\", X)\n",
      "  File \"C:\\Users\\davul\\anaconda3\\lib\\site-packages\\sklearn\\metrics\\_scorer.py\", line 68, in _cached_call\n",
      "    return getattr(estimator, method)(*args, **kwargs)\n",
      "  File \"C:\\Users\\davul\\anaconda3\\lib\\site-packages\\scikeras\\wrappers.py\", line 1054, in predict\n",
      "    y_pred = self.target_encoder_.inverse_transform(y_pred)\n",
      "  File \"C:\\Users\\davul\\anaconda3\\lib\\site-packages\\scikeras\\utils\\transformers.py\", line 256, in inverse_transform\n",
      "    class_predictions = self._final_encoder.inverse_transform(class_predictions)\n",
      "  File \"C:\\Users\\davul\\anaconda3\\lib\\site-packages\\sklearn\\utils\\metaestimators.py\", line 113, in <lambda>\n",
      "    out = lambda *args, **kwargs: self.fn(obj, *args, **kwargs)  # noqa\n",
      "  File \"C:\\Users\\davul\\anaconda3\\lib\\site-packages\\sklearn\\pipeline.py\", line 675, in inverse_transform\n",
      "    Xt = transform.inverse_transform(Xt)\n",
      "  File \"C:\\Users\\davul\\anaconda3\\lib\\site-packages\\sklearn\\preprocessing\\_encoders.py\", line 990, in inverse_transform\n",
      "    X_tr[:, i] = self.categories_[i][labels]\n",
      "IndexError: index 9 is out of bounds for axis 0 with size 2\n",
      "\n",
      "  warnings.warn(\n"
     ]
    },
    {
     "name": "stdout",
     "output_type": "stream",
     "text": [
      "2/2 [==============================] - 0s 2ms/step\n"
     ]
    },
    {
     "name": "stderr",
     "output_type": "stream",
     "text": [
      "C:\\Users\\davul\\anaconda3\\lib\\site-packages\\sklearn\\model_selection\\_validation.py:770: UserWarning: Scoring failed. The score on this train-test partition for these parameters will be set to nan. Details: \n",
      "Traceback (most recent call last):\n",
      "  File \"C:\\Users\\davul\\anaconda3\\lib\\site-packages\\sklearn\\model_selection\\_validation.py\", line 761, in _score\n",
      "    scores = scorer(estimator, X_test, y_test)\n",
      "  File \"C:\\Users\\davul\\anaconda3\\lib\\site-packages\\sklearn\\metrics\\_scorer.py\", line 216, in __call__\n",
      "    return self._score(\n",
      "  File \"C:\\Users\\davul\\anaconda3\\lib\\site-packages\\sklearn\\metrics\\_scorer.py\", line 258, in _score\n",
      "    y_pred = method_caller(estimator, \"predict\", X)\n",
      "  File \"C:\\Users\\davul\\anaconda3\\lib\\site-packages\\sklearn\\metrics\\_scorer.py\", line 68, in _cached_call\n",
      "    return getattr(estimator, method)(*args, **kwargs)\n",
      "  File \"C:\\Users\\davul\\anaconda3\\lib\\site-packages\\scikeras\\wrappers.py\", line 1054, in predict\n",
      "    y_pred = self.target_encoder_.inverse_transform(y_pred)\n",
      "  File \"C:\\Users\\davul\\anaconda3\\lib\\site-packages\\scikeras\\utils\\transformers.py\", line 256, in inverse_transform\n",
      "    class_predictions = self._final_encoder.inverse_transform(class_predictions)\n",
      "  File \"C:\\Users\\davul\\anaconda3\\lib\\site-packages\\sklearn\\utils\\metaestimators.py\", line 113, in <lambda>\n",
      "    out = lambda *args, **kwargs: self.fn(obj, *args, **kwargs)  # noqa\n",
      "  File \"C:\\Users\\davul\\anaconda3\\lib\\site-packages\\sklearn\\pipeline.py\", line 675, in inverse_transform\n",
      "    Xt = transform.inverse_transform(Xt)\n",
      "  File \"C:\\Users\\davul\\anaconda3\\lib\\site-packages\\sklearn\\preprocessing\\_encoders.py\", line 990, in inverse_transform\n",
      "    X_tr[:, i] = self.categories_[i][labels]\n",
      "IndexError: index 8 is out of bounds for axis 0 with size 2\n",
      "\n",
      "  warnings.warn(\n"
     ]
    },
    {
     "name": "stdout",
     "output_type": "stream",
     "text": [
      "2/2 [==============================] - 0s 2ms/step\n"
     ]
    },
    {
     "name": "stderr",
     "output_type": "stream",
     "text": [
      "C:\\Users\\davul\\anaconda3\\lib\\site-packages\\sklearn\\model_selection\\_validation.py:770: UserWarning: Scoring failed. The score on this train-test partition for these parameters will be set to nan. Details: \n",
      "Traceback (most recent call last):\n",
      "  File \"C:\\Users\\davul\\anaconda3\\lib\\site-packages\\sklearn\\model_selection\\_validation.py\", line 761, in _score\n",
      "    scores = scorer(estimator, X_test, y_test)\n",
      "  File \"C:\\Users\\davul\\anaconda3\\lib\\site-packages\\sklearn\\metrics\\_scorer.py\", line 216, in __call__\n",
      "    return self._score(\n",
      "  File \"C:\\Users\\davul\\anaconda3\\lib\\site-packages\\sklearn\\metrics\\_scorer.py\", line 258, in _score\n",
      "    y_pred = method_caller(estimator, \"predict\", X)\n",
      "  File \"C:\\Users\\davul\\anaconda3\\lib\\site-packages\\sklearn\\metrics\\_scorer.py\", line 68, in _cached_call\n",
      "    return getattr(estimator, method)(*args, **kwargs)\n",
      "  File \"C:\\Users\\davul\\anaconda3\\lib\\site-packages\\scikeras\\wrappers.py\", line 1054, in predict\n",
      "    y_pred = self.target_encoder_.inverse_transform(y_pred)\n",
      "  File \"C:\\Users\\davul\\anaconda3\\lib\\site-packages\\scikeras\\utils\\transformers.py\", line 256, in inverse_transform\n",
      "    class_predictions = self._final_encoder.inverse_transform(class_predictions)\n",
      "  File \"C:\\Users\\davul\\anaconda3\\lib\\site-packages\\sklearn\\utils\\metaestimators.py\", line 113, in <lambda>\n",
      "    out = lambda *args, **kwargs: self.fn(obj, *args, **kwargs)  # noqa\n",
      "  File \"C:\\Users\\davul\\anaconda3\\lib\\site-packages\\sklearn\\pipeline.py\", line 675, in inverse_transform\n",
      "    Xt = transform.inverse_transform(Xt)\n",
      "  File \"C:\\Users\\davul\\anaconda3\\lib\\site-packages\\sklearn\\preprocessing\\_encoders.py\", line 990, in inverse_transform\n",
      "    X_tr[:, i] = self.categories_[i][labels]\n",
      "IndexError: index 8 is out of bounds for axis 0 with size 2\n",
      "\n",
      "  warnings.warn(\n"
     ]
    },
    {
     "name": "stdout",
     "output_type": "stream",
     "text": [
      "3/3 [==============================] - 0s 2ms/step\n",
      "3/3 [==============================] - 0s 2ms/step\n"
     ]
    },
    {
     "name": "stderr",
     "output_type": "stream",
     "text": [
      "C:\\Users\\davul\\anaconda3\\lib\\site-packages\\sklearn\\model_selection\\_validation.py:770: UserWarning: Scoring failed. The score on this train-test partition for these parameters will be set to nan. Details: \n",
      "Traceback (most recent call last):\n",
      "  File \"C:\\Users\\davul\\anaconda3\\lib\\site-packages\\sklearn\\model_selection\\_validation.py\", line 761, in _score\n",
      "    scores = scorer(estimator, X_test, y_test)\n",
      "  File \"C:\\Users\\davul\\anaconda3\\lib\\site-packages\\sklearn\\metrics\\_scorer.py\", line 216, in __call__\n",
      "    return self._score(\n",
      "  File \"C:\\Users\\davul\\anaconda3\\lib\\site-packages\\sklearn\\metrics\\_scorer.py\", line 258, in _score\n",
      "    y_pred = method_caller(estimator, \"predict\", X)\n",
      "  File \"C:\\Users\\davul\\anaconda3\\lib\\site-packages\\sklearn\\metrics\\_scorer.py\", line 68, in _cached_call\n",
      "    return getattr(estimator, method)(*args, **kwargs)\n",
      "  File \"C:\\Users\\davul\\anaconda3\\lib\\site-packages\\scikeras\\wrappers.py\", line 1054, in predict\n",
      "    y_pred = self.target_encoder_.inverse_transform(y_pred)\n",
      "  File \"C:\\Users\\davul\\anaconda3\\lib\\site-packages\\scikeras\\utils\\transformers.py\", line 256, in inverse_transform\n",
      "    class_predictions = self._final_encoder.inverse_transform(class_predictions)\n",
      "  File \"C:\\Users\\davul\\anaconda3\\lib\\site-packages\\sklearn\\utils\\metaestimators.py\", line 113, in <lambda>\n",
      "    out = lambda *args, **kwargs: self.fn(obj, *args, **kwargs)  # noqa\n",
      "  File \"C:\\Users\\davul\\anaconda3\\lib\\site-packages\\sklearn\\pipeline.py\", line 675, in inverse_transform\n",
      "    Xt = transform.inverse_transform(Xt)\n",
      "  File \"C:\\Users\\davul\\anaconda3\\lib\\site-packages\\sklearn\\preprocessing\\_encoders.py\", line 990, in inverse_transform\n",
      "    X_tr[:, i] = self.categories_[i][labels]\n",
      "IndexError: index 2 is out of bounds for axis 0 with size 2\n",
      "\n",
      "  warnings.warn(\n"
     ]
    },
    {
     "name": "stdout",
     "output_type": "stream",
     "text": [
      "3/3 [==============================] - 0s 2ms/step\n"
     ]
    },
    {
     "name": "stderr",
     "output_type": "stream",
     "text": [
      "C:\\Users\\davul\\anaconda3\\lib\\site-packages\\sklearn\\model_selection\\_validation.py:770: UserWarning: Scoring failed. The score on this train-test partition for these parameters will be set to nan. Details: \n",
      "Traceback (most recent call last):\n",
      "  File \"C:\\Users\\davul\\anaconda3\\lib\\site-packages\\sklearn\\model_selection\\_validation.py\", line 761, in _score\n",
      "    scores = scorer(estimator, X_test, y_test)\n",
      "  File \"C:\\Users\\davul\\anaconda3\\lib\\site-packages\\sklearn\\metrics\\_scorer.py\", line 216, in __call__\n",
      "    return self._score(\n",
      "  File \"C:\\Users\\davul\\anaconda3\\lib\\site-packages\\sklearn\\metrics\\_scorer.py\", line 258, in _score\n",
      "    y_pred = method_caller(estimator, \"predict\", X)\n",
      "  File \"C:\\Users\\davul\\anaconda3\\lib\\site-packages\\sklearn\\metrics\\_scorer.py\", line 68, in _cached_call\n",
      "    return getattr(estimator, method)(*args, **kwargs)\n",
      "  File \"C:\\Users\\davul\\anaconda3\\lib\\site-packages\\scikeras\\wrappers.py\", line 1054, in predict\n",
      "    y_pred = self.target_encoder_.inverse_transform(y_pred)\n",
      "  File \"C:\\Users\\davul\\anaconda3\\lib\\site-packages\\scikeras\\utils\\transformers.py\", line 256, in inverse_transform\n",
      "    class_predictions = self._final_encoder.inverse_transform(class_predictions)\n",
      "  File \"C:\\Users\\davul\\anaconda3\\lib\\site-packages\\sklearn\\utils\\metaestimators.py\", line 113, in <lambda>\n",
      "    out = lambda *args, **kwargs: self.fn(obj, *args, **kwargs)  # noqa\n",
      "  File \"C:\\Users\\davul\\anaconda3\\lib\\site-packages\\sklearn\\pipeline.py\", line 675, in inverse_transform\n",
      "    Xt = transform.inverse_transform(Xt)\n",
      "  File \"C:\\Users\\davul\\anaconda3\\lib\\site-packages\\sklearn\\preprocessing\\_encoders.py\", line 990, in inverse_transform\n",
      "    X_tr[:, i] = self.categories_[i][labels]\n",
      "IndexError: index 7 is out of bounds for axis 0 with size 2\n",
      "\n",
      "  warnings.warn(\n"
     ]
    },
    {
     "name": "stdout",
     "output_type": "stream",
     "text": [
      "3/3 [==============================] - 0s 2ms/step\n",
      "3/3 [==============================] - 0s 2ms/step\n",
      "2/2 [==============================] - 0s 1ms/step\n"
     ]
    },
    {
     "name": "stderr",
     "output_type": "stream",
     "text": [
      "C:\\Users\\davul\\anaconda3\\lib\\site-packages\\sklearn\\model_selection\\_validation.py:770: UserWarning: Scoring failed. The score on this train-test partition for these parameters will be set to nan. Details: \n",
      "Traceback (most recent call last):\n",
      "  File \"C:\\Users\\davul\\anaconda3\\lib\\site-packages\\sklearn\\model_selection\\_validation.py\", line 761, in _score\n",
      "    scores = scorer(estimator, X_test, y_test)\n",
      "  File \"C:\\Users\\davul\\anaconda3\\lib\\site-packages\\sklearn\\metrics\\_scorer.py\", line 216, in __call__\n",
      "    return self._score(\n",
      "  File \"C:\\Users\\davul\\anaconda3\\lib\\site-packages\\sklearn\\metrics\\_scorer.py\", line 258, in _score\n",
      "    y_pred = method_caller(estimator, \"predict\", X)\n",
      "  File \"C:\\Users\\davul\\anaconda3\\lib\\site-packages\\sklearn\\metrics\\_scorer.py\", line 68, in _cached_call\n",
      "    return getattr(estimator, method)(*args, **kwargs)\n",
      "  File \"C:\\Users\\davul\\anaconda3\\lib\\site-packages\\scikeras\\wrappers.py\", line 1054, in predict\n",
      "    y_pred = self.target_encoder_.inverse_transform(y_pred)\n",
      "  File \"C:\\Users\\davul\\anaconda3\\lib\\site-packages\\scikeras\\utils\\transformers.py\", line 256, in inverse_transform\n",
      "    class_predictions = self._final_encoder.inverse_transform(class_predictions)\n",
      "  File \"C:\\Users\\davul\\anaconda3\\lib\\site-packages\\sklearn\\utils\\metaestimators.py\", line 113, in <lambda>\n",
      "    out = lambda *args, **kwargs: self.fn(obj, *args, **kwargs)  # noqa\n",
      "  File \"C:\\Users\\davul\\anaconda3\\lib\\site-packages\\sklearn\\pipeline.py\", line 675, in inverse_transform\n",
      "    Xt = transform.inverse_transform(Xt)\n",
      "  File \"C:\\Users\\davul\\anaconda3\\lib\\site-packages\\sklearn\\preprocessing\\_encoders.py\", line 990, in inverse_transform\n",
      "    X_tr[:, i] = self.categories_[i][labels]\n",
      "IndexError: index 3 is out of bounds for axis 0 with size 2\n",
      "\n",
      "  warnings.warn(\n"
     ]
    },
    {
     "name": "stdout",
     "output_type": "stream",
     "text": [
      "2/2 [==============================] - 0s 2ms/step\n"
     ]
    },
    {
     "name": "stderr",
     "output_type": "stream",
     "text": [
      "C:\\Users\\davul\\anaconda3\\lib\\site-packages\\sklearn\\model_selection\\_validation.py:770: UserWarning: Scoring failed. The score on this train-test partition for these parameters will be set to nan. Details: \n",
      "Traceback (most recent call last):\n",
      "  File \"C:\\Users\\davul\\anaconda3\\lib\\site-packages\\sklearn\\model_selection\\_validation.py\", line 761, in _score\n",
      "    scores = scorer(estimator, X_test, y_test)\n",
      "  File \"C:\\Users\\davul\\anaconda3\\lib\\site-packages\\sklearn\\metrics\\_scorer.py\", line 216, in __call__\n",
      "    return self._score(\n",
      "  File \"C:\\Users\\davul\\anaconda3\\lib\\site-packages\\sklearn\\metrics\\_scorer.py\", line 258, in _score\n",
      "    y_pred = method_caller(estimator, \"predict\", X)\n",
      "  File \"C:\\Users\\davul\\anaconda3\\lib\\site-packages\\sklearn\\metrics\\_scorer.py\", line 68, in _cached_call\n",
      "    return getattr(estimator, method)(*args, **kwargs)\n",
      "  File \"C:\\Users\\davul\\anaconda3\\lib\\site-packages\\scikeras\\wrappers.py\", line 1054, in predict\n",
      "    y_pred = self.target_encoder_.inverse_transform(y_pred)\n",
      "  File \"C:\\Users\\davul\\anaconda3\\lib\\site-packages\\scikeras\\utils\\transformers.py\", line 256, in inverse_transform\n",
      "    class_predictions = self._final_encoder.inverse_transform(class_predictions)\n",
      "  File \"C:\\Users\\davul\\anaconda3\\lib\\site-packages\\sklearn\\utils\\metaestimators.py\", line 113, in <lambda>\n",
      "    out = lambda *args, **kwargs: self.fn(obj, *args, **kwargs)  # noqa\n",
      "  File \"C:\\Users\\davul\\anaconda3\\lib\\site-packages\\sklearn\\pipeline.py\", line 675, in inverse_transform\n",
      "    Xt = transform.inverse_transform(Xt)\n",
      "  File \"C:\\Users\\davul\\anaconda3\\lib\\site-packages\\sklearn\\preprocessing\\_encoders.py\", line 990, in inverse_transform\n",
      "    X_tr[:, i] = self.categories_[i][labels]\n",
      "IndexError: index 5 is out of bounds for axis 0 with size 2\n",
      "\n",
      "  warnings.warn(\n"
     ]
    },
    {
     "name": "stdout",
     "output_type": "stream",
     "text": [
      "2/2 [==============================] - 0s 1ms/step\n"
     ]
    },
    {
     "name": "stderr",
     "output_type": "stream",
     "text": [
      "C:\\Users\\davul\\anaconda3\\lib\\site-packages\\sklearn\\model_selection\\_validation.py:770: UserWarning: Scoring failed. The score on this train-test partition for these parameters will be set to nan. Details: \n",
      "Traceback (most recent call last):\n",
      "  File \"C:\\Users\\davul\\anaconda3\\lib\\site-packages\\sklearn\\model_selection\\_validation.py\", line 761, in _score\n",
      "    scores = scorer(estimator, X_test, y_test)\n",
      "  File \"C:\\Users\\davul\\anaconda3\\lib\\site-packages\\sklearn\\metrics\\_scorer.py\", line 216, in __call__\n",
      "    return self._score(\n",
      "  File \"C:\\Users\\davul\\anaconda3\\lib\\site-packages\\sklearn\\metrics\\_scorer.py\", line 258, in _score\n",
      "    y_pred = method_caller(estimator, \"predict\", X)\n",
      "  File \"C:\\Users\\davul\\anaconda3\\lib\\site-packages\\sklearn\\metrics\\_scorer.py\", line 68, in _cached_call\n",
      "    return getattr(estimator, method)(*args, **kwargs)\n",
      "  File \"C:\\Users\\davul\\anaconda3\\lib\\site-packages\\scikeras\\wrappers.py\", line 1054, in predict\n",
      "    y_pred = self.target_encoder_.inverse_transform(y_pred)\n",
      "  File \"C:\\Users\\davul\\anaconda3\\lib\\site-packages\\scikeras\\utils\\transformers.py\", line 256, in inverse_transform\n",
      "    class_predictions = self._final_encoder.inverse_transform(class_predictions)\n",
      "  File \"C:\\Users\\davul\\anaconda3\\lib\\site-packages\\sklearn\\utils\\metaestimators.py\", line 113, in <lambda>\n",
      "    out = lambda *args, **kwargs: self.fn(obj, *args, **kwargs)  # noqa\n",
      "  File \"C:\\Users\\davul\\anaconda3\\lib\\site-packages\\sklearn\\pipeline.py\", line 675, in inverse_transform\n",
      "    Xt = transform.inverse_transform(Xt)\n",
      "  File \"C:\\Users\\davul\\anaconda3\\lib\\site-packages\\sklearn\\preprocessing\\_encoders.py\", line 990, in inverse_transform\n",
      "    X_tr[:, i] = self.categories_[i][labels]\n",
      "IndexError: index 4 is out of bounds for axis 0 with size 2\n",
      "\n",
      "  warnings.warn(\n"
     ]
    },
    {
     "name": "stdout",
     "output_type": "stream",
     "text": [
      "2/2 [==============================] - 0s 2ms/step\n"
     ]
    },
    {
     "name": "stderr",
     "output_type": "stream",
     "text": [
      "C:\\Users\\davul\\anaconda3\\lib\\site-packages\\sklearn\\model_selection\\_validation.py:770: UserWarning: Scoring failed. The score on this train-test partition for these parameters will be set to nan. Details: \n",
      "Traceback (most recent call last):\n",
      "  File \"C:\\Users\\davul\\anaconda3\\lib\\site-packages\\sklearn\\model_selection\\_validation.py\", line 761, in _score\n",
      "    scores = scorer(estimator, X_test, y_test)\n",
      "  File \"C:\\Users\\davul\\anaconda3\\lib\\site-packages\\sklearn\\metrics\\_scorer.py\", line 216, in __call__\n",
      "    return self._score(\n",
      "  File \"C:\\Users\\davul\\anaconda3\\lib\\site-packages\\sklearn\\metrics\\_scorer.py\", line 258, in _score\n",
      "    y_pred = method_caller(estimator, \"predict\", X)\n",
      "  File \"C:\\Users\\davul\\anaconda3\\lib\\site-packages\\sklearn\\metrics\\_scorer.py\", line 68, in _cached_call\n",
      "    return getattr(estimator, method)(*args, **kwargs)\n",
      "  File \"C:\\Users\\davul\\anaconda3\\lib\\site-packages\\scikeras\\wrappers.py\", line 1054, in predict\n",
      "    y_pred = self.target_encoder_.inverse_transform(y_pred)\n",
      "  File \"C:\\Users\\davul\\anaconda3\\lib\\site-packages\\scikeras\\utils\\transformers.py\", line 256, in inverse_transform\n",
      "    class_predictions = self._final_encoder.inverse_transform(class_predictions)\n",
      "  File \"C:\\Users\\davul\\anaconda3\\lib\\site-packages\\sklearn\\utils\\metaestimators.py\", line 113, in <lambda>\n",
      "    out = lambda *args, **kwargs: self.fn(obj, *args, **kwargs)  # noqa\n",
      "  File \"C:\\Users\\davul\\anaconda3\\lib\\site-packages\\sklearn\\pipeline.py\", line 675, in inverse_transform\n",
      "    Xt = transform.inverse_transform(Xt)\n",
      "  File \"C:\\Users\\davul\\anaconda3\\lib\\site-packages\\sklearn\\preprocessing\\_encoders.py\", line 990, in inverse_transform\n",
      "    X_tr[:, i] = self.categories_[i][labels]\n",
      "IndexError: index 3 is out of bounds for axis 0 with size 2\n",
      "\n",
      "  warnings.warn(\n"
     ]
    },
    {
     "name": "stdout",
     "output_type": "stream",
     "text": [
      "2/2 [==============================] - 0s 2ms/step\n"
     ]
    },
    {
     "name": "stderr",
     "output_type": "stream",
     "text": [
      "C:\\Users\\davul\\anaconda3\\lib\\site-packages\\sklearn\\model_selection\\_validation.py:770: UserWarning: Scoring failed. The score on this train-test partition for these parameters will be set to nan. Details: \n",
      "Traceback (most recent call last):\n",
      "  File \"C:\\Users\\davul\\anaconda3\\lib\\site-packages\\sklearn\\model_selection\\_validation.py\", line 761, in _score\n",
      "    scores = scorer(estimator, X_test, y_test)\n",
      "  File \"C:\\Users\\davul\\anaconda3\\lib\\site-packages\\sklearn\\metrics\\_scorer.py\", line 216, in __call__\n",
      "    return self._score(\n",
      "  File \"C:\\Users\\davul\\anaconda3\\lib\\site-packages\\sklearn\\metrics\\_scorer.py\", line 258, in _score\n",
      "    y_pred = method_caller(estimator, \"predict\", X)\n",
      "  File \"C:\\Users\\davul\\anaconda3\\lib\\site-packages\\sklearn\\metrics\\_scorer.py\", line 68, in _cached_call\n",
      "    return getattr(estimator, method)(*args, **kwargs)\n",
      "  File \"C:\\Users\\davul\\anaconda3\\lib\\site-packages\\scikeras\\wrappers.py\", line 1054, in predict\n",
      "    y_pred = self.target_encoder_.inverse_transform(y_pred)\n",
      "  File \"C:\\Users\\davul\\anaconda3\\lib\\site-packages\\scikeras\\utils\\transformers.py\", line 256, in inverse_transform\n",
      "    class_predictions = self._final_encoder.inverse_transform(class_predictions)\n",
      "  File \"C:\\Users\\davul\\anaconda3\\lib\\site-packages\\sklearn\\utils\\metaestimators.py\", line 113, in <lambda>\n",
      "    out = lambda *args, **kwargs: self.fn(obj, *args, **kwargs)  # noqa\n",
      "  File \"C:\\Users\\davul\\anaconda3\\lib\\site-packages\\sklearn\\pipeline.py\", line 675, in inverse_transform\n",
      "    Xt = transform.inverse_transform(Xt)\n",
      "  File \"C:\\Users\\davul\\anaconda3\\lib\\site-packages\\sklearn\\preprocessing\\_encoders.py\", line 990, in inverse_transform\n",
      "    X_tr[:, i] = self.categories_[i][labels]\n",
      "IndexError: index 2 is out of bounds for axis 0 with size 2\n",
      "\n",
      "  warnings.warn(\n"
     ]
    },
    {
     "name": "stdout",
     "output_type": "stream",
     "text": [
      "2/2 [==============================] - 0s 2ms/step\n",
      "2/2 [==============================] - 0s 2ms/step\n",
      "2/2 [==============================] - 0s 2ms/step\n"
     ]
    },
    {
     "name": "stderr",
     "output_type": "stream",
     "text": [
      "C:\\Users\\davul\\anaconda3\\lib\\site-packages\\sklearn\\model_selection\\_validation.py:770: UserWarning: Scoring failed. The score on this train-test partition for these parameters will be set to nan. Details: \n",
      "Traceback (most recent call last):\n",
      "  File \"C:\\Users\\davul\\anaconda3\\lib\\site-packages\\sklearn\\model_selection\\_validation.py\", line 761, in _score\n",
      "    scores = scorer(estimator, X_test, y_test)\n",
      "  File \"C:\\Users\\davul\\anaconda3\\lib\\site-packages\\sklearn\\metrics\\_scorer.py\", line 216, in __call__\n",
      "    return self._score(\n",
      "  File \"C:\\Users\\davul\\anaconda3\\lib\\site-packages\\sklearn\\metrics\\_scorer.py\", line 258, in _score\n",
      "    y_pred = method_caller(estimator, \"predict\", X)\n",
      "  File \"C:\\Users\\davul\\anaconda3\\lib\\site-packages\\sklearn\\metrics\\_scorer.py\", line 68, in _cached_call\n",
      "    return getattr(estimator, method)(*args, **kwargs)\n",
      "  File \"C:\\Users\\davul\\anaconda3\\lib\\site-packages\\scikeras\\wrappers.py\", line 1054, in predict\n",
      "    y_pred = self.target_encoder_.inverse_transform(y_pred)\n",
      "  File \"C:\\Users\\davul\\anaconda3\\lib\\site-packages\\scikeras\\utils\\transformers.py\", line 256, in inverse_transform\n",
      "    class_predictions = self._final_encoder.inverse_transform(class_predictions)\n",
      "  File \"C:\\Users\\davul\\anaconda3\\lib\\site-packages\\sklearn\\utils\\metaestimators.py\", line 113, in <lambda>\n",
      "    out = lambda *args, **kwargs: self.fn(obj, *args, **kwargs)  # noqa\n",
      "  File \"C:\\Users\\davul\\anaconda3\\lib\\site-packages\\sklearn\\pipeline.py\", line 675, in inverse_transform\n",
      "    Xt = transform.inverse_transform(Xt)\n",
      "  File \"C:\\Users\\davul\\anaconda3\\lib\\site-packages\\sklearn\\preprocessing\\_encoders.py\", line 990, in inverse_transform\n",
      "    X_tr[:, i] = self.categories_[i][labels]\n",
      "IndexError: index 2 is out of bounds for axis 0 with size 2\n",
      "\n",
      "  warnings.warn(\n"
     ]
    },
    {
     "name": "stdout",
     "output_type": "stream",
     "text": [
      "2/2 [==============================] - 0s 2ms/step\n",
      "2/2 [==============================] - 0s 2ms/step\n"
     ]
    },
    {
     "name": "stderr",
     "output_type": "stream",
     "text": [
      "C:\\Users\\davul\\anaconda3\\lib\\site-packages\\sklearn\\model_selection\\_validation.py:770: UserWarning: Scoring failed. The score on this train-test partition for these parameters will be set to nan. Details: \n",
      "Traceback (most recent call last):\n",
      "  File \"C:\\Users\\davul\\anaconda3\\lib\\site-packages\\sklearn\\model_selection\\_validation.py\", line 761, in _score\n",
      "    scores = scorer(estimator, X_test, y_test)\n",
      "  File \"C:\\Users\\davul\\anaconda3\\lib\\site-packages\\sklearn\\metrics\\_scorer.py\", line 216, in __call__\n",
      "    return self._score(\n",
      "  File \"C:\\Users\\davul\\anaconda3\\lib\\site-packages\\sklearn\\metrics\\_scorer.py\", line 258, in _score\n",
      "    y_pred = method_caller(estimator, \"predict\", X)\n",
      "  File \"C:\\Users\\davul\\anaconda3\\lib\\site-packages\\sklearn\\metrics\\_scorer.py\", line 68, in _cached_call\n",
      "    return getattr(estimator, method)(*args, **kwargs)\n",
      "  File \"C:\\Users\\davul\\anaconda3\\lib\\site-packages\\scikeras\\wrappers.py\", line 1054, in predict\n",
      "    y_pred = self.target_encoder_.inverse_transform(y_pred)\n",
      "  File \"C:\\Users\\davul\\anaconda3\\lib\\site-packages\\scikeras\\utils\\transformers.py\", line 256, in inverse_transform\n",
      "    class_predictions = self._final_encoder.inverse_transform(class_predictions)\n",
      "  File \"C:\\Users\\davul\\anaconda3\\lib\\site-packages\\sklearn\\utils\\metaestimators.py\", line 113, in <lambda>\n",
      "    out = lambda *args, **kwargs: self.fn(obj, *args, **kwargs)  # noqa\n",
      "  File \"C:\\Users\\davul\\anaconda3\\lib\\site-packages\\sklearn\\pipeline.py\", line 675, in inverse_transform\n",
      "    Xt = transform.inverse_transform(Xt)\n",
      "  File \"C:\\Users\\davul\\anaconda3\\lib\\site-packages\\sklearn\\preprocessing\\_encoders.py\", line 990, in inverse_transform\n",
      "    X_tr[:, i] = self.categories_[i][labels]\n",
      "IndexError: index 2 is out of bounds for axis 0 with size 2\n",
      "\n",
      "  warnings.warn(\n"
     ]
    },
    {
     "name": "stdout",
     "output_type": "stream",
     "text": [
      "7/7 [==============================] - 0s 828us/step\n"
     ]
    },
    {
     "name": "stderr",
     "output_type": "stream",
     "text": [
      "C:\\Users\\davul\\anaconda3\\lib\\site-packages\\sklearn\\model_selection\\_validation.py:770: UserWarning: Scoring failed. The score on this train-test partition for these parameters will be set to nan. Details: \n",
      "Traceback (most recent call last):\n",
      "  File \"C:\\Users\\davul\\anaconda3\\lib\\site-packages\\sklearn\\model_selection\\_validation.py\", line 761, in _score\n",
      "    scores = scorer(estimator, X_test, y_test)\n",
      "  File \"C:\\Users\\davul\\anaconda3\\lib\\site-packages\\sklearn\\metrics\\_scorer.py\", line 216, in __call__\n",
      "    return self._score(\n",
      "  File \"C:\\Users\\davul\\anaconda3\\lib\\site-packages\\sklearn\\metrics\\_scorer.py\", line 258, in _score\n",
      "    y_pred = method_caller(estimator, \"predict\", X)\n",
      "  File \"C:\\Users\\davul\\anaconda3\\lib\\site-packages\\sklearn\\metrics\\_scorer.py\", line 68, in _cached_call\n",
      "    return getattr(estimator, method)(*args, **kwargs)\n",
      "  File \"C:\\Users\\davul\\anaconda3\\lib\\site-packages\\scikeras\\wrappers.py\", line 1054, in predict\n",
      "    y_pred = self.target_encoder_.inverse_transform(y_pred)\n",
      "  File \"C:\\Users\\davul\\anaconda3\\lib\\site-packages\\scikeras\\utils\\transformers.py\", line 256, in inverse_transform\n",
      "    class_predictions = self._final_encoder.inverse_transform(class_predictions)\n",
      "  File \"C:\\Users\\davul\\anaconda3\\lib\\site-packages\\sklearn\\utils\\metaestimators.py\", line 113, in <lambda>\n",
      "    out = lambda *args, **kwargs: self.fn(obj, *args, **kwargs)  # noqa\n",
      "  File \"C:\\Users\\davul\\anaconda3\\lib\\site-packages\\sklearn\\pipeline.py\", line 675, in inverse_transform\n",
      "    Xt = transform.inverse_transform(Xt)\n",
      "  File \"C:\\Users\\davul\\anaconda3\\lib\\site-packages\\sklearn\\preprocessing\\_encoders.py\", line 990, in inverse_transform\n",
      "    X_tr[:, i] = self.categories_[i][labels]\n",
      "IndexError: index 8 is out of bounds for axis 0 with size 2\n",
      "\n",
      "  warnings.warn(\n"
     ]
    },
    {
     "name": "stdout",
     "output_type": "stream",
     "text": [
      "7/7 [==============================] - 0s 833us/step\n"
     ]
    },
    {
     "name": "stderr",
     "output_type": "stream",
     "text": [
      "C:\\Users\\davul\\anaconda3\\lib\\site-packages\\sklearn\\model_selection\\_validation.py:770: UserWarning: Scoring failed. The score on this train-test partition for these parameters will be set to nan. Details: \n",
      "Traceback (most recent call last):\n",
      "  File \"C:\\Users\\davul\\anaconda3\\lib\\site-packages\\sklearn\\model_selection\\_validation.py\", line 761, in _score\n",
      "    scores = scorer(estimator, X_test, y_test)\n",
      "  File \"C:\\Users\\davul\\anaconda3\\lib\\site-packages\\sklearn\\metrics\\_scorer.py\", line 216, in __call__\n",
      "    return self._score(\n",
      "  File \"C:\\Users\\davul\\anaconda3\\lib\\site-packages\\sklearn\\metrics\\_scorer.py\", line 258, in _score\n",
      "    y_pred = method_caller(estimator, \"predict\", X)\n",
      "  File \"C:\\Users\\davul\\anaconda3\\lib\\site-packages\\sklearn\\metrics\\_scorer.py\", line 68, in _cached_call\n",
      "    return getattr(estimator, method)(*args, **kwargs)\n",
      "  File \"C:\\Users\\davul\\anaconda3\\lib\\site-packages\\scikeras\\wrappers.py\", line 1054, in predict\n",
      "    y_pred = self.target_encoder_.inverse_transform(y_pred)\n",
      "  File \"C:\\Users\\davul\\anaconda3\\lib\\site-packages\\scikeras\\utils\\transformers.py\", line 256, in inverse_transform\n",
      "    class_predictions = self._final_encoder.inverse_transform(class_predictions)\n",
      "  File \"C:\\Users\\davul\\anaconda3\\lib\\site-packages\\sklearn\\utils\\metaestimators.py\", line 113, in <lambda>\n",
      "    out = lambda *args, **kwargs: self.fn(obj, *args, **kwargs)  # noqa\n",
      "  File \"C:\\Users\\davul\\anaconda3\\lib\\site-packages\\sklearn\\pipeline.py\", line 675, in inverse_transform\n",
      "    Xt = transform.inverse_transform(Xt)\n",
      "  File \"C:\\Users\\davul\\anaconda3\\lib\\site-packages\\sklearn\\preprocessing\\_encoders.py\", line 990, in inverse_transform\n",
      "    X_tr[:, i] = self.categories_[i][labels]\n",
      "IndexError: index 8 is out of bounds for axis 0 with size 2\n",
      "\n",
      "  warnings.warn(\n"
     ]
    },
    {
     "name": "stdout",
     "output_type": "stream",
     "text": [
      "7/7 [==============================] - 0s 704us/step\n"
     ]
    },
    {
     "name": "stderr",
     "output_type": "stream",
     "text": [
      "C:\\Users\\davul\\anaconda3\\lib\\site-packages\\sklearn\\model_selection\\_validation.py:770: UserWarning: Scoring failed. The score on this train-test partition for these parameters will be set to nan. Details: \n",
      "Traceback (most recent call last):\n",
      "  File \"C:\\Users\\davul\\anaconda3\\lib\\site-packages\\sklearn\\model_selection\\_validation.py\", line 761, in _score\n",
      "    scores = scorer(estimator, X_test, y_test)\n",
      "  File \"C:\\Users\\davul\\anaconda3\\lib\\site-packages\\sklearn\\metrics\\_scorer.py\", line 216, in __call__\n",
      "    return self._score(\n",
      "  File \"C:\\Users\\davul\\anaconda3\\lib\\site-packages\\sklearn\\metrics\\_scorer.py\", line 258, in _score\n",
      "    y_pred = method_caller(estimator, \"predict\", X)\n",
      "  File \"C:\\Users\\davul\\anaconda3\\lib\\site-packages\\sklearn\\metrics\\_scorer.py\", line 68, in _cached_call\n",
      "    return getattr(estimator, method)(*args, **kwargs)\n",
      "  File \"C:\\Users\\davul\\anaconda3\\lib\\site-packages\\scikeras\\wrappers.py\", line 1054, in predict\n",
      "    y_pred = self.target_encoder_.inverse_transform(y_pred)\n",
      "  File \"C:\\Users\\davul\\anaconda3\\lib\\site-packages\\scikeras\\utils\\transformers.py\", line 256, in inverse_transform\n",
      "    class_predictions = self._final_encoder.inverse_transform(class_predictions)\n",
      "  File \"C:\\Users\\davul\\anaconda3\\lib\\site-packages\\sklearn\\utils\\metaestimators.py\", line 113, in <lambda>\n",
      "    out = lambda *args, **kwargs: self.fn(obj, *args, **kwargs)  # noqa\n",
      "  File \"C:\\Users\\davul\\anaconda3\\lib\\site-packages\\sklearn\\pipeline.py\", line 675, in inverse_transform\n",
      "    Xt = transform.inverse_transform(Xt)\n",
      "  File \"C:\\Users\\davul\\anaconda3\\lib\\site-packages\\sklearn\\preprocessing\\_encoders.py\", line 990, in inverse_transform\n",
      "    X_tr[:, i] = self.categories_[i][labels]\n",
      "IndexError: index 3 is out of bounds for axis 0 with size 2\n",
      "\n",
      "  warnings.warn(\n"
     ]
    },
    {
     "name": "stdout",
     "output_type": "stream",
     "text": [
      "7/7 [==============================] - 0s 751us/step\n"
     ]
    },
    {
     "name": "stderr",
     "output_type": "stream",
     "text": [
      "C:\\Users\\davul\\anaconda3\\lib\\site-packages\\sklearn\\model_selection\\_validation.py:770: UserWarning: Scoring failed. The score on this train-test partition for these parameters will be set to nan. Details: \n",
      "Traceback (most recent call last):\n",
      "  File \"C:\\Users\\davul\\anaconda3\\lib\\site-packages\\sklearn\\model_selection\\_validation.py\", line 761, in _score\n",
      "    scores = scorer(estimator, X_test, y_test)\n",
      "  File \"C:\\Users\\davul\\anaconda3\\lib\\site-packages\\sklearn\\metrics\\_scorer.py\", line 216, in __call__\n",
      "    return self._score(\n",
      "  File \"C:\\Users\\davul\\anaconda3\\lib\\site-packages\\sklearn\\metrics\\_scorer.py\", line 258, in _score\n",
      "    y_pred = method_caller(estimator, \"predict\", X)\n",
      "  File \"C:\\Users\\davul\\anaconda3\\lib\\site-packages\\sklearn\\metrics\\_scorer.py\", line 68, in _cached_call\n",
      "    return getattr(estimator, method)(*args, **kwargs)\n",
      "  File \"C:\\Users\\davul\\anaconda3\\lib\\site-packages\\scikeras\\wrappers.py\", line 1054, in predict\n",
      "    y_pred = self.target_encoder_.inverse_transform(y_pred)\n",
      "  File \"C:\\Users\\davul\\anaconda3\\lib\\site-packages\\scikeras\\utils\\transformers.py\", line 256, in inverse_transform\n",
      "    class_predictions = self._final_encoder.inverse_transform(class_predictions)\n",
      "  File \"C:\\Users\\davul\\anaconda3\\lib\\site-packages\\sklearn\\utils\\metaestimators.py\", line 113, in <lambda>\n",
      "    out = lambda *args, **kwargs: self.fn(obj, *args, **kwargs)  # noqa\n",
      "  File \"C:\\Users\\davul\\anaconda3\\lib\\site-packages\\sklearn\\pipeline.py\", line 675, in inverse_transform\n",
      "    Xt = transform.inverse_transform(Xt)\n",
      "  File \"C:\\Users\\davul\\anaconda3\\lib\\site-packages\\sklearn\\preprocessing\\_encoders.py\", line 990, in inverse_transform\n",
      "    X_tr[:, i] = self.categories_[i][labels]\n",
      "IndexError: index 8 is out of bounds for axis 0 with size 2\n",
      "\n",
      "  warnings.warn(\n"
     ]
    },
    {
     "name": "stdout",
     "output_type": "stream",
     "text": [
      "7/7 [==============================] - 0s 834us/step\n"
     ]
    },
    {
     "name": "stderr",
     "output_type": "stream",
     "text": [
      "C:\\Users\\davul\\anaconda3\\lib\\site-packages\\sklearn\\model_selection\\_validation.py:770: UserWarning: Scoring failed. The score on this train-test partition for these parameters will be set to nan. Details: \n",
      "Traceback (most recent call last):\n",
      "  File \"C:\\Users\\davul\\anaconda3\\lib\\site-packages\\sklearn\\model_selection\\_validation.py\", line 761, in _score\n",
      "    scores = scorer(estimator, X_test, y_test)\n",
      "  File \"C:\\Users\\davul\\anaconda3\\lib\\site-packages\\sklearn\\metrics\\_scorer.py\", line 216, in __call__\n",
      "    return self._score(\n",
      "  File \"C:\\Users\\davul\\anaconda3\\lib\\site-packages\\sklearn\\metrics\\_scorer.py\", line 258, in _score\n",
      "    y_pred = method_caller(estimator, \"predict\", X)\n",
      "  File \"C:\\Users\\davul\\anaconda3\\lib\\site-packages\\sklearn\\metrics\\_scorer.py\", line 68, in _cached_call\n",
      "    return getattr(estimator, method)(*args, **kwargs)\n",
      "  File \"C:\\Users\\davul\\anaconda3\\lib\\site-packages\\scikeras\\wrappers.py\", line 1054, in predict\n",
      "    y_pred = self.target_encoder_.inverse_transform(y_pred)\n",
      "  File \"C:\\Users\\davul\\anaconda3\\lib\\site-packages\\scikeras\\utils\\transformers.py\", line 256, in inverse_transform\n",
      "    class_predictions = self._final_encoder.inverse_transform(class_predictions)\n",
      "  File \"C:\\Users\\davul\\anaconda3\\lib\\site-packages\\sklearn\\utils\\metaestimators.py\", line 113, in <lambda>\n",
      "    out = lambda *args, **kwargs: self.fn(obj, *args, **kwargs)  # noqa\n",
      "  File \"C:\\Users\\davul\\anaconda3\\lib\\site-packages\\sklearn\\pipeline.py\", line 675, in inverse_transform\n",
      "    Xt = transform.inverse_transform(Xt)\n",
      "  File \"C:\\Users\\davul\\anaconda3\\lib\\site-packages\\sklearn\\preprocessing\\_encoders.py\", line 990, in inverse_transform\n",
      "    X_tr[:, i] = self.categories_[i][labels]\n",
      "IndexError: index 7 is out of bounds for axis 0 with size 2\n",
      "\n",
      "  warnings.warn(\n"
     ]
    },
    {
     "name": "stdout",
     "output_type": "stream",
     "text": [
      "3/3 [==============================] - 0s 2ms/step\n"
     ]
    },
    {
     "name": "stderr",
     "output_type": "stream",
     "text": [
      "C:\\Users\\davul\\anaconda3\\lib\\site-packages\\sklearn\\model_selection\\_validation.py:770: UserWarning: Scoring failed. The score on this train-test partition for these parameters will be set to nan. Details: \n",
      "Traceback (most recent call last):\n",
      "  File \"C:\\Users\\davul\\anaconda3\\lib\\site-packages\\sklearn\\model_selection\\_validation.py\", line 761, in _score\n",
      "    scores = scorer(estimator, X_test, y_test)\n",
      "  File \"C:\\Users\\davul\\anaconda3\\lib\\site-packages\\sklearn\\metrics\\_scorer.py\", line 216, in __call__\n",
      "    return self._score(\n",
      "  File \"C:\\Users\\davul\\anaconda3\\lib\\site-packages\\sklearn\\metrics\\_scorer.py\", line 258, in _score\n",
      "    y_pred = method_caller(estimator, \"predict\", X)\n",
      "  File \"C:\\Users\\davul\\anaconda3\\lib\\site-packages\\sklearn\\metrics\\_scorer.py\", line 68, in _cached_call\n",
      "    return getattr(estimator, method)(*args, **kwargs)\n",
      "  File \"C:\\Users\\davul\\anaconda3\\lib\\site-packages\\scikeras\\wrappers.py\", line 1054, in predict\n",
      "    y_pred = self.target_encoder_.inverse_transform(y_pred)\n",
      "  File \"C:\\Users\\davul\\anaconda3\\lib\\site-packages\\scikeras\\utils\\transformers.py\", line 256, in inverse_transform\n",
      "    class_predictions = self._final_encoder.inverse_transform(class_predictions)\n",
      "  File \"C:\\Users\\davul\\anaconda3\\lib\\site-packages\\sklearn\\utils\\metaestimators.py\", line 113, in <lambda>\n",
      "    out = lambda *args, **kwargs: self.fn(obj, *args, **kwargs)  # noqa\n",
      "  File \"C:\\Users\\davul\\anaconda3\\lib\\site-packages\\sklearn\\pipeline.py\", line 675, in inverse_transform\n",
      "    Xt = transform.inverse_transform(Xt)\n",
      "  File \"C:\\Users\\davul\\anaconda3\\lib\\site-packages\\sklearn\\preprocessing\\_encoders.py\", line 990, in inverse_transform\n",
      "    X_tr[:, i] = self.categories_[i][labels]\n",
      "IndexError: index 6 is out of bounds for axis 0 with size 2\n",
      "\n",
      "  warnings.warn(\n"
     ]
    },
    {
     "name": "stdout",
     "output_type": "stream",
     "text": [
      "3/3 [==============================] - 0s 1ms/step\n"
     ]
    },
    {
     "name": "stderr",
     "output_type": "stream",
     "text": [
      "C:\\Users\\davul\\anaconda3\\lib\\site-packages\\sklearn\\model_selection\\_validation.py:770: UserWarning: Scoring failed. The score on this train-test partition for these parameters will be set to nan. Details: \n",
      "Traceback (most recent call last):\n",
      "  File \"C:\\Users\\davul\\anaconda3\\lib\\site-packages\\sklearn\\model_selection\\_validation.py\", line 761, in _score\n",
      "    scores = scorer(estimator, X_test, y_test)\n",
      "  File \"C:\\Users\\davul\\anaconda3\\lib\\site-packages\\sklearn\\metrics\\_scorer.py\", line 216, in __call__\n",
      "    return self._score(\n",
      "  File \"C:\\Users\\davul\\anaconda3\\lib\\site-packages\\sklearn\\metrics\\_scorer.py\", line 258, in _score\n",
      "    y_pred = method_caller(estimator, \"predict\", X)\n",
      "  File \"C:\\Users\\davul\\anaconda3\\lib\\site-packages\\sklearn\\metrics\\_scorer.py\", line 68, in _cached_call\n",
      "    return getattr(estimator, method)(*args, **kwargs)\n",
      "  File \"C:\\Users\\davul\\anaconda3\\lib\\site-packages\\scikeras\\wrappers.py\", line 1054, in predict\n",
      "    y_pred = self.target_encoder_.inverse_transform(y_pred)\n",
      "  File \"C:\\Users\\davul\\anaconda3\\lib\\site-packages\\scikeras\\utils\\transformers.py\", line 256, in inverse_transform\n",
      "    class_predictions = self._final_encoder.inverse_transform(class_predictions)\n",
      "  File \"C:\\Users\\davul\\anaconda3\\lib\\site-packages\\sklearn\\utils\\metaestimators.py\", line 113, in <lambda>\n",
      "    out = lambda *args, **kwargs: self.fn(obj, *args, **kwargs)  # noqa\n",
      "  File \"C:\\Users\\davul\\anaconda3\\lib\\site-packages\\sklearn\\pipeline.py\", line 675, in inverse_transform\n",
      "    Xt = transform.inverse_transform(Xt)\n",
      "  File \"C:\\Users\\davul\\anaconda3\\lib\\site-packages\\sklearn\\preprocessing\\_encoders.py\", line 990, in inverse_transform\n",
      "    X_tr[:, i] = self.categories_[i][labels]\n",
      "IndexError: index 8 is out of bounds for axis 0 with size 2\n",
      "\n",
      "  warnings.warn(\n"
     ]
    },
    {
     "name": "stdout",
     "output_type": "stream",
     "text": [
      "3/3 [==============================] - 0s 1ms/step\n"
     ]
    },
    {
     "name": "stderr",
     "output_type": "stream",
     "text": [
      "C:\\Users\\davul\\anaconda3\\lib\\site-packages\\sklearn\\model_selection\\_validation.py:770: UserWarning: Scoring failed. The score on this train-test partition for these parameters will be set to nan. Details: \n",
      "Traceback (most recent call last):\n",
      "  File \"C:\\Users\\davul\\anaconda3\\lib\\site-packages\\sklearn\\model_selection\\_validation.py\", line 761, in _score\n",
      "    scores = scorer(estimator, X_test, y_test)\n",
      "  File \"C:\\Users\\davul\\anaconda3\\lib\\site-packages\\sklearn\\metrics\\_scorer.py\", line 216, in __call__\n",
      "    return self._score(\n",
      "  File \"C:\\Users\\davul\\anaconda3\\lib\\site-packages\\sklearn\\metrics\\_scorer.py\", line 258, in _score\n",
      "    y_pred = method_caller(estimator, \"predict\", X)\n",
      "  File \"C:\\Users\\davul\\anaconda3\\lib\\site-packages\\sklearn\\metrics\\_scorer.py\", line 68, in _cached_call\n",
      "    return getattr(estimator, method)(*args, **kwargs)\n",
      "  File \"C:\\Users\\davul\\anaconda3\\lib\\site-packages\\scikeras\\wrappers.py\", line 1054, in predict\n",
      "    y_pred = self.target_encoder_.inverse_transform(y_pred)\n",
      "  File \"C:\\Users\\davul\\anaconda3\\lib\\site-packages\\scikeras\\utils\\transformers.py\", line 256, in inverse_transform\n",
      "    class_predictions = self._final_encoder.inverse_transform(class_predictions)\n",
      "  File \"C:\\Users\\davul\\anaconda3\\lib\\site-packages\\sklearn\\utils\\metaestimators.py\", line 113, in <lambda>\n",
      "    out = lambda *args, **kwargs: self.fn(obj, *args, **kwargs)  # noqa\n",
      "  File \"C:\\Users\\davul\\anaconda3\\lib\\site-packages\\sklearn\\pipeline.py\", line 675, in inverse_transform\n",
      "    Xt = transform.inverse_transform(Xt)\n",
      "  File \"C:\\Users\\davul\\anaconda3\\lib\\site-packages\\sklearn\\preprocessing\\_encoders.py\", line 990, in inverse_transform\n",
      "    X_tr[:, i] = self.categories_[i][labels]\n",
      "IndexError: index 6 is out of bounds for axis 0 with size 2\n",
      "\n",
      "  warnings.warn(\n"
     ]
    },
    {
     "name": "stdout",
     "output_type": "stream",
     "text": [
      "3/3 [==============================] - 0s 1ms/step\n"
     ]
    },
    {
     "name": "stderr",
     "output_type": "stream",
     "text": [
      "C:\\Users\\davul\\anaconda3\\lib\\site-packages\\sklearn\\model_selection\\_validation.py:770: UserWarning: Scoring failed. The score on this train-test partition for these parameters will be set to nan. Details: \n",
      "Traceback (most recent call last):\n",
      "  File \"C:\\Users\\davul\\anaconda3\\lib\\site-packages\\sklearn\\model_selection\\_validation.py\", line 761, in _score\n",
      "    scores = scorer(estimator, X_test, y_test)\n",
      "  File \"C:\\Users\\davul\\anaconda3\\lib\\site-packages\\sklearn\\metrics\\_scorer.py\", line 216, in __call__\n",
      "    return self._score(\n",
      "  File \"C:\\Users\\davul\\anaconda3\\lib\\site-packages\\sklearn\\metrics\\_scorer.py\", line 258, in _score\n",
      "    y_pred = method_caller(estimator, \"predict\", X)\n",
      "  File \"C:\\Users\\davul\\anaconda3\\lib\\site-packages\\sklearn\\metrics\\_scorer.py\", line 68, in _cached_call\n",
      "    return getattr(estimator, method)(*args, **kwargs)\n",
      "  File \"C:\\Users\\davul\\anaconda3\\lib\\site-packages\\scikeras\\wrappers.py\", line 1054, in predict\n",
      "    y_pred = self.target_encoder_.inverse_transform(y_pred)\n",
      "  File \"C:\\Users\\davul\\anaconda3\\lib\\site-packages\\scikeras\\utils\\transformers.py\", line 256, in inverse_transform\n",
      "    class_predictions = self._final_encoder.inverse_transform(class_predictions)\n",
      "  File \"C:\\Users\\davul\\anaconda3\\lib\\site-packages\\sklearn\\utils\\metaestimators.py\", line 113, in <lambda>\n",
      "    out = lambda *args, **kwargs: self.fn(obj, *args, **kwargs)  # noqa\n",
      "  File \"C:\\Users\\davul\\anaconda3\\lib\\site-packages\\sklearn\\pipeline.py\", line 675, in inverse_transform\n",
      "    Xt = transform.inverse_transform(Xt)\n",
      "  File \"C:\\Users\\davul\\anaconda3\\lib\\site-packages\\sklearn\\preprocessing\\_encoders.py\", line 990, in inverse_transform\n",
      "    X_tr[:, i] = self.categories_[i][labels]\n",
      "IndexError: index 9 is out of bounds for axis 0 with size 2\n",
      "\n",
      "  warnings.warn(\n"
     ]
    },
    {
     "name": "stdout",
     "output_type": "stream",
     "text": [
      "3/3 [==============================] - 0s 1ms/step\n"
     ]
    },
    {
     "name": "stderr",
     "output_type": "stream",
     "text": [
      "C:\\Users\\davul\\anaconda3\\lib\\site-packages\\sklearn\\model_selection\\_validation.py:770: UserWarning: Scoring failed. The score on this train-test partition for these parameters will be set to nan. Details: \n",
      "Traceback (most recent call last):\n",
      "  File \"C:\\Users\\davul\\anaconda3\\lib\\site-packages\\sklearn\\model_selection\\_validation.py\", line 761, in _score\n",
      "    scores = scorer(estimator, X_test, y_test)\n",
      "  File \"C:\\Users\\davul\\anaconda3\\lib\\site-packages\\sklearn\\metrics\\_scorer.py\", line 216, in __call__\n",
      "    return self._score(\n",
      "  File \"C:\\Users\\davul\\anaconda3\\lib\\site-packages\\sklearn\\metrics\\_scorer.py\", line 258, in _score\n",
      "    y_pred = method_caller(estimator, \"predict\", X)\n",
      "  File \"C:\\Users\\davul\\anaconda3\\lib\\site-packages\\sklearn\\metrics\\_scorer.py\", line 68, in _cached_call\n",
      "    return getattr(estimator, method)(*args, **kwargs)\n",
      "  File \"C:\\Users\\davul\\anaconda3\\lib\\site-packages\\scikeras\\wrappers.py\", line 1054, in predict\n",
      "    y_pred = self.target_encoder_.inverse_transform(y_pred)\n",
      "  File \"C:\\Users\\davul\\anaconda3\\lib\\site-packages\\scikeras\\utils\\transformers.py\", line 256, in inverse_transform\n",
      "    class_predictions = self._final_encoder.inverse_transform(class_predictions)\n",
      "  File \"C:\\Users\\davul\\anaconda3\\lib\\site-packages\\sklearn\\utils\\metaestimators.py\", line 113, in <lambda>\n",
      "    out = lambda *args, **kwargs: self.fn(obj, *args, **kwargs)  # noqa\n",
      "  File \"C:\\Users\\davul\\anaconda3\\lib\\site-packages\\sklearn\\pipeline.py\", line 675, in inverse_transform\n",
      "    Xt = transform.inverse_transform(Xt)\n",
      "  File \"C:\\Users\\davul\\anaconda3\\lib\\site-packages\\sklearn\\preprocessing\\_encoders.py\", line 990, in inverse_transform\n",
      "    X_tr[:, i] = self.categories_[i][labels]\n",
      "IndexError: index 4 is out of bounds for axis 0 with size 2\n",
      "\n",
      "  warnings.warn(\n"
     ]
    },
    {
     "name": "stdout",
     "output_type": "stream",
     "text": [
      "2/2 [==============================] - 0s 2ms/step\n"
     ]
    },
    {
     "name": "stderr",
     "output_type": "stream",
     "text": [
      "C:\\Users\\davul\\anaconda3\\lib\\site-packages\\sklearn\\model_selection\\_validation.py:770: UserWarning: Scoring failed. The score on this train-test partition for these parameters will be set to nan. Details: \n",
      "Traceback (most recent call last):\n",
      "  File \"C:\\Users\\davul\\anaconda3\\lib\\site-packages\\sklearn\\model_selection\\_validation.py\", line 761, in _score\n",
      "    scores = scorer(estimator, X_test, y_test)\n",
      "  File \"C:\\Users\\davul\\anaconda3\\lib\\site-packages\\sklearn\\metrics\\_scorer.py\", line 216, in __call__\n",
      "    return self._score(\n",
      "  File \"C:\\Users\\davul\\anaconda3\\lib\\site-packages\\sklearn\\metrics\\_scorer.py\", line 258, in _score\n",
      "    y_pred = method_caller(estimator, \"predict\", X)\n",
      "  File \"C:\\Users\\davul\\anaconda3\\lib\\site-packages\\sklearn\\metrics\\_scorer.py\", line 68, in _cached_call\n",
      "    return getattr(estimator, method)(*args, **kwargs)\n",
      "  File \"C:\\Users\\davul\\anaconda3\\lib\\site-packages\\scikeras\\wrappers.py\", line 1054, in predict\n",
      "    y_pred = self.target_encoder_.inverse_transform(y_pred)\n",
      "  File \"C:\\Users\\davul\\anaconda3\\lib\\site-packages\\scikeras\\utils\\transformers.py\", line 256, in inverse_transform\n",
      "    class_predictions = self._final_encoder.inverse_transform(class_predictions)\n",
      "  File \"C:\\Users\\davul\\anaconda3\\lib\\site-packages\\sklearn\\utils\\metaestimators.py\", line 113, in <lambda>\n",
      "    out = lambda *args, **kwargs: self.fn(obj, *args, **kwargs)  # noqa\n",
      "  File \"C:\\Users\\davul\\anaconda3\\lib\\site-packages\\sklearn\\pipeline.py\", line 675, in inverse_transform\n",
      "    Xt = transform.inverse_transform(Xt)\n",
      "  File \"C:\\Users\\davul\\anaconda3\\lib\\site-packages\\sklearn\\preprocessing\\_encoders.py\", line 990, in inverse_transform\n",
      "    X_tr[:, i] = self.categories_[i][labels]\n",
      "IndexError: index 6 is out of bounds for axis 0 with size 2\n",
      "\n",
      "  warnings.warn(\n"
     ]
    },
    {
     "name": "stdout",
     "output_type": "stream",
     "text": [
      "2/2 [==============================] - 0s 2ms/step\n"
     ]
    },
    {
     "name": "stderr",
     "output_type": "stream",
     "text": [
      "C:\\Users\\davul\\anaconda3\\lib\\site-packages\\sklearn\\model_selection\\_validation.py:770: UserWarning: Scoring failed. The score on this train-test partition for these parameters will be set to nan. Details: \n",
      "Traceback (most recent call last):\n",
      "  File \"C:\\Users\\davul\\anaconda3\\lib\\site-packages\\sklearn\\model_selection\\_validation.py\", line 761, in _score\n",
      "    scores = scorer(estimator, X_test, y_test)\n",
      "  File \"C:\\Users\\davul\\anaconda3\\lib\\site-packages\\sklearn\\metrics\\_scorer.py\", line 216, in __call__\n",
      "    return self._score(\n",
      "  File \"C:\\Users\\davul\\anaconda3\\lib\\site-packages\\sklearn\\metrics\\_scorer.py\", line 258, in _score\n",
      "    y_pred = method_caller(estimator, \"predict\", X)\n",
      "  File \"C:\\Users\\davul\\anaconda3\\lib\\site-packages\\sklearn\\metrics\\_scorer.py\", line 68, in _cached_call\n",
      "    return getattr(estimator, method)(*args, **kwargs)\n",
      "  File \"C:\\Users\\davul\\anaconda3\\lib\\site-packages\\scikeras\\wrappers.py\", line 1054, in predict\n",
      "    y_pred = self.target_encoder_.inverse_transform(y_pred)\n",
      "  File \"C:\\Users\\davul\\anaconda3\\lib\\site-packages\\scikeras\\utils\\transformers.py\", line 256, in inverse_transform\n",
      "    class_predictions = self._final_encoder.inverse_transform(class_predictions)\n",
      "  File \"C:\\Users\\davul\\anaconda3\\lib\\site-packages\\sklearn\\utils\\metaestimators.py\", line 113, in <lambda>\n",
      "    out = lambda *args, **kwargs: self.fn(obj, *args, **kwargs)  # noqa\n",
      "  File \"C:\\Users\\davul\\anaconda3\\lib\\site-packages\\sklearn\\pipeline.py\", line 675, in inverse_transform\n",
      "    Xt = transform.inverse_transform(Xt)\n",
      "  File \"C:\\Users\\davul\\anaconda3\\lib\\site-packages\\sklearn\\preprocessing\\_encoders.py\", line 990, in inverse_transform\n",
      "    X_tr[:, i] = self.categories_[i][labels]\n",
      "IndexError: index 8 is out of bounds for axis 0 with size 2\n",
      "\n",
      "  warnings.warn(\n"
     ]
    },
    {
     "name": "stdout",
     "output_type": "stream",
     "text": [
      "2/2 [==============================] - 0s 2ms/step\n"
     ]
    },
    {
     "name": "stderr",
     "output_type": "stream",
     "text": [
      "C:\\Users\\davul\\anaconda3\\lib\\site-packages\\sklearn\\model_selection\\_validation.py:770: UserWarning: Scoring failed. The score on this train-test partition for these parameters will be set to nan. Details: \n",
      "Traceback (most recent call last):\n",
      "  File \"C:\\Users\\davul\\anaconda3\\lib\\site-packages\\sklearn\\model_selection\\_validation.py\", line 761, in _score\n",
      "    scores = scorer(estimator, X_test, y_test)\n",
      "  File \"C:\\Users\\davul\\anaconda3\\lib\\site-packages\\sklearn\\metrics\\_scorer.py\", line 216, in __call__\n",
      "    return self._score(\n",
      "  File \"C:\\Users\\davul\\anaconda3\\lib\\site-packages\\sklearn\\metrics\\_scorer.py\", line 258, in _score\n",
      "    y_pred = method_caller(estimator, \"predict\", X)\n",
      "  File \"C:\\Users\\davul\\anaconda3\\lib\\site-packages\\sklearn\\metrics\\_scorer.py\", line 68, in _cached_call\n",
      "    return getattr(estimator, method)(*args, **kwargs)\n",
      "  File \"C:\\Users\\davul\\anaconda3\\lib\\site-packages\\scikeras\\wrappers.py\", line 1054, in predict\n",
      "    y_pred = self.target_encoder_.inverse_transform(y_pred)\n",
      "  File \"C:\\Users\\davul\\anaconda3\\lib\\site-packages\\scikeras\\utils\\transformers.py\", line 256, in inverse_transform\n",
      "    class_predictions = self._final_encoder.inverse_transform(class_predictions)\n",
      "  File \"C:\\Users\\davul\\anaconda3\\lib\\site-packages\\sklearn\\utils\\metaestimators.py\", line 113, in <lambda>\n",
      "    out = lambda *args, **kwargs: self.fn(obj, *args, **kwargs)  # noqa\n",
      "  File \"C:\\Users\\davul\\anaconda3\\lib\\site-packages\\sklearn\\pipeline.py\", line 675, in inverse_transform\n",
      "    Xt = transform.inverse_transform(Xt)\n",
      "  File \"C:\\Users\\davul\\anaconda3\\lib\\site-packages\\sklearn\\preprocessing\\_encoders.py\", line 990, in inverse_transform\n",
      "    X_tr[:, i] = self.categories_[i][labels]\n",
      "IndexError: index 5 is out of bounds for axis 0 with size 2\n",
      "\n",
      "  warnings.warn(\n"
     ]
    },
    {
     "name": "stdout",
     "output_type": "stream",
     "text": [
      "2/2 [==============================] - 0s 2ms/step\n"
     ]
    },
    {
     "name": "stderr",
     "output_type": "stream",
     "text": [
      "C:\\Users\\davul\\anaconda3\\lib\\site-packages\\sklearn\\model_selection\\_validation.py:770: UserWarning: Scoring failed. The score on this train-test partition for these parameters will be set to nan. Details: \n",
      "Traceback (most recent call last):\n",
      "  File \"C:\\Users\\davul\\anaconda3\\lib\\site-packages\\sklearn\\model_selection\\_validation.py\", line 761, in _score\n",
      "    scores = scorer(estimator, X_test, y_test)\n",
      "  File \"C:\\Users\\davul\\anaconda3\\lib\\site-packages\\sklearn\\metrics\\_scorer.py\", line 216, in __call__\n",
      "    return self._score(\n",
      "  File \"C:\\Users\\davul\\anaconda3\\lib\\site-packages\\sklearn\\metrics\\_scorer.py\", line 258, in _score\n",
      "    y_pred = method_caller(estimator, \"predict\", X)\n",
      "  File \"C:\\Users\\davul\\anaconda3\\lib\\site-packages\\sklearn\\metrics\\_scorer.py\", line 68, in _cached_call\n",
      "    return getattr(estimator, method)(*args, **kwargs)\n",
      "  File \"C:\\Users\\davul\\anaconda3\\lib\\site-packages\\scikeras\\wrappers.py\", line 1054, in predict\n",
      "    y_pred = self.target_encoder_.inverse_transform(y_pred)\n",
      "  File \"C:\\Users\\davul\\anaconda3\\lib\\site-packages\\scikeras\\utils\\transformers.py\", line 256, in inverse_transform\n",
      "    class_predictions = self._final_encoder.inverse_transform(class_predictions)\n",
      "  File \"C:\\Users\\davul\\anaconda3\\lib\\site-packages\\sklearn\\utils\\metaestimators.py\", line 113, in <lambda>\n",
      "    out = lambda *args, **kwargs: self.fn(obj, *args, **kwargs)  # noqa\n",
      "  File \"C:\\Users\\davul\\anaconda3\\lib\\site-packages\\sklearn\\pipeline.py\", line 675, in inverse_transform\n",
      "    Xt = transform.inverse_transform(Xt)\n",
      "  File \"C:\\Users\\davul\\anaconda3\\lib\\site-packages\\sklearn\\preprocessing\\_encoders.py\", line 990, in inverse_transform\n",
      "    X_tr[:, i] = self.categories_[i][labels]\n",
      "IndexError: index 8 is out of bounds for axis 0 with size 2\n",
      "\n",
      "  warnings.warn(\n"
     ]
    },
    {
     "name": "stdout",
     "output_type": "stream",
     "text": [
      "2/2 [==============================] - 0s 1ms/step\n"
     ]
    },
    {
     "name": "stderr",
     "output_type": "stream",
     "text": [
      "C:\\Users\\davul\\anaconda3\\lib\\site-packages\\sklearn\\model_selection\\_validation.py:770: UserWarning: Scoring failed. The score on this train-test partition for these parameters will be set to nan. Details: \n",
      "Traceback (most recent call last):\n",
      "  File \"C:\\Users\\davul\\anaconda3\\lib\\site-packages\\sklearn\\model_selection\\_validation.py\", line 761, in _score\n",
      "    scores = scorer(estimator, X_test, y_test)\n",
      "  File \"C:\\Users\\davul\\anaconda3\\lib\\site-packages\\sklearn\\metrics\\_scorer.py\", line 216, in __call__\n",
      "    return self._score(\n",
      "  File \"C:\\Users\\davul\\anaconda3\\lib\\site-packages\\sklearn\\metrics\\_scorer.py\", line 258, in _score\n",
      "    y_pred = method_caller(estimator, \"predict\", X)\n",
      "  File \"C:\\Users\\davul\\anaconda3\\lib\\site-packages\\sklearn\\metrics\\_scorer.py\", line 68, in _cached_call\n",
      "    return getattr(estimator, method)(*args, **kwargs)\n",
      "  File \"C:\\Users\\davul\\anaconda3\\lib\\site-packages\\scikeras\\wrappers.py\", line 1054, in predict\n",
      "    y_pred = self.target_encoder_.inverse_transform(y_pred)\n",
      "  File \"C:\\Users\\davul\\anaconda3\\lib\\site-packages\\scikeras\\utils\\transformers.py\", line 256, in inverse_transform\n",
      "    class_predictions = self._final_encoder.inverse_transform(class_predictions)\n",
      "  File \"C:\\Users\\davul\\anaconda3\\lib\\site-packages\\sklearn\\utils\\metaestimators.py\", line 113, in <lambda>\n",
      "    out = lambda *args, **kwargs: self.fn(obj, *args, **kwargs)  # noqa\n",
      "  File \"C:\\Users\\davul\\anaconda3\\lib\\site-packages\\sklearn\\pipeline.py\", line 675, in inverse_transform\n",
      "    Xt = transform.inverse_transform(Xt)\n",
      "  File \"C:\\Users\\davul\\anaconda3\\lib\\site-packages\\sklearn\\preprocessing\\_encoders.py\", line 990, in inverse_transform\n",
      "    X_tr[:, i] = self.categories_[i][labels]\n",
      "IndexError: index 5 is out of bounds for axis 0 with size 2\n",
      "\n",
      "  warnings.warn(\n"
     ]
    },
    {
     "name": "stdout",
     "output_type": "stream",
     "text": [
      "2/2 [==============================] - 0s 1ms/step\n"
     ]
    },
    {
     "name": "stderr",
     "output_type": "stream",
     "text": [
      "C:\\Users\\davul\\anaconda3\\lib\\site-packages\\sklearn\\model_selection\\_validation.py:770: UserWarning: Scoring failed. The score on this train-test partition for these parameters will be set to nan. Details: \n",
      "Traceback (most recent call last):\n",
      "  File \"C:\\Users\\davul\\anaconda3\\lib\\site-packages\\sklearn\\model_selection\\_validation.py\", line 761, in _score\n",
      "    scores = scorer(estimator, X_test, y_test)\n",
      "  File \"C:\\Users\\davul\\anaconda3\\lib\\site-packages\\sklearn\\metrics\\_scorer.py\", line 216, in __call__\n",
      "    return self._score(\n",
      "  File \"C:\\Users\\davul\\anaconda3\\lib\\site-packages\\sklearn\\metrics\\_scorer.py\", line 258, in _score\n",
      "    y_pred = method_caller(estimator, \"predict\", X)\n",
      "  File \"C:\\Users\\davul\\anaconda3\\lib\\site-packages\\sklearn\\metrics\\_scorer.py\", line 68, in _cached_call\n",
      "    return getattr(estimator, method)(*args, **kwargs)\n",
      "  File \"C:\\Users\\davul\\anaconda3\\lib\\site-packages\\scikeras\\wrappers.py\", line 1054, in predict\n",
      "    y_pred = self.target_encoder_.inverse_transform(y_pred)\n",
      "  File \"C:\\Users\\davul\\anaconda3\\lib\\site-packages\\scikeras\\utils\\transformers.py\", line 256, in inverse_transform\n",
      "    class_predictions = self._final_encoder.inverse_transform(class_predictions)\n",
      "  File \"C:\\Users\\davul\\anaconda3\\lib\\site-packages\\sklearn\\utils\\metaestimators.py\", line 113, in <lambda>\n",
      "    out = lambda *args, **kwargs: self.fn(obj, *args, **kwargs)  # noqa\n",
      "  File \"C:\\Users\\davul\\anaconda3\\lib\\site-packages\\sklearn\\pipeline.py\", line 675, in inverse_transform\n",
      "    Xt = transform.inverse_transform(Xt)\n",
      "  File \"C:\\Users\\davul\\anaconda3\\lib\\site-packages\\sklearn\\preprocessing\\_encoders.py\", line 990, in inverse_transform\n",
      "    X_tr[:, i] = self.categories_[i][labels]\n",
      "IndexError: index 5 is out of bounds for axis 0 with size 2\n",
      "\n",
      "  warnings.warn(\n"
     ]
    },
    {
     "name": "stdout",
     "output_type": "stream",
     "text": [
      "2/2 [==============================] - 0s 2ms/step\n"
     ]
    },
    {
     "name": "stderr",
     "output_type": "stream",
     "text": [
      "C:\\Users\\davul\\anaconda3\\lib\\site-packages\\sklearn\\model_selection\\_validation.py:770: UserWarning: Scoring failed. The score on this train-test partition for these parameters will be set to nan. Details: \n",
      "Traceback (most recent call last):\n",
      "  File \"C:\\Users\\davul\\anaconda3\\lib\\site-packages\\sklearn\\model_selection\\_validation.py\", line 761, in _score\n",
      "    scores = scorer(estimator, X_test, y_test)\n",
      "  File \"C:\\Users\\davul\\anaconda3\\lib\\site-packages\\sklearn\\metrics\\_scorer.py\", line 216, in __call__\n",
      "    return self._score(\n",
      "  File \"C:\\Users\\davul\\anaconda3\\lib\\site-packages\\sklearn\\metrics\\_scorer.py\", line 258, in _score\n",
      "    y_pred = method_caller(estimator, \"predict\", X)\n",
      "  File \"C:\\Users\\davul\\anaconda3\\lib\\site-packages\\sklearn\\metrics\\_scorer.py\", line 68, in _cached_call\n",
      "    return getattr(estimator, method)(*args, **kwargs)\n",
      "  File \"C:\\Users\\davul\\anaconda3\\lib\\site-packages\\scikeras\\wrappers.py\", line 1054, in predict\n",
      "    y_pred = self.target_encoder_.inverse_transform(y_pred)\n",
      "  File \"C:\\Users\\davul\\anaconda3\\lib\\site-packages\\scikeras\\utils\\transformers.py\", line 256, in inverse_transform\n",
      "    class_predictions = self._final_encoder.inverse_transform(class_predictions)\n",
      "  File \"C:\\Users\\davul\\anaconda3\\lib\\site-packages\\sklearn\\utils\\metaestimators.py\", line 113, in <lambda>\n",
      "    out = lambda *args, **kwargs: self.fn(obj, *args, **kwargs)  # noqa\n",
      "  File \"C:\\Users\\davul\\anaconda3\\lib\\site-packages\\sklearn\\pipeline.py\", line 675, in inverse_transform\n",
      "    Xt = transform.inverse_transform(Xt)\n",
      "  File \"C:\\Users\\davul\\anaconda3\\lib\\site-packages\\sklearn\\preprocessing\\_encoders.py\", line 990, in inverse_transform\n",
      "    X_tr[:, i] = self.categories_[i][labels]\n",
      "IndexError: index 7 is out of bounds for axis 0 with size 2\n",
      "\n",
      "  warnings.warn(\n"
     ]
    },
    {
     "name": "stdout",
     "output_type": "stream",
     "text": [
      "2/2 [==============================] - 0s 2ms/step\n"
     ]
    },
    {
     "name": "stderr",
     "output_type": "stream",
     "text": [
      "C:\\Users\\davul\\anaconda3\\lib\\site-packages\\sklearn\\model_selection\\_validation.py:770: UserWarning: Scoring failed. The score on this train-test partition for these parameters will be set to nan. Details: \n",
      "Traceback (most recent call last):\n",
      "  File \"C:\\Users\\davul\\anaconda3\\lib\\site-packages\\sklearn\\model_selection\\_validation.py\", line 761, in _score\n",
      "    scores = scorer(estimator, X_test, y_test)\n",
      "  File \"C:\\Users\\davul\\anaconda3\\lib\\site-packages\\sklearn\\metrics\\_scorer.py\", line 216, in __call__\n",
      "    return self._score(\n",
      "  File \"C:\\Users\\davul\\anaconda3\\lib\\site-packages\\sklearn\\metrics\\_scorer.py\", line 258, in _score\n",
      "    y_pred = method_caller(estimator, \"predict\", X)\n",
      "  File \"C:\\Users\\davul\\anaconda3\\lib\\site-packages\\sklearn\\metrics\\_scorer.py\", line 68, in _cached_call\n",
      "    return getattr(estimator, method)(*args, **kwargs)\n",
      "  File \"C:\\Users\\davul\\anaconda3\\lib\\site-packages\\scikeras\\wrappers.py\", line 1054, in predict\n",
      "    y_pred = self.target_encoder_.inverse_transform(y_pred)\n",
      "  File \"C:\\Users\\davul\\anaconda3\\lib\\site-packages\\scikeras\\utils\\transformers.py\", line 256, in inverse_transform\n",
      "    class_predictions = self._final_encoder.inverse_transform(class_predictions)\n",
      "  File \"C:\\Users\\davul\\anaconda3\\lib\\site-packages\\sklearn\\utils\\metaestimators.py\", line 113, in <lambda>\n",
      "    out = lambda *args, **kwargs: self.fn(obj, *args, **kwargs)  # noqa\n",
      "  File \"C:\\Users\\davul\\anaconda3\\lib\\site-packages\\sklearn\\pipeline.py\", line 675, in inverse_transform\n",
      "    Xt = transform.inverse_transform(Xt)\n",
      "  File \"C:\\Users\\davul\\anaconda3\\lib\\site-packages\\sklearn\\preprocessing\\_encoders.py\", line 990, in inverse_transform\n",
      "    X_tr[:, i] = self.categories_[i][labels]\n",
      "IndexError: index 8 is out of bounds for axis 0 with size 2\n",
      "\n",
      "  warnings.warn(\n"
     ]
    },
    {
     "name": "stdout",
     "output_type": "stream",
     "text": [
      "2/2 [==============================] - 0s 2ms/step\n",
      "2/2 [==============================] - 0s 2ms/step\n"
     ]
    },
    {
     "name": "stderr",
     "output_type": "stream",
     "text": [
      "C:\\Users\\davul\\anaconda3\\lib\\site-packages\\sklearn\\model_selection\\_validation.py:770: UserWarning: Scoring failed. The score on this train-test partition for these parameters will be set to nan. Details: \n",
      "Traceback (most recent call last):\n",
      "  File \"C:\\Users\\davul\\anaconda3\\lib\\site-packages\\sklearn\\model_selection\\_validation.py\", line 761, in _score\n",
      "    scores = scorer(estimator, X_test, y_test)\n",
      "  File \"C:\\Users\\davul\\anaconda3\\lib\\site-packages\\sklearn\\metrics\\_scorer.py\", line 216, in __call__\n",
      "    return self._score(\n",
      "  File \"C:\\Users\\davul\\anaconda3\\lib\\site-packages\\sklearn\\metrics\\_scorer.py\", line 258, in _score\n",
      "    y_pred = method_caller(estimator, \"predict\", X)\n",
      "  File \"C:\\Users\\davul\\anaconda3\\lib\\site-packages\\sklearn\\metrics\\_scorer.py\", line 68, in _cached_call\n",
      "    return getattr(estimator, method)(*args, **kwargs)\n",
      "  File \"C:\\Users\\davul\\anaconda3\\lib\\site-packages\\scikeras\\wrappers.py\", line 1054, in predict\n",
      "    y_pred = self.target_encoder_.inverse_transform(y_pred)\n",
      "  File \"C:\\Users\\davul\\anaconda3\\lib\\site-packages\\scikeras\\utils\\transformers.py\", line 256, in inverse_transform\n",
      "    class_predictions = self._final_encoder.inverse_transform(class_predictions)\n",
      "  File \"C:\\Users\\davul\\anaconda3\\lib\\site-packages\\sklearn\\utils\\metaestimators.py\", line 113, in <lambda>\n",
      "    out = lambda *args, **kwargs: self.fn(obj, *args, **kwargs)  # noqa\n",
      "  File \"C:\\Users\\davul\\anaconda3\\lib\\site-packages\\sklearn\\pipeline.py\", line 675, in inverse_transform\n",
      "    Xt = transform.inverse_transform(Xt)\n",
      "  File \"C:\\Users\\davul\\anaconda3\\lib\\site-packages\\sklearn\\preprocessing\\_encoders.py\", line 990, in inverse_transform\n",
      "    X_tr[:, i] = self.categories_[i][labels]\n",
      "IndexError: index 5 is out of bounds for axis 0 with size 2\n",
      "\n",
      "  warnings.warn(\n"
     ]
    },
    {
     "name": "stdout",
     "output_type": "stream",
     "text": [
      "2/2 [==============================] - 0s 1000us/step\n",
      "2/2 [==============================] - 0s 2ms/step\n"
     ]
    },
    {
     "name": "stderr",
     "output_type": "stream",
     "text": [
      "C:\\Users\\davul\\anaconda3\\lib\\site-packages\\sklearn\\model_selection\\_validation.py:770: UserWarning: Scoring failed. The score on this train-test partition for these parameters will be set to nan. Details: \n",
      "Traceback (most recent call last):\n",
      "  File \"C:\\Users\\davul\\anaconda3\\lib\\site-packages\\sklearn\\model_selection\\_validation.py\", line 761, in _score\n",
      "    scores = scorer(estimator, X_test, y_test)\n",
      "  File \"C:\\Users\\davul\\anaconda3\\lib\\site-packages\\sklearn\\metrics\\_scorer.py\", line 216, in __call__\n",
      "    return self._score(\n",
      "  File \"C:\\Users\\davul\\anaconda3\\lib\\site-packages\\sklearn\\metrics\\_scorer.py\", line 258, in _score\n",
      "    y_pred = method_caller(estimator, \"predict\", X)\n",
      "  File \"C:\\Users\\davul\\anaconda3\\lib\\site-packages\\sklearn\\metrics\\_scorer.py\", line 68, in _cached_call\n",
      "    return getattr(estimator, method)(*args, **kwargs)\n",
      "  File \"C:\\Users\\davul\\anaconda3\\lib\\site-packages\\scikeras\\wrappers.py\", line 1054, in predict\n",
      "    y_pred = self.target_encoder_.inverse_transform(y_pred)\n",
      "  File \"C:\\Users\\davul\\anaconda3\\lib\\site-packages\\scikeras\\utils\\transformers.py\", line 256, in inverse_transform\n",
      "    class_predictions = self._final_encoder.inverse_transform(class_predictions)\n",
      "  File \"C:\\Users\\davul\\anaconda3\\lib\\site-packages\\sklearn\\utils\\metaestimators.py\", line 113, in <lambda>\n",
      "    out = lambda *args, **kwargs: self.fn(obj, *args, **kwargs)  # noqa\n",
      "  File \"C:\\Users\\davul\\anaconda3\\lib\\site-packages\\sklearn\\pipeline.py\", line 675, in inverse_transform\n",
      "    Xt = transform.inverse_transform(Xt)\n",
      "  File \"C:\\Users\\davul\\anaconda3\\lib\\site-packages\\sklearn\\preprocessing\\_encoders.py\", line 990, in inverse_transform\n",
      "    X_tr[:, i] = self.categories_[i][labels]\n",
      "IndexError: index 2 is out of bounds for axis 0 with size 2\n",
      "\n",
      "  warnings.warn(\n"
     ]
    },
    {
     "name": "stdout",
     "output_type": "stream",
     "text": [
      "2/2 [==============================] - 0s 2ms/step\n"
     ]
    },
    {
     "name": "stderr",
     "output_type": "stream",
     "text": [
      "C:\\Users\\davul\\anaconda3\\lib\\site-packages\\sklearn\\model_selection\\_validation.py:770: UserWarning: Scoring failed. The score on this train-test partition for these parameters will be set to nan. Details: \n",
      "Traceback (most recent call last):\n",
      "  File \"C:\\Users\\davul\\anaconda3\\lib\\site-packages\\sklearn\\model_selection\\_validation.py\", line 761, in _score\n",
      "    scores = scorer(estimator, X_test, y_test)\n",
      "  File \"C:\\Users\\davul\\anaconda3\\lib\\site-packages\\sklearn\\metrics\\_scorer.py\", line 216, in __call__\n",
      "    return self._score(\n",
      "  File \"C:\\Users\\davul\\anaconda3\\lib\\site-packages\\sklearn\\metrics\\_scorer.py\", line 258, in _score\n",
      "    y_pred = method_caller(estimator, \"predict\", X)\n",
      "  File \"C:\\Users\\davul\\anaconda3\\lib\\site-packages\\sklearn\\metrics\\_scorer.py\", line 68, in _cached_call\n",
      "    return getattr(estimator, method)(*args, **kwargs)\n",
      "  File \"C:\\Users\\davul\\anaconda3\\lib\\site-packages\\scikeras\\wrappers.py\", line 1054, in predict\n",
      "    y_pred = self.target_encoder_.inverse_transform(y_pred)\n",
      "  File \"C:\\Users\\davul\\anaconda3\\lib\\site-packages\\scikeras\\utils\\transformers.py\", line 256, in inverse_transform\n",
      "    class_predictions = self._final_encoder.inverse_transform(class_predictions)\n",
      "  File \"C:\\Users\\davul\\anaconda3\\lib\\site-packages\\sklearn\\utils\\metaestimators.py\", line 113, in <lambda>\n",
      "    out = lambda *args, **kwargs: self.fn(obj, *args, **kwargs)  # noqa\n",
      "  File \"C:\\Users\\davul\\anaconda3\\lib\\site-packages\\sklearn\\pipeline.py\", line 675, in inverse_transform\n",
      "    Xt = transform.inverse_transform(Xt)\n",
      "  File \"C:\\Users\\davul\\anaconda3\\lib\\site-packages\\sklearn\\preprocessing\\_encoders.py\", line 990, in inverse_transform\n",
      "    X_tr[:, i] = self.categories_[i][labels]\n",
      "IndexError: index 8 is out of bounds for axis 0 with size 2\n",
      "\n",
      "  warnings.warn(\n"
     ]
    },
    {
     "name": "stdout",
     "output_type": "stream",
     "text": [
      "2/2 [==============================] - 0s 2ms/step\n",
      "2/2 [==============================] - 0s 1ms/step\n"
     ]
    },
    {
     "name": "stderr",
     "output_type": "stream",
     "text": [
      "C:\\Users\\davul\\anaconda3\\lib\\site-packages\\sklearn\\model_selection\\_validation.py:770: UserWarning: Scoring failed. The score on this train-test partition for these parameters will be set to nan. Details: \n",
      "Traceback (most recent call last):\n",
      "  File \"C:\\Users\\davul\\anaconda3\\lib\\site-packages\\sklearn\\model_selection\\_validation.py\", line 761, in _score\n",
      "    scores = scorer(estimator, X_test, y_test)\n",
      "  File \"C:\\Users\\davul\\anaconda3\\lib\\site-packages\\sklearn\\metrics\\_scorer.py\", line 216, in __call__\n",
      "    return self._score(\n",
      "  File \"C:\\Users\\davul\\anaconda3\\lib\\site-packages\\sklearn\\metrics\\_scorer.py\", line 258, in _score\n",
      "    y_pred = method_caller(estimator, \"predict\", X)\n",
      "  File \"C:\\Users\\davul\\anaconda3\\lib\\site-packages\\sklearn\\metrics\\_scorer.py\", line 68, in _cached_call\n",
      "    return getattr(estimator, method)(*args, **kwargs)\n",
      "  File \"C:\\Users\\davul\\anaconda3\\lib\\site-packages\\scikeras\\wrappers.py\", line 1054, in predict\n",
      "    y_pred = self.target_encoder_.inverse_transform(y_pred)\n",
      "  File \"C:\\Users\\davul\\anaconda3\\lib\\site-packages\\scikeras\\utils\\transformers.py\", line 256, in inverse_transform\n",
      "    class_predictions = self._final_encoder.inverse_transform(class_predictions)\n",
      "  File \"C:\\Users\\davul\\anaconda3\\lib\\site-packages\\sklearn\\utils\\metaestimators.py\", line 113, in <lambda>\n",
      "    out = lambda *args, **kwargs: self.fn(obj, *args, **kwargs)  # noqa\n",
      "  File \"C:\\Users\\davul\\anaconda3\\lib\\site-packages\\sklearn\\pipeline.py\", line 675, in inverse_transform\n",
      "    Xt = transform.inverse_transform(Xt)\n",
      "  File \"C:\\Users\\davul\\anaconda3\\lib\\site-packages\\sklearn\\preprocessing\\_encoders.py\", line 990, in inverse_transform\n",
      "    X_tr[:, i] = self.categories_[i][labels]\n",
      "IndexError: index 2 is out of bounds for axis 0 with size 2\n",
      "\n",
      "  warnings.warn(\n"
     ]
    },
    {
     "name": "stdout",
     "output_type": "stream",
     "text": [
      "3/3 [==============================] - 0s 2ms/step\n",
      "3/3 [==============================] - 0s 1ms/step\n"
     ]
    },
    {
     "name": "stderr",
     "output_type": "stream",
     "text": [
      "C:\\Users\\davul\\anaconda3\\lib\\site-packages\\sklearn\\model_selection\\_validation.py:770: UserWarning: Scoring failed. The score on this train-test partition for these parameters will be set to nan. Details: \n",
      "Traceback (most recent call last):\n",
      "  File \"C:\\Users\\davul\\anaconda3\\lib\\site-packages\\sklearn\\model_selection\\_validation.py\", line 761, in _score\n",
      "    scores = scorer(estimator, X_test, y_test)\n",
      "  File \"C:\\Users\\davul\\anaconda3\\lib\\site-packages\\sklearn\\metrics\\_scorer.py\", line 216, in __call__\n",
      "    return self._score(\n",
      "  File \"C:\\Users\\davul\\anaconda3\\lib\\site-packages\\sklearn\\metrics\\_scorer.py\", line 258, in _score\n",
      "    y_pred = method_caller(estimator, \"predict\", X)\n",
      "  File \"C:\\Users\\davul\\anaconda3\\lib\\site-packages\\sklearn\\metrics\\_scorer.py\", line 68, in _cached_call\n",
      "    return getattr(estimator, method)(*args, **kwargs)\n",
      "  File \"C:\\Users\\davul\\anaconda3\\lib\\site-packages\\scikeras\\wrappers.py\", line 1054, in predict\n",
      "    y_pred = self.target_encoder_.inverse_transform(y_pred)\n",
      "  File \"C:\\Users\\davul\\anaconda3\\lib\\site-packages\\scikeras\\utils\\transformers.py\", line 256, in inverse_transform\n",
      "    class_predictions = self._final_encoder.inverse_transform(class_predictions)\n",
      "  File \"C:\\Users\\davul\\anaconda3\\lib\\site-packages\\sklearn\\utils\\metaestimators.py\", line 113, in <lambda>\n",
      "    out = lambda *args, **kwargs: self.fn(obj, *args, **kwargs)  # noqa\n",
      "  File \"C:\\Users\\davul\\anaconda3\\lib\\site-packages\\sklearn\\pipeline.py\", line 675, in inverse_transform\n",
      "    Xt = transform.inverse_transform(Xt)\n",
      "  File \"C:\\Users\\davul\\anaconda3\\lib\\site-packages\\sklearn\\preprocessing\\_encoders.py\", line 990, in inverse_transform\n",
      "    X_tr[:, i] = self.categories_[i][labels]\n",
      "IndexError: index 8 is out of bounds for axis 0 with size 2\n",
      "\n",
      "  warnings.warn(\n"
     ]
    },
    {
     "name": "stdout",
     "output_type": "stream",
     "text": [
      "3/3 [==============================] - 0s 1ms/step\n"
     ]
    },
    {
     "name": "stderr",
     "output_type": "stream",
     "text": [
      "C:\\Users\\davul\\anaconda3\\lib\\site-packages\\sklearn\\model_selection\\_validation.py:770: UserWarning: Scoring failed. The score on this train-test partition for these parameters will be set to nan. Details: \n",
      "Traceback (most recent call last):\n",
      "  File \"C:\\Users\\davul\\anaconda3\\lib\\site-packages\\sklearn\\model_selection\\_validation.py\", line 761, in _score\n",
      "    scores = scorer(estimator, X_test, y_test)\n",
      "  File \"C:\\Users\\davul\\anaconda3\\lib\\site-packages\\sklearn\\metrics\\_scorer.py\", line 216, in __call__\n",
      "    return self._score(\n",
      "  File \"C:\\Users\\davul\\anaconda3\\lib\\site-packages\\sklearn\\metrics\\_scorer.py\", line 258, in _score\n",
      "    y_pred = method_caller(estimator, \"predict\", X)\n",
      "  File \"C:\\Users\\davul\\anaconda3\\lib\\site-packages\\sklearn\\metrics\\_scorer.py\", line 68, in _cached_call\n",
      "    return getattr(estimator, method)(*args, **kwargs)\n",
      "  File \"C:\\Users\\davul\\anaconda3\\lib\\site-packages\\scikeras\\wrappers.py\", line 1054, in predict\n",
      "    y_pred = self.target_encoder_.inverse_transform(y_pred)\n",
      "  File \"C:\\Users\\davul\\anaconda3\\lib\\site-packages\\scikeras\\utils\\transformers.py\", line 256, in inverse_transform\n",
      "    class_predictions = self._final_encoder.inverse_transform(class_predictions)\n",
      "  File \"C:\\Users\\davul\\anaconda3\\lib\\site-packages\\sklearn\\utils\\metaestimators.py\", line 113, in <lambda>\n",
      "    out = lambda *args, **kwargs: self.fn(obj, *args, **kwargs)  # noqa\n",
      "  File \"C:\\Users\\davul\\anaconda3\\lib\\site-packages\\sklearn\\pipeline.py\", line 675, in inverse_transform\n",
      "    Xt = transform.inverse_transform(Xt)\n",
      "  File \"C:\\Users\\davul\\anaconda3\\lib\\site-packages\\sklearn\\preprocessing\\_encoders.py\", line 990, in inverse_transform\n",
      "    X_tr[:, i] = self.categories_[i][labels]\n",
      "IndexError: index 7 is out of bounds for axis 0 with size 2\n",
      "\n",
      "  warnings.warn(\n"
     ]
    },
    {
     "name": "stdout",
     "output_type": "stream",
     "text": [
      "3/3 [==============================] - 0s 2ms/step\n",
      "3/3 [==============================] - 0s 2ms/step\n",
      "3/3 [==============================] - 0s 1ms/step\n"
     ]
    },
    {
     "name": "stderr",
     "output_type": "stream",
     "text": [
      "C:\\Users\\davul\\anaconda3\\lib\\site-packages\\sklearn\\model_selection\\_validation.py:770: UserWarning: Scoring failed. The score on this train-test partition for these parameters will be set to nan. Details: \n",
      "Traceback (most recent call last):\n",
      "  File \"C:\\Users\\davul\\anaconda3\\lib\\site-packages\\sklearn\\model_selection\\_validation.py\", line 761, in _score\n",
      "    scores = scorer(estimator, X_test, y_test)\n",
      "  File \"C:\\Users\\davul\\anaconda3\\lib\\site-packages\\sklearn\\metrics\\_scorer.py\", line 216, in __call__\n",
      "    return self._score(\n",
      "  File \"C:\\Users\\davul\\anaconda3\\lib\\site-packages\\sklearn\\metrics\\_scorer.py\", line 258, in _score\n",
      "    y_pred = method_caller(estimator, \"predict\", X)\n",
      "  File \"C:\\Users\\davul\\anaconda3\\lib\\site-packages\\sklearn\\metrics\\_scorer.py\", line 68, in _cached_call\n",
      "    return getattr(estimator, method)(*args, **kwargs)\n",
      "  File \"C:\\Users\\davul\\anaconda3\\lib\\site-packages\\scikeras\\wrappers.py\", line 1054, in predict\n",
      "    y_pred = self.target_encoder_.inverse_transform(y_pred)\n",
      "  File \"C:\\Users\\davul\\anaconda3\\lib\\site-packages\\scikeras\\utils\\transformers.py\", line 256, in inverse_transform\n",
      "    class_predictions = self._final_encoder.inverse_transform(class_predictions)\n",
      "  File \"C:\\Users\\davul\\anaconda3\\lib\\site-packages\\sklearn\\utils\\metaestimators.py\", line 113, in <lambda>\n",
      "    out = lambda *args, **kwargs: self.fn(obj, *args, **kwargs)  # noqa\n",
      "  File \"C:\\Users\\davul\\anaconda3\\lib\\site-packages\\sklearn\\pipeline.py\", line 675, in inverse_transform\n",
      "    Xt = transform.inverse_transform(Xt)\n",
      "  File \"C:\\Users\\davul\\anaconda3\\lib\\site-packages\\sklearn\\preprocessing\\_encoders.py\", line 990, in inverse_transform\n",
      "    X_tr[:, i] = self.categories_[i][labels]\n",
      "IndexError: index 6 is out of bounds for axis 0 with size 2\n",
      "\n",
      "  warnings.warn(\n"
     ]
    },
    {
     "name": "stdout",
     "output_type": "stream",
     "text": [
      "3/3 [==============================] - 0s 1ms/step\n"
     ]
    },
    {
     "name": "stderr",
     "output_type": "stream",
     "text": [
      "C:\\Users\\davul\\anaconda3\\lib\\site-packages\\sklearn\\model_selection\\_validation.py:770: UserWarning: Scoring failed. The score on this train-test partition for these parameters will be set to nan. Details: \n",
      "Traceback (most recent call last):\n",
      "  File \"C:\\Users\\davul\\anaconda3\\lib\\site-packages\\sklearn\\model_selection\\_validation.py\", line 761, in _score\n",
      "    scores = scorer(estimator, X_test, y_test)\n",
      "  File \"C:\\Users\\davul\\anaconda3\\lib\\site-packages\\sklearn\\metrics\\_scorer.py\", line 216, in __call__\n",
      "    return self._score(\n",
      "  File \"C:\\Users\\davul\\anaconda3\\lib\\site-packages\\sklearn\\metrics\\_scorer.py\", line 258, in _score\n",
      "    y_pred = method_caller(estimator, \"predict\", X)\n",
      "  File \"C:\\Users\\davul\\anaconda3\\lib\\site-packages\\sklearn\\metrics\\_scorer.py\", line 68, in _cached_call\n",
      "    return getattr(estimator, method)(*args, **kwargs)\n",
      "  File \"C:\\Users\\davul\\anaconda3\\lib\\site-packages\\scikeras\\wrappers.py\", line 1054, in predict\n",
      "    y_pred = self.target_encoder_.inverse_transform(y_pred)\n",
      "  File \"C:\\Users\\davul\\anaconda3\\lib\\site-packages\\scikeras\\utils\\transformers.py\", line 256, in inverse_transform\n",
      "    class_predictions = self._final_encoder.inverse_transform(class_predictions)\n",
      "  File \"C:\\Users\\davul\\anaconda3\\lib\\site-packages\\sklearn\\utils\\metaestimators.py\", line 113, in <lambda>\n",
      "    out = lambda *args, **kwargs: self.fn(obj, *args, **kwargs)  # noqa\n",
      "  File \"C:\\Users\\davul\\anaconda3\\lib\\site-packages\\sklearn\\pipeline.py\", line 675, in inverse_transform\n",
      "    Xt = transform.inverse_transform(Xt)\n",
      "  File \"C:\\Users\\davul\\anaconda3\\lib\\site-packages\\sklearn\\preprocessing\\_encoders.py\", line 990, in inverse_transform\n",
      "    X_tr[:, i] = self.categories_[i][labels]\n",
      "IndexError: index 5 is out of bounds for axis 0 with size 2\n",
      "\n",
      "  warnings.warn(\n"
     ]
    },
    {
     "name": "stdout",
     "output_type": "stream",
     "text": [
      "3/3 [==============================] - 0s 1ms/step\n"
     ]
    },
    {
     "name": "stderr",
     "output_type": "stream",
     "text": [
      "C:\\Users\\davul\\anaconda3\\lib\\site-packages\\sklearn\\model_selection\\_validation.py:770: UserWarning: Scoring failed. The score on this train-test partition for these parameters will be set to nan. Details: \n",
      "Traceback (most recent call last):\n",
      "  File \"C:\\Users\\davul\\anaconda3\\lib\\site-packages\\sklearn\\model_selection\\_validation.py\", line 761, in _score\n",
      "    scores = scorer(estimator, X_test, y_test)\n",
      "  File \"C:\\Users\\davul\\anaconda3\\lib\\site-packages\\sklearn\\metrics\\_scorer.py\", line 216, in __call__\n",
      "    return self._score(\n",
      "  File \"C:\\Users\\davul\\anaconda3\\lib\\site-packages\\sklearn\\metrics\\_scorer.py\", line 258, in _score\n",
      "    y_pred = method_caller(estimator, \"predict\", X)\n",
      "  File \"C:\\Users\\davul\\anaconda3\\lib\\site-packages\\sklearn\\metrics\\_scorer.py\", line 68, in _cached_call\n",
      "    return getattr(estimator, method)(*args, **kwargs)\n",
      "  File \"C:\\Users\\davul\\anaconda3\\lib\\site-packages\\scikeras\\wrappers.py\", line 1054, in predict\n",
      "    y_pred = self.target_encoder_.inverse_transform(y_pred)\n",
      "  File \"C:\\Users\\davul\\anaconda3\\lib\\site-packages\\scikeras\\utils\\transformers.py\", line 256, in inverse_transform\n",
      "    class_predictions = self._final_encoder.inverse_transform(class_predictions)\n",
      "  File \"C:\\Users\\davul\\anaconda3\\lib\\site-packages\\sklearn\\utils\\metaestimators.py\", line 113, in <lambda>\n",
      "    out = lambda *args, **kwargs: self.fn(obj, *args, **kwargs)  # noqa\n",
      "  File \"C:\\Users\\davul\\anaconda3\\lib\\site-packages\\sklearn\\pipeline.py\", line 675, in inverse_transform\n",
      "    Xt = transform.inverse_transform(Xt)\n",
      "  File \"C:\\Users\\davul\\anaconda3\\lib\\site-packages\\sklearn\\preprocessing\\_encoders.py\", line 990, in inverse_transform\n",
      "    X_tr[:, i] = self.categories_[i][labels]\n",
      "IndexError: index 7 is out of bounds for axis 0 with size 2\n",
      "\n",
      "  warnings.warn(\n"
     ]
    },
    {
     "name": "stdout",
     "output_type": "stream",
     "text": [
      "3/3 [==============================] - 0s 1ms/step\n"
     ]
    },
    {
     "name": "stderr",
     "output_type": "stream",
     "text": [
      "C:\\Users\\davul\\anaconda3\\lib\\site-packages\\sklearn\\model_selection\\_validation.py:770: UserWarning: Scoring failed. The score on this train-test partition for these parameters will be set to nan. Details: \n",
      "Traceback (most recent call last):\n",
      "  File \"C:\\Users\\davul\\anaconda3\\lib\\site-packages\\sklearn\\model_selection\\_validation.py\", line 761, in _score\n",
      "    scores = scorer(estimator, X_test, y_test)\n",
      "  File \"C:\\Users\\davul\\anaconda3\\lib\\site-packages\\sklearn\\metrics\\_scorer.py\", line 216, in __call__\n",
      "    return self._score(\n",
      "  File \"C:\\Users\\davul\\anaconda3\\lib\\site-packages\\sklearn\\metrics\\_scorer.py\", line 258, in _score\n",
      "    y_pred = method_caller(estimator, \"predict\", X)\n",
      "  File \"C:\\Users\\davul\\anaconda3\\lib\\site-packages\\sklearn\\metrics\\_scorer.py\", line 68, in _cached_call\n",
      "    return getattr(estimator, method)(*args, **kwargs)\n",
      "  File \"C:\\Users\\davul\\anaconda3\\lib\\site-packages\\scikeras\\wrappers.py\", line 1054, in predict\n",
      "    y_pred = self.target_encoder_.inverse_transform(y_pred)\n",
      "  File \"C:\\Users\\davul\\anaconda3\\lib\\site-packages\\scikeras\\utils\\transformers.py\", line 256, in inverse_transform\n",
      "    class_predictions = self._final_encoder.inverse_transform(class_predictions)\n",
      "  File \"C:\\Users\\davul\\anaconda3\\lib\\site-packages\\sklearn\\utils\\metaestimators.py\", line 113, in <lambda>\n",
      "    out = lambda *args, **kwargs: self.fn(obj, *args, **kwargs)  # noqa\n",
      "  File \"C:\\Users\\davul\\anaconda3\\lib\\site-packages\\sklearn\\pipeline.py\", line 675, in inverse_transform\n",
      "    Xt = transform.inverse_transform(Xt)\n",
      "  File \"C:\\Users\\davul\\anaconda3\\lib\\site-packages\\sklearn\\preprocessing\\_encoders.py\", line 990, in inverse_transform\n",
      "    X_tr[:, i] = self.categories_[i][labels]\n",
      "IndexError: index 9 is out of bounds for axis 0 with size 2\n",
      "\n",
      "  warnings.warn(\n"
     ]
    },
    {
     "name": "stdout",
     "output_type": "stream",
     "text": [
      "3/3 [==============================] - 0s 1ms/step\n"
     ]
    },
    {
     "name": "stderr",
     "output_type": "stream",
     "text": [
      "C:\\Users\\davul\\anaconda3\\lib\\site-packages\\sklearn\\model_selection\\_validation.py:770: UserWarning: Scoring failed. The score on this train-test partition for these parameters will be set to nan. Details: \n",
      "Traceback (most recent call last):\n",
      "  File \"C:\\Users\\davul\\anaconda3\\lib\\site-packages\\sklearn\\model_selection\\_validation.py\", line 761, in _score\n",
      "    scores = scorer(estimator, X_test, y_test)\n",
      "  File \"C:\\Users\\davul\\anaconda3\\lib\\site-packages\\sklearn\\metrics\\_scorer.py\", line 216, in __call__\n",
      "    return self._score(\n",
      "  File \"C:\\Users\\davul\\anaconda3\\lib\\site-packages\\sklearn\\metrics\\_scorer.py\", line 258, in _score\n",
      "    y_pred = method_caller(estimator, \"predict\", X)\n",
      "  File \"C:\\Users\\davul\\anaconda3\\lib\\site-packages\\sklearn\\metrics\\_scorer.py\", line 68, in _cached_call\n",
      "    return getattr(estimator, method)(*args, **kwargs)\n",
      "  File \"C:\\Users\\davul\\anaconda3\\lib\\site-packages\\scikeras\\wrappers.py\", line 1054, in predict\n",
      "    y_pred = self.target_encoder_.inverse_transform(y_pred)\n",
      "  File \"C:\\Users\\davul\\anaconda3\\lib\\site-packages\\scikeras\\utils\\transformers.py\", line 256, in inverse_transform\n",
      "    class_predictions = self._final_encoder.inverse_transform(class_predictions)\n",
      "  File \"C:\\Users\\davul\\anaconda3\\lib\\site-packages\\sklearn\\utils\\metaestimators.py\", line 113, in <lambda>\n",
      "    out = lambda *args, **kwargs: self.fn(obj, *args, **kwargs)  # noqa\n",
      "  File \"C:\\Users\\davul\\anaconda3\\lib\\site-packages\\sklearn\\pipeline.py\", line 675, in inverse_transform\n",
      "    Xt = transform.inverse_transform(Xt)\n",
      "  File \"C:\\Users\\davul\\anaconda3\\lib\\site-packages\\sklearn\\preprocessing\\_encoders.py\", line 990, in inverse_transform\n",
      "    X_tr[:, i] = self.categories_[i][labels]\n",
      "IndexError: index 6 is out of bounds for axis 0 with size 2\n",
      "\n",
      "  warnings.warn(\n"
     ]
    },
    {
     "name": "stdout",
     "output_type": "stream",
     "text": [
      "7/7 [==============================] - 0s 865us/step\n"
     ]
    },
    {
     "name": "stderr",
     "output_type": "stream",
     "text": [
      "C:\\Users\\davul\\anaconda3\\lib\\site-packages\\sklearn\\model_selection\\_validation.py:770: UserWarning: Scoring failed. The score on this train-test partition for these parameters will be set to nan. Details: \n",
      "Traceback (most recent call last):\n",
      "  File \"C:\\Users\\davul\\anaconda3\\lib\\site-packages\\sklearn\\model_selection\\_validation.py\", line 761, in _score\n",
      "    scores = scorer(estimator, X_test, y_test)\n",
      "  File \"C:\\Users\\davul\\anaconda3\\lib\\site-packages\\sklearn\\metrics\\_scorer.py\", line 216, in __call__\n",
      "    return self._score(\n",
      "  File \"C:\\Users\\davul\\anaconda3\\lib\\site-packages\\sklearn\\metrics\\_scorer.py\", line 258, in _score\n",
      "    y_pred = method_caller(estimator, \"predict\", X)\n",
      "  File \"C:\\Users\\davul\\anaconda3\\lib\\site-packages\\sklearn\\metrics\\_scorer.py\", line 68, in _cached_call\n",
      "    return getattr(estimator, method)(*args, **kwargs)\n",
      "  File \"C:\\Users\\davul\\anaconda3\\lib\\site-packages\\scikeras\\wrappers.py\", line 1054, in predict\n",
      "    y_pred = self.target_encoder_.inverse_transform(y_pred)\n",
      "  File \"C:\\Users\\davul\\anaconda3\\lib\\site-packages\\scikeras\\utils\\transformers.py\", line 256, in inverse_transform\n",
      "    class_predictions = self._final_encoder.inverse_transform(class_predictions)\n",
      "  File \"C:\\Users\\davul\\anaconda3\\lib\\site-packages\\sklearn\\utils\\metaestimators.py\", line 113, in <lambda>\n",
      "    out = lambda *args, **kwargs: self.fn(obj, *args, **kwargs)  # noqa\n",
      "  File \"C:\\Users\\davul\\anaconda3\\lib\\site-packages\\sklearn\\pipeline.py\", line 675, in inverse_transform\n",
      "    Xt = transform.inverse_transform(Xt)\n",
      "  File \"C:\\Users\\davul\\anaconda3\\lib\\site-packages\\sklearn\\preprocessing\\_encoders.py\", line 990, in inverse_transform\n",
      "    X_tr[:, i] = self.categories_[i][labels]\n",
      "IndexError: index 7 is out of bounds for axis 0 with size 2\n",
      "\n",
      "  warnings.warn(\n"
     ]
    },
    {
     "name": "stdout",
     "output_type": "stream",
     "text": [
      "7/7 [==============================] - 0s 833us/step\n"
     ]
    },
    {
     "name": "stderr",
     "output_type": "stream",
     "text": [
      "C:\\Users\\davul\\anaconda3\\lib\\site-packages\\sklearn\\model_selection\\_validation.py:770: UserWarning: Scoring failed. The score on this train-test partition for these parameters will be set to nan. Details: \n",
      "Traceback (most recent call last):\n",
      "  File \"C:\\Users\\davul\\anaconda3\\lib\\site-packages\\sklearn\\model_selection\\_validation.py\", line 761, in _score\n",
      "    scores = scorer(estimator, X_test, y_test)\n",
      "  File \"C:\\Users\\davul\\anaconda3\\lib\\site-packages\\sklearn\\metrics\\_scorer.py\", line 216, in __call__\n",
      "    return self._score(\n",
      "  File \"C:\\Users\\davul\\anaconda3\\lib\\site-packages\\sklearn\\metrics\\_scorer.py\", line 258, in _score\n",
      "    y_pred = method_caller(estimator, \"predict\", X)\n",
      "  File \"C:\\Users\\davul\\anaconda3\\lib\\site-packages\\sklearn\\metrics\\_scorer.py\", line 68, in _cached_call\n",
      "    return getattr(estimator, method)(*args, **kwargs)\n",
      "  File \"C:\\Users\\davul\\anaconda3\\lib\\site-packages\\scikeras\\wrappers.py\", line 1054, in predict\n",
      "    y_pred = self.target_encoder_.inverse_transform(y_pred)\n",
      "  File \"C:\\Users\\davul\\anaconda3\\lib\\site-packages\\scikeras\\utils\\transformers.py\", line 256, in inverse_transform\n",
      "    class_predictions = self._final_encoder.inverse_transform(class_predictions)\n",
      "  File \"C:\\Users\\davul\\anaconda3\\lib\\site-packages\\sklearn\\utils\\metaestimators.py\", line 113, in <lambda>\n",
      "    out = lambda *args, **kwargs: self.fn(obj, *args, **kwargs)  # noqa\n",
      "  File \"C:\\Users\\davul\\anaconda3\\lib\\site-packages\\sklearn\\pipeline.py\", line 675, in inverse_transform\n",
      "    Xt = transform.inverse_transform(Xt)\n",
      "  File \"C:\\Users\\davul\\anaconda3\\lib\\site-packages\\sklearn\\preprocessing\\_encoders.py\", line 990, in inverse_transform\n",
      "    X_tr[:, i] = self.categories_[i][labels]\n",
      "IndexError: index 4 is out of bounds for axis 0 with size 2\n",
      "\n",
      "  warnings.warn(\n"
     ]
    },
    {
     "name": "stdout",
     "output_type": "stream",
     "text": [
      "7/7 [==============================] - 0s 613us/step\n"
     ]
    },
    {
     "name": "stderr",
     "output_type": "stream",
     "text": [
      "C:\\Users\\davul\\anaconda3\\lib\\site-packages\\sklearn\\model_selection\\_validation.py:770: UserWarning: Scoring failed. The score on this train-test partition for these parameters will be set to nan. Details: \n",
      "Traceback (most recent call last):\n",
      "  File \"C:\\Users\\davul\\anaconda3\\lib\\site-packages\\sklearn\\model_selection\\_validation.py\", line 761, in _score\n",
      "    scores = scorer(estimator, X_test, y_test)\n",
      "  File \"C:\\Users\\davul\\anaconda3\\lib\\site-packages\\sklearn\\metrics\\_scorer.py\", line 216, in __call__\n",
      "    return self._score(\n",
      "  File \"C:\\Users\\davul\\anaconda3\\lib\\site-packages\\sklearn\\metrics\\_scorer.py\", line 258, in _score\n",
      "    y_pred = method_caller(estimator, \"predict\", X)\n",
      "  File \"C:\\Users\\davul\\anaconda3\\lib\\site-packages\\sklearn\\metrics\\_scorer.py\", line 68, in _cached_call\n",
      "    return getattr(estimator, method)(*args, **kwargs)\n",
      "  File \"C:\\Users\\davul\\anaconda3\\lib\\site-packages\\scikeras\\wrappers.py\", line 1054, in predict\n",
      "    y_pred = self.target_encoder_.inverse_transform(y_pred)\n",
      "  File \"C:\\Users\\davul\\anaconda3\\lib\\site-packages\\scikeras\\utils\\transformers.py\", line 256, in inverse_transform\n",
      "    class_predictions = self._final_encoder.inverse_transform(class_predictions)\n",
      "  File \"C:\\Users\\davul\\anaconda3\\lib\\site-packages\\sklearn\\utils\\metaestimators.py\", line 113, in <lambda>\n",
      "    out = lambda *args, **kwargs: self.fn(obj, *args, **kwargs)  # noqa\n",
      "  File \"C:\\Users\\davul\\anaconda3\\lib\\site-packages\\sklearn\\pipeline.py\", line 675, in inverse_transform\n",
      "    Xt = transform.inverse_transform(Xt)\n",
      "  File \"C:\\Users\\davul\\anaconda3\\lib\\site-packages\\sklearn\\preprocessing\\_encoders.py\", line 990, in inverse_transform\n",
      "    X_tr[:, i] = self.categories_[i][labels]\n",
      "IndexError: index 9 is out of bounds for axis 0 with size 2\n",
      "\n",
      "  warnings.warn(\n"
     ]
    },
    {
     "name": "stdout",
     "output_type": "stream",
     "text": [
      "7/7 [==============================] - 0s 933us/step\n"
     ]
    },
    {
     "name": "stderr",
     "output_type": "stream",
     "text": [
      "C:\\Users\\davul\\anaconda3\\lib\\site-packages\\sklearn\\model_selection\\_validation.py:770: UserWarning: Scoring failed. The score on this train-test partition for these parameters will be set to nan. Details: \n",
      "Traceback (most recent call last):\n",
      "  File \"C:\\Users\\davul\\anaconda3\\lib\\site-packages\\sklearn\\model_selection\\_validation.py\", line 761, in _score\n",
      "    scores = scorer(estimator, X_test, y_test)\n",
      "  File \"C:\\Users\\davul\\anaconda3\\lib\\site-packages\\sklearn\\metrics\\_scorer.py\", line 216, in __call__\n",
      "    return self._score(\n",
      "  File \"C:\\Users\\davul\\anaconda3\\lib\\site-packages\\sklearn\\metrics\\_scorer.py\", line 258, in _score\n",
      "    y_pred = method_caller(estimator, \"predict\", X)\n",
      "  File \"C:\\Users\\davul\\anaconda3\\lib\\site-packages\\sklearn\\metrics\\_scorer.py\", line 68, in _cached_call\n",
      "    return getattr(estimator, method)(*args, **kwargs)\n",
      "  File \"C:\\Users\\davul\\anaconda3\\lib\\site-packages\\scikeras\\wrappers.py\", line 1054, in predict\n",
      "    y_pred = self.target_encoder_.inverse_transform(y_pred)\n",
      "  File \"C:\\Users\\davul\\anaconda3\\lib\\site-packages\\scikeras\\utils\\transformers.py\", line 256, in inverse_transform\n",
      "    class_predictions = self._final_encoder.inverse_transform(class_predictions)\n",
      "  File \"C:\\Users\\davul\\anaconda3\\lib\\site-packages\\sklearn\\utils\\metaestimators.py\", line 113, in <lambda>\n",
      "    out = lambda *args, **kwargs: self.fn(obj, *args, **kwargs)  # noqa\n",
      "  File \"C:\\Users\\davul\\anaconda3\\lib\\site-packages\\sklearn\\pipeline.py\", line 675, in inverse_transform\n",
      "    Xt = transform.inverse_transform(Xt)\n",
      "  File \"C:\\Users\\davul\\anaconda3\\lib\\site-packages\\sklearn\\preprocessing\\_encoders.py\", line 990, in inverse_transform\n",
      "    X_tr[:, i] = self.categories_[i][labels]\n",
      "IndexError: index 8 is out of bounds for axis 0 with size 2\n",
      "\n",
      "  warnings.warn(\n"
     ]
    },
    {
     "name": "stdout",
     "output_type": "stream",
     "text": [
      "7/7 [==============================] - 0s 753us/step\n"
     ]
    },
    {
     "name": "stderr",
     "output_type": "stream",
     "text": [
      "C:\\Users\\davul\\anaconda3\\lib\\site-packages\\sklearn\\model_selection\\_validation.py:770: UserWarning: Scoring failed. The score on this train-test partition for these parameters will be set to nan. Details: \n",
      "Traceback (most recent call last):\n",
      "  File \"C:\\Users\\davul\\anaconda3\\lib\\site-packages\\sklearn\\model_selection\\_validation.py\", line 761, in _score\n",
      "    scores = scorer(estimator, X_test, y_test)\n",
      "  File \"C:\\Users\\davul\\anaconda3\\lib\\site-packages\\sklearn\\metrics\\_scorer.py\", line 216, in __call__\n",
      "    return self._score(\n",
      "  File \"C:\\Users\\davul\\anaconda3\\lib\\site-packages\\sklearn\\metrics\\_scorer.py\", line 258, in _score\n",
      "    y_pred = method_caller(estimator, \"predict\", X)\n",
      "  File \"C:\\Users\\davul\\anaconda3\\lib\\site-packages\\sklearn\\metrics\\_scorer.py\", line 68, in _cached_call\n",
      "    return getattr(estimator, method)(*args, **kwargs)\n",
      "  File \"C:\\Users\\davul\\anaconda3\\lib\\site-packages\\scikeras\\wrappers.py\", line 1054, in predict\n",
      "    y_pred = self.target_encoder_.inverse_transform(y_pred)\n",
      "  File \"C:\\Users\\davul\\anaconda3\\lib\\site-packages\\scikeras\\utils\\transformers.py\", line 256, in inverse_transform\n",
      "    class_predictions = self._final_encoder.inverse_transform(class_predictions)\n",
      "  File \"C:\\Users\\davul\\anaconda3\\lib\\site-packages\\sklearn\\utils\\metaestimators.py\", line 113, in <lambda>\n",
      "    out = lambda *args, **kwargs: self.fn(obj, *args, **kwargs)  # noqa\n",
      "  File \"C:\\Users\\davul\\anaconda3\\lib\\site-packages\\sklearn\\pipeline.py\", line 675, in inverse_transform\n",
      "    Xt = transform.inverse_transform(Xt)\n",
      "  File \"C:\\Users\\davul\\anaconda3\\lib\\site-packages\\sklearn\\preprocessing\\_encoders.py\", line 990, in inverse_transform\n",
      "    X_tr[:, i] = self.categories_[i][labels]\n",
      "IndexError: index 3 is out of bounds for axis 0 with size 2\n",
      "\n",
      "  warnings.warn(\n"
     ]
    },
    {
     "name": "stdout",
     "output_type": "stream",
     "text": [
      "2/2 [==============================] - 0s 2ms/step\n"
     ]
    },
    {
     "name": "stderr",
     "output_type": "stream",
     "text": [
      "C:\\Users\\davul\\anaconda3\\lib\\site-packages\\sklearn\\model_selection\\_validation.py:770: UserWarning: Scoring failed. The score on this train-test partition for these parameters will be set to nan. Details: \n",
      "Traceback (most recent call last):\n",
      "  File \"C:\\Users\\davul\\anaconda3\\lib\\site-packages\\sklearn\\model_selection\\_validation.py\", line 761, in _score\n",
      "    scores = scorer(estimator, X_test, y_test)\n",
      "  File \"C:\\Users\\davul\\anaconda3\\lib\\site-packages\\sklearn\\metrics\\_scorer.py\", line 216, in __call__\n",
      "    return self._score(\n",
      "  File \"C:\\Users\\davul\\anaconda3\\lib\\site-packages\\sklearn\\metrics\\_scorer.py\", line 258, in _score\n",
      "    y_pred = method_caller(estimator, \"predict\", X)\n",
      "  File \"C:\\Users\\davul\\anaconda3\\lib\\site-packages\\sklearn\\metrics\\_scorer.py\", line 68, in _cached_call\n",
      "    return getattr(estimator, method)(*args, **kwargs)\n",
      "  File \"C:\\Users\\davul\\anaconda3\\lib\\site-packages\\scikeras\\wrappers.py\", line 1054, in predict\n",
      "    y_pred = self.target_encoder_.inverse_transform(y_pred)\n",
      "  File \"C:\\Users\\davul\\anaconda3\\lib\\site-packages\\scikeras\\utils\\transformers.py\", line 256, in inverse_transform\n",
      "    class_predictions = self._final_encoder.inverse_transform(class_predictions)\n",
      "  File \"C:\\Users\\davul\\anaconda3\\lib\\site-packages\\sklearn\\utils\\metaestimators.py\", line 113, in <lambda>\n",
      "    out = lambda *args, **kwargs: self.fn(obj, *args, **kwargs)  # noqa\n",
      "  File \"C:\\Users\\davul\\anaconda3\\lib\\site-packages\\sklearn\\pipeline.py\", line 675, in inverse_transform\n",
      "    Xt = transform.inverse_transform(Xt)\n",
      "  File \"C:\\Users\\davul\\anaconda3\\lib\\site-packages\\sklearn\\preprocessing\\_encoders.py\", line 990, in inverse_transform\n",
      "    X_tr[:, i] = self.categories_[i][labels]\n",
      "IndexError: index 3 is out of bounds for axis 0 with size 2\n",
      "\n",
      "  warnings.warn(\n"
     ]
    },
    {
     "name": "stdout",
     "output_type": "stream",
     "text": [
      "2/2 [==============================] - 0s 2ms/step\n"
     ]
    },
    {
     "name": "stderr",
     "output_type": "stream",
     "text": [
      "C:\\Users\\davul\\anaconda3\\lib\\site-packages\\sklearn\\model_selection\\_validation.py:770: UserWarning: Scoring failed. The score on this train-test partition for these parameters will be set to nan. Details: \n",
      "Traceback (most recent call last):\n",
      "  File \"C:\\Users\\davul\\anaconda3\\lib\\site-packages\\sklearn\\model_selection\\_validation.py\", line 761, in _score\n",
      "    scores = scorer(estimator, X_test, y_test)\n",
      "  File \"C:\\Users\\davul\\anaconda3\\lib\\site-packages\\sklearn\\metrics\\_scorer.py\", line 216, in __call__\n",
      "    return self._score(\n",
      "  File \"C:\\Users\\davul\\anaconda3\\lib\\site-packages\\sklearn\\metrics\\_scorer.py\", line 258, in _score\n",
      "    y_pred = method_caller(estimator, \"predict\", X)\n",
      "  File \"C:\\Users\\davul\\anaconda3\\lib\\site-packages\\sklearn\\metrics\\_scorer.py\", line 68, in _cached_call\n",
      "    return getattr(estimator, method)(*args, **kwargs)\n",
      "  File \"C:\\Users\\davul\\anaconda3\\lib\\site-packages\\scikeras\\wrappers.py\", line 1054, in predict\n",
      "    y_pred = self.target_encoder_.inverse_transform(y_pred)\n",
      "  File \"C:\\Users\\davul\\anaconda3\\lib\\site-packages\\scikeras\\utils\\transformers.py\", line 256, in inverse_transform\n",
      "    class_predictions = self._final_encoder.inverse_transform(class_predictions)\n",
      "  File \"C:\\Users\\davul\\anaconda3\\lib\\site-packages\\sklearn\\utils\\metaestimators.py\", line 113, in <lambda>\n",
      "    out = lambda *args, **kwargs: self.fn(obj, *args, **kwargs)  # noqa\n",
      "  File \"C:\\Users\\davul\\anaconda3\\lib\\site-packages\\sklearn\\pipeline.py\", line 675, in inverse_transform\n",
      "    Xt = transform.inverse_transform(Xt)\n",
      "  File \"C:\\Users\\davul\\anaconda3\\lib\\site-packages\\sklearn\\preprocessing\\_encoders.py\", line 990, in inverse_transform\n",
      "    X_tr[:, i] = self.categories_[i][labels]\n",
      "IndexError: index 3 is out of bounds for axis 0 with size 2\n",
      "\n",
      "  warnings.warn(\n"
     ]
    },
    {
     "name": "stdout",
     "output_type": "stream",
     "text": [
      "2/2 [==============================] - 0s 2ms/step\n"
     ]
    },
    {
     "name": "stderr",
     "output_type": "stream",
     "text": [
      "C:\\Users\\davul\\anaconda3\\lib\\site-packages\\sklearn\\model_selection\\_validation.py:770: UserWarning: Scoring failed. The score on this train-test partition for these parameters will be set to nan. Details: \n",
      "Traceback (most recent call last):\n",
      "  File \"C:\\Users\\davul\\anaconda3\\lib\\site-packages\\sklearn\\model_selection\\_validation.py\", line 761, in _score\n",
      "    scores = scorer(estimator, X_test, y_test)\n",
      "  File \"C:\\Users\\davul\\anaconda3\\lib\\site-packages\\sklearn\\metrics\\_scorer.py\", line 216, in __call__\n",
      "    return self._score(\n",
      "  File \"C:\\Users\\davul\\anaconda3\\lib\\site-packages\\sklearn\\metrics\\_scorer.py\", line 258, in _score\n",
      "    y_pred = method_caller(estimator, \"predict\", X)\n",
      "  File \"C:\\Users\\davul\\anaconda3\\lib\\site-packages\\sklearn\\metrics\\_scorer.py\", line 68, in _cached_call\n",
      "    return getattr(estimator, method)(*args, **kwargs)\n",
      "  File \"C:\\Users\\davul\\anaconda3\\lib\\site-packages\\scikeras\\wrappers.py\", line 1054, in predict\n",
      "    y_pred = self.target_encoder_.inverse_transform(y_pred)\n",
      "  File \"C:\\Users\\davul\\anaconda3\\lib\\site-packages\\scikeras\\utils\\transformers.py\", line 256, in inverse_transform\n",
      "    class_predictions = self._final_encoder.inverse_transform(class_predictions)\n",
      "  File \"C:\\Users\\davul\\anaconda3\\lib\\site-packages\\sklearn\\utils\\metaestimators.py\", line 113, in <lambda>\n",
      "    out = lambda *args, **kwargs: self.fn(obj, *args, **kwargs)  # noqa\n",
      "  File \"C:\\Users\\davul\\anaconda3\\lib\\site-packages\\sklearn\\pipeline.py\", line 675, in inverse_transform\n",
      "    Xt = transform.inverse_transform(Xt)\n",
      "  File \"C:\\Users\\davul\\anaconda3\\lib\\site-packages\\sklearn\\preprocessing\\_encoders.py\", line 990, in inverse_transform\n",
      "    X_tr[:, i] = self.categories_[i][labels]\n",
      "IndexError: index 2 is out of bounds for axis 0 with size 2\n",
      "\n",
      "  warnings.warn(\n"
     ]
    },
    {
     "name": "stdout",
     "output_type": "stream",
     "text": [
      "2/2 [==============================] - 0s 2ms/step\n",
      "2/2 [==============================] - 0s 1ms/step\n",
      "3/3 [==============================] - 0s 1ms/step\n",
      "3/3 [==============================] - 0s 1000us/step\n"
     ]
    },
    {
     "name": "stderr",
     "output_type": "stream",
     "text": [
      "C:\\Users\\davul\\anaconda3\\lib\\site-packages\\sklearn\\model_selection\\_validation.py:770: UserWarning: Scoring failed. The score on this train-test partition for these parameters will be set to nan. Details: \n",
      "Traceback (most recent call last):\n",
      "  File \"C:\\Users\\davul\\anaconda3\\lib\\site-packages\\sklearn\\model_selection\\_validation.py\", line 761, in _score\n",
      "    scores = scorer(estimator, X_test, y_test)\n",
      "  File \"C:\\Users\\davul\\anaconda3\\lib\\site-packages\\sklearn\\metrics\\_scorer.py\", line 216, in __call__\n",
      "    return self._score(\n",
      "  File \"C:\\Users\\davul\\anaconda3\\lib\\site-packages\\sklearn\\metrics\\_scorer.py\", line 258, in _score\n",
      "    y_pred = method_caller(estimator, \"predict\", X)\n",
      "  File \"C:\\Users\\davul\\anaconda3\\lib\\site-packages\\sklearn\\metrics\\_scorer.py\", line 68, in _cached_call\n",
      "    return getattr(estimator, method)(*args, **kwargs)\n",
      "  File \"C:\\Users\\davul\\anaconda3\\lib\\site-packages\\scikeras\\wrappers.py\", line 1054, in predict\n",
      "    y_pred = self.target_encoder_.inverse_transform(y_pred)\n",
      "  File \"C:\\Users\\davul\\anaconda3\\lib\\site-packages\\scikeras\\utils\\transformers.py\", line 256, in inverse_transform\n",
      "    class_predictions = self._final_encoder.inverse_transform(class_predictions)\n",
      "  File \"C:\\Users\\davul\\anaconda3\\lib\\site-packages\\sklearn\\utils\\metaestimators.py\", line 113, in <lambda>\n",
      "    out = lambda *args, **kwargs: self.fn(obj, *args, **kwargs)  # noqa\n",
      "  File \"C:\\Users\\davul\\anaconda3\\lib\\site-packages\\sklearn\\pipeline.py\", line 675, in inverse_transform\n",
      "    Xt = transform.inverse_transform(Xt)\n",
      "  File \"C:\\Users\\davul\\anaconda3\\lib\\site-packages\\sklearn\\preprocessing\\_encoders.py\", line 990, in inverse_transform\n",
      "    X_tr[:, i] = self.categories_[i][labels]\n",
      "IndexError: index 5 is out of bounds for axis 0 with size 2\n",
      "\n",
      "  warnings.warn(\n"
     ]
    },
    {
     "name": "stdout",
     "output_type": "stream",
     "text": [
      "3/3 [==============================] - 0s 1ms/step\n"
     ]
    },
    {
     "name": "stderr",
     "output_type": "stream",
     "text": [
      "C:\\Users\\davul\\anaconda3\\lib\\site-packages\\sklearn\\model_selection\\_validation.py:770: UserWarning: Scoring failed. The score on this train-test partition for these parameters will be set to nan. Details: \n",
      "Traceback (most recent call last):\n",
      "  File \"C:\\Users\\davul\\anaconda3\\lib\\site-packages\\sklearn\\model_selection\\_validation.py\", line 761, in _score\n",
      "    scores = scorer(estimator, X_test, y_test)\n",
      "  File \"C:\\Users\\davul\\anaconda3\\lib\\site-packages\\sklearn\\metrics\\_scorer.py\", line 216, in __call__\n",
      "    return self._score(\n",
      "  File \"C:\\Users\\davul\\anaconda3\\lib\\site-packages\\sklearn\\metrics\\_scorer.py\", line 258, in _score\n",
      "    y_pred = method_caller(estimator, \"predict\", X)\n",
      "  File \"C:\\Users\\davul\\anaconda3\\lib\\site-packages\\sklearn\\metrics\\_scorer.py\", line 68, in _cached_call\n",
      "    return getattr(estimator, method)(*args, **kwargs)\n",
      "  File \"C:\\Users\\davul\\anaconda3\\lib\\site-packages\\scikeras\\wrappers.py\", line 1054, in predict\n",
      "    y_pred = self.target_encoder_.inverse_transform(y_pred)\n",
      "  File \"C:\\Users\\davul\\anaconda3\\lib\\site-packages\\scikeras\\utils\\transformers.py\", line 256, in inverse_transform\n",
      "    class_predictions = self._final_encoder.inverse_transform(class_predictions)\n",
      "  File \"C:\\Users\\davul\\anaconda3\\lib\\site-packages\\sklearn\\utils\\metaestimators.py\", line 113, in <lambda>\n",
      "    out = lambda *args, **kwargs: self.fn(obj, *args, **kwargs)  # noqa\n",
      "  File \"C:\\Users\\davul\\anaconda3\\lib\\site-packages\\sklearn\\pipeline.py\", line 675, in inverse_transform\n",
      "    Xt = transform.inverse_transform(Xt)\n",
      "  File \"C:\\Users\\davul\\anaconda3\\lib\\site-packages\\sklearn\\preprocessing\\_encoders.py\", line 990, in inverse_transform\n",
      "    X_tr[:, i] = self.categories_[i][labels]\n",
      "IndexError: index 3 is out of bounds for axis 0 with size 2\n",
      "\n",
      "  warnings.warn(\n"
     ]
    },
    {
     "name": "stdout",
     "output_type": "stream",
     "text": [
      "3/3 [==============================] - 0s 1ms/step\n",
      "3/3 [==============================] - 0s 1ms/step\n",
      "7/7 [==============================] - 0s 834us/step\n",
      "7/7 [==============================] - 0s 882us/step\n"
     ]
    },
    {
     "name": "stderr",
     "output_type": "stream",
     "text": [
      "C:\\Users\\davul\\anaconda3\\lib\\site-packages\\sklearn\\model_selection\\_validation.py:770: UserWarning: Scoring failed. The score on this train-test partition for these parameters will be set to nan. Details: \n",
      "Traceback (most recent call last):\n",
      "  File \"C:\\Users\\davul\\anaconda3\\lib\\site-packages\\sklearn\\model_selection\\_validation.py\", line 761, in _score\n",
      "    scores = scorer(estimator, X_test, y_test)\n",
      "  File \"C:\\Users\\davul\\anaconda3\\lib\\site-packages\\sklearn\\metrics\\_scorer.py\", line 216, in __call__\n",
      "    return self._score(\n",
      "  File \"C:\\Users\\davul\\anaconda3\\lib\\site-packages\\sklearn\\metrics\\_scorer.py\", line 258, in _score\n",
      "    y_pred = method_caller(estimator, \"predict\", X)\n",
      "  File \"C:\\Users\\davul\\anaconda3\\lib\\site-packages\\sklearn\\metrics\\_scorer.py\", line 68, in _cached_call\n",
      "    return getattr(estimator, method)(*args, **kwargs)\n",
      "  File \"C:\\Users\\davul\\anaconda3\\lib\\site-packages\\scikeras\\wrappers.py\", line 1054, in predict\n",
      "    y_pred = self.target_encoder_.inverse_transform(y_pred)\n",
      "  File \"C:\\Users\\davul\\anaconda3\\lib\\site-packages\\scikeras\\utils\\transformers.py\", line 256, in inverse_transform\n",
      "    class_predictions = self._final_encoder.inverse_transform(class_predictions)\n",
      "  File \"C:\\Users\\davul\\anaconda3\\lib\\site-packages\\sklearn\\utils\\metaestimators.py\", line 113, in <lambda>\n",
      "    out = lambda *args, **kwargs: self.fn(obj, *args, **kwargs)  # noqa\n",
      "  File \"C:\\Users\\davul\\anaconda3\\lib\\site-packages\\sklearn\\pipeline.py\", line 675, in inverse_transform\n",
      "    Xt = transform.inverse_transform(Xt)\n",
      "  File \"C:\\Users\\davul\\anaconda3\\lib\\site-packages\\sklearn\\preprocessing\\_encoders.py\", line 990, in inverse_transform\n",
      "    X_tr[:, i] = self.categories_[i][labels]\n",
      "IndexError: index 4 is out of bounds for axis 0 with size 2\n",
      "\n",
      "  warnings.warn(\n"
     ]
    },
    {
     "name": "stdout",
     "output_type": "stream",
     "text": [
      "7/7 [==============================] - 0s 833us/step\n"
     ]
    },
    {
     "name": "stderr",
     "output_type": "stream",
     "text": [
      "C:\\Users\\davul\\anaconda3\\lib\\site-packages\\sklearn\\model_selection\\_validation.py:770: UserWarning: Scoring failed. The score on this train-test partition for these parameters will be set to nan. Details: \n",
      "Traceback (most recent call last):\n",
      "  File \"C:\\Users\\davul\\anaconda3\\lib\\site-packages\\sklearn\\model_selection\\_validation.py\", line 761, in _score\n",
      "    scores = scorer(estimator, X_test, y_test)\n",
      "  File \"C:\\Users\\davul\\anaconda3\\lib\\site-packages\\sklearn\\metrics\\_scorer.py\", line 216, in __call__\n",
      "    return self._score(\n",
      "  File \"C:\\Users\\davul\\anaconda3\\lib\\site-packages\\sklearn\\metrics\\_scorer.py\", line 258, in _score\n",
      "    y_pred = method_caller(estimator, \"predict\", X)\n",
      "  File \"C:\\Users\\davul\\anaconda3\\lib\\site-packages\\sklearn\\metrics\\_scorer.py\", line 68, in _cached_call\n",
      "    return getattr(estimator, method)(*args, **kwargs)\n",
      "  File \"C:\\Users\\davul\\anaconda3\\lib\\site-packages\\scikeras\\wrappers.py\", line 1054, in predict\n",
      "    y_pred = self.target_encoder_.inverse_transform(y_pred)\n",
      "  File \"C:\\Users\\davul\\anaconda3\\lib\\site-packages\\scikeras\\utils\\transformers.py\", line 256, in inverse_transform\n",
      "    class_predictions = self._final_encoder.inverse_transform(class_predictions)\n",
      "  File \"C:\\Users\\davul\\anaconda3\\lib\\site-packages\\sklearn\\utils\\metaestimators.py\", line 113, in <lambda>\n",
      "    out = lambda *args, **kwargs: self.fn(obj, *args, **kwargs)  # noqa\n",
      "  File \"C:\\Users\\davul\\anaconda3\\lib\\site-packages\\sklearn\\pipeline.py\", line 675, in inverse_transform\n",
      "    Xt = transform.inverse_transform(Xt)\n",
      "  File \"C:\\Users\\davul\\anaconda3\\lib\\site-packages\\sklearn\\preprocessing\\_encoders.py\", line 990, in inverse_transform\n",
      "    X_tr[:, i] = self.categories_[i][labels]\n",
      "IndexError: index 6 is out of bounds for axis 0 with size 2\n",
      "\n",
      "  warnings.warn(\n"
     ]
    },
    {
     "name": "stdout",
     "output_type": "stream",
     "text": [
      "7/7 [==============================] - 0s 789us/step\n",
      "7/7 [==============================] - 0s 801us/step\n",
      "7/7 [==============================] - 0s 810us/step\n",
      "7/7 [==============================] - 0s 967us/step\n"
     ]
    },
    {
     "name": "stderr",
     "output_type": "stream",
     "text": [
      "C:\\Users\\davul\\anaconda3\\lib\\site-packages\\sklearn\\model_selection\\_validation.py:770: UserWarning: Scoring failed. The score on this train-test partition for these parameters will be set to nan. Details: \n",
      "Traceback (most recent call last):\n",
      "  File \"C:\\Users\\davul\\anaconda3\\lib\\site-packages\\sklearn\\model_selection\\_validation.py\", line 761, in _score\n",
      "    scores = scorer(estimator, X_test, y_test)\n",
      "  File \"C:\\Users\\davul\\anaconda3\\lib\\site-packages\\sklearn\\metrics\\_scorer.py\", line 216, in __call__\n",
      "    return self._score(\n",
      "  File \"C:\\Users\\davul\\anaconda3\\lib\\site-packages\\sklearn\\metrics\\_scorer.py\", line 258, in _score\n",
      "    y_pred = method_caller(estimator, \"predict\", X)\n",
      "  File \"C:\\Users\\davul\\anaconda3\\lib\\site-packages\\sklearn\\metrics\\_scorer.py\", line 68, in _cached_call\n",
      "    return getattr(estimator, method)(*args, **kwargs)\n",
      "  File \"C:\\Users\\davul\\anaconda3\\lib\\site-packages\\scikeras\\wrappers.py\", line 1054, in predict\n",
      "    y_pred = self.target_encoder_.inverse_transform(y_pred)\n",
      "  File \"C:\\Users\\davul\\anaconda3\\lib\\site-packages\\scikeras\\utils\\transformers.py\", line 256, in inverse_transform\n",
      "    class_predictions = self._final_encoder.inverse_transform(class_predictions)\n",
      "  File \"C:\\Users\\davul\\anaconda3\\lib\\site-packages\\sklearn\\utils\\metaestimators.py\", line 113, in <lambda>\n",
      "    out = lambda *args, **kwargs: self.fn(obj, *args, **kwargs)  # noqa\n",
      "  File \"C:\\Users\\davul\\anaconda3\\lib\\site-packages\\sklearn\\pipeline.py\", line 675, in inverse_transform\n",
      "    Xt = transform.inverse_transform(Xt)\n",
      "  File \"C:\\Users\\davul\\anaconda3\\lib\\site-packages\\sklearn\\preprocessing\\_encoders.py\", line 990, in inverse_transform\n",
      "    X_tr[:, i] = self.categories_[i][labels]\n",
      "IndexError: index 7 is out of bounds for axis 0 with size 2\n",
      "\n",
      "  warnings.warn(\n"
     ]
    },
    {
     "name": "stdout",
     "output_type": "stream",
     "text": [
      "7/7 [==============================] - 0s 834us/step\n"
     ]
    },
    {
     "name": "stderr",
     "output_type": "stream",
     "text": [
      "C:\\Users\\davul\\anaconda3\\lib\\site-packages\\sklearn\\model_selection\\_validation.py:770: UserWarning: Scoring failed. The score on this train-test partition for these parameters will be set to nan. Details: \n",
      "Traceback (most recent call last):\n",
      "  File \"C:\\Users\\davul\\anaconda3\\lib\\site-packages\\sklearn\\model_selection\\_validation.py\", line 761, in _score\n",
      "    scores = scorer(estimator, X_test, y_test)\n",
      "  File \"C:\\Users\\davul\\anaconda3\\lib\\site-packages\\sklearn\\metrics\\_scorer.py\", line 216, in __call__\n",
      "    return self._score(\n",
      "  File \"C:\\Users\\davul\\anaconda3\\lib\\site-packages\\sklearn\\metrics\\_scorer.py\", line 258, in _score\n",
      "    y_pred = method_caller(estimator, \"predict\", X)\n",
      "  File \"C:\\Users\\davul\\anaconda3\\lib\\site-packages\\sklearn\\metrics\\_scorer.py\", line 68, in _cached_call\n",
      "    return getattr(estimator, method)(*args, **kwargs)\n",
      "  File \"C:\\Users\\davul\\anaconda3\\lib\\site-packages\\scikeras\\wrappers.py\", line 1054, in predict\n",
      "    y_pred = self.target_encoder_.inverse_transform(y_pred)\n",
      "  File \"C:\\Users\\davul\\anaconda3\\lib\\site-packages\\scikeras\\utils\\transformers.py\", line 256, in inverse_transform\n",
      "    class_predictions = self._final_encoder.inverse_transform(class_predictions)\n",
      "  File \"C:\\Users\\davul\\anaconda3\\lib\\site-packages\\sklearn\\utils\\metaestimators.py\", line 113, in <lambda>\n",
      "    out = lambda *args, **kwargs: self.fn(obj, *args, **kwargs)  # noqa\n",
      "  File \"C:\\Users\\davul\\anaconda3\\lib\\site-packages\\sklearn\\pipeline.py\", line 675, in inverse_transform\n",
      "    Xt = transform.inverse_transform(Xt)\n",
      "  File \"C:\\Users\\davul\\anaconda3\\lib\\site-packages\\sklearn\\preprocessing\\_encoders.py\", line 990, in inverse_transform\n",
      "    X_tr[:, i] = self.categories_[i][labels]\n",
      "IndexError: index 6 is out of bounds for axis 0 with size 2\n",
      "\n",
      "  warnings.warn(\n"
     ]
    },
    {
     "name": "stdout",
     "output_type": "stream",
     "text": [
      "7/7 [==============================] - 0s 666us/step\n",
      "7/7 [==============================] - 0s 833us/step\n",
      "7/7 [==============================] - 0s 833us/step\n",
      "7/7 [==============================] - 0s 666us/step\n"
     ]
    },
    {
     "name": "stderr",
     "output_type": "stream",
     "text": [
      "C:\\Users\\davul\\anaconda3\\lib\\site-packages\\sklearn\\model_selection\\_validation.py:770: UserWarning: Scoring failed. The score on this train-test partition for these parameters will be set to nan. Details: \n",
      "Traceback (most recent call last):\n",
      "  File \"C:\\Users\\davul\\anaconda3\\lib\\site-packages\\sklearn\\model_selection\\_validation.py\", line 761, in _score\n",
      "    scores = scorer(estimator, X_test, y_test)\n",
      "  File \"C:\\Users\\davul\\anaconda3\\lib\\site-packages\\sklearn\\metrics\\_scorer.py\", line 216, in __call__\n",
      "    return self._score(\n",
      "  File \"C:\\Users\\davul\\anaconda3\\lib\\site-packages\\sklearn\\metrics\\_scorer.py\", line 258, in _score\n",
      "    y_pred = method_caller(estimator, \"predict\", X)\n",
      "  File \"C:\\Users\\davul\\anaconda3\\lib\\site-packages\\sklearn\\metrics\\_scorer.py\", line 68, in _cached_call\n",
      "    return getattr(estimator, method)(*args, **kwargs)\n",
      "  File \"C:\\Users\\davul\\anaconda3\\lib\\site-packages\\scikeras\\wrappers.py\", line 1054, in predict\n",
      "    y_pred = self.target_encoder_.inverse_transform(y_pred)\n",
      "  File \"C:\\Users\\davul\\anaconda3\\lib\\site-packages\\scikeras\\utils\\transformers.py\", line 256, in inverse_transform\n",
      "    class_predictions = self._final_encoder.inverse_transform(class_predictions)\n",
      "  File \"C:\\Users\\davul\\anaconda3\\lib\\site-packages\\sklearn\\utils\\metaestimators.py\", line 113, in <lambda>\n",
      "    out = lambda *args, **kwargs: self.fn(obj, *args, **kwargs)  # noqa\n",
      "  File \"C:\\Users\\davul\\anaconda3\\lib\\site-packages\\sklearn\\pipeline.py\", line 675, in inverse_transform\n",
      "    Xt = transform.inverse_transform(Xt)\n",
      "  File \"C:\\Users\\davul\\anaconda3\\lib\\site-packages\\sklearn\\preprocessing\\_encoders.py\", line 990, in inverse_transform\n",
      "    X_tr[:, i] = self.categories_[i][labels]\n",
      "IndexError: index 4 is out of bounds for axis 0 with size 2\n",
      "\n",
      "  warnings.warn(\n"
     ]
    },
    {
     "name": "stdout",
     "output_type": "stream",
     "text": [
      "7/7 [==============================] - 0s 775us/step\n"
     ]
    },
    {
     "name": "stderr",
     "output_type": "stream",
     "text": [
      "C:\\Users\\davul\\anaconda3\\lib\\site-packages\\sklearn\\model_selection\\_validation.py:770: UserWarning: Scoring failed. The score on this train-test partition for these parameters will be set to nan. Details: \n",
      "Traceback (most recent call last):\n",
      "  File \"C:\\Users\\davul\\anaconda3\\lib\\site-packages\\sklearn\\model_selection\\_validation.py\", line 761, in _score\n",
      "    scores = scorer(estimator, X_test, y_test)\n",
      "  File \"C:\\Users\\davul\\anaconda3\\lib\\site-packages\\sklearn\\metrics\\_scorer.py\", line 216, in __call__\n",
      "    return self._score(\n",
      "  File \"C:\\Users\\davul\\anaconda3\\lib\\site-packages\\sklearn\\metrics\\_scorer.py\", line 258, in _score\n",
      "    y_pred = method_caller(estimator, \"predict\", X)\n",
      "  File \"C:\\Users\\davul\\anaconda3\\lib\\site-packages\\sklearn\\metrics\\_scorer.py\", line 68, in _cached_call\n",
      "    return getattr(estimator, method)(*args, **kwargs)\n",
      "  File \"C:\\Users\\davul\\anaconda3\\lib\\site-packages\\scikeras\\wrappers.py\", line 1054, in predict\n",
      "    y_pred = self.target_encoder_.inverse_transform(y_pred)\n",
      "  File \"C:\\Users\\davul\\anaconda3\\lib\\site-packages\\scikeras\\utils\\transformers.py\", line 256, in inverse_transform\n",
      "    class_predictions = self._final_encoder.inverse_transform(class_predictions)\n",
      "  File \"C:\\Users\\davul\\anaconda3\\lib\\site-packages\\sklearn\\utils\\metaestimators.py\", line 113, in <lambda>\n",
      "    out = lambda *args, **kwargs: self.fn(obj, *args, **kwargs)  # noqa\n",
      "  File \"C:\\Users\\davul\\anaconda3\\lib\\site-packages\\sklearn\\pipeline.py\", line 675, in inverse_transform\n",
      "    Xt = transform.inverse_transform(Xt)\n",
      "  File \"C:\\Users\\davul\\anaconda3\\lib\\site-packages\\sklearn\\preprocessing\\_encoders.py\", line 990, in inverse_transform\n",
      "    X_tr[:, i] = self.categories_[i][labels]\n",
      "IndexError: index 3 is out of bounds for axis 0 with size 2\n",
      "\n",
      "  warnings.warn(\n"
     ]
    },
    {
     "name": "stdout",
     "output_type": "stream",
     "text": [
      "7/7 [==============================] - 0s 790us/step\n",
      "7/7 [==============================] - 0s 1ms/step\n",
      "2/2 [==============================] - 0s 2ms/step\n"
     ]
    },
    {
     "name": "stderr",
     "output_type": "stream",
     "text": [
      "C:\\Users\\davul\\anaconda3\\lib\\site-packages\\sklearn\\model_selection\\_validation.py:770: UserWarning: Scoring failed. The score on this train-test partition for these parameters will be set to nan. Details: \n",
      "Traceback (most recent call last):\n",
      "  File \"C:\\Users\\davul\\anaconda3\\lib\\site-packages\\sklearn\\model_selection\\_validation.py\", line 761, in _score\n",
      "    scores = scorer(estimator, X_test, y_test)\n",
      "  File \"C:\\Users\\davul\\anaconda3\\lib\\site-packages\\sklearn\\metrics\\_scorer.py\", line 216, in __call__\n",
      "    return self._score(\n",
      "  File \"C:\\Users\\davul\\anaconda3\\lib\\site-packages\\sklearn\\metrics\\_scorer.py\", line 258, in _score\n",
      "    y_pred = method_caller(estimator, \"predict\", X)\n",
      "  File \"C:\\Users\\davul\\anaconda3\\lib\\site-packages\\sklearn\\metrics\\_scorer.py\", line 68, in _cached_call\n",
      "    return getattr(estimator, method)(*args, **kwargs)\n",
      "  File \"C:\\Users\\davul\\anaconda3\\lib\\site-packages\\scikeras\\wrappers.py\", line 1054, in predict\n",
      "    y_pred = self.target_encoder_.inverse_transform(y_pred)\n",
      "  File \"C:\\Users\\davul\\anaconda3\\lib\\site-packages\\scikeras\\utils\\transformers.py\", line 256, in inverse_transform\n",
      "    class_predictions = self._final_encoder.inverse_transform(class_predictions)\n",
      "  File \"C:\\Users\\davul\\anaconda3\\lib\\site-packages\\sklearn\\utils\\metaestimators.py\", line 113, in <lambda>\n",
      "    out = lambda *args, **kwargs: self.fn(obj, *args, **kwargs)  # noqa\n",
      "  File \"C:\\Users\\davul\\anaconda3\\lib\\site-packages\\sklearn\\pipeline.py\", line 675, in inverse_transform\n",
      "    Xt = transform.inverse_transform(Xt)\n",
      "  File \"C:\\Users\\davul\\anaconda3\\lib\\site-packages\\sklearn\\preprocessing\\_encoders.py\", line 990, in inverse_transform\n",
      "    X_tr[:, i] = self.categories_[i][labels]\n",
      "IndexError: index 4 is out of bounds for axis 0 with size 2\n",
      "\n",
      "  warnings.warn(\n"
     ]
    },
    {
     "name": "stdout",
     "output_type": "stream",
     "text": [
      "2/2 [==============================] - 0s 2ms/step\n"
     ]
    },
    {
     "name": "stderr",
     "output_type": "stream",
     "text": [
      "C:\\Users\\davul\\anaconda3\\lib\\site-packages\\sklearn\\model_selection\\_validation.py:770: UserWarning: Scoring failed. The score on this train-test partition for these parameters will be set to nan. Details: \n",
      "Traceback (most recent call last):\n",
      "  File \"C:\\Users\\davul\\anaconda3\\lib\\site-packages\\sklearn\\model_selection\\_validation.py\", line 761, in _score\n",
      "    scores = scorer(estimator, X_test, y_test)\n",
      "  File \"C:\\Users\\davul\\anaconda3\\lib\\site-packages\\sklearn\\metrics\\_scorer.py\", line 216, in __call__\n",
      "    return self._score(\n",
      "  File \"C:\\Users\\davul\\anaconda3\\lib\\site-packages\\sklearn\\metrics\\_scorer.py\", line 258, in _score\n",
      "    y_pred = method_caller(estimator, \"predict\", X)\n",
      "  File \"C:\\Users\\davul\\anaconda3\\lib\\site-packages\\sklearn\\metrics\\_scorer.py\", line 68, in _cached_call\n",
      "    return getattr(estimator, method)(*args, **kwargs)\n",
      "  File \"C:\\Users\\davul\\anaconda3\\lib\\site-packages\\scikeras\\wrappers.py\", line 1054, in predict\n",
      "    y_pred = self.target_encoder_.inverse_transform(y_pred)\n",
      "  File \"C:\\Users\\davul\\anaconda3\\lib\\site-packages\\scikeras\\utils\\transformers.py\", line 256, in inverse_transform\n",
      "    class_predictions = self._final_encoder.inverse_transform(class_predictions)\n",
      "  File \"C:\\Users\\davul\\anaconda3\\lib\\site-packages\\sklearn\\utils\\metaestimators.py\", line 113, in <lambda>\n",
      "    out = lambda *args, **kwargs: self.fn(obj, *args, **kwargs)  # noqa\n",
      "  File \"C:\\Users\\davul\\anaconda3\\lib\\site-packages\\sklearn\\pipeline.py\", line 675, in inverse_transform\n",
      "    Xt = transform.inverse_transform(Xt)\n",
      "  File \"C:\\Users\\davul\\anaconda3\\lib\\site-packages\\sklearn\\preprocessing\\_encoders.py\", line 990, in inverse_transform\n",
      "    X_tr[:, i] = self.categories_[i][labels]\n",
      "IndexError: index 2 is out of bounds for axis 0 with size 2\n",
      "\n",
      "  warnings.warn(\n"
     ]
    },
    {
     "name": "stdout",
     "output_type": "stream",
     "text": [
      "2/2 [==============================] - 0s 2ms/step\n"
     ]
    },
    {
     "name": "stderr",
     "output_type": "stream",
     "text": [
      "C:\\Users\\davul\\anaconda3\\lib\\site-packages\\sklearn\\model_selection\\_validation.py:770: UserWarning: Scoring failed. The score on this train-test partition for these parameters will be set to nan. Details: \n",
      "Traceback (most recent call last):\n",
      "  File \"C:\\Users\\davul\\anaconda3\\lib\\site-packages\\sklearn\\model_selection\\_validation.py\", line 761, in _score\n",
      "    scores = scorer(estimator, X_test, y_test)\n",
      "  File \"C:\\Users\\davul\\anaconda3\\lib\\site-packages\\sklearn\\metrics\\_scorer.py\", line 216, in __call__\n",
      "    return self._score(\n",
      "  File \"C:\\Users\\davul\\anaconda3\\lib\\site-packages\\sklearn\\metrics\\_scorer.py\", line 258, in _score\n",
      "    y_pred = method_caller(estimator, \"predict\", X)\n",
      "  File \"C:\\Users\\davul\\anaconda3\\lib\\site-packages\\sklearn\\metrics\\_scorer.py\", line 68, in _cached_call\n",
      "    return getattr(estimator, method)(*args, **kwargs)\n",
      "  File \"C:\\Users\\davul\\anaconda3\\lib\\site-packages\\scikeras\\wrappers.py\", line 1054, in predict\n",
      "    y_pred = self.target_encoder_.inverse_transform(y_pred)\n",
      "  File \"C:\\Users\\davul\\anaconda3\\lib\\site-packages\\scikeras\\utils\\transformers.py\", line 256, in inverse_transform\n",
      "    class_predictions = self._final_encoder.inverse_transform(class_predictions)\n",
      "  File \"C:\\Users\\davul\\anaconda3\\lib\\site-packages\\sklearn\\utils\\metaestimators.py\", line 113, in <lambda>\n",
      "    out = lambda *args, **kwargs: self.fn(obj, *args, **kwargs)  # noqa\n",
      "  File \"C:\\Users\\davul\\anaconda3\\lib\\site-packages\\sklearn\\pipeline.py\", line 675, in inverse_transform\n",
      "    Xt = transform.inverse_transform(Xt)\n",
      "  File \"C:\\Users\\davul\\anaconda3\\lib\\site-packages\\sklearn\\preprocessing\\_encoders.py\", line 990, in inverse_transform\n",
      "    X_tr[:, i] = self.categories_[i][labels]\n",
      "IndexError: index 9 is out of bounds for axis 0 with size 2\n",
      "\n",
      "  warnings.warn(\n"
     ]
    },
    {
     "name": "stdout",
     "output_type": "stream",
     "text": [
      "2/2 [==============================] - 0s 2ms/step\n",
      "2/2 [==============================] - 0s 2ms/step\n"
     ]
    },
    {
     "name": "stderr",
     "output_type": "stream",
     "text": [
      "C:\\Users\\davul\\anaconda3\\lib\\site-packages\\sklearn\\model_selection\\_validation.py:770: UserWarning: Scoring failed. The score on this train-test partition for these parameters will be set to nan. Details: \n",
      "Traceback (most recent call last):\n",
      "  File \"C:\\Users\\davul\\anaconda3\\lib\\site-packages\\sklearn\\model_selection\\_validation.py\", line 761, in _score\n",
      "    scores = scorer(estimator, X_test, y_test)\n",
      "  File \"C:\\Users\\davul\\anaconda3\\lib\\site-packages\\sklearn\\metrics\\_scorer.py\", line 216, in __call__\n",
      "    return self._score(\n",
      "  File \"C:\\Users\\davul\\anaconda3\\lib\\site-packages\\sklearn\\metrics\\_scorer.py\", line 258, in _score\n",
      "    y_pred = method_caller(estimator, \"predict\", X)\n",
      "  File \"C:\\Users\\davul\\anaconda3\\lib\\site-packages\\sklearn\\metrics\\_scorer.py\", line 68, in _cached_call\n",
      "    return getattr(estimator, method)(*args, **kwargs)\n",
      "  File \"C:\\Users\\davul\\anaconda3\\lib\\site-packages\\scikeras\\wrappers.py\", line 1054, in predict\n",
      "    y_pred = self.target_encoder_.inverse_transform(y_pred)\n",
      "  File \"C:\\Users\\davul\\anaconda3\\lib\\site-packages\\scikeras\\utils\\transformers.py\", line 256, in inverse_transform\n",
      "    class_predictions = self._final_encoder.inverse_transform(class_predictions)\n",
      "  File \"C:\\Users\\davul\\anaconda3\\lib\\site-packages\\sklearn\\utils\\metaestimators.py\", line 113, in <lambda>\n",
      "    out = lambda *args, **kwargs: self.fn(obj, *args, **kwargs)  # noqa\n",
      "  File \"C:\\Users\\davul\\anaconda3\\lib\\site-packages\\sklearn\\pipeline.py\", line 675, in inverse_transform\n",
      "    Xt = transform.inverse_transform(Xt)\n",
      "  File \"C:\\Users\\davul\\anaconda3\\lib\\site-packages\\sklearn\\preprocessing\\_encoders.py\", line 990, in inverse_transform\n",
      "    X_tr[:, i] = self.categories_[i][labels]\n",
      "IndexError: index 5 is out of bounds for axis 0 with size 2\n",
      "\n",
      "  warnings.warn(\n"
     ]
    },
    {
     "name": "stdout",
     "output_type": "stream",
     "text": [
      "3/3 [==============================] - 0s 2ms/step\n"
     ]
    },
    {
     "name": "stderr",
     "output_type": "stream",
     "text": [
      "C:\\Users\\davul\\anaconda3\\lib\\site-packages\\sklearn\\model_selection\\_validation.py:770: UserWarning: Scoring failed. The score on this train-test partition for these parameters will be set to nan. Details: \n",
      "Traceback (most recent call last):\n",
      "  File \"C:\\Users\\davul\\anaconda3\\lib\\site-packages\\sklearn\\model_selection\\_validation.py\", line 761, in _score\n",
      "    scores = scorer(estimator, X_test, y_test)\n",
      "  File \"C:\\Users\\davul\\anaconda3\\lib\\site-packages\\sklearn\\metrics\\_scorer.py\", line 216, in __call__\n",
      "    return self._score(\n",
      "  File \"C:\\Users\\davul\\anaconda3\\lib\\site-packages\\sklearn\\metrics\\_scorer.py\", line 258, in _score\n",
      "    y_pred = method_caller(estimator, \"predict\", X)\n",
      "  File \"C:\\Users\\davul\\anaconda3\\lib\\site-packages\\sklearn\\metrics\\_scorer.py\", line 68, in _cached_call\n",
      "    return getattr(estimator, method)(*args, **kwargs)\n",
      "  File \"C:\\Users\\davul\\anaconda3\\lib\\site-packages\\scikeras\\wrappers.py\", line 1054, in predict\n",
      "    y_pred = self.target_encoder_.inverse_transform(y_pred)\n",
      "  File \"C:\\Users\\davul\\anaconda3\\lib\\site-packages\\scikeras\\utils\\transformers.py\", line 256, in inverse_transform\n",
      "    class_predictions = self._final_encoder.inverse_transform(class_predictions)\n",
      "  File \"C:\\Users\\davul\\anaconda3\\lib\\site-packages\\sklearn\\utils\\metaestimators.py\", line 113, in <lambda>\n",
      "    out = lambda *args, **kwargs: self.fn(obj, *args, **kwargs)  # noqa\n",
      "  File \"C:\\Users\\davul\\anaconda3\\lib\\site-packages\\sklearn\\pipeline.py\", line 675, in inverse_transform\n",
      "    Xt = transform.inverse_transform(Xt)\n",
      "  File \"C:\\Users\\davul\\anaconda3\\lib\\site-packages\\sklearn\\preprocessing\\_encoders.py\", line 990, in inverse_transform\n",
      "    X_tr[:, i] = self.categories_[i][labels]\n",
      "IndexError: index 2 is out of bounds for axis 0 with size 2\n",
      "\n",
      "  warnings.warn(\n"
     ]
    },
    {
     "name": "stdout",
     "output_type": "stream",
     "text": [
      "3/3 [==============================] - 0s 2ms/step\n"
     ]
    },
    {
     "name": "stderr",
     "output_type": "stream",
     "text": [
      "C:\\Users\\davul\\anaconda3\\lib\\site-packages\\sklearn\\model_selection\\_validation.py:770: UserWarning: Scoring failed. The score on this train-test partition for these parameters will be set to nan. Details: \n",
      "Traceback (most recent call last):\n",
      "  File \"C:\\Users\\davul\\anaconda3\\lib\\site-packages\\sklearn\\model_selection\\_validation.py\", line 761, in _score\n",
      "    scores = scorer(estimator, X_test, y_test)\n",
      "  File \"C:\\Users\\davul\\anaconda3\\lib\\site-packages\\sklearn\\metrics\\_scorer.py\", line 216, in __call__\n",
      "    return self._score(\n",
      "  File \"C:\\Users\\davul\\anaconda3\\lib\\site-packages\\sklearn\\metrics\\_scorer.py\", line 258, in _score\n",
      "    y_pred = method_caller(estimator, \"predict\", X)\n",
      "  File \"C:\\Users\\davul\\anaconda3\\lib\\site-packages\\sklearn\\metrics\\_scorer.py\", line 68, in _cached_call\n",
      "    return getattr(estimator, method)(*args, **kwargs)\n",
      "  File \"C:\\Users\\davul\\anaconda3\\lib\\site-packages\\scikeras\\wrappers.py\", line 1054, in predict\n",
      "    y_pred = self.target_encoder_.inverse_transform(y_pred)\n",
      "  File \"C:\\Users\\davul\\anaconda3\\lib\\site-packages\\scikeras\\utils\\transformers.py\", line 256, in inverse_transform\n",
      "    class_predictions = self._final_encoder.inverse_transform(class_predictions)\n",
      "  File \"C:\\Users\\davul\\anaconda3\\lib\\site-packages\\sklearn\\utils\\metaestimators.py\", line 113, in <lambda>\n",
      "    out = lambda *args, **kwargs: self.fn(obj, *args, **kwargs)  # noqa\n",
      "  File \"C:\\Users\\davul\\anaconda3\\lib\\site-packages\\sklearn\\pipeline.py\", line 675, in inverse_transform\n",
      "    Xt = transform.inverse_transform(Xt)\n",
      "  File \"C:\\Users\\davul\\anaconda3\\lib\\site-packages\\sklearn\\preprocessing\\_encoders.py\", line 990, in inverse_transform\n",
      "    X_tr[:, i] = self.categories_[i][labels]\n",
      "IndexError: index 2 is out of bounds for axis 0 with size 2\n",
      "\n",
      "  warnings.warn(\n"
     ]
    },
    {
     "name": "stdout",
     "output_type": "stream",
     "text": [
      "3/3 [==============================] - 0s 536us/step\n"
     ]
    },
    {
     "name": "stderr",
     "output_type": "stream",
     "text": [
      "C:\\Users\\davul\\anaconda3\\lib\\site-packages\\sklearn\\model_selection\\_validation.py:770: UserWarning: Scoring failed. The score on this train-test partition for these parameters will be set to nan. Details: \n",
      "Traceback (most recent call last):\n",
      "  File \"C:\\Users\\davul\\anaconda3\\lib\\site-packages\\sklearn\\model_selection\\_validation.py\", line 761, in _score\n",
      "    scores = scorer(estimator, X_test, y_test)\n",
      "  File \"C:\\Users\\davul\\anaconda3\\lib\\site-packages\\sklearn\\metrics\\_scorer.py\", line 216, in __call__\n",
      "    return self._score(\n",
      "  File \"C:\\Users\\davul\\anaconda3\\lib\\site-packages\\sklearn\\metrics\\_scorer.py\", line 258, in _score\n",
      "    y_pred = method_caller(estimator, \"predict\", X)\n",
      "  File \"C:\\Users\\davul\\anaconda3\\lib\\site-packages\\sklearn\\metrics\\_scorer.py\", line 68, in _cached_call\n",
      "    return getattr(estimator, method)(*args, **kwargs)\n",
      "  File \"C:\\Users\\davul\\anaconda3\\lib\\site-packages\\scikeras\\wrappers.py\", line 1054, in predict\n",
      "    y_pred = self.target_encoder_.inverse_transform(y_pred)\n",
      "  File \"C:\\Users\\davul\\anaconda3\\lib\\site-packages\\scikeras\\utils\\transformers.py\", line 256, in inverse_transform\n",
      "    class_predictions = self._final_encoder.inverse_transform(class_predictions)\n",
      "  File \"C:\\Users\\davul\\anaconda3\\lib\\site-packages\\sklearn\\utils\\metaestimators.py\", line 113, in <lambda>\n",
      "    out = lambda *args, **kwargs: self.fn(obj, *args, **kwargs)  # noqa\n",
      "  File \"C:\\Users\\davul\\anaconda3\\lib\\site-packages\\sklearn\\pipeline.py\", line 675, in inverse_transform\n",
      "    Xt = transform.inverse_transform(Xt)\n",
      "  File \"C:\\Users\\davul\\anaconda3\\lib\\site-packages\\sklearn\\preprocessing\\_encoders.py\", line 990, in inverse_transform\n",
      "    X_tr[:, i] = self.categories_[i][labels]\n",
      "IndexError: index 3 is out of bounds for axis 0 with size 2\n",
      "\n",
      "  warnings.warn(\n"
     ]
    },
    {
     "name": "stdout",
     "output_type": "stream",
     "text": [
      "3/3 [==============================] - 0s 1ms/step\n",
      "3/3 [==============================] - 0s 2ms/step\n",
      "3/3 [==============================] - 0s 2ms/step\n"
     ]
    },
    {
     "name": "stderr",
     "output_type": "stream",
     "text": [
      "C:\\Users\\davul\\anaconda3\\lib\\site-packages\\sklearn\\model_selection\\_validation.py:770: UserWarning: Scoring failed. The score on this train-test partition for these parameters will be set to nan. Details: \n",
      "Traceback (most recent call last):\n",
      "  File \"C:\\Users\\davul\\anaconda3\\lib\\site-packages\\sklearn\\model_selection\\_validation.py\", line 761, in _score\n",
      "    scores = scorer(estimator, X_test, y_test)\n",
      "  File \"C:\\Users\\davul\\anaconda3\\lib\\site-packages\\sklearn\\metrics\\_scorer.py\", line 216, in __call__\n",
      "    return self._score(\n",
      "  File \"C:\\Users\\davul\\anaconda3\\lib\\site-packages\\sklearn\\metrics\\_scorer.py\", line 258, in _score\n",
      "    y_pred = method_caller(estimator, \"predict\", X)\n",
      "  File \"C:\\Users\\davul\\anaconda3\\lib\\site-packages\\sklearn\\metrics\\_scorer.py\", line 68, in _cached_call\n",
      "    return getattr(estimator, method)(*args, **kwargs)\n",
      "  File \"C:\\Users\\davul\\anaconda3\\lib\\site-packages\\scikeras\\wrappers.py\", line 1054, in predict\n",
      "    y_pred = self.target_encoder_.inverse_transform(y_pred)\n",
      "  File \"C:\\Users\\davul\\anaconda3\\lib\\site-packages\\scikeras\\utils\\transformers.py\", line 256, in inverse_transform\n",
      "    class_predictions = self._final_encoder.inverse_transform(class_predictions)\n",
      "  File \"C:\\Users\\davul\\anaconda3\\lib\\site-packages\\sklearn\\utils\\metaestimators.py\", line 113, in <lambda>\n",
      "    out = lambda *args, **kwargs: self.fn(obj, *args, **kwargs)  # noqa\n",
      "  File \"C:\\Users\\davul\\anaconda3\\lib\\site-packages\\sklearn\\pipeline.py\", line 675, in inverse_transform\n",
      "    Xt = transform.inverse_transform(Xt)\n",
      "  File \"C:\\Users\\davul\\anaconda3\\lib\\site-packages\\sklearn\\preprocessing\\_encoders.py\", line 990, in inverse_transform\n",
      "    X_tr[:, i] = self.categories_[i][labels]\n",
      "IndexError: index 3 is out of bounds for axis 0 with size 2\n",
      "\n",
      "  warnings.warn(\n"
     ]
    },
    {
     "name": "stdout",
     "output_type": "stream",
     "text": [
      "3/3 [==============================] - 0s 1ms/step\n"
     ]
    },
    {
     "name": "stderr",
     "output_type": "stream",
     "text": [
      "C:\\Users\\davul\\anaconda3\\lib\\site-packages\\sklearn\\model_selection\\_validation.py:770: UserWarning: Scoring failed. The score on this train-test partition for these parameters will be set to nan. Details: \n",
      "Traceback (most recent call last):\n",
      "  File \"C:\\Users\\davul\\anaconda3\\lib\\site-packages\\sklearn\\model_selection\\_validation.py\", line 761, in _score\n",
      "    scores = scorer(estimator, X_test, y_test)\n",
      "  File \"C:\\Users\\davul\\anaconda3\\lib\\site-packages\\sklearn\\metrics\\_scorer.py\", line 216, in __call__\n",
      "    return self._score(\n",
      "  File \"C:\\Users\\davul\\anaconda3\\lib\\site-packages\\sklearn\\metrics\\_scorer.py\", line 258, in _score\n",
      "    y_pred = method_caller(estimator, \"predict\", X)\n",
      "  File \"C:\\Users\\davul\\anaconda3\\lib\\site-packages\\sklearn\\metrics\\_scorer.py\", line 68, in _cached_call\n",
      "    return getattr(estimator, method)(*args, **kwargs)\n",
      "  File \"C:\\Users\\davul\\anaconda3\\lib\\site-packages\\scikeras\\wrappers.py\", line 1054, in predict\n",
      "    y_pred = self.target_encoder_.inverse_transform(y_pred)\n",
      "  File \"C:\\Users\\davul\\anaconda3\\lib\\site-packages\\scikeras\\utils\\transformers.py\", line 256, in inverse_transform\n",
      "    class_predictions = self._final_encoder.inverse_transform(class_predictions)\n",
      "  File \"C:\\Users\\davul\\anaconda3\\lib\\site-packages\\sklearn\\utils\\metaestimators.py\", line 113, in <lambda>\n",
      "    out = lambda *args, **kwargs: self.fn(obj, *args, **kwargs)  # noqa\n",
      "  File \"C:\\Users\\davul\\anaconda3\\lib\\site-packages\\sklearn\\pipeline.py\", line 675, in inverse_transform\n",
      "    Xt = transform.inverse_transform(Xt)\n",
      "  File \"C:\\Users\\davul\\anaconda3\\lib\\site-packages\\sklearn\\preprocessing\\_encoders.py\", line 990, in inverse_transform\n",
      "    X_tr[:, i] = self.categories_[i][labels]\n",
      "IndexError: index 3 is out of bounds for axis 0 with size 2\n",
      "\n",
      "  warnings.warn(\n"
     ]
    },
    {
     "name": "stdout",
     "output_type": "stream",
     "text": [
      "3/3 [==============================] - 0s 1ms/step\n"
     ]
    },
    {
     "name": "stderr",
     "output_type": "stream",
     "text": [
      "C:\\Users\\davul\\anaconda3\\lib\\site-packages\\sklearn\\model_selection\\_validation.py:770: UserWarning: Scoring failed. The score on this train-test partition for these parameters will be set to nan. Details: \n",
      "Traceback (most recent call last):\n",
      "  File \"C:\\Users\\davul\\anaconda3\\lib\\site-packages\\sklearn\\model_selection\\_validation.py\", line 761, in _score\n",
      "    scores = scorer(estimator, X_test, y_test)\n",
      "  File \"C:\\Users\\davul\\anaconda3\\lib\\site-packages\\sklearn\\metrics\\_scorer.py\", line 216, in __call__\n",
      "    return self._score(\n",
      "  File \"C:\\Users\\davul\\anaconda3\\lib\\site-packages\\sklearn\\metrics\\_scorer.py\", line 258, in _score\n",
      "    y_pred = method_caller(estimator, \"predict\", X)\n",
      "  File \"C:\\Users\\davul\\anaconda3\\lib\\site-packages\\sklearn\\metrics\\_scorer.py\", line 68, in _cached_call\n",
      "    return getattr(estimator, method)(*args, **kwargs)\n",
      "  File \"C:\\Users\\davul\\anaconda3\\lib\\site-packages\\scikeras\\wrappers.py\", line 1054, in predict\n",
      "    y_pred = self.target_encoder_.inverse_transform(y_pred)\n",
      "  File \"C:\\Users\\davul\\anaconda3\\lib\\site-packages\\scikeras\\utils\\transformers.py\", line 256, in inverse_transform\n",
      "    class_predictions = self._final_encoder.inverse_transform(class_predictions)\n",
      "  File \"C:\\Users\\davul\\anaconda3\\lib\\site-packages\\sklearn\\utils\\metaestimators.py\", line 113, in <lambda>\n",
      "    out = lambda *args, **kwargs: self.fn(obj, *args, **kwargs)  # noqa\n",
      "  File \"C:\\Users\\davul\\anaconda3\\lib\\site-packages\\sklearn\\pipeline.py\", line 675, in inverse_transform\n",
      "    Xt = transform.inverse_transform(Xt)\n",
      "  File \"C:\\Users\\davul\\anaconda3\\lib\\site-packages\\sklearn\\preprocessing\\_encoders.py\", line 990, in inverse_transform\n",
      "    X_tr[:, i] = self.categories_[i][labels]\n",
      "IndexError: index 4 is out of bounds for axis 0 with size 2\n",
      "\n",
      "  warnings.warn(\n"
     ]
    },
    {
     "name": "stdout",
     "output_type": "stream",
     "text": [
      "3/3 [==============================] - 0s 2ms/step\n",
      "3/3 [==============================] - 0s 1ms/step\n"
     ]
    },
    {
     "name": "stderr",
     "output_type": "stream",
     "text": [
      "C:\\Users\\davul\\anaconda3\\lib\\site-packages\\sklearn\\model_selection\\_validation.py:770: UserWarning: Scoring failed. The score on this train-test partition for these parameters will be set to nan. Details: \n",
      "Traceback (most recent call last):\n",
      "  File \"C:\\Users\\davul\\anaconda3\\lib\\site-packages\\sklearn\\model_selection\\_validation.py\", line 761, in _score\n",
      "    scores = scorer(estimator, X_test, y_test)\n",
      "  File \"C:\\Users\\davul\\anaconda3\\lib\\site-packages\\sklearn\\metrics\\_scorer.py\", line 216, in __call__\n",
      "    return self._score(\n",
      "  File \"C:\\Users\\davul\\anaconda3\\lib\\site-packages\\sklearn\\metrics\\_scorer.py\", line 258, in _score\n",
      "    y_pred = method_caller(estimator, \"predict\", X)\n",
      "  File \"C:\\Users\\davul\\anaconda3\\lib\\site-packages\\sklearn\\metrics\\_scorer.py\", line 68, in _cached_call\n",
      "    return getattr(estimator, method)(*args, **kwargs)\n",
      "  File \"C:\\Users\\davul\\anaconda3\\lib\\site-packages\\scikeras\\wrappers.py\", line 1054, in predict\n",
      "    y_pred = self.target_encoder_.inverse_transform(y_pred)\n",
      "  File \"C:\\Users\\davul\\anaconda3\\lib\\site-packages\\scikeras\\utils\\transformers.py\", line 256, in inverse_transform\n",
      "    class_predictions = self._final_encoder.inverse_transform(class_predictions)\n",
      "  File \"C:\\Users\\davul\\anaconda3\\lib\\site-packages\\sklearn\\utils\\metaestimators.py\", line 113, in <lambda>\n",
      "    out = lambda *args, **kwargs: self.fn(obj, *args, **kwargs)  # noqa\n",
      "  File \"C:\\Users\\davul\\anaconda3\\lib\\site-packages\\sklearn\\pipeline.py\", line 675, in inverse_transform\n",
      "    Xt = transform.inverse_transform(Xt)\n",
      "  File \"C:\\Users\\davul\\anaconda3\\lib\\site-packages\\sklearn\\preprocessing\\_encoders.py\", line 990, in inverse_transform\n",
      "    X_tr[:, i] = self.categories_[i][labels]\n",
      "IndexError: index 8 is out of bounds for axis 0 with size 2\n",
      "\n",
      "  warnings.warn(\n"
     ]
    },
    {
     "name": "stdout",
     "output_type": "stream",
     "text": [
      "2/2 [==============================] - 0s 1ms/step\n"
     ]
    },
    {
     "name": "stderr",
     "output_type": "stream",
     "text": [
      "C:\\Users\\davul\\anaconda3\\lib\\site-packages\\sklearn\\model_selection\\_validation.py:770: UserWarning: Scoring failed. The score on this train-test partition for these parameters will be set to nan. Details: \n",
      "Traceback (most recent call last):\n",
      "  File \"C:\\Users\\davul\\anaconda3\\lib\\site-packages\\sklearn\\model_selection\\_validation.py\", line 761, in _score\n",
      "    scores = scorer(estimator, X_test, y_test)\n",
      "  File \"C:\\Users\\davul\\anaconda3\\lib\\site-packages\\sklearn\\metrics\\_scorer.py\", line 216, in __call__\n",
      "    return self._score(\n",
      "  File \"C:\\Users\\davul\\anaconda3\\lib\\site-packages\\sklearn\\metrics\\_scorer.py\", line 258, in _score\n",
      "    y_pred = method_caller(estimator, \"predict\", X)\n",
      "  File \"C:\\Users\\davul\\anaconda3\\lib\\site-packages\\sklearn\\metrics\\_scorer.py\", line 68, in _cached_call\n",
      "    return getattr(estimator, method)(*args, **kwargs)\n",
      "  File \"C:\\Users\\davul\\anaconda3\\lib\\site-packages\\scikeras\\wrappers.py\", line 1054, in predict\n",
      "    y_pred = self.target_encoder_.inverse_transform(y_pred)\n",
      "  File \"C:\\Users\\davul\\anaconda3\\lib\\site-packages\\scikeras\\utils\\transformers.py\", line 256, in inverse_transform\n",
      "    class_predictions = self._final_encoder.inverse_transform(class_predictions)\n",
      "  File \"C:\\Users\\davul\\anaconda3\\lib\\site-packages\\sklearn\\utils\\metaestimators.py\", line 113, in <lambda>\n",
      "    out = lambda *args, **kwargs: self.fn(obj, *args, **kwargs)  # noqa\n",
      "  File \"C:\\Users\\davul\\anaconda3\\lib\\site-packages\\sklearn\\pipeline.py\", line 675, in inverse_transform\n",
      "    Xt = transform.inverse_transform(Xt)\n",
      "  File \"C:\\Users\\davul\\anaconda3\\lib\\site-packages\\sklearn\\preprocessing\\_encoders.py\", line 990, in inverse_transform\n",
      "    X_tr[:, i] = self.categories_[i][labels]\n",
      "IndexError: index 2 is out of bounds for axis 0 with size 2\n",
      "\n",
      "  warnings.warn(\n"
     ]
    },
    {
     "name": "stdout",
     "output_type": "stream",
     "text": [
      "2/2 [==============================] - 0s 1ms/step\n"
     ]
    },
    {
     "name": "stderr",
     "output_type": "stream",
     "text": [
      "C:\\Users\\davul\\anaconda3\\lib\\site-packages\\sklearn\\model_selection\\_validation.py:770: UserWarning: Scoring failed. The score on this train-test partition for these parameters will be set to nan. Details: \n",
      "Traceback (most recent call last):\n",
      "  File \"C:\\Users\\davul\\anaconda3\\lib\\site-packages\\sklearn\\model_selection\\_validation.py\", line 761, in _score\n",
      "    scores = scorer(estimator, X_test, y_test)\n",
      "  File \"C:\\Users\\davul\\anaconda3\\lib\\site-packages\\sklearn\\metrics\\_scorer.py\", line 216, in __call__\n",
      "    return self._score(\n",
      "  File \"C:\\Users\\davul\\anaconda3\\lib\\site-packages\\sklearn\\metrics\\_scorer.py\", line 258, in _score\n",
      "    y_pred = method_caller(estimator, \"predict\", X)\n",
      "  File \"C:\\Users\\davul\\anaconda3\\lib\\site-packages\\sklearn\\metrics\\_scorer.py\", line 68, in _cached_call\n",
      "    return getattr(estimator, method)(*args, **kwargs)\n",
      "  File \"C:\\Users\\davul\\anaconda3\\lib\\site-packages\\scikeras\\wrappers.py\", line 1054, in predict\n",
      "    y_pred = self.target_encoder_.inverse_transform(y_pred)\n",
      "  File \"C:\\Users\\davul\\anaconda3\\lib\\site-packages\\scikeras\\utils\\transformers.py\", line 256, in inverse_transform\n",
      "    class_predictions = self._final_encoder.inverse_transform(class_predictions)\n",
      "  File \"C:\\Users\\davul\\anaconda3\\lib\\site-packages\\sklearn\\utils\\metaestimators.py\", line 113, in <lambda>\n",
      "    out = lambda *args, **kwargs: self.fn(obj, *args, **kwargs)  # noqa\n",
      "  File \"C:\\Users\\davul\\anaconda3\\lib\\site-packages\\sklearn\\pipeline.py\", line 675, in inverse_transform\n",
      "    Xt = transform.inverse_transform(Xt)\n",
      "  File \"C:\\Users\\davul\\anaconda3\\lib\\site-packages\\sklearn\\preprocessing\\_encoders.py\", line 990, in inverse_transform\n",
      "    X_tr[:, i] = self.categories_[i][labels]\n",
      "IndexError: index 4 is out of bounds for axis 0 with size 2\n",
      "\n",
      "  warnings.warn(\n"
     ]
    },
    {
     "name": "stdout",
     "output_type": "stream",
     "text": [
      "2/2 [==============================] - 0s 2ms/step\n"
     ]
    },
    {
     "name": "stderr",
     "output_type": "stream",
     "text": [
      "C:\\Users\\davul\\anaconda3\\lib\\site-packages\\sklearn\\model_selection\\_validation.py:770: UserWarning: Scoring failed. The score on this train-test partition for these parameters will be set to nan. Details: \n",
      "Traceback (most recent call last):\n",
      "  File \"C:\\Users\\davul\\anaconda3\\lib\\site-packages\\sklearn\\model_selection\\_validation.py\", line 761, in _score\n",
      "    scores = scorer(estimator, X_test, y_test)\n",
      "  File \"C:\\Users\\davul\\anaconda3\\lib\\site-packages\\sklearn\\metrics\\_scorer.py\", line 216, in __call__\n",
      "    return self._score(\n",
      "  File \"C:\\Users\\davul\\anaconda3\\lib\\site-packages\\sklearn\\metrics\\_scorer.py\", line 258, in _score\n",
      "    y_pred = method_caller(estimator, \"predict\", X)\n",
      "  File \"C:\\Users\\davul\\anaconda3\\lib\\site-packages\\sklearn\\metrics\\_scorer.py\", line 68, in _cached_call\n",
      "    return getattr(estimator, method)(*args, **kwargs)\n",
      "  File \"C:\\Users\\davul\\anaconda3\\lib\\site-packages\\scikeras\\wrappers.py\", line 1054, in predict\n",
      "    y_pred = self.target_encoder_.inverse_transform(y_pred)\n",
      "  File \"C:\\Users\\davul\\anaconda3\\lib\\site-packages\\scikeras\\utils\\transformers.py\", line 256, in inverse_transform\n",
      "    class_predictions = self._final_encoder.inverse_transform(class_predictions)\n",
      "  File \"C:\\Users\\davul\\anaconda3\\lib\\site-packages\\sklearn\\utils\\metaestimators.py\", line 113, in <lambda>\n",
      "    out = lambda *args, **kwargs: self.fn(obj, *args, **kwargs)  # noqa\n",
      "  File \"C:\\Users\\davul\\anaconda3\\lib\\site-packages\\sklearn\\pipeline.py\", line 675, in inverse_transform\n",
      "    Xt = transform.inverse_transform(Xt)\n",
      "  File \"C:\\Users\\davul\\anaconda3\\lib\\site-packages\\sklearn\\preprocessing\\_encoders.py\", line 990, in inverse_transform\n",
      "    X_tr[:, i] = self.categories_[i][labels]\n",
      "IndexError: index 5 is out of bounds for axis 0 with size 2\n",
      "\n",
      "  warnings.warn(\n"
     ]
    },
    {
     "name": "stdout",
     "output_type": "stream",
     "text": [
      "2/2 [==============================] - 0s 998us/step\n",
      "2/2 [==============================] - 0s 2ms/step\n",
      "3/3 [==============================] - 0s 2ms/step\n"
     ]
    },
    {
     "name": "stderr",
     "output_type": "stream",
     "text": [
      "C:\\Users\\davul\\anaconda3\\lib\\site-packages\\sklearn\\model_selection\\_validation.py:770: UserWarning: Scoring failed. The score on this train-test partition for these parameters will be set to nan. Details: \n",
      "Traceback (most recent call last):\n",
      "  File \"C:\\Users\\davul\\anaconda3\\lib\\site-packages\\sklearn\\model_selection\\_validation.py\", line 761, in _score\n",
      "    scores = scorer(estimator, X_test, y_test)\n",
      "  File \"C:\\Users\\davul\\anaconda3\\lib\\site-packages\\sklearn\\metrics\\_scorer.py\", line 216, in __call__\n",
      "    return self._score(\n",
      "  File \"C:\\Users\\davul\\anaconda3\\lib\\site-packages\\sklearn\\metrics\\_scorer.py\", line 258, in _score\n",
      "    y_pred = method_caller(estimator, \"predict\", X)\n",
      "  File \"C:\\Users\\davul\\anaconda3\\lib\\site-packages\\sklearn\\metrics\\_scorer.py\", line 68, in _cached_call\n",
      "    return getattr(estimator, method)(*args, **kwargs)\n",
      "  File \"C:\\Users\\davul\\anaconda3\\lib\\site-packages\\scikeras\\wrappers.py\", line 1054, in predict\n",
      "    y_pred = self.target_encoder_.inverse_transform(y_pred)\n",
      "  File \"C:\\Users\\davul\\anaconda3\\lib\\site-packages\\scikeras\\utils\\transformers.py\", line 256, in inverse_transform\n",
      "    class_predictions = self._final_encoder.inverse_transform(class_predictions)\n",
      "  File \"C:\\Users\\davul\\anaconda3\\lib\\site-packages\\sklearn\\utils\\metaestimators.py\", line 113, in <lambda>\n",
      "    out = lambda *args, **kwargs: self.fn(obj, *args, **kwargs)  # noqa\n",
      "  File \"C:\\Users\\davul\\anaconda3\\lib\\site-packages\\sklearn\\pipeline.py\", line 675, in inverse_transform\n",
      "    Xt = transform.inverse_transform(Xt)\n",
      "  File \"C:\\Users\\davul\\anaconda3\\lib\\site-packages\\sklearn\\preprocessing\\_encoders.py\", line 990, in inverse_transform\n",
      "    X_tr[:, i] = self.categories_[i][labels]\n",
      "IndexError: index 4 is out of bounds for axis 0 with size 2\n",
      "\n",
      "  warnings.warn(\n"
     ]
    },
    {
     "name": "stdout",
     "output_type": "stream",
     "text": [
      "3/3 [==============================] - 0s 2ms/step\n"
     ]
    },
    {
     "name": "stderr",
     "output_type": "stream",
     "text": [
      "C:\\Users\\davul\\anaconda3\\lib\\site-packages\\sklearn\\model_selection\\_validation.py:770: UserWarning: Scoring failed. The score on this train-test partition for these parameters will be set to nan. Details: \n",
      "Traceback (most recent call last):\n",
      "  File \"C:\\Users\\davul\\anaconda3\\lib\\site-packages\\sklearn\\model_selection\\_validation.py\", line 761, in _score\n",
      "    scores = scorer(estimator, X_test, y_test)\n",
      "  File \"C:\\Users\\davul\\anaconda3\\lib\\site-packages\\sklearn\\metrics\\_scorer.py\", line 216, in __call__\n",
      "    return self._score(\n",
      "  File \"C:\\Users\\davul\\anaconda3\\lib\\site-packages\\sklearn\\metrics\\_scorer.py\", line 258, in _score\n",
      "    y_pred = method_caller(estimator, \"predict\", X)\n",
      "  File \"C:\\Users\\davul\\anaconda3\\lib\\site-packages\\sklearn\\metrics\\_scorer.py\", line 68, in _cached_call\n",
      "    return getattr(estimator, method)(*args, **kwargs)\n",
      "  File \"C:\\Users\\davul\\anaconda3\\lib\\site-packages\\scikeras\\wrappers.py\", line 1054, in predict\n",
      "    y_pred = self.target_encoder_.inverse_transform(y_pred)\n",
      "  File \"C:\\Users\\davul\\anaconda3\\lib\\site-packages\\scikeras\\utils\\transformers.py\", line 256, in inverse_transform\n",
      "    class_predictions = self._final_encoder.inverse_transform(class_predictions)\n",
      "  File \"C:\\Users\\davul\\anaconda3\\lib\\site-packages\\sklearn\\utils\\metaestimators.py\", line 113, in <lambda>\n",
      "    out = lambda *args, **kwargs: self.fn(obj, *args, **kwargs)  # noqa\n",
      "  File \"C:\\Users\\davul\\anaconda3\\lib\\site-packages\\sklearn\\pipeline.py\", line 675, in inverse_transform\n",
      "    Xt = transform.inverse_transform(Xt)\n",
      "  File \"C:\\Users\\davul\\anaconda3\\lib\\site-packages\\sklearn\\preprocessing\\_encoders.py\", line 990, in inverse_transform\n",
      "    X_tr[:, i] = self.categories_[i][labels]\n",
      "IndexError: index 7 is out of bounds for axis 0 with size 2\n",
      "\n",
      "  warnings.warn(\n"
     ]
    },
    {
     "name": "stdout",
     "output_type": "stream",
     "text": [
      "3/3 [==============================] - 0s 1000us/step\n"
     ]
    },
    {
     "name": "stderr",
     "output_type": "stream",
     "text": [
      "C:\\Users\\davul\\anaconda3\\lib\\site-packages\\sklearn\\model_selection\\_validation.py:770: UserWarning: Scoring failed. The score on this train-test partition for these parameters will be set to nan. Details: \n",
      "Traceback (most recent call last):\n",
      "  File \"C:\\Users\\davul\\anaconda3\\lib\\site-packages\\sklearn\\model_selection\\_validation.py\", line 761, in _score\n",
      "    scores = scorer(estimator, X_test, y_test)\n",
      "  File \"C:\\Users\\davul\\anaconda3\\lib\\site-packages\\sklearn\\metrics\\_scorer.py\", line 216, in __call__\n",
      "    return self._score(\n",
      "  File \"C:\\Users\\davul\\anaconda3\\lib\\site-packages\\sklearn\\metrics\\_scorer.py\", line 258, in _score\n",
      "    y_pred = method_caller(estimator, \"predict\", X)\n",
      "  File \"C:\\Users\\davul\\anaconda3\\lib\\site-packages\\sklearn\\metrics\\_scorer.py\", line 68, in _cached_call\n",
      "    return getattr(estimator, method)(*args, **kwargs)\n",
      "  File \"C:\\Users\\davul\\anaconda3\\lib\\site-packages\\scikeras\\wrappers.py\", line 1054, in predict\n",
      "    y_pred = self.target_encoder_.inverse_transform(y_pred)\n",
      "  File \"C:\\Users\\davul\\anaconda3\\lib\\site-packages\\scikeras\\utils\\transformers.py\", line 256, in inverse_transform\n",
      "    class_predictions = self._final_encoder.inverse_transform(class_predictions)\n",
      "  File \"C:\\Users\\davul\\anaconda3\\lib\\site-packages\\sklearn\\utils\\metaestimators.py\", line 113, in <lambda>\n",
      "    out = lambda *args, **kwargs: self.fn(obj, *args, **kwargs)  # noqa\n",
      "  File \"C:\\Users\\davul\\anaconda3\\lib\\site-packages\\sklearn\\pipeline.py\", line 675, in inverse_transform\n",
      "    Xt = transform.inverse_transform(Xt)\n",
      "  File \"C:\\Users\\davul\\anaconda3\\lib\\site-packages\\sklearn\\preprocessing\\_encoders.py\", line 990, in inverse_transform\n",
      "    X_tr[:, i] = self.categories_[i][labels]\n",
      "IndexError: index 2 is out of bounds for axis 0 with size 2\n",
      "\n",
      "  warnings.warn(\n"
     ]
    },
    {
     "name": "stdout",
     "output_type": "stream",
     "text": [
      "3/3 [==============================] - 0s 1ms/step\n"
     ]
    },
    {
     "name": "stderr",
     "output_type": "stream",
     "text": [
      "C:\\Users\\davul\\anaconda3\\lib\\site-packages\\sklearn\\model_selection\\_validation.py:770: UserWarning: Scoring failed. The score on this train-test partition for these parameters will be set to nan. Details: \n",
      "Traceback (most recent call last):\n",
      "  File \"C:\\Users\\davul\\anaconda3\\lib\\site-packages\\sklearn\\model_selection\\_validation.py\", line 761, in _score\n",
      "    scores = scorer(estimator, X_test, y_test)\n",
      "  File \"C:\\Users\\davul\\anaconda3\\lib\\site-packages\\sklearn\\metrics\\_scorer.py\", line 216, in __call__\n",
      "    return self._score(\n",
      "  File \"C:\\Users\\davul\\anaconda3\\lib\\site-packages\\sklearn\\metrics\\_scorer.py\", line 258, in _score\n",
      "    y_pred = method_caller(estimator, \"predict\", X)\n",
      "  File \"C:\\Users\\davul\\anaconda3\\lib\\site-packages\\sklearn\\metrics\\_scorer.py\", line 68, in _cached_call\n",
      "    return getattr(estimator, method)(*args, **kwargs)\n",
      "  File \"C:\\Users\\davul\\anaconda3\\lib\\site-packages\\scikeras\\wrappers.py\", line 1054, in predict\n",
      "    y_pred = self.target_encoder_.inverse_transform(y_pred)\n",
      "  File \"C:\\Users\\davul\\anaconda3\\lib\\site-packages\\scikeras\\utils\\transformers.py\", line 256, in inverse_transform\n",
      "    class_predictions = self._final_encoder.inverse_transform(class_predictions)\n",
      "  File \"C:\\Users\\davul\\anaconda3\\lib\\site-packages\\sklearn\\utils\\metaestimators.py\", line 113, in <lambda>\n",
      "    out = lambda *args, **kwargs: self.fn(obj, *args, **kwargs)  # noqa\n",
      "  File \"C:\\Users\\davul\\anaconda3\\lib\\site-packages\\sklearn\\pipeline.py\", line 675, in inverse_transform\n",
      "    Xt = transform.inverse_transform(Xt)\n",
      "  File \"C:\\Users\\davul\\anaconda3\\lib\\site-packages\\sklearn\\preprocessing\\_encoders.py\", line 990, in inverse_transform\n",
      "    X_tr[:, i] = self.categories_[i][labels]\n",
      "IndexError: index 9 is out of bounds for axis 0 with size 2\n",
      "\n",
      "  warnings.warn(\n"
     ]
    },
    {
     "name": "stdout",
     "output_type": "stream",
     "text": [
      "3/3 [==============================] - 0s 1ms/step\n"
     ]
    },
    {
     "name": "stderr",
     "output_type": "stream",
     "text": [
      "C:\\Users\\davul\\anaconda3\\lib\\site-packages\\sklearn\\model_selection\\_search.py:969: UserWarning: One or more of the test scores are non-finite: [nan nan nan nan nan nan nan nan nan nan nan nan nan nan nan nan nan nan\n",
      " nan nan nan nan nan nan nan nan nan nan nan nan nan nan nan nan nan nan\n",
      " nan nan nan nan nan nan nan nan nan nan nan nan nan nan]\n",
      "  warnings.warn(\n"
     ]
    }
   ],
   "source": [
    "rnd_search_cv = RandomizedSearchCV(estimator=keras_clf, param_distributions=params, scoring='accuracy', n_iter=50, cv=5)\n",
    "\n",
    "import sys\n",
    "sys.setrecursionlimit(10000) # note: the default is 3000 (python 3.9)\n",
    "\n",
    "earlystop = EarlyStopping(monitor='val_loss', patience=5, verbose=0, mode='auto')\n",
    "callback = [earlystop]\n",
    "\n",
    "_ = rnd_search_cv.fit(X_train, y_train, callbacks=callback, verbose=0)\n"
   ]
  },
  {
   "cell_type": "code",
   "execution_count": 77,
   "id": "e7cb13a8-a7eb-4f1d-8eae-265de56d1a28",
   "metadata": {},
   "outputs": [
    {
     "data": {
      "text/plain": [
       "{'optimizer__learning_rate': 0.001,\n",
       " 'optimizer': 'sgd',\n",
       " 'model__hidden_layer_sizes': (100, 90),\n",
       " 'model__dropout': 0.1,\n",
       " 'epochs': 10,\n",
       " 'batch_size': 60}"
      ]
     },
     "execution_count": 77,
     "metadata": {},
     "output_type": "execute_result"
    }
   ],
   "source": [
    "rnd_search_cv.best_params_"
   ]
  },
  {
   "cell_type": "code",
   "execution_count": 78,
   "id": "3e256651-aca9-4d9a-8cbc-c8cc90a797b2",
   "metadata": {},
   "outputs": [
    {
     "data": {
      "text/html": [
       "<div>\n",
       "<style scoped>\n",
       "    .dataframe tbody tr th:only-of-type {\n",
       "        vertical-align: middle;\n",
       "    }\n",
       "\n",
       "    .dataframe tbody tr th {\n",
       "        vertical-align: top;\n",
       "    }\n",
       "\n",
       "    .dataframe thead th {\n",
       "        text-align: right;\n",
       "    }\n",
       "</style>\n",
       "<table border=\"1\" class=\"dataframe\">\n",
       "  <thead>\n",
       "    <tr style=\"text-align: right;\">\n",
       "      <th></th>\n",
       "      <th>model</th>\n",
       "      <th>Accuracy</th>\n",
       "      <th>Precision</th>\n",
       "      <th>Recall</th>\n",
       "      <th>F1</th>\n",
       "    </tr>\n",
       "  </thead>\n",
       "  <tbody>\n",
       "    <tr>\n",
       "      <th>0</th>\n",
       "      <td>default logistic</td>\n",
       "      <td>0.993333</td>\n",
       "      <td>0.993548</td>\n",
       "      <td>0.993548</td>\n",
       "      <td>0.993548</td>\n",
       "    </tr>\n",
       "    <tr>\n",
       "      <th>0</th>\n",
       "      <td>lin svm</td>\n",
       "      <td>0.953333</td>\n",
       "      <td>1.000000</td>\n",
       "      <td>0.909677</td>\n",
       "      <td>0.952703</td>\n",
       "    </tr>\n",
       "    <tr>\n",
       "      <th>0</th>\n",
       "      <td>rbf svm</td>\n",
       "      <td>0.940000</td>\n",
       "      <td>0.992806</td>\n",
       "      <td>0.890323</td>\n",
       "      <td>0.938776</td>\n",
       "    </tr>\n",
       "    <tr>\n",
       "      <th>0</th>\n",
       "      <td>poly svm</td>\n",
       "      <td>0.943333</td>\n",
       "      <td>0.985915</td>\n",
       "      <td>0.903226</td>\n",
       "      <td>0.942761</td>\n",
       "    </tr>\n",
       "    <tr>\n",
       "      <th>0</th>\n",
       "      <td>rand_poly_svm</td>\n",
       "      <td>0.926667</td>\n",
       "      <td>0.978417</td>\n",
       "      <td>0.877419</td>\n",
       "      <td>0.925170</td>\n",
       "    </tr>\n",
       "    <tr>\n",
       "      <th>0</th>\n",
       "      <td>grid_poly_svm</td>\n",
       "      <td>0.926667</td>\n",
       "      <td>0.978417</td>\n",
       "      <td>0.877419</td>\n",
       "      <td>0.925170</td>\n",
       "    </tr>\n",
       "    <tr>\n",
       "      <th>0</th>\n",
       "      <td>rand_poly_tree</td>\n",
       "      <td>1.000000</td>\n",
       "      <td>1.000000</td>\n",
       "      <td>1.000000</td>\n",
       "      <td>1.000000</td>\n",
       "    </tr>\n",
       "    <tr>\n",
       "      <th>0</th>\n",
       "      <td>grid_poly_tree</td>\n",
       "      <td>1.000000</td>\n",
       "      <td>1.000000</td>\n",
       "      <td>1.000000</td>\n",
       "      <td>1.000000</td>\n",
       "    </tr>\n",
       "    <tr>\n",
       "      <th>0</th>\n",
       "      <td>Neural Networks-100</td>\n",
       "      <td>0.990000</td>\n",
       "      <td>1.000000</td>\n",
       "      <td>0.980645</td>\n",
       "      <td>0.990228</td>\n",
       "    </tr>\n",
       "    <tr>\n",
       "      <th>0</th>\n",
       "      <td>GlotUniform</td>\n",
       "      <td>0.990000</td>\n",
       "      <td>1.000000</td>\n",
       "      <td>0.980645</td>\n",
       "      <td>0.990228</td>\n",
       "    </tr>\n",
       "    <tr>\n",
       "      <th>0</th>\n",
       "      <td>RandomGrid Search Normal</td>\n",
       "      <td>0.990000</td>\n",
       "      <td>1.000000</td>\n",
       "      <td>0.980645</td>\n",
       "      <td>0.990228</td>\n",
       "    </tr>\n",
       "  </tbody>\n",
       "</table>\n",
       "</div>"
      ],
      "text/plain": [
       "                      model  Accuracy  Precision    Recall        F1\n",
       "0          default logistic  0.993333   0.993548  0.993548  0.993548\n",
       "0                   lin svm  0.953333   1.000000  0.909677  0.952703\n",
       "0                   rbf svm  0.940000   0.992806  0.890323  0.938776\n",
       "0                  poly svm  0.943333   0.985915  0.903226  0.942761\n",
       "0             rand_poly_svm  0.926667   0.978417  0.877419  0.925170\n",
       "0             grid_poly_svm  0.926667   0.978417  0.877419  0.925170\n",
       "0            rand_poly_tree  1.000000   1.000000  1.000000  1.000000\n",
       "0            grid_poly_tree  1.000000   1.000000  1.000000  1.000000\n",
       "0       Neural Networks-100  0.990000   1.000000  0.980645  0.990228\n",
       "0               GlotUniform  0.990000   1.000000  0.980645  0.990228\n",
       "0  RandomGrid Search Normal  0.990000   1.000000  0.980645  0.990228"
      ]
     },
     "execution_count": 78,
     "metadata": {},
     "output_type": "execute_result"
    }
   ],
   "source": [
    "model_preds = ann.predict(X_test)\n",
    "c_matrix = confusion_matrix(y_test, model_preds)\n",
    "TP = c_matrix[1][1]\n",
    "TN = c_matrix[0][0]\n",
    "FP = c_matrix[0][1]\n",
    "FN = c_matrix[1][0]\n",
    "performance = pd.concat([performance, pd.DataFrame({'model':\"RandomGrid Search Normal\", \n",
    "                                                    'Accuracy': [(TP+TN)/(TP+TN+FP+FN)], \n",
    "                                                    'Precision': [TP/(TP+FP)], \n",
    "                                                    'Recall': [TP/(TP+FN)], \n",
    "                                                    'F1': [2*TP/(2*TP+FP+FN)]\n",
    "                                                     }, index=[0])])\n",
    "performance"
   ]
  },
  {
   "cell_type": "code",
   "execution_count": 79,
   "id": "7b283b41-7dcc-4224-ae49-4d91e9608dbc",
   "metadata": {},
   "outputs": [
    {
     "data": {
      "text/html": [
       "<div>\n",
       "<style scoped>\n",
       "    .dataframe tbody tr th:only-of-type {\n",
       "        vertical-align: middle;\n",
       "    }\n",
       "\n",
       "    .dataframe tbody tr th {\n",
       "        vertical-align: top;\n",
       "    }\n",
       "\n",
       "    .dataframe thead th {\n",
       "        text-align: right;\n",
       "    }\n",
       "</style>\n",
       "<table border=\"1\" class=\"dataframe\">\n",
       "  <thead>\n",
       "    <tr style=\"text-align: right;\">\n",
       "      <th></th>\n",
       "      <th>model</th>\n",
       "      <th>Accuracy</th>\n",
       "      <th>Precision</th>\n",
       "      <th>Recall</th>\n",
       "      <th>F1</th>\n",
       "    </tr>\n",
       "  </thead>\n",
       "  <tbody>\n",
       "    <tr>\n",
       "      <th>0</th>\n",
       "      <td>rand_poly_svm</td>\n",
       "      <td>0.926667</td>\n",
       "      <td>0.978417</td>\n",
       "      <td>0.877419</td>\n",
       "      <td>0.925170</td>\n",
       "    </tr>\n",
       "    <tr>\n",
       "      <th>0</th>\n",
       "      <td>grid_poly_svm</td>\n",
       "      <td>0.926667</td>\n",
       "      <td>0.978417</td>\n",
       "      <td>0.877419</td>\n",
       "      <td>0.925170</td>\n",
       "    </tr>\n",
       "    <tr>\n",
       "      <th>0</th>\n",
       "      <td>rbf svm</td>\n",
       "      <td>0.940000</td>\n",
       "      <td>0.992806</td>\n",
       "      <td>0.890323</td>\n",
       "      <td>0.938776</td>\n",
       "    </tr>\n",
       "    <tr>\n",
       "      <th>0</th>\n",
       "      <td>poly svm</td>\n",
       "      <td>0.943333</td>\n",
       "      <td>0.985915</td>\n",
       "      <td>0.903226</td>\n",
       "      <td>0.942761</td>\n",
       "    </tr>\n",
       "    <tr>\n",
       "      <th>0</th>\n",
       "      <td>lin svm</td>\n",
       "      <td>0.953333</td>\n",
       "      <td>1.000000</td>\n",
       "      <td>0.909677</td>\n",
       "      <td>0.952703</td>\n",
       "    </tr>\n",
       "    <tr>\n",
       "      <th>0</th>\n",
       "      <td>Neural Networks-100</td>\n",
       "      <td>0.990000</td>\n",
       "      <td>1.000000</td>\n",
       "      <td>0.980645</td>\n",
       "      <td>0.990228</td>\n",
       "    </tr>\n",
       "    <tr>\n",
       "      <th>0</th>\n",
       "      <td>GlotUniform</td>\n",
       "      <td>0.990000</td>\n",
       "      <td>1.000000</td>\n",
       "      <td>0.980645</td>\n",
       "      <td>0.990228</td>\n",
       "    </tr>\n",
       "    <tr>\n",
       "      <th>0</th>\n",
       "      <td>RandomGrid Search Normal</td>\n",
       "      <td>0.990000</td>\n",
       "      <td>1.000000</td>\n",
       "      <td>0.980645</td>\n",
       "      <td>0.990228</td>\n",
       "    </tr>\n",
       "    <tr>\n",
       "      <th>0</th>\n",
       "      <td>default logistic</td>\n",
       "      <td>0.993333</td>\n",
       "      <td>0.993548</td>\n",
       "      <td>0.993548</td>\n",
       "      <td>0.993548</td>\n",
       "    </tr>\n",
       "    <tr>\n",
       "      <th>0</th>\n",
       "      <td>rand_poly_tree</td>\n",
       "      <td>1.000000</td>\n",
       "      <td>1.000000</td>\n",
       "      <td>1.000000</td>\n",
       "      <td>1.000000</td>\n",
       "    </tr>\n",
       "    <tr>\n",
       "      <th>0</th>\n",
       "      <td>grid_poly_tree</td>\n",
       "      <td>1.000000</td>\n",
       "      <td>1.000000</td>\n",
       "      <td>1.000000</td>\n",
       "      <td>1.000000</td>\n",
       "    </tr>\n",
       "  </tbody>\n",
       "</table>\n",
       "</div>"
      ],
      "text/plain": [
       "                      model  Accuracy  Precision    Recall        F1\n",
       "0             rand_poly_svm  0.926667   0.978417  0.877419  0.925170\n",
       "0             grid_poly_svm  0.926667   0.978417  0.877419  0.925170\n",
       "0                   rbf svm  0.940000   0.992806  0.890323  0.938776\n",
       "0                  poly svm  0.943333   0.985915  0.903226  0.942761\n",
       "0                   lin svm  0.953333   1.000000  0.909677  0.952703\n",
       "0       Neural Networks-100  0.990000   1.000000  0.980645  0.990228\n",
       "0               GlotUniform  0.990000   1.000000  0.980645  0.990228\n",
       "0  RandomGrid Search Normal  0.990000   1.000000  0.980645  0.990228\n",
       "0          default logistic  0.993333   0.993548  0.993548  0.993548\n",
       "0            rand_poly_tree  1.000000   1.000000  1.000000  1.000000\n",
       "0            grid_poly_tree  1.000000   1.000000  1.000000  1.000000"
      ]
     },
     "execution_count": 79,
     "metadata": {},
     "output_type": "execute_result"
    }
   ],
   "source": [
    "performance.sort_values(by='Accuracy')"
   ]
  },
  {
   "cell_type": "markdown",
   "id": "9ce6342b-03ba-463d-b848-1d2c53b2d945",
   "metadata": {},
   "source": [
    "From the above analysis we can see that randomised poly tree and gridsearch poly tree models are over fitted and as compared with  Neural networks and GlotNormal and GlotUniform Default logistic model is performing well when sorted with metric as Accuracy."
   ]
  },
  {
   "cell_type": "code",
   "execution_count": null,
   "id": "c2e61265-2d82-4f7f-beee-ead37c582786",
   "metadata": {},
   "outputs": [],
   "source": []
  }
 ],
 "metadata": {
  "kernelspec": {
   "display_name": "Python 3 (ipykernel)",
   "language": "python",
   "name": "python3"
  },
  "language_info": {
   "codemirror_mode": {
    "name": "ipython",
    "version": 3
   },
   "file_extension": ".py",
   "mimetype": "text/x-python",
   "name": "python",
   "nbconvert_exporter": "python",
   "pygments_lexer": "ipython3",
   "version": "3.9.13"
  }
 },
 "nbformat": 4,
 "nbformat_minor": 5
}
