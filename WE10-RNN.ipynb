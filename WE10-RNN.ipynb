{
 "cells": [
  {
   "cell_type": "markdown",
   "metadata": {},
   "source": [
    "# Tutorial 2 - RNN Time Series\n",
    "\n",
    "In this notebook, we will predict the weather temperature. "
   ]
  },
  {
   "cell_type": "code",
   "execution_count": 1,
   "metadata": {},
   "outputs": [],
   "source": [
    "import tensorflow as tf\n",
    "from tensorflow import keras\n",
    "from sklearn.metrics import mean_squared_error\n",
    "\n",
    "\n",
    "# Common imports\n",
    "import numpy as np\n",
    "import os\n",
    "\n",
    "# to make this notebook's output stable across runs\n",
    "np.random.seed(42)\n",
    "\n",
    "# To plot pretty figures\n",
    "%matplotlib inline\n",
    "import matplotlib as mpl\n",
    "import matplotlib.pyplot as plt\n",
    "mpl.rc('axes', labelsize=14)\n",
    "mpl.rc('xtick', labelsize=12)\n",
    "mpl.rc('ytick', labelsize=12)"
   ]
  },
  {
   "cell_type": "markdown",
   "metadata": {},
   "source": [
    "# Read the Dataset"
   ]
  },
  {
   "cell_type": "code",
   "execution_count": 2,
   "metadata": {},
   "outputs": [
    {
     "data": {
      "text/html": [
       "<div>\n",
       "<style scoped>\n",
       "    .dataframe tbody tr th:only-of-type {\n",
       "        vertical-align: middle;\n",
       "    }\n",
       "\n",
       "    .dataframe tbody tr th {\n",
       "        vertical-align: top;\n",
       "    }\n",
       "\n",
       "    .dataframe thead th {\n",
       "        text-align: right;\n",
       "    }\n",
       "</style>\n",
       "<table border=\"1\" class=\"dataframe\">\n",
       "  <thead>\n",
       "    <tr style=\"text-align: right;\">\n",
       "      <th></th>\n",
       "      <th>Date</th>\n",
       "      <th>Open</th>\n",
       "      <th>High</th>\n",
       "      <th>Low</th>\n",
       "      <th>Close</th>\n",
       "      <th>Adj Close</th>\n",
       "      <th>Volume</th>\n",
       "    </tr>\n",
       "  </thead>\n",
       "  <tbody>\n",
       "    <tr>\n",
       "      <th>0</th>\n",
       "      <td>11/28/2022</td>\n",
       "      <td>136.070007</td>\n",
       "      <td>136.710007</td>\n",
       "      <td>134.190002</td>\n",
       "      <td>134.350006</td>\n",
       "      <td>132.326385</td>\n",
       "      <td>9906900</td>\n",
       "    </tr>\n",
       "    <tr>\n",
       "      <th>1</th>\n",
       "      <td>11/29/2022</td>\n",
       "      <td>134.660004</td>\n",
       "      <td>136.639999</td>\n",
       "      <td>134.410004</td>\n",
       "      <td>136.559998</td>\n",
       "      <td>134.503098</td>\n",
       "      <td>7925300</td>\n",
       "    </tr>\n",
       "    <tr>\n",
       "      <th>2</th>\n",
       "      <td>11/30/2022</td>\n",
       "      <td>136.089996</td>\n",
       "      <td>138.179993</td>\n",
       "      <td>133.190002</td>\n",
       "      <td>138.179993</td>\n",
       "      <td>136.098679</td>\n",
       "      <td>14761200</td>\n",
       "    </tr>\n",
       "    <tr>\n",
       "      <th>3</th>\n",
       "      <td>12/1/2022</td>\n",
       "      <td>138.179993</td>\n",
       "      <td>138.660004</td>\n",
       "      <td>135.429993</td>\n",
       "      <td>136.240005</td>\n",
       "      <td>134.187912</td>\n",
       "      <td>8858500</td>\n",
       "    </tr>\n",
       "    <tr>\n",
       "      <th>4</th>\n",
       "      <td>12/2/2022</td>\n",
       "      <td>134.490005</td>\n",
       "      <td>135.350006</td>\n",
       "      <td>133.339996</td>\n",
       "      <td>135.160004</td>\n",
       "      <td>133.124191</td>\n",
       "      <td>8931900</td>\n",
       "    </tr>\n",
       "  </tbody>\n",
       "</table>\n",
       "</div>"
      ],
      "text/plain": [
       "         Date        Open        High         Low       Close   Adj Close   \n",
       "0  11/28/2022  136.070007  136.710007  134.190002  134.350006  132.326385  \\\n",
       "1  11/29/2022  134.660004  136.639999  134.410004  136.559998  134.503098   \n",
       "2  11/30/2022  136.089996  138.179993  133.190002  138.179993  136.098679   \n",
       "3   12/1/2022  138.179993  138.660004  135.429993  136.240005  134.187912   \n",
       "4   12/2/2022  134.490005  135.350006  133.339996  135.160004  133.124191   \n",
       "\n",
       "     Volume  \n",
       "0   9906900  \n",
       "1   7925300  \n",
       "2  14761200  \n",
       "3   8858500  \n",
       "4   8931900  "
      ]
     },
     "execution_count": 2,
     "metadata": {},
     "output_type": "execute_result"
    }
   ],
   "source": [
    "import pandas as pd\n",
    "\n",
    "chase = pd.read_csv('jpm.csv')\n",
    "\n",
    "chase.head()"
   ]
  },
  {
   "cell_type": "code",
   "execution_count": 3,
   "metadata": {},
   "outputs": [
    {
     "data": {
      "text/html": [
       "<div>\n",
       "<style scoped>\n",
       "    .dataframe tbody tr th:only-of-type {\n",
       "        vertical-align: middle;\n",
       "    }\n",
       "\n",
       "    .dataframe tbody tr th {\n",
       "        vertical-align: top;\n",
       "    }\n",
       "\n",
       "    .dataframe thead th {\n",
       "        text-align: right;\n",
       "    }\n",
       "</style>\n",
       "<table border=\"1\" class=\"dataframe\">\n",
       "  <thead>\n",
       "    <tr style=\"text-align: right;\">\n",
       "      <th></th>\n",
       "      <th>Date</th>\n",
       "      <th>Open</th>\n",
       "      <th>High</th>\n",
       "      <th>Low</th>\n",
       "      <th>Close</th>\n",
       "      <th>Adj Close</th>\n",
       "      <th>Volume</th>\n",
       "    </tr>\n",
       "  </thead>\n",
       "  <tbody>\n",
       "    <tr>\n",
       "      <th>0</th>\n",
       "      <td>11/28/2022</td>\n",
       "      <td>136.070007</td>\n",
       "      <td>136.710007</td>\n",
       "      <td>134.190002</td>\n",
       "      <td>134.350006</td>\n",
       "      <td>132.326385</td>\n",
       "      <td>9906900</td>\n",
       "    </tr>\n",
       "    <tr>\n",
       "      <th>1</th>\n",
       "      <td>11/29/2022</td>\n",
       "      <td>134.660004</td>\n",
       "      <td>136.639999</td>\n",
       "      <td>134.410004</td>\n",
       "      <td>136.559998</td>\n",
       "      <td>134.503098</td>\n",
       "      <td>7925300</td>\n",
       "    </tr>\n",
       "    <tr>\n",
       "      <th>2</th>\n",
       "      <td>11/30/2022</td>\n",
       "      <td>136.089996</td>\n",
       "      <td>138.179993</td>\n",
       "      <td>133.190002</td>\n",
       "      <td>138.179993</td>\n",
       "      <td>136.098679</td>\n",
       "      <td>14761200</td>\n",
       "    </tr>\n",
       "    <tr>\n",
       "      <th>3</th>\n",
       "      <td>12/1/2022</td>\n",
       "      <td>138.179993</td>\n",
       "      <td>138.660004</td>\n",
       "      <td>135.429993</td>\n",
       "      <td>136.240005</td>\n",
       "      <td>134.187912</td>\n",
       "      <td>8858500</td>\n",
       "    </tr>\n",
       "    <tr>\n",
       "      <th>4</th>\n",
       "      <td>12/2/2022</td>\n",
       "      <td>134.490005</td>\n",
       "      <td>135.350006</td>\n",
       "      <td>133.339996</td>\n",
       "      <td>135.160004</td>\n",
       "      <td>133.124191</td>\n",
       "      <td>8931900</td>\n",
       "    </tr>\n",
       "    <tr>\n",
       "      <th>...</th>\n",
       "      <td>...</td>\n",
       "      <td>...</td>\n",
       "      <td>...</td>\n",
       "      <td>...</td>\n",
       "      <td>...</td>\n",
       "      <td>...</td>\n",
       "      <td>...</td>\n",
       "    </tr>\n",
       "    <tr>\n",
       "      <th>95</th>\n",
       "      <td>4/17/2023</td>\n",
       "      <td>139.949997</td>\n",
       "      <td>140.059998</td>\n",
       "      <td>137.660004</td>\n",
       "      <td>139.830002</td>\n",
       "      <td>139.830002</td>\n",
       "      <td>16050500</td>\n",
       "    </tr>\n",
       "    <tr>\n",
       "      <th>96</th>\n",
       "      <td>4/18/2023</td>\n",
       "      <td>140.270004</td>\n",
       "      <td>141.779999</td>\n",
       "      <td>139.029999</td>\n",
       "      <td>141.399994</td>\n",
       "      <td>141.399994</td>\n",
       "      <td>13760100</td>\n",
       "    </tr>\n",
       "    <tr>\n",
       "      <th>97</th>\n",
       "      <td>4/19/2023</td>\n",
       "      <td>141.229996</td>\n",
       "      <td>141.500000</td>\n",
       "      <td>140.399994</td>\n",
       "      <td>141.220001</td>\n",
       "      <td>141.220001</td>\n",
       "      <td>9158100</td>\n",
       "    </tr>\n",
       "    <tr>\n",
       "      <th>98</th>\n",
       "      <td>4/20/2023</td>\n",
       "      <td>139.910004</td>\n",
       "      <td>141.429993</td>\n",
       "      <td>139.839996</td>\n",
       "      <td>140.809998</td>\n",
       "      <td>140.809998</td>\n",
       "      <td>10586200</td>\n",
       "    </tr>\n",
       "    <tr>\n",
       "      <th>99</th>\n",
       "      <td>4/21/2023</td>\n",
       "      <td>139.740005</td>\n",
       "      <td>141.110001</td>\n",
       "      <td>138.779999</td>\n",
       "      <td>140.539993</td>\n",
       "      <td>140.539993</td>\n",
       "      <td>11841800</td>\n",
       "    </tr>\n",
       "  </tbody>\n",
       "</table>\n",
       "<p>100 rows × 7 columns</p>\n",
       "</div>"
      ],
      "text/plain": [
       "          Date        Open        High         Low       Close   Adj Close   \n",
       "0   11/28/2022  136.070007  136.710007  134.190002  134.350006  132.326385  \\\n",
       "1   11/29/2022  134.660004  136.639999  134.410004  136.559998  134.503098   \n",
       "2   11/30/2022  136.089996  138.179993  133.190002  138.179993  136.098679   \n",
       "3    12/1/2022  138.179993  138.660004  135.429993  136.240005  134.187912   \n",
       "4    12/2/2022  134.490005  135.350006  133.339996  135.160004  133.124191   \n",
       "..         ...         ...         ...         ...         ...         ...   \n",
       "95   4/17/2023  139.949997  140.059998  137.660004  139.830002  139.830002   \n",
       "96   4/18/2023  140.270004  141.779999  139.029999  141.399994  141.399994   \n",
       "97   4/19/2023  141.229996  141.500000  140.399994  141.220001  141.220001   \n",
       "98   4/20/2023  139.910004  141.429993  139.839996  140.809998  140.809998   \n",
       "99   4/21/2023  139.740005  141.110001  138.779999  140.539993  140.539993   \n",
       "\n",
       "      Volume  \n",
       "0    9906900  \n",
       "1    7925300  \n",
       "2   14761200  \n",
       "3    8858500  \n",
       "4    8931900  \n",
       "..       ...  \n",
       "95  16050500  \n",
       "96  13760100  \n",
       "97   9158100  \n",
       "98  10586200  \n",
       "99  11841800  \n",
       "\n",
       "[100 rows x 7 columns]"
      ]
     },
     "execution_count": 3,
     "metadata": {},
     "output_type": "execute_result"
    }
   ],
   "source": [
    "chase"
   ]
  },
  {
   "cell_type": "code",
   "execution_count": 4,
   "metadata": {},
   "outputs": [],
   "source": [
    "#Drop the columns we don't need\n",
    "\n",
    "chase = chase.drop(['Open', 'High', 'Low', 'Adj Close', 'Volume'], axis=1)"
   ]
  },
  {
   "cell_type": "code",
   "execution_count": 5,
   "metadata": {},
   "outputs": [
    {
     "data": {
      "text/html": [
       "<div>\n",
       "<style scoped>\n",
       "    .dataframe tbody tr th:only-of-type {\n",
       "        vertical-align: middle;\n",
       "    }\n",
       "\n",
       "    .dataframe tbody tr th {\n",
       "        vertical-align: top;\n",
       "    }\n",
       "\n",
       "    .dataframe thead th {\n",
       "        text-align: right;\n",
       "    }\n",
       "</style>\n",
       "<table border=\"1\" class=\"dataframe\">\n",
       "  <thead>\n",
       "    <tr style=\"text-align: right;\">\n",
       "      <th></th>\n",
       "      <th>Date</th>\n",
       "      <th>Close</th>\n",
       "    </tr>\n",
       "  </thead>\n",
       "  <tbody>\n",
       "    <tr>\n",
       "      <th>0</th>\n",
       "      <td>11/28/2022</td>\n",
       "      <td>134.350006</td>\n",
       "    </tr>\n",
       "    <tr>\n",
       "      <th>1</th>\n",
       "      <td>11/29/2022</td>\n",
       "      <td>136.559998</td>\n",
       "    </tr>\n",
       "    <tr>\n",
       "      <th>2</th>\n",
       "      <td>11/30/2022</td>\n",
       "      <td>138.179993</td>\n",
       "    </tr>\n",
       "    <tr>\n",
       "      <th>3</th>\n",
       "      <td>12/1/2022</td>\n",
       "      <td>136.240005</td>\n",
       "    </tr>\n",
       "    <tr>\n",
       "      <th>4</th>\n",
       "      <td>12/2/2022</td>\n",
       "      <td>135.160004</td>\n",
       "    </tr>\n",
       "    <tr>\n",
       "      <th>...</th>\n",
       "      <td>...</td>\n",
       "      <td>...</td>\n",
       "    </tr>\n",
       "    <tr>\n",
       "      <th>95</th>\n",
       "      <td>4/17/2023</td>\n",
       "      <td>139.830002</td>\n",
       "    </tr>\n",
       "    <tr>\n",
       "      <th>96</th>\n",
       "      <td>4/18/2023</td>\n",
       "      <td>141.399994</td>\n",
       "    </tr>\n",
       "    <tr>\n",
       "      <th>97</th>\n",
       "      <td>4/19/2023</td>\n",
       "      <td>141.220001</td>\n",
       "    </tr>\n",
       "    <tr>\n",
       "      <th>98</th>\n",
       "      <td>4/20/2023</td>\n",
       "      <td>140.809998</td>\n",
       "    </tr>\n",
       "    <tr>\n",
       "      <th>99</th>\n",
       "      <td>4/21/2023</td>\n",
       "      <td>140.539993</td>\n",
       "    </tr>\n",
       "  </tbody>\n",
       "</table>\n",
       "<p>100 rows × 2 columns</p>\n",
       "</div>"
      ],
      "text/plain": [
       "          Date       Close\n",
       "0   11/28/2022  134.350006\n",
       "1   11/29/2022  136.559998\n",
       "2   11/30/2022  138.179993\n",
       "3    12/1/2022  136.240005\n",
       "4    12/2/2022  135.160004\n",
       "..         ...         ...\n",
       "95   4/17/2023  139.830002\n",
       "96   4/18/2023  141.399994\n",
       "97   4/19/2023  141.220001\n",
       "98   4/20/2023  140.809998\n",
       "99   4/21/2023  140.539993\n",
       "\n",
       "[100 rows x 2 columns]"
      ]
     },
     "execution_count": 5,
     "metadata": {},
     "output_type": "execute_result"
    }
   ],
   "source": [
    "chase"
   ]
  },
  {
   "cell_type": "code",
   "execution_count": 6,
   "metadata": {},
   "outputs": [
    {
     "data": {
      "image/png": "[encoded data removed]",
      "text/plain": [
       "<Figure size 640x480 with 1 Axes>"
      ]
     },
     "metadata": {},
     "output_type": "display_data"
    }
   ],
   "source": [
    "#Plot temp\n",
    "\n",
    "plt.plot(chase['Close'])\n",
    "plt.show()"
   ]
  },
  {
   "cell_type": "markdown",
   "metadata": {},
   "source": [
    "# Data Cleanup"
   ]
  },
  {
   "cell_type": "markdown",
   "metadata": {},
   "source": [
    "Removal of null values"
   ]
  },
  {
   "cell_type": "code",
   "execution_count": 7,
   "metadata": {},
   "outputs": [],
   "source": [
    "\n",
    "chase = chase.dropna().reset_index(drop=True)"
   ]
  },
  {
   "cell_type": "code",
   "execution_count": 8,
   "metadata": {},
   "outputs": [
    {
     "data": {
      "image/png": "[encoded data removed]",
      "text/plain": [
       "<Figure size 640x480 with 1 Axes>"
      ]
     },
     "metadata": {},
     "output_type": "display_data"
    }
   ],
   "source": [
    "plt.plot(chase['Close'])\n",
    "plt.show()"
   ]
  },
  {
   "cell_type": "markdown",
   "metadata": {},
   "source": [
    "## RESHAPE the data set!"
   ]
  },
  {
   "cell_type": "code",
   "execution_count": 9,
   "metadata": {},
   "outputs": [
    {
     "data": {
      "text/plain": [
       "(100, 2)"
      ]
     },
     "execution_count": 9,
     "metadata": {},
     "output_type": "execute_result"
    }
   ],
   "source": [
    "chase.shape"
   ]
  },
  {
   "cell_type": "code",
   "execution_count": 10,
   "metadata": {},
   "outputs": [
    {
     "data": {
      "text/plain": [
       "10.0"
      ]
     },
     "execution_count": 10,
     "metadata": {},
     "output_type": "execute_result"
    }
   ],
   "source": [
    "\n",
    "\n",
    "chase.shape[0]/10"
   ]
  },
  {
   "cell_type": "code",
   "execution_count": 11,
   "metadata": {},
   "outputs": [
    {
     "data": {
      "text/html": [
       "<div>\n",
       "<style scoped>\n",
       "    .dataframe tbody tr th:only-of-type {\n",
       "        vertical-align: middle;\n",
       "    }\n",
       "\n",
       "    .dataframe tbody tr th {\n",
       "        vertical-align: top;\n",
       "    }\n",
       "\n",
       "    .dataframe thead th {\n",
       "        text-align: right;\n",
       "    }\n",
       "</style>\n",
       "<table border=\"1\" class=\"dataframe\">\n",
       "  <thead>\n",
       "    <tr style=\"text-align: right;\">\n",
       "      <th></th>\n",
       "      <th>Close</th>\n",
       "    </tr>\n",
       "    <tr>\n",
       "      <th>Date</th>\n",
       "      <th></th>\n",
       "    </tr>\n",
       "  </thead>\n",
       "  <tbody>\n",
       "    <tr>\n",
       "      <th>1/10/2023</th>\n",
       "      <td>1</td>\n",
       "    </tr>\n",
       "    <tr>\n",
       "      <th>1/11/2023</th>\n",
       "      <td>1</td>\n",
       "    </tr>\n",
       "    <tr>\n",
       "      <th>1/12/2023</th>\n",
       "      <td>1</td>\n",
       "    </tr>\n",
       "    <tr>\n",
       "      <th>1/13/2023</th>\n",
       "      <td>1</td>\n",
       "    </tr>\n",
       "    <tr>\n",
       "      <th>1/17/2023</th>\n",
       "      <td>1</td>\n",
       "    </tr>\n",
       "    <tr>\n",
       "      <th>...</th>\n",
       "      <td>...</td>\n",
       "    </tr>\n",
       "    <tr>\n",
       "      <th>4/21/2023</th>\n",
       "      <td>1</td>\n",
       "    </tr>\n",
       "    <tr>\n",
       "      <th>4/3/2023</th>\n",
       "      <td>1</td>\n",
       "    </tr>\n",
       "    <tr>\n",
       "      <th>4/4/2023</th>\n",
       "      <td>1</td>\n",
       "    </tr>\n",
       "    <tr>\n",
       "      <th>4/5/2023</th>\n",
       "      <td>1</td>\n",
       "    </tr>\n",
       "    <tr>\n",
       "      <th>4/6/2023</th>\n",
       "      <td>1</td>\n",
       "    </tr>\n",
       "  </tbody>\n",
       "</table>\n",
       "<p>100 rows × 1 columns</p>\n",
       "</div>"
      ],
      "text/plain": [
       "           Close\n",
       "Date            \n",
       "1/10/2023      1\n",
       "1/11/2023      1\n",
       "1/12/2023      1\n",
       "1/13/2023      1\n",
       "1/17/2023      1\n",
       "...          ...\n",
       "4/21/2023      1\n",
       "4/3/2023       1\n",
       "4/4/2023       1\n",
       "4/5/2023       1\n",
       "4/6/2023       1\n",
       "\n",
       "[100 rows x 1 columns]"
      ]
     },
     "execution_count": 11,
     "metadata": {},
     "output_type": "execute_result"
    }
   ],
   "source": [
    "chase.groupby(['Date']).count()"
   ]
  },
  {
   "cell_type": "code",
   "execution_count": 12,
   "metadata": {},
   "outputs": [
    {
     "data": {
      "text/plain": [
       "array([[134.350006, 136.559998, 138.179993, 136.240005, 135.160004,\n",
       "        131.369995, 131.589996, 131.5     , 132.880005, 132.160004],\n",
       "       [134.210007, 134.080002, 133.410004, 130.100006, 129.289993,\n",
       "        130.059998, 130.690002, 132.160004, 130.660004, 131.279999],\n",
       "       [131.740005, 132.460007, 133.220001, 134.100006, 135.119995,\n",
       "        136.380005, 135.350006, 137.940002, 137.369995, 138.600006],\n",
       "       [139.630005, 139.490005, 143.009995, 140.800003, 136.570007,\n",
       "        134.75    , 135.080002, 137.270004, 138.449997, 139.119995],\n",
       "       [139.979996, 140.320007, 139.130005, 139.960007, 139.589996,\n",
       "        138.940002, 141.089996, 141.919998, 143.649994, 142.639999],\n",
       "       [140.419998, 141.039993, 142.570007, 143.199997, 143.800003,\n",
       "        141.820007, 142.240005, 139.630005, 138.559998, 139.669998],\n",
       "       [140.929993, 142.160004, 143.350006, 142.550003, 141.070007,\n",
       "        143.660004, 142.820007, 138.619995, 137.800003, 130.339996],\n",
       "       [133.649994, 131.25    , 134.619995, 128.259995, 130.75    ,\n",
       "        125.809998, 127.139999, 130.550003, 127.18    , 126.839996],\n",
       "       [124.910004, 128.490005, 128.880005, 129.139999, 128.75    ,\n",
       "        130.309998, 130.160004, 128.419998, 127.610001, 127.470001],\n",
       "       [127.889999, 128.520004, 128.5     , 128.990005, 138.729996,\n",
       "        139.830002, 141.399994, 141.220001, 140.809998, 140.539993]])"
      ]
     },
     "execution_count": 12,
     "metadata": {},
     "output_type": "execute_result"
    }
   ],
   "source": [
    "# Find the reading count for each day\n",
    "\n",
    "data = np.array(chase['Close']).reshape(10,10)\n",
    "\n",
    "data"
   ]
  },
  {
   "cell_type": "code",
   "execution_count": 13,
   "metadata": {},
   "outputs": [
    {
     "data": {
      "text/html": [
       "<div>\n",
       "<style scoped>\n",
       "    .dataframe tbody tr th:only-of-type {\n",
       "        vertical-align: middle;\n",
       "    }\n",
       "\n",
       "    .dataframe tbody tr th {\n",
       "        vertical-align: top;\n",
       "    }\n",
       "\n",
       "    .dataframe thead th {\n",
       "        text-align: right;\n",
       "    }\n",
       "</style>\n",
       "<table border=\"1\" class=\"dataframe\">\n",
       "  <thead>\n",
       "    <tr style=\"text-align: right;\">\n",
       "      <th></th>\n",
       "      <th>0</th>\n",
       "      <th>1</th>\n",
       "      <th>2</th>\n",
       "      <th>3</th>\n",
       "      <th>4</th>\n",
       "      <th>5</th>\n",
       "      <th>6</th>\n",
       "      <th>7</th>\n",
       "      <th>8</th>\n",
       "      <th>9</th>\n",
       "    </tr>\n",
       "  </thead>\n",
       "  <tbody>\n",
       "    <tr>\n",
       "      <th>0</th>\n",
       "      <td>134.350006</td>\n",
       "      <td>136.559998</td>\n",
       "      <td>138.179993</td>\n",
       "      <td>136.240005</td>\n",
       "      <td>135.160004</td>\n",
       "      <td>131.369995</td>\n",
       "      <td>131.589996</td>\n",
       "      <td>131.500000</td>\n",
       "      <td>132.880005</td>\n",
       "      <td>132.160004</td>\n",
       "    </tr>\n",
       "    <tr>\n",
       "      <th>1</th>\n",
       "      <td>134.210007</td>\n",
       "      <td>134.080002</td>\n",
       "      <td>133.410004</td>\n",
       "      <td>130.100006</td>\n",
       "      <td>129.289993</td>\n",
       "      <td>130.059998</td>\n",
       "      <td>130.690002</td>\n",
       "      <td>132.160004</td>\n",
       "      <td>130.660004</td>\n",
       "      <td>131.279999</td>\n",
       "    </tr>\n",
       "    <tr>\n",
       "      <th>2</th>\n",
       "      <td>131.740005</td>\n",
       "      <td>132.460007</td>\n",
       "      <td>133.220001</td>\n",
       "      <td>134.100006</td>\n",
       "      <td>135.119995</td>\n",
       "      <td>136.380005</td>\n",
       "      <td>135.350006</td>\n",
       "      <td>137.940002</td>\n",
       "      <td>137.369995</td>\n",
       "      <td>138.600006</td>\n",
       "    </tr>\n",
       "    <tr>\n",
       "      <th>3</th>\n",
       "      <td>139.630005</td>\n",
       "      <td>139.490005</td>\n",
       "      <td>143.009995</td>\n",
       "      <td>140.800003</td>\n",
       "      <td>136.570007</td>\n",
       "      <td>134.750000</td>\n",
       "      <td>135.080002</td>\n",
       "      <td>137.270004</td>\n",
       "      <td>138.449997</td>\n",
       "      <td>139.119995</td>\n",
       "    </tr>\n",
       "    <tr>\n",
       "      <th>4</th>\n",
       "      <td>139.979996</td>\n",
       "      <td>140.320007</td>\n",
       "      <td>139.130005</td>\n",
       "      <td>139.960007</td>\n",
       "      <td>139.589996</td>\n",
       "      <td>138.940002</td>\n",
       "      <td>141.089996</td>\n",
       "      <td>141.919998</td>\n",
       "      <td>143.649994</td>\n",
       "      <td>142.639999</td>\n",
       "    </tr>\n",
       "    <tr>\n",
       "      <th>5</th>\n",
       "      <td>140.419998</td>\n",
       "      <td>141.039993</td>\n",
       "      <td>142.570007</td>\n",
       "      <td>143.199997</td>\n",
       "      <td>143.800003</td>\n",
       "      <td>141.820007</td>\n",
       "      <td>142.240005</td>\n",
       "      <td>139.630005</td>\n",
       "      <td>138.559998</td>\n",
       "      <td>139.669998</td>\n",
       "    </tr>\n",
       "    <tr>\n",
       "      <th>6</th>\n",
       "      <td>140.929993</td>\n",
       "      <td>142.160004</td>\n",
       "      <td>143.350006</td>\n",
       "      <td>142.550003</td>\n",
       "      <td>141.070007</td>\n",
       "      <td>143.660004</td>\n",
       "      <td>142.820007</td>\n",
       "      <td>138.619995</td>\n",
       "      <td>137.800003</td>\n",
       "      <td>130.339996</td>\n",
       "    </tr>\n",
       "    <tr>\n",
       "      <th>7</th>\n",
       "      <td>133.649994</td>\n",
       "      <td>131.250000</td>\n",
       "      <td>134.619995</td>\n",
       "      <td>128.259995</td>\n",
       "      <td>130.750000</td>\n",
       "      <td>125.809998</td>\n",
       "      <td>127.139999</td>\n",
       "      <td>130.550003</td>\n",
       "      <td>127.180000</td>\n",
       "      <td>126.839996</td>\n",
       "    </tr>\n",
       "    <tr>\n",
       "      <th>8</th>\n",
       "      <td>124.910004</td>\n",
       "      <td>128.490005</td>\n",
       "      <td>128.880005</td>\n",
       "      <td>129.139999</td>\n",
       "      <td>128.750000</td>\n",
       "      <td>130.309998</td>\n",
       "      <td>130.160004</td>\n",
       "      <td>128.419998</td>\n",
       "      <td>127.610001</td>\n",
       "      <td>127.470001</td>\n",
       "    </tr>\n",
       "    <tr>\n",
       "      <th>9</th>\n",
       "      <td>127.889999</td>\n",
       "      <td>128.520004</td>\n",
       "      <td>128.500000</td>\n",
       "      <td>128.990005</td>\n",
       "      <td>138.729996</td>\n",
       "      <td>139.830002</td>\n",
       "      <td>141.399994</td>\n",
       "      <td>141.220001</td>\n",
       "      <td>140.809998</td>\n",
       "      <td>140.539993</td>\n",
       "    </tr>\n",
       "  </tbody>\n",
       "</table>\n",
       "</div>"
      ],
      "text/plain": [
       "            0           1           2           3           4           5   \n",
       "0  134.350006  136.559998  138.179993  136.240005  135.160004  131.369995  \\\n",
       "1  134.210007  134.080002  133.410004  130.100006  129.289993  130.059998   \n",
       "2  131.740005  132.460007  133.220001  134.100006  135.119995  136.380005   \n",
       "3  139.630005  139.490005  143.009995  140.800003  136.570007  134.750000   \n",
       "4  139.979996  140.320007  139.130005  139.960007  139.589996  138.940002   \n",
       "5  140.419998  141.039993  142.570007  143.199997  143.800003  141.820007   \n",
       "6  140.929993  142.160004  143.350006  142.550003  141.070007  143.660004   \n",
       "7  133.649994  131.250000  134.619995  128.259995  130.750000  125.809998   \n",
       "8  124.910004  128.490005  128.880005  129.139999  128.750000  130.309998   \n",
       "9  127.889999  128.520004  128.500000  128.990005  138.729996  139.830002   \n",
       "\n",
       "            6           7           8           9  \n",
       "0  131.589996  131.500000  132.880005  132.160004  \n",
       "1  130.690002  132.160004  130.660004  131.279999  \n",
       "2  135.350006  137.940002  137.369995  138.600006  \n",
       "3  135.080002  137.270004  138.449997  139.119995  \n",
       "4  141.089996  141.919998  143.649994  142.639999  \n",
       "5  142.240005  139.630005  138.559998  139.669998  \n",
       "6  142.820007  138.619995  137.800003  130.339996  \n",
       "7  127.139999  130.550003  127.180000  126.839996  \n",
       "8  130.160004  128.419998  127.610001  127.470001  \n",
       "9  141.399994  141.220001  140.809998  140.539993  "
      ]
     },
     "execution_count": 13,
     "metadata": {},
     "output_type": "execute_result"
    }
   ],
   "source": [
    "# dataframe\n",
    "\n",
    "data_df=pd.DataFrame(data,columns=np.arange(0,10,1))\n",
    "\n",
    "data_df"
   ]
  },
  {
   "cell_type": "markdown",
   "metadata": {},
   "source": [
    "# Reshape for Standardizing Data"
   ]
  },
  {
   "cell_type": "code",
   "execution_count": 14,
   "metadata": {},
   "outputs": [
    {
     "data": {
      "text/plain": [
       "(100, 1)"
      ]
     },
     "execution_count": 14,
     "metadata": {},
     "output_type": "execute_result"
    }
   ],
   "source": [
    "# Let's create a single sequence (i.e., feature) for standardization\n",
    "\n",
    "data_1feature = np.array(data_df).ravel().reshape(-1,1)\n",
    "\n",
    "data_1feature.shape"
   ]
  },
  {
   "cell_type": "code",
   "execution_count": 15,
   "metadata": {
    "scrolled": true
   },
   "outputs": [
    {
     "data": {
      "text/plain": [
       "array([[134.350006],\n",
       "       [136.559998],\n",
       "       [138.179993],\n",
       "       [136.240005],\n",
       "       [135.160004],\n",
       "       [131.369995],\n",
       "       [131.589996],\n",
       "       [131.5     ],\n",
       "       [132.880005],\n",
       "       [132.160004],\n",
       "       [134.210007],\n",
       "       [134.080002],\n",
       "       [133.410004],\n",
       "       [130.100006],\n",
       "       [129.289993],\n",
       "       [130.059998],\n",
       "       [130.690002],\n",
       "       [132.160004],\n",
       "       [130.660004],\n",
       "       [131.279999],\n",
       "       [131.740005],\n",
       "       [132.460007],\n",
       "       [133.220001],\n",
       "       [134.100006],\n",
       "       [135.119995],\n",
       "       [136.380005],\n",
       "       [135.350006],\n",
       "       [137.940002],\n",
       "       [137.369995],\n",
       "       [138.600006],\n",
       "       [139.630005],\n",
       "       [139.490005],\n",
       "       [143.009995],\n",
       "       [140.800003],\n",
       "       [136.570007],\n",
       "       [134.75    ],\n",
       "       [135.080002],\n",
       "       [137.270004],\n",
       "       [138.449997],\n",
       "       [139.119995],\n",
       "       [139.979996],\n",
       "       [140.320007],\n",
       "       [139.130005],\n",
       "       [139.960007],\n",
       "       [139.589996],\n",
       "       [138.940002],\n",
       "       [141.089996],\n",
       "       [141.919998],\n",
       "       [143.649994],\n",
       "       [142.639999],\n",
       "       [140.419998],\n",
       "       [141.039993],\n",
       "       [142.570007],\n",
       "       [143.199997],\n",
       "       [143.800003],\n",
       "       [141.820007],\n",
       "       [142.240005],\n",
       "       [139.630005],\n",
       "       [138.559998],\n",
       "       [139.669998],\n",
       "       [140.929993],\n",
       "       [142.160004],\n",
       "       [143.350006],\n",
       "       [142.550003],\n",
       "       [141.070007],\n",
       "       [143.660004],\n",
       "       [142.820007],\n",
       "       [138.619995],\n",
       "       [137.800003],\n",
       "       [130.339996],\n",
       "       [133.649994],\n",
       "       [131.25    ],\n",
       "       [134.619995],\n",
       "       [128.259995],\n",
       "       [130.75    ],\n",
       "       [125.809998],\n",
       "       [127.139999],\n",
       "       [130.550003],\n",
       "       [127.18    ],\n",
       "       [126.839996],\n",
       "       [124.910004],\n",
       "       [128.490005],\n",
       "       [128.880005],\n",
       "       [129.139999],\n",
       "       [128.75    ],\n",
       "       [130.309998],\n",
       "       [130.160004],\n",
       "       [128.419998],\n",
       "       [127.610001],\n",
       "       [127.470001],\n",
       "       [127.889999],\n",
       "       [128.520004],\n",
       "       [128.5     ],\n",
       "       [128.990005],\n",
       "       [138.729996],\n",
       "       [139.830002],\n",
       "       [141.399994],\n",
       "       [141.220001],\n",
       "       [140.809998],\n",
       "       [140.539993]])"
      ]
     },
     "execution_count": 15,
     "metadata": {},
     "output_type": "execute_result"
    }
   ],
   "source": [
    "data_1feature"
   ]
  },
  {
   "cell_type": "markdown",
   "metadata": {},
   "source": [
    "## Standardize the values"
   ]
  },
  {
   "cell_type": "code",
   "execution_count": 16,
   "metadata": {},
   "outputs": [],
   "source": [
    "# Next, standardize\n",
    "\n",
    "from sklearn.preprocessing import StandardScaler\n",
    "\n",
    "scaler = StandardScaler()\n",
    "\n",
    "data_std = scaler.fit_transform(data_1feature)"
   ]
  },
  {
   "cell_type": "markdown",
   "metadata": {},
   "source": [
    "## Reshape the data "
   ]
  },
  {
   "cell_type": "code",
   "execution_count": 17,
   "metadata": {},
   "outputs": [
    {
     "data": {
      "text/plain": [
       "(10, 10)"
      ]
     },
     "execution_count": 17,
     "metadata": {},
     "output_type": "execute_result"
    }
   ],
   "source": [
    "data_reshaped = data_std.reshape(10,10)\n",
    "\n",
    "data_reshaped.shape"
   ]
  },
  {
   "cell_type": "code",
   "execution_count": 18,
   "metadata": {},
   "outputs": [
    {
     "data": {
      "text/html": [
       "<div>\n",
       "<style scoped>\n",
       "    .dataframe tbody tr th:only-of-type {\n",
       "        vertical-align: middle;\n",
       "    }\n",
       "\n",
       "    .dataframe tbody tr th {\n",
       "        vertical-align: top;\n",
       "    }\n",
       "\n",
       "    .dataframe thead th {\n",
       "        text-align: right;\n",
       "    }\n",
       "</style>\n",
       "<table border=\"1\" class=\"dataframe\">\n",
       "  <thead>\n",
       "    <tr style=\"text-align: right;\">\n",
       "      <th></th>\n",
       "      <th>0</th>\n",
       "      <th>1</th>\n",
       "      <th>2</th>\n",
       "      <th>3</th>\n",
       "      <th>4</th>\n",
       "      <th>5</th>\n",
       "      <th>6</th>\n",
       "      <th>7</th>\n",
       "      <th>8</th>\n",
       "      <th>9</th>\n",
       "    </tr>\n",
       "  </thead>\n",
       "  <tbody>\n",
       "    <tr>\n",
       "      <th>0</th>\n",
       "      <td>-0.222439</td>\n",
       "      <td>0.196043</td>\n",
       "      <td>0.502803</td>\n",
       "      <td>0.135449</td>\n",
       "      <td>-0.069059</td>\n",
       "      <td>-0.786731</td>\n",
       "      <td>-0.745072</td>\n",
       "      <td>-0.762113</td>\n",
       "      <td>-0.500797</td>\n",
       "      <td>-0.637135</td>\n",
       "    </tr>\n",
       "    <tr>\n",
       "      <th>1</th>\n",
       "      <td>-0.248949</td>\n",
       "      <td>-0.273567</td>\n",
       "      <td>-0.400437</td>\n",
       "      <td>-1.027215</td>\n",
       "      <td>-1.180598</td>\n",
       "      <td>-1.034790</td>\n",
       "      <td>-0.915494</td>\n",
       "      <td>-0.637135</td>\n",
       "      <td>-0.921174</td>\n",
       "      <td>-0.803772</td>\n",
       "    </tr>\n",
       "    <tr>\n",
       "      <th>2</th>\n",
       "      <td>-0.716666</td>\n",
       "      <td>-0.580327</td>\n",
       "      <td>-0.436416</td>\n",
       "      <td>-0.269779</td>\n",
       "      <td>-0.076635</td>\n",
       "      <td>0.161960</td>\n",
       "      <td>-0.033080</td>\n",
       "      <td>0.457359</td>\n",
       "      <td>0.349423</td>\n",
       "      <td>0.582337</td>\n",
       "    </tr>\n",
       "    <tr>\n",
       "      <th>3</th>\n",
       "      <td>0.777376</td>\n",
       "      <td>0.750866</td>\n",
       "      <td>1.417408</td>\n",
       "      <td>0.998926</td>\n",
       "      <td>0.197938</td>\n",
       "      <td>-0.146697</td>\n",
       "      <td>-0.084208</td>\n",
       "      <td>0.330489</td>\n",
       "      <td>0.553931</td>\n",
       "      <td>0.680801</td>\n",
       "    </tr>\n",
       "    <tr>\n",
       "      <th>4</th>\n",
       "      <td>0.843650</td>\n",
       "      <td>0.908034</td>\n",
       "      <td>0.682697</td>\n",
       "      <td>0.839865</td>\n",
       "      <td>0.769800</td>\n",
       "      <td>0.646718</td>\n",
       "      <td>1.053838</td>\n",
       "      <td>1.211007</td>\n",
       "      <td>1.538597</td>\n",
       "      <td>1.347345</td>\n",
       "    </tr>\n",
       "    <tr>\n",
       "      <th>5</th>\n",
       "      <td>0.926968</td>\n",
       "      <td>1.044370</td>\n",
       "      <td>1.334092</td>\n",
       "      <td>1.453386</td>\n",
       "      <td>1.567003</td>\n",
       "      <td>1.192073</td>\n",
       "      <td>1.271603</td>\n",
       "      <td>0.777376</td>\n",
       "      <td>0.574761</td>\n",
       "      <td>0.784949</td>\n",
       "    </tr>\n",
       "    <tr>\n",
       "      <th>6</th>\n",
       "      <td>1.023540</td>\n",
       "      <td>1.256454</td>\n",
       "      <td>1.481792</td>\n",
       "      <td>1.330304</td>\n",
       "      <td>1.050053</td>\n",
       "      <td>1.540493</td>\n",
       "      <td>1.381432</td>\n",
       "      <td>0.586122</td>\n",
       "      <td>0.430849</td>\n",
       "      <td>-0.981770</td>\n",
       "    </tr>\n",
       "    <tr>\n",
       "      <th>7</th>\n",
       "      <td>-0.354993</td>\n",
       "      <td>-0.809453</td>\n",
       "      <td>-0.171314</td>\n",
       "      <td>-1.375637</td>\n",
       "      <td>-0.904132</td>\n",
       "      <td>-1.839566</td>\n",
       "      <td>-1.587718</td>\n",
       "      <td>-0.942004</td>\n",
       "      <td>-1.580144</td>\n",
       "      <td>-1.644527</td>\n",
       "    </tr>\n",
       "    <tr>\n",
       "      <th>8</th>\n",
       "      <td>-2.009988</td>\n",
       "      <td>-1.332083</td>\n",
       "      <td>-1.258233</td>\n",
       "      <td>-1.209000</td>\n",
       "      <td>-1.282850</td>\n",
       "      <td>-0.987451</td>\n",
       "      <td>-1.015853</td>\n",
       "      <td>-1.345339</td>\n",
       "      <td>-1.498719</td>\n",
       "      <td>-1.525230</td>\n",
       "    </tr>\n",
       "    <tr>\n",
       "      <th>9</th>\n",
       "      <td>-1.445699</td>\n",
       "      <td>-1.326402</td>\n",
       "      <td>-1.330190</td>\n",
       "      <td>-1.237403</td>\n",
       "      <td>0.606951</td>\n",
       "      <td>0.815247</td>\n",
       "      <td>1.112539</td>\n",
       "      <td>1.078456</td>\n",
       "      <td>1.000818</td>\n",
       "      <td>0.949691</td>\n",
       "    </tr>\n",
       "  </tbody>\n",
       "</table>\n",
       "</div>"
      ],
      "text/plain": [
       "          0         1         2         3         4         5         6   \n",
       "0 -0.222439  0.196043  0.502803  0.135449 -0.069059 -0.786731 -0.745072  \\\n",
       "1 -0.248949 -0.273567 -0.400437 -1.027215 -1.180598 -1.034790 -0.915494   \n",
       "2 -0.716666 -0.580327 -0.436416 -0.269779 -0.076635  0.161960 -0.033080   \n",
       "3  0.777376  0.750866  1.417408  0.998926  0.197938 -0.146697 -0.084208   \n",
       "4  0.843650  0.908034  0.682697  0.839865  0.769800  0.646718  1.053838   \n",
       "5  0.926968  1.044370  1.334092  1.453386  1.567003  1.192073  1.271603   \n",
       "6  1.023540  1.256454  1.481792  1.330304  1.050053  1.540493  1.381432   \n",
       "7 -0.354993 -0.809453 -0.171314 -1.375637 -0.904132 -1.839566 -1.587718   \n",
       "8 -2.009988 -1.332083 -1.258233 -1.209000 -1.282850 -0.987451 -1.015853   \n",
       "9 -1.445699 -1.326402 -1.330190 -1.237403  0.606951  0.815247  1.112539   \n",
       "\n",
       "          7         8         9  \n",
       "0 -0.762113 -0.500797 -0.637135  \n",
       "1 -0.637135 -0.921174 -0.803772  \n",
       "2  0.457359  0.349423  0.582337  \n",
       "3  0.330489  0.553931  0.680801  \n",
       "4  1.211007  1.538597  1.347345  \n",
       "5  0.777376  0.574761  0.784949  \n",
       "6  0.586122  0.430849 -0.981770  \n",
       "7 -0.942004 -1.580144 -1.644527  \n",
       "8 -1.345339 -1.498719 -1.525230  \n",
       "9  1.078456  1.000818  0.949691  "
      ]
     },
     "execution_count": 18,
     "metadata": {},
     "output_type": "execute_result"
    }
   ],
   "source": [
    "#Pandas version of the reshaped data\n",
    "\n",
    "pd.DataFrame(data_reshaped)"
   ]
  },
  {
   "cell_type": "markdown",
   "metadata": {},
   "source": [
    "# Split the Data\n",
    "\n",
    "**In certain cases, we cannot use a random split. For example, if we are trying to predict the stock market, we cannot use a random split. We need to use a chronological split.**\n",
    "\n",
    "BUT, keep in mind if we have something like hourly readings of dayly temperature, we can use a random split on days, but the sequence of the temperature within the day is important to remain sequential.\n",
    "\n",
    "In this case, we are using a random spli because each day as an independent sample."
   ]
  },
  {
   "cell_type": "code",
   "execution_count": 24,
   "metadata": {},
   "outputs": [],
   "source": [
    "from sklearn.model_selection import train_test_split\n",
    "\n",
    "#train, test = train_test_split(data_reshaped, test_size=0.3)\n",
    "\n",
    "# if we neede to maintain the ordering of the data, we can use the following code to split the data\n",
    "split_point = int(len(data_reshaped)*0.7)\n",
    "train, test = data_reshaped[:split_point], data_reshaped[split_point:]"
   ]
  },
  {
   "cell_type": "code",
   "execution_count": 25,
   "metadata": {},
   "outputs": [
    {
     "data": {
      "text/plain": [
       "(7, 10)"
      ]
     },
     "execution_count": 25,
     "metadata": {},
     "output_type": "execute_result"
    }
   ],
   "source": [
    "train.shape"
   ]
  },
  {
   "cell_type": "code",
   "execution_count": 26,
   "metadata": {},
   "outputs": [
    {
     "data": {
      "text/plain": [
       "array([[-0.22243899,  0.1960428 ,  0.50280336,  0.13544925, -0.06905861,\n",
       "        -0.78673077, -0.74507161, -0.76211315, -0.50079685, -0.63713548],\n",
       "       [-0.24894905, -0.27356666, -0.40043679, -1.02721456, -1.18059778,\n",
       "        -1.03479043, -0.91549353, -0.63713548, -0.92117392, -0.80377231],\n",
       "       [-0.71666606, -0.58032723, -0.43641556, -0.26977873, -0.07663467,\n",
       "         0.16195951, -0.03308003,  0.45735892,  0.34942298,  0.58233659],\n",
       "       [ 0.77737612,  0.75086587,  1.41740751,  0.99892573,  0.19793809,\n",
       "        -0.14669654, -0.08420771,  0.33048879,  0.55393104,  0.68080116],\n",
       "       [ 0.84365005,  0.90803418,  0.68269664,  0.83986496,  0.76980006,\n",
       "         0.64671787,  1.0538385 ,  1.21100681,  1.53859705,  1.34734545],\n",
       "       [ 0.92696837,  1.04436998,  1.33409184,  1.45338609,  1.5670026 ,\n",
       "         1.19207262,  1.271603  ,  0.77737612,  0.57476071,  0.78494916],\n",
       "       [ 1.0235405 ,  1.2564541 ,  1.48179164,  1.3303039 ,  1.0500534 ,\n",
       "         1.54049253,  1.38143158,  0.58612168,  0.43084885, -0.9817703 ]])"
      ]
     },
     "execution_count": 26,
     "metadata": {},
     "output_type": "execute_result"
    }
   ],
   "source": [
    "train"
   ]
  },
  {
   "cell_type": "code",
   "execution_count": 27,
   "metadata": {},
   "outputs": [
    {
     "data": {
      "text/plain": [
       "(3, 10)"
      ]
     },
     "execution_count": 27,
     "metadata": {},
     "output_type": "execute_result"
    }
   ],
   "source": [
    "test.shape"
   ]
  },
  {
   "cell_type": "markdown",
   "metadata": {},
   "source": [
    "# Create Input and Target values\n",
    "\n",
    "The first 23 hours will be input to predict the 24th hour reading (i.e., target)"
   ]
  },
  {
   "cell_type": "code",
   "execution_count": 28,
   "metadata": {},
   "outputs": [
    {
     "data": {
      "text/html": [
       "<div>\n",
       "<style scoped>\n",
       "    .dataframe tbody tr th:only-of-type {\n",
       "        vertical-align: middle;\n",
       "    }\n",
       "\n",
       "    .dataframe tbody tr th {\n",
       "        vertical-align: top;\n",
       "    }\n",
       "\n",
       "    .dataframe thead th {\n",
       "        text-align: right;\n",
       "    }\n",
       "</style>\n",
       "<table border=\"1\" class=\"dataframe\">\n",
       "  <thead>\n",
       "    <tr style=\"text-align: right;\">\n",
       "      <th></th>\n",
       "      <th>0</th>\n",
       "      <th>1</th>\n",
       "      <th>2</th>\n",
       "      <th>3</th>\n",
       "      <th>4</th>\n",
       "      <th>5</th>\n",
       "      <th>6</th>\n",
       "      <th>7</th>\n",
       "      <th>8</th>\n",
       "    </tr>\n",
       "  </thead>\n",
       "  <tbody>\n",
       "    <tr>\n",
       "      <th>0</th>\n",
       "      <td>-0.222439</td>\n",
       "      <td>0.196043</td>\n",
       "      <td>0.502803</td>\n",
       "      <td>0.135449</td>\n",
       "      <td>-0.069059</td>\n",
       "      <td>-0.786731</td>\n",
       "      <td>-0.745072</td>\n",
       "      <td>-0.762113</td>\n",
       "      <td>-0.500797</td>\n",
       "    </tr>\n",
       "    <tr>\n",
       "      <th>1</th>\n",
       "      <td>-0.248949</td>\n",
       "      <td>-0.273567</td>\n",
       "      <td>-0.400437</td>\n",
       "      <td>-1.027215</td>\n",
       "      <td>-1.180598</td>\n",
       "      <td>-1.034790</td>\n",
       "      <td>-0.915494</td>\n",
       "      <td>-0.637135</td>\n",
       "      <td>-0.921174</td>\n",
       "    </tr>\n",
       "    <tr>\n",
       "      <th>2</th>\n",
       "      <td>-0.716666</td>\n",
       "      <td>-0.580327</td>\n",
       "      <td>-0.436416</td>\n",
       "      <td>-0.269779</td>\n",
       "      <td>-0.076635</td>\n",
       "      <td>0.161960</td>\n",
       "      <td>-0.033080</td>\n",
       "      <td>0.457359</td>\n",
       "      <td>0.349423</td>\n",
       "    </tr>\n",
       "    <tr>\n",
       "      <th>3</th>\n",
       "      <td>0.777376</td>\n",
       "      <td>0.750866</td>\n",
       "      <td>1.417408</td>\n",
       "      <td>0.998926</td>\n",
       "      <td>0.197938</td>\n",
       "      <td>-0.146697</td>\n",
       "      <td>-0.084208</td>\n",
       "      <td>0.330489</td>\n",
       "      <td>0.553931</td>\n",
       "    </tr>\n",
       "    <tr>\n",
       "      <th>4</th>\n",
       "      <td>0.843650</td>\n",
       "      <td>0.908034</td>\n",
       "      <td>0.682697</td>\n",
       "      <td>0.839865</td>\n",
       "      <td>0.769800</td>\n",
       "      <td>0.646718</td>\n",
       "      <td>1.053838</td>\n",
       "      <td>1.211007</td>\n",
       "      <td>1.538597</td>\n",
       "    </tr>\n",
       "    <tr>\n",
       "      <th>5</th>\n",
       "      <td>0.926968</td>\n",
       "      <td>1.044370</td>\n",
       "      <td>1.334092</td>\n",
       "      <td>1.453386</td>\n",
       "      <td>1.567003</td>\n",
       "      <td>1.192073</td>\n",
       "      <td>1.271603</td>\n",
       "      <td>0.777376</td>\n",
       "      <td>0.574761</td>\n",
       "    </tr>\n",
       "    <tr>\n",
       "      <th>6</th>\n",
       "      <td>1.023540</td>\n",
       "      <td>1.256454</td>\n",
       "      <td>1.481792</td>\n",
       "      <td>1.330304</td>\n",
       "      <td>1.050053</td>\n",
       "      <td>1.540493</td>\n",
       "      <td>1.381432</td>\n",
       "      <td>0.586122</td>\n",
       "      <td>0.430849</td>\n",
       "    </tr>\n",
       "  </tbody>\n",
       "</table>\n",
       "</div>"
      ],
      "text/plain": [
       "          0         1         2         3         4         5         6   \n",
       "0 -0.222439  0.196043  0.502803  0.135449 -0.069059 -0.786731 -0.745072  \\\n",
       "1 -0.248949 -0.273567 -0.400437 -1.027215 -1.180598 -1.034790 -0.915494   \n",
       "2 -0.716666 -0.580327 -0.436416 -0.269779 -0.076635  0.161960 -0.033080   \n",
       "3  0.777376  0.750866  1.417408  0.998926  0.197938 -0.146697 -0.084208   \n",
       "4  0.843650  0.908034  0.682697  0.839865  0.769800  0.646718  1.053838   \n",
       "5  0.926968  1.044370  1.334092  1.453386  1.567003  1.192073  1.271603   \n",
       "6  1.023540  1.256454  1.481792  1.330304  1.050053  1.540493  1.381432   \n",
       "\n",
       "          7         8  \n",
       "0 -0.762113 -0.500797  \n",
       "1 -0.637135 -0.921174  \n",
       "2  0.457359  0.349423  \n",
       "3  0.330489  0.553931  \n",
       "4  1.211007  1.538597  \n",
       "5  0.777376  0.574761  \n",
       "6  0.586122  0.430849  "
      ]
     },
     "execution_count": 28,
     "metadata": {},
     "output_type": "execute_result"
    }
   ],
   "source": [
    "\n",
    "\n",
    "train_inputs = train[:,:9]\n",
    "\n",
    "\n",
    "pd.DataFrame(train_inputs, columns=np.arange(0,9,1))"
   ]
  },
  {
   "cell_type": "markdown",
   "metadata": {},
   "source": [
    "## Add one more dimension to make it ready for RNNs"
   ]
  },
  {
   "cell_type": "markdown",
   "metadata": {},
   "source": [
    "See here for more details: https://keras.io/layers/recurrent/, and https://shiva-verma.medium.com/understanding-input-and-output-shape-in-lstm-keras-c501ee95c65e\n"
   ]
  },
  {
   "cell_type": "code",
   "execution_count": 29,
   "metadata": {},
   "outputs": [
    {
     "data": {
      "text/plain": [
       "array([[-0.22243899,  0.1960428 ,  0.50280336,  0.13544925, -0.06905861,\n",
       "        -0.78673077, -0.74507161, -0.76211315, -0.50079685],\n",
       "       [-0.24894905, -0.27356666, -0.40043679, -1.02721456, -1.18059778,\n",
       "        -1.03479043, -0.91549353, -0.63713548, -0.92117392],\n",
       "       [-0.71666606, -0.58032723, -0.43641556, -0.26977873, -0.07663467,\n",
       "         0.16195951, -0.03308003,  0.45735892,  0.34942298],\n",
       "       [ 0.77737612,  0.75086587,  1.41740751,  0.99892573,  0.19793809,\n",
       "        -0.14669654, -0.08420771,  0.33048879,  0.55393104],\n",
       "       [ 0.84365005,  0.90803418,  0.68269664,  0.83986496,  0.76980006,\n",
       "         0.64671787,  1.0538385 ,  1.21100681,  1.53859705],\n",
       "       [ 0.92696837,  1.04436998,  1.33409184,  1.45338609,  1.5670026 ,\n",
       "         1.19207262,  1.271603  ,  0.77737612,  0.57476071],\n",
       "       [ 1.0235405 ,  1.2564541 ,  1.48179164,  1.3303039 ,  1.0500534 ,\n",
       "         1.54049253,  1.38143158,  0.58612168,  0.43084885]])"
      ]
     },
     "execution_count": 29,
     "metadata": {},
     "output_type": "execute_result"
    }
   ],
   "source": [
    "train_inputs"
   ]
  },
  {
   "cell_type": "code",
   "execution_count": 30,
   "metadata": {},
   "outputs": [
    {
     "data": {
      "text/plain": [
       "(7, 9)"
      ]
     },
     "execution_count": 30,
     "metadata": {},
     "output_type": "execute_result"
    }
   ],
   "source": [
    "train_inputs.shape "
   ]
  },
  {
   "cell_type": "code",
   "execution_count": 31,
   "metadata": {},
   "outputs": [
    {
     "data": {
      "text/plain": [
       "(7, 9, 1)"
      ]
     },
     "execution_count": 31,
     "metadata": {},
     "output_type": "execute_result"
    }
   ],
   "source": [
    "#Create an additional dimension for train\n",
    "\n",
    "train_x = train_inputs[:,:,np.newaxis]\n",
    "\n",
    "train_x.shape "
   ]
  },
  {
   "cell_type": "code",
   "execution_count": 32,
   "metadata": {},
   "outputs": [
    {
     "data": {
      "text/plain": [
       "array([[[-0.22243899],\n",
       "        [ 0.1960428 ],\n",
       "        [ 0.50280336],\n",
       "        [ 0.13544925],\n",
       "        [-0.06905861],\n",
       "        [-0.78673077],\n",
       "        [-0.74507161],\n",
       "        [-0.76211315],\n",
       "        [-0.50079685]],\n",
       "\n",
       "       [[-0.24894905],\n",
       "        [-0.27356666],\n",
       "        [-0.40043679],\n",
       "        [-1.02721456],\n",
       "        [-1.18059778],\n",
       "        [-1.03479043],\n",
       "        [-0.91549353],\n",
       "        [-0.63713548],\n",
       "        [-0.92117392]],\n",
       "\n",
       "       [[-0.71666606],\n",
       "        [-0.58032723],\n",
       "        [-0.43641556],\n",
       "        [-0.26977873],\n",
       "        [-0.07663467],\n",
       "        [ 0.16195951],\n",
       "        [-0.03308003],\n",
       "        [ 0.45735892],\n",
       "        [ 0.34942298]],\n",
       "\n",
       "       [[ 0.77737612],\n",
       "        [ 0.75086587],\n",
       "        [ 1.41740751],\n",
       "        [ 0.99892573],\n",
       "        [ 0.19793809],\n",
       "        [-0.14669654],\n",
       "        [-0.08420771],\n",
       "        [ 0.33048879],\n",
       "        [ 0.55393104]],\n",
       "\n",
       "       [[ 0.84365005],\n",
       "        [ 0.90803418],\n",
       "        [ 0.68269664],\n",
       "        [ 0.83986496],\n",
       "        [ 0.76980006],\n",
       "        [ 0.64671787],\n",
       "        [ 1.0538385 ],\n",
       "        [ 1.21100681],\n",
       "        [ 1.53859705]],\n",
       "\n",
       "       [[ 0.92696837],\n",
       "        [ 1.04436998],\n",
       "        [ 1.33409184],\n",
       "        [ 1.45338609],\n",
       "        [ 1.5670026 ],\n",
       "        [ 1.19207262],\n",
       "        [ 1.271603  ],\n",
       "        [ 0.77737612],\n",
       "        [ 0.57476071]],\n",
       "\n",
       "       [[ 1.0235405 ],\n",
       "        [ 1.2564541 ],\n",
       "        [ 1.48179164],\n",
       "        [ 1.3303039 ],\n",
       "        [ 1.0500534 ],\n",
       "        [ 1.54049253],\n",
       "        [ 1.38143158],\n",
       "        [ 0.58612168],\n",
       "        [ 0.43084885]]])"
      ]
     },
     "execution_count": 32,
     "metadata": {},
     "output_type": "execute_result"
    }
   ],
   "source": [
    "train_x"
   ]
  },
  {
   "cell_type": "markdown",
   "metadata": {},
   "source": [
    "## Set the target"
   ]
  },
  {
   "cell_type": "code",
   "execution_count": 33,
   "metadata": {},
   "outputs": [
    {
     "data": {
      "text/html": [
       "<div>\n",
       "<style scoped>\n",
       "    .dataframe tbody tr th:only-of-type {\n",
       "        vertical-align: middle;\n",
       "    }\n",
       "\n",
       "    .dataframe tbody tr th {\n",
       "        vertical-align: top;\n",
       "    }\n",
       "\n",
       "    .dataframe thead th {\n",
       "        text-align: right;\n",
       "    }\n",
       "</style>\n",
       "<table border=\"1\" class=\"dataframe\">\n",
       "  <thead>\n",
       "    <tr style=\"text-align: right;\">\n",
       "      <th></th>\n",
       "      <th>9</th>\n",
       "    </tr>\n",
       "  </thead>\n",
       "  <tbody>\n",
       "    <tr>\n",
       "      <th>0</th>\n",
       "      <td>-0.637135</td>\n",
       "    </tr>\n",
       "    <tr>\n",
       "      <th>1</th>\n",
       "      <td>-0.803772</td>\n",
       "    </tr>\n",
       "    <tr>\n",
       "      <th>2</th>\n",
       "      <td>0.582337</td>\n",
       "    </tr>\n",
       "    <tr>\n",
       "      <th>3</th>\n",
       "      <td>0.680801</td>\n",
       "    </tr>\n",
       "    <tr>\n",
       "      <th>4</th>\n",
       "      <td>1.347345</td>\n",
       "    </tr>\n",
       "    <tr>\n",
       "      <th>5</th>\n",
       "      <td>0.784949</td>\n",
       "    </tr>\n",
       "    <tr>\n",
       "      <th>6</th>\n",
       "      <td>-0.981770</td>\n",
       "    </tr>\n",
       "  </tbody>\n",
       "</table>\n",
       "</div>"
      ],
      "text/plain": [
       "          9\n",
       "0 -0.637135\n",
       "1 -0.803772\n",
       "2  0.582337\n",
       "3  0.680801\n",
       "4  1.347345\n",
       "5  0.784949\n",
       "6 -0.981770"
      ]
     },
     "execution_count": 33,
     "metadata": {},
     "output_type": "execute_result"
    }
   ],
   "source": [
    "# The last column (9) is TARGET\n",
    "\n",
    "train_target = train[:,-1]\n",
    "\n",
    "\n",
    "pd.DataFrame(train_target, columns=['9'])"
   ]
  },
  {
   "cell_type": "markdown",
   "metadata": {},
   "source": [
    "## Repeat for TEST"
   ]
  },
  {
   "cell_type": "code",
   "execution_count": 34,
   "metadata": {},
   "outputs": [
    {
     "data": {
      "text/plain": [
       "(3, 10)"
      ]
     },
     "execution_count": 34,
     "metadata": {},
     "output_type": "execute_result"
    }
   ],
   "source": [
    "test.shape"
   ]
  },
  {
   "cell_type": "code",
   "execution_count": 35,
   "metadata": {},
   "outputs": [],
   "source": [
    "\n",
    "\n",
    "test_inputs = test[:,:9]"
   ]
  },
  {
   "cell_type": "code",
   "execution_count": 36,
   "metadata": {},
   "outputs": [
    {
     "data": {
      "text/plain": [
       "(3, 9, 1)"
      ]
     },
     "execution_count": 36,
     "metadata": {},
     "output_type": "execute_result"
    }
   ],
   "source": [
    "#Create an additional dimension for test\n",
    "\n",
    "test_x = test_inputs[:,:,np.newaxis]\n",
    "\n",
    "test_x.shape "
   ]
  },
  {
   "cell_type": "code",
   "execution_count": 37,
   "metadata": {},
   "outputs": [
    {
     "data": {
      "text/html": [
       "<div>\n",
       "<style scoped>\n",
       "    .dataframe tbody tr th:only-of-type {\n",
       "        vertical-align: middle;\n",
       "    }\n",
       "\n",
       "    .dataframe tbody tr th {\n",
       "        vertical-align: top;\n",
       "    }\n",
       "\n",
       "    .dataframe thead th {\n",
       "        text-align: right;\n",
       "    }\n",
       "</style>\n",
       "<table border=\"1\" class=\"dataframe\">\n",
       "  <thead>\n",
       "    <tr style=\"text-align: right;\">\n",
       "      <th></th>\n",
       "      <th>9</th>\n",
       "    </tr>\n",
       "  </thead>\n",
       "  <tbody>\n",
       "    <tr>\n",
       "      <th>0</th>\n",
       "      <td>-1.644527</td>\n",
       "    </tr>\n",
       "    <tr>\n",
       "      <th>1</th>\n",
       "      <td>-1.525230</td>\n",
       "    </tr>\n",
       "    <tr>\n",
       "      <th>2</th>\n",
       "      <td>0.949691</td>\n",
       "    </tr>\n",
       "  </tbody>\n",
       "</table>\n",
       "</div>"
      ],
      "text/plain": [
       "          9\n",
       "0 -1.644527\n",
       "1 -1.525230\n",
       "2  0.949691"
      ]
     },
     "execution_count": 37,
     "metadata": {},
     "output_type": "execute_result"
    }
   ],
   "source": [
    "# The last column (9) is TARGET\n",
    "\n",
    "test_target = test[:,-1]\n",
    "\n",
    "\n",
    "pd.DataFrame(test_target, columns=['9'])"
   ]
  },
  {
   "cell_type": "code",
   "execution_count": 38,
   "metadata": {},
   "outputs": [],
   "source": [
    "performance=pd.DataFrame({\"model\":[], \"MSE\":[]})"
   ]
  },
  {
   "cell_type": "markdown",
   "metadata": {},
   "source": [
    "# A normal (cross-sectional) NN\n",
    "\n",
    "This model assumes that the data is NOT a time-series data set. It treats the data as cross-sectional and the columns being independent of each other."
   ]
  },
  {
   "cell_type": "code",
   "execution_count": 39,
   "metadata": {},
   "outputs": [
    {
     "name": "stdout",
     "output_type": "stream",
     "text": [
      "Epoch 1/100\n",
      "1/1 [==============================] - 1s 861ms/step - loss: 0.9519\n",
      "Epoch 2/100\n",
      "1/1 [==============================] - 0s 8ms/step - loss: 0.9192\n",
      "Epoch 3/100\n",
      "1/1 [==============================] - 0s 7ms/step - loss: 0.8882\n",
      "Epoch 4/100\n",
      "1/1 [==============================] - 0s 8ms/step - loss: 0.8590\n",
      "Epoch 5/100\n",
      "1/1 [==============================] - 0s 7ms/step - loss: 0.8315\n",
      "Epoch 6/100\n",
      "1/1 [==============================] - 0s 7ms/step - loss: 0.8055\n",
      "Epoch 7/100\n",
      "1/1 [==============================] - 0s 8ms/step - loss: 0.7811\n",
      "Epoch 8/100\n",
      "1/1 [==============================] - 0s 7ms/step - loss: 0.7583\n",
      "Epoch 9/100\n",
      "1/1 [==============================] - 0s 8ms/step - loss: 0.7365\n",
      "Epoch 10/100\n",
      "1/1 [==============================] - 0s 7ms/step - loss: 0.7158\n",
      "Epoch 11/100\n",
      "1/1 [==============================] - 0s 7ms/step - loss: 0.6962\n",
      "Epoch 12/100\n",
      "1/1 [==============================] - 0s 8ms/step - loss: 0.6778\n",
      "Epoch 13/100\n",
      "1/1 [==============================] - 0s 8ms/step - loss: 0.6606\n",
      "Epoch 14/100\n",
      "1/1 [==============================] - 0s 8ms/step - loss: 0.6446\n",
      "Epoch 15/100\n",
      "1/1 [==============================] - 0s 8ms/step - loss: 0.6297\n",
      "Epoch 16/100\n",
      "1/1 [==============================] - 0s 7ms/step - loss: 0.6157\n",
      "Epoch 17/100\n",
      "1/1 [==============================] - 0s 7ms/step - loss: 0.6024\n",
      "Epoch 18/100\n",
      "1/1 [==============================] - 0s 8ms/step - loss: 0.5899\n",
      "Epoch 19/100\n",
      "1/1 [==============================] - 0s 8ms/step - loss: 0.5787\n",
      "Epoch 20/100\n",
      "1/1 [==============================] - 0s 9ms/step - loss: 0.5684\n",
      "Epoch 21/100\n",
      "1/1 [==============================] - 0s 7ms/step - loss: 0.5584\n",
      "Epoch 22/100\n",
      "1/1 [==============================] - 0s 7ms/step - loss: 0.5486\n",
      "Epoch 23/100\n",
      "1/1 [==============================] - 0s 7ms/step - loss: 0.5389\n",
      "Epoch 24/100\n",
      "1/1 [==============================] - 0s 7ms/step - loss: 0.5293\n",
      "Epoch 25/100\n",
      "1/1 [==============================] - 0s 7ms/step - loss: 0.5197\n",
      "Epoch 26/100\n",
      "1/1 [==============================] - 0s 8ms/step - loss: 0.5103\n",
      "Epoch 27/100\n",
      "1/1 [==============================] - 0s 8ms/step - loss: 0.5009\n",
      "Epoch 28/100\n",
      "1/1 [==============================] - 0s 9ms/step - loss: 0.4915\n",
      "Epoch 29/100\n",
      "1/1 [==============================] - 0s 8ms/step - loss: 0.4822\n",
      "Epoch 30/100\n",
      "1/1 [==============================] - 0s 6ms/step - loss: 0.4729\n",
      "Epoch 31/100\n",
      "1/1 [==============================] - 0s 8ms/step - loss: 0.4642\n",
      "Epoch 32/100\n",
      "1/1 [==============================] - 0s 8ms/step - loss: 0.4559\n",
      "Epoch 33/100\n",
      "1/1 [==============================] - 0s 8ms/step - loss: 0.4477\n",
      "Epoch 34/100\n",
      "1/1 [==============================] - 0s 7ms/step - loss: 0.4396\n",
      "Epoch 35/100\n",
      "1/1 [==============================] - 0s 7ms/step - loss: 0.4316\n",
      "Epoch 36/100\n",
      "1/1 [==============================] - 0s 8ms/step - loss: 0.4237\n",
      "Epoch 37/100\n",
      "1/1 [==============================] - 0s 7ms/step - loss: 0.4161\n",
      "Epoch 38/100\n",
      "1/1 [==============================] - 0s 8ms/step - loss: 0.4086\n",
      "Epoch 39/100\n",
      "1/1 [==============================] - 0s 8ms/step - loss: 0.4008\n",
      "Epoch 40/100\n",
      "1/1 [==============================] - 0s 6ms/step - loss: 0.3936\n",
      "Epoch 41/100\n",
      "1/1 [==============================] - 0s 6ms/step - loss: 0.3868\n",
      "Epoch 42/100\n",
      "1/1 [==============================] - 0s 8ms/step - loss: 0.3800\n",
      "Epoch 43/100\n",
      "1/1 [==============================] - 0s 7ms/step - loss: 0.3734\n",
      "Epoch 44/100\n",
      "1/1 [==============================] - 0s 8ms/step - loss: 0.3668\n",
      "Epoch 45/100\n",
      "1/1 [==============================] - 0s 8ms/step - loss: 0.3603\n",
      "Epoch 46/100\n",
      "1/1 [==============================] - 0s 7ms/step - loss: 0.3539\n",
      "Epoch 47/100\n",
      "1/1 [==============================] - 0s 7ms/step - loss: 0.3476\n",
      "Epoch 48/100\n",
      "1/1 [==============================] - 0s 7ms/step - loss: 0.3415\n",
      "Epoch 49/100\n",
      "1/1 [==============================] - 0s 7ms/step - loss: 0.3354\n",
      "Epoch 50/100\n",
      "1/1 [==============================] - 0s 8ms/step - loss: 0.3296\n",
      "Epoch 51/100\n",
      "1/1 [==============================] - 0s 7ms/step - loss: 0.3242\n",
      "Epoch 52/100\n",
      "1/1 [==============================] - 0s 7ms/step - loss: 0.3189\n",
      "Epoch 53/100\n",
      "1/1 [==============================] - 0s 8ms/step - loss: 0.3136\n",
      "Epoch 54/100\n",
      "1/1 [==============================] - 0s 7ms/step - loss: 0.3084\n",
      "Epoch 55/100\n",
      "1/1 [==============================] - 0s 7ms/step - loss: 0.3034\n",
      "Epoch 56/100\n",
      "1/1 [==============================] - 0s 6ms/step - loss: 0.2985\n",
      "Epoch 57/100\n",
      "1/1 [==============================] - 0s 7ms/step - loss: 0.2936\n",
      "Epoch 58/100\n",
      "1/1 [==============================] - 0s 8ms/step - loss: 0.2889\n",
      "Epoch 59/100\n",
      "1/1 [==============================] - 0s 7ms/step - loss: 0.2842\n",
      "Epoch 60/100\n",
      "1/1 [==============================] - 0s 7ms/step - loss: 0.2797\n",
      "Epoch 61/100\n",
      "1/1 [==============================] - 0s 6ms/step - loss: 0.2752\n",
      "Epoch 62/100\n",
      "1/1 [==============================] - 0s 6ms/step - loss: 0.2708\n",
      "Epoch 63/100\n",
      "1/1 [==============================] - 0s 7ms/step - loss: 0.2667\n",
      "Epoch 64/100\n",
      "1/1 [==============================] - 0s 8ms/step - loss: 0.2627\n",
      "Epoch 65/100\n",
      "1/1 [==============================] - 0s 9ms/step - loss: 0.2586\n",
      "Epoch 66/100\n",
      "1/1 [==============================] - 0s 8ms/step - loss: 0.2546\n",
      "Epoch 67/100\n",
      "1/1 [==============================] - 0s 7ms/step - loss: 0.2508\n",
      "Epoch 68/100\n",
      "1/1 [==============================] - 0s 8ms/step - loss: 0.2471\n",
      "Epoch 69/100\n",
      "1/1 [==============================] - 0s 8ms/step - loss: 0.2434\n",
      "Epoch 70/100\n",
      "1/1 [==============================] - 0s 6ms/step - loss: 0.2399\n",
      "Epoch 71/100\n",
      "1/1 [==============================] - 0s 5ms/step - loss: 0.2365\n",
      "Epoch 72/100\n",
      "1/1 [==============================] - 0s 6ms/step - loss: 0.2333\n",
      "Epoch 73/100\n",
      "1/1 [==============================] - 0s 6ms/step - loss: 0.2301\n",
      "Epoch 74/100\n",
      "1/1 [==============================] - 0s 7ms/step - loss: 0.2269\n",
      "Epoch 75/100\n",
      "1/1 [==============================] - 0s 8ms/step - loss: 0.2238\n",
      "Epoch 76/100\n",
      "1/1 [==============================] - 0s 7ms/step - loss: 0.2208\n",
      "Epoch 77/100\n",
      "1/1 [==============================] - 0s 5ms/step - loss: 0.2178\n",
      "Epoch 78/100\n",
      "1/1 [==============================] - 0s 7ms/step - loss: 0.2149\n",
      "Epoch 79/100\n",
      "1/1 [==============================] - 0s 6ms/step - loss: 0.2120\n",
      "Epoch 80/100\n",
      "1/1 [==============================] - 0s 8ms/step - loss: 0.2093\n",
      "Epoch 81/100\n",
      "1/1 [==============================] - 0s 8ms/step - loss: 0.2066\n",
      "Epoch 82/100\n",
      "1/1 [==============================] - 0s 7ms/step - loss: 0.2044\n",
      "Epoch 83/100\n",
      "1/1 [==============================] - 0s 7ms/step - loss: 0.2022\n",
      "Epoch 84/100\n",
      "1/1 [==============================] - 0s 6ms/step - loss: 0.2000\n",
      "Epoch 85/100\n",
      "1/1 [==============================] - 0s 6ms/step - loss: 0.1980\n",
      "Epoch 86/100\n",
      "1/1 [==============================] - 0s 7ms/step - loss: 0.1957\n",
      "Epoch 87/100\n",
      "1/1 [==============================] - 0s 7ms/step - loss: 0.1934\n",
      "Epoch 88/100\n",
      "1/1 [==============================] - 0s 7ms/step - loss: 0.1912\n",
      "Epoch 89/100\n",
      "1/1 [==============================] - 0s 7ms/step - loss: 0.1886\n",
      "Epoch 90/100\n",
      "1/1 [==============================] - 0s 8ms/step - loss: 0.1858\n",
      "Epoch 91/100\n",
      "1/1 [==============================] - 0s 8ms/step - loss: 0.1829\n",
      "Epoch 92/100\n",
      "1/1 [==============================] - 0s 7ms/step - loss: 0.1800\n",
      "Epoch 93/100\n",
      "1/1 [==============================] - 0s 7ms/step - loss: 0.1771\n",
      "Epoch 94/100\n",
      "1/1 [==============================] - 0s 6ms/step - loss: 0.1743\n",
      "Epoch 95/100\n",
      "1/1 [==============================] - 0s 7ms/step - loss: 0.1716\n",
      "Epoch 96/100\n",
      "1/1 [==============================] - 0s 6ms/step - loss: 0.1689\n",
      "Epoch 97/100\n",
      "1/1 [==============================] - 0s 7ms/step - loss: 0.1662\n",
      "Epoch 98/100\n",
      "1/1 [==============================] - 0s 6ms/step - loss: 0.1636\n",
      "Epoch 99/100\n",
      "1/1 [==============================] - 0s 5ms/step - loss: 0.1609\n",
      "Epoch 100/100\n",
      "1/1 [==============================] - 0s 7ms/step - loss: 0.1583\n"
     ]
    }
   ],
   "source": [
    "model = keras.models.Sequential([\n",
    "    keras.layers.Flatten(input_shape=[9, 1]),\n",
    "    keras.layers.Dense(23, activation='relu'),\n",
    "    keras.layers.Dense(1, activation=None)\n",
    "    \n",
    "])\n",
    "\n",
    "model.compile(loss=\"mse\", optimizer='Adam')\n",
    "\n",
    "history = model.fit(train_x, train_target, epochs=100)"
   ]
  },
  {
   "cell_type": "markdown",
   "metadata": {},
   "source": [
    "### Predictions"
   ]
  },
  {
   "cell_type": "code",
   "execution_count": 40,
   "metadata": {},
   "outputs": [
    {
     "name": "stdout",
     "output_type": "stream",
     "text": [
      "1/1 [==============================] - 0s 148ms/step\n"
     ]
    }
   ],
   "source": [
    "#Predict:\n",
    "y_pred = model.predict(test_x)"
   ]
  },
  {
   "cell_type": "code",
   "execution_count": 41,
   "metadata": {},
   "outputs": [],
   "source": [
    "# Remember, these are standardized values. \n",
    "\n",
    "comparison = pd.DataFrame()\n",
    "\n",
    "comparison['actual'] = scaler.inverse_transform([test_target]).flatten()\n",
    "comparison['predicted'] = scaler.inverse_transform(y_pred).flatten()"
   ]
  },
  {
   "cell_type": "code",
   "execution_count": 42,
   "metadata": {},
   "outputs": [
    {
     "data": {
      "text/html": [
       "<div>\n",
       "<style scoped>\n",
       "    .dataframe tbody tr th:only-of-type {\n",
       "        vertical-align: middle;\n",
       "    }\n",
       "\n",
       "    .dataframe tbody tr th {\n",
       "        vertical-align: top;\n",
       "    }\n",
       "\n",
       "    .dataframe thead th {\n",
       "        text-align: right;\n",
       "    }\n",
       "</style>\n",
       "<table border=\"1\" class=\"dataframe\">\n",
       "  <thead>\n",
       "    <tr style=\"text-align: right;\">\n",
       "      <th></th>\n",
       "      <th>actual</th>\n",
       "      <th>predicted</th>\n",
       "    </tr>\n",
       "  </thead>\n",
       "  <tbody>\n",
       "    <tr>\n",
       "      <th>0</th>\n",
       "      <td>126.839996</td>\n",
       "      <td>130.610382</td>\n",
       "    </tr>\n",
       "    <tr>\n",
       "      <th>1</th>\n",
       "      <td>127.470001</td>\n",
       "      <td>133.465714</td>\n",
       "    </tr>\n",
       "    <tr>\n",
       "      <th>2</th>\n",
       "      <td>140.539993</td>\n",
       "      <td>147.329498</td>\n",
       "    </tr>\n",
       "  </tbody>\n",
       "</table>\n",
       "</div>"
      ],
      "text/plain": [
       "       actual   predicted\n",
       "0  126.839996  130.610382\n",
       "1  127.470001  133.465714\n",
       "2  140.539993  147.329498"
      ]
     },
     "execution_count": 42,
     "metadata": {},
     "output_type": "execute_result"
    }
   ],
   "source": [
    "comparison"
   ]
  },
  {
   "cell_type": "code",
   "execution_count": 43,
   "metadata": {},
   "outputs": [],
   "source": [
    "MSE=mean_squared_error(comparison['actual'], comparison['predicted'])"
   ]
  },
  {
   "cell_type": "code",
   "execution_count": 44,
   "metadata": {},
   "outputs": [
    {
     "data": {
      "text/html": [
       "<div>\n",
       "<style scoped>\n",
       "    .dataframe tbody tr th:only-of-type {\n",
       "        vertical-align: middle;\n",
       "    }\n",
       "\n",
       "    .dataframe tbody tr th {\n",
       "        vertical-align: top;\n",
       "    }\n",
       "\n",
       "    .dataframe thead th {\n",
       "        text-align: right;\n",
       "    }\n",
       "</style>\n",
       "<table border=\"1\" class=\"dataframe\">\n",
       "  <thead>\n",
       "    <tr style=\"text-align: right;\">\n",
       "      <th></th>\n",
       "      <th>model</th>\n",
       "      <th>MSE</th>\n",
       "    </tr>\n",
       "  </thead>\n",
       "  <tbody>\n",
       "    <tr>\n",
       "      <th>0</th>\n",
       "      <td>Normal NN</td>\n",
       "      <td>32.087254</td>\n",
       "    </tr>\n",
       "  </tbody>\n",
       "</table>\n",
       "</div>"
      ],
      "text/plain": [
       "       model        MSE\n",
       "0  Normal NN  32.087254"
      ]
     },
     "execution_count": 44,
     "metadata": {},
     "output_type": "execute_result"
    }
   ],
   "source": [
    "performance = pd.concat([performance,pd.DataFrame({'model': 'Normal NN', 'MSE':MSE}, index=[0])])\n",
    "performance"
   ]
  },
  {
   "cell_type": "code",
   "execution_count": 45,
   "metadata": {},
   "outputs": [
    {
     "data": {
      "image/png": "[encoded data removed]",
      "text/plain": [
       "<Figure size 640x480 with 1 Axes>"
      ]
     },
     "metadata": {},
     "output_type": "display_data"
    }
   ],
   "source": [
    "plt.plot(comparison['actual'], label = 'actual')\n",
    "plt.plot(comparison['predicted'], label = 'predicted')\n",
    "\n",
    "plt.legend()\n",
    "\n",
    "plt.show()"
   ]
  },
  {
   "cell_type": "markdown",
   "metadata": {},
   "source": [
    "# Simple RNN\n",
    "\n",
    "Simplest recurrent neural network"
   ]
  },
  {
   "cell_type": "code",
   "execution_count": 46,
   "metadata": {},
   "outputs": [],
   "source": [
    "model = keras.models.Sequential([\n",
    "    keras.layers.SimpleRNN(32, activation='relu', input_shape=[9, 1]),\n",
    "    keras.layers.Dense(1, activation=None)\n",
    "])"
   ]
  },
  {
   "cell_type": "code",
   "execution_count": 47,
   "metadata": {
    "scrolled": true
   },
   "outputs": [
    {
     "name": "stdout",
     "output_type": "stream",
     "text": [
      "Epoch 1/30\n",
      "1/1 [==============================] - 2s 2s/step - loss: 0.6814\n",
      "Epoch 2/30\n",
      "1/1 [==============================] - 0s 9ms/step - loss: 0.6517\n",
      "Epoch 3/30\n",
      "1/1 [==============================] - 0s 8ms/step - loss: 0.6235\n",
      "Epoch 4/30\n",
      "1/1 [==============================] - 0s 8ms/step - loss: 0.5975\n",
      "Epoch 5/30\n",
      "1/1 [==============================] - 0s 10ms/step - loss: 0.5736\n",
      "Epoch 6/30\n",
      "1/1 [==============================] - 0s 8ms/step - loss: 0.5487\n",
      "Epoch 7/30\n",
      "1/1 [==============================] - 0s 10ms/step - loss: 0.5249\n",
      "Epoch 8/30\n",
      "1/1 [==============================] - 0s 8ms/step - loss: 0.5009\n",
      "Epoch 9/30\n",
      "1/1 [==============================] - 0s 7ms/step - loss: 0.4800\n",
      "Epoch 10/30\n",
      "1/1 [==============================] - 0s 9ms/step - loss: 0.4582\n",
      "Epoch 11/30\n",
      "1/1 [==============================] - 0s 8ms/step - loss: 0.4371\n",
      "Epoch 12/30\n",
      "1/1 [==============================] - 0s 9ms/step - loss: 0.4174\n",
      "Epoch 13/30\n",
      "1/1 [==============================] - 0s 8ms/step - loss: 0.3980\n",
      "Epoch 14/30\n",
      "1/1 [==============================] - 0s 9ms/step - loss: 0.3794\n",
      "Epoch 15/30\n",
      "1/1 [==============================] - 0s 11ms/step - loss: 0.3621\n",
      "Epoch 16/30\n",
      "1/1 [==============================] - 0s 11ms/step - loss: 0.3461\n",
      "Epoch 17/30\n",
      "1/1 [==============================] - 0s 9ms/step - loss: 0.3303\n",
      "Epoch 18/30\n",
      "1/1 [==============================] - 0s 9ms/step - loss: 0.3153\n",
      "Epoch 19/30\n",
      "1/1 [==============================] - 0s 8ms/step - loss: 0.3007\n",
      "Epoch 20/30\n",
      "1/1 [==============================] - 0s 9ms/step - loss: 0.2874\n",
      "Epoch 21/30\n",
      "1/1 [==============================] - 0s 8ms/step - loss: 0.2741\n",
      "Epoch 22/30\n",
      "1/1 [==============================] - 0s 8ms/step - loss: 0.2608\n",
      "Epoch 23/30\n",
      "1/1 [==============================] - 0s 8ms/step - loss: 0.2482\n",
      "Epoch 24/30\n",
      "1/1 [==============================] - 0s 9ms/step - loss: 0.2355\n",
      "Epoch 25/30\n",
      "1/1 [==============================] - 0s 8ms/step - loss: 0.2235\n",
      "Epoch 26/30\n",
      "1/1 [==============================] - 0s 9ms/step - loss: 0.2122\n",
      "Epoch 27/30\n",
      "1/1 [==============================] - 0s 10ms/step - loss: 0.2013\n",
      "Epoch 28/30\n",
      "1/1 [==============================] - 0s 9ms/step - loss: 0.1904\n",
      "Epoch 29/30\n",
      "1/1 [==============================] - 0s 8ms/step - loss: 0.1796\n",
      "Epoch 30/30\n",
      "1/1 [==============================] - 0s 9ms/step - loss: 0.1687\n"
     ]
    }
   ],
   "source": [
    "np.random.seed(42)\n",
    "tf.random.set_seed(42)\n",
    "\n",
    "model.compile(loss=\"mse\", optimizer='Adam')\n",
    "\n",
    "history = model.fit(train_x, train_target, epochs=30)"
   ]
  },
  {
   "cell_type": "markdown",
   "metadata": {},
   "source": [
    "### Predictions"
   ]
  },
  {
   "cell_type": "code",
   "execution_count": 48,
   "metadata": {},
   "outputs": [
    {
     "name": "stdout",
     "output_type": "stream",
     "text": [
      "1/1 [==============================] - 0s 227ms/step\n"
     ]
    }
   ],
   "source": [
    "#Predict:\n",
    "y_pred = model.predict(test_x)"
   ]
  },
  {
   "cell_type": "code",
   "execution_count": 49,
   "metadata": {},
   "outputs": [],
   "source": [
    "#Remember, these are standardized values. \n",
    "\n",
    "comparison = pd.DataFrame()\n",
    "\n",
    "comparison['actual'] = scaler.inverse_transform([test_target]).flatten()\n",
    "comparison['predicted'] = scaler.inverse_transform(y_pred).flatten()"
   ]
  },
  {
   "cell_type": "code",
   "execution_count": 50,
   "metadata": {},
   "outputs": [
    {
     "data": {
      "text/html": [
       "<div>\n",
       "<style scoped>\n",
       "    .dataframe tbody tr th:only-of-type {\n",
       "        vertical-align: middle;\n",
       "    }\n",
       "\n",
       "    .dataframe tbody tr th {\n",
       "        vertical-align: top;\n",
       "    }\n",
       "\n",
       "    .dataframe thead th {\n",
       "        text-align: right;\n",
       "    }\n",
       "</style>\n",
       "<table border=\"1\" class=\"dataframe\">\n",
       "  <thead>\n",
       "    <tr style=\"text-align: right;\">\n",
       "      <th></th>\n",
       "      <th>actual</th>\n",
       "      <th>predicted</th>\n",
       "    </tr>\n",
       "  </thead>\n",
       "  <tbody>\n",
       "    <tr>\n",
       "      <th>0</th>\n",
       "      <td>126.839996</td>\n",
       "      <td>129.927353</td>\n",
       "    </tr>\n",
       "    <tr>\n",
       "      <th>1</th>\n",
       "      <td>127.470001</td>\n",
       "      <td>130.012695</td>\n",
       "    </tr>\n",
       "    <tr>\n",
       "      <th>2</th>\n",
       "      <td>140.539993</td>\n",
       "      <td>138.276154</td>\n",
       "    </tr>\n",
       "  </tbody>\n",
       "</table>\n",
       "</div>"
      ],
      "text/plain": [
       "       actual   predicted\n",
       "0  126.839996  129.927353\n",
       "1  127.470001  130.012695\n",
       "2  140.539993  138.276154"
      ]
     },
     "execution_count": 50,
     "metadata": {},
     "output_type": "execute_result"
    }
   ],
   "source": [
    "comparison"
   ]
  },
  {
   "cell_type": "code",
   "execution_count": 51,
   "metadata": {},
   "outputs": [],
   "source": [
    "MSE=mean_squared_error(comparison['actual'], comparison['predicted'])"
   ]
  },
  {
   "cell_type": "code",
   "execution_count": 52,
   "metadata": {},
   "outputs": [
    {
     "data": {
      "text/html": [
       "<div>\n",
       "<style scoped>\n",
       "    .dataframe tbody tr th:only-of-type {\n",
       "        vertical-align: middle;\n",
       "    }\n",
       "\n",
       "    .dataframe tbody tr th {\n",
       "        vertical-align: top;\n",
       "    }\n",
       "\n",
       "    .dataframe thead th {\n",
       "        text-align: right;\n",
       "    }\n",
       "</style>\n",
       "<table border=\"1\" class=\"dataframe\">\n",
       "  <thead>\n",
       "    <tr style=\"text-align: right;\">\n",
       "      <th></th>\n",
       "      <th>model</th>\n",
       "      <th>MSE</th>\n",
       "    </tr>\n",
       "  </thead>\n",
       "  <tbody>\n",
       "    <tr>\n",
       "      <th>0</th>\n",
       "      <td>Normal NN</td>\n",
       "      <td>32.087254</td>\n",
       "    </tr>\n",
       "    <tr>\n",
       "      <th>0</th>\n",
       "      <td>simple RNN</td>\n",
       "      <td>7.040679</td>\n",
       "    </tr>\n",
       "  </tbody>\n",
       "</table>\n",
       "</div>"
      ],
      "text/plain": [
       "        model        MSE\n",
       "0   Normal NN  32.087254\n",
       "0  simple RNN   7.040679"
      ]
     },
     "execution_count": 52,
     "metadata": {},
     "output_type": "execute_result"
    }
   ],
   "source": [
    "performance = pd.concat([performance,pd.DataFrame({'model': 'simple RNN', 'MSE':MSE}, index=[0])])\n",
    "performance"
   ]
  },
  {
   "cell_type": "code",
   "execution_count": 53,
   "metadata": {},
   "outputs": [
    {
     "data": {
      "image/png": "[encoded data removed]",
      "text/plain": [
       "<Figure size 640x480 with 1 Axes>"
      ]
     },
     "metadata": {},
     "output_type": "display_data"
    }
   ],
   "source": [
    "plt.plot(comparison['actual'], label = 'actual')\n",
    "plt.plot(comparison['predicted'], label = 'predicted')\n",
    "\n",
    "plt.legend()\n",
    "\n",
    "plt.show()"
   ]
  },
  {
   "cell_type": "markdown",
   "metadata": {},
   "source": [
    "## Simple RNN with more layers\n",
    "\n",
    "**Be careful: when stacking RNN layers, you have to set \"return_sequences\" to True. This enables the layer to send a \"sequence\" of values to the next layer -- jut like how it uses a sequence of values for training. However, if the output of RNN is sent to a DENSE layer, then a single value should be sent. That's why there is no \"return sequences\" right before DENSE layers.**"
   ]
  },
  {
   "cell_type": "code",
   "execution_count": 54,
   "metadata": {},
   "outputs": [],
   "source": [
    "model = keras.models.Sequential([\n",
    "    keras.layers.SimpleRNN(32, activation='relu', return_sequences=True, input_shape=[9, 1]),\n",
    "    keras.layers.SimpleRNN(32, activation='relu', return_sequences=False),\n",
    "    keras.layers.Dense(1, activation=None)\n",
    "])"
   ]
  },
  {
   "cell_type": "code",
   "execution_count": 55,
   "metadata": {
    "scrolled": true
   },
   "outputs": [
    {
     "name": "stdout",
     "output_type": "stream",
     "text": [
      "Epoch 1/30\n",
      "1/1 [==============================] - 2s 2s/step - loss: 0.8141\n",
      "Epoch 2/30\n",
      "1/1 [==============================] - 0s 10ms/step - loss: 0.7414\n",
      "Epoch 3/30\n",
      "1/1 [==============================] - 0s 10ms/step - loss: 0.6776\n",
      "Epoch 4/30\n",
      "1/1 [==============================] - 0s 11ms/step - loss: 0.6135\n",
      "Epoch 5/30\n",
      "1/1 [==============================] - 0s 9ms/step - loss: 0.5536\n",
      "Epoch 6/30\n",
      "1/1 [==============================] - 0s 11ms/step - loss: 0.5033\n",
      "Epoch 7/30\n",
      "1/1 [==============================] - 0s 9ms/step - loss: 0.4628\n",
      "Epoch 8/30\n",
      "1/1 [==============================] - 0s 9ms/step - loss: 0.4295\n",
      "Epoch 9/30\n",
      "1/1 [==============================] - 0s 9ms/step - loss: 0.4024\n",
      "Epoch 10/30\n",
      "1/1 [==============================] - 0s 11ms/step - loss: 0.3799\n",
      "Epoch 11/30\n",
      "1/1 [==============================] - 0s 10ms/step - loss: 0.3572\n",
      "Epoch 12/30\n",
      "1/1 [==============================] - 0s 11ms/step - loss: 0.3367\n",
      "Epoch 13/30\n",
      "1/1 [==============================] - 0s 11ms/step - loss: 0.3191\n",
      "Epoch 14/30\n",
      "1/1 [==============================] - 0s 12ms/step - loss: 0.3031\n",
      "Epoch 15/30\n",
      "1/1 [==============================] - 0s 11ms/step - loss: 0.2891\n",
      "Epoch 16/30\n",
      "1/1 [==============================] - 0s 13ms/step - loss: 0.2746\n",
      "Epoch 17/30\n",
      "1/1 [==============================] - 0s 12ms/step - loss: 0.2614\n",
      "Epoch 18/30\n",
      "1/1 [==============================] - 0s 12ms/step - loss: 0.2474\n",
      "Epoch 19/30\n",
      "1/1 [==============================] - 0s 12ms/step - loss: 0.2349\n",
      "Epoch 20/30\n",
      "1/1 [==============================] - 0s 12ms/step - loss: 0.2238\n",
      "Epoch 21/30\n",
      "1/1 [==============================] - 0s 13ms/step - loss: 0.2124\n",
      "Epoch 22/30\n",
      "1/1 [==============================] - 0s 11ms/step - loss: 0.2016\n",
      "Epoch 23/30\n",
      "1/1 [==============================] - 0s 11ms/step - loss: 0.1919\n",
      "Epoch 24/30\n",
      "1/1 [==============================] - 0s 13ms/step - loss: 0.1819\n",
      "Epoch 25/30\n",
      "1/1 [==============================] - 0s 11ms/step - loss: 0.1724\n",
      "Epoch 26/30\n",
      "1/1 [==============================] - 0s 12ms/step - loss: 0.1634\n",
      "Epoch 27/30\n",
      "1/1 [==============================] - 0s 10ms/step - loss: 0.1550\n",
      "Epoch 28/30\n",
      "1/1 [==============================] - 0s 12ms/step - loss: 0.1469\n",
      "Epoch 29/30\n",
      "1/1 [==============================] - 0s 11ms/step - loss: 0.1391\n",
      "Epoch 30/30\n",
      "1/1 [==============================] - 0s 11ms/step - loss: 0.1313\n"
     ]
    }
   ],
   "source": [
    "np.random.seed(42)\n",
    "tf.random.set_seed(42)\n",
    "\n",
    "model.compile(loss=\"MSE\", optimizer='Adam')\n",
    "\n",
    "history = model.fit(train_x, train_target, epochs=30)"
   ]
  },
  {
   "cell_type": "markdown",
   "metadata": {},
   "source": [
    "### Predictions"
   ]
  },
  {
   "cell_type": "code",
   "execution_count": 56,
   "metadata": {},
   "outputs": [
    {
     "name": "stdout",
     "output_type": "stream",
     "text": [
      "1/1 [==============================] - 0s 315ms/step\n"
     ]
    }
   ],
   "source": [
    "#Predict:\n",
    "y_pred = model.predict(test_x)\n"
   ]
  },
  {
   "cell_type": "code",
   "execution_count": 57,
   "metadata": {},
   "outputs": [],
   "source": [
    "#Remember, these are standardized values. \n",
    "\n",
    "comparison = pd.DataFrame()\n",
    "\n",
    "comparison['actual'] = scaler.inverse_transform([test_target]).flatten()\n",
    "comparison['predicted'] = scaler.inverse_transform(y_pred).flatten()"
   ]
  },
  {
   "cell_type": "code",
   "execution_count": 58,
   "metadata": {},
   "outputs": [
    {
     "data": {
      "text/html": [
       "<div>\n",
       "<style scoped>\n",
       "    .dataframe tbody tr th:only-of-type {\n",
       "        vertical-align: middle;\n",
       "    }\n",
       "\n",
       "    .dataframe tbody tr th {\n",
       "        vertical-align: top;\n",
       "    }\n",
       "\n",
       "    .dataframe thead th {\n",
       "        text-align: right;\n",
       "    }\n",
       "</style>\n",
       "<table border=\"1\" class=\"dataframe\">\n",
       "  <thead>\n",
       "    <tr style=\"text-align: right;\">\n",
       "      <th></th>\n",
       "      <th>actual</th>\n",
       "      <th>predicted</th>\n",
       "    </tr>\n",
       "  </thead>\n",
       "  <tbody>\n",
       "    <tr>\n",
       "      <th>0</th>\n",
       "      <td>126.839996</td>\n",
       "      <td>131.302277</td>\n",
       "    </tr>\n",
       "    <tr>\n",
       "      <th>1</th>\n",
       "      <td>127.470001</td>\n",
       "      <td>132.364471</td>\n",
       "    </tr>\n",
       "    <tr>\n",
       "      <th>2</th>\n",
       "      <td>140.539993</td>\n",
       "      <td>141.592163</td>\n",
       "    </tr>\n",
       "  </tbody>\n",
       "</table>\n",
       "</div>"
      ],
      "text/plain": [
       "       actual   predicted\n",
       "0  126.839996  131.302277\n",
       "1  127.470001  132.364471\n",
       "2  140.539993  141.592163"
      ]
     },
     "execution_count": 58,
     "metadata": {},
     "output_type": "execute_result"
    }
   ],
   "source": [
    "comparison"
   ]
  },
  {
   "cell_type": "code",
   "execution_count": 59,
   "metadata": {},
   "outputs": [],
   "source": [
    "MSE=mean_squared_error(comparison['actual'], comparison['predicted'])"
   ]
  },
  {
   "cell_type": "code",
   "execution_count": 60,
   "metadata": {},
   "outputs": [
    {
     "data": {
      "text/html": [
       "<div>\n",
       "<style scoped>\n",
       "    .dataframe tbody tr th:only-of-type {\n",
       "        vertical-align: middle;\n",
       "    }\n",
       "\n",
       "    .dataframe tbody tr th {\n",
       "        vertical-align: top;\n",
       "    }\n",
       "\n",
       "    .dataframe thead th {\n",
       "        text-align: right;\n",
       "    }\n",
       "</style>\n",
       "<table border=\"1\" class=\"dataframe\">\n",
       "  <thead>\n",
       "    <tr style=\"text-align: right;\">\n",
       "      <th></th>\n",
       "      <th>model</th>\n",
       "      <th>MSE</th>\n",
       "    </tr>\n",
       "  </thead>\n",
       "  <tbody>\n",
       "    <tr>\n",
       "      <th>0</th>\n",
       "      <td>Normal NN</td>\n",
       "      <td>32.087254</td>\n",
       "    </tr>\n",
       "    <tr>\n",
       "      <th>0</th>\n",
       "      <td>simple RNN</td>\n",
       "      <td>7.040679</td>\n",
       "    </tr>\n",
       "    <tr>\n",
       "      <th>0</th>\n",
       "      <td>simple RNN with more layers</td>\n",
       "      <td>14.991617</td>\n",
       "    </tr>\n",
       "  </tbody>\n",
       "</table>\n",
       "</div>"
      ],
      "text/plain": [
       "                         model        MSE\n",
       "0                    Normal NN  32.087254\n",
       "0                   simple RNN   7.040679\n",
       "0  simple RNN with more layers  14.991617"
      ]
     },
     "execution_count": 60,
     "metadata": {},
     "output_type": "execute_result"
    }
   ],
   "source": [
    "performance = pd.concat([performance,pd.DataFrame({'model': 'simple RNN with more layers', 'MSE':MSE}, index=[0])])\n",
    "performance"
   ]
  },
  {
   "cell_type": "code",
   "execution_count": 61,
   "metadata": {},
   "outputs": [
    {
     "data": {
      "image/png": "[encoded data removed]",
      "text/plain": [
       "<Figure size 640x480 with 1 Axes>"
      ]
     },
     "metadata": {},
     "output_type": "display_data"
    }
   ],
   "source": [
    "plt.plot(comparison['actual'], label = 'actual')\n",
    "plt.plot(comparison['predicted'], label = 'predicted')\n",
    "\n",
    "plt.legend()\n",
    "\n",
    "plt.show()"
   ]
  },
  {
   "cell_type": "markdown",
   "metadata": {},
   "source": [
    "# LSTM with one layer"
   ]
  },
  {
   "cell_type": "code",
   "execution_count": 62,
   "metadata": {
    "scrolled": true
   },
   "outputs": [],
   "source": [
    "model = keras.models.Sequential([\n",
    "    keras.layers.LSTM(32, activation='relu', input_shape=[9, 1]),\n",
    "    keras.layers.Dense(1, activation=None)\n",
    "])"
   ]
  },
  {
   "cell_type": "code",
   "execution_count": 63,
   "metadata": {
    "scrolled": true
   },
   "outputs": [
    {
     "name": "stdout",
     "output_type": "stream",
     "text": [
      "Epoch 1/30\n",
      "1/1 [==============================] - 2s 2s/step - loss: 0.7264\n",
      "Epoch 2/30\n",
      "1/1 [==============================] - 0s 11ms/step - loss: 0.7194\n",
      "Epoch 3/30\n",
      "1/1 [==============================] - 0s 12ms/step - loss: 0.7125\n",
      "Epoch 4/30\n",
      "1/1 [==============================] - 0s 12ms/step - loss: 0.7058\n",
      "Epoch 5/30\n",
      "1/1 [==============================] - 0s 11ms/step - loss: 0.6992\n",
      "Epoch 6/30\n",
      "1/1 [==============================] - 0s 11ms/step - loss: 0.6927\n",
      "Epoch 7/30\n",
      "1/1 [==============================] - 0s 10ms/step - loss: 0.6864\n",
      "Epoch 8/30\n",
      "1/1 [==============================] - 0s 11ms/step - loss: 0.6802\n",
      "Epoch 9/30\n",
      "1/1 [==============================] - 0s 12ms/step - loss: 0.6741\n",
      "Epoch 10/30\n",
      "1/1 [==============================] - 0s 10ms/step - loss: 0.6682\n",
      "Epoch 11/30\n",
      "1/1 [==============================] - 0s 11ms/step - loss: 0.6624\n",
      "Epoch 12/30\n",
      "1/1 [==============================] - 0s 10ms/step - loss: 0.6567\n",
      "Epoch 13/30\n",
      "1/1 [==============================] - 0s 11ms/step - loss: 0.6510\n",
      "Epoch 14/30\n",
      "1/1 [==============================] - 0s 10ms/step - loss: 0.6454\n",
      "Epoch 15/30\n",
      "1/1 [==============================] - 0s 10ms/step - loss: 0.6399\n",
      "Epoch 16/30\n",
      "1/1 [==============================] - 0s 11ms/step - loss: 0.6344\n",
      "Epoch 17/30\n",
      "1/1 [==============================] - 0s 12ms/step - loss: 0.6290\n",
      "Epoch 18/30\n",
      "1/1 [==============================] - 0s 11ms/step - loss: 0.6238\n",
      "Epoch 19/30\n",
      "1/1 [==============================] - 0s 11ms/step - loss: 0.6186\n",
      "Epoch 20/30\n",
      "1/1 [==============================] - 0s 10ms/step - loss: 0.6135\n",
      "Epoch 21/30\n",
      "1/1 [==============================] - 0s 12ms/step - loss: 0.6085\n",
      "Epoch 22/30\n",
      "1/1 [==============================] - 0s 12ms/step - loss: 0.6035\n",
      "Epoch 23/30\n",
      "1/1 [==============================] - 0s 11ms/step - loss: 0.5987\n",
      "Epoch 24/30\n",
      "1/1 [==============================] - 0s 13ms/step - loss: 0.5939\n",
      "Epoch 25/30\n",
      "1/1 [==============================] - 0s 12ms/step - loss: 0.5891\n",
      "Epoch 26/30\n",
      "1/1 [==============================] - 0s 10ms/step - loss: 0.5845\n",
      "Epoch 27/30\n",
      "1/1 [==============================] - 0s 11ms/step - loss: 0.5800\n",
      "Epoch 28/30\n",
      "1/1 [==============================] - 0s 12ms/step - loss: 0.5756\n",
      "Epoch 29/30\n",
      "1/1 [==============================] - 0s 14ms/step - loss: 0.5713\n",
      "Epoch 30/30\n",
      "1/1 [==============================] - 0s 12ms/step - loss: 0.5671\n"
     ]
    }
   ],
   "source": [
    "np.random.seed(42)\n",
    "tf.random.set_seed(42)\n",
    "\n",
    "model.compile(loss=\"mse\", optimizer='Adam')\n",
    "\n",
    "history = model.fit(train_x, train_target, epochs=30)"
   ]
  },
  {
   "cell_type": "markdown",
   "metadata": {},
   "source": [
    "### Predictions"
   ]
  },
  {
   "cell_type": "code",
   "execution_count": 64,
   "metadata": {},
   "outputs": [
    {
     "name": "stdout",
     "output_type": "stream",
     "text": [
      "1/1 [==============================] - 1s 623ms/step\n"
     ]
    }
   ],
   "source": [
    "#Predict:\n",
    "y_pred = model.predict(test_x)\n"
   ]
  },
  {
   "cell_type": "code",
   "execution_count": 65,
   "metadata": {},
   "outputs": [],
   "source": [
    "#Remember, these are standardized values. \n",
    "\n",
    "comparison = pd.DataFrame()\n",
    "\n",
    "comparison['actual'] = scaler.inverse_transform([test_target]).flatten()\n",
    "comparison['predicted'] = scaler.inverse_transform(y_pred).flatten()"
   ]
  },
  {
   "cell_type": "code",
   "execution_count": 66,
   "metadata": {},
   "outputs": [
    {
     "data": {
      "text/html": [
       "<div>\n",
       "<style scoped>\n",
       "    .dataframe tbody tr th:only-of-type {\n",
       "        vertical-align: middle;\n",
       "    }\n",
       "\n",
       "    .dataframe tbody tr th {\n",
       "        vertical-align: top;\n",
       "    }\n",
       "\n",
       "    .dataframe thead th {\n",
       "        text-align: right;\n",
       "    }\n",
       "</style>\n",
       "<table border=\"1\" class=\"dataframe\">\n",
       "  <thead>\n",
       "    <tr style=\"text-align: right;\">\n",
       "      <th></th>\n",
       "      <th>actual</th>\n",
       "      <th>predicted</th>\n",
       "    </tr>\n",
       "  </thead>\n",
       "  <tbody>\n",
       "    <tr>\n",
       "      <th>0</th>\n",
       "      <td>126.839996</td>\n",
       "      <td>133.442368</td>\n",
       "    </tr>\n",
       "    <tr>\n",
       "      <th>1</th>\n",
       "      <td>127.470001</td>\n",
       "      <td>133.203506</td>\n",
       "    </tr>\n",
       "    <tr>\n",
       "      <th>2</th>\n",
       "      <td>140.539993</td>\n",
       "      <td>137.052795</td>\n",
       "    </tr>\n",
       "  </tbody>\n",
       "</table>\n",
       "</div>"
      ],
      "text/plain": [
       "       actual   predicted\n",
       "0  126.839996  133.442368\n",
       "1  127.470001  133.203506\n",
       "2  140.539993  137.052795"
      ]
     },
     "execution_count": 66,
     "metadata": {},
     "output_type": "execute_result"
    }
   ],
   "source": [
    "comparison"
   ]
  },
  {
   "cell_type": "code",
   "execution_count": 67,
   "metadata": {},
   "outputs": [],
   "source": [
    "MSE=mean_squared_error(comparison['actual'], comparison['predicted'])"
   ]
  },
  {
   "cell_type": "code",
   "execution_count": 68,
   "metadata": {},
   "outputs": [
    {
     "data": {
      "image/png": "[encoded data removed]",
      "text/plain": [
       "<Figure size 640x480 with 1 Axes>"
      ]
     },
     "metadata": {},
     "output_type": "display_data"
    }
   ],
   "source": [
    "plt.plot(comparison['actual'], label = 'actual')\n",
    "plt.plot(comparison['predicted'], label = 'predicted')\n",
    "\n",
    "plt.legend()\n",
    "\n",
    "plt.show()"
   ]
  },
  {
   "cell_type": "markdown",
   "metadata": {},
   "source": [
    "# LSTM with more layers"
   ]
  },
  {
   "cell_type": "code",
   "execution_count": 69,
   "metadata": {
    "scrolled": true
   },
   "outputs": [],
   "source": [
    "model = keras.models.Sequential([\n",
    "    keras.layers.LSTM(32, activation='tanh', return_sequences=True, input_shape=[9, 1]),\n",
    "    keras.layers.LSTM(32, activation='tanh', return_sequences=False),\n",
    "    keras.layers.Dense(1, activation=None)\n",
    "])"
   ]
  },
  {
   "cell_type": "code",
   "execution_count": 70,
   "metadata": {
    "scrolled": true
   },
   "outputs": [
    {
     "name": "stdout",
     "output_type": "stream",
     "text": [
      "Epoch 1/30\n",
      "1/1 [==============================] - 6s 6s/step - loss: 0.7979\n",
      "Epoch 2/30\n",
      "1/1 [==============================] - 0s 14ms/step - loss: 0.7783\n",
      "Epoch 3/30\n",
      "1/1 [==============================] - 0s 15ms/step - loss: 0.7603\n",
      "Epoch 4/30\n",
      "1/1 [==============================] - 0s 17ms/step - loss: 0.7437\n",
      "Epoch 5/30\n",
      "1/1 [==============================] - 0s 16ms/step - loss: 0.7285\n",
      "Epoch 6/30\n",
      "1/1 [==============================] - 0s 15ms/step - loss: 0.7147\n",
      "Epoch 7/30\n",
      "1/1 [==============================] - 0s 15ms/step - loss: 0.7022\n",
      "Epoch 8/30\n",
      "1/1 [==============================] - 0s 15ms/step - loss: 0.6910\n",
      "Epoch 9/30\n",
      "1/1 [==============================] - 0s 14ms/step - loss: 0.6811\n",
      "Epoch 10/30\n",
      "1/1 [==============================] - 0s 15ms/step - loss: 0.6726\n",
      "Epoch 11/30\n",
      "1/1 [==============================] - 0s 15ms/step - loss: 0.6653\n",
      "Epoch 12/30\n",
      "1/1 [==============================] - 0s 15ms/step - loss: 0.6593\n",
      "Epoch 13/30\n",
      "1/1 [==============================] - 0s 16ms/step - loss: 0.6543\n",
      "Epoch 14/30\n",
      "1/1 [==============================] - 0s 15ms/step - loss: 0.6501\n",
      "Epoch 15/30\n",
      "1/1 [==============================] - 0s 18ms/step - loss: 0.6465\n",
      "Epoch 16/30\n",
      "1/1 [==============================] - 0s 17ms/step - loss: 0.6431\n",
      "Epoch 17/30\n",
      "1/1 [==============================] - 0s 18ms/step - loss: 0.6399\n",
      "Epoch 18/30\n",
      "1/1 [==============================] - 0s 17ms/step - loss: 0.6365\n",
      "Epoch 19/30\n",
      "1/1 [==============================] - 0s 17ms/step - loss: 0.6329\n",
      "Epoch 20/30\n",
      "1/1 [==============================] - 0s 16ms/step - loss: 0.6291\n",
      "Epoch 21/30\n",
      "1/1 [==============================] - 0s 18ms/step - loss: 0.6251\n",
      "Epoch 22/30\n",
      "1/1 [==============================] - 0s 21ms/step - loss: 0.6210\n",
      "Epoch 23/30\n",
      "1/1 [==============================] - 0s 16ms/step - loss: 0.6168\n",
      "Epoch 24/30\n",
      "1/1 [==============================] - 0s 17ms/step - loss: 0.6127\n",
      "Epoch 25/30\n",
      "1/1 [==============================] - 0s 19ms/step - loss: 0.6087\n",
      "Epoch 26/30\n",
      "1/1 [==============================] - 0s 19ms/step - loss: 0.6049\n",
      "Epoch 27/30\n",
      "1/1 [==============================] - 0s 18ms/step - loss: 0.6013\n",
      "Epoch 28/30\n",
      "1/1 [==============================] - 0s 17ms/step - loss: 0.5979\n",
      "Epoch 29/30\n",
      "1/1 [==============================] - 0s 16ms/step - loss: 0.5947\n",
      "Epoch 30/30\n",
      "1/1 [==============================] - 0s 18ms/step - loss: 0.5917\n"
     ]
    }
   ],
   "source": [
    "np.random.seed(42)\n",
    "tf.random.set_seed(42)\n",
    "\n",
    "model.compile(loss=\"mse\", optimizer='Adam')\n",
    "\n",
    "history = model.fit(train_x, train_target, epochs=30)"
   ]
  },
  {
   "cell_type": "markdown",
   "metadata": {},
   "source": [
    "### Predictions"
   ]
  },
  {
   "cell_type": "code",
   "execution_count": 71,
   "metadata": {},
   "outputs": [
    {
     "name": "stdout",
     "output_type": "stream",
     "text": [
      "WARNING:tensorflow:5 out of the last 5 calls to <function Model.make_predict_function.<locals>.predict_function at 0x000002AA6BE560D0> triggered tf.function retracing. Tracing is expensive and the excessive number of tracings could be due to (1) creating @tf.function repeatedly in a loop, (2) passing tensors with different shapes, (3) passing Python objects instead of tensors. For (1), please define your @tf.function outside of the loop. For (2), @tf.function has reduce_retracing=True option that can avoid unnecessary retracing. For (3), please refer to https://www.tensorflow.org/guide/function#controlling_retracing and https://www.tensorflow.org/api_docs/python/tf/function for  more details.\n",
      "1/1 [==============================] - 1s 1s/step\n"
     ]
    }
   ],
   "source": [
    "#Predict:\n",
    "y_pred = model.predict(test_x)"
   ]
  },
  {
   "cell_type": "code",
   "execution_count": 72,
   "metadata": {},
   "outputs": [],
   "source": [
    "#Remember, these are standardized values. \n",
    "\n",
    "comparison = pd.DataFrame()\n",
    "\n",
    "comparison['actual'] = scaler.inverse_transform([test_target]).flatten()\n",
    "comparison['predicted'] = scaler.inverse_transform(y_pred).flatten()"
   ]
  },
  {
   "cell_type": "code",
   "execution_count": 73,
   "metadata": {},
   "outputs": [
    {
     "data": {
      "text/html": [
       "<div>\n",
       "<style scoped>\n",
       "    .dataframe tbody tr th:only-of-type {\n",
       "        vertical-align: middle;\n",
       "    }\n",
       "\n",
       "    .dataframe tbody tr th {\n",
       "        vertical-align: top;\n",
       "    }\n",
       "\n",
       "    .dataframe thead th {\n",
       "        text-align: right;\n",
       "    }\n",
       "</style>\n",
       "<table border=\"1\" class=\"dataframe\">\n",
       "  <thead>\n",
       "    <tr style=\"text-align: right;\">\n",
       "      <th></th>\n",
       "      <th>actual</th>\n",
       "      <th>predicted</th>\n",
       "    </tr>\n",
       "  </thead>\n",
       "  <tbody>\n",
       "    <tr>\n",
       "      <th>0</th>\n",
       "      <td>126.839996</td>\n",
       "      <td>132.355286</td>\n",
       "    </tr>\n",
       "    <tr>\n",
       "      <th>1</th>\n",
       "      <td>127.470001</td>\n",
       "      <td>131.656067</td>\n",
       "    </tr>\n",
       "    <tr>\n",
       "      <th>2</th>\n",
       "      <td>140.539993</td>\n",
       "      <td>135.120880</td>\n",
       "    </tr>\n",
       "  </tbody>\n",
       "</table>\n",
       "</div>"
      ],
      "text/plain": [
       "       actual   predicted\n",
       "0  126.839996  132.355286\n",
       "1  127.470001  131.656067\n",
       "2  140.539993  135.120880"
      ]
     },
     "execution_count": 73,
     "metadata": {},
     "output_type": "execute_result"
    }
   ],
   "source": [
    "comparison"
   ]
  },
  {
   "cell_type": "code",
   "execution_count": 74,
   "metadata": {},
   "outputs": [],
   "source": [
    "MSE=mean_squared_error(comparison['actual'], comparison['predicted'])"
   ]
  },
  {
   "cell_type": "code",
   "execution_count": 75,
   "metadata": {},
   "outputs": [
    {
     "data": {
      "text/html": [
       "<div>\n",
       "<style scoped>\n",
       "    .dataframe tbody tr th:only-of-type {\n",
       "        vertical-align: middle;\n",
       "    }\n",
       "\n",
       "    .dataframe tbody tr th {\n",
       "        vertical-align: top;\n",
       "    }\n",
       "\n",
       "    .dataframe thead th {\n",
       "        text-align: right;\n",
       "    }\n",
       "</style>\n",
       "<table border=\"1\" class=\"dataframe\">\n",
       "  <thead>\n",
       "    <tr style=\"text-align: right;\">\n",
       "      <th></th>\n",
       "      <th>model</th>\n",
       "      <th>MSE</th>\n",
       "    </tr>\n",
       "  </thead>\n",
       "  <tbody>\n",
       "    <tr>\n",
       "      <th>0</th>\n",
       "      <td>Normal NN</td>\n",
       "      <td>32.087254</td>\n",
       "    </tr>\n",
       "    <tr>\n",
       "      <th>0</th>\n",
       "      <td>simple RNN</td>\n",
       "      <td>7.040679</td>\n",
       "    </tr>\n",
       "    <tr>\n",
       "      <th>0</th>\n",
       "      <td>simple RNN with more layers</td>\n",
       "      <td>14.991617</td>\n",
       "    </tr>\n",
       "    <tr>\n",
       "      <th>0</th>\n",
       "      <td>LSTM RNN</td>\n",
       "      <td>25.769451</td>\n",
       "    </tr>\n",
       "  </tbody>\n",
       "</table>\n",
       "</div>"
      ],
      "text/plain": [
       "                         model        MSE\n",
       "0                    Normal NN  32.087254\n",
       "0                   simple RNN   7.040679\n",
       "0  simple RNN with more layers  14.991617\n",
       "0                     LSTM RNN  25.769451"
      ]
     },
     "execution_count": 75,
     "metadata": {},
     "output_type": "execute_result"
    }
   ],
   "source": [
    "performance = pd.concat([performance,pd.DataFrame({'model': 'LSTM RNN', 'MSE':MSE}, index=[0])])\n",
    "performance"
   ]
  },
  {
   "cell_type": "code",
   "execution_count": 76,
   "metadata": {},
   "outputs": [
    {
     "data": {
      "image/png": "[encoded data removed]",
      "text/plain": [
       "<Figure size 640x480 with 1 Axes>"
      ]
     },
     "metadata": {},
     "output_type": "display_data"
    }
   ],
   "source": [
    "plt.plot(comparison['actual'], label = 'actual')\n",
    "plt.plot(comparison['predicted'], label = 'predicted')\n",
    "\n",
    "plt.legend()\n",
    "\n",
    "plt.show()"
   ]
  },
  {
   "cell_type": "markdown",
   "metadata": {},
   "source": [
    "# GRU (with more layers)"
   ]
  },
  {
   "cell_type": "code",
   "execution_count": 77,
   "metadata": {},
   "outputs": [],
   "source": [
    "model = keras.models.Sequential([\n",
    "    keras.layers.GRU(32, activation='relu', return_sequences=True, input_shape=[9, 1]),\n",
    "    keras.layers.GRU(32, activation='relu', return_sequences=False),\n",
    "    keras.layers.Dense(1, activation=None)\n",
    "])"
   ]
  },
  {
   "cell_type": "code",
   "execution_count": 78,
   "metadata": {
    "scrolled": true
   },
   "outputs": [
    {
     "name": "stdout",
     "output_type": "stream",
     "text": [
      "Epoch 1/30\n",
      "1/1 [==============================] - 4s 4s/step - loss: 0.7589\n",
      "Epoch 2/30\n",
      "1/1 [==============================] - 0s 14ms/step - loss: 0.7246\n",
      "Epoch 3/30\n",
      "1/1 [==============================] - 0s 15ms/step - loss: 0.7050\n",
      "Epoch 4/30\n",
      "1/1 [==============================] - 0s 15ms/step - loss: 0.6905\n",
      "Epoch 5/30\n",
      "1/1 [==============================] - 0s 13ms/step - loss: 0.6788\n",
      "Epoch 6/30\n",
      "1/1 [==============================] - 0s 15ms/step - loss: 0.6686\n",
      "Epoch 7/30\n",
      "1/1 [==============================] - 0s 12ms/step - loss: 0.6597\n",
      "Epoch 8/30\n",
      "1/1 [==============================] - 0s 13ms/step - loss: 0.6516\n",
      "Epoch 9/30\n",
      "1/1 [==============================] - 0s 13ms/step - loss: 0.6441\n",
      "Epoch 10/30\n",
      "1/1 [==============================] - 0s 12ms/step - loss: 0.6369\n",
      "Epoch 11/30\n",
      "1/1 [==============================] - 0s 14ms/step - loss: 0.6301\n",
      "Epoch 12/30\n",
      "1/1 [==============================] - 0s 15ms/step - loss: 0.6235\n",
      "Epoch 13/30\n",
      "1/1 [==============================] - 0s 16ms/step - loss: 0.6172\n",
      "Epoch 14/30\n",
      "1/1 [==============================] - 0s 15ms/step - loss: 0.6110\n",
      "Epoch 15/30\n",
      "1/1 [==============================] - 0s 16ms/step - loss: 0.6051\n",
      "Epoch 16/30\n",
      "1/1 [==============================] - 0s 16ms/step - loss: 0.5992\n",
      "Epoch 17/30\n",
      "1/1 [==============================] - 0s 16ms/step - loss: 0.5936\n",
      "Epoch 18/30\n",
      "1/1 [==============================] - 0s 16ms/step - loss: 0.5880\n",
      "Epoch 19/30\n",
      "1/1 [==============================] - 0s 15ms/step - loss: 0.5825\n",
      "Epoch 20/30\n",
      "1/1 [==============================] - 0s 16ms/step - loss: 0.5771\n",
      "Epoch 21/30\n",
      "1/1 [==============================] - 0s 16ms/step - loss: 0.5717\n",
      "Epoch 22/30\n",
      "1/1 [==============================] - 0s 15ms/step - loss: 0.5664\n",
      "Epoch 23/30\n",
      "1/1 [==============================] - 0s 15ms/step - loss: 0.5610\n",
      "Epoch 24/30\n",
      "1/1 [==============================] - 0s 15ms/step - loss: 0.5557\n",
      "Epoch 25/30\n",
      "1/1 [==============================] - 0s 15ms/step - loss: 0.5503\n",
      "Epoch 26/30\n",
      "1/1 [==============================] - 0s 16ms/step - loss: 0.5449\n",
      "Epoch 27/30\n",
      "1/1 [==============================] - 0s 16ms/step - loss: 0.5392\n",
      "Epoch 28/30\n",
      "1/1 [==============================] - 0s 16ms/step - loss: 0.5333\n",
      "Epoch 29/30\n",
      "1/1 [==============================] - 0s 16ms/step - loss: 0.5278\n",
      "Epoch 30/30\n",
      "1/1 [==============================] - 0s 15ms/step - loss: 0.5222\n"
     ]
    }
   ],
   "source": [
    "np.random.seed(42)\n",
    "tf.random.set_seed(42)\n",
    "\n",
    "model.compile(loss=\"mse\", optimizer='RMSprop')\n",
    "\n",
    "history = model.fit(train_x, train_target, epochs=30)"
   ]
  },
  {
   "cell_type": "markdown",
   "metadata": {},
   "source": [
    "### Predictions"
   ]
  },
  {
   "cell_type": "code",
   "execution_count": 79,
   "metadata": {},
   "outputs": [
    {
     "name": "stdout",
     "output_type": "stream",
     "text": [
      "WARNING:tensorflow:6 out of the last 6 calls to <function Model.make_predict_function.<locals>.predict_function at 0x000002AA70538940> triggered tf.function retracing. Tracing is expensive and the excessive number of tracings could be due to (1) creating @tf.function repeatedly in a loop, (2) passing tensors with different shapes, (3) passing Python objects instead of tensors. For (1), please define your @tf.function outside of the loop. For (2), @tf.function has reduce_retracing=True option that can avoid unnecessary retracing. For (3), please refer to https://www.tensorflow.org/guide/function#controlling_retracing and https://www.tensorflow.org/api_docs/python/tf/function for  more details.\n",
      "1/1 [==============================] - 0s 467ms/step\n"
     ]
    }
   ],
   "source": [
    "#Predict:\n",
    "y_pred = model.predict(test_x)"
   ]
  },
  {
   "cell_type": "code",
   "execution_count": 80,
   "metadata": {},
   "outputs": [],
   "source": [
    "#Remember, these are standardized values. \n",
    "\n",
    "comparison = pd.DataFrame()\n",
    "\n",
    "comparison['actual'] = scaler.inverse_transform([test_target]).flatten()\n",
    "comparison['predicted'] = scaler.inverse_transform(y_pred).flatten()"
   ]
  },
  {
   "cell_type": "code",
   "execution_count": 81,
   "metadata": {},
   "outputs": [],
   "source": [
    "MSE=mean_squared_error(comparison['actual'], comparison['predicted'])"
   ]
  },
  {
   "cell_type": "code",
   "execution_count": 82,
   "metadata": {},
   "outputs": [
    {
     "data": {
      "text/html": [
       "<div>\n",
       "<style scoped>\n",
       "    .dataframe tbody tr th:only-of-type {\n",
       "        vertical-align: middle;\n",
       "    }\n",
       "\n",
       "    .dataframe tbody tr th {\n",
       "        vertical-align: top;\n",
       "    }\n",
       "\n",
       "    .dataframe thead th {\n",
       "        text-align: right;\n",
       "    }\n",
       "</style>\n",
       "<table border=\"1\" class=\"dataframe\">\n",
       "  <thead>\n",
       "    <tr style=\"text-align: right;\">\n",
       "      <th></th>\n",
       "      <th>model</th>\n",
       "      <th>MSE</th>\n",
       "    </tr>\n",
       "  </thead>\n",
       "  <tbody>\n",
       "    <tr>\n",
       "      <th>0</th>\n",
       "      <td>Normal NN</td>\n",
       "      <td>32.087254</td>\n",
       "    </tr>\n",
       "    <tr>\n",
       "      <th>0</th>\n",
       "      <td>simple RNN</td>\n",
       "      <td>7.040679</td>\n",
       "    </tr>\n",
       "    <tr>\n",
       "      <th>0</th>\n",
       "      <td>simple RNN with more layers</td>\n",
       "      <td>14.991617</td>\n",
       "    </tr>\n",
       "    <tr>\n",
       "      <th>0</th>\n",
       "      <td>LSTM RNN</td>\n",
       "      <td>25.769451</td>\n",
       "    </tr>\n",
       "    <tr>\n",
       "      <th>0</th>\n",
       "      <td>GRU with more layers</td>\n",
       "      <td>27.248037</td>\n",
       "    </tr>\n",
       "  </tbody>\n",
       "</table>\n",
       "</div>"
      ],
      "text/plain": [
       "                         model        MSE\n",
       "0                    Normal NN  32.087254\n",
       "0                   simple RNN   7.040679\n",
       "0  simple RNN with more layers  14.991617\n",
       "0                     LSTM RNN  25.769451\n",
       "0         GRU with more layers  27.248037"
      ]
     },
     "execution_count": 82,
     "metadata": {},
     "output_type": "execute_result"
    }
   ],
   "source": [
    "performance = pd.concat([performance,pd.DataFrame({'model': 'GRU with more layers', 'MSE':MSE}, index=[0])])\n",
    "performance"
   ]
  },
  {
   "cell_type": "code",
   "execution_count": 83,
   "metadata": {},
   "outputs": [
    {
     "data": {
      "image/png": "[encoded data removed]",
      "text/plain": [
       "<Figure size 640x480 with 1 Axes>"
      ]
     },
     "metadata": {},
     "output_type": "display_data"
    }
   ],
   "source": [
    "plt.plot(comparison['actual'], label = 'actual')\n",
    "plt.plot(comparison['predicted'], label = 'predicted')\n",
    "\n",
    "plt.legend()\n",
    "\n",
    "plt.show()"
   ]
  },
  {
   "cell_type": "markdown",
   "metadata": {},
   "source": [
    "# Conv1D"
   ]
  },
  {
   "cell_type": "markdown",
   "metadata": {},
   "source": [
    "### Last Layer: GRU (you can change it to SimpleRNN or LSTM as well)"
   ]
  },
  {
   "cell_type": "code",
   "execution_count": 84,
   "metadata": {
    "scrolled": true
   },
   "outputs": [],
   "source": [
    "model = keras.models.Sequential([\n",
    "    keras.layers.Conv1D(filters=20, kernel_size=3, strides=1, padding=\"valid\", input_shape=[9, 1]),\n",
    "    keras.layers.GRU(32, activation='relu', return_sequences=True),\n",
    "    keras.layers.GRU(32, activation='relu', return_sequences=False),\n",
    "    keras.layers.Dense(1, activation=None)\n",
    "])"
   ]
  },
  {
   "cell_type": "code",
   "execution_count": 85,
   "metadata": {
    "scrolled": true
   },
   "outputs": [
    {
     "name": "stdout",
     "output_type": "stream",
     "text": [
      "Epoch 1/30\n",
      "1/1 [==============================] - 5s 5s/step - loss: 0.7530\n",
      "Epoch 2/30\n",
      "1/1 [==============================] - 0s 13ms/step - loss: 0.7351\n",
      "Epoch 3/30\n",
      "1/1 [==============================] - 0s 13ms/step - loss: 0.7184\n",
      "Epoch 4/30\n",
      "1/1 [==============================] - 0s 15ms/step - loss: 0.7023\n",
      "Epoch 5/30\n",
      "1/1 [==============================] - 0s 16ms/step - loss: 0.6860\n",
      "Epoch 6/30\n",
      "1/1 [==============================] - 0s 12ms/step - loss: 0.6702\n",
      "Epoch 7/30\n",
      "1/1 [==============================] - 0s 14ms/step - loss: 0.6550\n",
      "Epoch 8/30\n",
      "1/1 [==============================] - 0s 13ms/step - loss: 0.6404\n",
      "Epoch 9/30\n",
      "1/1 [==============================] - 0s 13ms/step - loss: 0.6273\n",
      "Epoch 10/30\n",
      "1/1 [==============================] - 0s 12ms/step - loss: 0.6147\n",
      "Epoch 11/30\n",
      "1/1 [==============================] - 0s 12ms/step - loss: 0.6023\n",
      "Epoch 12/30\n",
      "1/1 [==============================] - 0s 12ms/step - loss: 0.5905\n",
      "Epoch 13/30\n",
      "1/1 [==============================] - 0s 14ms/step - loss: 0.5795\n",
      "Epoch 14/30\n",
      "1/1 [==============================] - 0s 13ms/step - loss: 0.5691\n",
      "Epoch 15/30\n",
      "1/1 [==============================] - 0s 13ms/step - loss: 0.5591\n",
      "Epoch 16/30\n",
      "1/1 [==============================] - 0s 14ms/step - loss: 0.5496\n",
      "Epoch 17/30\n",
      "1/1 [==============================] - 0s 14ms/step - loss: 0.5408\n",
      "Epoch 18/30\n",
      "1/1 [==============================] - 0s 13ms/step - loss: 0.5326\n",
      "Epoch 19/30\n",
      "1/1 [==============================] - 0s 14ms/step - loss: 0.5247\n",
      "Epoch 20/30\n",
      "1/1 [==============================] - 0s 14ms/step - loss: 0.5172\n",
      "Epoch 21/30\n",
      "1/1 [==============================] - 0s 15ms/step - loss: 0.5099\n",
      "Epoch 22/30\n",
      "1/1 [==============================] - 0s 17ms/step - loss: 0.5029\n",
      "Epoch 23/30\n",
      "1/1 [==============================] - 0s 15ms/step - loss: 0.4964\n",
      "Epoch 24/30\n",
      "1/1 [==============================] - 0s 16ms/step - loss: 0.4902\n",
      "Epoch 25/30\n",
      "1/1 [==============================] - 0s 15ms/step - loss: 0.4844\n",
      "Epoch 26/30\n",
      "1/1 [==============================] - 0s 15ms/step - loss: 0.4786\n",
      "Epoch 27/30\n",
      "1/1 [==============================] - 0s 15ms/step - loss: 0.4731\n",
      "Epoch 28/30\n",
      "1/1 [==============================] - 0s 15ms/step - loss: 0.4677\n",
      "Epoch 29/30\n",
      "1/1 [==============================] - 0s 16ms/step - loss: 0.4624\n",
      "Epoch 30/30\n",
      "1/1 [==============================] - 0s 16ms/step - loss: 0.4570\n"
     ]
    }
   ],
   "source": [
    "np.random.seed(42)\n",
    "tf.random.set_seed(42)\n",
    "\n",
    "model.compile(loss=\"mse\", optimizer='Adam')\n",
    "\n",
    "history = model.fit(train_x, train_target, epochs=30)"
   ]
  },
  {
   "cell_type": "markdown",
   "metadata": {},
   "source": [
    "### Predictions"
   ]
  },
  {
   "cell_type": "code",
   "execution_count": 86,
   "metadata": {},
   "outputs": [
    {
     "name": "stdout",
     "output_type": "stream",
     "text": [
      "1/1 [==============================] - 0s 445ms/step\n"
     ]
    }
   ],
   "source": [
    "#Predict:\n",
    "y_pred = model.predict(test_x)"
   ]
  },
  {
   "cell_type": "code",
   "execution_count": 87,
   "metadata": {},
   "outputs": [],
   "source": [
    "#Remember, these are standardized values. \n",
    "\n",
    "comparison = pd.DataFrame()\n",
    "\n",
    "comparison['actual'] = scaler.inverse_transform([test_target]).flatten()\n",
    "comparison['predicted'] = scaler.inverse_transform(y_pred).flatten()"
   ]
  },
  {
   "cell_type": "code",
   "execution_count": 88,
   "metadata": {},
   "outputs": [],
   "source": [
    "MSE=mean_squared_error(comparison['actual'], comparison['predicted'])"
   ]
  },
  {
   "cell_type": "code",
   "execution_count": 89,
   "metadata": {},
   "outputs": [
    {
     "data": {
      "text/html": [
       "<div>\n",
       "<style scoped>\n",
       "    .dataframe tbody tr th:only-of-type {\n",
       "        vertical-align: middle;\n",
       "    }\n",
       "\n",
       "    .dataframe tbody tr th {\n",
       "        vertical-align: top;\n",
       "    }\n",
       "\n",
       "    .dataframe thead th {\n",
       "        text-align: right;\n",
       "    }\n",
       "</style>\n",
       "<table border=\"1\" class=\"dataframe\">\n",
       "  <thead>\n",
       "    <tr style=\"text-align: right;\">\n",
       "      <th></th>\n",
       "      <th>model</th>\n",
       "      <th>MSE</th>\n",
       "    </tr>\n",
       "  </thead>\n",
       "  <tbody>\n",
       "    <tr>\n",
       "      <th>0</th>\n",
       "      <td>Normal NN</td>\n",
       "      <td>32.087254</td>\n",
       "    </tr>\n",
       "    <tr>\n",
       "      <th>0</th>\n",
       "      <td>simple RNN</td>\n",
       "      <td>7.040679</td>\n",
       "    </tr>\n",
       "    <tr>\n",
       "      <th>0</th>\n",
       "      <td>simple RNN with more layers</td>\n",
       "      <td>14.991617</td>\n",
       "    </tr>\n",
       "    <tr>\n",
       "      <th>0</th>\n",
       "      <td>LSTM RNN</td>\n",
       "      <td>25.769451</td>\n",
       "    </tr>\n",
       "    <tr>\n",
       "      <th>0</th>\n",
       "      <td>GRU with more layers</td>\n",
       "      <td>27.248037</td>\n",
       "    </tr>\n",
       "    <tr>\n",
       "      <th>0</th>\n",
       "      <td>Conv1D</td>\n",
       "      <td>4.510275</td>\n",
       "    </tr>\n",
       "  </tbody>\n",
       "</table>\n",
       "</div>"
      ],
      "text/plain": [
       "                         model        MSE\n",
       "0                    Normal NN  32.087254\n",
       "0                   simple RNN   7.040679\n",
       "0  simple RNN with more layers  14.991617\n",
       "0                     LSTM RNN  25.769451\n",
       "0         GRU with more layers  27.248037\n",
       "0                       Conv1D   4.510275"
      ]
     },
     "execution_count": 89,
     "metadata": {},
     "output_type": "execute_result"
    }
   ],
   "source": [
    "performance = pd.concat([performance,pd.DataFrame({'model': 'Conv1D', 'MSE':MSE}, index=[0])])\n",
    "performance"
   ]
  },
  {
   "cell_type": "code",
   "execution_count": 90,
   "metadata": {},
   "outputs": [
    {
     "data": {
      "text/html": [
       "<div>\n",
       "<style scoped>\n",
       "    .dataframe tbody tr th:only-of-type {\n",
       "        vertical-align: middle;\n",
       "    }\n",
       "\n",
       "    .dataframe tbody tr th {\n",
       "        vertical-align: top;\n",
       "    }\n",
       "\n",
       "    .dataframe thead th {\n",
       "        text-align: right;\n",
       "    }\n",
       "</style>\n",
       "<table border=\"1\" class=\"dataframe\">\n",
       "  <thead>\n",
       "    <tr style=\"text-align: right;\">\n",
       "      <th></th>\n",
       "      <th>model</th>\n",
       "      <th>MSE</th>\n",
       "    </tr>\n",
       "  </thead>\n",
       "  <tbody>\n",
       "    <tr>\n",
       "      <th>0</th>\n",
       "      <td>Conv1D</td>\n",
       "      <td>4.510275</td>\n",
       "    </tr>\n",
       "    <tr>\n",
       "      <th>0</th>\n",
       "      <td>simple RNN</td>\n",
       "      <td>7.040679</td>\n",
       "    </tr>\n",
       "    <tr>\n",
       "      <th>0</th>\n",
       "      <td>simple RNN with more layers</td>\n",
       "      <td>14.991617</td>\n",
       "    </tr>\n",
       "    <tr>\n",
       "      <th>0</th>\n",
       "      <td>LSTM RNN</td>\n",
       "      <td>25.769451</td>\n",
       "    </tr>\n",
       "    <tr>\n",
       "      <th>0</th>\n",
       "      <td>GRU with more layers</td>\n",
       "      <td>27.248037</td>\n",
       "    </tr>\n",
       "    <tr>\n",
       "      <th>0</th>\n",
       "      <td>Normal NN</td>\n",
       "      <td>32.087254</td>\n",
       "    </tr>\n",
       "  </tbody>\n",
       "</table>\n",
       "</div>"
      ],
      "text/plain": [
       "                         model        MSE\n",
       "0                       Conv1D   4.510275\n",
       "0                   simple RNN   7.040679\n",
       "0  simple RNN with more layers  14.991617\n",
       "0                     LSTM RNN  25.769451\n",
       "0         GRU with more layers  27.248037\n",
       "0                    Normal NN  32.087254"
      ]
     },
     "execution_count": 90,
     "metadata": {},
     "output_type": "execute_result"
    }
   ],
   "source": [
    "performance.sort_values(by='MSE')"
   ]
  },
  {
   "cell_type": "markdown",
   "metadata": {},
   "source": [
    "After executing the above dataset with all the models the best model is Conv1D with 4.5 Mean Square Error."
   ]
  }
 ],
 "metadata": {
  "kernelspec": {
   "display_name": "Python 3 (ipykernel)",
   "language": "python",
   "name": "python3"
  },
  "language_info": {
   "codemirror_mode": {
    "name": "ipython",
    "version": 3
   },
   "file_extension": ".py",
   "mimetype": "text/x-python",
   "name": "python",
   "nbconvert_exporter": "python",
   "pygments_lexer": "ipython3",
   "version": "3.9.13"
  },
  "nav_menu": {},
  "toc": {
   "base_numbering": 1,
   "nav_menu": {},
   "number_sections": false,
   "sideBar": true,
   "skip_h1_title": false,
   "title_cell": "Table of Contents",
   "title_sidebar": "Contents",
   "toc_cell": false,
   "toc_position": {},
   "toc_section_display": "block",
   "toc_window_display": false
  },
  "varInspector": {
   "cols": {
    "lenName": 16,
    "lenType": 16,
    "lenVar": 40
   },
   "kernels_config": {
    "python": {
     "delete_cmd_postfix": "",
     "delete_cmd_prefix": "del ",
     "library": "var_list.py",
     "varRefreshCmd": "print(var_dic_list())"
    },
    "r": {
     "delete_cmd_postfix": ") ",
     "delete_cmd_prefix": "rm(",
     "library": "var_list.r",
     "varRefreshCmd": "cat(var_dic_list()) "
    }
   },
   "types_to_exclude": [
    "module",
    "function",
    "builtin_function_or_method",
    "instance",
    "_Feature"
   ],
   "window_display": false
  }
 },
 "nbformat": 4,
 "nbformat_minor": 4
}
